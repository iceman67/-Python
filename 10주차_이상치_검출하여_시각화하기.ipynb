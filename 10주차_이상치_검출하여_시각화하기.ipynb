{
  "nbformat": 4,
  "nbformat_minor": 0,
  "metadata": {
    "colab": {
      "name": "10주차 이상치 검출하여 시각화하기",
      "private_outputs": true,
      "provenance": [],
      "collapsed_sections": [],
      "include_colab_link": true
    },
    "kernelspec": {
      "name": "python3",
      "display_name": "Python 3"
    },
    "language_info": {
      "name": "python"
    }
  },
  "cells": [
    {
      "cell_type": "markdown",
      "metadata": {
        "id": "view-in-github",
        "colab_type": "text"
      },
      "source": [
        "<a href=\"https://colab.research.google.com/github/iceman67/-Python/blob/master/10%EC%A3%BC%EC%B0%A8_%EC%9D%B4%EC%83%81%EC%B9%98_%EA%B2%80%EC%B6%9C%ED%95%98%EC%97%AC_%EC%8B%9C%EA%B0%81%ED%99%94%ED%95%98%EA%B8%B0.ipynb\" target=\"_parent\"><img src=\"https://colab.research.google.com/assets/colab-badge.svg\" alt=\"Open In Colab\"/></a>"
      ]
    },
    {
      "cell_type": "markdown",
      "metadata": {
        "id": "Dg6Vtq5YkH6o"
      },
      "source": [
        "* CSV 파일을 읽어 numpy 배열로 구성"
      ]
    },
    {
      "cell_type": "code",
      "metadata": {
        "id": "hGEWaFRRkVwf"
      },
      "source": [
        "URL = \"https://raw.githubusercontent.com/iceman67/-Python/master/weather-119-10-large.csv\""
      ],
      "execution_count": null,
      "outputs": []
    },
    {
      "cell_type": "code",
      "metadata": {
        "id": "6Hgeqel_WrMd"
      },
      "source": [
        "import numpy as np\n",
        "import matplotlib.pyplot as plt\n",
        "\n",
        "data = np.genfromtxt(URL, delimiter=',')\n",
        "\n",
        "temp = data[1:, 4]"
      ],
      "execution_count": null,
      "outputs": []
    },
    {
      "cell_type": "code",
      "metadata": {
        "id": "QlLD-lm-dyZi"
      },
      "source": [
        "#이상치 발견 결과 시각화\n",
        "\n",
        "X = np.array(temp, dtype=float)\n",
        "threshold = 1.5\n",
        "z = (X - X.mean()) / X.std()\n",
        "\n",
        "anomaly_detective = lambda x : abs(x) > threshold\n",
        "\n",
        "A = list(filter(anomaly_detective,z))\n",
        "\n",
        "plt.figure(figsize=(16,9))\n",
        "plt.title(\"Outlier\",size=30,color='b')\n",
        "plt.plot(A,color='lightblue')\n",
        "plt.show()"
      ],
      "execution_count": null,
      "outputs": []
    },
    {
      "cell_type": "code",
      "metadata": {
        "id": "h68UKNDEj5e2"
      },
      "source": [
        "#임계값 변화에 따라 이상치의 비율을 표현\n",
        "\n",
        "th=[]\n",
        "th1=[]\n",
        "threshold = 1\n",
        "X = np.array(temp, dtype=float)\n",
        "for i in range(10):\n",
        "    threshold += 0.5\n",
        "    z = (X - X.mean()) / X.std()\n",
        "    \n",
        "    anomaly_detective = lambda x : abs(x) > threshold\n",
        "    A = list(filter(anomaly_detective,z))\n",
        "    th.append(threshold)\n",
        "    th1.append(len(A)/len(X))\n",
        "\n",
        "plt.figure(figsize=(16,9))\n",
        "plt.bar(th,th1,color='g')\n",
        "plt.title(\"anomaly rate\",size=30)\n",
        "plt.xlabel(\"threshold\",size=20)\n",
        "plt.ylabel(\"rate\",size=20)\n",
        "plt.show()"
      ],
      "execution_count": null,
      "outputs": []
    },
    {
      "cell_type": "code",
      "metadata": {
        "id": "dK4eSWP0s48x"
      },
      "source": [
        "}"
      ],
      "execution_count": null,
      "outputs": []
    }
  ]
}