{
  "nbformat": 4,
  "nbformat_minor": 0,
  "metadata": {
    "colab": {
      "name": "python_Dictionary_tutorial_2020.ipynb",
      "provenance": [],
      "include_colab_link": true
    },
    "kernelspec": {
      "name": "python3",
      "display_name": "Python 3"
    }
  },
  "cells": [
    {
      "cell_type": "markdown",
      "metadata": {
        "id": "view-in-github",
        "colab_type": "text"
      },
      "source": [
        "<a href=\"https://colab.research.google.com/github/iceman67/-Python/blob/master/python_Dictionary_tutorial_2020.ipynb\" target=\"_parent\"><img src=\"https://colab.research.google.com/assets/colab-badge.svg\" alt=\"Open In Colab\"/></a>"
      ]
    },
    {
      "cell_type": "markdown",
      "metadata": {
        "id": "g2HKBUgmMJ3R"
      },
      "source": [
        "**딕셔너리** 생성 및 사용\n",
        "\n",
        "* 순서를 갖는 컬렉션, 수정가능, 중복허락하지 않음  "
      ]
    },
    {
      "cell_type": "code",
      "metadata": {
        "id": "Ri1u8bWHK8t8"
      },
      "source": [
        "country_code = {}\n",
        "\n",
        "country_code = {\"US\": 1, \"Korea\": 82, \"China\":86, \"Japan\":81}"
      ],
      "execution_count": null,
      "outputs": []
    },
    {
      "cell_type": "code",
      "metadata": {
        "colab": {
          "base_uri": "https://localhost:8080/"
        },
        "id": "GXQCsT64LR0Y",
        "outputId": "d9871026-89c5-4c59-97d6-28b6fa41ffa6"
      },
      "source": [
        "country_code"
      ],
      "execution_count": null,
      "outputs": [
        {
          "output_type": "execute_result",
          "data": {
            "text/plain": [
              "{'China': 86, 'Japan': 81, 'Korea': 82, 'US': 1}"
            ]
          },
          "metadata": {
            "tags": []
          },
          "execution_count": 3
        }
      ]
    },
    {
      "cell_type": "code",
      "metadata": {
        "id": "OX9UfS20N8rX",
        "colab": {
          "base_uri": "https://localhost:8080/"
        },
        "outputId": "435b533a-3ddd-4788-a949-cf609ab9bb2a"
      },
      "source": [
        "type(country_code)"
      ],
      "execution_count": null,
      "outputs": [
        {
          "output_type": "execute_result",
          "data": {
            "text/plain": [
              "dict"
            ]
          },
          "metadata": {
            "tags": []
          },
          "execution_count": 16
        }
      ]
    },
    {
      "cell_type": "code",
      "metadata": {
        "colab": {
          "base_uri": "https://localhost:8080/"
        },
        "id": "ydMrf3TvLYYF",
        "outputId": "eb633905-fea3-4b09-b566-02faee261cca"
      },
      "source": [
        "country_code.keys()"
      ],
      "execution_count": null,
      "outputs": [
        {
          "output_type": "execute_result",
          "data": {
            "text/plain": [
              "dict_keys(['US', 'Korea', 'China', 'Japan'])"
            ]
          },
          "metadata": {
            "tags": []
          },
          "execution_count": 4
        }
      ]
    },
    {
      "cell_type": "code",
      "metadata": {
        "id": "5k1ne0vGLcaY"
      },
      "source": [
        "country_code[\"German\"] = 49"
      ],
      "execution_count": null,
      "outputs": []
    },
    {
      "cell_type": "code",
      "metadata": {
        "colab": {
          "base_uri": "https://localhost:8080/"
        },
        "id": "btW3MSb3Li8L",
        "outputId": "5cdcaab7-feb7-45b0-b567-2427d8fa00e4"
      },
      "source": [
        "country_code\n"
      ],
      "execution_count": null,
      "outputs": [
        {
          "output_type": "execute_result",
          "data": {
            "text/plain": [
              "{'China': 86, 'German': 49, 'Japan': 81, 'Korea': 82, 'US': 1}"
            ]
          },
          "metadata": {
            "tags": []
          },
          "execution_count": 6
        }
      ]
    },
    {
      "cell_type": "code",
      "metadata": {
        "colab": {
          "base_uri": "https://localhost:8080/"
        },
        "id": "DTzfRV2wLmSx",
        "outputId": "c61a6153-c610-4c11-a935-f0532ddbf6d2"
      },
      "source": [
        "country_code.values()"
      ],
      "execution_count": null,
      "outputs": [
        {
          "output_type": "execute_result",
          "data": {
            "text/plain": [
              "dict_values([1, 82, 86, 81, 49])"
            ]
          },
          "metadata": {
            "tags": []
          },
          "execution_count": 7
        }
      ]
    },
    {
      "cell_type": "code",
      "metadata": {
        "colab": {
          "base_uri": "https://localhost:8080/"
        },
        "id": "PkQeYDvILqra",
        "outputId": "4991930e-24ff-4588-c7e5-b015ca258e41"
      },
      "source": [
        "country_code.items()"
      ],
      "execution_count": null,
      "outputs": [
        {
          "output_type": "execute_result",
          "data": {
            "text/plain": [
              "dict_items([('US', 1), ('Korea', 82), ('China', 86), ('Japan', 81), ('German', 49)])"
            ]
          },
          "metadata": {
            "tags": []
          },
          "execution_count": 8
        }
      ]
    },
    {
      "cell_type": "code",
      "metadata": {
        "colab": {
          "base_uri": "https://localhost:8080/"
        },
        "id": "DaP9VjfvLvO9",
        "outputId": "996d6894-a18b-4b50-e43f-8cbe69db11f4"
      },
      "source": [
        "for k, v in country_code.items():\n",
        "  print (f\"key = {k}, value = {v}\")"
      ],
      "execution_count": null,
      "outputs": [
        {
          "output_type": "stream",
          "text": [
            "key = US, value = 1\n",
            "key = Korea, value = 82\n",
            "key = China, value = 86\n",
            "key = Japan, value = 81\n",
            "key = German, value = 49\n"
          ],
          "name": "stdout"
        }
      ]
    },
    {
      "cell_type": "code",
      "metadata": {
        "colab": {
          "base_uri": "https://localhost:8080/"
        },
        "id": "yr4bua8hL6Kl",
        "outputId": "33440648-5b83-465d-9fa6-c5a9fd392610"
      },
      "source": [
        "if \"UK\" in country_code.keys():\n",
        "  pass\n",
        "else: \n",
        "  country_code[\"UK\"] = 44\n",
        "   \n",
        "country_code.items()"
      ],
      "execution_count": null,
      "outputs": [
        {
          "output_type": "execute_result",
          "data": {
            "text/plain": [
              "dict_items([('US', 1), ('Korea', 82), ('China', 86), ('Japan', 81), ('German', 49), ('UK', 44)])"
            ]
          },
          "metadata": {
            "tags": []
          },
          "execution_count": 11
        }
      ]
    },
    {
      "cell_type": "markdown",
      "metadata": {
        "id": "HQGEiHvbNl2h"
      },
      "source": [
        "**중복을 허락하지 않음**"
      ]
    },
    {
      "cell_type": "code",
      "metadata": {
        "colab": {
          "base_uri": "https://localhost:8080/"
        },
        "id": "_jabrJ7QM-Y_",
        "outputId": "72c309ba-eeb1-4b55-a5d6-44cfcc0811a3"
      },
      "source": [
        "country_code[\"UK\"] = 44\n",
        "country_code.items()"
      ],
      "execution_count": null,
      "outputs": [
        {
          "output_type": "execute_result",
          "data": {
            "text/plain": [
              "dict_items([('US', 1), ('Korea', 82), ('China', 86), ('Japan', 81), ('German', 49), ('UK', 44)])"
            ]
          },
          "metadata": {
            "tags": []
          },
          "execution_count": 14
        }
      ]
    },
    {
      "cell_type": "markdown",
      "metadata": {
        "id": "JxsXKScsNzfV"
      },
      "source": [
        "딕셔너리 길이 얻기"
      ]
    },
    {
      "cell_type": "code",
      "metadata": {
        "colab": {
          "base_uri": "https://localhost:8080/"
        },
        "id": "VRCTJqslNyFB",
        "outputId": "b082e8ce-ba4e-492b-9286-ef904082f66b"
      },
      "source": [
        "print(len(country_code))"
      ],
      "execution_count": null,
      "outputs": [
        {
          "output_type": "stream",
          "text": [
            "6\n"
          ],
          "name": "stdout"
        }
      ]
    }
  ]
}