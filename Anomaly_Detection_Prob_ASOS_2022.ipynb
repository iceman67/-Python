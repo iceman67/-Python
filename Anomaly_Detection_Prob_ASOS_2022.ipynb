{
  "nbformat": 4,
  "nbformat_minor": 0,
  "metadata": {
    "colab": {
      "name": "Anomaly_Detection_Prob_ASOS-2022.ipynb",
      "private_outputs": true,
      "provenance": [],
      "include_colab_link": true
    },
    "kernelspec": {
      "name": "python3",
      "display_name": "Python 3"
    },
    "language_info": {
      "name": "python"
    }
  },
  "cells": [
    {
      "cell_type": "markdown",
      "metadata": {
        "id": "view-in-github",
        "colab_type": "text"
      },
      "source": [
        "<a href=\"https://colab.research.google.com/github/iceman67/-Python/blob/master/Anomaly_Detection_Prob_ASOS_2022.ipynb\" target=\"_parent\"><img src=\"https://colab.research.google.com/assets/colab-badge.svg\" alt=\"Open In Colab\"/></a>"
      ]
    },
    {
      "cell_type": "code",
      "metadata": {
        "id": "hGEWaFRRkVwf"
      },
      "source": [
        "URL = \"https://raw.githubusercontent.com/iceman67/-Python/master/weather-119-10-large.csv\""
      ],
      "execution_count": null,
      "outputs": []
    },
    {
      "cell_type": "markdown",
      "metadata": {
        "id": "Dg6Vtq5YkH6o"
      },
      "source": [
        "* CSV 파일을 읽어 데이터프레임으로 구성"
      ]
    },
    {
      "cell_type": "code",
      "metadata": {
        "id": "6Hgeqel_WrMd"
      },
      "source": [
        "import numpy as np\n",
        "import matplotlib.pyplot as plt\n",
        "import pandas as pd\n",
        "\n",
        "data = pd.read_csv(URL)\n",
        "data.head()\n",
        "\n"
      ],
      "execution_count": null,
      "outputs": []
    },
    {
      "cell_type": "markdown",
      "source": [
        "## 메타데이터 \n",
        "* sumSsHr : 합계 일조 시간\n",
        "* sumRn : 일강수량\n",
        "* sumLrgEv : 합계 대형증발량\n",
        "* avgRhm : 평균 상대습도"
      ],
      "metadata": {
        "id": "rLVqk4lqHjme"
      }
    },
    {
      "cell_type": "code",
      "source": [
        "data.tail()"
      ],
      "metadata": {
        "id": "UAR7ETxJhaWv"
      },
      "execution_count": null,
      "outputs": []
    },
    {
      "cell_type": "code",
      "source": [
        "data.info()"
      ],
      "metadata": {
        "id": "ZipXeYWomraj"
      },
      "execution_count": null,
      "outputs": []
    },
    {
      "cell_type": "code",
      "source": [
        "data.describe()"
      ],
      "metadata": {
        "id": "J50jt0OCmunj"
      },
      "execution_count": null,
      "outputs": []
    },
    {
      "cell_type": "markdown",
      "source": [
        "## 결측치 처리\n",
        "\n",
        "* 컬럼 별 결측치 비율을 확인한다\n",
        "* 결측치 처리 "
      ],
      "metadata": {
        "id": "vsRdiYgvE6Jo"
      }
    },
    {
      "cell_type": "code",
      "source": [
        "data.isnull().sum()"
      ],
      "metadata": {
        "id": "ia_EC3WAFD9G"
      },
      "execution_count": null,
      "outputs": []
    },
    {
      "cell_type": "code",
      "source": [
        "data.isnull().sum()/len(data) * 100"
      ],
      "metadata": {
        "id": "TjqGhP4XFYOY"
      },
      "execution_count": null,
      "outputs": []
    },
    {
      "cell_type": "markdown",
      "source": [
        "* 결측치 처리방법 :  컬럼 중 하나라도 결측치가 있다면 행(row) 제거"
      ],
      "metadata": {
        "id": "jSi6ubH5NDqc"
      }
    },
    {
      "cell_type": "code",
      "source": [
        "data = data.dropna()"
      ],
      "metadata": {
        "id": "78FKX3qIimTJ"
      },
      "execution_count": null,
      "outputs": []
    },
    {
      "cell_type": "markdown",
      "metadata": {
        "id": "3marFg3xR_KV"
      },
      "source": [
        "## 상관분석\n",
        "> 평균기온과 기압과의 관계\n",
        "\n",
        "* 산포도를 통해 두변수 평균기온과 기압의 상관 파악\n",
        "* 정량화를 위해 상관 계수를 확인함 (corr)\n",
        "\n",
        "* 상관분석은 숫자로 표현 가능한 연속형 자료값에서만 가능함\n",
        "* -1과 1까지의 값으로 상관관계의 크기를 나타냄\n",
        "* 증가하는 방향성에 대한 인과관계를 의미하지 않으며, 단지 연관성의 정도만을 의미함 \n",
        "\n"
      ]
    },
    {
      "cell_type": "code",
      "metadata": {
        "id": "UF0BfRsERhAy"
      },
      "source": [
        "avg_ta = np.array(data['avgTa'])\n",
        "avg_pa = np.array(data['avgPa'])\n",
        "\n",
        "corr = np.corrcoef(avg_ta, avg_pa)\n",
        "corr"
      ],
      "execution_count": null,
      "outputs": []
    },
    {
      "cell_type": "code",
      "metadata": {
        "id": "B6peej-ZT8ik"
      },
      "source": [
        "plt.scatter(avg_ta, avg_pa)\n",
        "plt.xlabel(\"Temperature (C)\")\n",
        "plt.ylabel(\"Pressure (Hpa)\")"
      ],
      "execution_count": null,
      "outputs": []
    },
    {
      "cell_type": "markdown",
      "source": [
        "* corr메서드는 각 열 간의 상관 계수를 반환하는 메서드임"
      ],
      "metadata": {
        "id": "sNGE6xKIGMhm"
      }
    },
    {
      "cell_type": "code",
      "source": [
        "data.corr()"
      ],
      "metadata": {
        "id": "0IFr7MwpG1CE"
      },
      "execution_count": null,
      "outputs": []
    },
    {
      "cell_type": "code",
      "source": [
        "sub_data = data[ [\"avgTa\", \"minTa\", 'maxTa'] ]\n"
      ],
      "metadata": {
        "id": "nep5Q2ZwFzan"
      },
      "execution_count": null,
      "outputs": []
    },
    {
      "cell_type": "code",
      "source": [
        "sub_data.corr()"
      ],
      "metadata": {
        "id": "2hMBQdzRHFx3"
      },
      "execution_count": null,
      "outputs": []
    },
    {
      "cell_type": "code",
      "source": [
        "plt.figure()\n",
        "plt.scatter(data['avgTa'], data['minTa'])\n",
        "plt.title(\"avgTa vs. minTa\")\n",
        "plt.show()"
      ],
      "metadata": {
        "id": "ghjGZISGITen"
      },
      "execution_count": null,
      "outputs": []
    },
    {
      "cell_type": "code",
      "source": [
        "sub_data = data[ [\"avgTa\", \"avgPa\"] ]"
      ],
      "metadata": {
        "id": "X3iZBJJeG908"
      },
      "execution_count": null,
      "outputs": []
    },
    {
      "cell_type": "code",
      "source": [
        "sub_data.corr()"
      ],
      "metadata": {
        "id": "pi51u6BvGDko"
      },
      "execution_count": null,
      "outputs": []
    },
    {
      "cell_type": "code",
      "source": [
        "sub_data.corr(method='pearson')"
      ],
      "metadata": {
        "id": "KwzSnw2HGdo6"
      },
      "execution_count": null,
      "outputs": []
    },
    {
      "cell_type": "code",
      "source": [
        "sub_data.corr(method='kendall')"
      ],
      "metadata": {
        "id": "mL6wbc8TGp_b"
      },
      "execution_count": null,
      "outputs": []
    },
    {
      "cell_type": "code",
      "source": [
        "data = data.drop(['tm', 'stnId'], axis = 1)\n",
        "corr = data.corr(method='pearson')\n",
        "corr"
      ],
      "metadata": {
        "id": "zhWBYzVfk0U0"
      },
      "execution_count": null,
      "outputs": []
    },
    {
      "cell_type": "code",
      "metadata": {
        "id": "9dbPIUMRlhDY"
      },
      "source": [
        "sub_data = data [ [\"avgTa\", \"avgRhm\"]]"
      ],
      "execution_count": null,
      "outputs": []
    },
    {
      "cell_type": "code",
      "metadata": {
        "id": "HmdNYW2zlNPo"
      },
      "source": [
        "sub_data.describe()"
      ],
      "execution_count": null,
      "outputs": []
    },
    {
      "cell_type": "code",
      "metadata": {
        "id": "b-X6pm-skp3C"
      },
      "source": [
        "m = len(sub_data)"
      ],
      "execution_count": null,
      "outputs": []
    },
    {
      "cell_type": "markdown",
      "source": [
        "평균구하기"
      ],
      "metadata": {
        "id": "FFuvcKBLJWA8"
      }
    },
    {
      "cell_type": "code",
      "metadata": {
        "id": "ox8yYexVk850"
      },
      "source": [
        "s = np.sum(sub_data, axis=0)\n",
        "mu = s/m\n",
        "mu"
      ],
      "execution_count": null,
      "outputs": []
    },
    {
      "cell_type": "markdown",
      "metadata": {
        "id": "oE2mIhS4WD3b"
      },
      "source": [
        "### z-value \n",
        "* 평균값과 얼마나 거리가 먼지 계산해주는 통계적인 예측값\n",
        "\n",
        ">  z = (x – μ) / σ\n",
        "\n",
        "* x : 개별적으로 갖는 수치\n",
        "* σ : 표준편차\n",
        "* μ: 평균\n",
        "\n",
        "> 임계값보다 큰 값을 이상치(anomaly) 로 정함\n",
        "\n",
        "* 정상에서 벗어난 데이터를 이상치라고 하며 대부분 데이터가 정상일 수 있지만 그렇지 않을 수도 있음 \n",
        "* 자료에서 예상과는 다른 패턴을 보이는 개체 또는 자료를 찾기 위해 z-value을 사용할 수 있음\n",
        "\n",
        "--\n",
        "* avgTa 필드를 대상으로 z-value 를 구한다\n"
      ]
    },
    {
      "cell_type": "code",
      "metadata": {
        "id": "ZuYRJtpyGlKe"
      },
      "source": [
        "# 평균\n",
        "def mean(data):\n",
        "    \"\"\"Return the sample arithmetic mean of data.\"\"\"\n",
        "    n = len(data)\n",
        "    if n < 1:\n",
        "        raise ValueError('mean requires at least one data point')\n",
        "    return sum(data)/n # in Python 2 use sum(data)/float(n)\n",
        "\n",
        "# 편차 \n",
        "def _ss(data):\n",
        "    \"\"\"Return sum of square deviations of sequence data.\"\"\"\n",
        "    c = mean(data)\n",
        "    ss = sum((x-c)**2 for x in data)\n",
        "    return ss\n",
        "\n",
        "# 표준 편차 \n",
        "def stddev(data, ddof=0):\n",
        "    \"\"\"Calculates the population standard deviation\n",
        "    by default; specify ddof=1 to compute the sample\n",
        "    standard deviation.\"\"\"\n",
        "    n = len(data)\n",
        "    if n < 2:\n",
        "        raise ValueError('variance requires at least two data points')\n",
        "    ss = _ss(data)\n",
        "    pvar = ss/(n-ddof)\n",
        "    return pvar**0.5"
      ],
      "execution_count": null,
      "outputs": []
    },
    {
      "cell_type": "code",
      "metadata": {
        "id": "iXex2dooFkAK"
      },
      "source": [
        "def find_anomaly(data,th):\n",
        "    mean_data =  mean(data)\n",
        "    std_data =  stddev(data, ddof=1)\n",
        "    print(f'평균 : {mean_data}')\n",
        "    print(f'편차 : {std_data}')\n",
        "    threshold = th\n",
        "    z_arr = []\n",
        "    anomalies = []\n",
        "    for d in data:\n",
        "        # z값을 계산한 후 임계값보다 큰값을 이상값으로 취함\n",
        "        z = ((d - mean_data)/std_data)\n",
        "        z_arr.append(z)\n",
        "        #print (f'z = {z}, data ={d}')\n",
        "\n",
        "        if abs(z) > threshold:\n",
        "            anomalies.append(d)\n",
        "\n",
        "    print (f'anomalies in this data set : {anomalies}')\n",
        "    return z_arr\n",
        "\n"
      ],
      "execution_count": null,
      "outputs": []
    },
    {
      "cell_type": "code",
      "source": [
        "df = data [\"avgTa\"]\n",
        "threshold = 1.5\n",
        "z_value = find_anomaly(df, threshold)"
      ],
      "metadata": {
        "id": "WniHbU9GLP1I"
      },
      "execution_count": null,
      "outputs": []
    },
    {
      "cell_type": "code",
      "source": [
        "z_value"
      ],
      "metadata": {
        "id": "xxw2XxuRLYva"
      },
      "execution_count": null,
      "outputs": []
    },
    {
      "cell_type": "markdown",
      "source": [
        "## 상자 그림\n",
        "\n",
        "* 자료로부터 얻어낸 통계량인 5가지 요약 수치를 가지고 결과를 표현함\n",
        "* 최솟값, 제 1사분위 $Q_{1}$, 제 2사분위 $Q_{2}$, 제 3사분위 $Q_{3}$, 최댓값\n"
      ],
      "metadata": {
        "id": "zI3et9v5Ohtn"
      }
    },
    {
      "cell_type": "code",
      "source": [
        "fig = plt.figure(figsize =(6, 4))\n",
        " \n",
        "# Creating plot\n",
        "plt.boxplot(z_value)\n",
        " \n",
        "# show plot\n",
        "plt.show()"
      ],
      "metadata": {
        "id": "7IgZh64vLrCO"
      },
      "execution_count": null,
      "outputs": []
    },
    {
      "cell_type": "code",
      "source": [
        ""
      ],
      "metadata": {
        "id": "mP0lcmutPoDM"
      },
      "execution_count": null,
      "outputs": []
    }
  ]
}