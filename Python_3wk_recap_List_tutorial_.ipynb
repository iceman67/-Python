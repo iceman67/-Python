{
  "nbformat": 4,
  "nbformat_minor": 0,
  "metadata": {
    "kernelspec": {
      "display_name": "Python 3",
      "language": "python",
      "name": "python3"
    },
    "language_info": {
      "codemirror_mode": {
        "name": "ipython",
        "version": 3
      },
      "file_extension": ".py",
      "mimetype": "text/x-python",
      "name": "python",
      "nbconvert_exporter": "python",
      "pygments_lexer": "ipython3",
      "version": "3.7.4"
    },
    "colab": {
      "name": "Python_3wk_recap_List_tutorial .ipynb",
      "provenance": [],
      "collapsed_sections": [],
      "include_colab_link": true
    }
  },
  "cells": [
    {
      "cell_type": "markdown",
      "metadata": {
        "id": "view-in-github",
        "colab_type": "text"
      },
      "source": [
        "<a href=\"https://colab.research.google.com/github/iceman67/-Python/blob/master/Python_3wk_recap_List_tutorial_.ipynb\" target=\"_parent\"><img src=\"https://colab.research.google.com/assets/colab-badge.svg\" alt=\"Open In Colab\"/></a>"
      ]
    },
    {
      "cell_type": "markdown",
      "metadata": {
        "id": "gxbidoTGCDBp"
      },
      "source": [
        "#### 리스트 생성하기\n",
        "\n",
        "* 리스트를 만들 때는 대괄호([ ])로 감싸 주고 각 요소값은 쉼표(,)로 구분해 줌\n",
        "\n",
        "\n",
        "```\n",
        "odd = [1, 3, 5, 7, 9]\n",
        "\n",
        "리스트명 = [요소1, 요소2, 요소3, ...]\n",
        "```"
      ]
    },
    {
      "cell_type": "markdown",
      "metadata": {
        "id": "s6XZWcDuh552"
      },
      "source": [
        "다음 데이터타입의 4 위치 앞에 3 데이터를 추가하기 위한 명령어로 올바른 것은?\n",
        "\n",
        "---\n",
        "\n"
      ]
    },
    {
      "cell_type": "code",
      "metadata": {
        "id": "vgClrDkNhq2H"
      },
      "source": [
        "month=[1,2,4,5]\n",
        "month.insert(2,3)"
      ],
      "execution_count": null,
      "outputs": []
    },
    {
      "cell_type": "code",
      "metadata": {
        "colab": {
          "base_uri": "https://localhost:8080/"
        },
        "id": "IocxmMfFh3QN",
        "outputId": "15932be4-32bd-4a74-eb0a-6f5d9d1dccee"
      },
      "source": [
        "month"
      ],
      "execution_count": null,
      "outputs": [
        {
          "output_type": "execute_result",
          "data": {
            "text/plain": [
              "[1, 2, 3, 4, 5]"
            ]
          },
          "metadata": {
            "tags": []
          },
          "execution_count": 14
        }
      ]
    },
    {
      "cell_type": "code",
      "metadata": {
        "colab": {
          "base_uri": "https://localhost:8080/"
        },
        "id": "w5dUDbxGC4JS",
        "outputId": "fd3d1dcd-bf47-4016-f37e-a1d64be1a774"
      },
      "source": [
        "month[-1]"
      ],
      "execution_count": null,
      "outputs": [
        {
          "output_type": "execute_result",
          "data": {
            "text/plain": [
              "5"
            ]
          },
          "metadata": {
            "tags": []
          },
          "execution_count": 15
        }
      ]
    },
    {
      "cell_type": "markdown",
      "metadata": {
        "id": "R-UrTcriDhDk"
      },
      "source": [
        "# 두번쨰 원소에서 마지막 전 원소까지"
      ]
    },
    {
      "cell_type": "code",
      "metadata": {
        "colab": {
          "base_uri": "https://localhost:8080/"
        },
        "id": "Cf1-Mnm_DEp1",
        "outputId": "51307a46-376d-4412-b45a-23ef81bb836c"
      },
      "source": [
        "month[1:-1]"
      ],
      "execution_count": null,
      "outputs": [
        {
          "output_type": "execute_result",
          "data": {
            "text/plain": [
              "[2, 3, 4]"
            ]
          },
          "metadata": {
            "tags": []
          },
          "execution_count": 13
        }
      ]
    },
    {
      "cell_type": "markdown",
      "metadata": {
        "id": "8S_0l98GEKG-"
      },
      "source": [
        "슬라이싱 실습"
      ]
    },
    {
      "cell_type": "code",
      "metadata": {
        "colab": {
          "base_uri": "https://localhost:8080/"
        },
        "id": "k3of3ffkEC1J",
        "outputId": "cf80c734-a2a8-4a41-e171-298f03f9dcc3"
      },
      "source": [
        "month[:2]"
      ],
      "execution_count": null,
      "outputs": [
        {
          "output_type": "execute_result",
          "data": {
            "text/plain": [
              "[1, 2]"
            ]
          },
          "metadata": {
            "tags": []
          },
          "execution_count": 11
        }
      ]
    },
    {
      "cell_type": "markdown",
      "metadata": {
        "id": "xXl8HgmOEipH"
      },
      "source": [
        "리스트에 포함된 특정 원소의 개수 세기(count)"
      ]
    },
    {
      "cell_type": "code",
      "metadata": {
        "colab": {
          "base_uri": "https://localhost:8080/"
        },
        "id": "HAoruD9FEfwL",
        "outputId": "81c3d00e-f05e-4803-d076-fc63cdb57655"
      },
      "source": [
        "month.count(1)"
      ],
      "execution_count": null,
      "outputs": [
        {
          "output_type": "execute_result",
          "data": {
            "text/plain": [
              "1"
            ]
          },
          "metadata": {
            "tags": []
          },
          "execution_count": 12
        }
      ]
    },
    {
      "cell_type": "code",
      "metadata": {
        "colab": {
          "base_uri": "https://localhost:8080/"
        },
        "id": "h27FMqx6YUpK",
        "outputId": "02c176ee-72a8-4106-c2be-7228723a3fab"
      },
      "source": [
        "mylist = [\"Python\", \"HTML\", \"Java\", \"CSS\", \"JavaScript\", \"C\", \"C++\", \"Java\", \"C#\", \"Java\"]\n",
        "print(mylist.count(\"Java\"))"
      ],
      "execution_count": null,
      "outputs": [
        {
          "output_type": "stream",
          "text": [
            "3\n"
          ],
          "name": "stdout"
        }
      ]
    },
    {
      "cell_type": "markdown",
      "metadata": {
        "id": "KCs9ZAyvUgWc"
      },
      "source": [
        "리스트 슬라이싱\n"
      ]
    },
    {
      "cell_type": "code",
      "metadata": {
        "colab": {
          "base_uri": "https://localhost:8080/"
        },
        "id": "LMLt2BcVVFNB",
        "outputId": "126b4dc7-cd1f-492e-f28e-9afd88f8ad0e"
      },
      "source": [
        "mylist =[1, 2, 3, 4, 5, 6, 7, 8, 9]\n",
        "print(mylist[-3])"
      ],
      "execution_count": null,
      "outputs": [
        {
          "output_type": "stream",
          "text": [
            "7\n"
          ],
          "name": "stdout"
        }
      ]
    },
    {
      "cell_type": "code",
      "metadata": {
        "id": "Cdim_b0wULDF",
        "colab": {
          "base_uri": "https://localhost:8080/"
        },
        "outputId": "cd6141ca-55de-4fc4-c294-f4e9fff4c893"
      },
      "source": [
        "mylist =[1, 2, 3, 4, 5, 6, 7, 8, 9]\n",
        "print(mylist[1:5])"
      ],
      "execution_count": null,
      "outputs": [
        {
          "output_type": "stream",
          "text": [
            "[2, 3, 4, 5]\n"
          ],
          "name": "stdout"
        }
      ]
    },
    {
      "cell_type": "markdown",
      "metadata": {
        "id": "_0r3XYqGVeFY"
      },
      "source": [
        "**extend()** is used to add items from another list to the current list"
      ]
    },
    {
      "cell_type": "code",
      "metadata": {
        "colab": {
          "base_uri": "https://localhost:8080/"
        },
        "id": "ue0-kEvlVVr0",
        "outputId": "cbd28f2e-8656-4305-a6ad-74cb206f348e"
      },
      "source": [
        "mylist = [\"Python\", \"HTML\", \"Java\", \"CSS\"]\n",
        "mylist1 = [\"JavaScript\", \"R\", \"C++\", \"C#\"]\n",
        "mylist. extend(mylist1)\n",
        "print(mylist)\n",
        "\n"
      ],
      "execution_count": null,
      "outputs": [
        {
          "output_type": "stream",
          "text": [
            "['Python', 'HTML', 'Java', 'CSS', 'JavaScript', 'R', 'C++', 'C#']\n"
          ],
          "name": "stdout"
        }
      ]
    },
    {
      "cell_type": "markdown",
      "metadata": {
        "id": "A7bxnSy_V5jb"
      },
      "source": [
        "**remove()** is used to remove one item from the list\n"
      ]
    },
    {
      "cell_type": "code",
      "metadata": {
        "colab": {
          "base_uri": "https://localhost:8080/"
        },
        "id": "wVW-jcVfVz7U",
        "outputId": "34e71ec0-7b69-434f-a257-d4db251e5b9f"
      },
      "source": [
        "mylist = [\"Python\", \"HTML\", \"Java\", \"CSS\"]\n",
        "mylist.remove(\"HTML\")\n",
        "print(mylist)\n"
      ],
      "execution_count": null,
      "outputs": [
        {
          "output_type": "stream",
          "text": [
            "['Python', 'Java', 'CSS']\n"
          ],
          "name": "stdout"
        }
      ]
    },
    {
      "cell_type": "markdown",
      "metadata": {
        "id": "7LbFc_DWWi9a"
      },
      "source": [
        "**pop()** is used to remove particular element by referring its index value"
      ]
    },
    {
      "cell_type": "code",
      "metadata": {
        "colab": {
          "base_uri": "https://localhost:8080/"
        },
        "id": "SvYYQknkWgPO",
        "outputId": "2c79528a-da85-43a5-9f1b-b77adcc57267"
      },
      "source": [
        "mylist = [\"Python\", \"HTML\", \"Java\", \"CSS\"]\n",
        "mylist. pop(2)\n",
        "print(mylist)"
      ],
      "execution_count": null,
      "outputs": [
        {
          "output_type": "stream",
          "text": [
            "['Python', 'HTML', 'CSS']\n"
          ],
          "name": "stdout"
        }
      ]
    },
    {
      "cell_type": "markdown",
      "metadata": {
        "id": "mIq946gsW9t5"
      },
      "source": [
        "**clear()** is used to empty the list and it will return an empty list as output\n",
        "\n"
      ]
    },
    {
      "cell_type": "code",
      "metadata": {
        "colab": {
          "base_uri": "https://localhost:8080/"
        },
        "id": "oE-zT1xyW0GD",
        "outputId": "3978da1a-2364-4659-892d-fcc1599caae3"
      },
      "source": [
        "mylist = [\"Python\", \"HTML\", \"Java\", \"CSS\"]\n",
        "mylist. clear()\n",
        "print(mylist)\n"
      ],
      "execution_count": null,
      "outputs": [
        {
          "output_type": "stream",
          "text": [
            "[]\n"
          ],
          "name": "stdout"
        }
      ]
    },
    {
      "cell_type": "markdown",
      "metadata": {
        "id": "5RYr_Rl4XXSf"
      },
      "source": [
        "**del** is used to delete a particular element in a list by referring its index number"
      ]
    },
    {
      "cell_type": "code",
      "metadata": {
        "colab": {
          "base_uri": "https://localhost:8080/"
        },
        "id": "CyGNsK_3XUxq",
        "outputId": "b2cc4207-09c8-4f59-aeec-69ee0a773a3b"
      },
      "source": [
        "mylist = [\"Python\", \"HTML\", \"Java\", \"CSS\"]\n",
        "del mylist[1]\n",
        "print(mylist)"
      ],
      "execution_count": null,
      "outputs": [
        {
          "output_type": "stream",
          "text": [
            "['Python', 'Java', 'CSS']\n"
          ],
          "name": "stdout"
        }
      ]
    },
    {
      "cell_type": "code",
      "metadata": {
        "colab": {
          "base_uri": "https://localhost:8080/"
        },
        "id": "83S8fMJ7Xvuz",
        "outputId": "b59103cf-9e8e-405d-b94b-e7229c7704cf"
      },
      "source": [
        "mylist = [\"Python\", \"HTML\", \"Java\", \"CSS\", \"JavaScript\", \"C\", \"C++\"]\n",
        "del mylist[1:4]\n",
        "print(mylist)"
      ],
      "execution_count": null,
      "outputs": [
        {
          "output_type": "stream",
          "text": [
            "['Python', 'JavaScript', 'C', 'C++']\n"
          ],
          "name": "stdout"
        }
      ]
    },
    {
      "cell_type": "markdown",
      "metadata": {
        "id": "KWcR97aRYDxr"
      },
      "source": [
        "**len()** is used to find the total length of the list.\n",
        "\n"
      ]
    },
    {
      "cell_type": "code",
      "metadata": {
        "colab": {
          "base_uri": "https://localhost:8080/"
        },
        "id": "-klJIGEXW4nF",
        "outputId": "b172b535-1a70-4437-a45a-964dbf01c77f"
      },
      "source": [
        "mylist = [\"Python\", \"HTML\", \"Java\", \"CSS\", \"JavaScript\", \"C\", \"C++\"]\n",
        "print(len(mylist))"
      ],
      "execution_count": null,
      "outputs": [
        {
          "output_type": "stream",
          "text": [
            "7\n"
          ],
          "name": "stdout"
        }
      ]
    },
    {
      "cell_type": "markdown",
      "metadata": {
        "id": "lE5reZnbp8HU"
      },
      "source": [
        "#### 리스트의 평균값 구하기  \n",
        "\n",
        "```\n",
        "sum(input-list)\n",
        "\n",
        "Note: average = (sum)/(count)\n",
        "```"
      ]
    },
    {
      "cell_type": "code",
      "metadata": {
        "id": "YmTARllQp8HW",
        "colab": {
          "base_uri": "https://localhost:8080/"
        },
        "outputId": "b835b6aa-e4e0-4369-ee3f-515cc819dc52"
      },
      "source": [
        "inp_lst = [12, 45, 78, 36, 45, 237.11, -1, 88]\n",
        " \n",
        "sum_of_lst = sum(inp_lst)\n",
        " \n",
        "lst_avg = sum_of_lst/len(inp_lst)\n",
        "print(\"Average value of the list:\\n\") \n",
        "print(lst_avg) \n",
        "print(\"Average value of the list with precision upto 3 decimal value:\\n\")\n",
        "print(round(lst_avg,3))"
      ],
      "execution_count": null,
      "outputs": [
        {
          "output_type": "stream",
          "text": [
            "Average value of the list:\n",
            "\n",
            "67.51375\n",
            "Average value of the list with precision upto 3 decimal value:\n",
            "\n",
            "67.514\n"
          ],
          "name": "stdout"
        }
      ]
    },
    {
      "cell_type": "code",
      "metadata": {
        "id": "YQqQFWbRp8Hb",
        "colab": {
          "base_uri": "https://localhost:8080/"
        },
        "outputId": "b309e92c-9797-4318-8654-2c4e32473256"
      },
      "source": [
        "inp_lst = [1,2,3,4,5]\n",
        " \n",
        "sum_lst = sum(inp_lst)\n",
        "print(\"리스트 합:\") \n",
        "print(sum_lst)\n",
        "lst_avg = sum_lst/len(inp_lst) \n",
        "print(\"리스트의 평균값:\") \n",
        "print(lst_avg) "
      ],
      "execution_count": null,
      "outputs": [
        {
          "output_type": "stream",
          "text": [
            "리스트 합:\n",
            "15\n",
            "리스트의 평균값:\n",
            "3.0\n"
          ],
          "name": "stdout"
        }
      ]
    },
    {
      "cell_type": "markdown",
      "metadata": {
        "id": "D5rAARMCp8Hf"
      },
      "source": [
        "\n",
        "* reduce() function is basically used to apply a particular(input) function to the set of elements passed to the function.\n",
        "```\n",
        "reduce(function,input-list/sequence)\n",
        "```\n",
        "\n",
        "* lambda() function is used to build and form Anonymous functions i.e. function without a name or signature.\n",
        "```\n",
        "Syntax:\n",
        "lambda arguments:function\n",
        "lambda 인자 : 표현식\n",
        "```"
      ]
    },
    {
      "cell_type": "code",
      "metadata": {
        "id": "mfkYWoxOp8Hh",
        "outputId": "da022370-df15-4f81-d45b-a042b23804d1"
      },
      "source": [
        "sum = (lambda x,y: x + y)(10, 20)\n",
        "print (sum)\n",
        "sum = lambda a, b: a+b\n",
        "sum(3,4)"
      ],
      "execution_count": null,
      "outputs": [
        {
          "output_type": "stream",
          "text": [
            "30\n"
          ],
          "name": "stdout"
        },
        {
          "output_type": "execute_result",
          "data": {
            "text/plain": [
              "7"
            ]
          },
          "metadata": {
            "tags": []
          },
          "execution_count": 13
        }
      ]
    },
    {
      "cell_type": "code",
      "metadata": {
        "id": "0PUq4vDQp8Hn",
        "outputId": "bc455ac6-167c-4c8d-8b99-a75bb91f0f88"
      },
      "source": [
        "# 입력받은 자료형의 각 요소가 합수에 의해 수행된 결과를 묶어서 map iterator 객체로 리턴\n",
        "result = list(map(lambda x: x ** 2, range(5))) \n",
        "print(result)\n",
        "result = list(map(lambda i: i ** 2 , inp_lst))\n",
        "result"
      ],
      "execution_count": null,
      "outputs": [
        {
          "output_type": "stream",
          "text": [
            "[0, 1, 4, 9, 16]\n"
          ],
          "name": "stdout"
        },
        {
          "output_type": "execute_result",
          "data": {
            "text/plain": [
              "[144, 2025, 6084, 1296, 2025, 56221.15210000001, 1, 7744]"
            ]
          },
          "metadata": {
            "tags": []
          },
          "execution_count": 16
        }
      ]
    },
    {
      "cell_type": "code",
      "metadata": {
        "id": "MS-WdTUep8Hs",
        "outputId": "b7f3ad11-2ceb-4fee-a4d8-5fceee4e6cac"
      },
      "source": [
        "a = [1, 2, 3, 4, 5, 6, 7, 8, 9, 10]\n",
        "\n",
        "list(map(lambda x: str(x) if x % 3 == 0 else x, a))"
      ],
      "execution_count": null,
      "outputs": [
        {
          "output_type": "execute_result",
          "data": {
            "text/plain": [
              "[1, 2, '3', 4, 5, '6', 7, 8, '9', 10]"
            ]
          },
          "metadata": {
            "tags": []
          },
          "execution_count": 40
        }
      ]
    },
    {
      "cell_type": "code",
      "metadata": {
        "id": "bFV_1Vfep8Hz",
        "outputId": "b8a3126c-3254-4e84-e74f-4dcf482f7cb3"
      },
      "source": [
        "# 두번째 인수인 반복 가능한 자료형 요소들을 첫번째 인자 함수에 하나씩 입력하여 리턴값이 참인 것만 묶어서 반환\n",
        "result = list(filter(lambda x: x > 0, inp_lst))\n",
        "result"
      ],
      "execution_count": null,
      "outputs": [
        {
          "output_type": "execute_result",
          "data": {
            "text/plain": [
              "[12, 45, 78, 36, 45, 237.11, 88]"
            ]
          },
          "metadata": {
            "tags": []
          },
          "execution_count": 8
        }
      ]
    },
    {
      "cell_type": "code",
      "metadata": {
        "id": "ZuSPux-Yp8H4",
        "outputId": "7367ad0f-0ff5-46d9-8ef2-a711cbee4d5a"
      },
      "source": [
        "# reduce(함수, 순서형 자료)\n",
        "from functools import reduce\n",
        "reduce(lambda x, y: x+y, [1, 2, 3, 4, 5])\n",
        "# = ((((1+2)+3)+4)+5)\n",
        "reduce(lambda x, y: x + y, [1, 2, 3, 4,5], 0)"
      ],
      "execution_count": null,
      "outputs": [
        {
          "output_type": "execute_result",
          "data": {
            "text/plain": [
              "15"
            ]
          },
          "metadata": {
            "tags": []
          },
          "execution_count": 21
        }
      ]
    },
    {
      "cell_type": "code",
      "metadata": {
        "id": "wGl2i8PAp8IK",
        "outputId": "7f5920b7-56c1-41bb-b7c7-ddc2aa920cc5"
      },
      "source": [
        "# 최소값 구하기\n",
        "reduce(lambda x, y: x if x < y else y, inp_lst)"
      ],
      "execution_count": null,
      "outputs": [
        {
          "output_type": "execute_result",
          "data": {
            "text/plain": [
              "-1"
            ]
          },
          "metadata": {
            "tags": []
          },
          "execution_count": 24
        }
      ]
    },
    {
      "cell_type": "code",
      "metadata": {
        "id": "4PVKQWVSp8IO",
        "outputId": "37dd7887-ca60-4808-8cac-e4cc917c4558"
      },
      "source": [
        "# 최대값 구하기\n",
        "reduce(lambda x, y: x if x > y else y, inp_lst)"
      ],
      "execution_count": null,
      "outputs": [
        {
          "output_type": "execute_result",
          "data": {
            "text/plain": [
              "237.11"
            ]
          },
          "metadata": {
            "tags": []
          },
          "execution_count": 25
        }
      ]
    },
    {
      "cell_type": "code",
      "metadata": {
        "id": "FrOkzfSSp8IQ",
        "outputId": "29758cf1-375c-4fe8-ce0e-de34290ae981"
      },
      "source": [
        "# python3 부터 내장함수에서 빠짐\n",
        "\n",
        "from functools import reduce\n",
        "\n",
        "# 문제1. 전통적으로 최대값 구하기\n",
        "def maximum(li):\n",
        "    default = 0\n",
        "    for e in li:\n",
        "        if default < e:\n",
        "            default = e\n",
        "    return default\n",
        "maximum(inp_lst)\n",
        "\n",
        "# 문제1. reduce 활용하여 최대값 구하기\n",
        "reduce(lambda a,b: a if a > b else b ,inp_lst)"
      ],
      "execution_count": null,
      "outputs": [
        {
          "output_type": "execute_result",
          "data": {
            "text/plain": [
              "237.11"
            ]
          },
          "metadata": {
            "tags": []
          },
          "execution_count": 9
        }
      ]
    },
    {
      "cell_type": "code",
      "metadata": {
        "id": "G3yGGQzbp8IT",
        "outputId": "be757930-47de-444a-89c7-b07c2b7521cd"
      },
      "source": [
        "from functools import reduce\n",
        "\n",
        "inp_lst = [12, 45, 78, 36, 45, 237.11, -1, 88]\n",
        " \n",
        "lst_len= len(inp_lst)\n",
        " \n",
        "lst_avg = reduce(lambda x, y: x + y, inp_lst) /lst_len \n",
        "print(\"Average value of the list:\\n\") \n",
        "print(lst_avg) \n",
        "print(\"Average value of the list with precision upto 3 decimal value:\\n\")\n",
        "print(round(lst_avg,3))"
      ],
      "execution_count": null,
      "outputs": [
        {
          "output_type": "stream",
          "text": [
            "Average value of the list:\n",
            "\n",
            "67.51375\n",
            "Average value of the list with precision upto 3 decimal value:\n",
            "\n",
            "67.514\n"
          ],
          "name": "stdout"
        }
      ]
    },
    {
      "cell_type": "code",
      "metadata": {
        "id": "o8qS2OL_p8IW",
        "outputId": "7ecc70b8-0036-4147-9038-d7c0a6182b53"
      },
      "source": [
        "import numpy as np\n",
        " \n",
        "inp_lst = [1, 2, 3, 4, 5]\n",
        " \n",
        "lst_avg = np.average(inp_lst)\n",
        "print(\"Average value of the list:\\n\") \n",
        "print(lst_avg) \n",
        "\n",
        "\n",
        "\n",
        "print(\"Average value of the list with precision upto 3 decimal value:\\n\")\n",
        "print(round(lst_avg,3))"
      ],
      "execution_count": null,
      "outputs": [
        {
          "output_type": "stream",
          "text": [
            "Average value of the list:\n",
            "\n",
            "3.0\n",
            "Average value of the list with precision upto 3 decimal value:\n",
            "\n",
            "3.0\n"
          ],
          "name": "stdout"
        }
      ]
    }
  ]
}