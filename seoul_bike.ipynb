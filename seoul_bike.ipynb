{
  "nbformat": 4,
  "nbformat_minor": 0,
  "metadata": {
    "colab": {
      "name": "seoul_bike.ipynb",
      "private_outputs": true,
      "provenance": [],
      "mount_file_id": "1HPM5tz7nORVsxUCRl00euD7D7L77roVI",
      "authorship_tag": "ABX9TyMTNc4Aj4sCnETIL7PyjHV1",
      "include_colab_link": true
    },
    "kernelspec": {
      "name": "python3",
      "display_name": "Python 3"
    },
    "language_info": {
      "name": "python"
    }
  },
  "cells": [
    {
      "cell_type": "markdown",
      "metadata": {
        "id": "view-in-github",
        "colab_type": "text"
      },
      "source": [
        "<a href=\"https://colab.research.google.com/github/iceman67/-Python/blob/master/seoul_bike.ipynb\" target=\"_parent\"><img src=\"https://colab.research.google.com/assets/colab-badge.svg\" alt=\"Open In Colab\"/></a>"
      ]
    },
    {
      "cell_type": "markdown",
      "source": [
        "## 서울 자전거 대여 \n"
      ],
      "metadata": {
        "id": "0W5VlmdTHeaT"
      }
    },
    {
      "cell_type": "code",
      "execution_count": null,
      "metadata": {
        "id": "Jl69dGI5BiKX"
      },
      "outputs": [],
      "source": [
        "import pandas as pd"
      ]
    },
    {
      "cell_type": "code",
      "source": [
        "bike_seoul = \"bike_seoul_2020.csv\"\n",
        "df = pd.read_csv(bike_seoul,parse_dates=['tm'] ,thousands = ',') \n"
      ],
      "metadata": {
        "id": "ULOuZvn-Jn-r"
      },
      "execution_count": null,
      "outputs": []
    },
    {
      "cell_type": "markdown",
      "source": [
        "\n",
        "* ,를 없애고 숫자로 변환 \n",
        "df['count'] = df['count'].str.replace(',', '').astype(int)\n",
        "\n",
        "* 여러 dataFrame 을 통합함\n",
        "frames = [bike_df0, bike_df1, bike_df2, bike_df3]\n",
        "df = pd.concat(frames)"
      ],
      "metadata": {
        "id": "bywlb5sMjQx1"
      }
    },
    {
      "cell_type": "code",
      "source": [
        "type(df)"
      ],
      "metadata": {
        "id": "aAC7owxaG50A"
      },
      "execution_count": null,
      "outputs": []
    },
    {
      "cell_type": "code",
      "source": [
        "df"
      ],
      "metadata": {
        "id": "pwOk8_A3H1p5"
      },
      "execution_count": null,
      "outputs": []
    },
    {
      "cell_type": "code",
      "source": [
        "df.info()"
      ],
      "metadata": {
        "id": "d1R_DadBiech"
      },
      "execution_count": null,
      "outputs": []
    },
    {
      "cell_type": "code",
      "source": [
        "df.head()"
      ],
      "metadata": {
        "id": "zqsevmH-B9Ga"
      },
      "execution_count": null,
      "outputs": []
    },
    {
      "cell_type": "code",
      "source": [
        "df.tail()"
      ],
      "metadata": {
        "id": "UybIsW7RH6yi"
      },
      "execution_count": null,
      "outputs": []
    },
    {
      "cell_type": "code",
      "source": [
        "df.info()"
      ],
      "metadata": {
        "id": "2PtZ8fSaB_Ga"
      },
      "execution_count": null,
      "outputs": []
    },
    {
      "cell_type": "code",
      "source": [
        "df['weekday'] = df['tm'].dt.dayofweek\n"
      ],
      "metadata": {
        "id": "-fxa4UjzCjAJ"
      },
      "execution_count": null,
      "outputs": []
    },
    {
      "cell_type": "code",
      "metadata": {
        "id": "Kbr4wKUMqVZZ"
      },
      "source": [
        "\n",
        "# 요일이름 얻기  \n",
        "df['weekday_str'] = df['tm'].dt.day_name()\n",
        "print(df.columns)"
      ],
      "execution_count": null,
      "outputs": []
    },
    {
      "cell_type": "code",
      "source": [
        "df.head()"
      ],
      "metadata": {
        "id": "X6iPsW2SMkt0"
      },
      "execution_count": null,
      "outputs": []
    },
    {
      "cell_type": "code",
      "source": [
        "df['month'] = df['tm'].dt.month"
      ],
      "metadata": {
        "id": "iX7GDX1lKsgS"
      },
      "execution_count": null,
      "outputs": []
    },
    {
      "cell_type": "code",
      "source": [
        "df.columns"
      ],
      "metadata": {
        "id": "H1eKTL56kE-G"
      },
      "execution_count": null,
      "outputs": []
    },
    {
      "cell_type": "code",
      "source": [
        "df.rename(columns = {'count ':'count'},inplace=True)"
      ],
      "metadata": {
        "id": "24UL4KqZlMTN"
      },
      "execution_count": null,
      "outputs": []
    },
    {
      "cell_type": "code",
      "source": [
        "sub_df = df[ ['tm', 'month', 'count'] ]"
      ],
      "metadata": {
        "id": "RxNGXMOjj986"
      },
      "execution_count": null,
      "outputs": []
    },
    {
      "cell_type": "code",
      "source": [
        "sub_df.groupby(['month']).mean()"
      ],
      "metadata": {
        "id": "3uJIbc_9K9Ob"
      },
      "execution_count": null,
      "outputs": []
    },
    {
      "cell_type": "code",
      "source": [
        "df.head()"
      ],
      "metadata": {
        "id": "D3faKLUFDCs6"
      },
      "execution_count": null,
      "outputs": []
    },
    {
      "cell_type": "code",
      "source": [
        "df[['tm', 'count']][1:3]"
      ],
      "metadata": {
        "id": "MN2HKa9HI81i"
      },
      "execution_count": null,
      "outputs": []
    },
    {
      "cell_type": "code",
      "source": [
        "sub_df = df[ ['tm', 'weekday', 'count'] ]\n",
        "\n",
        "grouped = sub_df.groupby('weekday').sum()['count']"
      ],
      "metadata": {
        "id": "CNbEFPLiDJHB"
      },
      "execution_count": null,
      "outputs": []
    },
    {
      "cell_type": "code",
      "source": [
        "grouped"
      ],
      "metadata": {
        "id": "Or0hX6dfDPQC"
      },
      "execution_count": null,
      "outputs": []
    },
    {
      "cell_type": "code",
      "source": [
        "grouped.plot(kind='bar')"
      ],
      "metadata": {
        "id": "gKuqRh24DQCR"
      },
      "execution_count": null,
      "outputs": []
    },
    {
      "cell_type": "code",
      "source": [
        "sub_df = df[ ['tm', 'weekday_str', 'count'] ]\n",
        "grouped = sub_df.groupby('weekday_str').sum()['count']"
      ],
      "metadata": {
        "id": "UN7aQpjPmPVz"
      },
      "execution_count": null,
      "outputs": []
    },
    {
      "cell_type": "code",
      "source": [
        "grouped.plot(kind='bar')"
      ],
      "metadata": {
        "id": "7UK4nFmNmWKh"
      },
      "execution_count": null,
      "outputs": []
    },
    {
      "cell_type": "code",
      "source": [
        "grouped = df.groupby('month').sum()"
      ],
      "metadata": {
        "id": "5sM097TXNlza"
      },
      "execution_count": null,
      "outputs": []
    },
    {
      "cell_type": "code",
      "source": [
        "grouped"
      ],
      "metadata": {
        "id": "uj-BTCXBNphq"
      },
      "execution_count": null,
      "outputs": []
    },
    {
      "cell_type": "code",
      "source": [
        "grouped = df.groupby('month').sum()['count']"
      ],
      "metadata": {
        "id": "2XdWhmekNqSy"
      },
      "execution_count": null,
      "outputs": []
    },
    {
      "cell_type": "code",
      "source": [
        "grouped"
      ],
      "metadata": {
        "id": "kSEMTqDWNvbS"
      },
      "execution_count": null,
      "outputs": []
    },
    {
      "cell_type": "code",
      "source": [
        "grouped.plot(kind='bar')"
      ],
      "metadata": {
        "id": "mLDj-XnQNw-H"
      },
      "execution_count": null,
      "outputs": []
    },
    {
      "cell_type": "markdown",
      "source": [
        "### ASOS 108"
      ],
      "metadata": {
        "id": "BmMrYawNGzEB"
      }
    },
    {
      "cell_type": "markdown",
      "source": [
        "* 참고\n",
        "ADS_2022_OpenAPI_ASOS_DA.ipynb (5주)"
      ],
      "metadata": {
        "id": "Jp4hRiBdstuV"
      }
    },
    {
      "cell_type": "code",
      "metadata": {
        "id": "WGvymQbCqx8S"
      },
      "source": [
        "def set_url(key, numOfRows, startDt, endDt, stnId, ctype):\n",
        "    base = \"http://apis.data.go.kr/1360000/AsosDalyInfoService/getWthrDataList\"\n",
        "    url =f\"{base}?serviceKey={serviceKey}&pageNo=1&numOfRows={numOfRows}&dataType={ctype}&dataCd=ASOS&dateCd=DAY&startDt={startDt}&endDt={endDt}&stnIds={stnId}\"\n",
        "\n",
        "    return url\n"
      ],
      "execution_count": null,
      "outputs": []
    },
    {
      "cell_type": "code",
      "source": [
        "import requests\n",
        "\n",
        "def get_contents(URL):\n",
        "    # GET 메소드로 HTTP 요청을 전달함\n",
        "    response = requests.get(URL)\n",
        "    print (\"status code : \", response.status_code)\n",
        "    # 바이트를 문자열로 변환 \n",
        "    result = response.content.decode('utf-8')\n",
        "\n",
        "    return response"
      ],
      "metadata": {
        "id": "aFdDNVjZpjQ5"
      },
      "execution_count": null,
      "outputs": []
    },
    {
      "cell_type": "code",
      "source": [
        "def get_asos_info(response):\n",
        "    # 문자열 JSON 형식을 딕셔너리 객체로 변환 \n",
        "    #res = json.loads(result) # jon 라이브러리 사용\n",
        "    res = response.json() # requests 라이브러리 사용\n",
        "    items = res['response']['body']['items'] \n",
        "    item = items['item'] # [.... ] 배열 \n",
        "    print (len(item))\n",
        "\n",
        "    return item\n"
      ],
      "metadata": {
        "id": "Dv-WQdeZp9Jk"
      },
      "execution_count": null,
      "outputs": []
    },
    {
      "cell_type": "code",
      "metadata": {
        "id": "farXNk55rIou"
      },
      "source": [
        "serviceKey = 'y80jnESQZu1%2B%2BKrpWpkGrnZ96%2FhiBicuIH%2F3SeO0u10CK9rglO3nqmwetj8%2BRHj%2F1NWUUis4aeGnUMk1CFUYRQ%3D%3D'\n",
        "numOfRows = 400\n",
        "startDt = 20200101\n",
        "endDt = 20201231\n",
        "stnId =108 # 지역\n",
        "#URL=f\"http://apis.data.go.kr/1360000/AsosDalyInfoService/getWthrDataList?serviceKey={serviceKey}&pageNo=1&numOfRows={numOfRows}&dataType=JSON&dataCd=ASOS&dateCd=DAY&startDt={startDt}&endDt={endDt}&stnIds={stnId}\"\n",
        "#URL"
      ],
      "execution_count": null,
      "outputs": []
    },
    {
      "cell_type": "code",
      "source": [
        "URL = set_url(serviceKey, numOfRows, startDt, endDt, stnId, \"JSON\")\n",
        "result = get_contents(URL)\n",
        "item = get_asos_info(result)\n",
        "# 첫번쨰 기상정보\n"
      ],
      "metadata": {
        "id": "a5Ryi3h3pYOO"
      },
      "execution_count": null,
      "outputs": []
    },
    {
      "cell_type": "code",
      "source": [
        "# 2020 서울 날씨\n",
        "import csv\n",
        "\n",
        "max_ws = 'ASOS_108.csv'\n",
        "f = open(f'{max_ws}','w', encoding=\"cp949\")\n",
        "schema = ['stnId','tm', 'avgTa', 'avgPa', 'maxWS']\n",
        "\n",
        "wr = csv.writer(f)\n",
        "\n",
        "# 리스트 자료형을 활용하여 헤더를 출력함 \n",
        "wr.writerow([g for g in schema])   \n",
        "\n",
        "# 수집된 자료의 특징 자료만을 추출하여 출력을 위한 행을 만들어 출력함  \n",
        "for i in range(len(item)):\n",
        "     stnId = item[i]['stnId'] \n",
        "     tm = item[i]['tm'] \n",
        "     avgTa = item[i]['avgTa']\n",
        "     avgPa = item[i]['avgPa']\n",
        "     maxWs = item[i]['maxWs'] \n",
        "     wr.writerow ([ stnId, tm, avgTa, avgPa, maxWs])\n",
        "\n",
        "f.close()"
      ],
      "metadata": {
        "id": "yGfb0yv1XtGO"
      },
      "execution_count": null,
      "outputs": []
    },
    {
      "cell_type": "markdown",
      "source": [
        "* 함수로 구성"
      ],
      "metadata": {
        "id": "CiAsaZLDoATj"
      }
    },
    {
      "cell_type": "code",
      "source": [
        "import csv\n",
        "\n",
        "def write_cvs(fname,  schema,item):\n",
        "    fname = f'{fname}.csv'\n",
        "    f = open(fname,'w', encoding=\"cp949\")\n",
        "    wr = csv.writer(f)\n",
        "    # 리스트 자료형을 활용하여 헤더를 출력함 \n",
        "    wr.writerow([g for g in schema])  \n",
        "\n",
        "    # 수집된 자료의 특징 자료만을 추출하여 출력을 위한 행을 만들어 출력함  \n",
        "    for i in range(len(item)):\n",
        "        record = []\n",
        "        for j in schema:\n",
        "            record.append(item[i][j])\n",
        "        wr.writerow (record)\n",
        "    f.close()"
      ],
      "metadata": {
        "id": "vRdkMaS9XtGO"
      },
      "execution_count": null,
      "outputs": []
    },
    {
      "cell_type": "code",
      "source": [
        "asos_file_path= 'ASOS_108'\n",
        "schema = ['stnId','tm', 'avgTa', 'avgPa', 'maxWs']\n",
        "\n",
        "write_cvs(asos_file_path, schema, item)"
      ],
      "metadata": {
        "id": "E1Wl1IOtmiRG"
      },
      "execution_count": null,
      "outputs": []
    },
    {
      "cell_type": "code",
      "source": [
        "# ASOS_108.csv \n",
        "df_asos = pd.read_csv(f'{asos_file_path}.csv',parse_dates=['tm'])"
      ],
      "metadata": {
        "id": "mpUjUjGbGtjr"
      },
      "execution_count": null,
      "outputs": []
    },
    {
      "cell_type": "code",
      "source": [
        "merge_df = pd.merge(df_asos,df, how='outer',on='tm')\n"
      ],
      "metadata": {
        "id": "OkdqMV56G2cy"
      },
      "execution_count": null,
      "outputs": []
    },
    {
      "cell_type": "code",
      "source": [
        "import numpy as np\n",
        "\n",
        "merge_df['w_cond'] = np.where(merge_df['avgPa'] > 1000, True, False)"
      ],
      "metadata": {
        "id": "cK4jhhHwHBKY"
      },
      "execution_count": null,
      "outputs": []
    },
    {
      "cell_type": "code",
      "source": [
        "wgroup = merge_df.groupby(merge_df['w_cond'], as_index=False).sum()"
      ],
      "metadata": {
        "id": "Xvv8CY-pHOnD"
      },
      "execution_count": null,
      "outputs": []
    },
    {
      "cell_type": "code",
      "source": [
        "wgroup['w_cond_str'] = wgroup['w_cond'].map({True: 'Good weather', False: 'Bad weather'}) "
      ],
      "metadata": {
        "id": "SKNk5IXvHZaa"
      },
      "execution_count": null,
      "outputs": []
    },
    {
      "cell_type": "code",
      "source": [
        "import matplotlib.pyplot as plt\n",
        "\n",
        "plt.bar ( wgroup['w_cond'], wgroup['count'])"
      ],
      "metadata": {
        "id": "T3gJxHY6HP9S"
      },
      "execution_count": null,
      "outputs": []
    },
    {
      "cell_type": "code",
      "source": [
        "import matplotlib.pyplot as plt\n",
        "\n",
        "plt.bar ( wgroup['w_cond_str'], wgroup['count'])"
      ],
      "metadata": {
        "id": "nUCKozU6oz61"
      },
      "execution_count": null,
      "outputs": []
    },
    {
      "cell_type": "markdown",
      "source": [
        "* 좋은 날씨에 자전거 대여를 많이 하는 것을 확인할 수 있었음"
      ],
      "metadata": {
        "id": "Dy2qoq0yo8Zf"
      }
    },
    {
      "cell_type": "code",
      "source": [
        ""
      ],
      "metadata": {
        "id": "g68E7u65pG7g"
      },
      "execution_count": null,
      "outputs": []
    }
  ]
}