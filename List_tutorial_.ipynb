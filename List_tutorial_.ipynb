{
  "nbformat": 4,
  "nbformat_minor": 0,
  "metadata": {
    "kernelspec": {
      "display_name": "Python 3",
      "language": "python",
      "name": "python3"
    },
    "language_info": {
      "codemirror_mode": {
        "name": "ipython",
        "version": 3
      },
      "file_extension": ".py",
      "mimetype": "text/x-python",
      "name": "python",
      "nbconvert_exporter": "python",
      "pygments_lexer": "ipython3",
      "version": "3.7.4"
    },
    "colab": {
      "name": "List_tutorial .ipynb",
      "provenance": [],
      "include_colab_link": true
    }
  },
  "cells": [
    {
      "cell_type": "markdown",
      "metadata": {
        "id": "view-in-github",
        "colab_type": "text"
      },
      "source": [
        "<a href=\"https://colab.research.google.com/github/iceman67/-Python/blob/master/List_tutorial_.ipynb\" target=\"_parent\"><img src=\"https://colab.research.google.com/assets/colab-badge.svg\" alt=\"Open In Colab\"/></a>"
      ]
    },
    {
      "cell_type": "markdown",
      "metadata": {
        "id": "gxbidoTGCDBp"
      },
      "source": [
        "#### 리스트 생성하기\r\n",
        "\r\n",
        "* 리스트를 만들 때는 대괄호([ ])로 감싸 주고 각 요소값은 쉼표(,)로 구분해 줌\r\n",
        "\r\n",
        "\r\n",
        "```\r\n",
        "odd = [1, 3, 5, 7, 9]\r\n",
        "\r\n",
        "리스트명 = [요소1, 요소2, 요소3, ...]\r\n",
        "```"
      ]
    },
    {
      "cell_type": "markdown",
      "metadata": {
        "id": "s6XZWcDuh552"
      },
      "source": [
        "다음 데이터타입의 4 위치 앞에 3 데이터를 추가하기 위한 명령어로 올바른 것은?"
      ]
    },
    {
      "cell_type": "code",
      "metadata": {
        "id": "vgClrDkNhq2H"
      },
      "source": [
        "month=[1,2,4,5]\r\n",
        "month.insert(2,3)"
      ],
      "execution_count": null,
      "outputs": []
    },
    {
      "cell_type": "code",
      "metadata": {
        "colab": {
          "base_uri": "https://localhost:8080/"
        },
        "id": "IocxmMfFh3QN",
        "outputId": "07b88934-5a33-4562-8359-aef989073bb7"
      },
      "source": [
        "month"
      ],
      "execution_count": null,
      "outputs": [
        {
          "output_type": "execute_result",
          "data": {
            "text/plain": [
              "[1, 2, 3, 4, 5]"
            ]
          },
          "metadata": {
            "tags": []
          },
          "execution_count": 3
        }
      ]
    },
    {
      "cell_type": "code",
      "metadata": {
        "colab": {
          "base_uri": "https://localhost:8080/"
        },
        "id": "w5dUDbxGC4JS",
        "outputId": "5d506d3f-c65c-4748-cdfe-db05c8993c6b"
      },
      "source": [
        "month[-1]"
      ],
      "execution_count": null,
      "outputs": [
        {
          "output_type": "execute_result",
          "data": {
            "text/plain": [
              "5"
            ]
          },
          "metadata": {
            "tags": []
          },
          "execution_count": 4
        }
      ]
    },
    {
      "cell_type": "markdown",
      "metadata": {
        "id": "R-UrTcriDhDk"
      },
      "source": [
        "두번쨰 원소에서 마지막 전 원소까지"
      ]
    },
    {
      "cell_type": "code",
      "metadata": {
        "colab": {
          "base_uri": "https://localhost:8080/"
        },
        "id": "Cf1-Mnm_DEp1",
        "outputId": "a073a9b9-a00d-4887-a2ab-ed8214774dab"
      },
      "source": [
        "month[1:-1]"
      ],
      "execution_count": null,
      "outputs": [
        {
          "output_type": "execute_result",
          "data": {
            "text/plain": [
              "[2, 3, 4]"
            ]
          },
          "metadata": {
            "tags": []
          },
          "execution_count": 10
        }
      ]
    },
    {
      "cell_type": "markdown",
      "metadata": {
        "id": "8S_0l98GEKG-"
      },
      "source": [
        "**슬라이싱** 실습"
      ]
    },
    {
      "cell_type": "code",
      "metadata": {
        "colab": {
          "base_uri": "https://localhost:8080/"
        },
        "id": "k3of3ffkEC1J",
        "outputId": "cf80c734-a2a8-4a41-e171-298f03f9dcc3"
      },
      "source": [
        "month[:2]"
      ],
      "execution_count": null,
      "outputs": [
        {
          "output_type": "execute_result",
          "data": {
            "text/plain": [
              "[1, 2]"
            ]
          },
          "metadata": {
            "tags": []
          },
          "execution_count": 11
        }
      ]
    },
    {
      "cell_type": "markdown",
      "metadata": {
        "id": "xXl8HgmOEipH"
      },
      "source": [
        "리스트에 포함된 특정 원소의 개수 세기(count)"
      ]
    },
    {
      "cell_type": "code",
      "metadata": {
        "colab": {
          "base_uri": "https://localhost:8080/"
        },
        "id": "HAoruD9FEfwL",
        "outputId": "81c3d00e-f05e-4803-d076-fc63cdb57655"
      },
      "source": [
        "month.count(1)"
      ],
      "execution_count": null,
      "outputs": [
        {
          "output_type": "execute_result",
          "data": {
            "text/plain": [
              "1"
            ]
          },
          "metadata": {
            "tags": []
          },
          "execution_count": 12
        }
      ]
    },
    {
      "cell_type": "markdown",
      "metadata": {
        "id": "lE5reZnbp8HU"
      },
      "source": [
        "#### Ways to Find The Average of a List in Python\n",
        "\n",
        "\n",
        "sum(input-list)\n",
        "\n",
        "Note: average = (sum)/(count)"
      ]
    },
    {
      "cell_type": "code",
      "metadata": {
        "id": "YmTARllQp8HW",
        "colab": {
          "base_uri": "https://localhost:8080/"
        },
        "outputId": "b835b6aa-e4e0-4369-ee3f-515cc819dc52"
      },
      "source": [
        "inp_lst = [12, 45, 78, 36, 45, 237.11, -1, 88]\n",
        " \n",
        "sum_of_lst = sum(inp_lst)\n",
        " \n",
        "lst_avg = sum_of_lst/len(inp_lst)\n",
        "print(\"Average value of the list:\\n\") \n",
        "print(lst_avg) \n",
        "print(\"Average value of the list with precision upto 3 decimal value:\\n\")\n",
        "print(round(lst_avg,3))"
      ],
      "execution_count": null,
      "outputs": [
        {
          "output_type": "stream",
          "text": [
            "Average value of the list:\n",
            "\n",
            "67.51375\n",
            "Average value of the list with precision upto 3 decimal value:\n",
            "\n",
            "67.514\n"
          ],
          "name": "stdout"
        }
      ]
    },
    {
      "cell_type": "code",
      "metadata": {
        "id": "YQqQFWbRp8Hb",
        "colab": {
          "base_uri": "https://localhost:8080/"
        },
        "outputId": "b309e92c-9797-4318-8654-2c4e32473256"
      },
      "source": [
        "inp_lst = [1,2,3,4,5]\n",
        " \n",
        "sum_lst = sum(inp_lst)\n",
        "print(\"리스트 합:\") \n",
        "print(sum_lst)\n",
        "lst_avg = sum_lst/len(inp_lst) \n",
        "print(\"리스트의 평균값:\") \n",
        "print(lst_avg) "
      ],
      "execution_count": null,
      "outputs": [
        {
          "output_type": "stream",
          "text": [
            "리스트 합:\n",
            "15\n",
            "리스트의 평균값:\n",
            "3.0\n"
          ],
          "name": "stdout"
        }
      ]
    },
    {
      "cell_type": "markdown",
      "metadata": {
        "id": "D5rAARMCp8Hf"
      },
      "source": [
        "reduce() function is basically used to apply a particular(input) function to the set of elements passed to the function.\n",
        "\n",
        "reduce(function,input-list/sequence)\n",
        "\n",
        "lambda() function is used to build and form Anonymous functions i.e. function without a name or signature.\n",
        "\n",
        "Syntax:\n",
        "lambda arguments:function\n",
        "\n",
        "lambda 인자 : 표현식"
      ]
    },
    {
      "cell_type": "code",
      "metadata": {
        "id": "mfkYWoxOp8Hh",
        "outputId": "da022370-df15-4f81-d45b-a042b23804d1"
      },
      "source": [
        "sum = (lambda x,y: x + y)(10, 20)\n",
        "print (sum)\n",
        "sum = lambda a, b: a+b\n",
        "sum(3,4)"
      ],
      "execution_count": null,
      "outputs": [
        {
          "output_type": "stream",
          "text": [
            "30\n"
          ],
          "name": "stdout"
        },
        {
          "output_type": "execute_result",
          "data": {
            "text/plain": [
              "7"
            ]
          },
          "metadata": {
            "tags": []
          },
          "execution_count": 13
        }
      ]
    },
    {
      "cell_type": "code",
      "metadata": {
        "id": "0PUq4vDQp8Hn",
        "outputId": "bc455ac6-167c-4c8d-8b99-a75bb91f0f88"
      },
      "source": [
        "# 입력받은 자료형의 각 요소가 합수에 의해 수행된 결과를 묶어서 map iterator 객체로 리턴\n",
        "result = list(map(lambda x: x ** 2, range(5))) \n",
        "print(result)\n",
        "result = list(map(lambda i: i ** 2 , inp_lst))\n",
        "result"
      ],
      "execution_count": null,
      "outputs": [
        {
          "output_type": "stream",
          "text": [
            "[0, 1, 4, 9, 16]\n"
          ],
          "name": "stdout"
        },
        {
          "output_type": "execute_result",
          "data": {
            "text/plain": [
              "[144, 2025, 6084, 1296, 2025, 56221.15210000001, 1, 7744]"
            ]
          },
          "metadata": {
            "tags": []
          },
          "execution_count": 16
        }
      ]
    },
    {
      "cell_type": "code",
      "metadata": {
        "id": "MS-WdTUep8Hs",
        "outputId": "b7f3ad11-2ceb-4fee-a4d8-5fceee4e6cac"
      },
      "source": [
        "a = [1, 2, 3, 4, 5, 6, 7, 8, 9, 10]\n",
        "\n",
        "list(map(lambda x: str(x) if x % 3 == 0 else x, a))"
      ],
      "execution_count": null,
      "outputs": [
        {
          "output_type": "execute_result",
          "data": {
            "text/plain": [
              "[1, 2, '3', 4, 5, '6', 7, 8, '9', 10]"
            ]
          },
          "metadata": {
            "tags": []
          },
          "execution_count": 40
        }
      ]
    },
    {
      "cell_type": "code",
      "metadata": {
        "id": "bFV_1Vfep8Hz",
        "outputId": "b8a3126c-3254-4e84-e74f-4dcf482f7cb3"
      },
      "source": [
        "# 두번째 인수인 반복 가능한 자료형 요소들을 첫번째 인자 함수에 하나씩 입력하여 리턴값이 참인 것만 묶어서 반환\n",
        "result = list(filter(lambda x: x > 0, inp_lst))\n",
        "result"
      ],
      "execution_count": null,
      "outputs": [
        {
          "output_type": "execute_result",
          "data": {
            "text/plain": [
              "[12, 45, 78, 36, 45, 237.11, 88]"
            ]
          },
          "metadata": {
            "tags": []
          },
          "execution_count": 8
        }
      ]
    },
    {
      "cell_type": "code",
      "metadata": {
        "id": "ZuSPux-Yp8H4",
        "outputId": "7367ad0f-0ff5-46d9-8ef2-a711cbee4d5a"
      },
      "source": [
        "# reduce(함수, 순서형 자료)\n",
        "from functools import reduce\n",
        "reduce(lambda x, y: x+y, [1, 2, 3, 4, 5])\n",
        "# = ((((1+2)+3)+4)+5)\n",
        "reduce(lambda x, y: x + y, [1, 2, 3, 4,5], 0)"
      ],
      "execution_count": null,
      "outputs": [
        {
          "output_type": "execute_result",
          "data": {
            "text/plain": [
              "15"
            ]
          },
          "metadata": {
            "tags": []
          },
          "execution_count": 21
        }
      ]
    },
    {
      "cell_type": "code",
      "metadata": {
        "id": "wGl2i8PAp8IK",
        "outputId": "7f5920b7-56c1-41bb-b7c7-ddc2aa920cc5"
      },
      "source": [
        "# 최소값 구하기\n",
        "reduce(lambda x, y: x if x < y else y, inp_lst)"
      ],
      "execution_count": null,
      "outputs": [
        {
          "output_type": "execute_result",
          "data": {
            "text/plain": [
              "-1"
            ]
          },
          "metadata": {
            "tags": []
          },
          "execution_count": 24
        }
      ]
    },
    {
      "cell_type": "code",
      "metadata": {
        "id": "4PVKQWVSp8IO",
        "outputId": "37dd7887-ca60-4808-8cac-e4cc917c4558"
      },
      "source": [
        "# 최대값 구하기\n",
        "reduce(lambda x, y: x if x > y else y, inp_lst)"
      ],
      "execution_count": null,
      "outputs": [
        {
          "output_type": "execute_result",
          "data": {
            "text/plain": [
              "237.11"
            ]
          },
          "metadata": {
            "tags": []
          },
          "execution_count": 25
        }
      ]
    },
    {
      "cell_type": "code",
      "metadata": {
        "id": "FrOkzfSSp8IQ",
        "outputId": "29758cf1-375c-4fe8-ce0e-de34290ae981"
      },
      "source": [
        "# python3 부터 내장함수에서 빠짐\n",
        "\n",
        "from functools import reduce\n",
        "\n",
        "# 문제1. 전통적으로 최대값 구하기\n",
        "def maximum(li):\n",
        "    default = 0\n",
        "    for e in li:\n",
        "        if default < e:\n",
        "            default = e\n",
        "    return default\n",
        "maximum(inp_lst)\n",
        "\n",
        "# 문제1. reduce 활용하여 최대값 구하기\n",
        "reduce(lambda a,b: a if a > b else b ,inp_lst)"
      ],
      "execution_count": null,
      "outputs": [
        {
          "output_type": "execute_result",
          "data": {
            "text/plain": [
              "237.11"
            ]
          },
          "metadata": {
            "tags": []
          },
          "execution_count": 9
        }
      ]
    },
    {
      "cell_type": "code",
      "metadata": {
        "id": "G3yGGQzbp8IT",
        "outputId": "be757930-47de-444a-89c7-b07c2b7521cd"
      },
      "source": [
        "from functools import reduce\n",
        "\n",
        "inp_lst = [12, 45, 78, 36, 45, 237.11, -1, 88]\n",
        " \n",
        "lst_len= len(inp_lst)\n",
        " \n",
        "lst_avg = reduce(lambda x, y: x + y, inp_lst) /lst_len \n",
        "print(\"Average value of the list:\\n\") \n",
        "print(lst_avg) \n",
        "print(\"Average value of the list with precision upto 3 decimal value:\\n\")\n",
        "print(round(lst_avg,3))"
      ],
      "execution_count": null,
      "outputs": [
        {
          "output_type": "stream",
          "text": [
            "Average value of the list:\n",
            "\n",
            "67.51375\n",
            "Average value of the list with precision upto 3 decimal value:\n",
            "\n",
            "67.514\n"
          ],
          "name": "stdout"
        }
      ]
    },
    {
      "cell_type": "code",
      "metadata": {
        "id": "o8qS2OL_p8IW",
        "outputId": "7ecc70b8-0036-4147-9038-d7c0a6182b53"
      },
      "source": [
        "import numpy as np\n",
        " \n",
        "inp_lst = [1, 2, 3, 4, 5]\n",
        " \n",
        "lst_avg = np.average(inp_lst)\n",
        "print(\"Average value of the list:\\n\") \n",
        "print(lst_avg) \n",
        "\n",
        "\n",
        "\n",
        "print(\"Average value of the list with precision upto 3 decimal value:\\n\")\n",
        "print(round(lst_avg,3))"
      ],
      "execution_count": null,
      "outputs": [
        {
          "output_type": "stream",
          "text": [
            "Average value of the list:\n",
            "\n",
            "3.0\n",
            "Average value of the list with precision upto 3 decimal value:\n",
            "\n",
            "3.0\n"
          ],
          "name": "stdout"
        }
      ]
    }
  ]
}