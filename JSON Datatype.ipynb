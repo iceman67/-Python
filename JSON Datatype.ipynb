{
 "cells": [
  {
   "cell_type": "code",
   "execution_count": 3,
   "metadata": {},
   "outputs": [
    {
     "name": "stdout",
     "output_type": "stream",
     "text": [
      "[{'name': '홍길동', 'age': '33'}]\n"
     ]
    }
   ],
   "source": [
    "import json\n",
    "\n",
    "json_str = '[{\"name\":\"홍길동\", \"age\":\"33\"}]'\n",
    "json_obj = json.loads(json_str)\n",
    "\n",
    "print(json_obj)"
   ]
  },
  {
   "cell_type": "code",
   "execution_count": 4,
   "metadata": {},
   "outputs": [
    {
     "name": "stdout",
     "output_type": "stream",
     "text": [
      "{'name': '홍길동', 'age': '33'}\n"
     ]
    }
   ],
   "source": [
    "print(json_obj[0])"
   ]
  },
  {
   "cell_type": "code",
   "execution_count": 5,
   "metadata": {},
   "outputs": [
    {
     "name": "stdout",
     "output_type": "stream",
     "text": [
      "{'name': '성춘향', 'age': '25'}\n",
      "[{'name': '이몽룡', 'age': '33'}, {'name': '성춘향', 'age': '25'}]\n"
     ]
    }
   ],
   "source": [
    "json_str = '[{\"name\":\"이몽룡\", \"age\":\"33\"}, {\"name\":\"성춘향\", \"age\":\"25\"}]'\n",
    "json_obj = json.loads(json_str)\n",
    "\n",
    "print(json_obj[1])\n",
    "print(json_obj[0:2])\n",
    "\n"
   ]
  },
  {
   "cell_type": "code",
   "execution_count": 10,
   "metadata": {},
   "outputs": [
    {
     "ename": "IndexError",
     "evalue": "list index out of range",
     "output_type": "error",
     "traceback": [
      "\u001b[1;31m---------------------------------------------------------------------------\u001b[0m",
      "\u001b[1;31mIndexError\u001b[0m                                Traceback (most recent call last)",
      "\u001b[1;32m<ipython-input-10-246e66c83ec9>\u001b[0m in \u001b[0;36m<module>\u001b[1;34m\u001b[0m\n\u001b[1;32m----> 1\u001b[1;33m \u001b[0mprint\u001b[0m\u001b[1;33m(\u001b[0m\u001b[0mjson_obj\u001b[0m\u001b[1;33m[\u001b[0m\u001b[1;36m2\u001b[0m\u001b[1;33m]\u001b[0m\u001b[1;33m)\u001b[0m\u001b[1;33m\u001b[0m\u001b[1;33m\u001b[0m\u001b[0m\n\u001b[0m",
      "\u001b[1;31mIndexError\u001b[0m: list index out of range"
     ]
    }
   ],
   "source": [
    "# item 이 2개이후 0,1 객체를 접근할 수 있으며 3번쨰 객체 접근시 오류 발생함\n",
    "print(json_obj[2])"
   ]
  },
  {
   "cell_type": "code",
   "execution_count": 6,
   "metadata": {},
   "outputs": [
    {
     "name": "stdout",
     "output_type": "stream",
     "text": [
      "{'name': '이몽룡', 'age': '33'}\n",
      "이몽룡\n",
      "33\n"
     ]
    }
   ],
   "source": [
    "print(json_obj[0])\n",
    "# 0 번째 json_ojb에서 name을 출력함\n",
    "print(json_obj[0]['name'])\n",
    "print(json_obj[0]['age'])"
   ]
  },
  {
   "cell_type": "code",
   "execution_count": 8,
   "metadata": {},
   "outputs": [
    {
     "data": {
      "text/plain": [
       "list"
      ]
     },
     "execution_count": 8,
     "metadata": {},
     "output_type": "execute_result"
    }
   ],
   "source": [
    "type(json_obj)"
   ]
  },
  {
   "cell_type": "code",
   "execution_count": 7,
   "metadata": {},
   "outputs": [
    {
     "name": "stdout",
     "output_type": "stream",
     "text": [
      "{'name': '이몽룡', 'age': '33'}\n",
      "{'name': '성춘향', 'age': '25'}\n"
     ]
    }
   ],
   "source": [
    "for student in json_obj:\n",
    "    print(student)"
   ]
  },
  {
   "cell_type": "code",
   "execution_count": 9,
   "metadata": {},
   "outputs": [
    {
     "name": "stdout",
     "output_type": "stream",
     "text": [
      "이몽룡\n",
      "성춘향\n"
     ]
    }
   ],
   "source": [
    "for student in json_obj:\n",
    "    print(student['name'])"
   ]
  },
  {
   "cell_type": "code",
   "execution_count": null,
   "metadata": {},
   "outputs": [],
   "source": []
  }
 ],
 "metadata": {
  "kernelspec": {
   "display_name": "Python 3",
   "language": "python",
   "name": "python3"
  },
  "language_info": {
   "codemirror_mode": {
    "name": "ipython",
    "version": 3
   },
   "file_extension": ".py",
   "mimetype": "text/x-python",
   "name": "python",
   "nbconvert_exporter": "python",
   "pygments_lexer": "ipython3",
   "version": "3.7.4"
  }
 },
 "nbformat": 4,
 "nbformat_minor": 2
}
