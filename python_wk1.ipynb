{
  "nbformat": 4,
  "nbformat_minor": 2,
  "metadata": {
    "colab": {
      "name": "python_wk1.ipynb",
      "provenance": [],
      "authorship_tag": "ABX9TyPfv2EfOmt3zvbckd2nnvvo",
      "include_colab_link": true
    },
    "kernelspec": {
      "name": "python3",
      "display_name": "Python 3"
    }
  },
  "cells": [
    {
      "cell_type": "markdown",
      "source": [
        "<a href=\"https://colab.research.google.com/github/iceman67/-Python/blob/master/python_wk1.ipynb\" target=\"_parent\"><img src=\"https://colab.research.google.com/assets/colab-badge.svg\" alt=\"Open In Colab\"/></a>"
      ],
      "metadata": {
        "id": "view-in-github",
        "colab_type": "text"
      }
    },
    {
      "cell_type": "markdown",
      "source": [
        "### 연산 (operation)과 자료(valeu)"
      ],
      "metadata": {}
    },
    {
      "cell_type": "code",
      "execution_count": null,
      "source": [
        "3+5"
      ],
      "outputs": [
        {
          "output_type": "execute_result",
          "data": {
            "text/plain": [
              "8"
            ]
          },
          "metadata": {
            "tags": []
          },
          "execution_count": 1
        }
      ],
      "metadata": {
        "id": "wDuSakUFk1-C",
        "colab": {
          "base_uri": "https://localhost:8080/"
        },
        "outputId": "8a08859f-61b3-4ee4-aa38-b7e66958833b"
      }
    },
    {
      "cell_type": "code",
      "execution_count": null,
      "source": [
        "\"hello\""
      ],
      "outputs": [
        {
          "output_type": "execute_result",
          "data": {
            "text/plain": [
              "'hello'"
            ],
            "application/vnd.google.colaboratory.intrinsic+json": {
              "type": "string"
            }
          },
          "metadata": {
            "tags": []
          },
          "execution_count": 2
        }
      ],
      "metadata": {
        "id": "AoXlr_gmk-C1",
        "colab": {
          "base_uri": "https://localhost:8080/",
          "height": 35
        },
        "outputId": "7e736225-1d97-445c-eed1-061c6c2eed12"
      }
    },
    {
      "cell_type": "code",
      "execution_count": null,
      "source": [
        "5/3"
      ],
      "outputs": [
        {
          "output_type": "execute_result",
          "data": {
            "text/plain": [
              "1.6666666666666667"
            ]
          },
          "metadata": {
            "tags": []
          },
          "execution_count": 3
        }
      ],
      "metadata": {
        "id": "5kWxQQ3glI7x",
        "colab": {
          "base_uri": "https://localhost:8080/"
        },
        "outputId": "0d3f75b7-d2d6-4eb2-e8e6-0f3163bbc649"
      }
    },
    {
      "cell_type": "code",
      "execution_count": null,
      "source": [
        "5//3"
      ],
      "outputs": [
        {
          "output_type": "execute_result",
          "data": {
            "text/plain": [
              "1"
            ]
          },
          "metadata": {
            "tags": []
          },
          "execution_count": 4
        }
      ],
      "metadata": {
        "id": "RF_KEjn_lP_S",
        "colab": {
          "base_uri": "https://localhost:8080/"
        },
        "outputId": "bb05dd88-a3a6-48e6-b97b-c2f47bfd844d"
      }
    },
    {
      "cell_type": "code",
      "execution_count": null,
      "source": [
        "num1=3\n",
        "num2=5"
      ],
      "outputs": [],
      "metadata": {
        "id": "is-TilzXlXC5"
      }
    },
    {
      "cell_type": "code",
      "execution_count": null,
      "source": [
        "num2//num1"
      ],
      "outputs": [
        {
          "output_type": "execute_result",
          "data": {
            "text/plain": [
              "1"
            ]
          },
          "metadata": {
            "tags": []
          },
          "execution_count": 6
        }
      ],
      "metadata": {
        "id": "csUchCVrll01",
        "colab": {
          "base_uri": "https://localhost:8080/"
        },
        "outputId": "63ee75f1-64ac-4a88-8f54-5e1f7e3c2e40"
      }
    },
    {
      "cell_type": "markdown",
      "source": [
        "### 조건문\n",
        "> 조건식의 참(Ture)와 거짓(False)을 판별하여 실행할 문장을 선택하여 처리\n",
        "\n",
        "* if 문\n",
        "* if - else 문\n",
        "* if - elif -else 문\n"
      ],
      "metadata": {
        "id": "SWPHb8rtAcVd"
      }
    },
    {
      "cell_type": "code",
      "execution_count": null,
      "source": [
        "x = 3\n",
        "y = 2"
      ],
      "outputs": [],
      "metadata": {
        "id": "7pK8k1uCAuH1"
      }
    },
    {
      "cell_type": "code",
      "execution_count": null,
      "source": [
        "x == y"
      ],
      "outputs": [
        {
          "output_type": "execute_result",
          "data": {
            "text/plain": [
              "False"
            ]
          },
          "metadata": {
            "tags": []
          },
          "execution_count": 8
        }
      ],
      "metadata": {
        "colab": {
          "base_uri": "https://localhost:8080/"
        },
        "id": "LwoFQSmRA-Pl",
        "outputId": "1b505a88-1cca-44f1-b885-17ab7788b155"
      }
    },
    {
      "cell_type": "code",
      "execution_count": null,
      "source": [
        "x != y"
      ],
      "outputs": [
        {
          "output_type": "execute_result",
          "data": {
            "text/plain": [
              "True"
            ]
          },
          "metadata": {
            "tags": []
          },
          "execution_count": 9
        }
      ],
      "metadata": {
        "colab": {
          "base_uri": "https://localhost:8080/"
        },
        "id": "2JGl8v0-A6eS",
        "outputId": "532531c4-684a-46e0-895a-9f5b0a7fb0be"
      }
    },
    {
      "cell_type": "code",
      "execution_count": null,
      "source": [
        "x >= y"
      ],
      "outputs": [
        {
          "output_type": "execute_result",
          "data": {
            "text/plain": [
              "True"
            ]
          },
          "metadata": {
            "tags": []
          },
          "execution_count": 10
        }
      ],
      "metadata": {
        "colab": {
          "base_uri": "https://localhost:8080/"
        },
        "id": "eqT5aEG5BA8U",
        "outputId": "de1e7c69-1344-4ccd-f944-7784c8c85f93"
      }
    },
    {
      "cell_type": "code",
      "execution_count": null,
      "source": [
        "money = 1300\n",
        "\n",
        "if money >= 1200 and money < 2000:\n",
        "   print(\"You can take a bus!\")"
      ],
      "outputs": [
        {
          "output_type": "stream",
          "name": "stdout",
          "text": [
            "You can take a bus!\n"
          ]
        }
      ],
      "metadata": {
        "colab": {
          "base_uri": "https://localhost:8080/"
        },
        "id": "VmMhvQWLBVp6",
        "outputId": "532ecb0b-9d94-4176-d6fc-2553a102247c"
      }
    },
    {
      "cell_type": "code",
      "execution_count": null,
      "source": [
        "money = 1000\n",
        "if money >= 1200 and money < 2000:\n",
        "   print(\"You can take a bus!\")\n",
        "else:\n",
        "   print(\"There is no enough money\")"
      ],
      "outputs": [
        {
          "output_type": "stream",
          "name": "stdout",
          "text": [
            "There is no enough money\n"
          ]
        }
      ],
      "metadata": {
        "colab": {
          "base_uri": "https://localhost:8080/"
        },
        "id": "Bo9ea5zuBtZJ",
        "outputId": "4e23076e-9233-45ed-b7ca-5954860602a8"
      }
    },
    {
      "cell_type": "markdown",
      "source": [
        "(문제)다음 조건문의 **오류** 를 찾으시오."
      ],
      "metadata": {
        "id": "hZls4iQ8C59d"
      }
    },
    {
      "cell_type": "code",
      "execution_count": null,
      "source": [
        "if money >= 1200 and money < 2000:\n",
        "   pass\n",
        "elif money > 2000:\n",
        "   print (\"Take a bus\")\n",
        "else:\n",
        "   print(\"Take a taxi\")\n",
        "\n",
        "print (f\"money = {money}\")"
      ],
      "outputs": [
        {
          "output_type": "stream",
          "name": "stdout",
          "text": [
            "Take a taxi\n",
            "money = 1000\n"
          ]
        }
      ],
      "metadata": {
        "colab": {
          "base_uri": "https://localhost:8080/"
        },
        "id": "hHhSey5TB9YV",
        "outputId": "3b044dde-5d0d-4e54-813b-70d8f82909dc"
      }
    },
    {
      "cell_type": "markdown",
      "source": [
        "**문제해결**"
      ],
      "metadata": {
        "id": "_0_x5RDRDZ8U"
      }
    },
    {
      "cell_type": "code",
      "execution_count": null,
      "source": [
        "if money >= 1200 and money < 2000:\n",
        "    print (\"Take a bus\")\n",
        "elif money > 2000:\n",
        "   print (\"Take a bus\")\n",
        "else:\n",
        "   print(\"There is no enough money\")\n",
        "\n",
        "print (f\"money = {money}\")"
      ],
      "outputs": [
        {
          "output_type": "stream",
          "name": "stdout",
          "text": [
            "There is no enough money\n",
            "money = 1000\n"
          ]
        }
      ],
      "metadata": {
        "colab": {
          "base_uri": "https://localhost:8080/"
        },
        "id": "Zx8wH8__DL7B",
        "outputId": "36150001-4fd8-4956-95e6-989b412f9c5b"
      }
    },
    {
      "cell_type": "markdown",
      "source": [
        "**리스트에서 원소 검사**\r\n",
        "```\r\n",
        "x in 리스트\r\n",
        "x in 튜플\r\n",
        "x in 문자열\r\n",
        "```"
      ],
      "metadata": {
        "id": "_6217oKuDp8Q"
      }
    },
    {
      "cell_type": "code",
      "execution_count": null,
      "source": [
        "1 in [1,2,3]"
      ],
      "outputs": [
        {
          "output_type": "execute_result",
          "data": {
            "text/plain": [
              "True"
            ]
          },
          "metadata": {
            "tags": []
          },
          "execution_count": 15
        }
      ],
      "metadata": {
        "colab": {
          "base_uri": "https://localhost:8080/"
        },
        "id": "cYAIpzxgDf7V",
        "outputId": "0ead976b-c34b-46c4-ec54-8abc21147b90"
      }
    },
    {
      "cell_type": "code",
      "execution_count": null,
      "source": [
        "x = 4\n",
        "x in [1, 2, 3]"
      ],
      "outputs": [
        {
          "output_type": "execute_result",
          "data": {
            "text/plain": [
              "False"
            ]
          },
          "metadata": {
            "tags": []
          },
          "execution_count": 16
        }
      ],
      "metadata": {
        "colab": {
          "base_uri": "https://localhost:8080/"
        },
        "id": "6cMnQ1VUDkkI",
        "outputId": "da9e2443-3378-4ccf-b4df-48bdc81d556a"
      }
    },
    {
      "cell_type": "code",
      "execution_count": null,
      "source": [
        "x = 'e'\n",
        "\n",
        "if x in ['a','e','i','o', 'u']:\n",
        "   print (f\"{x} is vowel\")\n",
        "\n"
      ],
      "outputs": [
        {
          "output_type": "stream",
          "name": "stdout",
          "text": [
            "e is vowel\n"
          ]
        }
      ],
      "metadata": {
        "colab": {
          "base_uri": "https://localhost:8080/"
        },
        "id": "36xaTv4qES_A",
        "outputId": "55ea5d7f-7736-4e1c-b42c-75a8b1bdc67d"
      }
    },
    {
      "cell_type": "markdown",
      "source": [
        "### 반복문\n",
        "\n",
        "* 지정된 범위에 해당하는 만큼 반복해서 실행 \n",
        "* for문  와 while 문\n",
        "\n",
        "```\n",
        "for 변수 in 리스트|튜플|문자열:\n",
        "    실행문장1\n",
        "    실행문장2\n",
        "```"
      ],
      "metadata": {
        "id": "9SyrhS3RFHam"
      }
    },
    {
      "cell_type": "code",
      "execution_count": null,
      "source": [
        "word_list = ['one', 'two', 'three']\n",
        " \n",
        "length = 0\n",
        "for i in word_list:\n",
        "  print (f'list item = {i}')\n",
        "  length = length + 1\n",
        "\n",
        "print (f'total number of list = {length}')\n",
        "\n"
      ],
      "outputs": [
        {
          "output_type": "stream",
          "name": "stdout",
          "text": [
            "list item = one\n",
            "list item = two\n",
            "list item = three\n",
            "total number of list = 3\n"
          ]
        }
      ],
      "metadata": {
        "colab": {
          "base_uri": "https://localhost:8080/"
        },
        "id": "IfdO24dhFodi",
        "outputId": "54a73204-438f-4275-fb7b-4c0ecbf34a2a"
      }
    },
    {
      "cell_type": "markdown",
      "source": [
        "(문제)다음 반복문의 **오류** 를 찾으시오"
      ],
      "metadata": {
        "id": "YgPKlvBHHxWi"
      }
    },
    {
      "cell_type": "code",
      "execution_count": null,
      "source": [
        "sum = 0 \n",
        "n = 10 \n",
        "for i in range(n):\n",
        "  sum = sum + i\n",
        "\n",
        "print (f'sum of 10 to {n} = {sum}')"
      ],
      "outputs": [
        {
          "output_type": "stream",
          "name": "stdout",
          "text": [
            "sum of 10 to 10 = 45\n"
          ]
        }
      ],
      "metadata": {
        "colab": {
          "base_uri": "https://localhost:8080/"
        },
        "id": "LJf26RwuHb4W",
        "outputId": "b8daa53f-e929-4ae2-c368-9c40a6969d17"
      }
    },
    {
      "cell_type": "code",
      "execution_count": null,
      "source": [
        "sum = 0 \n",
        "n = 10 \n",
        "for i in range(n+1):\n",
        "  sum = sum + i\n",
        "\n",
        "print (f'sum of 10 to {n} = {sum}')"
      ],
      "outputs": [
        {
          "output_type": "stream",
          "name": "stdout",
          "text": [
            "sum of 10 to 10 = 55\n"
          ]
        }
      ],
      "metadata": {
        "colab": {
          "base_uri": "https://localhost:8080/"
        },
        "id": "9Nk4Lr3uH8i5",
        "outputId": "846d3d2e-a583-456a-cf40-638a368477eb"
      }
    },
    {
      "cell_type": "markdown",
      "source": [
        "(문제) if 문과 for 문 사용하기"
      ],
      "metadata": {
        "id": "-RZM6P17IAVe"
      }
    },
    {
      "cell_type": "code",
      "execution_count": null,
      "source": [
        "li = 'python'\n",
        "\n",
        "for x in li:\n",
        "  if x in ['a','e','i','o', 'u']:\n",
        "      print (f\"{li} : {x} is vowel\")\n"
      ],
      "outputs": [
        {
          "output_type": "stream",
          "name": "stdout",
          "text": [
            "python : o is vowel\n"
          ]
        }
      ],
      "metadata": {
        "colab": {
          "base_uri": "https://localhost:8080/"
        },
        "id": "HdlqytRYErwb",
        "outputId": "ed5f00b1-180e-43d7-8aeb-b3be28b7192f"
      }
    },
    {
      "cell_type": "markdown",
      "source": [
        "**(활용)** for문을 활용하여 새로운 리스트 생성하기"
      ],
      "metadata": {
        "id": "Gjq0JQvbIgKs"
      }
    },
    {
      "cell_type": "code",
      "execution_count": null,
      "source": [
        "xlist = []\n",
        "n = 10\n",
        "for i in range(n+1):\n",
        "  xlist.append(i)\n",
        "print (xlist)\n"
      ],
      "outputs": [
        {
          "output_type": "stream",
          "name": "stdout",
          "text": [
            "[0, 1, 2, 3, 4, 5, 6, 7, 8, 9, 10]\n"
          ]
        }
      ],
      "metadata": {
        "colab": {
          "base_uri": "https://localhost:8080/"
        },
        "id": "wcuaW3NmINov",
        "outputId": "e68283ad-cebe-4c7c-ef21-5960b7fb933d"
      }
    },
    {
      "cell_type": "markdown",
      "source": [
        "**(심화)** 생성된 리스트를 함수에 인수로 사용하기"
      ],
      "metadata": {
        "id": "WL7ADUuUJgK2"
      }
    },
    {
      "cell_type": "code",
      "execution_count": null,
      "source": [
        "mul = lambda x : x**2\n",
        "\n",
        "mul(2)\n",
        "ylist = []\n",
        "for x in xlist:\n",
        "  y = mul(x)\n",
        "  ylist.append(y)\n",
        "  print (f\"{y} = {x}**2\")"
      ],
      "outputs": [
        {
          "output_type": "stream",
          "name": "stdout",
          "text": [
            "0 = 0**2\n",
            "1 = 1**2\n",
            "4 = 2**2\n",
            "9 = 3**2\n",
            "16 = 4**2\n",
            "25 = 5**2\n",
            "36 = 6**2\n",
            "49 = 7**2\n",
            "64 = 8**2\n",
            "81 = 9**2\n",
            "100 = 10**2\n"
          ]
        }
      ],
      "metadata": {
        "colab": {
          "base_uri": "https://localhost:8080/"
        },
        "id": "nyOw1zKCI3Oo",
        "outputId": "b0a903c4-b576-4966-cd92-adcfb4a6b19b"
      }
    },
    {
      "cell_type": "code",
      "execution_count": null,
      "source": [
        "import matplotlib.pyplot as plt\n",
        "\n",
        "plt.plot(xlist,ylist)"
      ],
      "outputs": [
        {
          "output_type": "execute_result",
          "data": {
            "text/plain": [
              "[<matplotlib.lines.Line2D at 0x7f419be22da0>]"
            ]
          },
          "metadata": {
            "tags": []
          },
          "execution_count": 37
        },
        {
          "output_type": "display_data",
          "data": {
            "text/plain": [
              "<Figure size 432x288 with 1 Axes>"
            ],
            "image/png": "[encoded data removed]"
          },
          "metadata": {
            "tags": [],
            "needs_background": "light"
          }
        }
      ],
      "metadata": {
        "colab": {
          "base_uri": "https://localhost:8080/",
          "height": 283
        },
        "id": "lFVVTmNLKFde",
        "outputId": "066e23d4-188d-4bd2-8660-5dc686a1a605"
      }
    },
    {
      "cell_type": "markdown",
      "source": [
        "### 함수\n",
        "\n",
        "* 특정작업을 나타내는 코드블록\n",
        "* 사용자가 만드는 사용자 정의함수와 print() 함수와 같은 파이썬 제공 내장함수가 있음 \n",
        "\n",
        "\n",
        "> 내장함수가 있으면 최대한 활용하도록 하는것이 효과적임 \n",
        "* https://docs.python.org/ko/3/library/functions.html  \n",
        "\n",
        "``` \n",
        "def 함수명(인수):\n",
        "    명령문1\n",
        "    명령문2\n",
        "    return 1개 이상의 변수\n",
        "\n",
        "def 함수명(*인수):\n",
        "    명령문1\n",
        "    명령문2\n",
        "    return 1개 이상의 변수\n",
        "\n",
        "```\n"
      ],
      "metadata": {
        "id": "XjFfNK05Ka5J"
      }
    },
    {
      "cell_type": "code",
      "execution_count": null,
      "source": [
        "def mul(x):\n",
        "  return (x**2)\n",
        "\n",
        "\n",
        "for x in xlist:\n",
        "  y = mul(x)\n",
        "  print (f\"{y} = {x}**2\")"
      ],
      "outputs": [
        {
          "output_type": "stream",
          "name": "stdout",
          "text": [
            "0 = 0**2\n",
            "1 = 1**2\n",
            "4 = 2**2\n",
            "9 = 3**2\n",
            "16 = 4**2\n",
            "25 = 5**2\n",
            "36 = 6**2\n",
            "49 = 7**2\n",
            "64 = 8**2\n",
            "81 = 9**2\n",
            "100 = 10**2\n"
          ]
        }
      ],
      "metadata": {
        "colab": {
          "base_uri": "https://localhost:8080/"
        },
        "id": "SCPOhvu-KvrQ",
        "outputId": "ee860f91-44c7-4310-e5b5-9f033dce04b1"
      }
    },
    {
      "cell_type": "markdown",
      "source": [
        "### 딕셔너리 \n",
        "* immutable한 키(key)와 mutable한 값(value)으로 맵핑되어 있는 순서가 없는 집합\n",
        "* 중괄호로 되어 있고 키와 값으로 구성"
      ],
      "metadata": {
        "id": "6pX_AaKxXqIl"
      }
    },
    {
      "cell_type": "code",
      "execution_count": null,
      "source": [
        "d = {\"a\" : 1, \"b\":2}\n",
        "d['a']"
      ],
      "outputs": [
        {
          "output_type": "execute_result",
          "data": {
            "text/plain": [
              "1"
            ]
          },
          "metadata": {
            "tags": []
          },
          "execution_count": 20
        }
      ],
      "metadata": {
        "colab": {
          "base_uri": "https://localhost:8080/"
        },
        "id": "FYAqTLwHZQAY",
        "outputId": "84a3f00a-d4cd-43fb-8729-d50cafc32239"
      }
    },
    {
      "cell_type": "code",
      "execution_count": null,
      "source": [
        "d = {1:'a', 2:'b', 3:'c'}\n",
        "for x in d.keys():\n",
        "  print(d[x])"
      ],
      "outputs": [
        {
          "output_type": "stream",
          "name": "stdout",
          "text": [
            "a\n",
            "b\n",
            "c\n"
          ]
        }
      ],
      "metadata": {
        "colab": {
          "base_uri": "https://localhost:8080/"
        },
        "id": "LhWPpZ4kXKiw",
        "outputId": "c3efcd05-a29e-42c1-e085-d5c3afb39b32"
      }
    },
    {
      "cell_type": "code",
      "execution_count": null,
      "source": [
        "d[4] = 'd'\n",
        "d"
      ],
      "outputs": [
        {
          "output_type": "execute_result",
          "data": {
            "text/plain": [
              "{1: 'a', 2: 'b', 3: 'c', 4: 'd'}"
            ]
          },
          "metadata": {
            "tags": []
          },
          "execution_count": 22
        }
      ],
      "metadata": {
        "colab": {
          "base_uri": "https://localhost:8080/"
        },
        "id": "RJOuRJeaZBTL",
        "outputId": "9222f08c-1af0-42bb-ac1b-b3cd55dbc1bd"
      }
    },
    {
      "cell_type": "markdown",
      "source": [
        "* 키로는 immutable한 값은 사용할 수 있지만, mutable한 객체는 사용할 수 없음"
      ],
      "metadata": {
        "id": "2JMdRAysYhlU"
      }
    },
    {
      "cell_type": "code",
      "execution_count": null,
      "source": [
        "a = {(1,5): 5, (3,3): 3} # tuple사용"
      ],
      "outputs": [],
      "metadata": {
        "id": "kuhK-1xGYTA9"
      }
    },
    {
      "cell_type": "code",
      "execution_count": null,
      "source": [
        "for x in a.keys():\n",
        "  print(a[x])"
      ],
      "outputs": [
        {
          "output_type": "stream",
          "name": "stdout",
          "text": [
            "5\n",
            "3\n"
          ]
        }
      ],
      "metadata": {
        "colab": {
          "base_uri": "https://localhost:8080/"
        },
        "id": "VyXyNx4oYT3V",
        "outputId": "3e0fb931-9aca-4473-9f7e-c4604573259b"
      }
    },
    {
      "cell_type": "markdown",
      "source": [
        "* 값은 중복될 수 있지만, 키가 중복되면 마지막 값으로 갱신됨"
      ],
      "metadata": {
        "id": "pwaoF3h2Yxj_"
      }
    },
    {
      "cell_type": "code",
      "execution_count": null,
      "source": [
        "{\"a\" : 1, \"a\":2}"
      ],
      "outputs": [
        {
          "output_type": "execute_result",
          "data": {
            "text/plain": [
              "{'a': 2}"
            ]
          },
          "metadata": {
            "tags": []
          },
          "execution_count": 25
        }
      ],
      "metadata": {
        "colab": {
          "base_uri": "https://localhost:8080/"
        },
        "id": "4JruclREYvXJ",
        "outputId": "e4193fed-228b-49fa-b112-076247d0ce39"
      }
    }
  ]
}