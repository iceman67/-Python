{
  "nbformat": 4,
  "nbformat_minor": 0,
  "metadata": {
    "colab": {
      "name": "ASOS openAPI to CSV.ipynb",
      "private_outputs": true,
      "provenance": [],
      "authorship_tag": "ABX9TyNQVwmJpm8RQWdHfWYBQgvi",
      "include_colab_link": true
    },
    "kernelspec": {
      "name": "python3",
      "display_name": "Python 3"
    },
    "language_info": {
      "name": "python"
    }
  },
  "cells": [
    {
      "cell_type": "markdown",
      "metadata": {
        "id": "view-in-github",
        "colab_type": "text"
      },
      "source": [
        "<a href=\"https://colab.research.google.com/github/iceman67/-Python/blob/master/ASOS_openAPI_to_CSV.ipynb\" target=\"_parent\"><img src=\"https://colab.research.google.com/assets/colab-badge.svg\" alt=\"Open In Colab\"/></a>"
      ]
    },
    {
      "cell_type": "markdown",
      "source": [
        "### ASOS openAPI to CSV"
      ],
      "metadata": {
        "id": "Jp4hRiBdstuV"
      }
    },
    {
      "cell_type": "code",
      "source": [
        "import requests"
      ],
      "metadata": {
        "id": "dlsjWzb-LX3X"
      },
      "execution_count": null,
      "outputs": []
    },
    {
      "cell_type": "code",
      "metadata": {
        "id": "WGvymQbCqx8S"
      },
      "source": [
        "def set_url(key, numOfRows, startDt, endDt, stnId, ctype):\n",
        "    base = \"http://apis.data.go.kr/1360000/AsosDalyInfoService/getWthrDataList\"\n",
        "    url =f\"{base}?serviceKey={serviceKey}&pageNo=1&numOfRows={numOfRows}&dataType={ctype}&dataCd=ASOS&dateCd=DAY&startDt={startDt}&endDt={endDt}&stnIds={stnId}\"\n",
        "\n",
        "    return url\n"
      ],
      "execution_count": null,
      "outputs": []
    },
    {
      "cell_type": "code",
      "source": [
        "# import requests\n",
        "\n",
        "def get_contents(URL):\n",
        "    # GET 메소드로 HTTP 요청을 전달함\n",
        "    response = requests.get(URL)\n",
        "    print (\"status code : \", response.status_code)\n",
        "    # 바이트를 문자열로 변환 \n",
        "    result = response.content.decode('utf-8')\n",
        "\n",
        "    return response"
      ],
      "metadata": {
        "id": "aFdDNVjZpjQ5"
      },
      "execution_count": null,
      "outputs": []
    },
    {
      "cell_type": "code",
      "source": [
        "def get_asos_info(response):\n",
        "    # 문자열 JSON 형식을 딕셔너리 객체로 변환 \n",
        "    #res = json.loads(result) # jon 라이브러리 사용\n",
        "    res = response.json() # requests 라이브러리 사용\n",
        "    items = res['response']['body']['items'] \n",
        "    item = items['item'] # [.... ] 배열 \n",
        "    print (len(item))\n",
        "\n",
        "    return item\n"
      ],
      "metadata": {
        "id": "Dv-WQdeZp9Jk"
      },
      "execution_count": null,
      "outputs": []
    },
    {
      "cell_type": "code",
      "metadata": {
        "id": "farXNk55rIou"
      },
      "source": [
        "serviceKey = 'y80jnESQZu1%2B%2BKrpWpkGrnZ96%2FhiBicuIH%2F3SeO0u10CK9rglO3nqmwetj8%2BRHj%2F1NWUUis4aeGnUMk1CFUYRQ%3D%3D'\n",
        "numOfRows = 400\n",
        "startDt = 20180101\n",
        "endDt = 20181231\n",
        "stnId =108 # 지역\n",
        "#URL=f\"http://apis.data.go.kr/1360000/AsosDalyInfoService/getWthrDataList?serviceKey={serviceKey}&pageNo=1&numOfRows={numOfRows}&dataType=JSON&dataCd=ASOS&dateCd=DAY&startDt={startDt}&endDt={endDt}&stnIds={stnId}\"\n",
        "#URL"
      ],
      "execution_count": null,
      "outputs": []
    },
    {
      "cell_type": "code",
      "source": [
        "URL = set_url(serviceKey, numOfRows, startDt, endDt, stnId, \"JSON\")\n",
        "result = get_contents(URL)\n",
        "item = get_asos_info(result)\n",
        "# 첫번쨰 기상정보\n"
      ],
      "metadata": {
        "id": "a5Ryi3h3pYOO"
      },
      "execution_count": null,
      "outputs": []
    },
    {
      "cell_type": "markdown",
      "source": [
        "기상정보를 확인함"
      ],
      "metadata": {
        "id": "HmW4dj7PLwlX"
      }
    },
    {
      "cell_type": "code",
      "source": [
        "item[0].keys()"
      ],
      "metadata": {
        "id": "FTW5U7m6Llac"
      },
      "execution_count": null,
      "outputs": []
    },
    {
      "cell_type": "markdown",
      "source": [
        "기상정보 선택 및 CSV 저장"
      ],
      "metadata": {
        "id": "IqpWIGtGUTNB"
      }
    },
    {
      "cell_type": "code",
      "source": [
        "import csv\n",
        "\n",
        "max_ws = 'ASOS_108.csv'\n",
        "f = open(f'{max_ws}','w', encoding=\"cp949\")\n",
        "schema = ['stnId','tm', 'avgTa', 'avgPa', 'maxWs','sumRnDur', 'minRhmHrmt', 'avgRhm']\n",
        "\n",
        "wr = csv.writer(f)\n",
        "\n",
        "# 리스트 자료형을 활용하여 헤더를 출력함 \n",
        "wr.writerow([g for g in schema])   \n",
        "\n",
        "# 수집된 자료의 특징 자료만을 추출하여 출력을 위한 행을 만들어 출력함  \n",
        "for i in range(len(item)):\n",
        "     stnId = item[i]['stnId'] \n",
        "     tm = item[i]['tm'] \n",
        "     avgTa = item[i]['avgTa']\n",
        "     avgPa = item[i]['avgPa']\n",
        "     maxWs = item[i]['maxWs'] \n",
        "     sumRnDur = item[i]['sumRnDur']\n",
        "     minRhmHrmt = item[i]['minRhmHrmt']\n",
        "     avgRhm = item[i]['avgRhm']\n",
        "     wr.writerow ([ stnId, tm, avgTa, avgPa, maxWs, sumRnDur, minRhmHrmt, avgRhm])\n",
        "\n",
        "f.close()"
      ],
      "metadata": {
        "id": "yGfb0yv1XtGO"
      },
      "execution_count": null,
      "outputs": []
    },
    {
      "cell_type": "code",
      "source": [
        "import csv\n",
        "\n",
        "def write_cvs(fname,  schema,item):\n",
        "    fname = f'{fname}.csv'\n",
        "    f = open(fname,'w', encoding=\"cp949\")\n",
        "    wr = csv.writer(f)\n",
        "    # 리스트 자료형을 활용하여 헤더를 출력함 \n",
        "    wr.writerow([g for g in schema])  \n",
        "\n",
        "    # 수집된 자료의 특징 자료만을 추출하여 출력을 위한 행을 만들어 출력함  \n",
        "    for i in range(len(item)):\n",
        "        record = []\n",
        "        for j in schema:\n",
        "            record.append(item[i][j])\n",
        "        wr.writerow (record)\n",
        "    f.close()"
      ],
      "metadata": {
        "id": "vRdkMaS9XtGO"
      },
      "execution_count": null,
      "outputs": []
    },
    {
      "cell_type": "code",
      "source": [
        "write_cvs('108', schema, item)"
      ],
      "metadata": {
        "id": "sSpz8oI2MO1S"
      },
      "execution_count": null,
      "outputs": []
    },
    {
      "cell_type": "code",
      "source": [
        "import pandas as pd\n",
        "\n",
        "infile ='ASOS_108.csv'\n",
        "#data = pd.read_csv(infile,names=['stnId','tm', 'avgTa', 'avgPa', 'maxWs','sumRnDur', 'minRhmHrmt'], parse_dates=['tm'], header=None)\n",
        "\n",
        "data = pd.read_csv(infile, parse_dates=['tm'])"
      ],
      "metadata": {
        "id": "h-oFE4-RNoWU"
      },
      "execution_count": null,
      "outputs": []
    },
    {
      "cell_type": "code",
      "source": [
        "data.head()"
      ],
      "metadata": {
        "id": "eHC0XxdGYGqi"
      },
      "execution_count": null,
      "outputs": []
    },
    {
      "cell_type": "markdown",
      "source": [
        "avgRhm가 60 보다 작으면 좋은 날씨"
      ],
      "metadata": {
        "id": "npzahD31aJ2Z"
      }
    },
    {
      "cell_type": "code",
      "source": [
        "import numpy as np\n",
        "\n",
        "data['w_cond'] = np.where(data['avgRhm'] < 65, True, False)"
      ],
      "metadata": {
        "id": "Fm-WwXRLOd0-"
      },
      "execution_count": null,
      "outputs": []
    },
    {
      "cell_type": "code",
      "source": [
        "data['w_cond_str'] = data['w_cond'].map({True: 'Good weather', False: 'Bad weather'})"
      ],
      "metadata": {
        "id": "R4jEh2lVXe4o"
      },
      "execution_count": null,
      "outputs": []
    },
    {
      "cell_type": "code",
      "source": [
        "from google.colab import drive\n",
        "drive.mount('/content/drive')\n",
        "movie_file_path = \"/content/drive/MyDrive/DA/movie2018.csv\"\n",
        "\n",
        "\n",
        "df_movie = pd.read_csv(movie_file_path, names = ['tm', 'title', 'cnt', 'salesShare', 'salesChange'], parse_dates=['tm'])"
      ],
      "metadata": {
        "id": "Vgfmq-35Oe7N"
      },
      "execution_count": null,
      "outputs": []
    },
    {
      "cell_type": "code",
      "source": [
        "df_movie.drop('salesChange',axis=1, inplace=True)\n",
        "df_movie.drop('salesShare',axis=1, inplace=True)\n",
        "grouped = df_movie.groupby(df_movie['tm'], as_index=False).sum()"
      ],
      "metadata": {
        "id": "JXH5DesLPKbe"
      },
      "execution_count": null,
      "outputs": []
    },
    {
      "cell_type": "code",
      "source": [
        "grouped.head()"
      ],
      "metadata": {
        "id": "MXdXNCKzQPFl"
      },
      "execution_count": null,
      "outputs": []
    },
    {
      "cell_type": "code",
      "source": [
        "merge_df = pd.merge(data,grouped, how='outer',on='tm')"
      ],
      "metadata": {
        "id": "ShW0iqAzPmJI"
      },
      "execution_count": null,
      "outputs": []
    },
    {
      "cell_type": "code",
      "source": [
        "merge_df.drop('stnId',axis=1, inplace=True)\n",
        "merge_df.head()"
      ],
      "metadata": {
        "id": "FXH9hr3NQ2M7"
      },
      "execution_count": null,
      "outputs": []
    },
    {
      "cell_type": "markdown",
      "source": [
        "sumRnDur과 avgRhm은 양의 상관관계를 가짐"
      ],
      "metadata": {
        "id": "zwxoI5oAZPwl"
      }
    },
    {
      "cell_type": "code",
      "source": [
        "data_corr = merge_df.corr()\n",
        "data_corr"
      ],
      "metadata": {
        "id": "nfCf4DjyQ30h"
      },
      "execution_count": null,
      "outputs": []
    },
    {
      "cell_type": "code",
      "source": [
        "wgroup = merge_df.groupby(merge_df['w_cond'], as_index=False).sum()\n",
        "wgroup['w_cond_str'] = wgroup['w_cond'].map({True: 'Good weather', False: 'Bad weather'}) \n",
        "summary = wgroup[ ['w_cond_str', 'cnt']]\n"
      ],
      "metadata": {
        "id": "MyCWn1X6Zfsw"
      },
      "execution_count": null,
      "outputs": []
    },
    {
      "cell_type": "code",
      "source": [
        "summary"
      ],
      "metadata": {
        "id": "b0FQZtVdbokG"
      },
      "execution_count": null,
      "outputs": []
    },
    {
      "cell_type": "code",
      "source": [
        "plot = summary.plot.pie(y='cnt', figsize=(5, 5))"
      ],
      "metadata": {
        "id": "5iK7nipJbIdc"
      },
      "execution_count": null,
      "outputs": []
    },
    {
      "cell_type": "code",
      "source": [
        "import matplotlib.pyplot as plt\n",
        "\n",
        "plt.bar ( wgroup['w_cond_str'], wgroup['cnt'])"
      ],
      "metadata": {
        "id": "TseTTEdIZtps"
      },
      "execution_count": null,
      "outputs": []
    }
  ]
}