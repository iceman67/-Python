{
  "nbformat": 4,
  "nbformat_minor": 0,
  "metadata": {
    "kernelspec": {
      "display_name": "Python 3",
      "language": "python",
      "name": "python3"
    },
    "language_info": {
      "codemirror_mode": {
        "name": "ipython",
        "version": 3
      },
      "file_extension": ".py",
      "mimetype": "text/x-python",
      "name": "python",
      "nbconvert_exporter": "python",
      "pygments_lexer": "ipython3",
      "version": "3.7.4"
    },
    "colab": {
      "name": "Dataframe loc.ipynb",
      "provenance": [],
      "include_colab_link": true
    }
  },
  "cells": [
    {
      "cell_type": "markdown",
      "metadata": {
        "id": "view-in-github",
        "colab_type": "text"
      },
      "source": [
        "<a href=\"https://colab.research.google.com/github/iceman67/-Python/blob/master/Dataframe_loc.ipynb\" target=\"_parent\"><img src=\"https://colab.research.google.com/assets/colab-badge.svg\" alt=\"Open In Colab\"/></a>"
      ]
    },
    {
      "cell_type": "code",
      "metadata": {
        "id": "avm9bQDv3McO"
      },
      "source": [
        "import pandas as pd"
      ],
      "execution_count": null,
      "outputs": []
    },
    {
      "cell_type": "markdown",
      "metadata": {
        "id": "0UHJnCgt3McW"
      },
      "source": [
        "#### 데이터프레임 생성"
      ]
    },
    {
      "cell_type": "code",
      "metadata": {
        "id": "Ko_i06Dq3McX"
      },
      "source": [
        "d1 = {'Name': ['John', 'Jane', 'Mary'], 'ID': [1, 2, 3], 'Role': ['CEO', 'CTO', 'CFO']}"
      ],
      "execution_count": null,
      "outputs": []
    },
    {
      "cell_type": "code",
      "metadata": {
        "scrolled": false,
        "id": "Tm3iWgjm3Mcd",
        "outputId": "74bbffc2-2d51-4c90-bc78-d841037ecaac"
      },
      "source": [
        "df = pd.DataFrame(d1)\n",
        " \n",
        "print('DataFrame:\\n', df)"
      ],
      "execution_count": null,
      "outputs": [
        {
          "output_type": "stream",
          "text": [
            "DataFrame:\n",
            "    Name  ID Role\n",
            "0  John   1  CEO\n",
            "1  Jane   2  CTO\n",
            "2  Mary   3  CFO\n"
          ],
          "name": "stdout"
        }
      ]
    },
    {
      "cell_type": "markdown",
      "metadata": {
        "id": "khFj_2T33Mck"
      },
      "source": [
        "#### 두번쨰 행(row) 얻기 "
      ]
    },
    {
      "cell_type": "code",
      "metadata": {
        "scrolled": false,
        "id": "49ZTbW5G3Mcl",
        "outputId": "da346d2d-c299-4b8a-ccb8-89706501386f"
      },
      "source": [
        "row_1_series = df.loc[1]\n",
        "print(type(row_1_series))\n",
        "print(df.loc[1])"
      ],
      "execution_count": null,
      "outputs": [
        {
          "output_type": "stream",
          "text": [
            "<class 'pandas.core.series.Series'>\n",
            "Name    Jane\n",
            "ID         2\n",
            "Role     CTO\n",
            "Name: 1, dtype: object\n"
          ],
          "name": "stdout"
        }
      ]
    },
    {
      "cell_type": "markdown",
      "metadata": {
        "id": "TUDfRFum3Mcr"
      },
      "source": [
        "#### 첫번쨰와 세번쨰 행 얻기"
      ]
    },
    {
      "cell_type": "code",
      "metadata": {
        "scrolled": true,
        "id": "ql_NE2JU3Mcs",
        "outputId": "22307fc4-30ea-4279-8c89-09e15f0969e3"
      },
      "source": [
        "row_0_2_df = df.loc[[0, 2]]\n",
        "print(type(row_0_2_df))\n",
        "print(row_0_2_df)"
      ],
      "execution_count": null,
      "outputs": [
        {
          "output_type": "stream",
          "text": [
            "<class 'pandas.core.frame.DataFrame'>\n",
            "   Name  ID Role\n",
            "0  John   1  CEO\n",
            "2  Mary   3  CFO\n"
          ],
          "name": "stdout"
        }
      ]
    },
    {
      "cell_type": "markdown",
      "metadata": {
        "id": "6rbL5JiU3Mcx"
      },
      "source": [
        "#### 단일값 얻기"
      ]
    },
    {
      "cell_type": "code",
      "metadata": {
        "id": "9zpkLpHH3Mc1",
        "outputId": "adc8fbd9-37c3-4db5-aa09-4bbe10908db9"
      },
      "source": [
        "jane_role = df.loc[1, 'Role']\n",
        "print(jane_role)  # CTO"
      ],
      "execution_count": null,
      "outputs": [
        {
          "output_type": "stream",
          "text": [
            "CTO\n"
          ],
          "name": "stdout"
        }
      ]
    },
    {
      "cell_type": "markdown",
      "metadata": {
        "id": "8Zwnn8pc3Mc6"
      },
      "source": [
        "#### 슬라이싱하기"
      ]
    },
    {
      "cell_type": "code",
      "metadata": {
        "id": "UbY9cvmq3Mc8",
        "outputId": "590fc4d5-51ca-40dc-96a6-cd619a272e27"
      },
      "source": [
        "roles = df.loc[0:1, 'Role']\n",
        "print(roles)"
      ],
      "execution_count": null,
      "outputs": [
        {
          "output_type": "stream",
          "text": [
            "0    CEO\n",
            "1    CTO\n",
            "Name: Role, dtype: object\n"
          ],
          "name": "stdout"
        }
      ]
    },
    {
      "cell_type": "markdown",
      "metadata": {
        "id": "7ZQis9Rf3MdC"
      },
      "source": [
        "#### 조건에 따른 행얻기"
      ]
    },
    {
      "cell_type": "code",
      "metadata": {
        "id": "6VnNGQXf3MdD",
        "outputId": "e315cf7f-9078-4d04-d299-c35f5d2390b4"
      },
      "source": [
        "data = df.loc[df['ID'] > 1]\n",
        "print(data)"
      ],
      "execution_count": null,
      "outputs": [
        {
          "output_type": "stream",
          "text": [
            "   Name  ID Role\n",
            "1  Jane   2  CTO\n",
            "2  Mary   3  CFO\n"
          ],
          "name": "stdout"
        }
      ]
    },
    {
      "cell_type": "markdown",
      "metadata": {
        "id": "CbzCtWM23MdI"
      },
      "source": [
        "#### 단일값 설정"
      ]
    },
    {
      "cell_type": "code",
      "metadata": {
        "id": "K4Gltju83MdJ",
        "outputId": "9019e63b-24a0-453b-ae74-c03094fea1ce"
      },
      "source": [
        "import pandas as pd\n",
        " \n",
        "d1 = {'Name': ['John', 'Jane', 'Mary'], 'ID': [1, 2, 3], 'Role': ['CEO', 'CTO', 'CFO']}\n",
        " \n",
        "df = pd.DataFrame(d1, index=['A', 'B', 'C'])\n",
        "print('Original DataFrame:\\n', df)\n",
        " \n",
        "# set a single value\n",
        "df.loc['B', 'Role'] = 'Editor'\n",
        "print('Updated DataFrame:\\n', df)"
      ],
      "execution_count": null,
      "outputs": [
        {
          "output_type": "stream",
          "text": [
            "Original DataFrame:\n",
            "    Name  ID Role\n",
            "A  John   1  CEO\n",
            "B  Jane   2  CTO\n",
            "C  Mary   3  CFO\n",
            "Updated DataFrame:\n",
            "    Name  ID    Role\n",
            "A  John   1     CEO\n",
            "B  Jane   2  Editor\n",
            "C  Mary   3     CFO\n"
          ],
          "name": "stdout"
        }
      ]
    },
    {
      "cell_type": "code",
      "metadata": {
        "id": "o4wDJ_x73MdN"
      },
      "source": [
        ""
      ],
      "execution_count": null,
      "outputs": []
    }
  ]
}