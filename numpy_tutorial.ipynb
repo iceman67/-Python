{
  "nbformat": 4,
  "nbformat_minor": 0,
  "metadata": {
    "colab": {
      "name": "numpy_tutorial.ipynb",
      "provenance": [],
      "collapsed_sections": [],
      "include_colab_link": true
    },
    "kernelspec": {
      "name": "python3",
      "display_name": "Python 3"
    }
  },
  "cells": [
    {
      "cell_type": "markdown",
      "metadata": {
        "id": "view-in-github",
        "colab_type": "text"
      },
      "source": [
        "<a href=\"https://colab.research.google.com/github/iceman67/-Python/blob/master/numpy_tutorial.ipynb\" target=\"_parent\"><img src=\"https://colab.research.google.com/assets/colab-badge.svg\" alt=\"Open In Colab\"/></a>"
      ]
    },
    {
      "cell_type": "markdown",
      "metadata": {
        "id": "a0YglmVKrM0t"
      },
      "source": [
        "### 배열처리\n",
        "* 파이썬은 자체적으로 배열 자료형을 제공하지 않는다. \n",
        "* 따라서 배열을 구현한 다른 패키지를 임포트해야 한다. \n",
        "* 파이썬에서 배열을 사용하기 위한 표준 패키지는 넘파이(NumPy)다.\n",
        "\n",
        "### **numpy**\n",
        "* 행렬이나 일반적으로 대규모 다차원 배열을 쉽게 처리 할 수 있도록 지원하는 파이썬의 라이브러리\n",
        "* 데이터 구조 외에도 수치 계산을 위해 효율적으로 구현된 기능을 제공\n",
        "* 벡터 및 행렬 연산에 있어서 매우 편리한 기능을 제공\n",
        "* 기본적으로 array라는 단위로 데이터를 관리\n",
        "\n",
        "---\n",
        "* C언어로 구현된 파이썬 라이브러리로써, 고성능의 수치계산을 위해 제작\n",
        "* Numerical Python의 줄임말\n",
        "\n",
        "\n",
        "\n",
        "---\n",
        "텍스트, 이미지, 사운드 와 같은 모든 자료는 숫자의 배열로 표현됨 \n",
        "이를 위해 배열에 자료를 저장하고 조작이 필요하며 이를 위해  numpy가 사용됨   \n"
      ]
    },
    {
      "cell_type": "code",
      "metadata": {
        "id": "6AxS3K35r041"
      },
      "source": [
        "# numpy를 설치하고 단순히 import numpy 만 해도 되지만, 코드 작성시 as np 를 붙임으로써 np라는 이름으로 numpy를 사용함 \n",
        "import numpy as np"
      ],
      "execution_count": null,
      "outputs": []
    },
    {
      "cell_type": "code",
      "metadata": {
        "colab": {
          "base_uri": "https://localhost:8080/",
          "height": 35
        },
        "id": "oeo8G52NE311",
        "outputId": "349b9a28-bde5-489f-bc6f-5e493c034396"
      },
      "source": [
        "np.__version__"
      ],
      "execution_count": null,
      "outputs": [
        {
          "output_type": "execute_result",
          "data": {
            "application/vnd.google.colaboratory.intrinsic+json": {
              "type": "string"
            },
            "text/plain": [
              "'1.19.4'"
            ]
          },
          "metadata": {
            "tags": []
          },
          "execution_count": 21
        }
      ]
    },
    {
      "cell_type": "markdown",
      "metadata": {
        "id": "dqcUZnw3kb1w"
      },
      "source": [
        "많은 숫자 데이터를 하나의 변수에 넣고 관리 할 때 리스트는 속도가 느리고 메모리를 많이 차지하는 단점이 있다. 배열(array)을 사용하면 적은 메모리로 많은 데이터를 빠르게 처리할 수 있다. 배열은 리스트와 비슷하지만 다음과 같은 차이점이 있음\r\n",
        "\r\n",
        "* 모든 원소가 같은 자료형이어야 한다.\r\n",
        "\r\n",
        "* 원소의 갯수를 바꿀 수 없다."
      ]
    },
    {
      "cell_type": "code",
      "metadata": {
        "id": "NtUiy-IsrnbR"
      },
      "source": [
        "# 배열 생성\n",
        "x = np.array([1, 2, 3])\n",
        "y = np.arange(10)"
      ],
      "execution_count": null,
      "outputs": []
    },
    {
      "cell_type": "markdown",
      "metadata": {
        "id": "drpxyV2BlYMH"
      },
      "source": [
        "* 리스트와 비슷해 보이지만 type 명령으로 자료형을 살펴보면 ndarray임을 알 수 있음\r\n",
        "\r\n",
        "* numpy의 배열 연산은 C로 구현된 내부 반복문을 사용하기 때문에 파이썬 반복문에 비해 속도가 빠르며 벡터화 연산(vectorized operation)을 이용하여 간단한 코드로도 복잡한 선형 대수 연산을 수행할 수 있음"
      ]
    },
    {
      "cell_type": "markdown",
      "metadata": {
        "id": "oQvruKgAtxOu"
      },
      "source": [
        "### array의 형태 확인\n",
        "* shape,  해당 array의 크기 정보 제공 \n",
        "* dtype\n"
      ]
    },
    {
      "cell_type": "code",
      "metadata": {
        "colab": {
          "base_uri": "https://localhost:8080/"
        },
        "id": "JemsxW6yEaOs",
        "outputId": "d8b14a3b-75ff-4086-e37e-d96faeee2303"
      },
      "source": [
        " type(x)"
      ],
      "execution_count": null,
      "outputs": [
        {
          "output_type": "execute_result",
          "data": {
            "text/plain": [
              "numpy.ndarray"
            ]
          },
          "metadata": {
            "tags": []
          },
          "execution_count": 20
        }
      ]
    },
    {
      "cell_type": "code",
      "metadata": {
        "colab": {
          "base_uri": "https://localhost:8080/"
        },
        "id": "aDUXncy9t0-P",
        "outputId": "4d02aea4-0fbb-4d76-b066-ea34e3c85ac9"
      },
      "source": [
        "x.dtype"
      ],
      "execution_count": null,
      "outputs": [
        {
          "output_type": "execute_result",
          "data": {
            "text/plain": [
              "dtype('int64')"
            ]
          },
          "metadata": {
            "tags": []
          },
          "execution_count": 7
        }
      ]
    },
    {
      "cell_type": "code",
      "metadata": {
        "colab": {
          "base_uri": "https://localhost:8080/"
        },
        "id": "1_IGfwE5uS2L",
        "outputId": "ddb351cd-67a5-458d-aba5-6c14ee781850"
      },
      "source": [
        "x.shape"
      ],
      "execution_count": null,
      "outputs": [
        {
          "output_type": "execute_result",
          "data": {
            "text/plain": [
              "(3,)"
            ]
          },
          "metadata": {
            "tags": []
          },
          "execution_count": 8
        }
      ]
    },
    {
      "cell_type": "markdown",
      "metadata": {
        "id": "hUwXqRNG_O0u"
      },
      "source": [
        "**(실습)**1행 3열 벡터로 배열정의"
      ]
    },
    {
      "cell_type": "code",
      "metadata": {
        "colab": {
          "base_uri": "https://localhost:8080/"
        },
        "id": "4EklTv9r-07z",
        "outputId": "f5dbfb0b-d740-4fa6-a554-89bc9282d959"
      },
      "source": [
        "d=np.array([[2,3,4]]) #이중 괄호를 사용\r\n",
        "print(d)\r\n",
        "(d.ndim, d.shape, d.size) "
      ],
      "execution_count": null,
      "outputs": [
        {
          "output_type": "stream",
          "text": [
            "[[2 3 4]]\n"
          ],
          "name": "stdout"
        },
        {
          "output_type": "execute_result",
          "data": {
            "text/plain": [
              "(2, (1, 3), 3)"
            ]
          },
          "metadata": {
            "tags": []
          },
          "execution_count": 4
        }
      ]
    },
    {
      "cell_type": "markdown",
      "metadata": {
        "id": "N2Dc6phWoSDl"
      },
      "source": [
        "(실습) 배열 a의 차원 및 배열의 크기를 얻음"
      ]
    },
    {
      "cell_type": "code",
      "metadata": {
        "colab": {
          "base_uri": "https://localhost:8080/"
        },
        "id": "BYNFcI_foKjt",
        "outputId": "c669e597-244b-4614-b7e6-3707d0e5c110"
      },
      "source": [
        "#a = np.array([1, 2, 3])\r\n",
        "print(a.ndim)\r\n",
        "print(a.shape)"
      ],
      "execution_count": null,
      "outputs": [
        {
          "output_type": "stream",
          "text": [
            "1\n",
            "(3,)\n"
          ],
          "name": "stdout"
        }
      ]
    },
    {
      "cell_type": "code",
      "metadata": {
        "id": "ySvzCwSgFe7t"
      },
      "source": [
        "def pprint(arr):\n",
        "    print(\"type:{}\".format(type(arr)))\n",
        "    print(\"shape: {}, dimension: {}, dtype:{}\".format(arr.shape, arr.ndim, arr.dtype))\n",
        "    print(\"Array's Data:\\n\", arr)"
      ],
      "execution_count": null,
      "outputs": []
    },
    {
      "cell_type": "code",
      "metadata": {
        "colab": {
          "base_uri": "https://localhost:8080/"
        },
        "id": "r0o-s8eSFiHd",
        "outputId": "9c2a8414-dd61-4e30-9e7c-961685d4b98c"
      },
      "source": [
        "pprint(x)"
      ],
      "execution_count": null,
      "outputs": [
        {
          "output_type": "stream",
          "text": [
            "type:<class 'numpy.ndarray'>\n",
            "shape: (3,), dimension: 1, dtype:int64\n",
            "Array's Data:\n",
            " [1 2 3]\n"
          ],
          "name": "stdout"
        }
      ]
    },
    {
      "cell_type": "markdown",
      "metadata": {
        "id": "MXXMbJYuo1jK"
      },
      "source": [
        "**배열의 인덱싱**\r\n",
        "\r\n",
        "* 일차원 배열의 인덱싱은 리스트의 인덱싱과 같다"
      ]
    },
    {
      "cell_type": "code",
      "metadata": {
        "id": "YNSv89BposjJ"
      },
      "source": [
        "a = np.array([0, 1, 2, 3, 4])"
      ],
      "execution_count": null,
      "outputs": []
    },
    {
      "cell_type": "code",
      "metadata": {
        "colab": {
          "base_uri": "https://localhost:8080/"
        },
        "id": "LQ2Lfw2eouSy",
        "outputId": "6da11efe-96d2-4927-8bb7-2feece8a44d2"
      },
      "source": [
        "a[2]"
      ],
      "execution_count": null,
      "outputs": [
        {
          "output_type": "execute_result",
          "data": {
            "text/plain": [
              "2"
            ]
          },
          "metadata": {
            "tags": []
          },
          "execution_count": 14
        }
      ]
    },
    {
      "cell_type": "code",
      "metadata": {
        "colab": {
          "base_uri": "https://localhost:8080/"
        },
        "id": "Idv4dbSMoyyK",
        "outputId": "0456f547-5d8a-45e5-a100-213d73b5c66b"
      },
      "source": [
        "a[-1]"
      ],
      "execution_count": null,
      "outputs": [
        {
          "output_type": "execute_result",
          "data": {
            "text/plain": [
              "4"
            ]
          },
          "metadata": {
            "tags": []
          },
          "execution_count": 15
        }
      ]
    },
    {
      "cell_type": "markdown",
      "metadata": {
        "id": "KAylgCVupJf9"
      },
      "source": [
        "다차원 배열일 때는 다음과 같이 콤마(comma ,)를 사용하여 접근할 수 있다. 콤마로 구분된 차원을 축(axis)이라고도 한다. 그래프의 x축과 y축을 떠올리면 될 것이다."
      ]
    },
    {
      "cell_type": "code",
      "metadata": {
        "colab": {
          "base_uri": "https://localhost:8080/"
        },
        "id": "MHZf-TWHpMnS",
        "outputId": "786b958b-f698-4b54-9cec-9221518cc139"
      },
      "source": [
        "a = np.array([[0, 1, 2], [3, 4, 5]])\r\n",
        "a"
      ],
      "execution_count": null,
      "outputs": [
        {
          "output_type": "execute_result",
          "data": {
            "text/plain": [
              "array([[0, 1, 2],\n",
              "       [3, 4, 5]])"
            ]
          },
          "metadata": {
            "tags": []
          },
          "execution_count": 16
        }
      ]
    },
    {
      "cell_type": "code",
      "metadata": {
        "colab": {
          "base_uri": "https://localhost:8080/"
        },
        "id": "grETurMRpQYE",
        "outputId": "38215f29-26d5-411e-c63e-3f4346dc9fb1"
      },
      "source": [
        "a[0, 0]  # 첫번째 행의 첫번째 열"
      ],
      "execution_count": null,
      "outputs": [
        {
          "output_type": "execute_result",
          "data": {
            "text/plain": [
              "0"
            ]
          },
          "metadata": {
            "tags": []
          },
          "execution_count": 17
        }
      ]
    },
    {
      "cell_type": "code",
      "metadata": {
        "colab": {
          "base_uri": "https://localhost:8080/"
        },
        "id": "cWV_p4tMpd92",
        "outputId": "c17a9f4e-426f-4b13-a68e-b94debac471f"
      },
      "source": [
        "a[-1, -1]  # 마지막 행의 마지막 열"
      ],
      "execution_count": null,
      "outputs": [
        {
          "output_type": "execute_result",
          "data": {
            "text/plain": [
              "5"
            ]
          },
          "metadata": {
            "tags": []
          },
          "execution_count": 18
        }
      ]
    },
    {
      "cell_type": "markdown",
      "metadata": {
        "id": "TSdfz78WpyMt"
      },
      "source": [
        "배열 슬라이싱"
      ]
    },
    {
      "cell_type": "code",
      "metadata": {
        "colab": {
          "base_uri": "https://localhost:8080/"
        },
        "id": "U9Pz6LSsp0Qi",
        "outputId": "da002830-a3e6-4450-8b1c-236261300223"
      },
      "source": [
        "a = np.array([[0, 1, 2, 3], [4, 5, 6, 7]])\r\n",
        "a"
      ],
      "execution_count": null,
      "outputs": [
        {
          "output_type": "execute_result",
          "data": {
            "text/plain": [
              "array([[0, 1, 2, 3],\n",
              "       [4, 5, 6, 7]])"
            ]
          },
          "metadata": {
            "tags": []
          },
          "execution_count": 19
        }
      ]
    },
    {
      "cell_type": "code",
      "metadata": {
        "colab": {
          "base_uri": "https://localhost:8080/"
        },
        "id": "uKjugGqLp5fC",
        "outputId": "9adcb1bf-22b7-453c-d9d2-a658274c3647"
      },
      "source": [
        "a[0, :]  # 첫번째 행 전체"
      ],
      "execution_count": null,
      "outputs": [
        {
          "output_type": "execute_result",
          "data": {
            "text/plain": [
              "array([0, 1, 2, 3])"
            ]
          },
          "metadata": {
            "tags": []
          },
          "execution_count": 20
        }
      ]
    },
    {
      "cell_type": "code",
      "metadata": {
        "colab": {
          "base_uri": "https://localhost:8080/"
        },
        "id": "Sr2VqgsnqAXO",
        "outputId": "1168a8b0-d101-45f1-ffaa-b809dfcc7483"
      },
      "source": [
        "a[:, 1]  # 두번째 열 전체"
      ],
      "execution_count": null,
      "outputs": [
        {
          "output_type": "execute_result",
          "data": {
            "text/plain": [
              "array([1, 5])"
            ]
          },
          "metadata": {
            "tags": []
          },
          "execution_count": 21
        }
      ]
    },
    {
      "cell_type": "code",
      "metadata": {
        "colab": {
          "base_uri": "https://localhost:8080/"
        },
        "id": "rDLnIebPqIbq",
        "outputId": "00b608a3-2b13-48ae-b4b5-69bfafa9fac7"
      },
      "source": [
        "a[1, 1:]  # 두번째 행의 두번째 열부터 끝열까지"
      ],
      "execution_count": null,
      "outputs": [
        {
          "output_type": "execute_result",
          "data": {
            "text/plain": [
              "array([5, 6, 7])"
            ]
          },
          "metadata": {
            "tags": []
          },
          "execution_count": 22
        }
      ]
    },
    {
      "cell_type": "markdown",
      "metadata": {
        "id": "0z8DjKMJu2l-"
      },
      "source": [
        "### 배열 생성 및 초기화\n",
        "* np.zeros()\n",
        "* np.ones()\n",
        "* np.arange()"
      ]
    },
    {
      "cell_type": "code",
      "metadata": {
        "colab": {
          "base_uri": "https://localhost:8080/"
        },
        "id": "-9kHmkpBvERd",
        "outputId": "a4cc962e-846b-49fa-f5bf-290a59e2f7f2"
      },
      "source": [
        "np.zeros(10)"
      ],
      "execution_count": null,
      "outputs": [
        {
          "output_type": "execute_result",
          "data": {
            "text/plain": [
              "array([0., 0., 0., 0., 0., 0., 0., 0., 0., 0.])"
            ]
          },
          "metadata": {
            "tags": []
          },
          "execution_count": 9
        }
      ]
    },
    {
      "cell_type": "code",
      "metadata": {
        "colab": {
          "base_uri": "https://localhost:8080/"
        },
        "id": "r_rUZP4TvNxm",
        "outputId": "0aebcb4c-48f1-4dc0-c655-55d691a8cc50"
      },
      "source": [
        "np.zeros((3,5))"
      ],
      "execution_count": null,
      "outputs": [
        {
          "output_type": "execute_result",
          "data": {
            "text/plain": [
              "array([[0., 0., 0., 0., 0.],\n",
              "       [0., 0., 0., 0., 0.],\n",
              "       [0., 0., 0., 0., 0.]])"
            ]
          },
          "metadata": {
            "tags": []
          },
          "execution_count": 10
        }
      ]
    },
    {
      "cell_type": "code",
      "metadata": {
        "colab": {
          "base_uri": "https://localhost:8080/"
        },
        "id": "naC3yK7CBxa9",
        "outputId": "8f8848c2-45d6-422b-f480-a5973ab4ed9b"
      },
      "source": [
        "np.ones(9)"
      ],
      "execution_count": null,
      "outputs": [
        {
          "output_type": "execute_result",
          "data": {
            "text/plain": [
              "array([1., 1., 1., 1., 1., 1., 1., 1., 1.])"
            ]
          },
          "metadata": {
            "tags": []
          },
          "execution_count": 11
        }
      ]
    },
    {
      "cell_type": "code",
      "metadata": {
        "id": "tpGwRjAUB5DD"
      },
      "source": [
        "arr = np.ones((2,5))"
      ],
      "execution_count": null,
      "outputs": []
    },
    {
      "cell_type": "markdown",
      "metadata": {
        "id": "6f3f2-OnCV8m"
      },
      "source": [
        "numpy 연산\n",
        "\n",
        "\n",
        "* 행방향, 열방향은 각각 axis=0, axis=1로 설정됨\n",
        "\n"
      ]
    },
    {
      "cell_type": "code",
      "metadata": {
        "colab": {
          "base_uri": "https://localhost:8080/"
        },
        "id": "E9voGkNuCZXz",
        "outputId": "848bd04d-0089-484a-ffca-af90296fd728"
      },
      "source": [
        "np.sum(arr)"
      ],
      "execution_count": null,
      "outputs": [
        {
          "output_type": "execute_result",
          "data": {
            "text/plain": [
              "10.0"
            ]
          },
          "metadata": {
            "tags": []
          },
          "execution_count": 14
        }
      ]
    },
    {
      "cell_type": "code",
      "metadata": {
        "colab": {
          "base_uri": "https://localhost:8080/"
        },
        "id": "RG51UlbmCxxK",
        "outputId": "1c818b4e-b571-4da9-e4b0-37deb4e3f2d1"
      },
      "source": [
        "np.sum(arr, axis=1)"
      ],
      "execution_count": null,
      "outputs": [
        {
          "output_type": "execute_result",
          "data": {
            "text/plain": [
              "array([5., 5.])"
            ]
          },
          "metadata": {
            "tags": []
          },
          "execution_count": 15
        }
      ]
    },
    {
      "cell_type": "code",
      "metadata": {
        "colab": {
          "base_uri": "https://localhost:8080/"
        },
        "id": "VWefeY6DC1KB",
        "outputId": "55c1d27c-adb4-42d6-c904-05ff8b737f46"
      },
      "source": [
        "np.sum(arr, axis=0)"
      ],
      "execution_count": null,
      "outputs": [
        {
          "output_type": "execute_result",
          "data": {
            "text/plain": [
              "array([2., 2., 2., 2., 2.])"
            ]
          },
          "metadata": {
            "tags": []
          },
          "execution_count": 16
        }
      ]
    },
    {
      "cell_type": "code",
      "metadata": {
        "colab": {
          "base_uri": "https://localhost:8080/"
        },
        "id": "LUgw3ZA_DFGA",
        "outputId": "c2815d28-ea8b-4690-aa62-f67a3f433b68"
      },
      "source": [
        "np.mean(arr)"
      ],
      "execution_count": null,
      "outputs": [
        {
          "output_type": "execute_result",
          "data": {
            "text/plain": [
              "1.0"
            ]
          },
          "metadata": {
            "tags": []
          },
          "execution_count": 17
        }
      ]
    },
    {
      "cell_type": "code",
      "metadata": {
        "colab": {
          "base_uri": "https://localhost:8080/"
        },
        "id": "SS_Dsp_PDNN5",
        "outputId": "829e1d80-c286-4008-da2c-047c13d3da35"
      },
      "source": [
        "np.mean(arr, axis=0)"
      ],
      "execution_count": null,
      "outputs": [
        {
          "output_type": "execute_result",
          "data": {
            "text/plain": [
              "array([1., 1., 1., 1., 1.])"
            ]
          },
          "metadata": {
            "tags": []
          },
          "execution_count": 18
        }
      ]
    },
    {
      "cell_type": "code",
      "metadata": {
        "colab": {
          "base_uri": "https://localhost:8080/"
        },
        "id": "pOvBaUv4DZUj",
        "outputId": "ba33ae74-bc5f-4a2a-8f7c-513f8759baf3"
      },
      "source": [
        "np.std(arr)"
      ],
      "execution_count": null,
      "outputs": [
        {
          "output_type": "execute_result",
          "data": {
            "text/plain": [
              "0.0"
            ]
          },
          "metadata": {
            "tags": []
          },
          "execution_count": 19
        }
      ]
    },
    {
      "cell_type": "markdown",
      "metadata": {
        "id": "vy1w8WWzGDyI"
      },
      "source": [
        "### 데이터 생성 함수\n",
        "\n",
        "주어진 조건으로 데이터를 생성한 후, 배열을 만드는 데이터 생성 함수를 제공함\n",
        "\n",
        "* numpy.linspace\n",
        "* numpy.arange\n",
        "* numpy.logspace"
      ]
    },
    {
      "cell_type": "code",
      "metadata": {
        "colab": {
          "base_uri": "https://localhost:8080/"
        },
        "id": "ZYpDV0wXGOgz",
        "outputId": "420de1ce-7350-434c-fb57-cfbe9d9ed307"
      },
      "source": [
        "a = np.linspace(0, 1, 5)\n",
        "pprint(a)"
      ],
      "execution_count": null,
      "outputs": [
        {
          "output_type": "stream",
          "text": [
            "type:<class 'numpy.ndarray'>\n",
            "shape: (5,), dimension: 1, dtype:float64\n",
            "Array's Data:\n",
            " [0.   0.25 0.5  0.75 1.  ]\n"
          ],
          "name": "stdout"
        }
      ]
    },
    {
      "cell_type": "code",
      "metadata": {
        "colab": {
          "base_uri": "https://localhost:8080/",
          "height": 265
        },
        "id": "DhWJ6cP9GYFz",
        "outputId": "e1f048b6-4e96-4e12-9e26-f432f6692f54"
      },
      "source": [
        "import matplotlib.pyplot as plt\n",
        "plt.plot(a, 'o')\n",
        "plt.show()"
      ],
      "execution_count": null,
      "outputs": [
        {
          "output_type": "display_data",
          "data": {
            "image/png": "[encoded data removed]",
            "text/plain": [
              "<Figure size 432x288 with 1 Axes>"
            ]
          },
          "metadata": {
            "tags": [],
            "needs_background": "light"
          }
        }
      ]
    },
    {
      "cell_type": "markdown",
      "metadata": {
        "id": "MGm5apRKGtkF"
      },
      "source": [
        "np.arange 함수\n",
        "\n",
        "* numpy.arange([start,] stop[, step,], dtype=None)\n",
        "* start부터 stop 미만까지 step 간격으로 데이터 생성한 후 배열을 만듦\n",
        "* 범위내에서 간격을 기준 균등 간격의 배열\n",
        "* 요소의 객수가 아닌 데이터의 간격을 기준으로 배열 생성"
      ]
    },
    {
      "cell_type": "code",
      "metadata": {
        "colab": {
          "base_uri": "https://localhost:8080/"
        },
        "id": "UQJgIoxTGzKm",
        "outputId": "b94aa335-37fc-4e7d-ed63-10a38e4cf52d"
      },
      "source": [
        "a = np.arange(0, 10, 2, np.float)\n",
        "pprint(a)"
      ],
      "execution_count": null,
      "outputs": [
        {
          "output_type": "stream",
          "text": [
            "type:<class 'numpy.ndarray'>\n",
            "shape: (5,), dimension: 1, dtype:float64\n",
            "Array's Data:\n",
            " [0. 2. 4. 6. 8.]\n"
          ],
          "name": "stdout"
        }
      ]
    },
    {
      "cell_type": "code",
      "metadata": {
        "colab": {
          "base_uri": "https://localhost:8080/",
          "height": 265
        },
        "id": "JRd6--TsG29v",
        "outputId": "f4b9a621-4d39-44aa-e6e3-e7ee4c72907a"
      },
      "source": [
        "# arange의 데이터 추출 시각화\n",
        "import matplotlib.pyplot as plt\n",
        "plt.plot(a, 'o')\n",
        "plt.show()"
      ],
      "execution_count": null,
      "outputs": [
        {
          "output_type": "display_data",
          "data": {
            "image/png": "[encoded data removed]",
            "text/plain": [
              "<Figure size 432x288 with 1 Axes>"
            ]
          },
          "metadata": {
            "tags": [],
            "needs_background": "light"
          }
        }
      ]
    },
    {
      "cell_type": "markdown",
      "metadata": {
        "id": "QBOcG1l18FqK"
      },
      "source": [
        "**np.random.normal**\r\n",
        "\r\n",
        "* normal(loc=0.0, scale=1.0, size=None)\r\n",
        "* 정규 분포 확률 밀도에서 표본 추출\r\n",
        "> loc: 정규 분포의 평균\r\n",
        "> scale: 표준편차"
      ]
    },
    {
      "cell_type": "code",
      "metadata": {
        "colab": {
          "base_uri": "https://localhost:8080/"
        },
        "id": "2nLhcgkn8Wdm",
        "outputId": "525a7289-544a-4313-c737-c2f19bdf93bc"
      },
      "source": [
        "import numpy as np\r\n",
        "mean = 0\r\n",
        "std = 1\r\n",
        "a = np.random.normal(mean, std, (2, 3))\r\n",
        "pprint(a)"
      ],
      "execution_count": null,
      "outputs": [
        {
          "output_type": "stream",
          "text": [
            "type:<class 'numpy.ndarray'>\n",
            "shape: (2, 3), dimension: 2, dtype:float64\n",
            "Array's Data:\n",
            " [[-0.61937676  1.78920379  0.70089369]\n",
            " [-0.34311066  0.94502431 -1.87941974]]\n"
          ],
          "name": "stdout"
        }
      ]
    },
    {
      "cell_type": "code",
      "metadata": {
        "colab": {
          "base_uri": "https://localhost:8080/",
          "height": 265
        },
        "id": "lsiC_V7u70nB",
        "outputId": "930f7e52-6f00-4656-c21f-c6f0c073bc56"
      },
      "source": [
        "import matplotlib.pyplot as plt\r\n",
        "import numpy as np\r\n",
        "\r\n",
        "data = np.random.normal(0, 1, 10000)\r\n",
        "plt.hist(data, bins=100)\r\n",
        "plt.show()"
      ],
      "execution_count": null,
      "outputs": [
        {
          "output_type": "display_data",
          "data": {
            "image/png": "[encoded data removed]",
            "text/plain": [
              "<Figure size 432x288 with 1 Axes>"
            ]
          },
          "metadata": {
            "tags": [],
            "needs_background": "light"
          }
        }
      ]
    },
    {
      "cell_type": "code",
      "metadata": {
        "colab": {
          "base_uri": "https://localhost:8080/",
          "height": 268
        },
        "id": "LW9_42F8878T",
        "outputId": "2bae5173-911c-4c46-9fc1-ffb3f5719b3c"
      },
      "source": [
        "data = np.random.randn(10000)\r\n",
        "import matplotlib.pyplot as plt\r\n",
        "plt.hist(data, bins=10)\r\n",
        "plt.show()"
      ],
      "execution_count": null,
      "outputs": [
        {
          "output_type": "display_data",
          "data": {
            "image/png": "[encoded data removed]",
            "text/plain": [
              "<Figure size 432x288 with 1 Axes>"
            ]
          },
          "metadata": {
            "tags": [],
            "needs_background": "light"
          }
        }
      ]
    },
    {
      "cell_type": "markdown",
      "metadata": {
        "id": "7RR0Yw5c9pqz"
      },
      "source": [
        "**numpy 자료 저장 및 로딩**"
      ]
    },
    {
      "cell_type": "code",
      "metadata": {
        "colab": {
          "base_uri": "https://localhost:8080/"
        },
        "id": "F6TmqtcE9PkS",
        "outputId": "589931a4-b980-45cb-8dd4-41b901f433e2"
      },
      "source": [
        "# 데모 데이터 생성\r\n",
        "data = np.random.random((3, 4))\r\n",
        "pprint(data)\r\n",
        "\r\n",
        "np.savetxt(\"saved.csv\", data, delimiter=\",\")"
      ],
      "execution_count": null,
      "outputs": [
        {
          "output_type": "stream",
          "text": [
            "type:<class 'numpy.ndarray'>\n",
            "shape: (3, 4), dimension: 2, dtype:float64\n",
            "Array's Data:\n",
            " [[0.73953144 0.30775211 0.25935795 0.56112633]\n",
            " [0.93814382 0.68501556 0.77695596 0.25845348]\n",
            " [0.88814112 0.45494511 0.11156366 0.72524762]]\n"
          ],
          "name": "stdout"
        }
      ]
    },
    {
      "cell_type": "code",
      "metadata": {
        "id": "saNs1mP19a0f"
      },
      "source": [
        "arr = np.loadtxt('saved.csv', delimiter=',')"
      ],
      "execution_count": null,
      "outputs": []
    },
    {
      "cell_type": "code",
      "metadata": {
        "colab": {
          "base_uri": "https://localhost:8080/"
        },
        "id": "3HsRrIOs9khj",
        "outputId": "7a0e9997-86c7-40d3-a65a-b492805e4ffb"
      },
      "source": [
        "arr"
      ],
      "execution_count": null,
      "outputs": [
        {
          "output_type": "execute_result",
          "data": {
            "text/plain": [
              "array([[0.73953144, 0.30775211, 0.25935795, 0.56112633],\n",
              "       [0.93814382, 0.68501556, 0.77695596, 0.25845348],\n",
              "       [0.88814112, 0.45494511, 0.11156366, 0.72524762]])"
            ]
          },
          "metadata": {
            "tags": []
          },
          "execution_count": 10
        }
      ]
    },
    {
      "cell_type": "markdown",
      "metadata": {
        "id": "MI_4o3TCHDQ-"
      },
      "source": [
        "**벡터화 연산**\r\n",
        "* 배열 객체는 배열의 각 원소에 대한 반복 연산을 하나의 명령어로 처리하는 벡터화 연산(vectorized operation)을 지원함\r\n",
        "\r\n",
        "* 예를 들어 다음처럼 여러개의 데이터를 모두 2배 해야 하는 경우를 생각하자"
      ]
    },
    {
      "cell_type": "code",
      "metadata": {
        "id": "gKUigIQqmqSv"
      },
      "source": [
        "data = [0, 1, 2, 3, 4, 5, 6, 7, 8, 9]"
      ],
      "execution_count": null,
      "outputs": []
    },
    {
      "cell_type": "code",
      "metadata": {
        "colab": {
          "base_uri": "https://localhost:8080/"
        },
        "id": "eXdCWYYFmucX",
        "outputId": "01a48f26-15ea-437a-811a-a20103a770b1"
      },
      "source": [
        "answer = []\r\n",
        "for di in data:\r\n",
        "    answer.append(2 * di)\r\n",
        "answer"
      ],
      "execution_count": null,
      "outputs": [
        {
          "output_type": "execute_result",
          "data": {
            "text/plain": [
              "[0, 2, 4, 6, 8, 10, 12, 14, 16, 18]"
            ]
          },
          "metadata": {
            "tags": []
          },
          "execution_count": 5
        }
      ]
    },
    {
      "cell_type": "markdown",
      "metadata": {
        "id": "2qQZQ8_GnIJC"
      },
      "source": [
        "* 벡터화 연산을 사용하면 다음과 같이 for 반복문이 없이 한번의 연산으로 할 수 있음\r\n",
        "* 계산 속도도 반복문을 사용할 때 보다 훨씬 빠름"
      ]
    },
    {
      "cell_type": "code",
      "metadata": {
        "id": "IF7q1jKCm5Zl"
      },
      "source": [
        "import numpy as np\r\n",
        "x = np.array(data)"
      ],
      "execution_count": null,
      "outputs": []
    },
    {
      "cell_type": "code",
      "metadata": {
        "colab": {
          "base_uri": "https://localhost:8080/"
        },
        "id": "5LmCAF5QnDeM",
        "outputId": "4eafc076-3224-485e-d6af-8f808e134a96"
      },
      "source": [
        "2 * x\r\n"
      ],
      "execution_count": null,
      "outputs": [
        {
          "output_type": "execute_result",
          "data": {
            "text/plain": [
              "array([ 0,  2,  4,  6,  8, 10, 12, 14, 16, 18])"
            ]
          },
          "metadata": {
            "tags": []
          },
          "execution_count": 8
        }
      ]
    },
    {
      "cell_type": "markdown",
      "metadata": {
        "id": "84g3TAbCnrCI"
      },
      "source": [
        "벡터화 연산은 비교 연산과 논리 연산을 포함한 모든 종류의 수학 연산에 대해 적용됨"
      ]
    },
    {
      "cell_type": "code",
      "metadata": {
        "id": "uwn95oW2nfku"
      },
      "source": [
        "a = np.array([1, 2, 3])\r\n",
        "b = np.array([10, 20, 30])"
      ],
      "execution_count": null,
      "outputs": []
    },
    {
      "cell_type": "code",
      "metadata": {
        "colab": {
          "base_uri": "https://localhost:8080/"
        },
        "id": "1T1aUuqnnjmb",
        "outputId": "dbd6af2d-c930-40da-b975-ab4cb2e5e9ba"
      },
      "source": [
        "2 * a + b"
      ],
      "execution_count": null,
      "outputs": [
        {
          "output_type": "execute_result",
          "data": {
            "text/plain": [
              "array([12, 24, 36])"
            ]
          },
          "metadata": {
            "tags": []
          },
          "execution_count": 10
        }
      ]
    },
    {
      "cell_type": "markdown",
      "metadata": {
        "id": "P5VIBueSPL9z"
      },
      "source": [
        "### numpy 활용 \r\n",
        "* 배열계산하기(벡터화)"
      ]
    },
    {
      "cell_type": "code",
      "metadata": {
        "id": "H73y6B1_oKOP",
        "colab": {
          "base_uri": "https://localhost:8080/",
          "height": 35
        },
        "outputId": "ac1b40b2-afdb-46e2-b593-b74bcb07e0a5"
      },
      "source": [
        "\n",
        "# 배열 단위 연산을 위한 npmpy 라이브러리 호출 및 변수 할당 (np)\n",
        "import numpy as np\n",
        "\n",
        "# 변수 a 에 배열 [1,2,3,4,5를 저장] \n",
        "a = np.array([1,2,3,4,5])\n",
        "\n",
        "# arange = 배열 생성 메소드\n",
        "# arange(a, b, c) =  arange(startIndex, length, [start index,... length - 1 ] % c = 0 인 요소)\n",
        "# b = [0, 2, 4, 6, 8]\n",
        "b = np.arange(0, 10, 2)\n",
        "\n",
        "# c = [1,2,3,4,5] + [0,2,4,6,8] = [1,4,7,10,13]\n",
        "c = a + b\n",
        "\n",
        "# c[4] = 13\n",
        "print(c[4])"
      ],
      "execution_count": null,
      "outputs": [
        {
          "output_type": "stream",
          "text": [
            "13\n"
          ],
          "name": "stdout"
        }
      ]
    },
    {
      "cell_type": "markdown",
      "metadata": {
        "id": "soJocJHyNcfT"
      },
      "source": [
        "### numpy 활용\r\n",
        "\r\n",
        "*   이상치 검출(outlier detection) \r\n",
        "\r\n",
        "\r\n",
        "\r\n",
        "---\r\n",
        "$Z score$ is an important concept in statistics. \r\n",
        "* Z score is also called standard score.  \r\n",
        "* $Z score$ = $(x -mean) / std. deviation$\r\n",
        "\r\n",
        "\r\n"
      ]
    },
    {
      "cell_type": "markdown",
      "metadata": {
        "id": "caa5VAy5Nu2o"
      },
      "source": [
        "**평균 및 표준편차** 구하기"
      ]
    },
    {
      "cell_type": "code",
      "metadata": {
        "colab": {
          "base_uri": "https://localhost:8080/"
        },
        "id": "8H9a1u19NcE7",
        "outputId": "dd3c5d33-e777-4eca-a26f-b61ebd655e0d"
      },
      "source": [
        "import numpy as np\r\n",
        "data = [1, 2, 2, 2, 3, 1, 1, 15, 2, 2, 2, 3, 1, 1, 2] \r\n",
        "mean = np.mean(data) \r\n",
        "std = np.std(data) \r\n",
        "print('mean of the dataset is', mean) \r\n",
        "print('std. deviation is', std) "
      ],
      "execution_count": null,
      "outputs": [
        {
          "output_type": "stream",
          "text": [
            "mean of the dataset is 2.6666666666666665\n",
            "std. deviation is 3.3598941782277745\n"
          ],
          "name": "stdout"
        }
      ]
    },
    {
      "cell_type": "markdown",
      "metadata": {
        "id": "ZHN9ADMjN6nE"
      },
      "source": [
        "  Z score 계산하기  (if Z score>3, print it as an outlier)"
      ]
    },
    {
      "cell_type": "code",
      "metadata": {
        "colab": {
          "base_uri": "https://localhost:8080/"
        },
        "id": "PIvEXxJ4Oduz",
        "outputId": "add03a07-7f1c-4ba2-8010-4abb29de0b9f"
      },
      "source": [
        "threshold = 3\r\n",
        "outlier = [] \r\n",
        "for i in data: \r\n",
        "\tz = (i-mean)/std \r\n",
        "\tif z > threshold: \r\n",
        "\t\toutlier.append(i) \r\n",
        "print('outlier in dataset is', outlier) "
      ],
      "execution_count": null,
      "outputs": [
        {
          "output_type": "stream",
          "text": [
            "outlier in dataset is [15]\n"
          ],
          "name": "stdout"
        }
      ]
    },
    {
      "cell_type": "markdown",
      "metadata": {
        "id": "2Dv9x7RqHMgd"
      },
      "source": [
        "참고 \n",
        "* http://taewan.kim/post/numpy_cheat_sheet/\n",
        "* https://www.geeksforgeeks.org/z-score-for-outlier-detection-python/\n"
      ]
    },
    {
      "cell_type": "code",
      "metadata": {
        "id": "_xwGbiHnHNwV"
      },
      "source": [
        ""
      ],
      "execution_count": null,
      "outputs": []
    }
  ]
}