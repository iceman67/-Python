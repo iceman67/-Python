{
  "nbformat": 4,
  "nbformat_minor": 0,
  "metadata": {
    "colab": {
      "name": "fib_dp.ipynb",
      "private_outputs": true,
      "provenance": [],
      "authorship_tag": "ABX9TyOPjcDTNDNkpIxjX9SKGIfw",
      "include_colab_link": true
    },
    "kernelspec": {
      "name": "python3",
      "display_name": "Python 3"
    },
    "language_info": {
      "name": "python"
    }
  },
  "cells": [
    {
      "cell_type": "markdown",
      "metadata": {
        "id": "view-in-github",
        "colab_type": "text"
      },
      "source": [
        "<a href=\"https://colab.research.google.com/github/iceman67/-Python/blob/master/fib_dp.ipynb\" target=\"_parent\"><img src=\"https://colab.research.google.com/assets/colab-badge.svg\" alt=\"Open In Colab\"/></a>"
      ]
    },
    {
      "cell_type": "markdown",
      "source": [
        "* **동적프로그램**을 피보나치 수열을 통해 살펴본다\n",
        "> 처음 진행되는 연산은 기록해 두고, 이미 진행했던 연산이라면 다시 연산하는 것이 아니라 기록되어 있는 값을 가져오는 것\n",
        "* timeit 을 사용하여 재귀호출과 동적프로그래밍의 성능 차이를 비교한다\n",
        "---\n",
        "* 피보나치 수열은 제1항과 제2항은 1, 제3항부터는 바로 앞의 두 항을 더한 수로 정의\n"
      ],
      "metadata": {
        "id": "-GJX8guBxWmQ"
      }
    },
    {
      "cell_type": "code",
      "execution_count": null,
      "metadata": {
        "id": "MsaPmcEzwO7o"
      },
      "outputs": [],
      "source": [
        "%%timeit\n",
        "def fib_recursive(n):\n",
        "    \"\"\"[summary]\n",
        "    Computes the n-th fibonacci number recursive.\n",
        "    Problem: This implementation is very slow.\n",
        "    approximate O(2^n)\n",
        "\n",
        "    Arguments:\n",
        "        n {[int]} -- [description]\n",
        "\n",
        "    Returns:\n",
        "        [int] -- [description]\n",
        "    \"\"\"\n",
        "\n",
        "    # precondition\n",
        "    assert n >= 0, 'n must be a positive integer'\n",
        "\n",
        "    if n <= 1:\n",
        "        return n\n",
        "    else:\n",
        "        return fib_recursive(n-1) + fib_recursive(n-2)\n",
        "\n",
        "print(fib_recursive(35)) # => 9227465 (slow)\n"
      ]
    },
    {
      "cell_type": "code",
      "source": [
        "%%timeit\n",
        "\n",
        "def fib_list(n):\n",
        "    \"\"\"[summary]\n",
        "    This algorithm computes the n-th fibbonacci number\n",
        "    very quick. approximate O(n)\n",
        "    The algorithm use dynamic programming.\n",
        "\n",
        "    Arguments:\n",
        "        n {[int]} -- [description]\n",
        "\n",
        "    Returns:\n",
        "        [int] -- [description]\n",
        "    \"\"\"\n",
        "\n",
        "    # precondition\n",
        "    assert n >= 0, 'n must be a positive integer'\n",
        "\n",
        "    list_results = [0, 1]\n",
        "    for i in range(2, n+1):\n",
        "        list_results.append(list_results[i-1] + list_results[i-2])\n",
        "    return list_results[n]\n",
        "\n",
        "print(fib_list(35))"
      ],
      "metadata": {
        "id": "uDspDT3qwSmH"
      },
      "execution_count": null,
      "outputs": []
    },
    {
      "cell_type": "markdown",
      "source": [
        "재귀함수(recursive algorithm) 장점\n",
        " * 단순함 \n",
        " * 읽기용이성 \n",
        "\n",
        "재귀호출에 따라 호출스택(call stack)이 커짐에 따른 스택 오버플로우 문제가 있음"
      ],
      "metadata": {
        "id": "nIqDEtWeHXco"
      }
    },
    {
      "cell_type": "code",
      "source": [
        "def fib(n):\n",
        "    if n < 1 or type(n) != int:\n",
        "        print('You need to input a positive integer.')\n",
        "        quit()\n",
        "    elif n in (1, 2):\n",
        "        return 1\n",
        "    else:\n",
        "        return fib(n-1) + fib(n-2)\n",
        "          \n",
        "  \n",
        "print(fib(15))"
      ],
      "metadata": {
        "id": "YnDQthFBHFOP"
      },
      "execution_count": null,
      "outputs": []
    },
    {
      "cell_type": "markdown",
      "source": [
        "$memory$ 딕셔너리는 함수 수행할떄까지 유지함   "
      ],
      "metadata": {
        "id": "U3ZcIVWIHtHT"
      }
    },
    {
      "cell_type": "code",
      "source": [
        "memory = {}\n",
        "\n",
        "\n",
        "def fib(n):\n",
        "    if n < 1 or type(n) != int:\n",
        "        print('You need to input a positive integer.')\n",
        "        quit()\n",
        "    elif n in (1, 2):\n",
        "        return 1\n",
        "    elif n not in memory.keys():\n",
        "        memory[n] = fib(n-1) + fib(n-2)\n",
        "    return memory[n]\n",
        "\n",
        "print(fib(100))"
      ],
      "metadata": {
        "id": "YtKGU8ISHbpk"
      },
      "execution_count": null,
      "outputs": []
    },
    {
      "cell_type": "code",
      "source": [
        "memory = {}\n",
        "\n",
        "\n",
        "def fib(n):\n",
        "    if n < 1 or type(n) != int:\n",
        "        print('You need to input a positive integer.')\n",
        "        quit()\n",
        "    elif n in (1, 2):\n",
        "        return 1\n",
        "    elif n not in memory.keys():\n",
        "        memory[n] = fib(n-1) + fib(n-2)\n",
        "    return memory[n]\n",
        "\n",
        "print(fib(100))"
      ],
      "metadata": {
        "id": "AsgGFBFXKmLU"
      },
      "execution_count": null,
      "outputs": []
    },
    {
      "cell_type": "markdown",
      "source": [
        "1과 2인 경우의 피보너치 수열의 값을 미리저장하여 사용함"
      ],
      "metadata": {
        "id": "WL_JX7dfK-r9"
      }
    },
    {
      "cell_type": "code",
      "source": [
        "memory = {1:1, 2:1}\n",
        "\n",
        "\n",
        "def fib(n):\n",
        "    if n < 1 or type(n) != int:\n",
        "        print('You need to input a positive integer.')\n",
        "        quit()\n",
        "    elif n not in memory.keys():\n",
        "        memory[n] = fib(n-1) + fib(n-2)\n",
        "    return memory[n]\n",
        "\n",
        "print(fib(10))"
      ],
      "metadata": {
        "id": "-9rTRTABK0tB"
      },
      "execution_count": null,
      "outputs": []
    },
    {
      "cell_type": "code",
      "source": [
        "memo = {0:0, 1:1}\n",
        "def fib(n):\n",
        "    if not n in memo:\n",
        "        memo[n] = fib(n-1) + fib(n-2)\n",
        "    return memo[n]\n",
        "\n",
        "def fib_index(*x):\n",
        "    \"\"\" finds the natural number i with fib(i) == n \"\"\"\n",
        "    if len(x) == 1:\n",
        "        # started by user\n",
        "        # find index starting from 0\n",
        "        return fib_index(x[0], 0)\n",
        "    else:\n",
        "        n = fib(x[1])\n",
        "        m = x[0]\n",
        "        if  n > m:\n",
        "            return -1\n",
        "        elif n == m:\n",
        "            return x[1]\n",
        "        else:\n",
        "            return fib_index(m, x[1]+1)\n",
        "\n",
        "\n",
        "# code from the previous example with the functions fib() and find_index()\n",
        "\n",
        "print(\" index of a |    a |     b | sum of squares | index \")\t\n",
        "print(\"=====================================================\")\n",
        "for i in range(15):\n",
        "    square = fib(i)**2 + fib(i+1)**2\n",
        "    print(f\"{i:12d}|{fib(i):6d}|{fib(i+1):9d}|{square:14d}|{fib_index(square):5d}\")"
      ],
      "metadata": {
        "id": "DY98TohpWHrJ"
      },
      "execution_count": null,
      "outputs": []
    },
    {
      "cell_type": "markdown",
      "source": [
        "데코레이터를 @memoize 를 사용하여 실제로 함수를 호출하지 않고 캐시된 값을 사용"
      ],
      "metadata": {
        "id": "sbL_e4JnLmXh"
      }
    },
    {
      "cell_type": "code",
      "source": [
        "def memoize(func):\n",
        "    cache = {}\n",
        "\n",
        "    def memoizer(*args, **kwargs):\n",
        "        key = str(args) + str(kwargs)\n",
        "        if key not in cache:\n",
        "            cache[key] = func(*args, **kwargs)\n",
        "        return cache[key]\n",
        "\n",
        "    return memoizer\n",
        "\n",
        "@memoize\n",
        "def expensive_fn(a, b):\n",
        "    return a + b  "
      ],
      "metadata": {
        "id": "u0ji3n5gLhMj"
      },
      "execution_count": null,
      "outputs": []
    },
    {
      "cell_type": "code",
      "source": [
        "expensive_fn(1, 2)"
      ],
      "metadata": {
        "id": "DUh0nR93MFJQ"
      },
      "execution_count": null,
      "outputs": []
    },
    {
      "cell_type": "markdown",
      "source": [
        "* The function $memoize$ uses a dictionary \"memo\" to store the function results\n",
        "* The call $memoize(fib)$ returns a reference to the $helper()$ which is doing what fib() would do on its own plus a wrapper which saves the calculated results\n",
        "\n",
        "* [메모이제이션](https://python-course.eu/images/advanced-python/memoize2_500w.webp)"
      ],
      "metadata": {
        "id": "s_s2nCp8N6eV"
      }
    },
    {
      "cell_type": "code",
      "source": [
        "def memoize(f):\n",
        "    memo = {}\n",
        "    def helper(x):\n",
        "        if x not in memo:            \n",
        "            memo[x] = f(x)\n",
        "        return memo[x]\n",
        "    return helper\n",
        "    \n",
        "def fib(n):\n",
        "    if n == 0:\n",
        "        return 0\n",
        "    elif n == 1:\n",
        "        return 1\n",
        "    else:\n",
        "        return fib(n-1) + fib(n-2)\n",
        "fib = memoize(fib)\n",
        "print(fib(40))"
      ],
      "metadata": {
        "id": "4snsrpuNNr83"
      },
      "execution_count": null,
      "outputs": []
    },
    {
      "cell_type": "code",
      "source": [
        "def memoize_fib(f):\n",
        "    memo = {}\n",
        "    def wrapper(x):\n",
        "        if x not in memo:            \n",
        "            memo[x] = f(x)\n",
        "        return memo[x]\n",
        "    return wrapper\n",
        "\n",
        "@memoize_fib\n",
        "def fib(n):\n",
        "    if n == 0:\n",
        "        return 0\n",
        "    elif n == 1:\n",
        "        return 1\n",
        "    else:\n",
        "        return fib(n-1) + fib(n-2)\n",
        "print(fib(40))"
      ],
      "metadata": {
        "id": "OiMzvhxJPXbA"
      },
      "execution_count": null,
      "outputs": []
    },
    {
      "cell_type": "code",
      "source": [
        "def memoize_fib(func):\n",
        "    memory = {}\n",
        "  \n",
        "    def wrapper(n):\n",
        "        if n not in memory.keys():         \n",
        "            memory[n] = func(n)\n",
        "        return memory[n]\n",
        "  \n",
        "    return wrapper\n",
        "\n",
        "\n",
        "@memoize_fib\n",
        "def fib(n):\n",
        "    if n < 1 or type(n) != int:\n",
        "        print('You need to input a positive integer.')\n",
        "        quit()\n",
        "    elif n in (1, 2):\n",
        "        return 1\n",
        "    else:\n",
        "        return fib(n-1) + fib(n-2)\n",
        "          \n",
        "  \n",
        "print(fib(100))"
      ],
      "metadata": {
        "id": "I_UkGKjvHnKl"
      },
      "execution_count": null,
      "outputs": []
    },
    {
      "cell_type": "code",
      "source": [
        "class Memoize:\n",
        "    def __init__(self, fn):\n",
        "        self.fn = fn\n",
        "        self.memo = {}\n",
        "    def __call__(self, *args):\n",
        "        if args not in self.memo:\n",
        "            self.memo[args] = self.fn(*args)\n",
        "        return self.memo[args]\n",
        "@Memoize\n",
        "def fib(n):\n",
        "    if n == 0:\n",
        "        return 0\n",
        "    elif n == 1:\n",
        "        return 1\n",
        "    else:\n",
        "        return fib(n-1) + fib(n-2)\n",
        "print(fib(40))"
      ],
      "metadata": {
        "id": "VgJawuYuP8kZ"
      },
      "execution_count": null,
      "outputs": []
    }
  ]
}