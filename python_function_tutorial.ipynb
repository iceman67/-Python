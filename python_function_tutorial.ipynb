{
  "nbformat": 4,
  "nbformat_minor": 0,
  "metadata": {
    "colab": {
      "name": "python_function_tutorial.ipynb",
      "provenance": [],
      "authorship_tag": "ABX9TyMkbd2vXgR3oNkpUSMhlByH",
      "include_colab_link": true
    },
    "kernelspec": {
      "name": "python3",
      "display_name": "Python 3"
    },
    "language_info": {
      "name": "python"
    }
  },
  "cells": [
    {
      "cell_type": "markdown",
      "metadata": {
        "id": "view-in-github",
        "colab_type": "text"
      },
      "source": [
        "<a href=\"https://colab.research.google.com/github/iceman67/-Python/blob/master/python_function_tutorial.ipynb\" target=\"_parent\"><img src=\"https://colab.research.google.com/assets/colab-badge.svg\" alt=\"Open In Colab\"/></a>"
      ]
    },
    {
      "cell_type": "markdown",
      "metadata": {
        "id": "jlUOX_i97sNY"
      },
      "source": [
        "#### 함수\n",
        "\n",
        "* 프로그램을 쪼개는 방법중 하나 (함수, 객체, 모듈)\n",
        "* 우리가 자주사용하는 코드를 묶어놓은 것\n",
        "* 필요시 호출하여 사용함\n",
        "* 함수를 사용하며 코드를 줄일 수 있음"
      ]
    },
    {
      "cell_type": "markdown",
      "metadata": {
        "id": "c7GpAWJn2pUb"
      },
      "source": [
        "* 값을 전달하고 결과를 반환하는 함수\n",
        "\n",
        "> radius 는 parameter(파라매터), 5는 argument (인자)\n",
        "\n"
      ]
    },
    {
      "cell_type": "code",
      "metadata": {
        "id": "8FAskXTI2yz9"
      },
      "source": [
        "def calculate_area(radius):\n",
        "  area = 3.14 * radius\n",
        "  return area\n"
      ],
      "execution_count": null,
      "outputs": []
    },
    {
      "cell_type": "code",
      "metadata": {
        "colab": {
          "base_uri": "https://localhost:8080/"
        },
        "id": "ZZ2wptoA6v3k",
        "outputId": "b398154c-cf6e-4932-fc31-676c13817ff8"
      },
      "source": [
        "print (calculate_area(5))"
      ],
      "execution_count": null,
      "outputs": [
        {
          "output_type": "stream",
          "text": [
            "15.700000000000001\n"
          ],
          "name": "stdout"
        }
      ]
    },
    {
      "cell_type": "markdown",
      "metadata": {
        "id": "7yIdSdbsIs_W"
      },
      "source": [
        "**Swap** the first two characters of each string.\n",
        "\n",
        "```\n",
        "    :param s1: string to have first two characters swapped\n",
        "    :type s1:  str\n",
        "    :param s2: string to have first two characters swapped\n",
        "    :type s2:  str\n",
        "\n",
        "    :return: two strings separated with a single space with first two\n",
        "    characters of each string swapped.\n",
        "    :rtype:  str\n",
        "```"
      ]
    },
    {
      "cell_type": "code",
      "metadata": {
        "id": "4AYcko9HG9Gs"
      },
      "source": [
        "def swap(s1, s2):\n",
        "    # swap first 2 characters of each string\n",
        "    first = s1[0:2]\n",
        "    s1 = s2[0:2] + s1[2:]\n",
        "    s2 = first + s2[2:]\n",
        "    # merge swapped s1 and s2\n",
        "    result = s1 + ' ' + s2\n",
        "    return result"
      ],
      "execution_count": null,
      "outputs": []
    },
    {
      "cell_type": "code",
      "metadata": {
        "colab": {
          "base_uri": "https://localhost:8080/"
        },
        "id": "Xws-_hQsHFb2",
        "outputId": "35275d3a-773e-4ff7-b891-84880ce21be6"
      },
      "source": [
        "cases_swap = ['abc,xyz', 'ab,xy', 'ab,xyz', 'aaaaa,bbb', 'aaa,bb']\n",
        "expect_swap = ['xyc abz', 'xy ab', 'xy abz', 'bbaaa aab', 'bba aa']\n",
        "\n",
        "# test swap()\n",
        "count = 0\n",
        "result = 1\n",
        "\n",
        "# check each testcase\n",
        "for testcase in cases_swap:\n",
        "  test1, test2 = testcase.split(sep=',')\n",
        "  if swap(test1, test2) != expect_swap[count]:\n",
        "      result = 0\n",
        "      break\n",
        "  count = count + 1\n",
        "  \n",
        "# report test result\n",
        "if result:\n",
        "  print(\"swap(): O\")\n",
        "else:\n",
        "  print(\"swap(): X\")"
      ],
      "execution_count": null,
      "outputs": [
        {
          "output_type": "stream",
          "text": [
            "swap(): O\n"
          ],
          "name": "stdout"
        }
      ]
    },
    {
      "cell_type": "markdown",
      "metadata": {
        "id": "AcfV6Pv02RfY"
      },
      "source": [
        "* 여러개의 값을 반환하는 함수"
      ]
    },
    {
      "cell_type": "code",
      "metadata": {
        "id": "58XCjZ_91KQX"
      },
      "source": [
        "def sort_num(num1, num2):\n",
        "  if num1 > num2:\n",
        "    return num2, num1\n",
        "  else:\n",
        "    return num1, num2"
      ],
      "execution_count": null,
      "outputs": []
    },
    {
      "cell_type": "code",
      "metadata": {
        "colab": {
          "base_uri": "https://localhost:8080/"
        },
        "id": "_dsSNRXi1XeI",
        "outputId": "ee9b23fe-1774-452b-e425-88ffc1d3e0e2"
      },
      "source": [
        "print (sort_num(10, 100))\n",
        "print (sort_num(100, 10))"
      ],
      "execution_count": null,
      "outputs": [
        {
          "output_type": "stream",
          "text": [
            "(10, 100)\n",
            "(10, 100)\n"
          ],
          "name": "stdout"
        }
      ]
    },
    {
      "cell_type": "markdown",
      "metadata": {
        "id": "817zI1Xu2TCW"
      },
      "source": [
        "* 함수 값의 전달과 반환"
      ]
    },
    {
      "cell_type": "code",
      "metadata": {
        "id": "edwAPxw615ft"
      },
      "source": [
        "def get_sum(start, end):\n",
        "  sum = 0\n",
        "  for i in range(start, end+1):\n",
        "    sum = sum + i\n",
        "\n",
        "  return sum"
      ],
      "execution_count": null,
      "outputs": []
    },
    {
      "cell_type": "code",
      "metadata": {
        "colab": {
          "base_uri": "https://localhost:8080/"
        },
        "id": "Djq5seI12NdI",
        "outputId": "287635fe-c55a-456d-afa5-383f9c195f37"
      },
      "source": [
        "print (get_sum(1,10))"
      ],
      "execution_count": null,
      "outputs": [
        {
          "output_type": "stream",
          "text": [
            "55\n"
          ],
          "name": "stdout"
        }
      ]
    },
    {
      "cell_type": "markdown",
      "metadata": {
        "id": "3Y07CkDz8f5J"
      },
      "source": [
        "* 변수의 범위\n",
        " > 함수안의 변수를 지역변수(local variable)이라함\n",
        " \n",
        " > 함수밖의 변수를 전역변수(global variable)이라함\n",
        "\n",
        "* 같은 이름 다른변수"
      ]
    },
    {
      "cell_type": "code",
      "metadata": {
        "colab": {
          "base_uri": "https://localhost:8080/"
        },
        "id": "f4Z61Xke8iDY",
        "outputId": "7127a874-08f2-4768-9f89-657f5d0fa660"
      },
      "source": [
        "def print_counter():\n",
        "  counter = 200   # 지역변수\n",
        "  print(\"counter = \", counter ) # 함수 내부\n",
        "\n",
        "counter = 100  # 전역변수\n",
        "print_counter()\n",
        "print(\"counter = \", counter ) # 함수 외부"
      ],
      "execution_count": null,
      "outputs": [
        {
          "output_type": "stream",
          "text": [
            "counter =  200\n",
            "counter =  100\n"
          ],
          "name": "stdout"
        }
      ]
    },
    {
      "cell_type": "code",
      "metadata": {
        "colab": {
          "base_uri": "https://localhost:8080/"
        },
        "id": "qMR8AvKU9T1m",
        "outputId": "5b3a7ba0-1e98-4afa-8ae9-af4560b24243"
      },
      "source": [
        "def print_counter():\n",
        "  global counter\n",
        "  counter = 200   # 지역변수\n",
        "  print(\"counter = \", counter ) # 함수 내부\n",
        "\n",
        "counter = 100  # 전역변수\n",
        "print_counter()\n",
        "print(\"counter = \", counter ) # 함수 외부"
      ],
      "execution_count": null,
      "outputs": [
        {
          "output_type": "stream",
          "text": [
            "counter =  200\n",
            "counter =  200\n"
          ],
          "name": "stdout"
        }
      ]
    }
  ]
}