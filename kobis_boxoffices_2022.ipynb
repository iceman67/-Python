{
  "nbformat": 4,
  "nbformat_minor": 0,
  "metadata": {
    "kernelspec": {
      "display_name": "Python 3",
      "language": "python",
      "name": "python3"
    },
    "language_info": {
      "codemirror_mode": {
        "name": "ipython",
        "version": 3
      },
      "file_extension": ".py",
      "mimetype": "text/x-python",
      "name": "python",
      "nbconvert_exporter": "python",
      "pygments_lexer": "ipython3",
      "version": "3.7.4"
    },
    "colab": {
      "name": "kobis boxoffices-2022.ipynb",
      "provenance": [],
      "collapsed_sections": [],
      "include_colab_link": true
    }
  },
  "cells": [
    {
      "cell_type": "markdown",
      "metadata": {
        "id": "view-in-github",
        "colab_type": "text"
      },
      "source": [
        "<a href=\"https://colab.research.google.com/github/iceman67/-Python/blob/master/kobis_boxoffices_2022.ipynb\" target=\"_parent\"><img src=\"https://colab.research.google.com/assets/colab-badge.svg\" alt=\"Open In Colab\"/></a>"
      ]
    },
    {
      "cell_type": "markdown",
      "metadata": {
        "id": "QrHuhEqTL0U4"
      },
      "source": [
        "KOBIS 박스오피스 openAPI 사용하기 \n",
        "* 일별 박스오피스 자료 요청 \n",
        "* 요청자료를 그룹핑하여 관람객의 변화를 분석함\n",
        "1. 일자별로 영화관람인을 집계함 \n",
        "2. 요일별로 영화관람인원을 집계함 \n",
        "---\n",
        "\n",
        "(JSON 요청)"
      ]
    },
    {
      "cell_type": "markdown",
      "metadata": {
        "id": "ShjrcT-0L0U2"
      },
      "source": [
        "http://kobis.or.kr/kobisopenapi/homepg/apiservice/searchServiceInfo.do"
      ]
    },
    {
      "cell_type": "code",
      "metadata": {
        "id": "UCLtHsyLL0U3"
      },
      "source": [
        "key='01f13234167ec2fd37e0de81f8308b1f'"
      ],
      "execution_count": null,
      "outputs": []
    },
    {
      "cell_type": "code",
      "metadata": {
        "id": "F6hW4DCeL0U4"
      },
      "source": [
        "import json\n",
        "import requests\n",
        "import pandas as pd"
      ],
      "execution_count": null,
      "outputs": []
    },
    {
      "cell_type": "code",
      "metadata": {
        "id": "bdiPbVoKL0U4"
      },
      "source": [
        "def getBoxOffice(mDate): \n",
        "    mURL = 'http://www.kobis.or.kr/kobisopenapi/webservice/rest/boxoffice/searchDailyBoxOfficeList.json?key=dac1451451ff54f43e1f0f59d3356f86&targetDt='+ str(mDate)\n",
        "    res = requests.get(mURL)\n",
        "    text = res.text\n",
        "    movieData = json.loads(text)\n",
        "    movieLen = len(movieData['boxOfficeResult']['dailyBoxOfficeList'])\n",
        "    movieDF = pd.DataFrame()\n",
        "    #movieDF = movieDF.append(  {\"tm\":\"\", \"title\":\"\", \"cnt\":\"\", \"salesShare\": \"\" }, ignore_index=True, sort=False )\n",
        "    for i in range(movieLen):\n",
        "        movieDF.loc[i,\"tm\"] = str(mDate)\n",
        "        movieDF.loc[i,\"tm\"] = pd.to_datetime(movieDF.loc[i,\"tm\"], infer_datetime_format=True)\n",
        "        movieDF.loc[i,\"title\"]= movieData['boxOfficeResult']['dailyBoxOfficeList'][i]['movieNm']\n",
        "        movieDF.loc[i, \"cnt\"] = movieData['boxOfficeResult']['dailyBoxOfficeList'][i]['salesAmt']\n",
        "        movieDF.loc[i, \"salesShare\"] = float(movieData['boxOfficeResult']['dailyBoxOfficeList'][i]['salesShare'])\n",
        "    return movieDF\n",
        "    #print(movieDF.head())\n",
        "    "
      ],
      "execution_count": null,
      "outputs": []
    },
    {
      "cell_type": "code",
      "source": [
        "# 기준일을 2018년 1월으로 지정한 경우임 \n",
        "base= 20180100\n",
        "for i in range(1,31):\n",
        "    movieDF = getBoxOffice(base+i)\n",
        "    movieDF.to_csv('movie'+str(base+i)+'.csv', encoding='utf-8-sig', index=False,header=False)"
      ],
      "metadata": {
        "id": "AjtzkaktEWXI"
      },
      "execution_count": null,
      "outputs": []
    },
    {
      "cell_type": "code",
      "source": [
        "# 기준일을 2018년 2월으로 지정한 경우임 \n",
        "base= 20180200\n",
        "for i in range(1,29):\n",
        "    movieDF = getBoxOffice(base+i)\n",
        "    movieDF.to_csv('movie'+str(base+i)+'.csv', encoding='utf-8-sig', index=False,header=False)"
      ],
      "metadata": {
        "id": "xqoqfDpAjpnr"
      },
      "execution_count": null,
      "outputs": []
    },
    {
      "cell_type": "code",
      "metadata": {
        "id": "pqa2znEk1H48"
      },
      "source": [
        "import glob\n",
        "\n",
        "total_movie=pd.DataFrame()\n",
        "for infile in glob.glob(\"*.csv\"):\n",
        "    data = pd.read_csv(infile,names=['tm', 'title', 'cnt', 'salesShare', 'salesChange'],\n",
        "                                     parse_dates=['tm'])\n",
        "    total_movie=total_movie.append(data,ignore_index=True)"
      ],
      "execution_count": null,
      "outputs": []
    },
    {
      "cell_type": "code",
      "source": [
        "total_movie.head()\n",
        "base = 2018\n",
        "total_movie.to_csv('movie'+str(base)+'.csv', encoding='utf-8-sig', index=False, header=None)"
      ],
      "metadata": {
        "id": "AqS1S3bnB-PK"
      },
      "execution_count": null,
      "outputs": []
    },
    {
      "cell_type": "code",
      "source": [
        "total_movie.head()"
      ],
      "metadata": {
        "colab": {
          "base_uri": "https://localhost:8080/",
          "height": 206
        },
        "id": "7q9C-ur_fela",
        "outputId": "5a24661d-0afa-470c-d119-f3dcd6c085d7"
      },
      "execution_count": null,
      "outputs": [
        {
          "output_type": "execute_result",
          "data": {
            "text/plain": [
              "          tm            title        cnt  salesShare  salesChange\n",
              "0 2018-02-12  조선명탐정: 흡혈괴마의 비밀  688680700        43.8          NaN\n",
              "1 2018-02-12        그것만이 내 세상  214763400        13.6          NaN\n",
              "2 2018-02-12               코코  129901700         8.3          NaN\n",
              "3 2018-02-12    인시디어스4: 라스트 키   91854300         5.8          NaN\n",
              "4 2018-02-12            패딩턴 2   82234000         5.2          NaN"
            ],
            "text/html": [
              "\n",
              "  <div id=\"df-c07bbfee-2cb5-4b25-85f5-c6a7743a79e1\">\n",
              "    <div class=\"colab-df-container\">\n",
              "      <div>\n",
              "<style scoped>\n",
              "    .dataframe tbody tr th:only-of-type {\n",
              "        vertical-align: middle;\n",
              "    }\n",
              "\n",
              "    .dataframe tbody tr th {\n",
              "        vertical-align: top;\n",
              "    }\n",
              "\n",
              "    .dataframe thead th {\n",
              "        text-align: right;\n",
              "    }\n",
              "</style>\n",
              "<table border=\"1\" class=\"dataframe\">\n",
              "  <thead>\n",
              "    <tr style=\"text-align: right;\">\n",
              "      <th></th>\n",
              "      <th>tm</th>\n",
              "      <th>title</th>\n",
              "      <th>cnt</th>\n",
              "      <th>salesShare</th>\n",
              "      <th>salesChange</th>\n",
              "    </tr>\n",
              "  </thead>\n",
              "  <tbody>\n",
              "    <tr>\n",
              "      <th>0</th>\n",
              "      <td>2018-02-12</td>\n",
              "      <td>조선명탐정: 흡혈괴마의 비밀</td>\n",
              "      <td>688680700</td>\n",
              "      <td>43.8</td>\n",
              "      <td>NaN</td>\n",
              "    </tr>\n",
              "    <tr>\n",
              "      <th>1</th>\n",
              "      <td>2018-02-12</td>\n",
              "      <td>그것만이 내 세상</td>\n",
              "      <td>214763400</td>\n",
              "      <td>13.6</td>\n",
              "      <td>NaN</td>\n",
              "    </tr>\n",
              "    <tr>\n",
              "      <th>2</th>\n",
              "      <td>2018-02-12</td>\n",
              "      <td>코코</td>\n",
              "      <td>129901700</td>\n",
              "      <td>8.3</td>\n",
              "      <td>NaN</td>\n",
              "    </tr>\n",
              "    <tr>\n",
              "      <th>3</th>\n",
              "      <td>2018-02-12</td>\n",
              "      <td>인시디어스4: 라스트 키</td>\n",
              "      <td>91854300</td>\n",
              "      <td>5.8</td>\n",
              "      <td>NaN</td>\n",
              "    </tr>\n",
              "    <tr>\n",
              "      <th>4</th>\n",
              "      <td>2018-02-12</td>\n",
              "      <td>패딩턴 2</td>\n",
              "      <td>82234000</td>\n",
              "      <td>5.2</td>\n",
              "      <td>NaN</td>\n",
              "    </tr>\n",
              "  </tbody>\n",
              "</table>\n",
              "</div>\n",
              "      <button class=\"colab-df-convert\" onclick=\"convertToInteractive('df-c07bbfee-2cb5-4b25-85f5-c6a7743a79e1')\"\n",
              "              title=\"Convert this dataframe to an interactive table.\"\n",
              "              style=\"display:none;\">\n",
              "        \n",
              "  <svg xmlns=\"http://www.w3.org/2000/svg\" height=\"24px\"viewBox=\"0 0 24 24\"\n",
              "       width=\"24px\">\n",
              "    <path d=\"M0 0h24v24H0V0z\" fill=\"none\"/>\n",
              "    <path d=\"M18.56 5.44l.94 2.06.94-2.06 2.06-.94-2.06-.94-.94-2.06-.94 2.06-2.06.94zm-11 1L8.5 8.5l.94-2.06 2.06-.94-2.06-.94L8.5 2.5l-.94 2.06-2.06.94zm10 10l.94 2.06.94-2.06 2.06-.94-2.06-.94-.94-2.06-.94 2.06-2.06.94z\"/><path d=\"M17.41 7.96l-1.37-1.37c-.4-.4-.92-.59-1.43-.59-.52 0-1.04.2-1.43.59L10.3 9.45l-7.72 7.72c-.78.78-.78 2.05 0 2.83L4 21.41c.39.39.9.59 1.41.59.51 0 1.02-.2 1.41-.59l7.78-7.78 2.81-2.81c.8-.78.8-2.07 0-2.86zM5.41 20L4 18.59l7.72-7.72 1.47 1.35L5.41 20z\"/>\n",
              "  </svg>\n",
              "      </button>\n",
              "      \n",
              "  <style>\n",
              "    .colab-df-container {\n",
              "      display:flex;\n",
              "      flex-wrap:wrap;\n",
              "      gap: 12px;\n",
              "    }\n",
              "\n",
              "    .colab-df-convert {\n",
              "      background-color: #E8F0FE;\n",
              "      border: none;\n",
              "      border-radius: 50%;\n",
              "      cursor: pointer;\n",
              "      display: none;\n",
              "      fill: #1967D2;\n",
              "      height: 32px;\n",
              "      padding: 0 0 0 0;\n",
              "      width: 32px;\n",
              "    }\n",
              "\n",
              "    .colab-df-convert:hover {\n",
              "      background-color: #E2EBFA;\n",
              "      box-shadow: 0px 1px 2px rgba(60, 64, 67, 0.3), 0px 1px 3px 1px rgba(60, 64, 67, 0.15);\n",
              "      fill: #174EA6;\n",
              "    }\n",
              "\n",
              "    [theme=dark] .colab-df-convert {\n",
              "      background-color: #3B4455;\n",
              "      fill: #D2E3FC;\n",
              "    }\n",
              "\n",
              "    [theme=dark] .colab-df-convert:hover {\n",
              "      background-color: #434B5C;\n",
              "      box-shadow: 0px 1px 3px 1px rgba(0, 0, 0, 0.15);\n",
              "      filter: drop-shadow(0px 1px 2px rgba(0, 0, 0, 0.3));\n",
              "      fill: #FFFFFF;\n",
              "    }\n",
              "  </style>\n",
              "\n",
              "      <script>\n",
              "        const buttonEl =\n",
              "          document.querySelector('#df-c07bbfee-2cb5-4b25-85f5-c6a7743a79e1 button.colab-df-convert');\n",
              "        buttonEl.style.display =\n",
              "          google.colab.kernel.accessAllowed ? 'block' : 'none';\n",
              "\n",
              "        async function convertToInteractive(key) {\n",
              "          const element = document.querySelector('#df-c07bbfee-2cb5-4b25-85f5-c6a7743a79e1');\n",
              "          const dataTable =\n",
              "            await google.colab.kernel.invokeFunction('convertToInteractive',\n",
              "                                                     [key], {});\n",
              "          if (!dataTable) return;\n",
              "\n",
              "          const docLinkHtml = 'Like what you see? Visit the ' +\n",
              "            '<a target=\"_blank\" href=https://colab.research.google.com/notebooks/data_table.ipynb>data table notebook</a>'\n",
              "            + ' to learn more about interactive tables.';\n",
              "          element.innerHTML = '';\n",
              "          dataTable['output_type'] = 'display_data';\n",
              "          await google.colab.output.renderOutput(dataTable, element);\n",
              "          const docLink = document.createElement('div');\n",
              "          docLink.innerHTML = docLinkHtml;\n",
              "          element.appendChild(docLink);\n",
              "        }\n",
              "      </script>\n",
              "    </div>\n",
              "  </div>\n",
              "  "
            ]
          },
          "metadata": {},
          "execution_count": 32
        }
      ]
    },
    {
      "cell_type": "code",
      "source": [
        "total_movie['weekday'] = total_movie['tm'].dt.dayofweek"
      ],
      "metadata": {
        "id": "FsDlXj3LqSrH"
      },
      "execution_count": null,
      "outputs": []
    },
    {
      "cell_type": "code",
      "source": [
        "total_movie.head()\n",
        "total_movie.drop('salesChange',axis=1, inplace=True)"
      ],
      "metadata": {
        "id": "dywZ58n-qpRU"
      },
      "execution_count": null,
      "outputs": []
    },
    {
      "cell_type": "markdown",
      "source": [
        "일별로 자료\b를 그룹핑함 "
      ],
      "metadata": {
        "id": "wUFM-yvVrVlo"
      }
    },
    {
      "cell_type": "code",
      "source": [
        "grouped = total_movie.groupby(total_movie['tm'], as_index=False).sum()"
      ],
      "metadata": {
        "id": "sJ2WsEwoYqto"
      },
      "execution_count": null,
      "outputs": []
    },
    {
      "cell_type": "code",
      "source": [
        "grouped"
      ],
      "metadata": {
        "id": "x1JJ3ptiqaXC"
      },
      "execution_count": null,
      "outputs": []
    },
    {
      "cell_type": "code",
      "source": [
        "movie_day_group = grouped[['tm', 'cnt']]"
      ],
      "metadata": {
        "id": "8HtLOgtJZDGp"
      },
      "execution_count": null,
      "outputs": []
    },
    {
      "cell_type": "markdown",
      "source": [
        "요일별 자료그룹핑\n",
        "* 월요일 = 0, 일요일 = 6 인 요일\n",
        "\n"
      ],
      "metadata": {
        "id": "QiAmrzXtrtDz"
      }
    },
    {
      "cell_type": "code",
      "source": [
        "grouped = total_movie.groupby(total_movie['weekday'], as_index=False).sum()"
      ],
      "metadata": {
        "id": "VEgqcZAGqA27"
      },
      "execution_count": null,
      "outputs": []
    },
    {
      "cell_type": "code",
      "source": [
        "grouped"
      ],
      "metadata": {
        "colab": {
          "base_uri": "https://localhost:8080/",
          "height": 269
        },
        "id": "xhghRKlmrz7G",
        "outputId": "88e0be5f-8961-4d3f-e115-3fd413e8e007"
      },
      "execution_count": null,
      "outputs": [
        {
          "output_type": "execute_result",
          "data": {
            "text/plain": [
              "   weekday          cnt  salesShare\n",
              "0        0  34908791350       858.5\n",
              "1        1  24047845000       839.0\n",
              "2        2  31176674300       766.5\n",
              "3        3  31110969000       759.4\n",
              "4        4  38244063739       765.5\n",
              "5        5  71722289913       776.1\n",
              "6        6  64565392600       776.1"
            ],
            "text/html": [
              "\n",
              "  <div id=\"df-b100b806-5c42-4533-89db-7e4b1948e7e0\">\n",
              "    <div class=\"colab-df-container\">\n",
              "      <div>\n",
              "<style scoped>\n",
              "    .dataframe tbody tr th:only-of-type {\n",
              "        vertical-align: middle;\n",
              "    }\n",
              "\n",
              "    .dataframe tbody tr th {\n",
              "        vertical-align: top;\n",
              "    }\n",
              "\n",
              "    .dataframe thead th {\n",
              "        text-align: right;\n",
              "    }\n",
              "</style>\n",
              "<table border=\"1\" class=\"dataframe\">\n",
              "  <thead>\n",
              "    <tr style=\"text-align: right;\">\n",
              "      <th></th>\n",
              "      <th>weekday</th>\n",
              "      <th>cnt</th>\n",
              "      <th>salesShare</th>\n",
              "    </tr>\n",
              "  </thead>\n",
              "  <tbody>\n",
              "    <tr>\n",
              "      <th>0</th>\n",
              "      <td>0</td>\n",
              "      <td>34908791350</td>\n",
              "      <td>858.5</td>\n",
              "    </tr>\n",
              "    <tr>\n",
              "      <th>1</th>\n",
              "      <td>1</td>\n",
              "      <td>24047845000</td>\n",
              "      <td>839.0</td>\n",
              "    </tr>\n",
              "    <tr>\n",
              "      <th>2</th>\n",
              "      <td>2</td>\n",
              "      <td>31176674300</td>\n",
              "      <td>766.5</td>\n",
              "    </tr>\n",
              "    <tr>\n",
              "      <th>3</th>\n",
              "      <td>3</td>\n",
              "      <td>31110969000</td>\n",
              "      <td>759.4</td>\n",
              "    </tr>\n",
              "    <tr>\n",
              "      <th>4</th>\n",
              "      <td>4</td>\n",
              "      <td>38244063739</td>\n",
              "      <td>765.5</td>\n",
              "    </tr>\n",
              "    <tr>\n",
              "      <th>5</th>\n",
              "      <td>5</td>\n",
              "      <td>71722289913</td>\n",
              "      <td>776.1</td>\n",
              "    </tr>\n",
              "    <tr>\n",
              "      <th>6</th>\n",
              "      <td>6</td>\n",
              "      <td>64565392600</td>\n",
              "      <td>776.1</td>\n",
              "    </tr>\n",
              "  </tbody>\n",
              "</table>\n",
              "</div>\n",
              "      <button class=\"colab-df-convert\" onclick=\"convertToInteractive('df-b100b806-5c42-4533-89db-7e4b1948e7e0')\"\n",
              "              title=\"Convert this dataframe to an interactive table.\"\n",
              "              style=\"display:none;\">\n",
              "        \n",
              "  <svg xmlns=\"http://www.w3.org/2000/svg\" height=\"24px\"viewBox=\"0 0 24 24\"\n",
              "       width=\"24px\">\n",
              "    <path d=\"M0 0h24v24H0V0z\" fill=\"none\"/>\n",
              "    <path d=\"M18.56 5.44l.94 2.06.94-2.06 2.06-.94-2.06-.94-.94-2.06-.94 2.06-2.06.94zm-11 1L8.5 8.5l.94-2.06 2.06-.94-2.06-.94L8.5 2.5l-.94 2.06-2.06.94zm10 10l.94 2.06.94-2.06 2.06-.94-2.06-.94-.94-2.06-.94 2.06-2.06.94z\"/><path d=\"M17.41 7.96l-1.37-1.37c-.4-.4-.92-.59-1.43-.59-.52 0-1.04.2-1.43.59L10.3 9.45l-7.72 7.72c-.78.78-.78 2.05 0 2.83L4 21.41c.39.39.9.59 1.41.59.51 0 1.02-.2 1.41-.59l7.78-7.78 2.81-2.81c.8-.78.8-2.07 0-2.86zM5.41 20L4 18.59l7.72-7.72 1.47 1.35L5.41 20z\"/>\n",
              "  </svg>\n",
              "      </button>\n",
              "      \n",
              "  <style>\n",
              "    .colab-df-container {\n",
              "      display:flex;\n",
              "      flex-wrap:wrap;\n",
              "      gap: 12px;\n",
              "    }\n",
              "\n",
              "    .colab-df-convert {\n",
              "      background-color: #E8F0FE;\n",
              "      border: none;\n",
              "      border-radius: 50%;\n",
              "      cursor: pointer;\n",
              "      display: none;\n",
              "      fill: #1967D2;\n",
              "      height: 32px;\n",
              "      padding: 0 0 0 0;\n",
              "      width: 32px;\n",
              "    }\n",
              "\n",
              "    .colab-df-convert:hover {\n",
              "      background-color: #E2EBFA;\n",
              "      box-shadow: 0px 1px 2px rgba(60, 64, 67, 0.3), 0px 1px 3px 1px rgba(60, 64, 67, 0.15);\n",
              "      fill: #174EA6;\n",
              "    }\n",
              "\n",
              "    [theme=dark] .colab-df-convert {\n",
              "      background-color: #3B4455;\n",
              "      fill: #D2E3FC;\n",
              "    }\n",
              "\n",
              "    [theme=dark] .colab-df-convert:hover {\n",
              "      background-color: #434B5C;\n",
              "      box-shadow: 0px 1px 3px 1px rgba(0, 0, 0, 0.15);\n",
              "      filter: drop-shadow(0px 1px 2px rgba(0, 0, 0, 0.3));\n",
              "      fill: #FFFFFF;\n",
              "    }\n",
              "  </style>\n",
              "\n",
              "      <script>\n",
              "        const buttonEl =\n",
              "          document.querySelector('#df-b100b806-5c42-4533-89db-7e4b1948e7e0 button.colab-df-convert');\n",
              "        buttonEl.style.display =\n",
              "          google.colab.kernel.accessAllowed ? 'block' : 'none';\n",
              "\n",
              "        async function convertToInteractive(key) {\n",
              "          const element = document.querySelector('#df-b100b806-5c42-4533-89db-7e4b1948e7e0');\n",
              "          const dataTable =\n",
              "            await google.colab.kernel.invokeFunction('convertToInteractive',\n",
              "                                                     [key], {});\n",
              "          if (!dataTable) return;\n",
              "\n",
              "          const docLinkHtml = 'Like what you see? Visit the ' +\n",
              "            '<a target=\"_blank\" href=https://colab.research.google.com/notebooks/data_table.ipynb>data table notebook</a>'\n",
              "            + ' to learn more about interactive tables.';\n",
              "          element.innerHTML = '';\n",
              "          dataTable['output_type'] = 'display_data';\n",
              "          await google.colab.output.renderOutput(dataTable, element);\n",
              "          const docLink = document.createElement('div');\n",
              "          docLink.innerHTML = docLinkHtml;\n",
              "          element.appendChild(docLink);\n",
              "        }\n",
              "      </script>\n",
              "    </div>\n",
              "  </div>\n",
              "  "
            ]
          },
          "metadata": {},
          "execution_count": 49
        }
      ]
    },
    {
      "cell_type": "markdown",
      "source": [
        "* 실습 2018년 8월 요일별 영화관객 분석"
      ],
      "metadata": {
        "id": "o56xJ4HKtTEL"
      }
    },
    {
      "cell_type": "code",
      "source": [
        "# 기준일을 2018년 8월으로 지정한 경우임 \n",
        "base= 20180800\n",
        "for i in range(1,32):\n",
        "    movieDF = getBoxOffice(base+i)\n",
        "    movieDF.to_csv('movie'+str(base+i)+'.csv', encoding='utf-8-sig', index=False,header=False)"
      ],
      "metadata": {
        "id": "BOz-a32-tRn-"
      },
      "execution_count": null,
      "outputs": []
    },
    {
      "cell_type": "code",
      "metadata": {
        "id": "2gdEYmBLtRn_"
      },
      "source": [
        "import glob\n",
        "\n",
        "total_movie=pd.DataFrame()\n",
        "for infile in glob.glob(\"*.csv\"):\n",
        "    data = pd.read_csv(infile,names=['tm', 'title', 'cnt', 'salesShare', 'salesChange'],\n",
        "                                     parse_dates=['tm'])\n",
        "    total_movie=total_movie.append(data,ignore_index=True)"
      ],
      "execution_count": null,
      "outputs": []
    },
    {
      "cell_type": "code",
      "source": [
        "total_movie.head()\n",
        "base = 2018\n",
        "total_movie.to_csv('movie'+str(base)+'.csv', encoding='utf-8-sig', index=False, header=None)"
      ],
      "metadata": {
        "id": "KGFjhE9GtRoA"
      },
      "execution_count": null,
      "outputs": []
    },
    {
      "cell_type": "code",
      "source": [
        "total_movie.head()"
      ],
      "metadata": {
        "colab": {
          "base_uri": "https://localhost:8080/",
          "height": 206
        },
        "outputId": "352e9854-299f-4d63-e74f-e69705b2129b",
        "id": "T6Xe4jvFtRoB"
      },
      "execution_count": null,
      "outputs": [
        {
          "output_type": "execute_result",
          "data": {
            "text/plain": [
              "          tm            title        cnt  salesShare  salesChange\n",
              "0 2018-02-12  조선명탐정: 흡혈괴마의 비밀  688680700        43.8          NaN\n",
              "1 2018-02-12        그것만이 내 세상  214763400        13.6          NaN\n",
              "2 2018-02-12               코코  129901700         8.3          NaN\n",
              "3 2018-02-12    인시디어스4: 라스트 키   91854300         5.8          NaN\n",
              "4 2018-02-12            패딩턴 2   82234000         5.2          NaN"
            ],
            "text/html": [
              "\n",
              "  <div id=\"df-181c14e5-4785-445d-b293-c442e5bbbed5\">\n",
              "    <div class=\"colab-df-container\">\n",
              "      <div>\n",
              "<style scoped>\n",
              "    .dataframe tbody tr th:only-of-type {\n",
              "        vertical-align: middle;\n",
              "    }\n",
              "\n",
              "    .dataframe tbody tr th {\n",
              "        vertical-align: top;\n",
              "    }\n",
              "\n",
              "    .dataframe thead th {\n",
              "        text-align: right;\n",
              "    }\n",
              "</style>\n",
              "<table border=\"1\" class=\"dataframe\">\n",
              "  <thead>\n",
              "    <tr style=\"text-align: right;\">\n",
              "      <th></th>\n",
              "      <th>tm</th>\n",
              "      <th>title</th>\n",
              "      <th>cnt</th>\n",
              "      <th>salesShare</th>\n",
              "      <th>salesChange</th>\n",
              "    </tr>\n",
              "  </thead>\n",
              "  <tbody>\n",
              "    <tr>\n",
              "      <th>0</th>\n",
              "      <td>2018-02-12</td>\n",
              "      <td>조선명탐정: 흡혈괴마의 비밀</td>\n",
              "      <td>688680700</td>\n",
              "      <td>43.8</td>\n",
              "      <td>NaN</td>\n",
              "    </tr>\n",
              "    <tr>\n",
              "      <th>1</th>\n",
              "      <td>2018-02-12</td>\n",
              "      <td>그것만이 내 세상</td>\n",
              "      <td>214763400</td>\n",
              "      <td>13.6</td>\n",
              "      <td>NaN</td>\n",
              "    </tr>\n",
              "    <tr>\n",
              "      <th>2</th>\n",
              "      <td>2018-02-12</td>\n",
              "      <td>코코</td>\n",
              "      <td>129901700</td>\n",
              "      <td>8.3</td>\n",
              "      <td>NaN</td>\n",
              "    </tr>\n",
              "    <tr>\n",
              "      <th>3</th>\n",
              "      <td>2018-02-12</td>\n",
              "      <td>인시디어스4: 라스트 키</td>\n",
              "      <td>91854300</td>\n",
              "      <td>5.8</td>\n",
              "      <td>NaN</td>\n",
              "    </tr>\n",
              "    <tr>\n",
              "      <th>4</th>\n",
              "      <td>2018-02-12</td>\n",
              "      <td>패딩턴 2</td>\n",
              "      <td>82234000</td>\n",
              "      <td>5.2</td>\n",
              "      <td>NaN</td>\n",
              "    </tr>\n",
              "  </tbody>\n",
              "</table>\n",
              "</div>\n",
              "      <button class=\"colab-df-convert\" onclick=\"convertToInteractive('df-181c14e5-4785-445d-b293-c442e5bbbed5')\"\n",
              "              title=\"Convert this dataframe to an interactive table.\"\n",
              "              style=\"display:none;\">\n",
              "        \n",
              "  <svg xmlns=\"http://www.w3.org/2000/svg\" height=\"24px\"viewBox=\"0 0 24 24\"\n",
              "       width=\"24px\">\n",
              "    <path d=\"M0 0h24v24H0V0z\" fill=\"none\"/>\n",
              "    <path d=\"M18.56 5.44l.94 2.06.94-2.06 2.06-.94-2.06-.94-.94-2.06-.94 2.06-2.06.94zm-11 1L8.5 8.5l.94-2.06 2.06-.94-2.06-.94L8.5 2.5l-.94 2.06-2.06.94zm10 10l.94 2.06.94-2.06 2.06-.94-2.06-.94-.94-2.06-.94 2.06-2.06.94z\"/><path d=\"M17.41 7.96l-1.37-1.37c-.4-.4-.92-.59-1.43-.59-.52 0-1.04.2-1.43.59L10.3 9.45l-7.72 7.72c-.78.78-.78 2.05 0 2.83L4 21.41c.39.39.9.59 1.41.59.51 0 1.02-.2 1.41-.59l7.78-7.78 2.81-2.81c.8-.78.8-2.07 0-2.86zM5.41 20L4 18.59l7.72-7.72 1.47 1.35L5.41 20z\"/>\n",
              "  </svg>\n",
              "      </button>\n",
              "      \n",
              "  <style>\n",
              "    .colab-df-container {\n",
              "      display:flex;\n",
              "      flex-wrap:wrap;\n",
              "      gap: 12px;\n",
              "    }\n",
              "\n",
              "    .colab-df-convert {\n",
              "      background-color: #E8F0FE;\n",
              "      border: none;\n",
              "      border-radius: 50%;\n",
              "      cursor: pointer;\n",
              "      display: none;\n",
              "      fill: #1967D2;\n",
              "      height: 32px;\n",
              "      padding: 0 0 0 0;\n",
              "      width: 32px;\n",
              "    }\n",
              "\n",
              "    .colab-df-convert:hover {\n",
              "      background-color: #E2EBFA;\n",
              "      box-shadow: 0px 1px 2px rgba(60, 64, 67, 0.3), 0px 1px 3px 1px rgba(60, 64, 67, 0.15);\n",
              "      fill: #174EA6;\n",
              "    }\n",
              "\n",
              "    [theme=dark] .colab-df-convert {\n",
              "      background-color: #3B4455;\n",
              "      fill: #D2E3FC;\n",
              "    }\n",
              "\n",
              "    [theme=dark] .colab-df-convert:hover {\n",
              "      background-color: #434B5C;\n",
              "      box-shadow: 0px 1px 3px 1px rgba(0, 0, 0, 0.15);\n",
              "      filter: drop-shadow(0px 1px 2px rgba(0, 0, 0, 0.3));\n",
              "      fill: #FFFFFF;\n",
              "    }\n",
              "  </style>\n",
              "\n",
              "      <script>\n",
              "        const buttonEl =\n",
              "          document.querySelector('#df-181c14e5-4785-445d-b293-c442e5bbbed5 button.colab-df-convert');\n",
              "        buttonEl.style.display =\n",
              "          google.colab.kernel.accessAllowed ? 'block' : 'none';\n",
              "\n",
              "        async function convertToInteractive(key) {\n",
              "          const element = document.querySelector('#df-181c14e5-4785-445d-b293-c442e5bbbed5');\n",
              "          const dataTable =\n",
              "            await google.colab.kernel.invokeFunction('convertToInteractive',\n",
              "                                                     [key], {});\n",
              "          if (!dataTable) return;\n",
              "\n",
              "          const docLinkHtml = 'Like what you see? Visit the ' +\n",
              "            '<a target=\"_blank\" href=https://colab.research.google.com/notebooks/data_table.ipynb>data table notebook</a>'\n",
              "            + ' to learn more about interactive tables.';\n",
              "          element.innerHTML = '';\n",
              "          dataTable['output_type'] = 'display_data';\n",
              "          await google.colab.output.renderOutput(dataTable, element);\n",
              "          const docLink = document.createElement('div');\n",
              "          docLink.innerHTML = docLinkHtml;\n",
              "          element.appendChild(docLink);\n",
              "        }\n",
              "      </script>\n",
              "    </div>\n",
              "  </div>\n",
              "  "
            ]
          },
          "metadata": {},
          "execution_count": 53
        }
      ]
    },
    {
      "cell_type": "code",
      "source": [
        "total_movie['weekday'] = total_movie['tm'].dt.dayofweek"
      ],
      "metadata": {
        "id": "d9VPbkKWuIQP"
      },
      "execution_count": null,
      "outputs": []
    },
    {
      "cell_type": "code",
      "source": [
        "total_movie.head()\n",
        "total_movie.drop('salesChange',axis=1, inplace=True)"
      ],
      "metadata": {
        "id": "B8Drhu5-uIQQ"
      },
      "execution_count": null,
      "outputs": []
    },
    {
      "cell_type": "markdown",
      "source": [
        "요일별 자료그룹핑\n",
        "* 월요일 = 0, 일요일 = 6 인 요일\n",
        "\n"
      ],
      "metadata": {
        "id": "_M-dUjIFt4N7"
      }
    },
    {
      "cell_type": "code",
      "source": [
        "grouped = total_movie.groupby(total_movie['weekday'], as_index=False).sum()"
      ],
      "metadata": {
        "id": "LZW676Lut4N9"
      },
      "execution_count": null,
      "outputs": []
    },
    {
      "cell_type": "code",
      "source": [
        "grouped"
      ],
      "metadata": {
        "colab": {
          "base_uri": "https://localhost:8080/",
          "height": 269
        },
        "outputId": "71770eac-9cc3-4865-e620-3d1cd38403f8",
        "id": "QMfYPr0tt4N9"
      },
      "execution_count": null,
      "outputs": [
        {
          "output_type": "execute_result",
          "data": {
            "text/plain": [
              "   weekday           cnt  salesShare\n",
              "0        0   88233380000      2108.3\n",
              "1        1   66154921400      2066.5\n",
              "2        2  107641703300      2021.7\n",
              "3        3   92634500450      2005.1\n",
              "4        4  112864138640      2020.2\n",
              "5        5  196050753346      1946.3\n",
              "6        6  176683341700      1946.3"
            ],
            "text/html": [
              "\n",
              "  <div id=\"df-612cdcd0-ee0b-4627-ab62-392b5603e0ac\">\n",
              "    <div class=\"colab-df-container\">\n",
              "      <div>\n",
              "<style scoped>\n",
              "    .dataframe tbody tr th:only-of-type {\n",
              "        vertical-align: middle;\n",
              "    }\n",
              "\n",
              "    .dataframe tbody tr th {\n",
              "        vertical-align: top;\n",
              "    }\n",
              "\n",
              "    .dataframe thead th {\n",
              "        text-align: right;\n",
              "    }\n",
              "</style>\n",
              "<table border=\"1\" class=\"dataframe\">\n",
              "  <thead>\n",
              "    <tr style=\"text-align: right;\">\n",
              "      <th></th>\n",
              "      <th>weekday</th>\n",
              "      <th>cnt</th>\n",
              "      <th>salesShare</th>\n",
              "    </tr>\n",
              "  </thead>\n",
              "  <tbody>\n",
              "    <tr>\n",
              "      <th>0</th>\n",
              "      <td>0</td>\n",
              "      <td>88233380000</td>\n",
              "      <td>2108.3</td>\n",
              "    </tr>\n",
              "    <tr>\n",
              "      <th>1</th>\n",
              "      <td>1</td>\n",
              "      <td>66154921400</td>\n",
              "      <td>2066.5</td>\n",
              "    </tr>\n",
              "    <tr>\n",
              "      <th>2</th>\n",
              "      <td>2</td>\n",
              "      <td>107641703300</td>\n",
              "      <td>2021.7</td>\n",
              "    </tr>\n",
              "    <tr>\n",
              "      <th>3</th>\n",
              "      <td>3</td>\n",
              "      <td>92634500450</td>\n",
              "      <td>2005.1</td>\n",
              "    </tr>\n",
              "    <tr>\n",
              "      <th>4</th>\n",
              "      <td>4</td>\n",
              "      <td>112864138640</td>\n",
              "      <td>2020.2</td>\n",
              "    </tr>\n",
              "    <tr>\n",
              "      <th>5</th>\n",
              "      <td>5</td>\n",
              "      <td>196050753346</td>\n",
              "      <td>1946.3</td>\n",
              "    </tr>\n",
              "    <tr>\n",
              "      <th>6</th>\n",
              "      <td>6</td>\n",
              "      <td>176683341700</td>\n",
              "      <td>1946.3</td>\n",
              "    </tr>\n",
              "  </tbody>\n",
              "</table>\n",
              "</div>\n",
              "      <button class=\"colab-df-convert\" onclick=\"convertToInteractive('df-612cdcd0-ee0b-4627-ab62-392b5603e0ac')\"\n",
              "              title=\"Convert this dataframe to an interactive table.\"\n",
              "              style=\"display:none;\">\n",
              "        \n",
              "  <svg xmlns=\"http://www.w3.org/2000/svg\" height=\"24px\"viewBox=\"0 0 24 24\"\n",
              "       width=\"24px\">\n",
              "    <path d=\"M0 0h24v24H0V0z\" fill=\"none\"/>\n",
              "    <path d=\"M18.56 5.44l.94 2.06.94-2.06 2.06-.94-2.06-.94-.94-2.06-.94 2.06-2.06.94zm-11 1L8.5 8.5l.94-2.06 2.06-.94-2.06-.94L8.5 2.5l-.94 2.06-2.06.94zm10 10l.94 2.06.94-2.06 2.06-.94-2.06-.94-.94-2.06-.94 2.06-2.06.94z\"/><path d=\"M17.41 7.96l-1.37-1.37c-.4-.4-.92-.59-1.43-.59-.52 0-1.04.2-1.43.59L10.3 9.45l-7.72 7.72c-.78.78-.78 2.05 0 2.83L4 21.41c.39.39.9.59 1.41.59.51 0 1.02-.2 1.41-.59l7.78-7.78 2.81-2.81c.8-.78.8-2.07 0-2.86zM5.41 20L4 18.59l7.72-7.72 1.47 1.35L5.41 20z\"/>\n",
              "  </svg>\n",
              "      </button>\n",
              "      \n",
              "  <style>\n",
              "    .colab-df-container {\n",
              "      display:flex;\n",
              "      flex-wrap:wrap;\n",
              "      gap: 12px;\n",
              "    }\n",
              "\n",
              "    .colab-df-convert {\n",
              "      background-color: #E8F0FE;\n",
              "      border: none;\n",
              "      border-radius: 50%;\n",
              "      cursor: pointer;\n",
              "      display: none;\n",
              "      fill: #1967D2;\n",
              "      height: 32px;\n",
              "      padding: 0 0 0 0;\n",
              "      width: 32px;\n",
              "    }\n",
              "\n",
              "    .colab-df-convert:hover {\n",
              "      background-color: #E2EBFA;\n",
              "      box-shadow: 0px 1px 2px rgba(60, 64, 67, 0.3), 0px 1px 3px 1px rgba(60, 64, 67, 0.15);\n",
              "      fill: #174EA6;\n",
              "    }\n",
              "\n",
              "    [theme=dark] .colab-df-convert {\n",
              "      background-color: #3B4455;\n",
              "      fill: #D2E3FC;\n",
              "    }\n",
              "\n",
              "    [theme=dark] .colab-df-convert:hover {\n",
              "      background-color: #434B5C;\n",
              "      box-shadow: 0px 1px 3px 1px rgba(0, 0, 0, 0.15);\n",
              "      filter: drop-shadow(0px 1px 2px rgba(0, 0, 0, 0.3));\n",
              "      fill: #FFFFFF;\n",
              "    }\n",
              "  </style>\n",
              "\n",
              "      <script>\n",
              "        const buttonEl =\n",
              "          document.querySelector('#df-612cdcd0-ee0b-4627-ab62-392b5603e0ac button.colab-df-convert');\n",
              "        buttonEl.style.display =\n",
              "          google.colab.kernel.accessAllowed ? 'block' : 'none';\n",
              "\n",
              "        async function convertToInteractive(key) {\n",
              "          const element = document.querySelector('#df-612cdcd0-ee0b-4627-ab62-392b5603e0ac');\n",
              "          const dataTable =\n",
              "            await google.colab.kernel.invokeFunction('convertToInteractive',\n",
              "                                                     [key], {});\n",
              "          if (!dataTable) return;\n",
              "\n",
              "          const docLinkHtml = 'Like what you see? Visit the ' +\n",
              "            '<a target=\"_blank\" href=https://colab.research.google.com/notebooks/data_table.ipynb>data table notebook</a>'\n",
              "            + ' to learn more about interactive tables.';\n",
              "          element.innerHTML = '';\n",
              "          dataTable['output_type'] = 'display_data';\n",
              "          await google.colab.output.renderOutput(dataTable, element);\n",
              "          const docLink = document.createElement('div');\n",
              "          docLink.innerHTML = docLinkHtml;\n",
              "          element.appendChild(docLink);\n",
              "        }\n",
              "      </script>\n",
              "    </div>\n",
              "  </div>\n",
              "  "
            ]
          },
          "metadata": {},
          "execution_count": 60
        }
      ]
    },
    {
      "cell_type": "markdown",
      "source": [
        "세부내용 살펴보기"
      ],
      "metadata": {
        "id": "nW9lS9hiYma6"
      }
    },
    {
      "cell_type": "code",
      "metadata": {
        "id": "3Ex-zfyPL0U4"
      },
      "source": [
        "mDate=20201130\n",
        "key='dac1451451ff54f43e1f0f59d3356f86'\n",
        "mURL = 'http://www.kobis.or.kr/kobisopenapi/webservice/rest/boxoffice/searchDailyBoxOfficeList.json?key=dac1451451ff54f43e1f0f59d3356f86&targetDt='+ str(mDate)"
      ],
      "execution_count": null,
      "outputs": []
    },
    {
      "cell_type": "code",
      "metadata": {
        "colab": {
          "base_uri": "https://localhost:8080/",
          "height": 70
        },
        "id": "CMdSx6EiL0U4",
        "outputId": "1144cbb2-c7fd-4784-d469-cda0b9d6f3fe"
      },
      "source": [
        "mURL"
      ],
      "execution_count": null,
      "outputs": [
        {
          "output_type": "execute_result",
          "data": {
            "text/plain": [
              "'http://www.kobis.or.kr/kobisopenapi/webservice/rest/boxoffice/searchDailyBoxOfficeList.json?key=dac1451451ff54f43e1f0f59d3356f86&targetDt=20201130'"
            ],
            "application/vnd.google.colaboratory.intrinsic+json": {
              "type": "string"
            }
          },
          "metadata": {},
          "execution_count": 10
        }
      ]
    },
    {
      "cell_type": "code",
      "metadata": {
        "id": "t7-YhWRjL0U4"
      },
      "source": [
        "res = requests.get(mURL)\n",
        "text = res.text"
      ],
      "execution_count": null,
      "outputs": []
    },
    {
      "cell_type": "code",
      "metadata": {
        "id": "DYLmIEMmL0U4"
      },
      "source": [
        "movieData = json.loads(text)\n",
        "movieLen = len(movieData['boxOfficeResult']['dailyBoxOfficeList'])\n",
        "movieDF = pd.DataFrame()\n",
        "movieDF = movieDF.append(  {\"tm\":\"\", \"title\":\"\", \"cnt\":\"\", \"salesShare\": \"\" }, ignore_index=True, sort=False )"
      ],
      "execution_count": null,
      "outputs": []
    },
    {
      "cell_type": "code",
      "metadata": {
        "id": "FUySvrDIL0U4"
      },
      "source": [
        "for i in range(movieLen):\n",
        "    movieDF.loc[i,\"tm\"] = str(mDate)\n",
        "    movieDF.loc[i,\"title\"]= movieData['boxOfficeResult']['dailyBoxOfficeList'][i]['movieNm']\n",
        "    movieDF.loc[i, \"cnt\"] = float(movieData['boxOfficeResult']['dailyBoxOfficeList'][i]['salesAmt'])\n",
        "    movieDF.loc[i, \"salesShare\"] = float(movieData['boxOfficeResult']['dailyBoxOfficeList'][i]['salesShare'])\n",
        "    movieDF.loc[i, \"salesChange\"] = float(movieData['boxOfficeResult']['dailyBoxOfficeList'][i]['salesChange'])"
      ],
      "execution_count": null,
      "outputs": []
    },
    {
      "cell_type": "code",
      "metadata": {
        "colab": {
          "base_uri": "https://localhost:8080/",
          "height": 195
        },
        "id": "ZEoCvpNVL0U4",
        "outputId": "7463e2e4-d6da-4264-8671-ba07b2d4fba0"
      },
      "source": [
        "movieDF.head()"
      ],
      "execution_count": null,
      "outputs": [
        {
          "output_type": "execute_result",
          "data": {
            "text/html": [
              "<div>\n",
              "<style scoped>\n",
              "    .dataframe tbody tr th:only-of-type {\n",
              "        vertical-align: middle;\n",
              "    }\n",
              "\n",
              "    .dataframe tbody tr th {\n",
              "        vertical-align: top;\n",
              "    }\n",
              "\n",
              "    .dataframe thead th {\n",
              "        text-align: right;\n",
              "    }\n",
              "</style>\n",
              "<table border=\"1\" class=\"dataframe\">\n",
              "  <thead>\n",
              "    <tr style=\"text-align: right;\">\n",
              "      <th></th>\n",
              "      <th>cnt</th>\n",
              "      <th>salesChange</th>\n",
              "      <th>salesShare</th>\n",
              "      <th>title</th>\n",
              "    </tr>\n",
              "  </thead>\n",
              "  <tbody>\n",
              "    <tr>\n",
              "      <th>0</th>\n",
              "      <td>1.68455e+08</td>\n",
              "      <td>-59.5</td>\n",
              "      <td>39.4</td>\n",
              "      <td>이웃사촌</td>\n",
              "    </tr>\n",
              "    <tr>\n",
              "      <th>1</th>\n",
              "      <td>7.96852e+07</td>\n",
              "      <td>-50</td>\n",
              "      <td>18.6</td>\n",
              "      <td>도굴</td>\n",
              "    </tr>\n",
              "    <tr>\n",
              "      <th>2</th>\n",
              "      <td>5.85883e+07</td>\n",
              "      <td>-52.4</td>\n",
              "      <td>13.7</td>\n",
              "      <td>런</td>\n",
              "    </tr>\n",
              "    <tr>\n",
              "      <th>3</th>\n",
              "      <td>2.7447e+07</td>\n",
              "      <td>-58.9</td>\n",
              "      <td>6.4</td>\n",
              "      <td>프리키 데스데이</td>\n",
              "    </tr>\n",
              "    <tr>\n",
              "      <th>4</th>\n",
              "      <td>1.54701e+07</td>\n",
              "      <td>-48.6</td>\n",
              "      <td>3.6</td>\n",
              "      <td>삼진그룹 영어토익반</td>\n",
              "    </tr>\n",
              "  </tbody>\n",
              "</table>\n",
              "</div>"
            ],
            "text/plain": [
              "           cnt salesChange salesShare       title\n",
              "0  1.68455e+08       -59.5       39.4        이웃사촌\n",
              "1  7.96852e+07         -50       18.6          도굴\n",
              "2  5.85883e+07       -52.4       13.7           런\n",
              "3   2.7447e+07       -58.9        6.4    프리키 데스데이\n",
              "4  1.54701e+07       -48.6        3.6  삼진그룹 영어토익반"
            ]
          },
          "metadata": {
            "tags": []
          },
          "execution_count": 9
        }
      ]
    },
    {
      "cell_type": "code",
      "metadata": {
        "id": "uOjYIs0z1tlk",
        "colab": {
          "base_uri": "https://localhost:8080/"
        },
        "outputId": "4c6ef4c6-98cb-4551-f1ff-c2fbac6da427"
      },
      "source": [
        "!apt-get update -qq\n",
        "!apt-get install fonts-nanum* -qq"
      ],
      "execution_count": null,
      "outputs": [
        {
          "output_type": "stream",
          "name": "stdout",
          "text": [
            "Selecting previously unselected package fonts-nanum.\n",
            "(Reading database ... 155202 files and directories currently installed.)\n",
            "Preparing to unpack .../fonts-nanum_20170925-1_all.deb ...\n",
            "Unpacking fonts-nanum (20170925-1) ...\n",
            "Selecting previously unselected package fonts-nanum-eco.\n",
            "Preparing to unpack .../fonts-nanum-eco_1.000-6_all.deb ...\n",
            "Unpacking fonts-nanum-eco (1.000-6) ...\n",
            "Selecting previously unselected package fonts-nanum-extra.\n",
            "Preparing to unpack .../fonts-nanum-extra_20170925-1_all.deb ...\n",
            "Unpacking fonts-nanum-extra (20170925-1) ...\n",
            "Selecting previously unselected package fonts-nanum-coding.\n",
            "Preparing to unpack .../fonts-nanum-coding_2.5-1_all.deb ...\n",
            "Unpacking fonts-nanum-coding (2.5-1) ...\n",
            "Setting up fonts-nanum-extra (20170925-1) ...\n",
            "Setting up fonts-nanum (20170925-1) ...\n",
            "Setting up fonts-nanum-coding (2.5-1) ...\n",
            "Setting up fonts-nanum-eco (1.000-6) ...\n",
            "Processing triggers for fontconfig (2.12.6-0ubuntu2) ...\n"
          ]
        }
      ]
    },
    {
      "cell_type": "code",
      "metadata": {
        "id": "K7XvkPSp2HTL",
        "colab": {
          "base_uri": "https://localhost:8080/"
        },
        "outputId": "1095046d-9e28-46c0-c012-19bcb69a2071"
      },
      "source": [
        "import matplotlib.font_manager as fm\n",
        "sys_font=fm.findSystemFonts()\n",
        "print(f\"sys_font number: {len(sys_font)}\")\n",
        "\n",
        "nanum_font = [f for f in sys_font if 'Nanum' in f]\n",
        "print(f\"nanum_font number: {len(nanum_font)}\")"
      ],
      "execution_count": null,
      "outputs": [
        {
          "output_type": "stream",
          "name": "stdout",
          "text": [
            "sys_font number: 48\n",
            "nanum_font number: 31\n"
          ]
        }
      ]
    },
    {
      "cell_type": "code",
      "metadata": {
        "id": "a_6JWvy8L0U4"
      },
      "source": [
        "import matplotlib.pyplot as plt\n",
        "import matplotlib.font_manager as fm\n",
        "import matplotlib as mpl\n",
        "\n",
        "mpl.font_manager._rebuild() \n",
        "\n",
        "fontpath = '/usr/share/fonts/truetype/nanum/NanumMyeongjo.ttf'\n",
        "font = fm.FontProperties(fname=fontpath, size=10)\n",
        "font_name = 'NanumMyeongjo'\n",
        "plt.rc('font', family=font_name) \n",
        "\n",
        "\n",
        "plt.rcParams[\"figure.figsize\"] = (20,3) \n",
        "plt.rcParams.update({'font.size': 12})\n",
        "plt.title('audience' + '(' + str(mDate) +')') \n",
        "plt.bar(movieDF['title'], movieDF['salesShare'], color='b')\n",
        "plt.show()"
      ],
      "execution_count": null,
      "outputs": []
    },
    {
      "cell_type": "code",
      "metadata": {
        "id": "7z9YPfXLL0U4"
      },
      "source": [
        "import matplotlib.pyplot as plt\n",
        "import matplotlib.font_manager as fm\n",
        "fm.get_fontconfig_fonts()\n",
        " \n",
        "plt.rc('font', family=font_name)\n",
        "plt.rcParams[\"figure.figsize\"] = (20,3) \n",
        "plt.rcParams.update({'font.size': 12})\n",
        "plt.title('audience' + '(' + str(mDate) +')') \n",
        "plt.ylim(100000,50000000)\n",
        "#plt.yscale('log')\n",
        "plt.bar(movieDF['title'], movieDF['cnt'], color='b')\n",
        "plt.show()"
      ],
      "execution_count": null,
      "outputs": []
    },
    {
      "cell_type": "code",
      "metadata": {
        "id": "GchRfJqJL0U4"
      },
      "source": [
        "import matplotlib.pyplot as plt\n",
        "import matplotlib.font_manager as fm\n",
        "fm.get_fontconfig_fonts()\n",
        " \n",
        "\n",
        "plt.rc('font', family=font_name)\n",
        "plt.rcParams[\"figure.figsize\"] = (20,3) \n",
        "plt.rcParams.update({'font.size': 12})\n",
        "plt.title('audience' + '(' + str(mDate) +')') \n",
        "plt.bar(movieDF['title'], movieDF['salesChange'], color='b')\n",
        "plt.show()"
      ],
      "execution_count": null,
      "outputs": []
    },
    {
      "cell_type": "code",
      "metadata": {
        "id": "6NJjrOlPL0U4"
      },
      "source": [
        "movieDF.to_csv('movie'+str(mDate)+'.csv', encoding='utf-8-sig', index=False)"
      ],
      "execution_count": null,
      "outputs": []
    }
  ]
}