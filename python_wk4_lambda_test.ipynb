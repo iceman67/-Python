{
  "nbformat": 4,
  "nbformat_minor": 0,
  "metadata": {
    "colab": {
      "name": "python_wk4_lambda_test.ipynb",
      "provenance": [],
      "authorship_tag": "ABX9TyM1pj1TPWTJ1mbzZNTfVroI",
      "include_colab_link": true
    },
    "kernelspec": {
      "name": "python3",
      "display_name": "Python 3"
    }
  },
  "cells": [
    {
      "cell_type": "markdown",
      "metadata": {
        "id": "view-in-github",
        "colab_type": "text"
      },
      "source": [
        "<a href=\"https://colab.research.google.com/github/iceman67/-Python/blob/master/python_wk4_lambda_test.ipynb\" target=\"_parent\"><img src=\"https://colab.research.google.com/assets/colab-badge.svg\" alt=\"Open In Colab\"/></a>"
      ]
    },
    {
      "cell_type": "markdown",
      "metadata": {
        "id": "u2n7GxU4qSi2"
      },
      "source": [
        "#### lambda 표현식\n",
        "* 이름이 없는 함수로서 수식 형태로 되어 있어 람다 표현식(lambda expression) 이라함"
      ]
    },
    {
      "cell_type": "code",
      "metadata": {
        "colab": {
          "base_uri": "https://localhost:8080/"
        },
        "id": "4c9jRleSqoJd",
        "outputId": "2d91f859-e3dc-44a9-ee43-bd8692bc21a0"
      },
      "source": [
        "def plus_ten(a):\n",
        "  return a + 10\n",
        "\n",
        "\n",
        "print (plus_ten(5))"
      ],
      "execution_count": 1,
      "outputs": [
        {
          "output_type": "stream",
          "text": [
            "15\n"
          ],
          "name": "stdout"
        }
      ]
    },
    {
      "cell_type": "code",
      "metadata": {
        "colab": {
          "base_uri": "https://localhost:8080/"
        },
        "id": "O1MidfjWXVgU",
        "outputId": "94653218-93df-4442-92e4-d0471256c638"
      },
      "source": [
        "x = lambda a : a + 10\n",
        "print(x(5))"
      ],
      "execution_count": null,
      "outputs": [
        {
          "output_type": "stream",
          "text": [
            "15\n"
          ],
          "name": "stdout"
        }
      ]
    },
    {
      "cell_type": "code",
      "metadata": {
        "colab": {
          "base_uri": "https://localhost:8080/"
        },
        "id": "wu-1Rej2YHLV",
        "outputId": "7fe9847e-f41c-45c8-8464-2070117dd357"
      },
      "source": [
        "x = lambda a, b : a * b\n",
        "print(x(5, 6))\n"
      ],
      "execution_count": null,
      "outputs": [
        {
          "output_type": "stream",
          "text": [
            "30\n"
          ],
          "name": "stdout"
        }
      ]
    },
    {
      "cell_type": "code",
      "metadata": {
        "colab": {
          "base_uri": "https://localhost:8080/"
        },
        "id": "CTlS8P7VYJd1",
        "outputId": "0c4230f8-727b-4ff7-f12d-f5a6f1e01a73"
      },
      "source": [
        "x = lambda a, b, c : a + b + c\n",
        "print(x(5, 6, 2))"
      ],
      "execution_count": null,
      "outputs": [
        {
          "output_type": "stream",
          "text": [
            "13\n"
          ],
          "name": "stdout"
        }
      ]
    }
  ]
}