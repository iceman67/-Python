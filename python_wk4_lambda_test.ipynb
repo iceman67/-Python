{
  "nbformat": 4,
  "nbformat_minor": 0,
  "metadata": {
    "colab": {
      "name": "python_wk4_lambda_test.ipynb",
      "provenance": [],
      "authorship_tag": "ABX9TyNf/RNAgd4a1A6UIiYgEltQ",
      "include_colab_link": true
    },
    "kernelspec": {
      "name": "python3",
      "display_name": "Python 3"
    }
  },
  "cells": [
    {
      "cell_type": "markdown",
      "metadata": {
        "id": "view-in-github",
        "colab_type": "text"
      },
      "source": [
        "<a href=\"https://colab.research.google.com/github/iceman67/-Python/blob/master/python_wk4_lambda_test.ipynb\" target=\"_parent\"><img src=\"https://colab.research.google.com/assets/colab-badge.svg\" alt=\"Open In Colab\"/></a>"
      ]
    },
    {
      "cell_type": "markdown",
      "metadata": {
        "id": "u2n7GxU4qSi2"
      },
      "source": [
        "#### lambda 표현식\n",
        "* 이름이 없는 함수로서 수식 형태로 되어 있어 람다 표현식(lambda expression) 이라함"
      ]
    },
    {
      "cell_type": "code",
      "metadata": {
        "colab": {
          "base_uri": "https://localhost:8080/"
        },
        "id": "4c9jRleSqoJd",
        "outputId": "2d91f859-e3dc-44a9-ee43-bd8692bc21a0"
      },
      "source": [
        "def plus_ten(a):\n",
        "  return a + 10\n",
        "\n",
        "\n",
        "print (plus_ten(5))"
      ],
      "execution_count": null,
      "outputs": [
        {
          "output_type": "stream",
          "text": [
            "15\n"
          ],
          "name": "stdout"
        }
      ]
    },
    {
      "cell_type": "code",
      "metadata": {
        "colab": {
          "base_uri": "https://localhost:8080/"
        },
        "id": "O1MidfjWXVgU",
        "outputId": "8bd39291-ee36-4e5c-a56f-70db16a00091"
      },
      "source": [
        "x = lambda a : a + 10\n",
        "print(x(5))"
      ],
      "execution_count": 15,
      "outputs": [
        {
          "output_type": "stream",
          "text": [
            "15\n"
          ],
          "name": "stdout"
        }
      ]
    },
    {
      "cell_type": "code",
      "metadata": {
        "colab": {
          "base_uri": "https://localhost:8080/"
        },
        "id": "wu-1Rej2YHLV",
        "outputId": "7fe9847e-f41c-45c8-8464-2070117dd357"
      },
      "source": [
        "x = lambda a, b : a * b\n",
        "print(x(5, 6))\n"
      ],
      "execution_count": null,
      "outputs": [
        {
          "output_type": "stream",
          "text": [
            "30\n"
          ],
          "name": "stdout"
        }
      ]
    },
    {
      "cell_type": "code",
      "metadata": {
        "colab": {
          "base_uri": "https://localhost:8080/"
        },
        "id": "CTlS8P7VYJd1",
        "outputId": "0c4230f8-727b-4ff7-f12d-f5a6f1e01a73"
      },
      "source": [
        "x = lambda a, b, c : a + b + c\n",
        "print(x(5, 6, 2))"
      ],
      "execution_count": null,
      "outputs": [
        {
          "output_type": "stream",
          "text": [
            "13\n"
          ],
          "name": "stdout"
        }
      ]
    },
    {
      "cell_type": "code",
      "metadata": {
        "id": "sHKHYaIZCek_",
        "outputId": "b02b3adf-86d2-4b71-fb3a-91ddbb9e975f",
        "colab": {
          "base_uri": "https://localhost:8080/"
        }
      },
      "source": [
        "plus_ten = (lambda a : a + 10)(1)\n",
        "print (plus_ten)"
      ],
      "execution_count": 17,
      "outputs": [
        {
          "output_type": "stream",
          "text": [
            "11\n"
          ],
          "name": "stdout"
        }
      ]
    },
    {
      "cell_type": "code",
      "metadata": {
        "id": "H4bZTlWEC7Cd"
      },
      "source": [
        ""
      ],
      "execution_count": null,
      "outputs": []
    }
  ]
}