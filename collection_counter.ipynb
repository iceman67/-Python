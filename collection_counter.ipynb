{
  "nbformat": 4,
  "nbformat_minor": 0,
  "metadata": {
    "kernelspec": {
      "display_name": "Python 3",
      "language": "python",
      "name": "python3"
    },
    "language_info": {
      "codemirror_mode": {
        "name": "ipython",
        "version": 3
      },
      "file_extension": ".py",
      "mimetype": "text/x-python",
      "name": "python",
      "nbconvert_exporter": "python",
      "pygments_lexer": "ipython3",
      "version": "3.7.4"
    },
    "colab": {
      "name": "collection_counter.ipynb",
      "provenance": [],
      "include_colab_link": true
    }
  },
  "cells": [
    {
      "cell_type": "markdown",
      "metadata": {
        "id": "view-in-github",
        "colab_type": "text"
      },
      "source": [
        "<a href=\"https://colab.research.google.com/github/iceman67/-Python/blob/master/collection_counter.ipynb\" target=\"_parent\"><img src=\"https://colab.research.google.com/assets/colab-badge.svg\" alt=\"Open In Colab\"/></a>"
      ]
    },
    {
      "cell_type": "markdown",
      "metadata": {
        "id": "zA0XWX8ZLs9O"
      },
      "source": [
        "**collections** 패키지는 컬렉션 안에 다른 아이템 수를 구하기 위해 사용 "
      ]
    },
    {
      "cell_type": "code",
      "metadata": {
        "id": "O2jFAE8tLs9R"
      },
      "source": [
        "from collections import Counter"
      ],
      "execution_count": null,
      "outputs": []
    },
    {
      "cell_type": "code",
      "metadata": {
        "id": "QKZa2O51Ls9S"
      },
      "source": [
        "phase = \"a man is walking around the clock to write a python program\""
      ],
      "execution_count": null,
      "outputs": []
    },
    {
      "cell_type": "code",
      "metadata": {
        "colab": {
          "base_uri": "https://localhost:8080/"
        },
        "id": "pr20HWhlL4Ia",
        "outputId": "809599cc-b183-445f-aedc-b2c9143d0671"
      },
      "source": [
        "word_from_phase = phase.split()\r\n",
        "value_counts = Counter(word_from_phase)\r\n",
        "print(value_counts.most_common())"
      ],
      "execution_count": null,
      "outputs": [
        {
          "output_type": "stream",
          "text": [
            "[('a', 2), ('man', 1), ('is', 1), ('walking', 1), ('around', 1), ('the', 1), ('clock', 1), ('to', 1), ('write', 1), ('python', 1), ('program', 1)]\n"
          ],
          "name": "stdout"
        }
      ]
    },
    {
      "cell_type": "code",
      "metadata": {
        "id": "Ws4Z_3_ZMgLu",
        "colab": {
          "base_uri": "https://localhost:8080/"
        },
        "outputId": "51e600d2-d163-42c1-c3d9-02f9806d7398"
      },
      "source": [
        "# A Python program to show different \r\n",
        "# ways to create Counter \r\n",
        "\r\n",
        "# With sequence of items \r\n",
        "print(Counter(['B','B','A','B','C','A','B', \r\n",
        "\t\t\t'B','A','C'])) \r\n",
        "\t\r\n",
        "# with dictionary \r\n",
        "print(Counter({'A':3, 'B':5, 'C':2})) \r\n",
        "\t\r\n",
        "# with keyword arguments \r\n",
        "print(Counter(A=3, B=5, C=2))\r\n"
      ],
      "execution_count": null,
      "outputs": [
        {
          "output_type": "stream",
          "text": [
            "Counter({'B': 5, 'A': 3, 'C': 2})\n",
            "Counter({'B': 5, 'A': 3, 'C': 2})\n",
            "Counter({'B': 5, 'A': 3, 'C': 2})\n"
          ],
          "name": "stdout"
        }
      ]
    },
    {
      "cell_type": "code",
      "metadata": {
        "id": "BV58HbEHLs9T",
        "outputId": "9de5d59c-fc38-4e2b-aa0b-f8457b33fc60"
      },
      "source": [
        "ages = [22, 22, 25, 25, 30, 24, 26, 24, 35, 45, 52, 22, 22, 22, 25, 16, 11, 15, 40, 30]\n",
        "value_counts = Counter(ages)\n",
        "print(value_counts.most_common())"
      ],
      "execution_count": null,
      "outputs": [
        {
          "output_type": "stream",
          "text": [
            "[(22, 5), (25, 3), (30, 2), (24, 2), (26, 1), (35, 1), (45, 1), (52, 1), (16, 1), (11, 1), (15, 1), (40, 1)]\n"
          ],
          "name": "stdout"
        }
      ]
    },
    {
      "cell_type": "code",
      "metadata": {
        "id": "WqY8JxzvLs9V",
        "outputId": "37487d36-4df3-4dc9-b4b7-b2de174053e9"
      },
      "source": [
        "value_counts.most_common(1)"
      ],
      "execution_count": null,
      "outputs": [
        {
          "output_type": "execute_result",
          "data": {
            "text/plain": [
              "[(22, 5)]"
            ]
          },
          "metadata": {
            "tags": []
          },
          "execution_count": 10
        }
      ]
    },
    {
      "cell_type": "code",
      "metadata": {
        "id": "IcZf3BB-Ls9W"
      },
      "source": [
        "valueDic = dict(value_counts)"
      ],
      "execution_count": null,
      "outputs": []
    },
    {
      "cell_type": "code",
      "metadata": {
        "id": "p5xdXH2HLs9W",
        "outputId": "995a3706-2807-443a-b553-b9270a2987cd"
      },
      "source": [
        "valueDic"
      ],
      "execution_count": null,
      "outputs": [
        {
          "output_type": "execute_result",
          "data": {
            "text/plain": [
              "{22: 5,\n",
              " 25: 3,\n",
              " 30: 2,\n",
              " 24: 2,\n",
              " 26: 1,\n",
              " 35: 1,\n",
              " 45: 1,\n",
              " 52: 1,\n",
              " 16: 1,\n",
              " 11: 1,\n",
              " 15: 1,\n",
              " 40: 1}"
            ]
          },
          "metadata": {
            "tags": []
          },
          "execution_count": 12
        }
      ]
    },
    {
      "cell_type": "code",
      "metadata": {
        "id": "C5YBTdL2Ls9X",
        "outputId": "b57bd3a6-43ac-4953-8e5a-8ea60dfaeaf8"
      },
      "source": [
        "valueDic[25]"
      ],
      "execution_count": null,
      "outputs": [
        {
          "output_type": "execute_result",
          "data": {
            "text/plain": [
              "3"
            ]
          },
          "metadata": {
            "tags": []
          },
          "execution_count": 13
        }
      ]
    },
    {
      "cell_type": "markdown",
      "metadata": {
        "id": "uNvL98iFLs9Y"
      },
      "source": [
        "Counter() 생성자 사용 후 most_common() 함수 사용 빈번한 아이템을 구함"
      ]
    },
    {
      "cell_type": "code",
      "metadata": {
        "id": "8GawkvGTLs9Z",
        "outputId": "32f03659-5eef-4d77-ec20-4c28ab05469c"
      },
      "source": [
        "cntr = Counter(phase.split())\n",
        "cntr.most_common()"
      ],
      "execution_count": null,
      "outputs": [
        {
          "output_type": "execute_result",
          "data": {
            "text/plain": [
              "[('a', 2),\n",
              " ('man', 1),\n",
              " ('is', 1),\n",
              " ('walking', 1),\n",
              " ('around', 1),\n",
              " ('the', 1),\n",
              " ('clock', 1),\n",
              " ('to', 1),\n",
              " ('write', 1),\n",
              " ('python', 1),\n",
              " ('program', 1)]"
            ]
          },
          "metadata": {
            "tags": []
          },
          "execution_count": 7
        }
      ]
    },
    {
      "cell_type": "code",
      "metadata": {
        "id": "CMIbttI4Ls9Z",
        "outputId": "5a3e8971-45fa-469a-c95a-d0df473b0827"
      },
      "source": [
        "sum(cntr.values())  "
      ],
      "execution_count": null,
      "outputs": [
        {
          "output_type": "execute_result",
          "data": {
            "text/plain": [
              "12"
            ]
          },
          "metadata": {
            "tags": []
          },
          "execution_count": 40
        }
      ]
    },
    {
      "cell_type": "markdown",
      "metadata": {
        "id": "4xgIhEMpLs9Z"
      },
      "source": [
        "가독성을 위해 튜플 리스트를 딕셔너리로 변환 "
      ]
    },
    {
      "cell_type": "code",
      "metadata": {
        "id": "OuESvYE-Ls9a",
        "outputId": "14d22e0b-12d6-4fc4-c88f-49dcdf0eeccb"
      },
      "source": [
        "cntrDict = dict(cntr.most_common())\n",
        "cntrDict"
      ],
      "execution_count": null,
      "outputs": [
        {
          "output_type": "execute_result",
          "data": {
            "text/plain": [
              "{'a': 2,\n",
              " 'man': 1,\n",
              " 'is': 1,\n",
              " 'walking': 1,\n",
              " 'around': 1,\n",
              " 'the': 1,\n",
              " 'clock': 1,\n",
              " 'to': 1,\n",
              " 'write': 1,\n",
              " 'python': 1,\n",
              " 'program': 1}"
            ]
          },
          "metadata": {
            "tags": []
          },
          "execution_count": 9
        }
      ]
    },
    {
      "cell_type": "code",
      "metadata": {
        "id": "twhkZbvYLs9a",
        "outputId": "14fdd2d7-d0cb-43da-f1e5-f5087aa7dcd3"
      },
      "source": [
        "import pandas as pd\n",
        "import matplotlib.pyplot as plt\n",
        "import numpy as np\n",
        "s = pd.Series(cntrDict)\n",
        "s"
      ],
      "execution_count": null,
      "outputs": [
        {
          "output_type": "execute_result",
          "data": {
            "text/plain": [
              "a          2\n",
              "man        1\n",
              "is         1\n",
              "walking    1\n",
              "around     1\n",
              "the        1\n",
              "clock      1\n",
              "to         1\n",
              "write      1\n",
              "python     1\n",
              "program    1\n",
              "dtype: int64"
            ]
          },
          "metadata": {
            "tags": []
          },
          "execution_count": 38
        }
      ]
    },
    {
      "cell_type": "code",
      "metadata": {
        "id": "KN4dKepYLs9a",
        "outputId": "098e2d10-343b-4fe1-fdcf-b5440fd9eb8c"
      },
      "source": [
        "s.plot(kind=\"bar\")\n",
        "plt.xlabel(\"word\")\n",
        "plt.yscale(\"linear\")\n",
        "plt.ylabel(\"frequency\")\n",
        "plt.yticks(np.arange(0, 5))\n",
        "plt.title(\"word counter\")"
      ],
      "execution_count": null,
      "outputs": [
        {
          "output_type": "execute_result",
          "data": {
            "text/plain": [
              "Text(0.5, 1.0, 'word counter')"
            ]
          },
          "metadata": {
            "tags": []
          },
          "execution_count": 39
        },
        {
          "output_type": "display_data",
          "data": {
            "image/png": "[encoded data removed]",
            "text/plain": [
              "<Figure size 432x288 with 1 Axes>"
            ]
          },
          "metadata": {
            "tags": [],
            "needs_background": "light"
          }
        }
      ]
    },
    {
      "cell_type": "code",
      "metadata": {
        "id": "Tzn-9mFZLs9b"
      },
      "source": [
        ""
      ],
      "execution_count": null,
      "outputs": []
    },
    {
      "cell_type": "code",
      "metadata": {
        "id": "9VMIFtC1Ls9b",
        "outputId": "f1f77cae-44b2-4380-e0ba-2f888afbc072"
      },
      "source": [
        "from collections import Counter\n",
        "\n",
        "ages = [22, 22, 25, 25, 30, 24, 26, 24, 35, 45, 52, 22, 22, 22, 25, 16, 11, 15, 40, 30]\n",
        "\n",
        "value_counts = Counter(ages)\n",
        "\n",
        "print(value_counts.most_common())"
      ],
      "execution_count": null,
      "outputs": [
        {
          "output_type": "stream",
          "text": [
            "[(22, 5), (25, 3), (30, 2), (24, 2), (26, 1), (35, 1), (45, 1), (52, 1), (16, 1), (11, 1), (15, 1), (40, 1)]\n"
          ],
          "name": "stdout"
        }
      ]
    },
    {
      "cell_type": "code",
      "metadata": {
        "id": "2NrKV1fBLs9b"
      },
      "source": [
        "from collections import namedtuple"
      ],
      "execution_count": null,
      "outputs": []
    },
    {
      "cell_type": "code",
      "metadata": {
        "id": "WwLAShLqLs9c"
      },
      "source": [
        "Features = namedtuple('Features', ['age', 'gender', 'name'])"
      ],
      "execution_count": null,
      "outputs": []
    },
    {
      "cell_type": "code",
      "metadata": {
        "id": "F8EnQI7VLs9c"
      },
      "source": [
        "row = Features(age=22, gender='male', name='Alex')"
      ],
      "execution_count": null,
      "outputs": []
    },
    {
      "cell_type": "code",
      "metadata": {
        "id": "Xgs0HV1dLs9c",
        "outputId": "354a34b0-4ef7-466b-ef8c-adfc0eb20d73"
      },
      "source": [
        "print(row.age)"
      ],
      "execution_count": null,
      "outputs": [
        {
          "output_type": "stream",
          "text": [
            "22\n"
          ],
          "name": "stdout"
        }
      ]
    },
    {
      "cell_type": "code",
      "metadata": {
        "id": "BxrfUpuzLs9c"
      },
      "source": [
        ""
      ],
      "execution_count": null,
      "outputs": []
    }
  ]
}