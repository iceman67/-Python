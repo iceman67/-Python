{
  "nbformat": 4,
  "nbformat_minor": 0,
  "metadata": {
    "colab": {
      "name": "HelloColab.ipynb",
      "provenance": [],
      "collapsed_sections": [],
      "authorship_tag": "ABX9TyNq6LWgy2S8JnajSrbrILkg",
      "include_colab_link": true
    },
    "kernelspec": {
      "name": "python3",
      "display_name": "Python 3"
    },
    "language_info": {
      "name": "python"
    }
  },
  "cells": [
    {
      "cell_type": "markdown",
      "metadata": {
        "id": "view-in-github",
        "colab_type": "text"
      },
      "source": [
        "<a href=\"https://colab.research.google.com/github/iceman67/-Python/blob/master/HelloColab.ipynb\" target=\"_parent\"><img src=\"https://colab.research.google.com/assets/colab-badge.svg\" alt=\"Open In Colab\"/></a>"
      ]
    },
    {
      "cell_type": "markdown",
      "metadata": {
        "id": "M7Ro_wUk5V4_"
      },
      "source": [
        "### 파이썬 배우기 : 프로그램에서 오류찾기"
      ]
    },
    {
      "cell_type": "code",
      "metadata": {
        "id": "qwAvsLl0lV6N",
        "colab": {
          "base_uri": "https://localhost:8080/",
          "height": 198
        },
        "outputId": "67f5a23f-33de-4be7-ae9f-cb2b7cc3bcbc"
      },
      "source": [
        "sum = 0\n",
        "lst = [10, 20, 30]\n",
        "total = sum(lst)"
      ],
      "execution_count": null,
      "outputs": [
        {
          "output_type": "error",
          "ename": "TypeError",
          "evalue": "ignored",
          "traceback": [
            "\u001b[0;31m---------------------------------------------------------------------------\u001b[0m",
            "\u001b[0;31mTypeError\u001b[0m                                 Traceback (most recent call last)",
            "\u001b[0;32m<ipython-input-2-4973b25290c0>\u001b[0m in \u001b[0;36m<module>\u001b[0;34m()\u001b[0m\n\u001b[1;32m      1\u001b[0m \u001b[0msum\u001b[0m \u001b[0;34m=\u001b[0m \u001b[0;36m0\u001b[0m\u001b[0;34m\u001b[0m\u001b[0;34m\u001b[0m\u001b[0m\n\u001b[1;32m      2\u001b[0m \u001b[0mlst\u001b[0m \u001b[0;34m=\u001b[0m \u001b[0;34m[\u001b[0m\u001b[0;36m10\u001b[0m\u001b[0;34m,\u001b[0m \u001b[0;36m20\u001b[0m\u001b[0;34m,\u001b[0m \u001b[0;36m30\u001b[0m\u001b[0;34m]\u001b[0m\u001b[0;34m\u001b[0m\u001b[0;34m\u001b[0m\u001b[0m\n\u001b[0;32m----> 3\u001b[0;31m \u001b[0mtotal\u001b[0m \u001b[0;34m=\u001b[0m \u001b[0msum\u001b[0m\u001b[0;34m(\u001b[0m\u001b[0mlst\u001b[0m\u001b[0;34m)\u001b[0m\u001b[0;34m\u001b[0m\u001b[0;34m\u001b[0m\u001b[0m\n\u001b[0m",
            "\u001b[0;31mTypeError\u001b[0m: 'int' object is not callable"
          ]
        }
      ]
    },
    {
      "cell_type": "code",
      "metadata": {
        "colab": {
          "base_uri": "https://localhost:8080/",
          "height": 130
        },
        "id": "lOFpE-Oz6Abk",
        "outputId": "0307dc0a-64a4-4d02-fdb5-af7bf51f8bd0"
      },
      "source": [
        "global = 300\n",
        "print (global)"
      ],
      "execution_count": null,
      "outputs": [
        {
          "output_type": "error",
          "ename": "SyntaxError",
          "evalue": "ignored",
          "traceback": [
            "\u001b[0;36m  File \u001b[0;32m\"<ipython-input-3-16d346030a54>\"\u001b[0;36m, line \u001b[0;32m1\u001b[0m\n\u001b[0;31m    global = 300\u001b[0m\n\u001b[0m           ^\u001b[0m\n\u001b[0;31mSyntaxError\u001b[0m\u001b[0;31m:\u001b[0m invalid syntax\n"
          ]
        }
      ]
    },
    {
      "cell_type": "code",
      "metadata": {
        "colab": {
          "base_uri": "https://localhost:8080/",
          "height": 215
        },
        "id": "7HaEvdvw6gPz",
        "outputId": "81504cc0-1145-4de0-8c52-703af4816322"
      },
      "source": [
        "width = 100\n",
        "height = 200\n",
        "area = ( width * Height)\n",
        "print (\"사각형의 넓이 \", area)"
      ],
      "execution_count": null,
      "outputs": [
        {
          "output_type": "error",
          "ename": "NameError",
          "evalue": "ignored",
          "traceback": [
            "\u001b[0;31m---------------------------------------------------------------------------\u001b[0m",
            "\u001b[0;31mNameError\u001b[0m                                 Traceback (most recent call last)",
            "\u001b[0;32m<ipython-input-4-04786d966c94>\u001b[0m in \u001b[0;36m<module>\u001b[0;34m()\u001b[0m\n\u001b[1;32m      1\u001b[0m \u001b[0mwidth\u001b[0m \u001b[0;34m=\u001b[0m \u001b[0;36m100\u001b[0m\u001b[0;34m\u001b[0m\u001b[0;34m\u001b[0m\u001b[0m\n\u001b[1;32m      2\u001b[0m \u001b[0mheight\u001b[0m \u001b[0;34m=\u001b[0m \u001b[0;36m200\u001b[0m\u001b[0;34m\u001b[0m\u001b[0;34m\u001b[0m\u001b[0m\n\u001b[0;32m----> 3\u001b[0;31m \u001b[0marea\u001b[0m \u001b[0;34m=\u001b[0m \u001b[0;34m(\u001b[0m \u001b[0mwidth\u001b[0m \u001b[0;34m*\u001b[0m \u001b[0mHeight\u001b[0m\u001b[0;34m)\u001b[0m\u001b[0;34m\u001b[0m\u001b[0;34m\u001b[0m\u001b[0m\n\u001b[0m\u001b[1;32m      4\u001b[0m \u001b[0mprint\u001b[0m \u001b[0;34m(\u001b[0m\u001b[0;34m\"사각형의 넓이 \"\u001b[0m\u001b[0;34m,\u001b[0m \u001b[0marea\u001b[0m\u001b[0;34m)\u001b[0m\u001b[0;34m\u001b[0m\u001b[0;34m\u001b[0m\u001b[0m\n",
            "\u001b[0;31mNameError\u001b[0m: name 'Height' is not defined"
          ]
        }
      ]
    },
    {
      "cell_type": "code",
      "metadata": {
        "colab": {
          "base_uri": "https://localhost:8080/",
          "height": 130
        },
        "id": "T0QcMvEv7DwB",
        "outputId": "bdaf4424-92d8-4980-9f31-80cabd581a55"
      },
      "source": [
        "27 = age"
      ],
      "execution_count": null,
      "outputs": [
        {
          "output_type": "error",
          "ename": "SyntaxError",
          "evalue": "ignored",
          "traceback": [
            "\u001b[0;36m  File \u001b[0;32m\"<ipython-input-5-0785a0653c98>\"\u001b[0;36m, line \u001b[0;32m1\u001b[0m\n\u001b[0;31m    27 = age\u001b[0m\n\u001b[0m            ^\u001b[0m\n\u001b[0;31mSyntaxError\u001b[0m\u001b[0;31m:\u001b[0m can't assign to literal\n"
          ]
        }
      ]
    },
    {
      "cell_type": "code",
      "metadata": {
        "colab": {
          "base_uri": "https://localhost:8080/",
          "height": 181
        },
        "id": "A50X4W997Vwi",
        "outputId": "95256e3b-9920-48fd-cb42-e7c8e3fed5ba"
      },
      "source": [
        "lst =  [10, 20, 30, 40]\n",
        "print (lst[4])"
      ],
      "execution_count": null,
      "outputs": [
        {
          "output_type": "error",
          "ename": "IndexError",
          "evalue": "ignored",
          "traceback": [
            "\u001b[0;31m---------------------------------------------------------------------------\u001b[0m",
            "\u001b[0;31mIndexError\u001b[0m                                Traceback (most recent call last)",
            "\u001b[0;32m<ipython-input-6-ecaa5fc11abf>\u001b[0m in \u001b[0;36m<module>\u001b[0;34m()\u001b[0m\n\u001b[1;32m      1\u001b[0m \u001b[0mlst\u001b[0m \u001b[0;34m=\u001b[0m  \u001b[0;34m[\u001b[0m\u001b[0;36m10\u001b[0m\u001b[0;34m,\u001b[0m \u001b[0;36m20\u001b[0m\u001b[0;34m,\u001b[0m \u001b[0;36m30\u001b[0m\u001b[0;34m,\u001b[0m \u001b[0;36m40\u001b[0m\u001b[0;34m]\u001b[0m\u001b[0;34m\u001b[0m\u001b[0;34m\u001b[0m\u001b[0m\n\u001b[0;32m----> 2\u001b[0;31m \u001b[0mprint\u001b[0m \u001b[0;34m(\u001b[0m\u001b[0mlst\u001b[0m\u001b[0;34m[\u001b[0m\u001b[0;36m4\u001b[0m\u001b[0;34m]\u001b[0m\u001b[0;34m)\u001b[0m\u001b[0;34m\u001b[0m\u001b[0;34m\u001b[0m\u001b[0m\n\u001b[0m",
            "\u001b[0;31mIndexError\u001b[0m: list index out of range"
          ]
        }
      ]
    },
    {
      "cell_type": "code",
      "metadata": {
        "colab": {
          "base_uri": "https://localhost:8080/"
        },
        "id": "npsStbCbJUhU",
        "outputId": "6074fb70-d14c-445d-a628-9c0218fb9d9a"
      },
      "source": [
        "age = 18\n",
        "\n",
        "# if 문 다음에 : 콜론이 나오면 들여쓰기 코드 블록이 나온다\n",
        "# for, while, def, class 에서도 코드 블록이 사용된다\n",
        "if age < 20:\n",
        "    print (\"입장이 허락되지 않습니다\")\n",
        "    print (\"청소년 출입이 안됩니다\")"
      ],
      "execution_count": null,
      "outputs": [
        {
          "output_type": "stream",
          "text": [
            "입장이 허락되지 않습니다\n",
            "청소년 출입이 안됩니다\n"
          ],
          "name": "stdout"
        }
      ]
    },
    {
      "cell_type": "markdown",
      "metadata": {
        "id": "YgxwoJ6uKzYP"
      },
      "source": [
        "### 제어문\n",
        "\n",
        "* if 문\n",
        "* while 문, for 문 "
      ]
    },
    {
      "cell_type": "code",
      "metadata": {
        "colab": {
          "base_uri": "https://localhost:8080/"
        },
        "id": "saKXWPhNK90N",
        "outputId": "c05ef1e5-0197-4d48-89c8-22d235cb7831"
      },
      "source": [
        "# 3의 배수를 판단하기 위한 조건문을 작성한다\n",
        "x = input()\n",
        "x = int(x)\n",
        "if x % 3 == 0:\n",
        "    print (x, \" : 3의 배수\")\n",
        "else:\n",
        "    print (x, \"는 3의 배수가 아님\")"
      ],
      "execution_count": null,
      "outputs": [
        {
          "output_type": "stream",
          "text": [
            "4\n",
            "4 는 3의 배수가 아님\n"
          ],
          "name": "stdout"
        }
      ]
    },
    {
      "cell_type": "code",
      "metadata": {
        "colab": {
          "base_uri": "https://localhost:8080/"
        },
        "id": "gjv6h9sxLJE8",
        "outputId": "dbddf580-207a-4297-a304-4f7e004ae2fa"
      },
      "source": [
        "# \"환영합니다\"를 10번 출력하도록 반복문을  for 작성한다\n",
        "\n",
        "for _ in range(10):\n",
        "    print( \"환영합니다\")"
      ],
      "execution_count": null,
      "outputs": [
        {
          "output_type": "stream",
          "text": [
            "환영합니다\n",
            "환영합니다\n",
            "환영합니다\n",
            "환영합니다\n",
            "환영합니다\n",
            "환영합니다\n",
            "환영합니다\n",
            "환영합니다\n",
            "환영합니다\n",
            "환영합니다\n"
          ],
          "name": "stdout"
        }
      ]
    },
    {
      "cell_type": "code",
      "metadata": {
        "colab": {
          "base_uri": "https://localhost:8080/"
        },
        "id": "2oOTiBZdLb1F",
        "outputId": "5476d3a4-4253-49c1-82a0-5ddac7e3a795"
      },
      "source": [
        "# 1과 자기자신으로 만 나누어지는 소수를 구하도록 조건문과 반복문을 사용하여 작성한다\n",
        "# 입력 받은 n이 소수이면 소수라고 출력한다   \n",
        "n = int (input (\"input number\"))\n",
        "is_prime = True\n",
        "\n",
        "for num in range(2, n):\n",
        "    if n % num == 0:\n",
        "        is_prime = False\n",
        "\n",
        "print ( n, \" is primme \", is_prime )"
      ],
      "execution_count": null,
      "outputs": [
        {
          "output_type": "stream",
          "text": [
            "input number13\n",
            "13  is primme  True\n"
          ],
          "name": "stdout"
        }
      ]
    },
    {
      "cell_type": "markdown",
      "metadata": {
        "id": "ytKArsd2hvR5"
      },
      "source": [
        "### LINC  실습 기초 프로그램 작성 1\n",
        "* 직각삼각형의 빗변의 길이 구하기 "
      ]
    },
    {
      "cell_type": "code",
      "metadata": {
        "id": "KTknK_MXcoy_",
        "colab": {
          "base_uri": "https://localhost:8080/"
        },
        "outputId": "04dfe4d6-767a-4420-dded-7e9c3cebbf9b"
      },
      "source": [
        "bottom =  float(input('직각삼각형의 밑변의 길이를 입력하시오: '))"
      ],
      "execution_count": null,
      "outputs": [
        {
          "output_type": "stream",
          "text": [
            "직각삼각형의 밑변의 길이를 입력하시오: 10\n"
          ],
          "name": "stdout"
        }
      ]
    },
    {
      "cell_type": "code",
      "metadata": {
        "colab": {
          "base_uri": "https://localhost:8080/"
        },
        "id": "YAz-VRj8h1iG",
        "outputId": "0d22b4a4-db96-4c99-c090-a53bac7a1b56"
      },
      "source": [
        "height =  float(input('직각삼각형의  높이를 입력하시오: '))"
      ],
      "execution_count": null,
      "outputs": [
        {
          "output_type": "stream",
          "text": [
            "직각삼각형의  높이를 입력하시오: 20\n"
          ],
          "name": "stdout"
        }
      ]
    },
    {
      "cell_type": "code",
      "metadata": {
        "colab": {
          "base_uri": "https://localhost:8080/"
        },
        "id": "HEt3sxV8j6bU",
        "outputId": "43f15d4b-04db-4123-f3aa-f581bcad2216"
      },
      "source": [
        "hypotenuse = (bottom ** 2 + height ** 2) ** 0.5\n",
        "print (\"빗변은\", hypotenuse, \"입니다\")"
      ],
      "execution_count": null,
      "outputs": [
        {
          "output_type": "stream",
          "text": [
            "빗변은 22.360679774997898 입니다\n"
          ],
          "name": "stdout"
        }
      ]
    },
    {
      "cell_type": "code",
      "metadata": {
        "colab": {
          "base_uri": "https://localhost:8080/"
        },
        "id": "F0rbi4WtkExw",
        "outputId": "019edc34-72dc-4060-add0-9598e95489c4"
      },
      "source": [
        "from math import sqrt\n",
        "\n",
        "bottom =  float(input('직각삼각형의 밑변의 길이를 입력하시오: '))\n",
        "height =  float(input('직각삼각형의  높이를 입력하시오: '))\n",
        "hypotenuse = sqrt((bottom ** 2 + height ** 2))\n",
        "print (\"빗변은\", hypotenuse, \"입니다\")"
      ],
      "execution_count": null,
      "outputs": [
        {
          "output_type": "stream",
          "text": [
            "직각삼각형의 밑변의 길이를 입력하시오: 5\n",
            "직각삼각형의  높이를 입력하시오: 5\n",
            "빗변은 7.0710678118654755 입니다\n"
          ],
          "name": "stdout"
        }
      ]
    },
    {
      "cell_type": "code",
      "metadata": {
        "id": "pX98R-355JuQ"
      },
      "source": [
        ""
      ],
      "execution_count": null,
      "outputs": []
    },
    {
      "cell_type": "markdown",
      "metadata": {
        "id": "pROcdULwkjCC"
      },
      "source": [
        "### LINC  실습 기초 프로그램 작성 2\n",
        "* 작업시간과 시급를 입력으로 받아 급여지급를 출력하고자 한다\n",
        "* hour     rate 를 변수로 사용한다"
      ]
    },
    {
      "cell_type": "code",
      "metadata": {
        "colab": {
          "base_uri": "https://localhost:8080/"
        },
        "id": "qIAwVQm35VE-",
        "outputId": "e9931e87-1061-4f34-a49e-29726963afc4"
      },
      "source": [
        "hour = input(\"작업시간 \")\n",
        "rate = input (\"시급 \")\n",
        "\n",
        "hour = int(hour)\n",
        "rate = int(rate)\n",
        "pay = hour * rate\n",
        "print (\"급여는 \", pay)"
      ],
      "execution_count": null,
      "outputs": [
        {
          "output_type": "stream",
          "text": [
            "작업시간 10\n",
            "시급 8720\n",
            "급여는  87200\n"
          ],
          "name": "stdout"
        }
      ]
    },
    {
      "cell_type": "markdown",
      "metadata": {
        "id": "e4n-BikSmAuP"
      },
      "source": [
        "### 파일 스크립트 다루기 "
      ]
    },
    {
      "cell_type": "code",
      "metadata": {
        "colab": {
          "base_uri": "https://localhost:8080/"
        },
        "id": "3R7sxWGrmEL_",
        "outputId": "d889097b-6ead-4c29-8d0d-83cf09778f27"
      },
      "source": [
        "%%writefile  payroll.py\n",
        "hour = input(\"작업시간 \")\n",
        "rate = input (\"시급 \")\n",
        "\n",
        "hour = int(hour)\n",
        "rate = int(rate)\n",
        "pay = hour * rate\n",
        "print (\"급여는 \", pay)"
      ],
      "execution_count": null,
      "outputs": [
        {
          "output_type": "stream",
          "text": [
            "Overwriting payroll.py\n"
          ],
          "name": "stdout"
        }
      ]
    },
    {
      "cell_type": "code",
      "metadata": {
        "colab": {
          "base_uri": "https://localhost:8080/"
        },
        "id": "hpQkPaAG7Ji4",
        "outputId": "adf713e2-218c-4d16-d7df-8f8273cb16b3"
      },
      "source": [
        "%run payroll.py"
      ],
      "execution_count": null,
      "outputs": [
        {
          "output_type": "stream",
          "text": [
            "작업시간 10\n",
            "시급 8720\n",
            "급여는  87200\n"
          ],
          "name": "stdout"
        }
      ]
    },
    {
      "cell_type": "markdown",
      "metadata": {
        "id": "gnMX5yw3nHuC"
      },
      "source": [
        "### 구글 드라이버 사용하기"
      ]
    },
    {
      "cell_type": "code",
      "metadata": {
        "colab": {
          "base_uri": "https://localhost:8080/"
        },
        "id": "HoZysIgAnRI2",
        "outputId": "89e3ed65-ca67-4ff5-ab75-f058081884ab"
      },
      "source": [
        "import os\n",
        "print(os.getcwd())\n",
        "!ls"
      ],
      "execution_count": null,
      "outputs": [
        {
          "output_type": "stream",
          "text": [
            "/content\n",
            "sample_data  test.py\n"
          ],
          "name": "stdout"
        }
      ]
    },
    {
      "cell_type": "code",
      "metadata": {
        "colab": {
          "base_uri": "https://localhost:8080/"
        },
        "id": "yKGAwvZwnZXL",
        "outputId": "0ae9c5e6-f91d-4d01-b556-83b58e5b8bcf"
      },
      "source": [
        "# 실행시 등장하는 URL을 클릭하여 허용해주면 인증KEY가 나타난다. 복사하여 URL아래 빈칸에 붙여넣으면 마운트에 성공하게된다.\n",
        "from google.colab import drive\n",
        "drive.mount('./MyDrive')\n",
        "\n",
        "# 마운트된 내 드라이브를 확인해보자\n",
        "!ls\n",
        "\n"
      ],
      "execution_count": null,
      "outputs": [
        {
          "output_type": "stream",
          "text": [
            "Mounted at ./MyDrive\n",
            "MyDrive  payroll.py  sample_data  test.py\n"
          ],
          "name": "stdout"
        }
      ]
    },
    {
      "cell_type": "code",
      "metadata": {
        "id": "R2X95I359O_g"
      },
      "source": [
        "fpath =\"/content/MyDrive/MyDrive/LINC/kweather.csv\""
      ],
      "execution_count": null,
      "outputs": []
    },
    {
      "cell_type": "code",
      "metadata": {
        "id": "QBZL9PrnpPIP"
      },
      "source": [
        "# 특정파일을 가져오고 싶은 경우 다음과 같이 접근한다.\n",
        "import pandas as pd\n",
        "df = pd.read_csv(\"/content/MyDrive/MyDrive/LINC/kweather.csv\",encoding=\"cp949\")"
      ],
      "execution_count": null,
      "outputs": []
    },
    {
      "cell_type": "code",
      "metadata": {
        "colab": {
          "base_uri": "https://localhost:8080/",
          "height": 204
        },
        "id": "HZQQm9hcqFsR",
        "outputId": "e03c7e56-4714-435e-cc2d-7aff641c6c2f"
      },
      "source": [
        "df.head(5)"
      ],
      "execution_count": null,
      "outputs": [
        {
          "output_type": "execute_result",
          "data": {
            "text/html": [
              "<div>\n",
              "<style scoped>\n",
              "    .dataframe tbody tr th:only-of-type {\n",
              "        vertical-align: middle;\n",
              "    }\n",
              "\n",
              "    .dataframe tbody tr th {\n",
              "        vertical-align: top;\n",
              "    }\n",
              "\n",
              "    .dataframe thead th {\n",
              "        text-align: right;\n",
              "    }\n",
              "</style>\n",
              "<table border=\"1\" class=\"dataframe\">\n",
              "  <thead>\n",
              "    <tr style=\"text-align: right;\">\n",
              "      <th></th>\n",
              "      <th>일시</th>\n",
              "      <th>평균기온(°C)</th>\n",
              "      <th>최대 풍속(m/s)</th>\n",
              "      <th>평균 풍속(m/s)</th>\n",
              "    </tr>\n",
              "  </thead>\n",
              "  <tbody>\n",
              "    <tr>\n",
              "      <th>0</th>\n",
              "      <td>2010-08-01</td>\n",
              "      <td>28.7</td>\n",
              "      <td>8.3</td>\n",
              "      <td>3.4</td>\n",
              "    </tr>\n",
              "    <tr>\n",
              "      <th>1</th>\n",
              "      <td>2010-08-02</td>\n",
              "      <td>25.2</td>\n",
              "      <td>8.7</td>\n",
              "      <td>3.8</td>\n",
              "    </tr>\n",
              "    <tr>\n",
              "      <th>2</th>\n",
              "      <td>2010-08-03</td>\n",
              "      <td>22.1</td>\n",
              "      <td>6.3</td>\n",
              "      <td>2.9</td>\n",
              "    </tr>\n",
              "    <tr>\n",
              "      <th>3</th>\n",
              "      <td>2010-08-04</td>\n",
              "      <td>25.3</td>\n",
              "      <td>6.6</td>\n",
              "      <td>4.2</td>\n",
              "    </tr>\n",
              "    <tr>\n",
              "      <th>4</th>\n",
              "      <td>2010-08-05</td>\n",
              "      <td>27.2</td>\n",
              "      <td>9.1</td>\n",
              "      <td>5.6</td>\n",
              "    </tr>\n",
              "  </tbody>\n",
              "</table>\n",
              "</div>"
            ],
            "text/plain": [
              "           일시  평균기온(°C)  최대 풍속(m/s)  평균 풍속(m/s)\n",
              "0  2010-08-01      28.7         8.3         3.4\n",
              "1  2010-08-02      25.2         8.7         3.8\n",
              "2  2010-08-03      22.1         6.3         2.9\n",
              "3  2010-08-04      25.3         6.6         4.2\n",
              "4  2010-08-05      27.2         9.1         5.6"
            ]
          },
          "metadata": {
            "tags": []
          },
          "execution_count": 21
        }
      ]
    },
    {
      "cell_type": "code",
      "metadata": {
        "id": "94E-cKB2qHPn",
        "colab": {
          "base_uri": "https://localhost:8080/"
        },
        "outputId": "32f33824-063b-4be0-b855-91e9b252e96e"
      },
      "source": [
        "# 1에서 n까지 합구하기\n",
        "\n",
        "n = input(\"n = \")\n",
        "n = int (n)\n",
        "\n",
        "sum = 0\n",
        "for i in range(n+1):\n",
        "    sum += i\n",
        "\n",
        "print (\"sum :\", sum)\n"
      ],
      "execution_count": null,
      "outputs": [
        {
          "output_type": "stream",
          "text": [
            "n = 10\n",
            "sum : 55\n"
          ],
          "name": "stdout"
        }
      ]
    },
    {
      "cell_type": "markdown",
      "metadata": {
        "id": "H51t6YrqXKCR"
      },
      "source": [
        "### 예외처리 (2일)"
      ]
    },
    {
      "cell_type": "code",
      "metadata": {
        "id": "TJtdfOJLXM2P"
      },
      "source": [
        "def getInverse(listOfNumbers):\n",
        "  for num in listOfNumbers:\n",
        "    print(1/num)"
      ],
      "execution_count": 17,
      "outputs": []
    },
    {
      "cell_type": "code",
      "metadata": {
        "colab": {
          "base_uri": "https://localhost:8080/"
        },
        "id": "vGuiLgOnpBWQ",
        "outputId": "2cc479b9-3fc0-432e-ac0e-d80f2286236d"
      },
      "source": [
        "getInverse([1,2])"
      ],
      "execution_count": 18,
      "outputs": [
        {
          "output_type": "stream",
          "text": [
            "1.0\n",
            "0.5\n"
          ],
          "name": "stdout"
        }
      ]
    },
    {
      "cell_type": "code",
      "metadata": {
        "colab": {
          "base_uri": "https://localhost:8080/",
          "height": 283
        },
        "id": "MzlS0TFMXSUP",
        "outputId": "d261f53e-6fde-45a2-eb5d-f0ad04501154"
      },
      "source": [
        "getInverse([1,2,0,4,5])"
      ],
      "execution_count": 19,
      "outputs": [
        {
          "output_type": "stream",
          "text": [
            "1.0\n",
            "0.5\n"
          ],
          "name": "stdout"
        },
        {
          "output_type": "error",
          "ename": "ZeroDivisionError",
          "evalue": "ignored",
          "traceback": [
            "\u001b[0;31m---------------------------------------------------------------------------\u001b[0m",
            "\u001b[0;31mZeroDivisionError\u001b[0m                         Traceback (most recent call last)",
            "\u001b[0;32m<ipython-input-19-3ab217531572>\u001b[0m in \u001b[0;36m<module>\u001b[0;34m()\u001b[0m\n\u001b[0;32m----> 1\u001b[0;31m \u001b[0mgetInverse\u001b[0m\u001b[0;34m(\u001b[0m\u001b[0;34m[\u001b[0m\u001b[0;36m1\u001b[0m\u001b[0;34m,\u001b[0m\u001b[0;36m2\u001b[0m\u001b[0;34m,\u001b[0m\u001b[0;36m0\u001b[0m\u001b[0;34m,\u001b[0m\u001b[0;36m4\u001b[0m\u001b[0;34m,\u001b[0m\u001b[0;36m5\u001b[0m\u001b[0;34m]\u001b[0m\u001b[0;34m)\u001b[0m\u001b[0;34m\u001b[0m\u001b[0;34m\u001b[0m\u001b[0m\n\u001b[0m",
            "\u001b[0;32m<ipython-input-17-c7e402162240>\u001b[0m in \u001b[0;36mgetInverse\u001b[0;34m(listOfNumbers)\u001b[0m\n\u001b[1;32m      1\u001b[0m \u001b[0;32mdef\u001b[0m \u001b[0mgetInverse\u001b[0m\u001b[0;34m(\u001b[0m\u001b[0mlistOfNumbers\u001b[0m\u001b[0;34m)\u001b[0m\u001b[0;34m:\u001b[0m\u001b[0;34m\u001b[0m\u001b[0;34m\u001b[0m\u001b[0m\n\u001b[1;32m      2\u001b[0m   \u001b[0;32mfor\u001b[0m \u001b[0mnum\u001b[0m \u001b[0;32min\u001b[0m \u001b[0mlistOfNumbers\u001b[0m\u001b[0;34m:\u001b[0m\u001b[0;34m\u001b[0m\u001b[0;34m\u001b[0m\u001b[0m\n\u001b[0;32m----> 3\u001b[0;31m     \u001b[0mprint\u001b[0m\u001b[0;34m(\u001b[0m\u001b[0;36m1\u001b[0m\u001b[0;34m/\u001b[0m\u001b[0mnum\u001b[0m\u001b[0;34m)\u001b[0m\u001b[0;34m\u001b[0m\u001b[0;34m\u001b[0m\u001b[0m\n\u001b[0m",
            "\u001b[0;31mZeroDivisionError\u001b[0m: division by zero"
          ]
        }
      ]
    },
    {
      "cell_type": "code",
      "metadata": {
        "id": "fKBU1XzMXYdz"
      },
      "source": [
        "def getInverse2(listOfNumbers):\n",
        "  for num in listOfNumbers:\n",
        "    try:\n",
        "      print(1/num)\n",
        "    except:\n",
        "      print(\"infinite\")"
      ],
      "execution_count": 20,
      "outputs": []
    },
    {
      "cell_type": "code",
      "metadata": {
        "colab": {
          "base_uri": "https://localhost:8080/"
        },
        "id": "awKmQq1dXZ_M",
        "outputId": "d5843c5d-f4f1-46bb-f05d-2b3fa3a1eb73"
      },
      "source": [
        "getInverse2([1,2,0,4,5])"
      ],
      "execution_count": 21,
      "outputs": [
        {
          "output_type": "stream",
          "text": [
            "1.0\n",
            "0.5\n",
            "infinite\n",
            "0.25\n",
            "0.2\n"
          ],
          "name": "stdout"
        }
      ]
    },
    {
      "cell_type": "code",
      "metadata": {
        "colab": {
          "base_uri": "https://localhost:8080/"
        },
        "id": "sAKZqmAaXjPP",
        "outputId": "4f1e7b11-8242-4ab2-9df3-5c3fe927eb88"
      },
      "source": [
        "getInverse2([1,2,\"a\",4,5])"
      ],
      "execution_count": 25,
      "outputs": [
        {
          "output_type": "stream",
          "text": [
            "1.0\n",
            "0.5\n",
            "infinite\n",
            "0.25\n",
            "0.2\n"
          ],
          "name": "stdout"
        }
      ]
    },
    {
      "cell_type": "code",
      "metadata": {
        "id": "o4H60BmdXk_P"
      },
      "source": [
        "def getInverse3(listOfNumbers):\n",
        "  for num in listOfNumbers:\n",
        "    try:\n",
        "      print(1/num)\n",
        "    except ZeroDivisionError as zde:\n",
        "      print(\"infinite\")\n",
        "    except TypeError as te:\n",
        "      print(\"Not a Number\")"
      ],
      "execution_count": 22,
      "outputs": []
    },
    {
      "cell_type": "code",
      "metadata": {
        "colab": {
          "base_uri": "https://localhost:8080/"
        },
        "id": "1b3Ps565X1yx",
        "outputId": "9516a7b0-0c63-4e34-86cb-6e3e4919a1f5"
      },
      "source": [
        "getInverse3([1,2,\"a\",4,5])\n",
        "getInverse3([1,2,\"a\",4,0,5])"
      ],
      "execution_count": 23,
      "outputs": [
        {
          "output_type": "stream",
          "text": [
            "1.0\n",
            "0.5\n",
            "Not a Number\n",
            "0.25\n",
            "0.2\n",
            "1.0\n",
            "0.5\n",
            "Not a Number\n",
            "0.25\n",
            "infinite\n",
            "0.2\n"
          ],
          "name": "stdout"
        }
      ]
    },
    {
      "cell_type": "markdown",
      "metadata": {
        "id": "-hmsO6wk6GL0"
      },
      "source": [
        "### None 이해하기\n",
        "\n",
        "* 파이썬 자료형 중 하나\n",
        "* return 이 없는 함수에서 반환되는 값을 출력할 때 흔히 볼 수 있다\n"
      ]
    },
    {
      "cell_type": "code",
      "metadata": {
        "colab": {
          "base_uri": "https://localhost:8080/"
        },
        "id": "OI_3Zjj06hcu",
        "outputId": "027c64cb-d0fa-4e36-8702-f27167e4d6f2"
      },
      "source": [
        "print( None )\n",
        "print( type(None) )"
      ],
      "execution_count": null,
      "outputs": [
        {
          "output_type": "stream",
          "text": [
            "None\n",
            "<class 'NoneType'>\n"
          ],
          "name": "stdout"
        }
      ]
    },
    {
      "cell_type": "code",
      "metadata": {
        "id": "VMzBxzlh6tDX"
      },
      "source": [
        "# 0으로 나누는 경우는 존재하지 않기 때문에 None을 반환\n",
        "def divide(a,b):\n",
        "  try:\n",
        "    return a / b\n",
        "  except ZeroDivisionError:\n",
        "    return None"
      ],
      "execution_count": null,
      "outputs": []
    },
    {
      "cell_type": "code",
      "metadata": {
        "colab": {
          "base_uri": "https://localhost:8080/"
        },
        "id": "PZoUseaj7SPm",
        "outputId": "a7c2d1fb-1d0d-494f-abaa-860162aa04c0"
      },
      "source": [
        "print (divide(10, 0))"
      ],
      "execution_count": null,
      "outputs": [
        {
          "output_type": "stream",
          "text": [
            "None\n"
          ],
          "name": "stdout"
        }
      ]
    },
    {
      "cell_type": "code",
      "metadata": {
        "id": "Dnw_kezT7O0d"
      },
      "source": [
        "def divide(a, b):\n",
        "    try:\n",
        "        return a / b\n",
        "    except ZeroDivisionError as e:\n",
        "        raise ValueError('Invalid inputs') from e\n"
      ],
      "execution_count": null,
      "outputs": []
    },
    {
      "cell_type": "code",
      "metadata": {
        "colab": {
          "base_uri": "https://localhost:8080/"
        },
        "id": "2AMCZ1pu7cQw",
        "outputId": "2fa3d36f-cd4f-4d42-9ebd-bbe43a75ec07"
      },
      "source": [
        "x, y = 0, 10\n",
        "try:\n",
        "    result = divide(x, y)\n",
        "except ValueError:\n",
        "    print('Invalid inputs')\n",
        "else:\n",
        "    print('Result is %.1f' % result)"
      ],
      "execution_count": null,
      "outputs": [
        {
          "output_type": "stream",
          "text": [
            "Result is 0.0\n"
          ],
          "name": "stdout"
        }
      ]
    },
    {
      "cell_type": "code",
      "metadata": {
        "colab": {
          "base_uri": "https://localhost:8080/"
        },
        "id": "Zy4xiE8T5iqx",
        "outputId": "d8f41cc7-df65-438d-f2fc-6937a641c5c5"
      },
      "source": [
        "# 함수가 값을 반복하지 않으면 이떄  None 을 반환함\n",
        "def add (x, y):\n",
        "    z = x + y\n",
        "\n",
        "x = add(3,4)\n",
        "print (x)"
      ],
      "execution_count": null,
      "outputs": [
        {
          "output_type": "stream",
          "text": [
            "None\n"
          ],
          "name": "stdout"
        }
      ]
    },
    {
      "cell_type": "markdown",
      "metadata": {
        "id": "SMQbY8SnuJv1"
      },
      "source": [
        "### 컬렉션자료형"
      ]
    },
    {
      "cell_type": "markdown",
      "metadata": {
        "id": "gnwBiNLauhYh"
      },
      "source": [
        "다음 반복문 수행 결과의 차이점을 설명하시오"
      ]
    },
    {
      "cell_type": "code",
      "metadata": {
        "colab": {
          "base_uri": "https://localhost:8080/"
        },
        "id": "KHhio98luMuO",
        "outputId": "f0c0b5cb-7ab7-404e-bc91-e38a7fce8a08"
      },
      "source": [
        "# remove()를 사용하여 리스트의 원소를 삭제함\n",
        "# 1  만 삭제됨\n",
        "alist =  list(range(10))\n",
        "for item in alist:\n",
        "    #print (f\"current {item} in {alist} : \")\n",
        "    if item == 2 or item == 1:\n",
        "        print ('removed : ', item)\n",
        "        alist.remove(item)\n",
        "    else:\n",
        "        print ('not removed : ', item)\n",
        "print ('alist : ', alist)"
      ],
      "execution_count": null,
      "outputs": [
        {
          "output_type": "stream",
          "text": [
            "not removed :  0\n",
            "removed :  1\n",
            "not removed :  3\n",
            "not removed :  4\n",
            "not removed :  5\n",
            "not removed :  6\n",
            "not removed :  7\n",
            "not removed :  8\n",
            "not removed :  9\n",
            "alist :  [0, 2, 3, 4, 5, 6, 7, 8, 9]\n"
          ],
          "name": "stdout"
        }
      ]
    },
    {
      "cell_type": "code",
      "metadata": {
        "colab": {
          "base_uri": "https://localhost:8080/"
        },
        "id": "HIyVcLQvuVvM",
        "outputId": "15110a81-d714-4cf2-dea5-b01e99322e1f"
      },
      "source": [
        "# 1, 2 가 삭제됨 \n",
        "alist =  list(range(10))\n",
        "for item in alist[:]:\n",
        "    if item == 2 or item == 1:\n",
        "        alist.remove(item)\n",
        "print ('list1 : ', alist)"
      ],
      "execution_count": null,
      "outputs": [
        {
          "output_type": "stream",
          "text": [
            "list1 :  [0, 3, 4, 5, 6, 7, 8, 9]\n"
          ],
          "name": "stdout"
        }
      ]
    },
    {
      "cell_type": "code",
      "metadata": {
        "colab": {
          "base_uri": "https://localhost:8080/"
        },
        "id": "X2YHilrRyHUf",
        "outputId": "24076783-da22-4fbc-9053-12cdcc03739c"
      },
      "source": [
        "# 올바른 remove()를 사용을 통한 리스트의 원소를 삭제함\n",
        "# 1  만 삭제됨\n",
        "alist =  list(range(10))\n",
        "for item in [1,2]:\n",
        "    alist.remove(item)\n",
        "print ('alist : ', alist)"
      ],
      "execution_count": null,
      "outputs": [
        {
          "output_type": "stream",
          "text": [
            "alist :  [0, 3, 4, 5, 6, 7, 8, 9]\n"
          ],
          "name": "stdout"
        }
      ]
    },
    {
      "cell_type": "code",
      "metadata": {
        "id": "cIx6b1C6ytFx"
      },
      "source": [
        ""
      ],
      "execution_count": null,
      "outputs": []
    },
    {
      "cell_type": "markdown",
      "metadata": {
        "id": "7CCRsyf50qeK"
      },
      "source": [
        "### Factorial 구하기"
      ]
    },
    {
      "cell_type": "code",
      "metadata": {
        "colab": {
          "base_uri": "https://localhost:8080/"
        },
        "id": "avCEoHpO004F",
        "outputId": "64f10cc7-cc02-4423-e4de-e82191387af6"
      },
      "source": [
        "def factorial_for(n):\n",
        "    ret = 1\n",
        "    for i in range(1, n+1):\n",
        "        ret *= i\n",
        "    return ret\n",
        "\n",
        "\n",
        "print (factorial_for(5))\n",
        "print (factorial_for(20))"
      ],
      "execution_count": null,
      "outputs": [
        {
          "output_type": "stream",
          "text": [
            "120\n",
            "2432902008176640000\n"
          ],
          "name": "stdout"
        }
      ]
    },
    {
      "cell_type": "code",
      "metadata": {
        "colab": {
          "base_uri": "https://localhost:8080/"
        },
        "id": "zFFd3ZJt1OUA",
        "outputId": "1af7863d-453d-47e3-851f-fd3b55f83611"
      },
      "source": [
        "def factorial_recursive(n):\n",
        "    return n * factorial_recursive(n-1) if n > 1 else 1\n",
        "\n",
        "print (factorial_recursive(5))\n",
        "print (factorial_recursive(20))"
      ],
      "execution_count": null,
      "outputs": [
        {
          "output_type": "stream",
          "text": [
            "120\n",
            "2432902008176640000\n"
          ],
          "name": "stdout"
        }
      ]
    },
    {
      "cell_type": "code",
      "metadata": {
        "colab": {
          "base_uri": "https://localhost:8080/"
        },
        "id": "oDFc796v0tLI",
        "outputId": "69ca6e47-373b-45f9-ed4d-4e1d755b66cf"
      },
      "source": [
        "import math\n",
        "\n",
        "print (math.factorial(5))\n",
        "print (math.factorial(20))"
      ],
      "execution_count": null,
      "outputs": [
        {
          "output_type": "stream",
          "text": [
            "120\n",
            "2432902008176640000\n"
          ],
          "name": "stdout"
        }
      ]
    },
    {
      "cell_type": "code",
      "metadata": {
        "colab": {
          "base_uri": "https://localhost:8080/"
        },
        "id": "6o89sLNq3VlN",
        "outputId": "f2bf9a64-d825-42c3-e998-5bf0290d475b"
      },
      "source": [
        "# 1에서 n 까지 합구하기 \n",
        "from functools import reduce\n",
        "add = lambda x, y  :  x + y \n",
        "n = 5\n",
        "\n",
        "# reduce(집계 함수, 순회 가능한 데이터[, 초기값])\n",
        "y = reduce(add, range(1,n+1))\n",
        "print (y)\n",
        "\n",
        "y = reduce(add, [1,2,3,4,5])\n",
        "print (y)\n",
        "\n",
        "# 최대값 구하기\n",
        "max_func = lambda a, b: a if (a > b) else b \n",
        "y= reduce(max_func, [34, 76, 29, 96, 68])\n",
        "print (y)\n"
      ],
      "execution_count": null,
      "outputs": [
        {
          "output_type": "stream",
          "text": [
            "15\n",
            "15\n",
            "96\n"
          ],
          "name": "stdout"
        }
      ]
    },
    {
      "cell_type": "code",
      "metadata": {
        "colab": {
          "base_uri": "https://localhost:8080/"
        },
        "id": "8IvmY5D20zl5",
        "outputId": "7d8e0d53-b229-4d97-f488-809043bde769"
      },
      "source": [
        "#  첫 번째 인자로 원하는 연산, 두 번째 인자로 재귀적인 자료구조를 받는\n",
        "from functools import reduce\n",
        "\n",
        "def factorial_reduce(n):\n",
        "    return reduce(lambda x, y: x * y, range(1, n+1))\n",
        "\n",
        "\n",
        "print (factorial_for(5))\n",
        "print (factorial_for(20))"
      ],
      "execution_count": null,
      "outputs": [
        {
          "output_type": "stream",
          "text": [
            "120\n",
            "2432902008176640000\n"
          ],
          "name": "stdout"
        }
      ]
    },
    {
      "cell_type": "markdown",
      "metadata": {
        "id": "EXEA_LRNhDlP"
      },
      "source": [
        "### 수정가능 자료 리스트의 매개변수 사용"
      ]
    },
    {
      "cell_type": "code",
      "metadata": {
        "id": "2vHN1mPxhJOb"
      },
      "source": [
        "def append_to(element, to=[]):\n",
        "    to.append(element)\n",
        "    return to"
      ],
      "execution_count": null,
      "outputs": []
    },
    {
      "cell_type": "code",
      "metadata": {
        "colab": {
          "base_uri": "https://localhost:8080/"
        },
        "id": "t5E89DFuhL5H",
        "outputId": "9b40a5e2-9ee4-47d1-ac8d-340cd0eaa227"
      },
      "source": [
        "my_list = append_to(\"a\") \n",
        "print(my_list)\n",
        "print (id(my_list))\n",
        "\n",
        "my_second_list = append_to(\"b\") \n",
        "print(my_second_list)\n",
        "\n",
        "print (id(my_second_list))"
      ],
      "execution_count": null,
      "outputs": [
        {
          "output_type": "stream",
          "text": [
            "['a', 'b', 'a']\n",
            "139840982285200\n",
            "['a', 'b', 'a', 'b']\n",
            "139840982285200\n"
          ],
          "name": "stdout"
        }
      ]
    },
    {
      "cell_type": "code",
      "metadata": {
        "id": "aTubdE-mhWY8"
      },
      "source": [
        " def append_to(element, to=None):\n",
        "     if to is None:\n",
        "         to = []\n",
        "     to.append(element)\n",
        "     return to"
      ],
      "execution_count": null,
      "outputs": []
    },
    {
      "cell_type": "code",
      "metadata": {
        "colab": {
          "base_uri": "https://localhost:8080/"
        },
        "id": "M9qhlDXuhoMf",
        "outputId": "b56cb482-1b4d-480c-dc69-6202c5bcf43a"
      },
      "source": [
        "my_list = append_to(\"a\") \n",
        "print(my_list)\n",
        "\n",
        "my_second_list = append_to(\"b\") \n",
        "print(my_second_list)"
      ],
      "execution_count": null,
      "outputs": [
        {
          "output_type": "stream",
          "text": [
            "['a']\n",
            "['b']\n"
          ],
          "name": "stdout"
        }
      ]
    },
    {
      "cell_type": "markdown",
      "metadata": {
        "id": "jKAFAozhO0qi"
      },
      "source": [
        "### any() 사용하기"
      ]
    },
    {
      "cell_type": "code",
      "metadata": {
        "colab": {
          "base_uri": "https://localhost:8080/"
        },
        "id": "7S4Mj4EXO3XU",
        "outputId": "f0c1ce7c-cbc6-4c27-9ebf-070a3868942f"
      },
      "source": [
        "def is_qualified(sql, ml, stats):\n",
        "    if (sql >= 10) or (ml >= 12) or (stats >= 8):\n",
        "        return True\n",
        "    else:\n",
        "        return False"
      ],
      "execution_count": 1,
      "outputs": [
        {
          "output_type": "execute_result",
          "data": {
            "text/plain": [
              "False"
            ]
          },
          "metadata": {},
          "execution_count": 1
        }
      ]
    },
    {
      "cell_type": "code",
      "metadata": {
        "colab": {
          "base_uri": "https://localhost:8080/"
        },
        "id": "YO_84HXvPZRx",
        "outputId": "ad117355-816e-42a2-c15c-ed85c5e3581e"
      },
      "source": [
        "is_qualified(11, 11, 7)\n",
        "# True\n"
      ],
      "execution_count": null,
      "outputs": [
        {
          "output_type": "execute_result",
          "data": {
            "text/plain": [
              "True"
            ]
          },
          "metadata": {},
          "execution_count": 5
        }
      ]
    },
    {
      "cell_type": "code",
      "metadata": {
        "colab": {
          "base_uri": "https://localhost:8080/"
        },
        "id": "W01cshHpPbyI",
        "outputId": "28736ffe-1184-405f-dd58-1e66fd876d4b"
      },
      "source": [
        "is_qualified(9, 10, 7)\n",
        "# False"
      ],
      "execution_count": null,
      "outputs": [
        {
          "output_type": "execute_result",
          "data": {
            "text/plain": [
              "False"
            ]
          },
          "metadata": {},
          "execution_count": 4
        }
      ]
    },
    {
      "cell_type": "code",
      "metadata": {
        "id": "eqsPkdQ9O8eF"
      },
      "source": [
        "def is_qualified(sql, ml, stats):\n",
        "    requirements = [\n",
        "        sql >= 10,\n",
        "        ml >= 12,\n",
        "        stats >= 8\n",
        "    ]\n",
        "    return any(requirements)"
      ],
      "execution_count": 2,
      "outputs": []
    },
    {
      "cell_type": "code",
      "metadata": {
        "colab": {
          "base_uri": "https://localhost:8080/"
        },
        "id": "SiQiOOS3PFrD",
        "outputId": "ad117355-816e-42a2-c15c-ed85c5e3581e"
      },
      "source": [
        "is_qualified(11, 11, 7)\n",
        "# True\n"
      ],
      "execution_count": 5,
      "outputs": [
        {
          "output_type": "execute_result",
          "data": {
            "text/plain": [
              "True"
            ]
          },
          "metadata": {},
          "execution_count": 5
        }
      ]
    },
    {
      "cell_type": "code",
      "metadata": {
        "colab": {
          "base_uri": "https://localhost:8080/"
        },
        "id": "4BUwG4wkPKJD",
        "outputId": "28736ffe-1184-405f-dd58-1e66fd876d4b"
      },
      "source": [
        "is_qualified(9, 10, 7)\n",
        "# False"
      ],
      "execution_count": 4,
      "outputs": [
        {
          "output_type": "execute_result",
          "data": {
            "text/plain": [
              "False"
            ]
          },
          "metadata": {},
          "execution_count": 4
        }
      ]
    }
  ]
}