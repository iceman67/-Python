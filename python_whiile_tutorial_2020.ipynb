{
  "nbformat": 4,
  "nbformat_minor": 0,
  "metadata": {
    "colab": {
      "name": "python_whiile_tutorial_2020.ipynb",
      "provenance": [],
      "include_colab_link": true
    },
    "kernelspec": {
      "name": "python3",
      "display_name": "Python 3"
    }
  },
  "cells": [
    {
      "cell_type": "markdown",
      "metadata": {
        "id": "view-in-github",
        "colab_type": "text"
      },
      "source": [
        "<a href=\"https://colab.research.google.com/github/iceman67/-Python/blob/master/python_whiile_tutorial_2020.ipynb\" target=\"_parent\"><img src=\"https://colab.research.google.com/assets/colab-badge.svg\" alt=\"Open In Colab\"/></a>"
      ]
    },
    {
      "cell_type": "markdown",
      "metadata": {
        "id": "U8UY7s3HMvrl"
      },
      "source": [
        "(실습) 다음은 while 문을 사용하여 1에서 10까지 반복하여 값을 출력하는 프로그램을 작성한 것이다. "
      ]
    },
    {
      "cell_type": "code",
      "metadata": {
        "colab": {
          "base_uri": "https://localhost:8080/"
        },
        "id": "3VWMUdOxMyuQ",
        "outputId": "415dccdf-1d28-4007-de8a-38949cb9d0a4"
      },
      "source": [
        "sum = 0\n",
        "i = 1\n",
        "N = 10\n",
        "while i <= N:\n",
        "  sum = sum + i\n",
        "  i = i + 1\n",
        "\n",
        "print (f\"1 에서 {N} 까지 합 = {sum}\")  "
      ],
      "execution_count": null,
      "outputs": [
        {
          "output_type": "stream",
          "text": [
            "11 에서 10 까지 합 = 55\n"
          ],
          "name": "stdout"
        }
      ]
    },
    {
      "cell_type": "markdown",
      "metadata": {
        "id": "ylVuJpfSNT2T"
      },
      "source": [
        "(실습) 1에서 10까지의 숫자중 짝수를 출력하도록 프로그램을 작성하시오."
      ]
    },
    {
      "cell_type": "code",
      "metadata": {
        "colab": {
          "base_uri": "https://localhost:8080/"
        },
        "id": "iow4Z4viNFgb",
        "outputId": "bca7c441-7ccf-4e75-f374-a86d51ab4462"
      },
      "source": [
        "sum = 0\n",
        "i = 1\n",
        "N = 10\n",
        "while i <= N:\n",
        "  if i % 2 == 0:\n",
        "    print (f\"짝수 = {i}\")\n",
        "    sum = sum + i\n",
        "  i = i + 1\n",
        "\n",
        "print (f\"1 에서 {N} 까지 짝수 합 = {sum}\")  "
      ],
      "execution_count": null,
      "outputs": [
        {
          "output_type": "stream",
          "text": [
            "짝수 = 2\n",
            "짝수 = 4\n",
            "짝수 = 6\n",
            "짝수 = 8\n",
            "짝수 = 10\n",
            "1 에서 10 까지 짝수 합 = 30\n"
          ],
          "name": "stdout"
        }
      ]
    },
    {
      "cell_type": "markdown",
      "metadata": {
        "id": "RPVpvoICN6Ku"
      },
      "source": [
        "다음은 while 문을 사용하여 1에서 1000까지 합을 구하여 출력하는 프로그램을 작성한 것이다. "
      ]
    },
    {
      "cell_type": "code",
      "metadata": {
        "colab": {
          "base_uri": "https://localhost:8080/"
        },
        "id": "0PAj-qmSN8jU",
        "outputId": "de813557-8630-4579-9fdc-debf5182bc26"
      },
      "source": [
        "sum = 0\n",
        "i = 1\n",
        "N = 1000\n",
        "while i <= N:\n",
        "  sum = sum + i\n",
        "  i = i + 1\n",
        "\n",
        "print (f\"1 에서 {N} 까지 합 = {sum}\")  "
      ],
      "execution_count": null,
      "outputs": [
        {
          "output_type": "stream",
          "text": [
            "1 에서 1000 까지 합 = 500500\n"
          ],
          "name": "stdout"
        }
      ]
    },
    {
      "cell_type": "markdown",
      "metadata": {
        "id": "OxF4gHkVObgm"
      },
      "source": [
        "(실습) 1에서 10까지의 숫자중 홀수의 합을 계산하시오. "
      ]
    },
    {
      "cell_type": "code",
      "metadata": {
        "colab": {
          "base_uri": "https://localhost:8080/"
        },
        "id": "RQZEC2sHOb1j",
        "outputId": "d09219f9-c42d-49d2-d9b6-e5fe424beea4"
      },
      "source": [
        "sum = 0\n",
        "i = 1\n",
        "N = 10\n",
        "while i <= N:\n",
        "  if i % 2 == 1:\n",
        "    print (f\"홀수 = {i}\")\n",
        "    sum = sum + i\n",
        "  i = i + 1\n",
        "\n",
        "print (f\"1 에서 {N} 까지 홀수 합 = {sum}\")  "
      ],
      "execution_count": null,
      "outputs": [
        {
          "output_type": "stream",
          "text": [
            "홀수 = 1\n",
            "홀수 = 3\n",
            "홀수 = 5\n",
            "홀수 = 7\n",
            "홀수 = 9\n",
            "1 에서 10 까지 홀수 합 = 25\n"
          ],
          "name": "stdout"
        }
      ]
    }
  ]
}