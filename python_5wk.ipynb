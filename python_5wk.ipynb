{
  "nbformat": 4,
  "nbformat_minor": 0,
  "metadata": {
    "colab": {
      "name": "python_5wk",
      "provenance": [],
      "collapsed_sections": [],
      "authorship_tag": "ABX9TyN3xPLMxiQqEuIkH5gYRs6h",
      "include_colab_link": true
    },
    "kernelspec": {
      "name": "python3",
      "display_name": "Python 3"
    }
  },
  "cells": [
    {
      "cell_type": "markdown",
      "metadata": {
        "id": "view-in-github",
        "colab_type": "text"
      },
      "source": [
        "<a href=\"https://colab.research.google.com/github/iceman67/-Python/blob/master/python_5wk.ipynb\" target=\"_parent\"><img src=\"https://colab.research.google.com/assets/colab-badge.svg\" alt=\"Open In Colab\"/></a>"
      ]
    },
    {
      "cell_type": "markdown",
      "metadata": {
        "id": "W0JM4-pBOpRZ"
      },
      "source": [
        "### 실습목표 \r\n",
        "\r\n",
        "* 작성된 내용을 함수를 사용하여 재작성함\r\n",
        "* 함수를 사용할때 이점을 이해함\r\n",
        "\r\n",
        "\r\n",
        "---\r\n",
        "* 함수를 사용하지 않은 코드 구성을 이해함\r\n",
        "\r\n"
      ]
    },
    {
      "cell_type": "code",
      "metadata": {
        "id": "5XYKtLN0Ctg1",
        "colab": {
          "base_uri": "https://localhost:8080/",
          "height": 34
        },
        "outputId": "7f8388fb-cb1e-4b6b-df03-cd96fc434f65"
      },
      "source": [
        "all_list = [1,2,3,4,5]\n",
        "even_list = []\n",
        "for i in all_list:\n",
        "  if i % 2 == 0:\n",
        "    even_list.append(i)\n",
        "\n",
        "print (even_list)"
      ],
      "execution_count": null,
      "outputs": [
        {
          "output_type": "stream",
          "text": [
            "[2, 4]\n"
          ],
          "name": "stdout"
        }
      ]
    },
    {
      "cell_type": "code",
      "metadata": {
        "id": "ambsg4VODp7_",
        "colab": {
          "base_uri": "https://localhost:8080/",
          "height": 34
        },
        "outputId": "f78b3fe5-0198-4b0d-f5e4-c8e902ace87d"
      },
      "source": [
        "even_list = [i for i in all_list if i % 2 == 0]\n",
        "print (even_list)"
      ],
      "execution_count": null,
      "outputs": [
        {
          "output_type": "stream",
          "text": [
            "[2, 4]\n"
          ],
          "name": "stdout"
        }
      ]
    },
    {
      "cell_type": "markdown",
      "metadata": {
        "id": "c9_PEYSYeYMY"
      },
      "source": [
        "# 함수 사용 이점 \n",
        "*   List 프로그램 안에서 중복된 코드를 제거\n",
        "*   List 복잡한 프로그래밍 작업을 더 간단한 작업들로 분해\n",
        "*   List 한번 만들어 다른 프로그램에서도 재사용\n",
        "*   List 가독성이 증대\n",
        "*   List 유지 관리도 쉬워짐\n",
        "\n"
      ]
    },
    {
      "cell_type": "markdown",
      "metadata": {
        "id": "h3FSc1SIZ2v8"
      },
      "source": [
        "# 자료 검색 함수\n",
        "리스트에서 자료 검색하기 위해 함수 search_list()를 작성하고 함수 search_list()의 호출을 보인 것이다. "
      ]
    },
    {
      "cell_type": "code",
      "metadata": {
        "id": "mTjWxEFsZv2E"
      },
      "source": [
        "def search_list(a, x):\n",
        "    n = len(a)\n",
        "    for i in range(0,n): # 리스트 a의 모든 값을 차례로 \n",
        "        if x == a[i]:    # x값과 비교함\n",
        "           return i\n",
        "    return -1            # 끝까지 비교해도 없으면 -1을 돌려줌 \n"
      ],
      "execution_count": null,
      "outputs": []
    },
    {
      "cell_type": "code",
      "metadata": {
        "id": "MEutjyLXZyLt",
        "colab": {
          "base_uri": "https://localhost:8080/",
          "height": 34
        },
        "outputId": "0b487c71-8c2f-49d5-cedf-83bcd34dd980"
      },
      "source": [
        "v = [1, 2, 3, 4, 5, 6, 7, 8, 9]\n",
        "print ( search_list(v, 20))"
      ],
      "execution_count": null,
      "outputs": [
        {
          "output_type": "stream",
          "text": [
            "-1\n"
          ],
          "name": "stdout"
        }
      ]
    },
    {
      "cell_type": "markdown",
      "metadata": {
        "id": "T035xYSccjAC"
      },
      "source": [
        "# 10진수 이진수로 변경하기 \n",
        "\n",
        "![image.png](data:image/png;base64,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)"
      ]
    },
    {
      "cell_type": "code",
      "metadata": {
        "id": "ljPRxFvLaP-9",
        "colab": {
          "base_uri": "https://localhost:8080/",
          "height": 34
        },
        "outputId": "4071ef28-45f3-41e3-8c2f-2eebcdbff862"
      },
      "source": [
        "decimal = 10\n",
        "result = ' '\n",
        "while (decimal > 0):\n",
        "   remainder = decimal % 2\n",
        "   decimal = decimal // 2\n",
        "   result = str(remainder) + result\n",
        "print(result) "
      ],
      "execution_count": null,
      "outputs": [
        {
          "output_type": "stream",
          "text": [
            "1010 \n"
          ],
          "name": "stdout"
        }
      ]
    },
    {
      "cell_type": "code",
      "metadata": {
        "id": "BIqLsHR0d2am"
      },
      "source": [
        "#10진수 이진수로 변경하기 함수 활용 "
      ],
      "execution_count": null,
      "outputs": []
    },
    {
      "cell_type": "code",
      "metadata": {
        "id": "5on35javcoXO"
      },
      "source": [
        "def dec2bin(decimal):\n",
        "  result = ' '\n",
        "  while (decimal > 0):\n",
        "     remainder = decimal % 2\n",
        "     decimal = decimal // 2\n",
        "     result = str(remainder) + result\n",
        "\n",
        "  return result"
      ],
      "execution_count": null,
      "outputs": []
    },
    {
      "cell_type": "code",
      "metadata": {
        "id": "ipu1lN56c8Lq",
        "colab": {
          "base_uri": "https://localhost:8080/",
          "height": 34
        },
        "outputId": "85c3490d-5d7a-4c5a-f7c2-710089684d89"
      },
      "source": [
        "print (dec2bin(10))"
      ],
      "execution_count": null,
      "outputs": [
        {
          "output_type": "stream",
          "text": [
            "1010 \n"
          ],
          "name": "stdout"
        }
      ]
    }
  ]
}