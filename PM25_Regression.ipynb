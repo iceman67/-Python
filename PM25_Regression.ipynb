{
  "nbformat": 4,
  "nbformat_minor": 0,
  "metadata": {
    "colab": {
      "name": "PM25_Regression.ipynb",
      "provenance": [],
      "toc_visible": true,
      "include_colab_link": true
    },
    "kernelspec": {
      "name": "python3",
      "display_name": "Python 3"
    }
  },
  "cells": [
    {
      "cell_type": "markdown",
      "metadata": {
        "id": "view-in-github",
        "colab_type": "text"
      },
      "source": [
        "<a href=\"https://colab.research.google.com/github/iceman67/-Python/blob/master/PM25_Regression.ipynb\" target=\"_parent\"><img src=\"https://colab.research.google.com/assets/colab-badge.svg\" alt=\"Open In Colab\"/></a>"
      ]
    },
    {
      "cell_type": "code",
      "metadata": {
        "id": "ZQiJ4MFpDyVX",
        "colab_type": "code",
        "colab": {}
      },
      "source": [
        "from keras.layers import Input\n",
        "from keras.layers.core import Dense\n",
        "from keras.models import Sequential\n",
        "from keras.models import Model\n",
        "from keras import regularizers\n",
        "from keras import backend as K\n",
        "\n",
        "from sklearn.preprocessing import StandardScaler\n",
        "from sklearn.preprocessing import MinMaxScaler\n",
        "import matplotlib.pyplot as plt\n",
        "import numpy as np\n",
        "import pandas as pd\n"
      ],
      "execution_count": 0,
      "outputs": []
    },
    {
      "cell_type": "code",
      "metadata": {
        "id": "fbNV3VbFVkD4",
        "colab_type": "code",
        "colab": {}
      },
      "source": [
        "#!wget https://github.com/iceman67/HRS/blob/master/April_sensor_data.csv"
      ],
      "execution_count": 0,
      "outputs": []
    },
    {
      "cell_type": "code",
      "metadata": {
        "id": "0gx2mfOmEtNV",
        "colab_type": "code",
        "colab": {}
      },
      "source": [
        "# read in that strange European CSV data, semi-colon separated, with commas for decimal points\n",
        "aqdf = pd.read_csv(\"April_sensor_data.csv\")"
      ],
      "execution_count": 0,
      "outputs": []
    },
    {
      "cell_type": "code",
      "metadata": {
        "id": "sluQgzwXHUZv",
        "colab_type": "code",
        "outputId": "676bc166-a358-4dee-9a2e-bdd619e39c16",
        "colab": {
          "base_uri": "https://localhost:8080/",
          "height": 70
        }
      },
      "source": [
        "aqdf.columns"
      ],
      "execution_count": 64,
      "outputs": [
        {
          "output_type": "execute_result",
          "data": {
            "text/plain": [
              "Index(['NO', 'REG_DATE', 'PM2.5', 'PM10.0', 'Temperature', 'Huminity', 'TVOC',\n",
              "       'CO2'],\n",
              "      dtype='object')"
            ]
          },
          "metadata": {
            "tags": []
          },
          "execution_count": 64
        }
      ]
    },
    {
      "cell_type": "code",
      "metadata": {
        "id": "OFG1GCZsHfa5",
        "colab_type": "code",
        "colab": {}
      },
      "source": [
        "aqdf = aqdf.rename(columns={'Huminity': 'Humidity', 'PM2.5' :'PM25', 'PM10.0':'PM100'})"
      ],
      "execution_count": 0,
      "outputs": []
    },
    {
      "cell_type": "code",
      "metadata": {
        "id": "YdflsEfyHbCg",
        "colab_type": "code",
        "colab": {}
      },
      "source": [
        "aqdf.drop('NO', axis=1, inplace=True)\n",
        "aqdf.drop('REG_DATE', axis=1, inplace=True)\n",
        "#aqdf.drop('PM2.5', axis=1, inplace=True)\n",
        "#aqdf.drop('PM10.0', axis=1, inplace=True)\n",
        "aqdf.drop('Temperature', axis=1, inplace=True)\n",
        "aqdf.drop('TVOC', axis=1, inplace=True)\n",
        "aqdf.drop('Humidity', axis=1, inplace=True)\n",
        "aqdf.drop('CO2', axis=1, inplace=True)\n"
      ],
      "execution_count": 0,
      "outputs": []
    },
    {
      "cell_type": "markdown",
      "metadata": {
        "id": "Q5nnHqHrXwh6",
        "colab_type": "text"
      },
      "source": [
        "The standard score of a sample x is calculated as:\n",
        "\n",
        "z = (x - u) / s\n",
        "\n",
        "Standardization of a dataset is a common requirement for many machine learning estimators.  \n",
        "\n",
        "StandardScaler(x), 평균이 0과 표준편차가 1이 되도록 변환\n",
        "\n",
        "https://datascienceschool.net/view-notebook/f43be7d6515b48c0beb909826993c856/\n"
      ]
    },
    {
      "cell_type": "code",
      "metadata": {
        "id": "mFpyBVFFGqNR",
        "colab_type": "code",
        "colab": {}
      },
      "source": [
        "#scaler =MinMaxScaler()\n",
        "scaler = StandardScaler()\n",
        "x_scaled = scaler.fit_transform(aqdf)"
      ],
      "execution_count": 0,
      "outputs": []
    },
    {
      "cell_type": "code",
      "metadata": {
        "id": "Z3D8UEQmIXNj",
        "colab_type": "code",
        "colab": {}
      },
      "source": [
        "x_means = scaler.mean_\n",
        "x_stds = scaler.scale_"
      ],
      "execution_count": 0,
      "outputs": []
    },
    {
      "cell_type": "code",
      "metadata": {
        "id": "wbAfuGrUIgHc",
        "colab_type": "code",
        "outputId": "3f135287-5b76-4b5e-9ac6-1e1cd0ecc345",
        "colab": {
          "base_uri": "https://localhost:8080/",
          "height": 35
        }
      },
      "source": [
        "x_means"
      ],
      "execution_count": 69,
      "outputs": [
        {
          "output_type": "execute_result",
          "data": {
            "text/plain": [
              "array([13.8635544, 13.8726821])"
            ]
          },
          "metadata": {
            "tags": []
          },
          "execution_count": 69
        }
      ]
    },
    {
      "cell_type": "code",
      "metadata": {
        "id": "TdKkjVJQIkCb",
        "colab_type": "code",
        "outputId": "3959db94-fcb6-499f-c0f7-1a234480c258",
        "colab": {
          "base_uri": "https://localhost:8080/",
          "height": 35
        }
      },
      "source": [
        "x_stds"
      ],
      "execution_count": 70,
      "outputs": [
        {
          "output_type": "execute_result",
          "data": {
            "text/plain": [
              "array([8.07562686, 7.59808376])"
            ]
          },
          "metadata": {
            "tags": []
          },
          "execution_count": 70
        }
      ]
    },
    {
      "cell_type": "code",
      "metadata": {
        "id": "bEWnPQjKI41M",
        "colab_type": "code",
        "outputId": "ed5e8002-7b77-4f7e-c600-d2ada3b69bc5",
        "colab": {
          "base_uri": "https://localhost:8080/",
          "height": 35
        }
      },
      "source": [
        "x_scaled[0]"
      ],
      "execution_count": 71,
      "outputs": [
        {
          "output_type": "execute_result",
          "data": {
            "text/plain": [
              "array([-0.78304192, -1.01113417])"
            ]
          },
          "metadata": {
            "tags": []
          },
          "execution_count": 71
        }
      ]
    },
    {
      "cell_type": "code",
      "metadata": {
        "id": "0FrVqcu3MSXy",
        "colab_type": "code",
        "outputId": "cd3748e6-7270-497f-aee4-93287615eafc",
        "colab": {
          "base_uri": "https://localhost:8080/",
          "height": 35
        }
      },
      "source": [
        "x_scaled.shape"
      ],
      "execution_count": 72,
      "outputs": [
        {
          "output_type": "execute_result",
          "data": {
            "text/plain": [
              "(25920, 2)"
            ]
          },
          "metadata": {
            "tags": []
          },
          "execution_count": 72
        }
      ]
    },
    {
      "cell_type": "code",
      "metadata": {
        "id": "hr8Pl5HCIsD6",
        "colab_type": "code",
        "colab": {}
      },
      "source": [
        "y = x_scaled[:, 0]                  # y is  CO2 column - the target"
      ],
      "execution_count": 0,
      "outputs": []
    },
    {
      "cell_type": "code",
      "metadata": {
        "id": "q2fPSeLOJDCa",
        "colab_type": "code",
        "outputId": "eed9b061-b4ed-4aeb-8f02-6bf8beb53acd",
        "colab": {
          "base_uri": "https://localhost:8080/",
          "height": 52
        }
      },
      "source": [
        "y"
      ],
      "execution_count": 74,
      "outputs": [
        {
          "output_type": "execute_result",
          "data": {
            "text/plain": [
              "array([-0.78304192, -0.7471314 , -0.78304192, ..., -1.08890053,\n",
              "       -1.23378093, -1.14214717])"
            ]
          },
          "metadata": {
            "tags": []
          },
          "execution_count": 74
        }
      ]
    },
    {
      "cell_type": "code",
      "metadata": {
        "id": "ioBSkZm2Jg_v",
        "colab_type": "code",
        "colab": {}
      },
      "source": [
        "x = np.delete(x_scaled, 0, axis=1)  # x is everything else - the input"
      ],
      "execution_count": 0,
      "outputs": []
    },
    {
      "cell_type": "code",
      "metadata": {
        "id": "7GnQsmi_JzsC",
        "colab_type": "code",
        "outputId": "2fd73356-de87-4080-ebaf-7d56f2ac21bc",
        "colab": {
          "base_uri": "https://localhost:8080/",
          "height": 35
        }
      },
      "source": [
        "x.shape"
      ],
      "execution_count": 76,
      "outputs": [
        {
          "output_type": "execute_result",
          "data": {
            "text/plain": [
              "(25920, 1)"
            ]
          },
          "metadata": {
            "tags": []
          },
          "execution_count": 76
        }
      ]
    },
    {
      "cell_type": "code",
      "metadata": {
        "id": "oRCnWkmsOFK0",
        "colab_type": "code",
        "outputId": "9b3426de-6bf8-44e4-8300-7ae7471704e1",
        "colab": {
          "base_uri": "https://localhost:8080/",
          "height": 35
        }
      },
      "source": [
        "x_stds[0]"
      ],
      "execution_count": 77,
      "outputs": [
        {
          "output_type": "execute_result",
          "data": {
            "text/plain": [
              "8.075626862954957"
            ]
          },
          "metadata": {
            "tags": []
          },
          "execution_count": 77
        }
      ]
    },
    {
      "cell_type": "code",
      "metadata": {
        "id": "x_tQDam2ONdo",
        "colab_type": "code",
        "outputId": "23064885-faed-4078-e744-546b9ddc0f6f",
        "colab": {
          "base_uri": "https://localhost:8080/",
          "height": 35
        }
      },
      "source": [
        "x_means[0]"
      ],
      "execution_count": 78,
      "outputs": [
        {
          "output_type": "execute_result",
          "data": {
            "text/plain": [
              "13.863554398148148"
            ]
          },
          "metadata": {
            "tags": []
          },
          "execution_count": 78
        }
      ]
    },
    {
      "cell_type": "code",
      "metadata": {
        "id": "pSvHWg80J3Mx",
        "colab_type": "code",
        "colab": {}
      },
      "source": [
        "train_size = int(0.7 * x.shape[0])"
      ],
      "execution_count": 0,
      "outputs": []
    },
    {
      "cell_type": "code",
      "metadata": {
        "id": "HfxnPNkZJ9a3",
        "colab_type": "code",
        "colab": {}
      },
      "source": [
        "x_train, x_test, y_train, y_test = x[0:train_size], x[train_size:], y[0:train_size], y[train_size:]"
      ],
      "execution_count": 0,
      "outputs": []
    },
    {
      "cell_type": "markdown",
      "metadata": {
        "id": "vukn7z4Ss7qm",
        "colab_type": "text"
      },
      "source": [
        "A dense layer represents a matrix vector multiplication.\n",
        "\n",
        "Glorot Uniform initializer for the kernel weight matrix\n",
        "It pulls values from a uniform distribution, however, its limits are dynamic \n",
        "with the size of the Dense layer\n",
        "\n",
        "if the input shape is (1,) and number of unit is 8, then the output shape is (8,).\n"
      ]
    },
    {
      "cell_type": "code",
      "metadata": {
        "id": "N6fqMCPJKBRZ",
        "colab_type": "code",
        "colab": {}
      },
      "source": [
        "# regression network with 1 features -> 8 latent space -> 1 output\n",
        "\n",
        "readings = Input(shape=(1, ))\n",
        "encoded = Dense(8, activation='relu', kernel_initializer='glorot_uniform')(readings)\n",
        "decoded = Dense(1, kernel_initializer='glorot_uniform')(encoded)\n",
        "model = Model(inputs=[readings], outputs=[decoded])\n",
        "\n",
        "model.compile(loss='mse', optimizer='adam')"
      ],
      "execution_count": 0,
      "outputs": []
    },
    {
      "cell_type": "code",
      "metadata": {
        "id": "6kYU1-rYiN-j",
        "colab_type": "code",
        "colab": {
          "base_uri": "https://localhost:8080/",
          "height": 266
        },
        "outputId": "4c9665ee-f6b8-42be-fd71-dc114a57c12c"
      },
      "source": [
        "model.summary()"
      ],
      "execution_count": 82,
      "outputs": [
        {
          "output_type": "stream",
          "text": [
            "Model: \"model_1\"\n",
            "_________________________________________________________________\n",
            "Layer (type)                 Output Shape              Param #   \n",
            "=================================================================\n",
            "input_1 (InputLayer)         (None, 1)                 0         \n",
            "_________________________________________________________________\n",
            "dense_1 (Dense)              (None, 8)                 16        \n",
            "_________________________________________________________________\n",
            "dense_2 (Dense)              (None, 1)                 9         \n",
            "=================================================================\n",
            "Total params: 25\n",
            "Trainable params: 25\n",
            "Non-trainable params: 0\n",
            "_________________________________________________________________\n"
          ],
          "name": "stdout"
        }
      ]
    },
    {
      "cell_type": "code",
      "metadata": {
        "id": "pb3484ueKFoR",
        "colab_type": "code",
        "outputId": "9658065c-95e4-4955-826c-2451ada8d84f",
        "colab": {
          "base_uri": "https://localhost:8080/",
          "height": 1000
        }
      },
      "source": [
        "my_epochs = 50\n",
        "\n",
        "my_batch_size = 10\n",
        "history = model.fit(x_train, y_train, batch_size=my_batch_size, epochs=my_epochs, validation_split=0.2)\n",
        "y_test_pred = model.predict(x_test).flatten()\n",
        "\n",
        "# Look at the results\n",
        "restore_PM25 = lambda m: (m * x_stds[0]) + x_means[0]\n",
        "\n",
        "for i in range(10):\n",
        "    label = restore_PM25(y_test[i])\n",
        "    prediction = restore_PM25(y_test_pred[i])\n",
        "    print(\"PM 2.5 expected: {:.3f}, predicted: {:.3f}\".format(label, prediction))\n",
        "\n"
      ],
      "execution_count": 83,
      "outputs": [
        {
          "output_type": "stream",
          "text": [
            "14515/14515 [==============================] - 1s 102us/step - loss: 0.0502 - val_loss: 0.0435\n",
            "Epoch 12/50\n",
            "14515/14515 [==============================] - 2s 105us/step - loss: 0.0503 - val_loss: 0.0450\n",
            "Epoch 13/50\n",
            "14515/14515 [==============================] - 1s 103us/step - loss: 0.0503 - val_loss: 0.0435\n",
            "Epoch 14/50\n",
            "14515/14515 [==============================] - 2s 105us/step - loss: 0.0503 - val_loss: 0.0450\n",
            "Epoch 15/50\n",
            "14515/14515 [==============================] - 1s 101us/step - loss: 0.0503 - val_loss: 0.0440\n",
            "Epoch 16/50\n",
            "14515/14515 [==============================] - 1s 100us/step - loss: 0.0503 - val_loss: 0.0436\n",
            "Epoch 17/50\n",
            "14515/14515 [==============================] - 1s 101us/step - loss: 0.0503 - val_loss: 0.0438\n",
            "Epoch 18/50\n",
            "14515/14515 [==============================] - 1s 101us/step - loss: 0.0503 - val_loss: 0.0439\n",
            "Epoch 19/50\n",
            "14515/14515 [==============================] - 1s 103us/step - loss: 0.0502 - val_loss: 0.0447\n",
            "Epoch 20/50\n",
            "14515/14515 [==============================] - 1s 101us/step - loss: 0.0503 - val_loss: 0.0453\n",
            "Epoch 21/50\n",
            "14515/14515 [==============================] - 2s 104us/step - loss: 0.0503 - val_loss: 0.0440\n",
            "Epoch 22/50\n",
            "14515/14515 [==============================] - 2s 104us/step - loss: 0.0503 - val_loss: 0.0439\n",
            "Epoch 23/50\n",
            "14515/14515 [==============================] - 2s 104us/step - loss: 0.0502 - val_loss: 0.0436\n",
            "Epoch 24/50\n",
            "14515/14515 [==============================] - 2s 104us/step - loss: 0.0503 - val_loss: 0.0449\n",
            "Epoch 25/50\n",
            "14515/14515 [==============================] - 1s 103us/step - loss: 0.0503 - val_loss: 0.0456\n",
            "Epoch 26/50\n",
            "14515/14515 [==============================] - 1s 101us/step - loss: 0.0503 - val_loss: 0.0434\n",
            "Epoch 27/50\n",
            "14515/14515 [==============================] - 1s 100us/step - loss: 0.0502 - val_loss: 0.0435\n",
            "Epoch 28/50\n",
            "14515/14515 [==============================] - 1s 103us/step - loss: 0.0502 - val_loss: 0.0453\n",
            "Epoch 29/50\n",
            "14515/14515 [==============================] - 1s 103us/step - loss: 0.0503 - val_loss: 0.0442\n",
            "Epoch 30/50\n",
            "14515/14515 [==============================] - 2s 104us/step - loss: 0.0503 - val_loss: 0.0462\n",
            "Epoch 31/50\n",
            "14515/14515 [==============================] - 1s 102us/step - loss: 0.0503 - val_loss: 0.0441\n",
            "Epoch 32/50\n",
            "14515/14515 [==============================] - 1s 101us/step - loss: 0.0503 - val_loss: 0.0459\n",
            "Epoch 33/50\n",
            "14515/14515 [==============================] - 1s 103us/step - loss: 0.0502 - val_loss: 0.0433\n",
            "Epoch 34/50\n",
            "14515/14515 [==============================] - 1s 101us/step - loss: 0.0503 - val_loss: 0.0455\n",
            "Epoch 35/50\n",
            "14515/14515 [==============================] - 1s 101us/step - loss: 0.0503 - val_loss: 0.0438\n",
            "Epoch 36/50\n",
            "14515/14515 [==============================] - 2s 104us/step - loss: 0.0502 - val_loss: 0.0461\n",
            "Epoch 37/50\n",
            "14515/14515 [==============================] - 1s 102us/step - loss: 0.0502 - val_loss: 0.0440\n",
            "Epoch 38/50\n",
            "14515/14515 [==============================] - 1s 102us/step - loss: 0.0503 - val_loss: 0.0434\n",
            "Epoch 39/50\n",
            "14515/14515 [==============================] - 1s 101us/step - loss: 0.0503 - val_loss: 0.0456\n",
            "Epoch 40/50\n",
            "14515/14515 [==============================] - 1s 101us/step - loss: 0.0502 - val_loss: 0.0444\n",
            "Epoch 41/50\n",
            "14515/14515 [==============================] - 1s 102us/step - loss: 0.0503 - val_loss: 0.0438\n",
            "Epoch 42/50\n",
            "14515/14515 [==============================] - 2s 104us/step - loss: 0.0503 - val_loss: 0.0438\n",
            "Epoch 43/50\n",
            "14515/14515 [==============================] - 1s 103us/step - loss: 0.0503 - val_loss: 0.0440\n",
            "Epoch 44/50\n",
            "14515/14515 [==============================] - 1s 103us/step - loss: 0.0502 - val_loss: 0.0454\n",
            "Epoch 45/50\n",
            "14515/14515 [==============================] - 1s 102us/step - loss: 0.0503 - val_loss: 0.0449\n",
            "Epoch 46/50\n",
            "14515/14515 [==============================] - 1s 103us/step - loss: 0.0503 - val_loss: 0.0484\n",
            "Epoch 47/50\n",
            "14515/14515 [==============================] - 2s 104us/step - loss: 0.0502 - val_loss: 0.0443\n",
            "Epoch 48/50\n",
            "14515/14515 [==============================] - 1s 103us/step - loss: 0.0501 - val_loss: 0.0454\n",
            "Epoch 49/50\n",
            "14515/14515 [==============================] - 2s 104us/step - loss: 0.0502 - val_loss: 0.0445\n",
            "Epoch 50/50\n",
            "14515/14515 [==============================] - 1s 102us/step - loss: 0.0503 - val_loss: 0.0478\n",
            "PM 2.5 expected: 15.380, predicted: 17.758\n",
            "PM 2.5 expected: 14.800, predicted: 12.253\n",
            "PM 2.5 expected: 15.090, predicted: 12.253\n",
            "PM 2.5 expected: 15.090, predicted: 17.758\n",
            "PM 2.5 expected: 15.090, predicted: 12.253\n",
            "PM 2.5 expected: 14.800, predicted: 12.253\n",
            "PM 2.5 expected: 15.380, predicted: 17.758\n",
            "PM 2.5 expected: 15.090, predicted: 12.253\n",
            "PM 2.5 expected: 14.800, predicted: 12.253\n",
            "PM 2.5 expected: 14.800, predicted: 12.253\n",
            "Train on 14515 samples, validate on 3629 samples\n",
            "Epoch 1/50\n",
            "14515/14515 [==============================] - 2s 105us/step - loss: 0.1104 - val_loss: 0.0489\n",
            "Epoch 2/50\n",
            "14515/14515 [==============================] - 1s 101us/step - loss: 0.0507 - val_loss: 0.0471\n",
            "Epoch 3/50\n",
            "14515/14515 [==============================] - 1s 100us/step - loss: 0.0505 - val_loss: 0.0438\n",
            "Epoch 4/50\n",
            "14515/14515 [==============================] - 1s 101us/step - loss: 0.0505 - val_loss: 0.0451\n",
            "Epoch 5/50\n",
            "14515/14515 [==============================] - 1s 101us/step - loss: 0.0505 - val_loss: 0.0444\n",
            "Epoch 6/50\n",
            "14515/14515 [==============================] - 1s 101us/step - loss: 0.0505 - val_loss: 0.0443\n",
            "Epoch 7/50\n",
            "14515/14515 [==============================] - 2s 104us/step - loss: 0.0504 - val_loss: 0.0437\n",
            "Epoch 8/50\n",
            "14515/14515 [==============================] - 1s 101us/step - loss: 0.0504 - val_loss: 0.0443\n",
            "Epoch 9/50\n",
            "14515/14515 [==============================] - 1s 103us/step - loss: 0.0503 - val_loss: 0.0432\n",
            "Epoch 10/50\n",
            "14515/14515 [==============================] - 1s 101us/step - loss: 0.0504 - val_loss: 0.0458\n",
            "Epoch 11/50\n",
            "14515/14515 [==============================] - 2s 106us/step - loss: 0.0505 - val_loss: 0.0428\n",
            "Epoch 12/50\n",
            "14515/14515 [==============================] - 2s 105us/step - loss: 0.0504 - val_loss: 0.0463\n",
            "Epoch 13/50\n",
            "14515/14515 [==============================] - 2s 104us/step - loss: 0.0504 - val_loss: 0.0438\n",
            "Epoch 14/50\n",
            "14515/14515 [==============================] - 1s 101us/step - loss: 0.0503 - val_loss: 0.0464\n",
            "Epoch 15/50\n",
            "14515/14515 [==============================] - 1s 101us/step - loss: 0.0504 - val_loss: 0.0441\n",
            "Epoch 16/50\n",
            "14515/14515 [==============================] - 1s 103us/step - loss: 0.0504 - val_loss: 0.0445\n",
            "Epoch 17/50\n",
            "14515/14515 [==============================] - 1s 102us/step - loss: 0.0503 - val_loss: 0.0444\n",
            "Epoch 18/50\n",
            "14515/14515 [==============================] - 1s 102us/step - loss: 0.0503 - val_loss: 0.0431\n",
            "Epoch 19/50\n",
            "14515/14515 [==============================] - 1s 102us/step - loss: 0.0504 - val_loss: 0.0470\n",
            "Epoch 20/50\n",
            "14515/14515 [==============================] - 1s 101us/step - loss: 0.0503 - val_loss: 0.0465\n",
            "Epoch 21/50\n",
            "14515/14515 [==============================] - 1s 101us/step - loss: 0.0504 - val_loss: 0.0436\n",
            "Epoch 22/50\n",
            "14515/14515 [==============================] - 1s 101us/step - loss: 0.0502 - val_loss: 0.0448\n",
            "Epoch 23/50\n",
            "14515/14515 [==============================] - 1s 101us/step - loss: 0.0503 - val_loss: 0.0446\n",
            "Epoch 24/50\n",
            "14515/14515 [==============================] - 1s 103us/step - loss: 0.0504 - val_loss: 0.0452\n",
            "Epoch 25/50\n",
            "14515/14515 [==============================] - 1s 102us/step - loss: 0.0504 - val_loss: 0.0460\n",
            "Epoch 26/50\n",
            "14515/14515 [==============================] - 1s 103us/step - loss: 0.0504 - val_loss: 0.0450\n",
            "Epoch 27/50\n",
            "14515/14515 [==============================] - 1s 101us/step - loss: 0.0503 - val_loss: 0.0443\n",
            "Epoch 28/50\n",
            "14515/14515 [==============================] - 1s 101us/step - loss: 0.0503 - val_loss: 0.0432\n",
            "Epoch 29/50\n",
            "14515/14515 [==============================] - 1s 101us/step - loss: 0.0503 - val_loss: 0.0450\n",
            "Epoch 30/50\n",
            "14515/14515 [==============================] - 1s 101us/step - loss: 0.0504 - val_loss: 0.0448\n",
            "Epoch 31/50\n",
            "14515/14515 [==============================] - 2s 105us/step - loss: 0.0504 - val_loss: 0.0444\n",
            "Epoch 32/50\n",
            "14515/14515 [==============================] - 2s 104us/step - loss: 0.0503 - val_loss: 0.0433\n",
            "Epoch 33/50\n",
            "14515/14515 [==============================] - 1s 103us/step - loss: 0.0504 - val_loss: 0.0443\n",
            "Epoch 34/50\n",
            "14515/14515 [==============================] - 1s 103us/step - loss: 0.0503 - val_loss: 0.0438\n",
            "Epoch 35/50\n",
            "14515/14515 [==============================] - 1s 103us/step - loss: 0.0503 - val_loss: 0.0446\n",
            "Epoch 36/50\n",
            "14515/14515 [==============================] - 2s 105us/step - loss: 0.0503 - val_loss: 0.0430\n",
            "Epoch 37/50\n",
            "14515/14515 [==============================] - 1s 102us/step - loss: 0.0503 - val_loss: 0.0454\n",
            "Epoch 38/50\n",
            "14515/14515 [==============================] - 1s 102us/step - loss: 0.0502 - val_loss: 0.0459\n",
            "Epoch 39/50\n",
            "14515/14515 [==============================] - 2s 104us/step - loss: 0.0503 - val_loss: 0.0440\n",
            "Epoch 40/50\n",
            "14515/14515 [==============================] - 1s 102us/step - loss: 0.0504 - val_loss: 0.0442\n",
            "Epoch 41/50\n",
            "14515/14515 [==============================] - 1s 103us/step - loss: 0.0503 - val_loss: 0.0430\n",
            "Epoch 42/50\n",
            "14515/14515 [==============================] - 1s 101us/step - loss: 0.0503 - val_loss: 0.0462\n",
            "Epoch 43/50\n",
            "14515/14515 [==============================] - 2s 103us/step - loss: 0.0503 - val_loss: 0.0480\n",
            "Epoch 44/50\n",
            "14515/14515 [==============================] - 1s 103us/step - loss: 0.0503 - val_loss: 0.0444\n",
            "Epoch 45/50\n",
            "14515/14515 [==============================] - 1s 103us/step - loss: 0.0503 - val_loss: 0.0439\n",
            "Epoch 46/50\n",
            "14515/14515 [==============================] - 1s 103us/step - loss: 0.0502 - val_loss: 0.0444\n",
            "Epoch 47/50\n",
            "14515/14515 [==============================] - 1s 103us/step - loss: 0.0503 - val_loss: 0.0448\n",
            "Epoch 48/50\n",
            "14515/14515 [==============================] - 2s 107us/step - loss: 0.0503 - val_loss: 0.0463\n",
            "Epoch 49/50\n",
            "14515/14515 [==============================] - 1s 102us/step - loss: 0.0503 - val_loss: 0.0444\n",
            "Epoch 50/50\n",
            "14515/14515 [==============================] - 1s 103us/step - loss: 0.0502 - val_loss: 0.0453\n",
            "PM 2.5 expected: 15.380, predicted: 17.777\n",
            "PM 2.5 expected: 14.800, predicted: 12.254\n",
            "PM 2.5 expected: 15.090, predicted: 12.254\n",
            "PM 2.5 expected: 15.090, predicted: 17.777\n",
            "PM 2.5 expected: 15.090, predicted: 12.254\n",
            "PM 2.5 expected: 14.800, predicted: 12.254\n",
            "PM 2.5 expected: 15.380, predicted: 17.777\n",
            "PM 2.5 expected: 15.090, predicted: 12.254\n",
            "PM 2.5 expected: 14.800, predicted: 12.254\n",
            "PM 2.5 expected: 14.800, predicted: 12.254\n"
          ],
          "name": "stdout"
        }
      ]
    },
    {
      "cell_type": "code",
      "metadata": {
        "id": "2PmXG14LRZQ5",
        "colab_type": "code",
        "outputId": "b50cf96a-59bc-46e4-d398-8688936bb20b",
        "colab": {
          "base_uri": "https://localhost:8080/",
          "height": 555
        }
      },
      "source": [
        "plt.figure(figsize=(12, 6), dpi=100)\n",
        "plt.title(\"Entire PM 2.5 test set values against predictions\")\n",
        "plt.plot(np.arange(y_test.shape[0]), restore_PM25(y_test), color='b', label='PM2.5 actual')\n",
        "#plt.plot(np.arange(x_test.shape[0]), restore_PM25(x_test), color='g', label='PM10.0 actual')\n",
        "#plt.plot(np.arange(x_test.shape[0]), x_test, color='g', label='Humity actual')\n",
        "plt.plot(np.arange(y_test_pred.shape[0]), restore_PM25(y_test_pred), color='r', alpha=0.5, label='predicted')\n",
        "plt.xlabel(\"time\")\n",
        "plt.ylabel(\"PM concentrations (microg/m^3)\")\n",
        "plt.legend(loc='best')\n",
        "plt.show()\n",
        "\n",
        "\n",
        "K.clear_session()"
      ],
      "execution_count": 88,
      "outputs": [
        {
          "output_type": "display_data",
          "data": {
            "image/png": "[encoded data removed]",
            "text/plain": [
              "<Figure size 1200x600 with 1 Axes>"
            ]
          },
          "metadata": {
            "tags": [],
            "needs_background": "light"
          }
        }
      ]
    },
    {
      "cell_type": "code",
      "metadata": {
        "id": "fTN-wXttWDEd",
        "colab_type": "code",
        "outputId": "f045edb2-51d1-4552-f755-4f7ebabf3916",
        "colab": {
          "base_uri": "https://localhost:8080/",
          "height": 555
        }
      },
      "source": [
        "plt.figure(figsize=(12, 6), dpi=100)\n",
        "plt.title(\"Entire PM2.5 test set values against predictions\")\n",
        "plt.plot(np.arange(x_test.shape[0]), restore_benzine(x_test), color='b', label='PM2.5 actual')\n",
        "plt.xlabel(\"time\")\n",
        "plt.ylabel(\"PM2.5 concentrations (microg/m^3)\")\n",
        "plt.legend(loc='best')\n",
        "plt.show()"
      ],
      "execution_count": 90,
      "outputs": [
        {
          "output_type": "display_data",
          "data": {
            "image/png": "[encoded data removed]",
            "text/plain": [
              "<Figure size 1200x600 with 1 Axes>"
            ]
          },
          "metadata": {
            "tags": [],
            "needs_background": "light"
          }
        }
      ]
    }
  ]
}