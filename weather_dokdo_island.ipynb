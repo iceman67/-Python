{
  "nbformat": 4,
  "nbformat_minor": 5,
  "metadata": {
    "kernelspec": {
      "display_name": "Python 3 (ipykernel)",
      "language": "python",
      "name": "python3"
    },
    "language_info": {
      "codemirror_mode": {
        "name": "ipython",
        "version": 3
      },
      "file_extension": ".py",
      "mimetype": "text/x-python",
      "name": "python",
      "nbconvert_exporter": "python",
      "pygments_lexer": "ipython3",
      "version": "3.8.10"
    },
    "colab": {
      "name": "weather_dokdo_island.ipynb",
      "provenance": [],
      "include_colab_link": true
    }
  },
  "cells": [
    {
      "cell_type": "markdown",
      "metadata": {
        "id": "view-in-github",
        "colab_type": "text"
      },
      "source": [
        "<a href=\"https://colab.research.google.com/github/iceman67/-Python/blob/master/weather_dokdo_island.ipynb\" target=\"_parent\"><img src=\"https://colab.research.google.com/assets/colab-badge.svg\" alt=\"Open In Colab\"/></a>"
      ]
    },
    {
      "cell_type": "markdown",
      "metadata": {
        "id": "0881ef9f-f56b-4c8b-9dc9-97941b75115a"
      },
      "source": [
        " ### 자료그룹핑 groupby()\n",
        " > 월별 풍속구성하기"
      ],
      "id": "0881ef9f-f56b-4c8b-9dc9-97941b75115a"
    },
    {
      "cell_type": "code",
      "metadata": {
        "id": "07524ec2-ed3d-4b9a-8bd8-6c67a12295ae"
      },
      "source": [
        "import pandas as pd\n",
        "import matplotlib.pyplot as plt"
      ],
      "id": "07524ec2-ed3d-4b9a-8bd8-6c67a12295ae",
      "execution_count": null,
      "outputs": []
    },
    {
      "cell_type": "markdown",
      "metadata": {
        "id": "ea7e0d29-5988-467b-9a96-ffded9d9fed1"
      },
      "source": [
        "import datetime as dt"
      ],
      "id": "ea7e0d29-5988-467b-9a96-ffded9d9fed1"
    },
    {
      "cell_type": "code",
      "metadata": {
        "id": "df6d0275-511e-47ae-b23b-e49bf885a5e1"
      },
      "source": [
        "weather = pd.read_csv('kweather.csv', encoding='CP949')"
      ],
      "id": "df6d0275-511e-47ae-b23b-e49bf885a5e1",
      "execution_count": null,
      "outputs": []
    },
    {
      "cell_type": "code",
      "metadata": {
        "colab": {
          "base_uri": "https://localhost:8080/"
        },
        "id": "W6KUAc1STA2b",
        "outputId": "bff853e9-70f9-4608-c77c-8f425cac6df1"
      },
      "source": [
        "type(weather)"
      ],
      "id": "W6KUAc1STA2b",
      "execution_count": null,
      "outputs": [
        {
          "output_type": "execute_result",
          "data": {
            "text/plain": [
              "pandas.core.frame.DataFrame"
            ]
          },
          "metadata": {},
          "execution_count": 6
        }
      ]
    },
    {
      "cell_type": "code",
      "metadata": {
        "id": "48aa32f3-054b-4a78-8763-ee5f18288824",
        "colab": {
          "base_uri": "https://localhost:8080/",
          "height": 206
        },
        "outputId": "a4e92224-34e1-4f7d-fb9b-2b90a6e5628a"
      },
      "source": [
        "weather.head()"
      ],
      "id": "48aa32f3-054b-4a78-8763-ee5f18288824",
      "execution_count": null,
      "outputs": [
        {
          "output_type": "execute_result",
          "data": {
            "text/html": [
              "<div>\n",
              "<style scoped>\n",
              "    .dataframe tbody tr th:only-of-type {\n",
              "        vertical-align: middle;\n",
              "    }\n",
              "\n",
              "    .dataframe tbody tr th {\n",
              "        vertical-align: top;\n",
              "    }\n",
              "\n",
              "    .dataframe thead th {\n",
              "        text-align: right;\n",
              "    }\n",
              "</style>\n",
              "<table border=\"1\" class=\"dataframe\">\n",
              "  <thead>\n",
              "    <tr style=\"text-align: right;\">\n",
              "      <th></th>\n",
              "      <th>일시</th>\n",
              "      <th>평균기온(°C)</th>\n",
              "      <th>최대 풍속(m/s)</th>\n",
              "      <th>평균 풍속(m/s)</th>\n",
              "    </tr>\n",
              "  </thead>\n",
              "  <tbody>\n",
              "    <tr>\n",
              "      <th>0</th>\n",
              "      <td>2010-08-01</td>\n",
              "      <td>28.7</td>\n",
              "      <td>8.3</td>\n",
              "      <td>3.4</td>\n",
              "    </tr>\n",
              "    <tr>\n",
              "      <th>1</th>\n",
              "      <td>2010-08-02</td>\n",
              "      <td>25.2</td>\n",
              "      <td>8.7</td>\n",
              "      <td>3.8</td>\n",
              "    </tr>\n",
              "    <tr>\n",
              "      <th>2</th>\n",
              "      <td>2010-08-03</td>\n",
              "      <td>22.1</td>\n",
              "      <td>6.3</td>\n",
              "      <td>2.9</td>\n",
              "    </tr>\n",
              "    <tr>\n",
              "      <th>3</th>\n",
              "      <td>2010-08-04</td>\n",
              "      <td>25.3</td>\n",
              "      <td>6.6</td>\n",
              "      <td>4.2</td>\n",
              "    </tr>\n",
              "    <tr>\n",
              "      <th>4</th>\n",
              "      <td>2010-08-05</td>\n",
              "      <td>27.2</td>\n",
              "      <td>9.1</td>\n",
              "      <td>5.6</td>\n",
              "    </tr>\n",
              "  </tbody>\n",
              "</table>\n",
              "</div>"
            ],
            "text/plain": [
              "           일시  평균기온(°C)  최대 풍속(m/s)  평균 풍속(m/s)\n",
              "0  2010-08-01      28.7         8.3         3.4\n",
              "1  2010-08-02      25.2         8.7         3.8\n",
              "2  2010-08-03      22.1         6.3         2.9\n",
              "3  2010-08-04      25.3         6.6         4.2\n",
              "4  2010-08-05      27.2         9.1         5.6"
            ]
          },
          "metadata": {},
          "execution_count": 4
        }
      ]
    },
    {
      "cell_type": "code",
      "metadata": {
        "colab": {
          "base_uri": "https://localhost:8080/",
          "height": 206
        },
        "id": "70XtNSYaS4pK",
        "outputId": "8bb1af15-c1a8-452b-86ca-ac5358b1c91e"
      },
      "source": [
        "weather.tail()"
      ],
      "id": "70XtNSYaS4pK",
      "execution_count": null,
      "outputs": [
        {
          "output_type": "execute_result",
          "data": {
            "text/html": [
              "<div>\n",
              "<style scoped>\n",
              "    .dataframe tbody tr th:only-of-type {\n",
              "        vertical-align: middle;\n",
              "    }\n",
              "\n",
              "    .dataframe tbody tr th {\n",
              "        vertical-align: top;\n",
              "    }\n",
              "\n",
              "    .dataframe thead th {\n",
              "        text-align: right;\n",
              "    }\n",
              "</style>\n",
              "<table border=\"1\" class=\"dataframe\">\n",
              "  <thead>\n",
              "    <tr style=\"text-align: right;\">\n",
              "      <th></th>\n",
              "      <th>일시</th>\n",
              "      <th>평균기온(°C)</th>\n",
              "      <th>최대 풍속(m/s)</th>\n",
              "      <th>평균 풍속(m/s)</th>\n",
              "    </tr>\n",
              "  </thead>\n",
              "  <tbody>\n",
              "    <tr>\n",
              "      <th>3648</th>\n",
              "      <td>2020-07-27</td>\n",
              "      <td>22.1</td>\n",
              "      <td>4.2</td>\n",
              "      <td>1.7</td>\n",
              "    </tr>\n",
              "    <tr>\n",
              "      <th>3649</th>\n",
              "      <td>2020-07-28</td>\n",
              "      <td>21.9</td>\n",
              "      <td>4.5</td>\n",
              "      <td>1.6</td>\n",
              "    </tr>\n",
              "    <tr>\n",
              "      <th>3650</th>\n",
              "      <td>2020-07-29</td>\n",
              "      <td>21.6</td>\n",
              "      <td>3.2</td>\n",
              "      <td>1.0</td>\n",
              "    </tr>\n",
              "    <tr>\n",
              "      <th>3651</th>\n",
              "      <td>2020-07-30</td>\n",
              "      <td>22.9</td>\n",
              "      <td>9.7</td>\n",
              "      <td>2.4</td>\n",
              "    </tr>\n",
              "    <tr>\n",
              "      <th>3652</th>\n",
              "      <td>2020-07-31</td>\n",
              "      <td>25.7</td>\n",
              "      <td>4.8</td>\n",
              "      <td>2.5</td>\n",
              "    </tr>\n",
              "  </tbody>\n",
              "</table>\n",
              "</div>"
            ],
            "text/plain": [
              "              일시  평균기온(°C)  최대 풍속(m/s)  평균 풍속(m/s)\n",
              "3648  2020-07-27      22.1         4.2         1.7\n",
              "3649  2020-07-28      21.9         4.5         1.6\n",
              "3650  2020-07-29      21.6         3.2         1.0\n",
              "3651  2020-07-30      22.9         9.7         2.4\n",
              "3652  2020-07-31      25.7         4.8         2.5"
            ]
          },
          "metadata": {},
          "execution_count": 7
        }
      ]
    },
    {
      "cell_type": "code",
      "metadata": {
        "colab": {
          "base_uri": "https://localhost:8080/",
          "height": 300
        },
        "id": "cB0baTivTHaB",
        "outputId": "f66d7f90-107a-423d-e1b6-a8fc515900f2"
      },
      "source": [
        "weather.describe()"
      ],
      "id": "cB0baTivTHaB",
      "execution_count": null,
      "outputs": [
        {
          "output_type": "execute_result",
          "data": {
            "text/html": [
              "<div>\n",
              "<style scoped>\n",
              "    .dataframe tbody tr th:only-of-type {\n",
              "        vertical-align: middle;\n",
              "    }\n",
              "\n",
              "    .dataframe tbody tr th {\n",
              "        vertical-align: top;\n",
              "    }\n",
              "\n",
              "    .dataframe thead th {\n",
              "        text-align: right;\n",
              "    }\n",
              "</style>\n",
              "<table border=\"1\" class=\"dataframe\">\n",
              "  <thead>\n",
              "    <tr style=\"text-align: right;\">\n",
              "      <th></th>\n",
              "      <th>평균기온(°C)</th>\n",
              "      <th>최대 풍속(m/s)</th>\n",
              "      <th>평균 풍속(m/s)</th>\n",
              "    </tr>\n",
              "  </thead>\n",
              "  <tbody>\n",
              "    <tr>\n",
              "      <th>count</th>\n",
              "      <td>3653.000000</td>\n",
              "      <td>3649.000000</td>\n",
              "      <td>3647.000000</td>\n",
              "    </tr>\n",
              "    <tr>\n",
              "      <th>mean</th>\n",
              "      <td>12.942102</td>\n",
              "      <td>7.911099</td>\n",
              "      <td>3.936441</td>\n",
              "    </tr>\n",
              "    <tr>\n",
              "      <th>std</th>\n",
              "      <td>8.538507</td>\n",
              "      <td>3.029862</td>\n",
              "      <td>1.888473</td>\n",
              "    </tr>\n",
              "    <tr>\n",
              "      <th>min</th>\n",
              "      <td>-9.000000</td>\n",
              "      <td>2.000000</td>\n",
              "      <td>0.200000</td>\n",
              "    </tr>\n",
              "    <tr>\n",
              "      <th>25%</th>\n",
              "      <td>5.400000</td>\n",
              "      <td>5.700000</td>\n",
              "      <td>2.500000</td>\n",
              "    </tr>\n",
              "    <tr>\n",
              "      <th>50%</th>\n",
              "      <td>13.800000</td>\n",
              "      <td>7.600000</td>\n",
              "      <td>3.600000</td>\n",
              "    </tr>\n",
              "    <tr>\n",
              "      <th>75%</th>\n",
              "      <td>20.100000</td>\n",
              "      <td>9.700000</td>\n",
              "      <td>5.000000</td>\n",
              "    </tr>\n",
              "    <tr>\n",
              "      <th>max</th>\n",
              "      <td>31.300000</td>\n",
              "      <td>26.000000</td>\n",
              "      <td>14.900000</td>\n",
              "    </tr>\n",
              "  </tbody>\n",
              "</table>\n",
              "</div>"
            ],
            "text/plain": [
              "          평균기온(°C)   최대 풍속(m/s)   평균 풍속(m/s)\n",
              "count  3653.000000  3649.000000  3647.000000\n",
              "mean     12.942102     7.911099     3.936441\n",
              "std       8.538507     3.029862     1.888473\n",
              "min      -9.000000     2.000000     0.200000\n",
              "25%       5.400000     5.700000     2.500000\n",
              "50%      13.800000     7.600000     3.600000\n",
              "75%      20.100000     9.700000     5.000000\n",
              "max      31.300000    26.000000    14.900000"
            ]
          },
          "metadata": {},
          "execution_count": 8
        }
      ]
    },
    {
      "cell_type": "markdown",
      "metadata": {
        "id": "f5023e13-6d33-42b4-a786-5e05c345108d"
      },
      "source": [
        "자료에서 월정보만을 얻어오기 위해 $DatetimeIndex()$ 를 사용"
      ],
      "id": "f5023e13-6d33-42b4-a786-5e05c345108d"
    },
    {
      "cell_type": "code",
      "metadata": {
        "colab": {
          "base_uri": "https://localhost:8080/"
        },
        "id": "lzCBbPqeTN3g",
        "outputId": "64513069-48c0-42b6-c8b2-7a6cfdec4af7"
      },
      "source": [
        "weather.info()"
      ],
      "id": "lzCBbPqeTN3g",
      "execution_count": null,
      "outputs": [
        {
          "output_type": "stream",
          "name": "stdout",
          "text": [
            "<class 'pandas.core.frame.DataFrame'>\n",
            "RangeIndex: 3653 entries, 0 to 3652\n",
            "Data columns (total 4 columns):\n",
            " #   Column      Non-Null Count  Dtype  \n",
            "---  ------      --------------  -----  \n",
            " 0   일시          3653 non-null   object \n",
            " 1   평균기온(°C)    3653 non-null   float64\n",
            " 2   최대 풍속(m/s)  3649 non-null   float64\n",
            " 3   평균 풍속(m/s)  3647 non-null   float64\n",
            "dtypes: float64(3), object(1)\n",
            "memory usage: 114.3+ KB\n"
          ]
        }
      ]
    },
    {
      "cell_type": "code",
      "metadata": {
        "id": "66364775-6781-495b-bddc-e22ae1248e9e"
      },
      "source": [
        "weather['month'] = pd.DatetimeIndex(weather['일시']).month"
      ],
      "id": "66364775-6781-495b-bddc-e22ae1248e9e",
      "execution_count": null,
      "outputs": []
    },
    {
      "cell_type": "code",
      "metadata": {
        "id": "IpPb_yvHbcN3"
      },
      "source": [
        "weather['year'] = pd.DatetimeIndex(weather['일시']).year"
      ],
      "id": "IpPb_yvHbcN3",
      "execution_count": null,
      "outputs": []
    },
    {
      "cell_type": "code",
      "metadata": {
        "colab": {
          "base_uri": "https://localhost:8080/",
          "height": 206
        },
        "id": "HNoIGPpwTwFL",
        "outputId": "29605774-ba09-4293-a055-a5be068d1339"
      },
      "source": [
        "weather.head()"
      ],
      "id": "HNoIGPpwTwFL",
      "execution_count": null,
      "outputs": [
        {
          "output_type": "execute_result",
          "data": {
            "text/html": [
              "<div>\n",
              "<style scoped>\n",
              "    .dataframe tbody tr th:only-of-type {\n",
              "        vertical-align: middle;\n",
              "    }\n",
              "\n",
              "    .dataframe tbody tr th {\n",
              "        vertical-align: top;\n",
              "    }\n",
              "\n",
              "    .dataframe thead th {\n",
              "        text-align: right;\n",
              "    }\n",
              "</style>\n",
              "<table border=\"1\" class=\"dataframe\">\n",
              "  <thead>\n",
              "    <tr style=\"text-align: right;\">\n",
              "      <th></th>\n",
              "      <th>일시</th>\n",
              "      <th>평균기온</th>\n",
              "      <th>최대 풍속(m/s)</th>\n",
              "      <th>평균풍속</th>\n",
              "      <th>month</th>\n",
              "      <th>year</th>\n",
              "    </tr>\n",
              "  </thead>\n",
              "  <tbody>\n",
              "    <tr>\n",
              "      <th>0</th>\n",
              "      <td>2010-08-01</td>\n",
              "      <td>28.7</td>\n",
              "      <td>8.3</td>\n",
              "      <td>3.4</td>\n",
              "      <td>8</td>\n",
              "      <td>2010</td>\n",
              "    </tr>\n",
              "    <tr>\n",
              "      <th>1</th>\n",
              "      <td>2010-08-02</td>\n",
              "      <td>25.2</td>\n",
              "      <td>8.7</td>\n",
              "      <td>3.8</td>\n",
              "      <td>8</td>\n",
              "      <td>2010</td>\n",
              "    </tr>\n",
              "    <tr>\n",
              "      <th>2</th>\n",
              "      <td>2010-08-03</td>\n",
              "      <td>22.1</td>\n",
              "      <td>6.3</td>\n",
              "      <td>2.9</td>\n",
              "      <td>8</td>\n",
              "      <td>2010</td>\n",
              "    </tr>\n",
              "    <tr>\n",
              "      <th>3</th>\n",
              "      <td>2010-08-04</td>\n",
              "      <td>25.3</td>\n",
              "      <td>6.6</td>\n",
              "      <td>4.2</td>\n",
              "      <td>8</td>\n",
              "      <td>2010</td>\n",
              "    </tr>\n",
              "    <tr>\n",
              "      <th>4</th>\n",
              "      <td>2010-08-05</td>\n",
              "      <td>27.2</td>\n",
              "      <td>9.1</td>\n",
              "      <td>5.6</td>\n",
              "      <td>8</td>\n",
              "      <td>2010</td>\n",
              "    </tr>\n",
              "  </tbody>\n",
              "</table>\n",
              "</div>"
            ],
            "text/plain": [
              "           일시  평균기온  최대 풍속(m/s)  평균풍속  month  year\n",
              "0  2010-08-01  28.7         8.3   3.4      8  2010\n",
              "1  2010-08-02  25.2         8.7   3.8      8  2010\n",
              "2  2010-08-03  22.1         6.3   2.9      8  2010\n",
              "3  2010-08-04  25.3         6.6   4.2      8  2010\n",
              "4  2010-08-05  27.2         9.1   5.6      8  2010"
            ]
          },
          "metadata": {},
          "execution_count": 21
        }
      ]
    },
    {
      "cell_type": "code",
      "metadata": {
        "id": "84bcaa67-2772-4262-9ff2-9e30fbb73263"
      },
      "source": [
        "month_group = weather.groupby('month').mean()"
      ],
      "id": "84bcaa67-2772-4262-9ff2-9e30fbb73263",
      "execution_count": null,
      "outputs": []
    },
    {
      "cell_type": "code",
      "metadata": {
        "id": "3e47e853-98db-493f-8f80-28cd2ede5320",
        "colab": {
          "base_uri": "https://localhost:8080/",
          "height": 457
        },
        "outputId": "46a6a601-f3d8-42bf-ac79-c19ec5906187"
      },
      "source": [
        "month_group"
      ],
      "id": "3e47e853-98db-493f-8f80-28cd2ede5320",
      "execution_count": null,
      "outputs": [
        {
          "output_type": "execute_result",
          "data": {
            "text/html": [
              "<div>\n",
              "<style scoped>\n",
              "    .dataframe tbody tr th:only-of-type {\n",
              "        vertical-align: middle;\n",
              "    }\n",
              "\n",
              "    .dataframe tbody tr th {\n",
              "        vertical-align: top;\n",
              "    }\n",
              "\n",
              "    .dataframe thead th {\n",
              "        text-align: right;\n",
              "    }\n",
              "</style>\n",
              "<table border=\"1\" class=\"dataframe\">\n",
              "  <thead>\n",
              "    <tr style=\"text-align: right;\">\n",
              "      <th></th>\n",
              "      <th>평균기온(°C)</th>\n",
              "      <th>최대 풍속(m/s)</th>\n",
              "      <th>평균 풍속(m/s)</th>\n",
              "    </tr>\n",
              "    <tr>\n",
              "      <th>month</th>\n",
              "      <th></th>\n",
              "      <th></th>\n",
              "      <th></th>\n",
              "    </tr>\n",
              "  </thead>\n",
              "  <tbody>\n",
              "    <tr>\n",
              "      <th>1</th>\n",
              "      <td>1.598387</td>\n",
              "      <td>8.158065</td>\n",
              "      <td>3.757419</td>\n",
              "    </tr>\n",
              "    <tr>\n",
              "      <th>2</th>\n",
              "      <td>2.136396</td>\n",
              "      <td>8.225357</td>\n",
              "      <td>3.946786</td>\n",
              "    </tr>\n",
              "    <tr>\n",
              "      <th>3</th>\n",
              "      <td>6.250323</td>\n",
              "      <td>8.871935</td>\n",
              "      <td>4.390291</td>\n",
              "    </tr>\n",
              "    <tr>\n",
              "      <th>4</th>\n",
              "      <td>11.064667</td>\n",
              "      <td>9.305017</td>\n",
              "      <td>4.622483</td>\n",
              "    </tr>\n",
              "    <tr>\n",
              "      <th>5</th>\n",
              "      <td>16.564194</td>\n",
              "      <td>8.548710</td>\n",
              "      <td>4.219355</td>\n",
              "    </tr>\n",
              "    <tr>\n",
              "      <th>6</th>\n",
              "      <td>19.616667</td>\n",
              "      <td>6.945667</td>\n",
              "      <td>3.461000</td>\n",
              "    </tr>\n",
              "    <tr>\n",
              "      <th>7</th>\n",
              "      <td>23.328387</td>\n",
              "      <td>7.322581</td>\n",
              "      <td>3.877419</td>\n",
              "    </tr>\n",
              "    <tr>\n",
              "      <th>8</th>\n",
              "      <td>24.748710</td>\n",
              "      <td>6.853226</td>\n",
              "      <td>3.596129</td>\n",
              "    </tr>\n",
              "    <tr>\n",
              "      <th>9</th>\n",
              "      <td>20.323667</td>\n",
              "      <td>6.896333</td>\n",
              "      <td>3.661667</td>\n",
              "    </tr>\n",
              "    <tr>\n",
              "      <th>10</th>\n",
              "      <td>15.383871</td>\n",
              "      <td>7.766774</td>\n",
              "      <td>3.961613</td>\n",
              "    </tr>\n",
              "    <tr>\n",
              "      <th>11</th>\n",
              "      <td>9.889667</td>\n",
              "      <td>8.013333</td>\n",
              "      <td>3.930667</td>\n",
              "    </tr>\n",
              "    <tr>\n",
              "      <th>12</th>\n",
              "      <td>3.753548</td>\n",
              "      <td>8.045484</td>\n",
              "      <td>3.817097</td>\n",
              "    </tr>\n",
              "  </tbody>\n",
              "</table>\n",
              "</div>"
            ],
            "text/plain": [
              "        평균기온(°C)  최대 풍속(m/s)  평균 풍속(m/s)\n",
              "month                                   \n",
              "1       1.598387    8.158065    3.757419\n",
              "2       2.136396    8.225357    3.946786\n",
              "3       6.250323    8.871935    4.390291\n",
              "4      11.064667    9.305017    4.622483\n",
              "5      16.564194    8.548710    4.219355\n",
              "6      19.616667    6.945667    3.461000\n",
              "7      23.328387    7.322581    3.877419\n",
              "8      24.748710    6.853226    3.596129\n",
              "9      20.323667    6.896333    3.661667\n",
              "10     15.383871    7.766774    3.961613\n",
              "11      9.889667    8.013333    3.930667\n",
              "12      3.753548    8.045484    3.817097"
            ]
          },
          "metadata": {},
          "execution_count": 13
        }
      ]
    },
    {
      "cell_type": "code",
      "metadata": {
        "id": "9eec2cfb-ee82-4c30-ae04-80070df35333",
        "colab": {
          "base_uri": "https://localhost:8080/",
          "height": 299
        },
        "outputId": "9c26faee-eb66-47cb-f3b4-5359d2f7fcd6"
      },
      "source": [
        "# y 값 지정, x 값 index\n",
        "month_group['평균 풍속(m/s)'].plot(kind='bar')"
      ],
      "id": "9eec2cfb-ee82-4c30-ae04-80070df35333",
      "execution_count": null,
      "outputs": [
        {
          "output_type": "execute_result",
          "data": {
            "text/plain": [
              "<matplotlib.axes._subplots.AxesSubplot at 0x7fc901703590>"
            ]
          },
          "metadata": {},
          "execution_count": 16
        },
        {
          "output_type": "display_data",
          "data": {
            "image/png": "[encoded data removed]",
            "text/plain": [
              "<Figure size 432x288 with 1 Axes>"
            ]
          },
          "metadata": {
            "needs_background": "light"
          }
        }
      ]
    },
    {
      "cell_type": "code",
      "metadata": {
        "id": "fd9c1262-b2f8-4f6a-96da-6527250b4ca3"
      },
      "source": [
        "weather.rename({'평균기온(°C)': '평균기온', '평균 풍속(m/s)': '평균풍속'}, axis=1, inplace=True)"
      ],
      "id": "fd9c1262-b2f8-4f6a-96da-6527250b4ca3",
      "execution_count": null,
      "outputs": []
    },
    {
      "cell_type": "code",
      "metadata": {
        "id": "38ac17f5-f2a9-4811-81a6-ed2d0fb145fb"
      },
      "source": [
        "month_group = weather.groupby('month').mean()"
      ],
      "id": "38ac17f5-f2a9-4811-81a6-ed2d0fb145fb",
      "execution_count": null,
      "outputs": []
    },
    {
      "cell_type": "code",
      "metadata": {
        "id": "69088ca3-a3f4-4d2a-8ea3-fa3f207e1069",
        "colab": {
          "base_uri": "https://localhost:8080/",
          "height": 299
        },
        "outputId": "0b042e1e-0dbe-489f-c0d2-8545d55d727a"
      },
      "source": [
        "month_group['평균풍속'].plot(kind='bar')"
      ],
      "id": "69088ca3-a3f4-4d2a-8ea3-fa3f207e1069",
      "execution_count": null,
      "outputs": [
        {
          "output_type": "execute_result",
          "data": {
            "text/plain": [
              "<matplotlib.axes._subplots.AxesSubplot at 0x7fc90161acd0>"
            ]
          },
          "metadata": {},
          "execution_count": 19
        },
        {
          "output_type": "display_data",
          "data": {
            "image/png": "[encoded data removed]",
            "text/plain": [
              "<Figure size 432x288 with 1 Axes>"
            ]
          },
          "metadata": {
            "needs_background": "light"
          }
        }
      ]
    },
    {
      "cell_type": "code",
      "metadata": {
        "id": "62b680d1-ed76-42ca-81e6-e95a3b49ad7a",
        "colab": {
          "base_uri": "https://localhost:8080/",
          "height": 299
        },
        "outputId": "36779215-110c-4425-c80e-02abac4fa32f"
      },
      "source": [
        "# 월별 평균 기온을 bar 차트로 시각화 (연중 영상의 기온을 보인다)\n",
        "month_group['평균기온'].plot(kind='bar')"
      ],
      "id": "62b680d1-ed76-42ca-81e6-e95a3b49ad7a",
      "execution_count": null,
      "outputs": [
        {
          "output_type": "execute_result",
          "data": {
            "text/plain": [
              "<matplotlib.axes._subplots.AxesSubplot at 0x7f8f3bbbac50>"
            ]
          },
          "metadata": {},
          "execution_count": 16
        },
        {
          "output_type": "display_data",
          "data": {
            "image/png": "[encoded data removed]",
            "text/plain": [
              "<Figure size 432x288 with 1 Axes>"
            ]
          },
          "metadata": {
            "needs_background": "light"
          }
        }
      ]
    },
    {
      "cell_type": "code",
      "metadata": {
        "colab": {
          "base_uri": "https://localhost:8080/",
          "height": 299
        },
        "id": "wIyuj7VBVveB",
        "outputId": "cf2814d9-dd2f-4ff2-c296-1c3589145ce6"
      },
      "source": [
        "# 월별 최대풍속을 bar 차트로 시각화\n",
        "month_group['최대 풍속(m/s)'].plot(kind='bar')"
      ],
      "id": "wIyuj7VBVveB",
      "execution_count": null,
      "outputs": [
        {
          "output_type": "execute_result",
          "data": {
            "text/plain": [
              "<matplotlib.axes._subplots.AxesSubplot at 0x7f8f3ba84450>"
            ]
          },
          "metadata": {},
          "execution_count": 18
        },
        {
          "output_type": "display_data",
          "data": {
            "image/png": "[encoded data removed]",
            "text/plain": [
              "<Figure size 432x288 with 1 Axes>"
            ]
          },
          "metadata": {
            "needs_background": "light"
          }
        }
      ]
    }
  ]
}