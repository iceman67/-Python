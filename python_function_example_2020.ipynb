{
  "nbformat": 4,
  "nbformat_minor": 0,
  "metadata": {
    "colab": {
      "name": "python_function_example-2020.ipynb",
      "provenance": [],
      "include_colab_link": true
    },
    "kernelspec": {
      "name": "python3",
      "display_name": "Python 3"
    }
  },
  "cells": [
    {
      "cell_type": "markdown",
      "metadata": {
        "id": "view-in-github",
        "colab_type": "text"
      },
      "source": [
        "<a href=\"https://colab.research.google.com/github/iceman67/-Python/blob/master/python_function_example_2020.ipynb\" target=\"_parent\"><img src=\"https://colab.research.google.com/assets/colab-badge.svg\" alt=\"Open In Colab\"/></a>"
      ]
    },
    {
      "cell_type": "markdown",
      "metadata": {
        "id": "cSgolN5m1mKV"
      },
      "source": [
        "**함수**\n",
        "\n",
        "* 특정작업을 수행하는 코드 묶음\n",
        "* 함수화하여 필요하여 호출함"
      ]
    },
    {
      "cell_type": "code",
      "metadata": {
        "colab": {
          "base_uri": "https://localhost:8080/"
        },
        "id": "eJY3msaODQY3",
        "outputId": "ba99beaa-c799-4d68-f235-b6b03bfbf2b7"
      },
      "source": [
        "def fahrenheit(T_in_celsius): \n",
        "    return(T_in_celsius*9/5)+32\n",
        "\n",
        "for t in range(1, 6): \n",
        "    print(t,\": \",fahrenheit(t))"
      ],
      "execution_count": null,
      "outputs": [
        {
          "output_type": "stream",
          "text": [
            "1 :  33.8\n",
            "2 :  35.6\n",
            "3 :  37.4\n",
            "4 :  39.2\n",
            "5 :  41.0\n"
          ],
          "name": "stdout"
        }
      ]
    },
    {
      "cell_type": "markdown",
      "metadata": {
        "id": "nV6zIEns3JRO"
      },
      "source": [
        "* x와 y는 매개변수임\n"
      ]
    },
    {
      "cell_type": "code",
      "metadata": {
        "colab": {
          "base_uri": "https://localhost:8080/"
        },
        "id": "Miz2OI4O2Tay",
        "outputId": "1564262c-72fb-4169-ec8c-9f492ef53432"
      },
      "source": [
        "def rectangle_area(x, y):\n",
        "  return x * y\n",
        "\n",
        "\n",
        "rectangle_area(10,20)"
      ],
      "execution_count": null,
      "outputs": [
        {
          "output_type": "execute_result",
          "data": {
            "text/plain": [
              "200"
            ]
          },
          "metadata": {
            "tags": []
          },
          "execution_count": 2
        }
      ]
    },
    {
      "cell_type": "code",
      "metadata": {
        "colab": {
          "base_uri": "https://localhost:8080/"
        },
        "id": "pfQGJ9v72mEa",
        "outputId": "dbd68ce9-8cc4-4bb9-f70d-1957afff16a7"
      },
      "source": [
        "rectangle_area = lambda x, y: x * y\n",
        "\n",
        "rectangle_area(10,20)"
      ],
      "execution_count": null,
      "outputs": [
        {
          "output_type": "execute_result",
          "data": {
            "text/plain": [
              "200"
            ]
          },
          "metadata": {
            "tags": []
          },
          "execution_count": 3
        }
      ]
    },
    {
      "cell_type": "markdown",
      "metadata": {
        "id": "KZLgPb5B3vs1"
      },
      "source": [
        "* 함수 호출시 x는 5 y는 5임\n",
        "* 호수 호출후 x 는 3\n",
        "\n",
        "> 함수 호출시 객체의 주소가 전달됨"
      ]
    },
    {
      "cell_type": "code",
      "metadata": {
        "colab": {
          "base_uri": "https://localhost:8080/"
        },
        "id": "kVWfBHfP3T33",
        "outputId": "64b6f244-4585-404b-95a7-b35e9b16629a"
      },
      "source": [
        "def f(x):\n",
        "  y = x\n",
        "  x = 5\n",
        "  return y * y\n",
        "\n",
        "x = 3\n",
        "print (f(x))\n",
        "print (x)"
      ],
      "execution_count": null,
      "outputs": [
        {
          "output_type": "stream",
          "text": [
            "9\n",
            "3\n"
          ],
          "name": "stdout"
        }
      ]
    },
    {
      "cell_type": "markdown",
      "metadata": {
        "id": "6GWS0X-25bG5"
      },
      "source": [
        "* 함수 호출전, ham = [0]\n",
        "* 함수 호출후  ham = [0,1]\n"
      ]
    },
    {
      "cell_type": "code",
      "metadata": {
        "colab": {
          "base_uri": "https://localhost:8080/"
        },
        "id": "c8d9oD0k4srz",
        "outputId": "d0845b34-9cd0-4be9-fc8e-996af6aea4b6"
      },
      "source": [
        "def spam(eggs):\n",
        "  eggs.append(1)\n",
        "  eggs = [2, 3]\n",
        "\n",
        "ham = [0]\n",
        "spam(ham)\n",
        "\n",
        "print (ham)"
      ],
      "execution_count": null,
      "outputs": [
        {
          "output_type": "stream",
          "text": [
            "[0, 1]\n"
          ],
          "name": "stdout"
        }
      ]
    },
    {
      "cell_type": "markdown",
      "metadata": {
        "id": "H2Sxq4Mk6uUd"
      },
      "source": [
        "global 키워드를 사용하여 함수 내에서 전역변수로 선언된 변수를 사용"
      ]
    },
    {
      "cell_type": "code",
      "metadata": {
        "colab": {
          "base_uri": "https://localhost:8080/"
        },
        "id": "7S5jqjBn6QtP",
        "outputId": "57c0bbe9-920a-4d69-f90a-0746d0cc9724"
      },
      "source": [
        "def f():\n",
        "  global s \n",
        "  s = 'I am in function'\n",
        "  print (s)\n",
        "\n",
        "s = 'I am out of function'\n",
        "f()\n",
        "\n",
        "print (s)"
      ],
      "execution_count": null,
      "outputs": [
        {
          "output_type": "stream",
          "text": [
            "I am in function\n",
            "I am in function\n"
          ],
          "name": "stdout"
        }
      ]
    },
    {
      "cell_type": "markdown",
      "metadata": {
        "id": "4WTOtdnq7WpD"
      },
      "source": [
        "**(복습)예외처리**"
      ]
    },
    {
      "cell_type": "code",
      "metadata": {
        "colab": {
          "base_uri": "https://localhost:8080/"
        },
        "id": "L2MxctWJFgS3",
        "outputId": "150c098b-70d5-43d4-9e05-e423fa1dc96f"
      },
      "source": [
        "while True:\n",
        "   try:\n",
        "      n=input(\"정수값을 입력하시오: \")\n",
        "      n=int(n)\n",
        "      break\n",
        "   except ValueError:\n",
        "      print(\"유효한 정수값이 아닙니다! 다시 입력하시요...\")\n",
        "print(\"올바른 정수값 {}을 입력하셨습니다. \".format(n))"
      ],
      "execution_count": null,
      "outputs": [
        {
          "output_type": "stream",
          "text": [
            "정수값을 입력하시오: x\n",
            "유효한 정수값이 아닙니다! 다시 입력하시요...\n",
            "정수값을 입력하시오: 10\n",
            "올바른 정수값 10을 입력하셨습니다. \n"
          ],
          "name": "stdout"
        }
      ]
    },
    {
      "cell_type": "markdown",
      "metadata": {
        "id": "pIyTbyRv7ejJ"
      },
      "source": [
        "**(복습)조건문**"
      ]
    },
    {
      "cell_type": "code",
      "metadata": {
        "colab": {
          "base_uri": "https://localhost:8080/"
        },
        "id": "4BiwJGvWLN8w",
        "outputId": "b0e11ff9-26c5-44c1-9818-048e768d1497"
      },
      "source": [
        "score = 90\n",
        "if score >= 90:\n",
        "  print(\"합격하였습니다\")"
      ],
      "execution_count": null,
      "outputs": [
        {
          "output_type": "stream",
          "text": [
            "합격하였습니다\n"
          ],
          "name": "stdout"
        }
      ]
    },
    {
      "cell_type": "markdown",
      "metadata": {
        "id": "D8YjX7Aa7iia"
      },
      "source": [
        "**(복습) 관계식**"
      ]
    },
    {
      "cell_type": "code",
      "metadata": {
        "id": "8WqW4aqFOVXx"
      },
      "source": [
        "x = 4\n",
        "y = 2"
      ],
      "execution_count": null,
      "outputs": []
    },
    {
      "cell_type": "code",
      "metadata": {
        "colab": {
          "base_uri": "https://localhost:8080/"
        },
        "id": "5ZkmXz_yOX7s",
        "outputId": "e9c513d8-7d13-4a2e-d741-a55fd017d701"
      },
      "source": [
        "x > y"
      ],
      "execution_count": null,
      "outputs": [
        {
          "output_type": "execute_result",
          "data": {
            "text/plain": [
              "True"
            ]
          },
          "metadata": {
            "tags": []
          },
          "execution_count": 14
        }
      ]
    },
    {
      "cell_type": "code",
      "metadata": {
        "colab": {
          "base_uri": "https://localhost:8080/"
        },
        "id": "fLlrKIxBOZqy",
        "outputId": "8a9848e5-bb01-4814-b22f-26d5274e96b4"
      },
      "source": [
        "x >= y"
      ],
      "execution_count": null,
      "outputs": [
        {
          "output_type": "execute_result",
          "data": {
            "text/plain": [
              "True"
            ]
          },
          "metadata": {
            "tags": []
          },
          "execution_count": 15
        }
      ]
    },
    {
      "cell_type": "code",
      "metadata": {
        "colab": {
          "base_uri": "https://localhost:8080/"
        },
        "id": "3uPmTVTcOa6B",
        "outputId": "de2a52e0-1764-4d19-c116-7faa6796f25b"
      },
      "source": [
        "x < y"
      ],
      "execution_count": null,
      "outputs": [
        {
          "output_type": "execute_result",
          "data": {
            "text/plain": [
              "False"
            ]
          },
          "metadata": {
            "tags": []
          },
          "execution_count": 16
        }
      ]
    },
    {
      "cell_type": "code",
      "metadata": {
        "colab": {
          "base_uri": "https://localhost:8080/"
        },
        "id": "2H9fDDf-OdRH",
        "outputId": "46b919d7-daa3-41f2-d87e-c2edf33b6b25"
      },
      "source": [
        "x <= y"
      ],
      "execution_count": null,
      "outputs": [
        {
          "output_type": "execute_result",
          "data": {
            "text/plain": [
              "False"
            ]
          },
          "metadata": {
            "tags": []
          },
          "execution_count": 17
        }
      ]
    },
    {
      "cell_type": "code",
      "metadata": {
        "colab": {
          "base_uri": "https://localhost:8080/"
        },
        "id": "t_FQwOyIOeVV",
        "outputId": "7dd466b6-7ac7-44a8-c45c-e50dc2940f70"
      },
      "source": [
        "x == y"
      ],
      "execution_count": null,
      "outputs": [
        {
          "output_type": "execute_result",
          "data": {
            "text/plain": [
              "False"
            ]
          },
          "metadata": {
            "tags": []
          },
          "execution_count": 18
        }
      ]
    },
    {
      "cell_type": "code",
      "metadata": {
        "colab": {
          "base_uri": "https://localhost:8080/"
        },
        "id": "FghSYcTcOgIK",
        "outputId": "a847046c-622e-40d7-d906-6dfdb86b6694"
      },
      "source": [
        "x != y"
      ],
      "execution_count": null,
      "outputs": [
        {
          "output_type": "execute_result",
          "data": {
            "text/plain": [
              "True"
            ]
          },
          "metadata": {
            "tags": []
          },
          "execution_count": 19
        }
      ]
    },
    {
      "cell_type": "code",
      "metadata": {
        "colab": {
          "base_uri": "https://localhost:8080/"
        },
        "id": "briiTcODOhc-",
        "outputId": "0771720b-19df-45c8-e483-a68acb461c41"
      },
      "source": [
        "x = 10\n",
        "\n",
        "if x % 2 == 0:\n",
        "  print(\"{} 는 짝수이다\".format(x))"
      ],
      "execution_count": null,
      "outputs": [
        {
          "output_type": "stream",
          "text": [
            "10 는 짝수이다\n"
          ],
          "name": "stdout"
        }
      ]
    }
  ]
}