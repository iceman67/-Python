{
  "nbformat": 4,
  "nbformat_minor": 0,
  "metadata": {
    "colab": {
      "name": "PyThon_wk2.ipynb",
      "provenance": [],
      "include_colab_link": true
    },
    "kernelspec": {
      "name": "python3",
      "display_name": "Python 3"
    }
  },
  "cells": [
    {
      "cell_type": "markdown",
      "metadata": {
        "id": "view-in-github",
        "colab_type": "text"
      },
      "source": [
        "<a href=\"https://colab.research.google.com/github/iceman67/-Python/blob/master/PyThon_wk2.ipynb\" target=\"_parent\"><img src=\"https://colab.research.google.com/assets/colab-badge.svg\" alt=\"Open In Colab\"/></a>"
      ]
    },
    {
      "cell_type": "code",
      "metadata": {
        "id": "Lhwc04e0NCZa",
        "colab": {
          "base_uri": "https://localhost:8080/",
          "height": 34
        },
        "outputId": "26ec7338-4eea-41a6-df17-09ff10a3d725"
      },
      "source": [
        "3+5"
      ],
      "execution_count": null,
      "outputs": [
        {
          "output_type": "execute_result",
          "data": {
            "text/plain": [
              "8"
            ]
          },
          "metadata": {
            "tags": []
          },
          "execution_count": 1
        }
      ]
    },
    {
      "cell_type": "code",
      "metadata": {
        "id": "YdsHzyBNNHSs",
        "colab": {
          "base_uri": "https://localhost:8080/",
          "height": 35
        },
        "outputId": "9c7105bd-ebee-4d66-bf5a-636421f4e597"
      },
      "source": [
        "\"hello\""
      ],
      "execution_count": null,
      "outputs": [
        {
          "output_type": "execute_result",
          "data": {
            "application/vnd.google.colaboratory.intrinsic+json": {
              "type": "string"
            },
            "text/plain": [
              "'hello'"
            ]
          },
          "metadata": {
            "tags": []
          },
          "execution_count": 2
        }
      ]
    },
    {
      "cell_type": "code",
      "metadata": {
        "id": "HOjoSEdINI9A",
        "colab": {
          "base_uri": "https://localhost:8080/",
          "height": 34
        },
        "outputId": "31d18dec-1b77-4ce0-c24f-f5284e61a417"
      },
      "source": [
        "5/3"
      ],
      "execution_count": null,
      "outputs": [
        {
          "output_type": "execute_result",
          "data": {
            "text/plain": [
              "1.6666666666666667"
            ]
          },
          "metadata": {
            "tags": []
          },
          "execution_count": 3
        }
      ]
    },
    {
      "cell_type": "code",
      "metadata": {
        "id": "3siw0_d8NPFo",
        "colab": {
          "base_uri": "https://localhost:8080/",
          "height": 34
        },
        "outputId": "900e3a67-4dad-4bf0-da11-46c4772da16d"
      },
      "source": [
        "5//3"
      ],
      "execution_count": null,
      "outputs": [
        {
          "output_type": "execute_result",
          "data": {
            "text/plain": [
              "1"
            ]
          },
          "metadata": {
            "tags": []
          },
          "execution_count": 4
        }
      ]
    },
    {
      "cell_type": "code",
      "metadata": {
        "id": "xAZq2JuPNY_B"
      },
      "source": [
        "num1=3\n",
        "num2=5"
      ],
      "execution_count": null,
      "outputs": []
    },
    {
      "cell_type": "code",
      "metadata": {
        "id": "QQ3k-Kr-NoDT",
        "colab": {
          "base_uri": "https://localhost:8080/",
          "height": 33
        },
        "outputId": "3e09b7a8-d8ea-440b-e9c9-e5904578e21c"
      },
      "source": [
        "num2//num1"
      ],
      "execution_count": null,
      "outputs": [
        {
          "output_type": "execute_result",
          "data": {
            "text/plain": [
              "1"
            ]
          },
          "metadata": {
            "tags": []
          },
          "execution_count": 27
        }
      ]
    },
    {
      "cell_type": "markdown",
      "metadata": {
        "id": "ZJpcEz6-7SGM"
      },
      "source": [
        "1. 다음은 자료의 형변환을  위한 프로그램이다.  수행결과를 보이시오"
      ]
    },
    {
      "cell_type": "code",
      "metadata": {
        "id": "-O2weEB67Pia",
        "colab": {
          "base_uri": "https://localhost:8080/",
          "height": 33
        },
        "outputId": "85e2a3e4-d4c9-4299-f2ab-49d5c657db35"
      },
      "source": [
        "x = int(1)   # x will be 1\n",
        "y = int(2.8) # y will be 2\n",
        "z = int(\"3\") # z will be 3\n",
        "print (y)"
      ],
      "execution_count": null,
      "outputs": [
        {
          "output_type": "stream",
          "text": [
            "2\n"
          ],
          "name": "stdout"
        }
      ]
    },
    {
      "cell_type": "code",
      "metadata": {
        "id": "6vkj1TEz7vV0",
        "colab": {
          "base_uri": "https://localhost:8080/",
          "height": 33
        },
        "outputId": "b95febe1-9dbb-465f-e6ed-c296508cb843"
      },
      "source": [
        "x = float(1)     # x will be 1.0\n",
        "y = float(2.8)   # y will be 2.8\n",
        "x"
      ],
      "execution_count": null,
      "outputs": [
        {
          "output_type": "execute_result",
          "data": {
            "text/plain": [
              "1.0"
            ]
          },
          "metadata": {
            "tags": []
          },
          "execution_count": 31
        }
      ]
    },
    {
      "cell_type": "code",
      "metadata": {
        "id": "aIN82DTX72_2",
        "colab": {
          "base_uri": "https://localhost:8080/",
          "height": 33
        },
        "outputId": "7b07de1a-2276-4b23-9e1a-5597ad19311e"
      },
      "source": [
        "y = str(2)    # y will be '2'\n",
        "z = str(3.0)  # z will be '3.0'\n",
        "print(z)"
      ],
      "execution_count": null,
      "outputs": [
        {
          "output_type": "stream",
          "text": [
            "3.0\n"
          ],
          "name": "stdout"
        }
      ]
    },
    {
      "cell_type": "code",
      "metadata": {
        "id": "LF9BAffHBS2t",
        "colab": {
          "base_uri": "https://localhost:8080/",
          "height": 33
        },
        "outputId": "27ce131a-37c5-4719-af29-7a12e9b1a6df"
      },
      "source": [
        "type(z)"
      ],
      "execution_count": null,
      "outputs": [
        {
          "output_type": "execute_result",
          "data": {
            "text/plain": [
              "str"
            ]
          },
          "metadata": {
            "tags": []
          },
          "execution_count": 33
        }
      ]
    },
    {
      "cell_type": "code",
      "metadata": {
        "id": "4lHUX31IBkRp",
        "colab": {
          "base_uri": "https://localhost:8080/",
          "height": 100
        },
        "outputId": "d63fecac-43ff-497c-8f80-4e70d51584a0"
      },
      "source": [
        "x = input ('number 1')\n",
        "print (x)\n",
        "y = input ('number 2')\n",
        "print (y)\n",
        "z = x + y\n",
        "print (z)"
      ],
      "execution_count": null,
      "outputs": [
        {
          "output_type": "stream",
          "text": [
            "number 13\n",
            "3\n",
            "number 25\n",
            "5\n",
            "35\n"
          ],
          "name": "stdout"
        }
      ]
    },
    {
      "cell_type": "markdown",
      "metadata": {
        "id": "pBAGdzuHluwc"
      },
      "source": [
        "2. 문자열은 문자 집합으로 문자열의 구성내용을 접근하기 위해서는 인덱스(index)를 사용한다. 다음 문장의 결과를 예상하시오. "
      ]
    },
    {
      "cell_type": "code",
      "metadata": {
        "id": "MAKEyzpTmKP6",
        "colab": {
          "base_uri": "https://localhost:8080/",
          "height": 35
        },
        "outputId": "62b52b77-e4ef-41a4-991e-6de634f5e534"
      },
      "source": [
        "word = \"Hello\"\n",
        "word [2]  "
      ],
      "execution_count": null,
      "outputs": [
        {
          "output_type": "execute_result",
          "data": {
            "application/vnd.google.colaboratory.intrinsic+json": {
              "type": "string"
            },
            "text/plain": [
              "'l'"
            ]
          },
          "metadata": {
            "tags": []
          },
          "execution_count": 5
        }
      ]
    },
    {
      "cell_type": "code",
      "metadata": {
        "id": "LhslP1mwltrj",
        "colab": {
          "base_uri": "https://localhost:8080/",
          "height": 33
        },
        "outputId": "df4e32dd-63a8-492d-cf0b-0a9d5f62f2f4"
      },
      "source": [
        "#print (word [1:3]  )\n",
        "word = \"Hello\"\n",
        "print(word [-1] )"
      ],
      "execution_count": null,
      "outputs": [
        {
          "output_type": "stream",
          "text": [
            "o\n"
          ],
          "name": "stdout"
        }
      ]
    },
    {
      "cell_type": "code",
      "metadata": {
        "id": "4dicUdugmQVD",
        "colab": {
          "base_uri": "https://localhost:8080/",
          "height": 35
        },
        "outputId": "5fb0449c-4b00-4e78-c6a8-3516d1dc921c"
      },
      "source": [
        "word = \"Hello\"\n",
        "word [2]  "
      ],
      "execution_count": null,
      "outputs": [
        {
          "output_type": "execute_result",
          "data": {
            "application/vnd.google.colaboratory.intrinsic+json": {
              "type": "string"
            },
            "text/plain": [
              "'l'"
            ]
          },
          "metadata": {
            "tags": []
          },
          "execution_count": 8
        }
      ]
    },
    {
      "cell_type": "code",
      "metadata": {
        "id": "w8CUkq46mA1F",
        "colab": {
          "base_uri": "https://localhost:8080/",
          "height": 35
        },
        "outputId": "320135f0-e0a7-4559-c38a-fbc5272ee5ce"
      },
      "source": [
        "word = 'Help' + 'a'\n",
        "word = 'Help' 'a'\n",
        "word"
      ],
      "execution_count": null,
      "outputs": [
        {
          "output_type": "execute_result",
          "data": {
            "application/vnd.google.colaboratory.intrinsic+json": {
              "type": "string"
            },
            "text/plain": [
              "'Helpa'"
            ]
          },
          "metadata": {
            "tags": []
          },
          "execution_count": 9
        }
      ]
    },
    {
      "cell_type": "code",
      "metadata": {
        "id": "htTXYucM8KFE"
      },
      "source": [
        "문자열의 위치 2에서 5까지의 문자를 출력한다. 문자열의 시작은 0부터 이며 2에서 4까지의 3개의 문자를 얻음"
      ],
      "execution_count": null,
      "outputs": []
    },
    {
      "cell_type": "code",
      "metadata": {
        "id": "w2a0_TtR8MAe",
        "colab": {
          "base_uri": "https://localhost:8080/",
          "height": 33
        },
        "outputId": "a77bc2b3-731d-45cd-c9c0-30de75c0a13f"
      },
      "source": [
        "  b = \"Hello, World!\"\n",
        "print(b[2:6])"
      ],
      "execution_count": null,
      "outputs": [
        {
          "output_type": "stream",
          "text": [
            "llo,\n"
          ],
          "name": "stdout"
        }
      ]
    },
    {
      "cell_type": "markdown",
      "metadata": {
        "id": "gZagbkiRmfYW"
      },
      "source": [
        "2. 함수 len 을 사용하여 리스트 또는 문자열의 길이를 출력하시오"
      ]
    },
    {
      "cell_type": "code",
      "metadata": {
        "id": "XTuV4zjimdMF",
        "colab": {
          "base_uri": "https://localhost:8080/",
          "height": 33
        },
        "outputId": "383cf482-6899-498f-8c61-ee224e88ba86"
      },
      "source": [
        "name = \"Jamie\" \n",
        "print(len(name)) # 5 "
      ],
      "execution_count": null,
      "outputs": [
        {
          "output_type": "stream",
          "text": [
            "5\n"
          ],
          "name": "stdout"
        }
      ]
    },
    {
      "cell_type": "code",
      "metadata": {
        "id": "afF2lm1gmlA4",
        "colab": {
          "base_uri": "https://localhost:8080/",
          "height": 33
        },
        "outputId": "bb9370d1-a066-42c3-9b3c-3c9142cf128a"
      },
      "source": [
        "names = [\"Bob\", \"Jane\", \"James\", 0] \n",
        "print(len(names)) # 4"
      ],
      "execution_count": null,
      "outputs": [
        {
          "output_type": "stream",
          "text": [
            "4\n"
          ],
          "name": "stdout"
        }
      ]
    },
    {
      "cell_type": "code",
      "metadata": {
        "id": "zGLz1prH8Z-6",
        "colab": {
          "base_uri": "https://localhost:8080/",
          "height": 33
        },
        "outputId": "8f35e46f-ea80-42a0-c3a5-c8be3523ba45"
      },
      "source": [
        "a = \"Hello, World!\"\n",
        "print(len(a))"
      ],
      "execution_count": null,
      "outputs": [
        {
          "output_type": "stream",
          "text": [
            "13\n"
          ],
          "name": "stdout"
        }
      ]
    },
    {
      "cell_type": "markdown",
      "metadata": {
        "id": "LaaHthvim41h"
      },
      "source": [
        "3. 문자열 '100'를 정수형으로 변환하라."
      ]
    },
    {
      "cell_type": "code",
      "metadata": {
        "id": "JUjX_NiVm6xF",
        "colab": {
          "base_uri": "https://localhost:8080/",
          "height": 33
        },
        "outputId": "8fb8d4c3-b66a-4b6b-a839-c6afbc78e535"
      },
      "source": [
        "num_string = \"100\"\n",
        "num_int = int(num_string)\n",
        "num_int"
      ],
      "execution_count": null,
      "outputs": [
        {
          "output_type": "execute_result",
          "data": {
            "text/plain": [
              "100"
            ]
          },
          "metadata": {
            "tags": []
          },
          "execution_count": 13
        }
      ]
    },
    {
      "cell_type": "markdown",
      "metadata": {
        "id": "agdXD0yU8lmc"
      },
      "source": [
        "4. 함수 split를 사용하여 문자열을 “,\" 로 분리한 후 리스트를 출력한다."
      ]
    },
    {
      "cell_type": "code",
      "metadata": {
        "id": "lARe8wOr8rul",
        "colab": {
          "base_uri": "https://localhost:8080/",
          "height": 33
        },
        "outputId": "97289e83-ba49-4970-c863-707a3fc31cf3"
      },
      "source": [
        "a = \"Hello, World!\"\n",
        "print(a.split(\",\")) # returns ['Hello', ' World!']"
      ],
      "execution_count": null,
      "outputs": [
        {
          "output_type": "stream",
          "text": [
            "['Hello', ' World!']\n"
          ],
          "name": "stdout"
        }
      ]
    },
    {
      "cell_type": "code",
      "metadata": {
        "id": "ebIw0mnXfvyi",
        "colab": {
          "base_uri": "https://localhost:8080/",
          "height": 33
        },
        "outputId": "5b2740ab-181f-484f-aa31-121df0baea72"
      },
      "source": [
        "a = \"Life is too short\"\n",
        "a.split()"
      ],
      "execution_count": null,
      "outputs": [
        {
          "output_type": "execute_result",
          "data": {
            "text/plain": [
              "['Life', 'is', 'too', 'short']"
            ]
          },
          "metadata": {
            "tags": []
          },
          "execution_count": 55
        }
      ]
    },
    {
      "cell_type": "code",
      "metadata": {
        "id": "AO2APWw_f51P",
        "colab": {
          "base_uri": "https://localhost:8080/",
          "height": 33
        },
        "outputId": "f03c84be-29a7-4d05-c29a-24fc473260b3"
      },
      "source": [
        "a = \"Art is long. Life is too short\"\n",
        "a.split('.')"
      ],
      "execution_count": null,
      "outputs": [
        {
          "output_type": "execute_result",
          "data": {
            "text/plain": [
              "['Art is long', ' Life is too short']"
            ]
          },
          "metadata": {
            "tags": []
          },
          "execution_count": 56
        }
      ]
    },
    {
      "cell_type": "markdown",
      "metadata": {
        "id": "kBYMg8fk85UN"
      },
      "source": [
        "5. 만약 a 가 b 보다 크면  \"Hello World“를 출력하시오. "
      ]
    },
    {
      "cell_type": "code",
      "metadata": {
        "id": "Imxh1RcH88pb",
        "colab": {
          "base_uri": "https://localhost:8080/",
          "height": 128
        },
        "outputId": "2aed13ed-a8d3-4a84-800d-5797d8d38da1"
      },
      "source": [
        "a = 5\n",
        "b = 3 \n",
        "if a  >   b:\n",
        "print(\"Hello World\")"
      ],
      "execution_count": null,
      "outputs": [
        {
          "output_type": "error",
          "ename": "IndentationError",
          "evalue": "ignored",
          "traceback": [
            "\u001b[0;36m  File \u001b[0;32m\"<ipython-input-52-d77fc4ba51c6>\"\u001b[0;36m, line \u001b[0;32m4\u001b[0m\n\u001b[0;31m    print(\"Hello World\")\u001b[0m\n\u001b[0m        ^\u001b[0m\n\u001b[0;31mIndentationError\u001b[0m\u001b[0;31m:\u001b[0m expected an indented block\n"
          ]
        }
      ]
    },
    {
      "cell_type": "markdown",
      "metadata": {
        "id": "5k_G8XKC9GW2"
      },
      "source": [
        "6. 만약 a와 b 가 같지 않으면  \"Hello World“를 출력하시오 "
      ]
    },
    {
      "cell_type": "code",
      "metadata": {
        "id": "hLF8o8yz9Iwe",
        "colab": {
          "base_uri": "https://localhost:8080/",
          "height": 33
        },
        "outputId": "f0ed650d-7313-4af6-c6e8-99a825eabff3"
      },
      "source": [
        "a = 50\n",
        "b = 10\n",
        "\n",
        "if a  !=  b:\n",
        "  print(\"Hello World\")"
      ],
      "execution_count": null,
      "outputs": [
        {
          "output_type": "stream",
          "text": [
            "Hello World\n"
          ],
          "name": "stdout"
        }
      ]
    },
    {
      "cell_type": "markdown",
      "metadata": {
        "id": "z6_JqH3w9T1P"
      },
      "source": [
        "7. 만약 a와 b가 같으면  \"Yes\" 그렇지 않으며 \"No\".를 출력하시오."
      ]
    },
    {
      "cell_type": "code",
      "metadata": {
        "id": "BZ6ISN8Q9XdG",
        "colab": {
          "base_uri": "https://localhost:8080/",
          "height": 33
        },
        "outputId": "5d448739-df27-4d0f-9cc2-846ea7f3947f"
      },
      "source": [
        "a = 50\n",
        "b = 10\n",
        "\n",
        "if a  ==  b:\n",
        "  print(\"Yes\")\n",
        "else:\n",
        "  print(\"No\")"
      ],
      "execution_count": null,
      "outputs": [
        {
          "output_type": "stream",
          "text": [
            "No\n"
          ],
          "name": "stdout"
        }
      ]
    },
    {
      "cell_type": "markdown",
      "metadata": {
        "id": "I7tE03oS9bMJ"
      },
      "source": [
        "8. 만약 a와 b가 같으면 “1”, a가 b보다 크면 “2”를 그렇지 않으며 “3”을 출력하시오."
      ]
    },
    {
      "cell_type": "code",
      "metadata": {
        "id": "ovD8YDzG9fUM",
        "colab": {
          "base_uri": "https://localhost:8080/",
          "height": 33
        },
        "outputId": "cabb7909-9654-4d71-cc12-9b83ed88b74c"
      },
      "source": [
        "a = 10\n",
        "b = 50\n",
        "if a  ==   b:\n",
        "  print(\"1\")\n",
        "elif a > b:\n",
        "  print(\"2\")\n",
        "else: \n",
        "  print(\"3\")"
      ],
      "execution_count": null,
      "outputs": [
        {
          "output_type": "stream",
          "text": [
            "3\n"
          ],
          "name": "stdout"
        }
      ]
    },
    {
      "cell_type": "markdown",
      "metadata": {
        "id": "wGTAK70UkcMl"
      },
      "source": [
        "9. 자료에서 특정한 조건의 값을 찾아 합을 구한다."
      ]
    },
    {
      "cell_type": "code",
      "metadata": {
        "id": "tEs7reVakbRK",
        "colab": {
          "base_uri": "https://localhost:8080/",
          "height": 50
        },
        "outputId": "4bea8998-5cc3-4781-a59e-1b110d8d93a0"
      },
      "source": [
        "# 다음 리스트에서 50점 이상의 점수들의 총합을 구하시오.\n",
        "marks=[90,25,67,45,80]\n",
        "\n",
        "total = 0\n",
        "i = 0\n",
        "higher_cnt = 0\n",
        "for i in range(len(marks)):\n",
        "    if marks[i] >= 50:\n",
        "        higher_cnt += 1\n",
        "        total = total + marks[i]\n",
        "    i = i + 1\n",
        "\n",
        "print (\"50점 이상의 점수들의 총합 = %d\" % total)\n",
        "print (\"50점 이상의 점수들의 평균 = %d\" % (total/higher_cnt))\n"
      ],
      "execution_count": null,
      "outputs": [
        {
          "output_type": "stream",
          "text": [
            "50점 이상의 점수들의 총합 = 237\n",
            "50점 이상의 점수들의 평균 = 79\n"
          ],
          "name": "stdout"
        }
      ]
    },
    {
      "cell_type": "code",
      "metadata": {
        "id": "WJs9ae8jkZjq"
      },
      "source": [
        ""
      ],
      "execution_count": null,
      "outputs": []
    },
    {
      "cell_type": "code",
      "metadata": {
        "id": "Kx_fcir-lWXI"
      },
      "source": [
        ""
      ],
      "execution_count": null,
      "outputs": []
    }
  ]
}