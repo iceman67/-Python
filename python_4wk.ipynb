{
  "nbformat": 4,
  "nbformat_minor": 0,
  "metadata": {
    "colab": {
      "name": "python_4wk.ipynb",
      "provenance": [],
      "authorship_tag": "ABX9TyOAg9+HS8qKsUfTNX1RBBBF",
      "include_colab_link": true
    },
    "kernelspec": {
      "name": "python3",
      "display_name": "Python 3"
    }
  },
  "cells": [
    {
      "cell_type": "markdown",
      "metadata": {
        "id": "view-in-github",
        "colab_type": "text"
      },
      "source": [
        "<a href=\"https://colab.research.google.com/github/iceman67/-Python/blob/master/python_4wk.ipynb\" target=\"_parent\"><img src=\"https://colab.research.google.com/assets/colab-badge.svg\" alt=\"Open In Colab\"/></a>"
      ]
    },
    {
      "cell_type": "markdown",
      "metadata": {
        "id": "_HqJofhq2k3n"
      },
      "source": [
        "* 조건문과 반복문 사용하기\r\n",
        "\r\n",
        "50점 이상인 학생의 점수 합과 평균을 구하자"
      ]
    },
    {
      "cell_type": "code",
      "metadata": {
        "id": "pTLkVaAm2iOa",
        "colab": {
          "base_uri": "https://localhost:8080/",
          "height": 52
        },
        "outputId": "08ed3142-441f-4d96-f584-1eb04161fa65"
      },
      "source": [
        "marks = [10,20,40, 70, 25, 60]\n",
        "total = 0\n",
        "higher_cnt = 0\n",
        "for m in marks:\n",
        "  if m >= 50:\n",
        "    total = total + m\n",
        "    higher_cnt += 1\n",
        "    \n",
        "print (\"total \" + str(total))\n",
        "print (\"average \" + str(total/higher_cnt))\n"
      ],
      "execution_count": null,
      "outputs": [
        {
          "output_type": "stream",
          "text": [
            "total 130\n",
            "average 65.0\n"
          ],
          "name": "stdout"
        }
      ]
    },
    {
      "cell_type": "code",
      "metadata": {
        "id": "4HY3J_j23STz",
        "colab": {
          "base_uri": "https://localhost:8080/",
          "height": 52
        },
        "outputId": "b3221701-7672-48c1-de93-6e6d25c86200"
      },
      "source": [
        "marks = [10,20,40, 70, 25, 60]\n",
        "higher = []\n",
        "for m in marks:\n",
        "  if m >= 50:\n",
        "    higher.append(m)\n",
        " \n",
        "print (sum(higher))\n",
        "print (sum(higher)/len(higher))\n"
      ],
      "execution_count": null,
      "outputs": [
        {
          "output_type": "stream",
          "text": [
            "130\n",
            "65.0\n"
          ],
          "name": "stdout"
        }
      ]
    },
    {
      "cell_type": "markdown",
      "metadata": {
        "id": "qQzqh1o63j13"
      },
      "source": [
        "생성된 higher을 오름 차순으로 구성하자"
      ]
    },
    {
      "cell_type": "code",
      "metadata": {
        "id": "6huK8_gr3icd",
        "colab": {
          "base_uri": "https://localhost:8080/",
          "height": 34
        },
        "outputId": "2d03e858-203b-40f5-b1d7-a1b31c466e75"
      },
      "source": [
        "higher.sort()\n",
        "higher"
      ],
      "execution_count": null,
      "outputs": [
        {
          "output_type": "execute_result",
          "data": {
            "text/plain": [
              "[60, 70]"
            ]
          },
          "metadata": {
            "tags": []
          },
          "execution_count": 34
        }
      ]
    },
    {
      "cell_type": "markdown",
      "metadata": {
        "id": "AvfdUeun30Sz"
      },
      "source": [
        "반복문 없이 higher를 만들기 "
      ]
    },
    {
      "cell_type": "code",
      "metadata": {
        "id": "o0W95wBk3_KT"
      },
      "source": [
        "marks = [10,20,40, 70, 25, 60]\n",
        "\n",
        "higher = [x for x in marks if x >= 50]\n",
        "higher"
      ],
      "execution_count": null,
      "outputs": []
    },
    {
      "cell_type": "markdown",
      "metadata": {
        "id": "2yqwa9z_kfk3"
      },
      "source": [
        "1에서 10사이의 짝수 찾아 even_numbers 추가하기"
      ]
    },
    {
      "cell_type": "code",
      "metadata": {
        "id": "bPJOlrjBkZQZ"
      },
      "source": [
        "even_numbers = []\n",
        "for n in range(1, 10+1):\n",
        "    if n % 2 == 0:\n",
        "        even_numbers.append(n)"
      ],
      "execution_count": null,
      "outputs": []
    },
    {
      "cell_type": "code",
      "metadata": {
        "id": "onvQVh41krc0",
        "colab": {
          "base_uri": "https://localhost:8080/",
          "height": 34
        },
        "outputId": "b12812f4-fcbe-4005-801f-a43241e738f6"
      },
      "source": [
        " [x for x in range(1, 10+1) if x % 2 == 0]"
      ],
      "execution_count": null,
      "outputs": [
        {
          "output_type": "execute_result",
          "data": {
            "text/plain": [
              "[2, 4, 6, 8, 10]"
            ]
          },
          "metadata": {
            "tags": []
          },
          "execution_count": 35
        }
      ]
    }
  ]
}