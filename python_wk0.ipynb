{
  "nbformat": 4,
  "nbformat_minor": 2,
  "metadata": {
    "colab": {
      "name": "python_wk0.ipynb",
      "provenance": [],
      "authorship_tag": "ABX9TyOkRyQ4zGLtv8FZFX6cNE0L",
      "include_colab_link": true
    },
    "kernelspec": {
      "name": "python3",
      "display_name": "Python 3.8.8 64-bit ('3.8.8': pyenv)"
    },
    "language_info": {
      "name": "python",
      "version": "3.8.8",
      "mimetype": "text/x-python",
      "codemirror_mode": {
        "name": "ipython",
        "version": 3
      },
      "pygments_lexer": "ipython3",
      "nbconvert_exporter": "python",
      "file_extension": ".py"
    },
    "interpreter": {
      "hash": "8c4814d74912ecfd9e2179b28f9464fe075bcbafa71f909188684bfde9111880"
    }
  },
  "cells": [
    {
      "cell_type": "markdown",
      "source": [
        "<a href=\"https://colab.research.google.com/github/iceman67/-Python/blob/master/python_wk0.ipynb\" target=\"_parent\"><img src=\"https://colab.research.google.com/assets/colab-badge.svg\" alt=\"Open In Colab\"/></a>"
      ],
      "metadata": {
        "id": "view-in-github",
        "colab_type": "text"
      }
    },
    {
      "cell_type": "markdown",
      "source": [
        "### python 언어 특징이해하기\n",
        "* 코드의 간격함 (단순함)\n",
        "* 높은 생산성 (다양한 라이브러리)"
      ],
      "metadata": {
        "id": "sPtQ1R1gNNU4"
      }
    },
    {
      "cell_type": "code",
      "execution_count": 7,
      "source": [
        "a = input(\"input number:\")\n",
        "a = int (a)"
      ],
      "outputs": [],
      "metadata": {
        "id": "C4JV2dKqam8v",
        "colab": {
          "base_uri": "https://localhost:8080/",
          "height": 51
        },
        "outputId": "b1525e5e-2902-4357-d91b-ae92826691d5"
      }
    },
    {
      "cell_type": "code",
      "execution_count": 8,
      "source": [
        "def factorial(n):\n",
        "  if n == 1:\n",
        "    return 1\n",
        "  else:\n",
        "    return n * factorial (n-1)"
      ],
      "outputs": [],
      "metadata": {
        "id": "44tMBWX1azpt"
      }
    },
    {
      "cell_type": "code",
      "execution_count": 10,
      "source": [
        "result = factorial(a)\n",
        "result"
      ],
      "outputs": [
        {
          "output_type": "execute_result",
          "data": {
            "text/plain": [
              "3628800"
            ]
          },
          "metadata": {},
          "execution_count": 10
        }
      ],
      "metadata": {}
    },
    {
      "cell_type": "code",
      "execution_count": 12,
      "source": [
        "print (factorial(a))"
      ],
      "outputs": [
        {
          "output_type": "stream",
          "name": "stdout",
          "text": [
            "3628800\n"
          ]
        }
      ],
      "metadata": {
        "id": "sAm1YKt1bLHO",
        "colab": {
          "base_uri": "https://localhost:8080/",
          "height": 34
        },
        "outputId": "0f7a908f-7651-481a-f041-189c8e44ee97"
      }
    }
  ]
}