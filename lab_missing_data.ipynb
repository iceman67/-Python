{
  "nbformat": 4,
  "nbformat_minor": 0,
  "metadata": {
    "colab": {
      "name": "lab_missing_data.ipynb",
      "private_outputs": true,
      "provenance": [],
      "collapsed_sections": [],
      "authorship_tag": "ABX9TyNgeMqSGUZ73O8JYzH7eqov",
      "include_colab_link": true
    },
    "kernelspec": {
      "name": "python3",
      "display_name": "Python 3"
    },
    "language_info": {
      "name": "python"
    }
  },
  "cells": [
    {
      "cell_type": "markdown",
      "metadata": {
        "id": "view-in-github",
        "colab_type": "text"
      },
      "source": [
        "<a href=\"https://colab.research.google.com/github/iceman67/-Python/blob/master/lab_missing_data.ipynb\" target=\"_parent\"><img src=\"https://colab.research.google.com/assets/colab-badge.svg\" alt=\"Open In Colab\"/></a>"
      ]
    },
    {
      "cell_type": "markdown",
      "metadata": {
        "id": "mKZHepQn7V8o"
      },
      "source": [
        "## 수집된 공공데이터 ASOS 에 결측치 처리"
      ]
    },
    {
      "cell_type": "code",
      "metadata": {
        "id": "fRLrv3yZ8o5i"
      },
      "source": [
        "import pandas as pd\n",
        "import requests\n",
        "import json\n"
      ],
      "execution_count": null,
      "outputs": []
    },
    {
      "cell_type": "code",
      "metadata": {
        "id": "iI70_fDLGvFD"
      },
      "source": [
        "serviceKey = 'y80jnESQZu1%2B%2BKrpWpkGrnZ96%2FhiBicuIH%2F3SeO0u10CK9rglO3nqmwetj8%2BRHj%2F1NWUUis4aeGnUMk1CFUYRQ%3D%3D'\n",
        "numOfRows = 31\n",
        "startDt = 20210801\n",
        "endDt = 20210831\n",
        "stnId =108 # 지역\n",
        "URL=f\"http://apis.data.go.kr/1360000/AsosDalyInfoService/getWthrDataList?serviceKey={serviceKey}&pageNo=1&numOfRows={numOfRows}&dataType=JSON&dataCd=ASOS&dateCd=DAY&startDt={startDt}&endDt={endDt}&stnIds={stnId}\"\n"
      ],
      "execution_count": null,
      "outputs": []
    },
    {
      "cell_type": "code",
      "metadata": {
        "id": "PhKQZpJbGvFQ"
      },
      "source": [
        "def set_url(key, numOfRows, startDt, endDt, stnId):\n",
        "    base = \"http://apis.data.go.kr/1360000/AsosDalyInfoService/getWthrDataList\"\n",
        "    url =f\"{base}?serviceKey={serviceKey}&pageNo=1&numOfRows={numOfRows}&dataType=JSON&dataCd=ASOS&dateCd=DAY&startDt={startDt}&endDt={endDt}&stnIds={stnId}\"\n",
        "\n",
        "    return url\n"
      ],
      "execution_count": null,
      "outputs": []
    },
    {
      "cell_type": "code",
      "metadata": {
        "id": "ErAmehKyGvFQ"
      },
      "source": [
        "URL = set_url(serviceKey, numOfRows, startDt, endDt, stnId)\n",
        "URL"
      ],
      "execution_count": null,
      "outputs": []
    },
    {
      "cell_type": "markdown",
      "metadata": {
        "id": "D2bibY6dCrf-"
      },
      "source": [
        "* 주어진 URL 의 JSON 자료를 데이터프레임으로 구성함"
      ]
    },
    {
      "cell_type": "code",
      "metadata": {
        "id": "D5ABxl7CH2Gg"
      },
      "source": [
        "def gen_df(URL):\n",
        "    result = requests.get(URL)\n",
        "    js = json.loads(result.content)\n",
        "    data = pd.DataFrame(js['response']['body']['items']['item'])\n",
        "    return data\n",
        "df = gen_df(URL)"
      ],
      "execution_count": null,
      "outputs": []
    },
    {
      "cell_type": "markdown",
      "metadata": {
        "id": "ZZYNzee8CRV5"
      },
      "source": [
        "* 자료값 확인을 위해 컬럼 번호와 자료형 (Dtype) 을 확인함"
      ]
    },
    {
      "cell_type": "code",
      "metadata": {
        "id": "9HqY2NEb9El_"
      },
      "source": [
        "df.info()"
      ],
      "execution_count": null,
      "outputs": []
    },
    {
      "cell_type": "code",
      "metadata": {
        "id": "-4Vl5AkrSHBM"
      },
      "source": [
        "df.head()"
      ],
      "execution_count": null,
      "outputs": []
    },
    {
      "cell_type": "markdown",
      "metadata": {
        "id": "PFaTWHBWBy6K"
      },
      "source": [
        "* 결측치를 확인함\n",
        "> 결측치를 갖는 컬럼을 찾아봄 (예: mi10MaxRnHrmt)"
      ]
    },
    {
      "cell_type": "code",
      "metadata": {
        "id": "zPJWPkZIBtnU"
      },
      "source": [
        "df.isnull().sum()"
      ],
      "execution_count": null,
      "outputs": []
    },
    {
      "cell_type": "code",
      "metadata": {
        "id": "BENWVbGqCDQL"
      },
      "source": [
        "# n99Rn 에 값을 확인함\n",
        "df.iloc[3, 59:60]"
      ],
      "execution_count": null,
      "outputs": []
    },
    {
      "cell_type": "markdown",
      "metadata": {
        "id": "lRgpKx6ABing"
      },
      "source": [
        "* n99n 컬럼을 숫자로 변환한 후 결측치를 확인함"
      ]
    },
    {
      "cell_type": "code",
      "metadata": {
        "id": "UD09vDMfAHMo"
      },
      "source": [
        "df['n99Rn'] = pd.to_numeric(df['n99Rn'])\n",
        "df"
      ],
      "execution_count": null,
      "outputs": []
    },
    {
      "cell_type": "code",
      "metadata": {
        "id": "BJLBYyzX9Tit"
      },
      "source": [
        "df.isna().any()"
      ],
      "execution_count": null,
      "outputs": []
    },
    {
      "cell_type": "code",
      "metadata": {
        "id": "4r6jaS_092xt"
      },
      "source": [
        "df['n99Rn'].head() "
      ],
      "execution_count": null,
      "outputs": []
    },
    {
      "cell_type": "code",
      "metadata": {
        "id": "kljlcE6A-s8p"
      },
      "source": [
        "df.iloc[3, 59:60]"
      ],
      "execution_count": null,
      "outputs": []
    },
    {
      "cell_type": "markdown",
      "metadata": {
        "id": "UaVoGcNKYNuu"
      },
      "source": [
        "* 결측치 및  결측치 백분율로 확인"
      ]
    },
    {
      "cell_type": "code",
      "metadata": {
        "id": "6WCIr6HmEBNh"
      },
      "source": [
        "df.isnull().sum()"
      ],
      "execution_count": null,
      "outputs": []
    },
    {
      "cell_type": "code",
      "metadata": {
        "id": "-5tIo6NmYI0z"
      },
      "source": [
        "df.isnull().mean() "
      ],
      "execution_count": null,
      "outputs": []
    },
    {
      "cell_type": "markdown",
      "metadata": {
        "id": "WKvDP7tuDZXC"
      },
      "source": [
        "* 주어진 데이터프레임의 값을 확인한 후 자료에 값이 없는 경우 숫자로 변환하여 결측치를 확인하시오.\n",
        "> ddMesHrmt, sumFogDur"
      ]
    },
    {
      "cell_type": "code",
      "metadata": {
        "id": "RrTNKUlSDWQy"
      },
      "source": [
        "df['sumFogDur'].head()"
      ],
      "execution_count": null,
      "outputs": []
    },
    {
      "cell_type": "code",
      "metadata": {
        "id": "7zrqM5gWD01G"
      },
      "source": [
        "df['sumFogDur'] = pd.to_numeric(df['sumFogDur'])\n",
        "df['sumFogDur']"
      ],
      "execution_count": null,
      "outputs": []
    },
    {
      "cell_type": "markdown",
      "metadata": {
        "id": "y_USLZpjEymA"
      },
      "source": [
        "* 결측치 처리후의 문제점을 찾으시오"
      ]
    },
    {
      "cell_type": "code",
      "metadata": {
        "id": "BJnv4uvCEcB2"
      },
      "source": [
        "df = df.dropna()\n",
        "df"
      ],
      "execution_count": null,
      "outputs": []
    },
    {
      "cell_type": "markdown",
      "metadata": {
        "id": "V-S2hf8lZHPV"
      },
      "source": [
        "* 결측치를 대치 (중간값, 최빈값)"
      ]
    },
    {
      "cell_type": "code",
      "metadata": {
        "id": "CaqCFfoOY4gW"
      },
      "source": [
        "df['sumFogDur'].median()"
      ],
      "execution_count": null,
      "outputs": []
    },
    {
      "cell_type": "code",
      "metadata": {
        "id": "PZjCrrp6ZBcu"
      },
      "source": [
        "df['sumFogDur_A'] = df['sumFogDur'].fillna(df['sumFogDur'].median())"
      ],
      "execution_count": null,
      "outputs": []
    },
    {
      "cell_type": "code",
      "metadata": {
        "id": "aivVS1DfZUID"
      },
      "source": [
        "most_freq = df['sumFogDur'].value_counts()"
      ],
      "execution_count": null,
      "outputs": []
    },
    {
      "cell_type": "code",
      "metadata": {
        "id": "GrMkEVKfZipO"
      },
      "source": [
        "df['sumFogDur'] = df['sumFogDur'].fillna(most_freq)"
      ],
      "execution_count": null,
      "outputs": []
    },
    {
      "cell_type": "markdown",
      "metadata": {
        "id": "QgHCssUgFJfs"
      },
      "source": [
        "* 결측치를 갖는 컬럼을 제거한다"
      ]
    },
    {
      "cell_type": "code",
      "metadata": {
        "id": "9MyZuA9DFHRN"
      },
      "source": [
        "df.dropna(axis=1)"
      ],
      "execution_count": null,
      "outputs": []
    },
    {
      "cell_type": "markdown",
      "metadata": {
        "id": "4HdBqPngYb4B"
      },
      "source": [
        "* 결측치 제거\n",
        "\n",
        "> 결측값이 많은 컬럼은 제외함 (기준 50%)"
      ]
    },
    {
      "cell_type": "code",
      "metadata": {
        "id": "WjqNqwxhYX-y"
      },
      "source": [
        "df = df.dropna(thresh=int(len(df)*0.5), axis =1)"
      ],
      "execution_count": null,
      "outputs": []
    },
    {
      "cell_type": "code",
      "metadata": {
        "id": "nEq8Q2DocjqG"
      },
      "source": [
        "df.isnull().sum()"
      ],
      "execution_count": null,
      "outputs": []
    },
    {
      "cell_type": "markdown",
      "metadata": {
        "id": "a382b4fa-67c8-4710-b6cc-37ef9ce691da"
      },
      "source": [
        "#### 참고문헌 \n",
        "\n",
        "* https://wikidocs.net/16582"
      ]
    }
  ]
}