{
  "nbformat": 4,
  "nbformat_minor": 0,
  "metadata": {
    "colab": {
      "name": "13-numpy_tutorial_app_python.ipynb",
      "provenance": [],
      "collapsed_sections": [],
      "toc_visible": true,
      "include_colab_link": true
    },
    "kernelspec": {
      "name": "python3",
      "display_name": "Python 3"
    }
  },
  "cells": [
    {
      "cell_type": "markdown",
      "metadata": {
        "id": "view-in-github",
        "colab_type": "text"
      },
      "source": [
        "<a href=\"https://colab.research.google.com/github/iceman67/-Python/blob/master/13_numpy_tutorial_app_python.ipynb\" target=\"_parent\"><img src=\"https://colab.research.google.com/assets/colab-badge.svg\" alt=\"Open In Colab\"/></a>"
      ]
    },
    {
      "cell_type": "markdown",
      "metadata": {
        "id": "a0YglmVKrM0t"
      },
      "source": [
        "### 학습목표 \n",
        "1. 배열과 리스트의 차이점을 알고 배열을 사용하는 이유를 이해한다\n",
        "2. 배열을 생성하고 다루는 방법을 익힌다\n",
        "3. 넘파이를 사용하여 기술 통계를 낼 수 있다.\n",
        "4. 난수를 발생시키고 그 결과를 분석하는 방법을 공부한다.\n",
        "\n",
        "### Python의 배열\n",
        "* 파이썬은 자체적으로 배열 자료형을 제공하지 않는다 \n",
        "* 따라서 배열을 구현한 다른 패키지를 임포트해야 한다\n",
        "* 파이썬에서 배열을 사용하기 위한 표준 패키지는 넘파이(NumPy)이다\n",
        "* 배열의 개별 값을 항목(item) 또는 원소(element)라고 한다\n",
        "* 배열 내부의 각 항목은 index로 참조된다\n",
        "* 차원 axis와 형상 shape을 사용한다\n",
        "\n",
        "### NumPy\n",
        "> 데이터과학을 위한 많은 라이브러리 중 가장기본이 되는 라이브러리임\n",
        "* 행렬이나 일반적으로 대규모 다차원 배열을 쉽게 처리 할 수 있도록 지원하는 파이썬의 라이브러리임\n",
        "* 데이터 구조 외에도 수치 계산을 위해 효율적으로 구현된 기능을 제공\n",
        "* 벡터 및 행렬 연산에 있어서 매우 편리한 기능을 제공\n",
        "* 기본적으로 array라는 단위로 데이터를 관리\n",
        "* (참고) https://numpy.org/\n",
        "\n",
        "---\n",
        "* C언어로 구현된 파이썬 라이브러리로써, 고성능의 수치계산을 위해 제작\n",
        "* Numerical Python의 줄임말\n",
        "\n",
        "\n",
        "\n",
        "---\n",
        "텍스트, 이미지, 사운드 와 같은 모든 자료는 숫자의 배열로 표현됨 \n",
        "이를 위해 배열에 자료를 저장하고 조작이 필요하며 이를 위해  numpy가 사용됨   \n"
      ]
    },
    {
      "cell_type": "code",
      "metadata": {
        "id": "6AxS3K35r041"
      },
      "source": [
        "# numpy를 설치하고 단순히 import numpy 만 해도 되지만, 코드 작성시 as np 를 붙임으로써 np라는 이름으로 numpy를 사용함 \n",
        "import numpy as np"
      ],
      "execution_count": null,
      "outputs": []
    },
    {
      "cell_type": "code",
      "metadata": {
        "colab": {
          "base_uri": "https://localhost:8080/",
          "height": 35
        },
        "id": "oeo8G52NE311",
        "outputId": "91cb7d2b-52fc-4b86-ead7-9f0fef2cbf67"
      },
      "source": [
        "np.__version__"
      ],
      "execution_count": null,
      "outputs": [
        {
          "output_type": "execute_result",
          "data": {
            "application/vnd.google.colaboratory.intrinsic+json": {
              "type": "string"
            },
            "text/plain": [
              "'1.19.5'"
            ]
          },
          "metadata": {},
          "execution_count": 2
        }
      ]
    },
    {
      "cell_type": "markdown",
      "metadata": {
        "id": "V2OGfbViT0hq"
      },
      "source": [
        "##  numpy 배열과 리스트 성능비교\n",
        "\n",
        "* 리스트는 데이터가 비연속적인 위치에 저장되게 되며 대량의 데이터 처리에 어려움을 제공한다\n",
        "> 가변크기 리스트와 고정크기 numpy 배열의 자료 생성시간 비교\n",
        "\n",
        "* (리스트 제약점)많은 숫자 데이터를 하나의 변수에 넣고 관리 할 때 리스트는 속도가 느리고 메모리를 많이 차지하는 단점이 있다. "
      ]
    },
    {
      "cell_type": "code",
      "metadata": {
        "colab": {
          "base_uri": "https://localhost:8080/"
        },
        "id": "T4Czb-pVcEVZ",
        "outputId": "8e95cf47-3b06-4c5f-f684-e07323db00f9"
      },
      "source": [
        "%%time\n",
        "\n",
        "alist = [i for i in range (1000000)]"
      ],
      "execution_count": null,
      "outputs": [
        {
          "output_type": "stream",
          "name": "stdout",
          "text": [
            "CPU times: user 81.2 ms, sys: 25.9 ms, total: 107 ms\n",
            "Wall time: 143 ms\n"
          ]
        }
      ]
    },
    {
      "cell_type": "code",
      "metadata": {
        "id": "nyql6pSucSlC"
      },
      "source": [
        "import numpy as np"
      ],
      "execution_count": null,
      "outputs": []
    },
    {
      "cell_type": "code",
      "metadata": {
        "colab": {
          "base_uri": "https://localhost:8080/"
        },
        "id": "MUOyYa74cMPJ",
        "outputId": "e4cd0e29-a632-4f50-a00f-11168b6bb114"
      },
      "source": [
        "%%time\n",
        "\n",
        "alist = np.array(np.arange(1000000)) # 연속적인 정수를 갖는 Numpy 배열 생성,  np.arange(start, stop, step)"
      ],
      "execution_count": null,
      "outputs": [
        {
          "output_type": "stream",
          "name": "stdout",
          "text": [
            "CPU times: user 1.06 ms, sys: 5.95 ms, total: 7.01 ms\n",
            "Wall time: 7.89 ms\n"
          ]
        }
      ]
    },
    {
      "cell_type": "code",
      "metadata": {
        "colab": {
          "base_uri": "https://localhost:8080/"
        },
        "id": "zMrplRaIesWU",
        "outputId": "c4b95dca-bda1-4f3e-aebc-400d3edfbb75"
      },
      "source": [
        "%%timeit -n 100 \n",
        "\n",
        "numbers = [i for i in range (100000)]\n",
        "total = 0 \n",
        "for g in numbers:\n",
        "  total = total + g\n",
        "\n",
        "total/len(numbers)\n",
        "#print (total/len(numbers))"
      ],
      "execution_count": null,
      "outputs": [
        {
          "output_type": "stream",
          "text": [
            "100 loops, best of 5: 10.1 ms per loop\n"
          ],
          "name": "stdout"
        }
      ]
    },
    {
      "cell_type": "markdown",
      "source": [
        "메모리 크기 비교"
      ],
      "metadata": {
        "id": "AM2xmVF4TwFJ"
      }
    },
    {
      "cell_type": "code",
      "source": [
        "from sys import getsizeof as size\n",
        "\n",
        "lst = [24, 12, 57]\n",
        "\n",
        "size_of_list_object = size(lst)   # only green box\n",
        "size_of_elements = len(lst) * size(lst[0]) # 24, 12, 57\n",
        "\n",
        "total_list_size = size_of_list_object + size_of_elements\n",
        "print(\"Size without the size of the elements: \", size_of_list_object)\n",
        "print(\"Size of all the elements: \", size_of_elements)\n",
        "print(\"Total size of list, including elements: \", total_list_size)\n",
        "\n",
        "lst = []\n",
        "print(\"Emtpy list size: \", size(lst))"
      ],
      "metadata": {
        "colab": {
          "base_uri": "https://localhost:8080/"
        },
        "id": "lIrrPtpMTqYB",
        "outputId": "435a9d59-a091-4236-9767-e27dab9b2004"
      },
      "execution_count": null,
      "outputs": [
        {
          "output_type": "stream",
          "name": "stdout",
          "text": [
            "Size without the size of the elements:  96\n",
            "Size of all the elements:  84\n",
            "Total size of list, including elements:  180\n",
            "Emtpy list size:  72\n"
          ]
        }
      ]
    },
    {
      "cell_type": "code",
      "source": [
        "from sys import getsizeof as size\n",
        "\n",
        "a = np.array([24, 12, 57])\n",
        "print(size(a))\n",
        "\n",
        "e = np.array([])\n",
        "print(size(e))"
      ],
      "metadata": {
        "colab": {
          "base_uri": "https://localhost:8080/"
        },
        "id": "vnHxLSn8TftZ",
        "outputId": "81a008cd-65ce-4e23-ce20-5643c692ad48"
      },
      "execution_count": null,
      "outputs": [
        {
          "output_type": "stream",
          "name": "stdout",
          "text": [
            "120\n",
            "96\n"
          ]
        }
      ]
    },
    {
      "cell_type": "markdown",
      "source": [
        "(실습 문제) 파이썬 프로그램에서 리스트 대신 numpy 배열을 사용하는 이유는 무엇인가 ?\n",
        "\n",
        "> [리스트 vs. 배열](https://webcourses.ucf.edu/courses/1249560/pages/python-lists-vs-numpy-arrays-what-is-the-difference)\n",
        "\n",
        "* 자료저장 크기\n",
        "* 성능 \n",
        "* 기능"
      ],
      "metadata": {
        "id": "PIANEbzPQ0rK"
      }
    },
    {
      "cell_type": "markdown",
      "metadata": {
        "id": "_USO8XmYUjEJ"
      },
      "source": [
        "## numpy 사례, 시각화 활용\n",
        "* 다음 코드에서 numpy 에서 제공하는 함수를 찾으시오\n",
        "* 변수 x의 자료형이 무엇인지 확인하시오"
      ]
    },
    {
      "cell_type": "code",
      "metadata": {
        "colab": {
          "base_uri": "https://localhost:8080/",
          "height": 279
        },
        "id": "6FHwog0CUmtf",
        "outputId": "4ae4abea-2c9c-4a97-babc-51d8bac4ee25"
      },
      "source": [
        "import numpy as np  #  arrays and matrices\n",
        "import matplotlib.pyplot as plt  # 시각화 모듈 \n",
        " \n",
        "x = np.linspace(0, 10, 1000) \n",
        "sinus = np.sin(x) \n",
        "plt.plot(x, sinus)  # X 축과 Y 축 값확인\n",
        "plt.xlabel(\"X\")\n",
        "plt.ylabel(\"Y\")\n",
        "plt.show()"
      ],
      "execution_count": null,
      "outputs": [
        {
          "output_type": "display_data",
          "data": {
            "image/png": "[encoded data removed]",
            "text/plain": [
              "<Figure size 432x288 with 1 Axes>"
            ]
          },
          "metadata": {
            "needs_background": "light"
          }
        }
      ]
    },
    {
      "cell_type": "code",
      "source": [
        "type(x)"
      ],
      "metadata": {
        "colab": {
          "base_uri": "https://localhost:8080/"
        },
        "id": "yqXiigNUiTtG",
        "outputId": "8367cbf7-8bc8-4d92-a04a-702219a8f791"
      },
      "execution_count": null,
      "outputs": [
        {
          "output_type": "execute_result",
          "data": {
            "text/plain": [
              "numpy.ndarray"
            ]
          },
          "metadata": {},
          "execution_count": 9
        }
      ]
    },
    {
      "cell_type": "markdown",
      "metadata": {
        "id": "dqcUZnw3kb1w"
      },
      "source": [
        "## numpy 배열 사용하기\n",
        "* ndarray는 n-dimensional array의 줄임말\n",
        "* numpy 배열(array)을 사용하면 적은 메모리로 많은 데이터를 빠르게 처리할 수 있다. \n",
        "* 배열은 리스트와 비슷하지만 다음과 같은 차이점이 있음\n",
        "1. 모든 원소가 같은 자료형이어야 한다\n",
        "2. 원소의 갯수를 바꿀 수 없다"
      ]
    },
    {
      "cell_type": "code",
      "metadata": {
        "id": "NtUiy-IsrnbR"
      },
      "source": [
        "# 배열 생성\n",
        "x = np.array([1, 2, 3])\n",
        "y = np.arange(10)"
      ],
      "execution_count": null,
      "outputs": []
    },
    {
      "cell_type": "code",
      "source": [
        "x.shape[0]"
      ],
      "metadata": {
        "colab": {
          "base_uri": "https://localhost:8080/"
        },
        "id": "eDcUqnXhWFrp",
        "outputId": "c8d39f6e-5022-46fd-da05-1dd5ebd2aba3"
      },
      "execution_count": null,
      "outputs": [
        {
          "output_type": "execute_result",
          "data": {
            "text/plain": [
              "(3,)"
            ]
          },
          "metadata": {},
          "execution_count": 5
        }
      ]
    },
    {
      "cell_type": "code",
      "source": [
        ""
      ],
      "metadata": {
        "id": "-3OI5jEDWCP7"
      },
      "execution_count": null,
      "outputs": []
    },
    {
      "cell_type": "code",
      "source": [
        "y"
      ],
      "metadata": {
        "colab": {
          "base_uri": "https://localhost:8080/"
        },
        "id": "OJq10iv3oL3J",
        "outputId": "8c01a417-3668-45ba-f62c-a9b70937fce1"
      },
      "execution_count": null,
      "outputs": [
        {
          "output_type": "execute_result",
          "data": {
            "text/plain": [
              "array([0, 1, 2, 3, 4, 5, 6, 7, 8, 9])"
            ]
          },
          "metadata": {},
          "execution_count": 12
        }
      ]
    },
    {
      "cell_type": "markdown",
      "source": [
        "1에서 10까지 자료로 구성된 numpy 배열생성하시오"
      ],
      "metadata": {
        "id": "rrcNBYnEjMxq"
      }
    },
    {
      "cell_type": "code",
      "metadata": {
        "colab": {
          "base_uri": "https://localhost:8080/"
        },
        "id": "EDwxdHzBXgyR",
        "outputId": "613c52b3-42ba-455e-9f5f-e43f49a1a4c2"
      },
      "source": [
        "y= np.arange(1,10+1)\n",
        "y"
      ],
      "execution_count": null,
      "outputs": [
        {
          "output_type": "execute_result",
          "data": {
            "text/plain": [
              "array([ 1,  2,  3,  4,  5,  6,  7,  8,  9, 10])"
            ]
          },
          "metadata": {},
          "execution_count": 13
        }
      ]
    },
    {
      "cell_type": "markdown",
      "source": [
        "* (실습) 다음 코드의 오류를 찾아 수정하시오\n",
        "```\n",
        "a = np.array(1, 2, 3, 4)\n",
        "```  "
      ],
      "metadata": {
        "id": "V9CeDe6RT1IA"
      }
    },
    {
      "cell_type": "code",
      "source": [
        "a = np.array([1, 2, 3, 4])"
      ],
      "metadata": {
        "id": "gF-eLcf2ju_q"
      },
      "execution_count": null,
      "outputs": []
    },
    {
      "cell_type": "markdown",
      "metadata": {
        "id": "bM2xjRHa1kD_"
      },
      "source": [
        "* array() 함수에 리스트를 넣으면 ndarray 클래스 객체 즉, 배열로 변환되어 반환됨"
      ]
    },
    {
      "cell_type": "code",
      "metadata": {
        "colab": {
          "base_uri": "https://localhost:8080/"
        },
        "id": "bfSJfOc8NL9U",
        "outputId": "5a83aa00-a24e-4245-919b-7181bed4479c"
      },
      "source": [
        "data1 = [1, 2, 3, 4, 5] # list \n",
        "arr1 = np.array(data1) # 1d array\n",
        "arr1"
      ],
      "execution_count": null,
      "outputs": [
        {
          "output_type": "execute_result",
          "data": {
            "text/plain": [
              "array([1, 2, 3, 4, 5])"
            ]
          },
          "metadata": {},
          "execution_count": 15
        }
      ]
    },
    {
      "cell_type": "markdown",
      "metadata": {
        "id": "oPffe4lz1QF_"
      },
      "source": [
        "* arr1 은  배열 자료구조 클래스인 ndarray 클래스의 객체임"
      ]
    },
    {
      "cell_type": "code",
      "metadata": {
        "colab": {
          "base_uri": "https://localhost:8080/"
        },
        "id": "luDzMFGzIz1b",
        "outputId": "fab88adf-36d2-4eb5-abba-9a0c9863bfd3"
      },
      "source": [
        "type(arr1)"
      ],
      "execution_count": null,
      "outputs": [
        {
          "output_type": "execute_result",
          "data": {
            "text/plain": [
              "numpy.ndarray"
            ]
          },
          "metadata": {},
          "execution_count": 16
        }
      ]
    },
    {
      "cell_type": "code",
      "metadata": {
        "colab": {
          "base_uri": "https://localhost:8080/"
        },
        "id": "09vBNkNxyAGL",
        "outputId": "9bea7504-71fa-49df-cad3-56fd556a3151"
      },
      "source": [
        "arr1 = np.array([0, 2, 5.5, 7])\n",
        "arr1"
      ],
      "execution_count": null,
      "outputs": [
        {
          "output_type": "execute_result",
          "data": {
            "text/plain": [
              "array([0. , 2. , 5.5, 7. ])"
            ]
          },
          "metadata": {},
          "execution_count": 17
        }
      ]
    },
    {
      "cell_type": "code",
      "metadata": {
        "colab": {
          "base_uri": "https://localhost:8080/"
        },
        "id": "MU0UvWpJMvUw",
        "outputId": "ee8ffcb5-197d-4a31-c96c-14b5a176dd7b"
      },
      "source": [
        "data2 = [range(1, 5), range(5, 9)] # list of lists \n",
        "arr2 = np.array(data2)\n",
        "arr2"
      ],
      "execution_count": null,
      "outputs": [
        {
          "output_type": "execute_result",
          "data": {
            "text/plain": [
              "array([[1, 2, 3, 4],\n",
              "       [5, 6, 7, 8]])"
            ]
          },
          "metadata": {},
          "execution_count": 16
        }
      ]
    },
    {
      "cell_type": "code",
      "source": [
        "data2"
      ],
      "metadata": {
        "colab": {
          "base_uri": "https://localhost:8080/"
        },
        "id": "QQlGHIA4k62o",
        "outputId": "c14fd65c-a616-4513-cb7e-3548362a1684"
      },
      "execution_count": null,
      "outputs": [
        {
          "output_type": "execute_result",
          "data": {
            "text/plain": [
              "[range(1, 5), range(5, 9)]"
            ]
          },
          "metadata": {},
          "execution_count": 17
        }
      ]
    },
    {
      "cell_type": "code",
      "metadata": {
        "colab": {
          "base_uri": "https://localhost:8080/"
        },
        "id": "UppjqsxvxvLG",
        "outputId": "d10a0249-18ea-4517-93c7-586f561d0d93"
      },
      "source": [
        "arr2 = np.array([[1, 2, 3, 4], [ 5, 6,7,8]])\n",
        "arr2"
      ],
      "execution_count": null,
      "outputs": [
        {
          "output_type": "execute_result",
          "data": {
            "text/plain": [
              "array([[1, 2, 3, 4],\n",
              "       [5, 6, 7, 8]])"
            ]
          },
          "metadata": {},
          "execution_count": 18
        }
      ]
    },
    {
      "cell_type": "code",
      "source": [
        "arr2.ndim"
      ],
      "metadata": {
        "colab": {
          "base_uri": "https://localhost:8080/"
        },
        "id": "vBWKXM83b0E4",
        "outputId": "6f4b1400-a3b9-4ff4-bfca-296592f5c149"
      },
      "execution_count": null,
      "outputs": [
        {
          "output_type": "execute_result",
          "data": {
            "text/plain": [
              "2"
            ]
          },
          "metadata": {},
          "execution_count": 24
        }
      ]
    },
    {
      "cell_type": "code",
      "source": [
        "arr2.shape"
      ],
      "metadata": {
        "colab": {
          "base_uri": "https://localhost:8080/"
        },
        "id": "9DndZpDcb5vm",
        "outputId": "fe6579cf-6e67-45cf-f2e3-8e7e2eab228c"
      },
      "execution_count": null,
      "outputs": [
        {
          "output_type": "execute_result",
          "data": {
            "text/plain": [
              "(2, 4)"
            ]
          },
          "metadata": {},
          "execution_count": 25
        }
      ]
    },
    {
      "cell_type": "code",
      "metadata": {
        "colab": {
          "base_uri": "https://localhost:8080/"
        },
        "id": "wV7DlMpkNh8M",
        "outputId": "8243f4cf-9cd0-4d0c-f43d-04995c6f5702"
      },
      "source": [
        "data = [[1,2,3],[4,5,6],[7,8,9]]\n",
        "data = np.array(data)\n",
        "print (data)"
      ],
      "execution_count": null,
      "outputs": [
        {
          "output_type": "stream",
          "name": "stdout",
          "text": [
            "[[1 2 3]\n",
            " [4 5 6]\n",
            " [7 8 9]]\n"
          ]
        }
      ]
    },
    {
      "cell_type": "code",
      "metadata": {
        "colab": {
          "base_uri": "https://localhost:8080/"
        },
        "id": "UgOtJRaIzRfn",
        "outputId": "477e92d8-165a-45ef-f14a-c5ffe5225d02"
      },
      "source": [
        "# numpy 함수로 배열 생성\n",
        "data = np.arange(10)\n",
        "data"
      ],
      "execution_count": null,
      "outputs": [
        {
          "output_type": "execute_result",
          "data": {
            "text/plain": [
              "array([0, 1, 2, 3, 4, 5, 6, 7, 8, 9])"
            ]
          },
          "metadata": {},
          "execution_count": 50
        }
      ]
    },
    {
      "cell_type": "markdown",
      "metadata": {
        "id": "drpxyV2BlYMH"
      },
      "source": [
        "* 리스트와 비슷해 보이지만 type 명령으로 자료형을 살펴보면 ndarray임을 알 수 있음\n",
        "> ndarray는 수학과 통계함수를 제공함 \n",
        "\n",
        "* numpy의 배열 연산은 C로 구현된 내부 반복문을 사용하기 때문에 파이썬 반복문에 비해 속도가 빠르며 벡터화 연산(vectorized operation)을 이용하여 간단한 코드로도 복잡한 선형 대수 연산을 수행할 수 있음\n",
        "> 벡터화 연산 이해하기"
      ]
    },
    {
      "cell_type": "code",
      "metadata": {
        "colab": {
          "base_uri": "https://localhost:8080/",
          "height": 201
        },
        "id": "6-qUU_kfKuXW",
        "outputId": "0fe92fa2-b64e-4aeb-a6f6-5e2e1a29b53d"
      },
      "source": [
        "# 리스트 객체 data는 mean() 함수를 사용할 수 없음\n",
        "data = [0, 1, 2, 3, 4, 5, 6, 7, 8, 9]\n",
        "\n",
        "data.mean()"
      ],
      "execution_count": null,
      "outputs": [
        {
          "output_type": "error",
          "ename": "AttributeError",
          "evalue": "ignored",
          "traceback": [
            "\u001b[0;31m---------------------------------------------------------------------------\u001b[0m",
            "\u001b[0;31mAttributeError\u001b[0m                            Traceback (most recent call last)",
            "\u001b[0;32m<ipython-input-20-e3112c397dbf>\u001b[0m in \u001b[0;36m<module>\u001b[0;34m()\u001b[0m\n\u001b[1;32m      2\u001b[0m \u001b[0mdata\u001b[0m \u001b[0;34m=\u001b[0m \u001b[0;34m[\u001b[0m\u001b[0;36m0\u001b[0m\u001b[0;34m,\u001b[0m \u001b[0;36m1\u001b[0m\u001b[0;34m,\u001b[0m \u001b[0;36m2\u001b[0m\u001b[0;34m,\u001b[0m \u001b[0;36m3\u001b[0m\u001b[0;34m,\u001b[0m \u001b[0;36m4\u001b[0m\u001b[0;34m,\u001b[0m \u001b[0;36m5\u001b[0m\u001b[0;34m,\u001b[0m \u001b[0;36m6\u001b[0m\u001b[0;34m,\u001b[0m \u001b[0;36m7\u001b[0m\u001b[0;34m,\u001b[0m \u001b[0;36m8\u001b[0m\u001b[0;34m,\u001b[0m \u001b[0;36m9\u001b[0m\u001b[0;34m]\u001b[0m\u001b[0;34m\u001b[0m\u001b[0;34m\u001b[0m\u001b[0m\n\u001b[1;32m      3\u001b[0m \u001b[0;34m\u001b[0m\u001b[0m\n\u001b[0;32m----> 4\u001b[0;31m \u001b[0mdata\u001b[0m\u001b[0;34m.\u001b[0m\u001b[0mmean\u001b[0m\u001b[0;34m(\u001b[0m\u001b[0;34m)\u001b[0m\u001b[0;34m\u001b[0m\u001b[0;34m\u001b[0m\u001b[0m\n\u001b[0m",
            "\u001b[0;31mAttributeError\u001b[0m: 'list' object has no attribute 'mean'"
          ]
        }
      ]
    },
    {
      "cell_type": "code",
      "metadata": {
        "colab": {
          "base_uri": "https://localhost:8080/"
        },
        "id": "IkXVTzgYM7fi",
        "outputId": "97eafe78-8e8e-47d0-bee1-28147484f9d9"
      },
      "source": [
        "mean_val = sum(data)/len(data)\n",
        "mean_val"
      ],
      "execution_count": null,
      "outputs": [
        {
          "output_type": "execute_result",
          "data": {
            "text/plain": [
              "4.5"
            ]
          },
          "metadata": {},
          "execution_count": 21
        }
      ]
    },
    {
      "cell_type": "code",
      "metadata": {
        "colab": {
          "base_uri": "https://localhost:8080/"
        },
        "id": "sEAKXlN1K59k",
        "outputId": "e00870ce-c5c7-423c-835e-64d85ec24a45"
      },
      "source": [
        "data = np.array(data)\n",
        "data.mean()"
      ],
      "execution_count": null,
      "outputs": [
        {
          "output_type": "execute_result",
          "data": {
            "text/plain": [
              "4.5"
            ]
          },
          "metadata": {},
          "execution_count": 22
        }
      ]
    },
    {
      "cell_type": "code",
      "metadata": {
        "colab": {
          "base_uri": "https://localhost:8080/"
        },
        "id": "yCOE6wq518SZ",
        "outputId": "cfa96cb2-f2e5-48e1-e554-3c9aaad7d10b"
      },
      "source": [
        "data = [0, 1, 2, 3, 4, 5, 6, 7, 8, 9]\n",
        "answer = []\n",
        "for di in data:\n",
        "    answer.append(2 * di)\n",
        "answer"
      ],
      "execution_count": null,
      "outputs": [
        {
          "output_type": "execute_result",
          "data": {
            "text/plain": [
              "[0, 2, 4, 6, 8, 10, 12, 14, 16, 18]"
            ]
          },
          "metadata": {},
          "execution_count": 23
        }
      ]
    },
    {
      "cell_type": "code",
      "metadata": {
        "colab": {
          "base_uri": "https://localhost:8080/"
        },
        "id": "BbGkAr3R2C1W",
        "outputId": "9cf7bc86-dd77-40ee-c7f6-307729420f12"
      },
      "source": [
        "x = np.array(data)\n",
        "x\n"
      ],
      "execution_count": null,
      "outputs": [
        {
          "output_type": "execute_result",
          "data": {
            "text/plain": [
              "array([0, 1, 2, 3, 4, 5, 6, 7, 8, 9])"
            ]
          },
          "metadata": {},
          "execution_count": 24
        }
      ]
    },
    {
      "cell_type": "markdown",
      "metadata": {
        "id": "TonZce5r2XMN"
      },
      "source": [
        "* for 반복문 없이 한번의 연산으로 결과를 얻을 수 있음"
      ]
    },
    {
      "cell_type": "code",
      "metadata": {
        "colab": {
          "base_uri": "https://localhost:8080/"
        },
        "id": "Ui_i0EEq2MKf",
        "outputId": "3f81fe7c-3e97-43fe-8c0c-3528cf94680b"
      },
      "source": [
        "y = 2 * x\n",
        "y"
      ],
      "execution_count": null,
      "outputs": [
        {
          "output_type": "execute_result",
          "data": {
            "text/plain": [
              "array([ 0,  2,  4,  6,  8, 10, 12, 14, 16, 18])"
            ]
          },
          "metadata": {},
          "execution_count": 25
        }
      ]
    },
    {
      "cell_type": "code",
      "metadata": {
        "colab": {
          "base_uri": "https://localhost:8080/"
        },
        "id": "6YWVC3NU2iS8",
        "outputId": "7b2ed96e-243d-4e3d-a234-9a917a14ffa8"
      },
      "source": [
        "a = np.array([1, 2, 3])\n",
        "b = np.array([10, 20, 30])\n",
        "c = 2 * a + b\n",
        "c"
      ],
      "execution_count": null,
      "outputs": [
        {
          "output_type": "execute_result",
          "data": {
            "text/plain": [
              "array([12, 24, 36])"
            ]
          },
          "metadata": {},
          "execution_count": 26
        }
      ]
    },
    {
      "cell_type": "markdown",
      "metadata": {
        "id": "XPbU5ej1NU2G"
      },
      "source": [
        "* 배열의 sqrt 를 구한다"
      ]
    },
    {
      "cell_type": "code",
      "metadata": {
        "colab": {
          "base_uri": "https://localhost:8080/"
        },
        "id": "JrJkECnSNc3R",
        "outputId": "89eb58d8-c3e4-4352-b141-9278ab0a9e9c"
      },
      "source": [
        "b = np.array([10, 20, 30])\n",
        "np.sqrt(b)"
      ],
      "execution_count": null,
      "outputs": [
        {
          "output_type": "execute_result",
          "data": {
            "text/plain": [
              "array([3.16227766, 4.47213595, 5.47722558])"
            ]
          },
          "metadata": {},
          "execution_count": 27
        }
      ]
    },
    {
      "cell_type": "markdown",
      "metadata": {
        "id": "oQvruKgAtxOu"
      },
      "source": [
        "## 배열 array의 형태 확인\n",
        "* shape,  해당 array의 크기 정보 제공 \n",
        "* dtype, 저장되는 자료의 자료형 확인 (astype() 으로 변경) \n"
      ]
    },
    {
      "cell_type": "code",
      "metadata": {
        "colab": {
          "base_uri": "https://localhost:8080/"
        },
        "id": "JemsxW6yEaOs",
        "outputId": "7677672e-0e09-408d-91b8-416a24b30271"
      },
      "source": [
        " # 생성된 numpy 배열의 자료형을 확인한다  \n",
        " x = np.array([1, 2, 3])\n",
        " type(x)"
      ],
      "execution_count": null,
      "outputs": [
        {
          "output_type": "execute_result",
          "data": {
            "text/plain": [
              "numpy.ndarray"
            ]
          },
          "metadata": {},
          "execution_count": 28
        }
      ]
    },
    {
      "cell_type": "code",
      "metadata": {
        "colab": {
          "base_uri": "https://localhost:8080/"
        },
        "id": "aDUXncy9t0-P",
        "outputId": "80a6bff5-1994-4392-fd73-fd98db3895de"
      },
      "source": [
        "x.dtype"
      ],
      "execution_count": null,
      "outputs": [
        {
          "output_type": "execute_result",
          "data": {
            "text/plain": [
              "dtype('int64')"
            ]
          },
          "metadata": {},
          "execution_count": 27
        }
      ]
    },
    {
      "cell_type": "code",
      "metadata": {
        "colab": {
          "base_uri": "https://localhost:8080/"
        },
        "id": "DHfvQjlqKnVs",
        "outputId": "bc0564fb-24a2-4c77-a46e-f0632d1d1b28"
      },
      "source": [
        "x.ndim"
      ],
      "execution_count": null,
      "outputs": [
        {
          "output_type": "execute_result",
          "data": {
            "text/plain": [
              "1"
            ]
          },
          "metadata": {},
          "execution_count": 29
        }
      ]
    },
    {
      "cell_type": "code",
      "metadata": {
        "colab": {
          "base_uri": "https://localhost:8080/"
        },
        "id": "1_IGfwE5uS2L",
        "outputId": "b3b4f836-c055-47ea-d5c2-4d8593c5363e"
      },
      "source": [
        "x.shape\n",
        "#print (x.shape[0])"
      ],
      "execution_count": null,
      "outputs": [
        {
          "output_type": "stream",
          "name": "stdout",
          "text": [
            "3\n"
          ]
        }
      ]
    },
    {
      "cell_type": "code",
      "metadata": {
        "colab": {
          "base_uri": "https://localhost:8080/"
        },
        "id": "Q1C1DhyZ90l1",
        "outputId": "4e20cfc1-e85c-4a65-b39b-daa424d973e4"
      },
      "source": [
        "x.size"
      ],
      "execution_count": null,
      "outputs": [
        {
          "output_type": "execute_result",
          "data": {
            "text/plain": [
              "3"
            ]
          },
          "metadata": {},
          "execution_count": 31
        }
      ]
    },
    {
      "cell_type": "markdown",
      "metadata": {
        "id": "hUwXqRNG_O0u"
      },
      "source": [
        "**(실습)**1행 3열 벡터로 배열정의"
      ]
    },
    {
      "cell_type": "code",
      "metadata": {
        "colab": {
          "base_uri": "https://localhost:8080/"
        },
        "id": "4EklTv9r-07z",
        "outputId": "19dd8b9b-ad94-4940-c330-796c2e243be1"
      },
      "source": [
        "d=np.array([[2,3,4]]) #이중 괄호를 사용 2차원 배열을 구성함\n",
        "print(d)\n",
        "(d.ndim, d.shape, d.size) "
      ],
      "execution_count": null,
      "outputs": [
        {
          "output_type": "stream",
          "name": "stdout",
          "text": [
            "[[2 3 4]]\n"
          ]
        },
        {
          "output_type": "execute_result",
          "data": {
            "text/plain": [
              "(2, (1, 3), 3)"
            ]
          },
          "metadata": {},
          "execution_count": 33
        }
      ]
    },
    {
      "cell_type": "markdown",
      "metadata": {
        "id": "N2Dc6phWoSDl"
      },
      "source": [
        "(실습) 배열 a의 차원 및 배열의 크기를 얻음"
      ]
    },
    {
      "cell_type": "code",
      "metadata": {
        "colab": {
          "base_uri": "https://localhost:8080/"
        },
        "id": "BYNFcI_foKjt",
        "outputId": "6e824e2c-165c-4371-ecc0-f888c393d0e0"
      },
      "source": [
        "a = np.array([1, 2, 3])\n",
        "print(a.ndim)\n",
        "print(a.shape)"
      ],
      "execution_count": null,
      "outputs": [
        {
          "output_type": "stream",
          "name": "stdout",
          "text": [
            "1\n",
            "(3,)\n"
          ]
        }
      ]
    },
    {
      "cell_type": "code",
      "metadata": {
        "id": "ySvzCwSgFe7t"
      },
      "source": [
        "def pprint(arr):\n",
        "    print(\"type:{}\".format(type(arr)))\n",
        "    print(\"형태: {}, 차원: {}, 자료형:{}\".format(arr.shape, arr.ndim, arr.dtype))\n",
        "    print(\"배열 자료:\\n\", arr)"
      ],
      "execution_count": null,
      "outputs": []
    },
    {
      "cell_type": "code",
      "metadata": {
        "colab": {
          "base_uri": "https://localhost:8080/"
        },
        "id": "7YtvUQDI9-hb",
        "outputId": "49b2bdb6-1b80-4750-e568-693563e62333"
      },
      "source": [
        "arr = np.array([1, 2, 3], dtype=np.int64)\n",
        "pprint (arr)"
      ],
      "execution_count": null,
      "outputs": [
        {
          "output_type": "stream",
          "name": "stdout",
          "text": [
            "type:<class 'numpy.ndarray'>\n",
            "형태: (3,), 차원: 1, 자료형:int64\n",
            "배열 자료:\n",
            " [1 2 3]\n"
          ]
        }
      ]
    },
    {
      "cell_type": "markdown",
      "metadata": {
        "id": "ks7KEMGkfbhW"
      },
      "source": [
        "**(실습)** 2행 3열  배열정의\n",
        "\n"
      ]
    },
    {
      "cell_type": "code",
      "metadata": {
        "colab": {
          "base_uri": "https://localhost:8080/",
          "height": 184
        },
        "id": "rikBgPltf1_1",
        "outputId": "b6590da2-8498-4ce5-bfe9-bc5d8f7379c2"
      },
      "source": [
        "# 2차원 배열의 경우 행 단위로 배열 내용이 구성되어야 함\n",
        "d=np.array([1,2,3], [4,5,6])"
      ],
      "execution_count": null,
      "outputs": [
        {
          "output_type": "error",
          "ename": "TypeError",
          "evalue": "ignored",
          "traceback": [
            "\u001b[0;31m---------------------------------------------------------------------------\u001b[0m",
            "\u001b[0;31mTypeError\u001b[0m                                 Traceback (most recent call last)",
            "\u001b[0;32m<ipython-input-40-ffa5c86a977f>\u001b[0m in \u001b[0;36m<module>\u001b[0;34m()\u001b[0m\n\u001b[1;32m      1\u001b[0m \u001b[0;31m# 2차원 배열의 경우 행 단위로 배열 내용이 구성되어야 함\u001b[0m\u001b[0;34m\u001b[0m\u001b[0;34m\u001b[0m\u001b[0;34m\u001b[0m\u001b[0m\n\u001b[0;32m----> 2\u001b[0;31m \u001b[0md\u001b[0m\u001b[0;34m=\u001b[0m\u001b[0mnp\u001b[0m\u001b[0;34m.\u001b[0m\u001b[0marray\u001b[0m\u001b[0;34m(\u001b[0m\u001b[0;34m[\u001b[0m\u001b[0;36m1\u001b[0m\u001b[0;34m,\u001b[0m\u001b[0;36m2\u001b[0m\u001b[0;34m,\u001b[0m\u001b[0;36m3\u001b[0m\u001b[0;34m]\u001b[0m\u001b[0;34m,\u001b[0m \u001b[0;34m[\u001b[0m\u001b[0;36m4\u001b[0m\u001b[0;34m,\u001b[0m\u001b[0;36m5\u001b[0m\u001b[0;34m,\u001b[0m\u001b[0;36m6\u001b[0m\u001b[0;34m]\u001b[0m\u001b[0;34m)\u001b[0m\u001b[0;34m\u001b[0m\u001b[0;34m\u001b[0m\u001b[0m\n\u001b[0m",
            "\u001b[0;31mTypeError\u001b[0m: Field elements must be 2- or 3-tuples, got '4'"
          ]
        }
      ]
    },
    {
      "cell_type": "code",
      "metadata": {
        "id": "z2M8-LW1fBH2",
        "colab": {
          "base_uri": "https://localhost:8080/"
        },
        "outputId": "6c77c6a3-cbfc-4e3e-86cd-8fcc2ac23683"
      },
      "source": [
        "d=np.array([[1,2,3], [4,5,6]]) #이중 괄호를 사용\n",
        "pprint (d)"
      ],
      "execution_count": null,
      "outputs": [
        {
          "output_type": "stream",
          "name": "stdout",
          "text": [
            "type:<class 'numpy.ndarray'>\n",
            "형태: (2, 3), 차원: 2, 자료형:int64\n",
            "배열 자료:\n",
            " [[1 2 3]\n",
            " [4 5 6]]\n"
          ]
        }
      ]
    },
    {
      "cell_type": "code",
      "source": [
        "arr = np.array([1,2,3,4,5])\n",
        "np.median(arr)"
      ],
      "metadata": {
        "colab": {
          "base_uri": "https://localhost:8080/"
        },
        "id": "Vpbso__bt2xw",
        "outputId": "b915031d-c38d-4be0-edc5-fa48c2925627"
      },
      "execution_count": null,
      "outputs": [
        {
          "output_type": "execute_result",
          "data": {
            "text/plain": [
              "3.0"
            ]
          },
          "metadata": {},
          "execution_count": 41
        }
      ]
    },
    {
      "cell_type": "markdown",
      "metadata": {
        "id": "0z8DjKMJu2l-"
      },
      "source": [
        "### 배열 생성 및 초기화\n",
        "* np.zeros()\n",
        "* np.ones()\n",
        "* np.full()\n",
        "* np.eyes()\n",
        "* np.arange()\n",
        "* np.linspace()"
      ]
    },
    {
      "cell_type": "code",
      "metadata": {
        "colab": {
          "base_uri": "https://localhost:8080/"
        },
        "id": "-9kHmkpBvERd",
        "outputId": "8233b50c-b5fd-47f2-fae2-c79e7f3d1fa3"
      },
      "source": [
        "arr = np.zeros(10)\n",
        "arr"
      ],
      "execution_count": null,
      "outputs": [
        {
          "output_type": "execute_result",
          "data": {
            "text/plain": [
              "array([0., 0., 0., 0., 0., 0., 0., 0., 0., 0.])"
            ]
          },
          "metadata": {},
          "execution_count": 42
        }
      ]
    },
    {
      "cell_type": "code",
      "source": [
        "pprint(arr)"
      ],
      "metadata": {
        "colab": {
          "base_uri": "https://localhost:8080/"
        },
        "id": "CE1upzcLuYg5",
        "outputId": "394995f2-28cb-4175-a8f6-5d6a33fd478a"
      },
      "execution_count": null,
      "outputs": [
        {
          "output_type": "stream",
          "name": "stdout",
          "text": [
            "type:<class 'numpy.ndarray'>\n",
            "형태: (10,), 차원: 1, 자료형:float64\n",
            "배열 자료:\n",
            " [0. 0. 0. 0. 0. 0. 0. 0. 0. 0.]\n"
          ]
        }
      ]
    },
    {
      "cell_type": "code",
      "metadata": {
        "colab": {
          "base_uri": "https://localhost:8080/"
        },
        "id": "r_rUZP4TvNxm",
        "outputId": "59e73986-5958-4152-c793-8f6bf6207798"
      },
      "source": [
        "arr1 = np.zeros((3,5))\n",
        "pprint(arr1)"
      ],
      "execution_count": null,
      "outputs": [
        {
          "output_type": "stream",
          "name": "stdout",
          "text": [
            "type:<class 'numpy.ndarray'>\n",
            "형태: (3, 5), 차원: 2, 자료형:float64\n",
            "배열 자료:\n",
            " [[0. 0. 0. 0. 0.]\n",
            " [0. 0. 0. 0. 0.]\n",
            " [0. 0. 0. 0. 0.]]\n"
          ]
        }
      ]
    },
    {
      "cell_type": "code",
      "metadata": {
        "colab": {
          "base_uri": "https://localhost:8080/"
        },
        "id": "wwhs6taN7ZEH",
        "outputId": "88faf727-f44a-42f8-8399-6c3734e6e248"
      },
      "source": [
        "# 3 행 2열의 2차원 배열\n",
        "arr = np.zeros(shape=(3,2))\n",
        "print (arr)"
      ],
      "execution_count": null,
      "outputs": [
        {
          "output_type": "stream",
          "name": "stdout",
          "text": [
            "[[0. 0.]\n",
            " [0. 0.]\n",
            " [0. 0.]]\n"
          ]
        }
      ]
    },
    {
      "cell_type": "code",
      "metadata": {
        "colab": {
          "base_uri": "https://localhost:8080/"
        },
        "id": "naC3yK7CBxa9",
        "outputId": "e12b649b-9583-454a-d153-0282aebbbe3f"
      },
      "source": [
        "np.ones(9)"
      ],
      "execution_count": null,
      "outputs": [
        {
          "output_type": "execute_result",
          "data": {
            "text/plain": [
              "array([1., 1., 1., 1., 1., 1., 1., 1., 1.])"
            ]
          },
          "metadata": {},
          "execution_count": 67
        }
      ]
    },
    {
      "cell_type": "code",
      "metadata": {
        "id": "tpGwRjAUB5DD",
        "colab": {
          "base_uri": "https://localhost:8080/"
        },
        "outputId": "69f0622d-f773-44d7-d295-4106c894d9fd"
      },
      "source": [
        "arr = np.ones((2,5))\n",
        "pprint (arr)"
      ],
      "execution_count": null,
      "outputs": [
        {
          "output_type": "stream",
          "name": "stdout",
          "text": [
            "type:<class 'numpy.ndarray'>\n",
            "형태: (2, 5), 차원: 2, 자료형:float64\n",
            "배열 자료:\n",
            " [[1. 1. 1. 1. 1.]\n",
            " [1. 1. 1. 1. 1.]]\n"
          ]
        }
      ]
    },
    {
      "cell_type": "code",
      "metadata": {
        "colab": {
          "base_uri": "https://localhost:8080/"
        },
        "id": "zT8OUD_J60xL",
        "outputId": "94614e43-330b-40ba-b84f-a40605d0d121"
      },
      "source": [
        "a = np.full((2,3), 5)\n",
        "a"
      ],
      "execution_count": null,
      "outputs": [
        {
          "output_type": "execute_result",
          "data": {
            "text/plain": [
              "array([[5, 5, 5],\n",
              "       [5, 5, 5]])"
            ]
          },
          "metadata": {},
          "execution_count": 30
        }
      ]
    },
    {
      "cell_type": "code",
      "metadata": {
        "colab": {
          "base_uri": "https://localhost:8080/"
        },
        "id": "0V1oNoKM74LV",
        "outputId": "a14fb7cc-aad8-47ee-985e-80de2b69200f"
      },
      "source": [
        "# 3 x 3 대각행렬\n",
        "a = np.eye(3, dtype = int)\n",
        "a"
      ],
      "execution_count": null,
      "outputs": [
        {
          "output_type": "execute_result",
          "data": {
            "text/plain": [
              "array([[1, 0, 0],\n",
              "       [0, 1, 0],\n",
              "       [0, 0, 1]])"
            ]
          },
          "metadata": {},
          "execution_count": 46
        }
      ]
    },
    {
      "cell_type": "code",
      "source": [
        "pprint (a)"
      ],
      "metadata": {
        "colab": {
          "base_uri": "https://localhost:8080/"
        },
        "id": "KoIjH5qMwhB6",
        "outputId": "d060a53e-7ff7-448f-b923-2db6e515fb0e"
      },
      "execution_count": null,
      "outputs": [
        {
          "output_type": "stream",
          "name": "stdout",
          "text": [
            "type:<class 'numpy.ndarray'>\n",
            "형태: (3, 3), 차원: 2, 자료형:int64\n",
            "배열 자료:\n",
            " [[1 0 0]\n",
            " [0 1 0]\n",
            " [0 0 1]]\n"
          ]
        }
      ]
    },
    {
      "cell_type": "code",
      "metadata": {
        "colab": {
          "base_uri": "https://localhost:8080/"
        },
        "id": "hZj6H4sA8XU-",
        "outputId": "5877c3af-2b2e-4f36-d511-cadd6a9f4fd4"
      },
      "source": [
        "# 명시된 간격으로 균등하게 분할된 값을 반환\n",
        "a = np.linspace(2.0, 3.0, num=10)\n",
        "a"
      ],
      "execution_count": null,
      "outputs": [
        {
          "output_type": "execute_result",
          "data": {
            "text/plain": [
              "array([2.        , 2.11111111, 2.22222222, 2.33333333, 2.44444444,\n",
              "       2.55555556, 2.66666667, 2.77777778, 2.88888889, 3.        ])"
            ]
          },
          "metadata": {},
          "execution_count": 23
        }
      ]
    },
    {
      "cell_type": "code",
      "metadata": {
        "colab": {
          "base_uri": "https://localhost:8080/"
        },
        "id": "gz6P95FT7Dbj",
        "outputId": "44af98c1-ee79-4f6d-c817-4d92c4bda480"
      },
      "source": [
        "#행단위로 값을 지정\n",
        "for i in range(3):\n",
        "    arr [i] = (i, i)\n",
        "\n",
        "print (arr)"
      ],
      "execution_count": null,
      "outputs": [
        {
          "output_type": "stream",
          "name": "stdout",
          "text": [
            "[[0. 0.]\n",
            " [1. 1.]\n",
            " [2. 2.]]\n"
          ]
        }
      ]
    },
    {
      "cell_type": "markdown",
      "metadata": {
        "id": "zHUU188yg05m"
      },
      "source": [
        "## 배열 자료형 변경\n",
        "\n",
        "\n"
      ]
    },
    {
      "cell_type": "code",
      "metadata": {
        "colab": {
          "base_uri": "https://localhost:8080/"
        },
        "id": "RKrSkTQBgsM2",
        "outputId": "37356493-3e66-4555-ba6d-0f7e9af53af6"
      },
      "source": [
        "# numpy 배열은 동종 배열(homogeneous array) 임\n",
        "int_array = np.arange(5) \n",
        "pprint (int_array) \n",
        "int_array[0] = 3.0\n",
        "pprint (int_array) \n",
        "float_array = int_array.astype(float) # float로 자료형 변경\n",
        "print (\"dtype \", float_array.dtype)\n",
        "\n",
        "float_array[0] = 3\n",
        "\n",
        "pprint (float_array)"
      ],
      "execution_count": null,
      "outputs": [
        {
          "output_type": "stream",
          "name": "stdout",
          "text": [
            "type:<class 'numpy.ndarray'>\n",
            "형태: (5,), 차원: 1, 자료형:int64\n",
            "배열 자료:\n",
            " [0 1 2 3 4]\n",
            "type:<class 'numpy.ndarray'>\n",
            "형태: (5,), 차원: 1, 자료형:int64\n",
            "배열 자료:\n",
            " [3 1 2 3 4]\n",
            "dtype  float64\n",
            "type:<class 'numpy.ndarray'>\n",
            "형태: (5,), 차원: 1, 자료형:float64\n",
            "배열 자료:\n",
            " [3. 1. 2. 3. 4.]\n"
          ]
        }
      ]
    },
    {
      "cell_type": "markdown",
      "metadata": {
        "id": "MXXMbJYuo1jK"
      },
      "source": [
        "\n",
        "\n",
        "\n",
        "##**배열의 인덱싱**\n",
        "\n",
        "* 일차원 배열의 인덱싱은 리스트의 인덱싱과 같다\n",
        "* 인덱싱 처리로 생성된 모든 배열은 원본 배열의 뷰(view) 이다 \n",
        "> 뷰는 원본배열 객체를 인덱싱하여 자른 후 생성된 배열임"
      ]
    },
    {
      "cell_type": "code",
      "metadata": {
        "id": "YNSv89BposjJ",
        "colab": {
          "base_uri": "https://localhost:8080/"
        },
        "outputId": "d832d4a9-7b59-42e2-c0ff-d2fcdd8da60e"
      },
      "source": [
        "import numpy as np\n",
        "\n",
        "a = np.array([0, 1, 2, 3, 4, 5])\n",
        "a"
      ],
      "execution_count": null,
      "outputs": [
        {
          "output_type": "execute_result",
          "data": {
            "text/plain": [
              "array([0, 1, 2, 3, 4, 5])"
            ]
          },
          "metadata": {},
          "execution_count": 53
        }
      ]
    },
    {
      "cell_type": "code",
      "metadata": {
        "colab": {
          "base_uri": "https://localhost:8080/"
        },
        "id": "LQ2Lfw2eouSy",
        "outputId": "71dcf30b-d3aa-4b70-d3f9-1a62ed9cc06e"
      },
      "source": [
        "a[2]"
      ],
      "execution_count": null,
      "outputs": [
        {
          "output_type": "execute_result",
          "data": {
            "text/plain": [
              "2"
            ]
          },
          "metadata": {},
          "execution_count": 54
        }
      ]
    },
    {
      "cell_type": "code",
      "metadata": {
        "colab": {
          "base_uri": "https://localhost:8080/"
        },
        "id": "Idv4dbSMoyyK",
        "outputId": "757b8852-2f34-4577-dd68-4bb59d107e0b"
      },
      "source": [
        "a[-1]"
      ],
      "execution_count": null,
      "outputs": [
        {
          "output_type": "execute_result",
          "data": {
            "text/plain": [
              "5"
            ]
          },
          "metadata": {},
          "execution_count": 55
        }
      ]
    },
    {
      "cell_type": "code",
      "source": [
        "a[-3:5] # 배열의 마지막요소(-1) 5의 전의 값을 접근함 "
      ],
      "metadata": {
        "colab": {
          "base_uri": "https://localhost:8080/"
        },
        "id": "5OJIKt1-97LS",
        "outputId": "93f6a33e-8b15-4dcc-cad0-75627e2394bc"
      },
      "execution_count": null,
      "outputs": [
        {
          "output_type": "execute_result",
          "data": {
            "text/plain": [
              "array([3, 4])"
            ]
          },
          "metadata": {},
          "execution_count": 56
        }
      ]
    },
    {
      "cell_type": "code",
      "metadata": {
        "colab": {
          "base_uri": "https://localhost:8080/"
        },
        "id": "wbRBT7fQ_66G",
        "outputId": "69908271-cf21-4e77-9f4b-be75c522c0b1"
      },
      "source": [
        "a[1:]"
      ],
      "execution_count": null,
      "outputs": [
        {
          "output_type": "execute_result",
          "data": {
            "text/plain": [
              "array([1, 2, 3, 4, 5])"
            ]
          },
          "metadata": {},
          "execution_count": 57
        }
      ]
    },
    {
      "cell_type": "code",
      "source": [
        "a[::2]"
      ],
      "metadata": {
        "colab": {
          "base_uri": "https://localhost:8080/"
        },
        "id": "HjDol_Og9e7Q",
        "outputId": "7ba517fa-73a2-4cae-9479-80afed758dfd"
      },
      "execution_count": null,
      "outputs": [
        {
          "output_type": "execute_result",
          "data": {
            "text/plain": [
              "array([0, 2, 4])"
            ]
          },
          "metadata": {},
          "execution_count": 58
        }
      ]
    },
    {
      "cell_type": "markdown",
      "metadata": {
        "id": "KAylgCVupJf9"
      },
      "source": [
        "다차원 배열\n",
        "* 콤마(comma ,)를 사용하여 배열값 접근\n",
        "* 콤마로 구분된 차원을 축(axis)이라고도 함  \n",
        "> reshape() 함수를 사용항여 2차원 배열로 구성할 수 있음"
      ]
    },
    {
      "cell_type": "code",
      "source": [
        "# reshape() 함수는 데이터 개수를 유지하지만 배열의 차원과 형태를 변경함 \n",
        "\n",
        "a = np.arange(25)\n",
        "pprint(a)\n",
        "b = a.reshape(5,5)\n",
        "pprint(b)\n"
      ],
      "metadata": {
        "colab": {
          "base_uri": "https://localhost:8080/"
        },
        "id": "J1m5jMZxzyFh",
        "outputId": "d7841c0e-c99b-4885-fd68-93aa830124fe"
      },
      "execution_count": null,
      "outputs": [
        {
          "output_type": "stream",
          "name": "stdout",
          "text": [
            "type:<class 'numpy.ndarray'>\n",
            "형태: (25,), 차원: 1, 자료형:int64\n",
            "배열 자료:\n",
            " [ 0  1  2  3  4  5  6  7  8  9 10 11 12 13 14 15 16 17 18 19 20 21 22 23\n",
            " 24]\n",
            "type:<class 'numpy.ndarray'>\n",
            "형태: (5, 5), 차원: 2, 자료형:int64\n",
            "배열 자료:\n",
            " [[ 0  1  2  3  4]\n",
            " [ 5  6  7  8  9]\n",
            " [10 11 12 13 14]\n",
            " [15 16 17 18 19]\n",
            " [20 21 22 23 24]]\n"
          ]
        }
      ]
    },
    {
      "cell_type": "code",
      "metadata": {
        "colab": {
          "base_uri": "https://localhost:8080/"
        },
        "id": "MHZf-TWHpMnS",
        "outputId": "db1836de-82a8-4fd7-e3b4-fa1c65f19541"
      },
      "source": [
        "a = np.arange(25).reshape(5,5) # 4 x 8 안됨\n",
        "a"
      ],
      "execution_count": null,
      "outputs": [
        {
          "output_type": "execute_result",
          "data": {
            "text/plain": [
              "array([[ 0,  1,  2,  3,  4],\n",
              "       [ 5,  6,  7,  8,  9],\n",
              "       [10, 11, 12, 13, 14],\n",
              "       [15, 16, 17, 18, 19],\n",
              "       [20, 21, 22, 23, 24]])"
            ]
          },
          "metadata": {},
          "execution_count": 63
        }
      ]
    },
    {
      "cell_type": "markdown",
      "source": [
        "(실습) 1에서 40의 자료값을 갖는 배열을 생성한후 5 x 8 의 2차원 배열로 구성하시오"
      ],
      "metadata": {
        "id": "S6qzP72VUNrK"
      }
    },
    {
      "cell_type": "code",
      "source": [
        "a = np.arange(1, 41).reshape(5, 8)\n",
        "pprint(a)"
      ],
      "metadata": {
        "id": "pT31E69gUbYF",
        "colab": {
          "base_uri": "https://localhost:8080/"
        },
        "outputId": "d81b4359-c27f-466d-803e-54ece9d98c01"
      },
      "execution_count": null,
      "outputs": [
        {
          "output_type": "stream",
          "name": "stdout",
          "text": [
            "type:<class 'numpy.ndarray'>\n",
            "형태: (5, 8), 차원: 2, 자료형:int64\n",
            "배열 자료:\n",
            " [[ 1  2  3  4  5  6  7  8]\n",
            " [ 9 10 11 12 13 14 15 16]\n",
            " [17 18 19 20 21 22 23 24]\n",
            " [25 26 27 28 29 30 31 32]\n",
            " [33 34 35 36 37 38 39 40]]\n"
          ]
        }
      ]
    },
    {
      "cell_type": "code",
      "source": [
        "b = a [1:3, 2:5]\n",
        "b\n",
        "#b.shape"
      ],
      "metadata": {
        "id": "Vgs5TT4I1sii",
        "colab": {
          "base_uri": "https://localhost:8080/"
        },
        "outputId": "a950ef24-c35f-4ce3-f392-b8d22e4bc531"
      },
      "execution_count": null,
      "outputs": [
        {
          "output_type": "execute_result",
          "data": {
            "text/plain": [
              "array([[11, 12, 13],\n",
              "       [19, 20, 21]])"
            ]
          },
          "metadata": {},
          "execution_count": 65
        }
      ]
    },
    {
      "cell_type": "code",
      "metadata": {
        "colab": {
          "base_uri": "https://localhost:8080/"
        },
        "id": "xXJQ0s9icdP7",
        "outputId": "d73628dc-6c29-44ce-adfb-2587eae60947"
      },
      "source": [
        "a[1:3, 1:4]"
      ],
      "execution_count": null,
      "outputs": [
        {
          "output_type": "execute_result",
          "data": {
            "text/plain": [
              "array([[10, 11, 12],\n",
              "       [18, 19, 20]])"
            ]
          },
          "metadata": {},
          "execution_count": 69
        }
      ]
    },
    {
      "cell_type": "code",
      "metadata": {
        "colab": {
          "base_uri": "https://localhost:8080/"
        },
        "id": "grETurMRpQYE",
        "outputId": "6015ddfc-2de5-4646-b6d1-98c9b890035b"
      },
      "source": [
        "a[0, 0]  # 첫번째 행의 첫번째 열, x 와 y 좌료로 이해할 수 있음"
      ],
      "execution_count": null,
      "outputs": [
        {
          "output_type": "execute_result",
          "data": {
            "text/plain": [
              "1"
            ]
          },
          "metadata": {},
          "execution_count": 66
        }
      ]
    },
    {
      "cell_type": "code",
      "metadata": {
        "colab": {
          "base_uri": "https://localhost:8080/"
        },
        "id": "z1rC0nWrGNLr",
        "outputId": "ac825c98-7548-44ac-a35d-9bb822babb0f"
      },
      "source": [
        "a[0][0]"
      ],
      "execution_count": null,
      "outputs": [
        {
          "output_type": "execute_result",
          "data": {
            "text/plain": [
              "1"
            ]
          },
          "metadata": {},
          "execution_count": 67
        }
      ]
    },
    {
      "cell_type": "code",
      "metadata": {
        "colab": {
          "base_uri": "https://localhost:8080/"
        },
        "id": "UgXEUHz9GW5J",
        "outputId": "f968167a-ec42-476d-e486-1e7d4b1aeb77"
      },
      "source": [
        "a[0][2] "
      ],
      "execution_count": null,
      "outputs": [
        {
          "output_type": "execute_result",
          "data": {
            "text/plain": [
              "3"
            ]
          },
          "metadata": {},
          "execution_count": 68
        }
      ]
    },
    {
      "cell_type": "code",
      "metadata": {
        "colab": {
          "base_uri": "https://localhost:8080/"
        },
        "id": "Prl4WRseGcK-",
        "outputId": "6fc7be9c-c022-4320-c41c-07cef0cbd5f1"
      },
      "source": [
        "a[0,2]"
      ],
      "execution_count": null,
      "outputs": [
        {
          "output_type": "execute_result",
          "data": {
            "text/plain": [
              "3"
            ]
          },
          "metadata": {},
          "execution_count": 69
        }
      ]
    },
    {
      "cell_type": "code",
      "metadata": {
        "colab": {
          "base_uri": "https://localhost:8080/"
        },
        "id": "cWV_p4tMpd92",
        "outputId": "d6fb300e-e4aa-4d69-b832-857aabc0ea61"
      },
      "source": [
        "a[-1, -1]  # 마지막 행의 마지막 열"
      ],
      "execution_count": null,
      "outputs": [
        {
          "output_type": "execute_result",
          "data": {
            "text/plain": [
              "40"
            ]
          },
          "metadata": {},
          "execution_count": 72
        }
      ]
    },
    {
      "cell_type": "markdown",
      "metadata": {
        "id": "TSdfz78WpyMt"
      },
      "source": [
        "**배열 슬라이싱 (2차원배열)**"
      ]
    },
    {
      "cell_type": "code",
      "metadata": {
        "colab": {
          "base_uri": "https://localhost:8080/"
        },
        "id": "U9Pz6LSsp0Qi",
        "outputId": "e2202250-0837-4c82-add4-2129582116ed"
      },
      "source": [
        "a = np.array([[0, 1, 2, 3], [4, 5, 6, 7]])\n",
        "a"
      ],
      "execution_count": null,
      "outputs": [
        {
          "output_type": "execute_result",
          "data": {
            "text/plain": [
              "array([[0, 1, 2, 3],\n",
              "       [4, 5, 6, 7]])"
            ]
          },
          "metadata": {},
          "execution_count": 73
        }
      ]
    },
    {
      "cell_type": "code",
      "metadata": {
        "colab": {
          "base_uri": "https://localhost:8080/"
        },
        "id": "uKjugGqLp5fC",
        "outputId": "c5e0604f-8308-45ac-a237-6b6f704b5068"
      },
      "source": [
        "a[0, :]  # 첫번째 행 전체"
      ],
      "execution_count": null,
      "outputs": [
        {
          "output_type": "execute_result",
          "data": {
            "text/plain": [
              "array([0, 1, 2, 3])"
            ]
          },
          "metadata": {},
          "execution_count": 74
        }
      ]
    },
    {
      "cell_type": "code",
      "metadata": {
        "colab": {
          "base_uri": "https://localhost:8080/"
        },
        "id": "Sr2VqgsnqAXO",
        "outputId": "099273ef-1c8e-44ca-a5f6-32599bfae5e5"
      },
      "source": [
        "a[:, 1]  # 두번째 열 전체  "
      ],
      "execution_count": null,
      "outputs": [
        {
          "output_type": "execute_result",
          "data": {
            "text/plain": [
              "array([1, 5])"
            ]
          },
          "metadata": {},
          "execution_count": 10
        }
      ]
    },
    {
      "cell_type": "code",
      "metadata": {
        "colab": {
          "base_uri": "https://localhost:8080/"
        },
        "id": "r7zeKMsGMejM",
        "outputId": "1d8833bd-bc2c-45e9-8613-c37fc633148e"
      },
      "source": [
        "a[1] # 두번째 행 전체"
      ],
      "execution_count": null,
      "outputs": [
        {
          "output_type": "execute_result",
          "data": {
            "text/plain": [
              "array([4, 5, 6, 7])"
            ]
          },
          "metadata": {},
          "execution_count": 75
        }
      ]
    },
    {
      "cell_type": "code",
      "metadata": {
        "colab": {
          "base_uri": "https://localhost:8080/"
        },
        "id": "rDLnIebPqIbq",
        "outputId": "eb1d97a3-5696-45d6-f3af-ad3636d807c0"
      },
      "source": [
        "a[1, 1:]  # 두번째 행의 두번째 열부터 끝열까지"
      ],
      "execution_count": null,
      "outputs": [
        {
          "output_type": "execute_result",
          "data": {
            "text/plain": [
              "array([5, 6, 7])"
            ]
          },
          "metadata": {},
          "execution_count": 76
        }
      ]
    },
    {
      "cell_type": "code",
      "metadata": {
        "colab": {
          "base_uri": "https://localhost:8080/"
        },
        "id": "fsGHcpxsMIeX",
        "outputId": "ee634752-9868-4424-a0f5-dbd5de443f29"
      },
      "source": [
        "print (a[1]) # 두번째 행ㅡ\n",
        "a[1].mean()"
      ],
      "execution_count": null,
      "outputs": [
        {
          "output_type": "stream",
          "name": "stdout",
          "text": [
            "[ 9 10 11 12 13 14 15 16]\n"
          ]
        },
        {
          "output_type": "execute_result",
          "data": {
            "text/plain": [
              "12.5"
            ]
          },
          "metadata": {},
          "execution_count": 70
        }
      ]
    },
    {
      "cell_type": "code",
      "metadata": {
        "colab": {
          "base_uri": "https://localhost:8080/"
        },
        "id": "vw8TYayZMoz9",
        "outputId": "2f5d2224-4cde-45ae-9be2-33cdac64eb45"
      },
      "source": [
        "a.mean() # 배열 a 전체이 평균을 구함"
      ],
      "execution_count": null,
      "outputs": [
        {
          "output_type": "execute_result",
          "data": {
            "text/plain": [
              "20.5"
            ]
          },
          "metadata": {},
          "execution_count": 71
        }
      ]
    },
    {
      "cell_type": "code",
      "metadata": {
        "id": "hjx1JlDHOmY9",
        "colab": {
          "base_uri": "https://localhost:8080/"
        },
        "outputId": "237cea4d-f4ed-438b-dbe1-49abc2662cee"
      },
      "source": [
        "# numpy 배열은 각 차원별로 슬라이스 범위를 지정\n",
        "lst = [\n",
        "[1, 2, 3],\n",
        "[4, 5, 6],\n",
        "[7, 8, 9]\n",
        "]\n",
        "arr = np.array(lst)\n",
        "# 슬라이스\n",
        "a = arr[0:2, 0:2]\n",
        "print(a)\n",
        "# 출력:\n",
        "# [[1 2]\n",
        "# [4 5]]\n"
      ],
      "execution_count": null,
      "outputs": [
        {
          "output_type": "stream",
          "name": "stdout",
          "text": [
            "[[1 2]\n",
            " [4 5]]\n"
          ]
        }
      ]
    },
    {
      "cell_type": "markdown",
      "metadata": {
        "id": "tIWHLdU5Rrs_"
      },
      "source": [
        "## (실습)배열 자료접근 "
      ]
    },
    {
      "cell_type": "code",
      "metadata": {
        "id": "MyscvKbARxJW"
      },
      "source": [
        "m = np.array([[ 0,  1,  2,  3,  4],\n",
        "            [ 5,  6,  7,  8,  9],\n",
        "            [10, 11, 12, 13, 14]])"
      ],
      "execution_count": null,
      "outputs": []
    },
    {
      "cell_type": "markdown",
      "metadata": {
        "id": "qaxWPnFbR1cR"
      },
      "source": [
        "* 이 행렬에서 값 7 을 인덱싱한다.\n",
        "* 이 행렬에서 값 14 을 인덱싱한다.\n",
        "* 이 행렬에서 배열 [6, 7] 을 슬라이싱한다.\n",
        "* 이 행렬에서 배열 [7, 12] 을 슬라이싱한다.\n",
        "* 이 행렬에서 배열 [[3, 4], [8, 9]] 을 슬라이싱한다."
      ]
    },
    {
      "cell_type": "code",
      "metadata": {
        "id": "BTHDersUR1Mj",
        "colab": {
          "base_uri": "https://localhost:8080/"
        },
        "outputId": "787d8429-45c0-4f93-afcf-166992808ef8"
      },
      "source": [
        "m[1, 2]\n",
        "m[-1, -1]\n",
        "m[1, 1:3]\n",
        "m[1:3, 2]\n",
        "#m[0:2, 3:5]"
      ],
      "execution_count": null,
      "outputs": [
        {
          "output_type": "execute_result",
          "data": {
            "text/plain": [
              "array([ 7, 12])"
            ]
          },
          "metadata": {},
          "execution_count": 86
        }
      ]
    },
    {
      "cell_type": "markdown",
      "metadata": {
        "id": "EzjBHU1DN0aX"
      },
      "source": [
        "## **조건처리**\n",
        "* Boolean Indexing\n",
        "* 조건값 자료 추출\n",
        "* 특정조건을 만족하는 값을 추출하여 새로운 배열로 구성함 "
      ]
    },
    {
      "cell_type": "code",
      "source": [
        "import numpy as np\n",
        "\n",
        "A = np.array([4, 7, 3, 4, 2, 8])\n",
        "\n",
        "print(A == 4)"
      ],
      "metadata": {
        "colab": {
          "base_uri": "https://localhost:8080/"
        },
        "id": "LeQTroL4OKBX",
        "outputId": "6fd25c4c-8323-4076-dc7c-b42a30c43c8b"
      },
      "execution_count": null,
      "outputs": [
        {
          "output_type": "stream",
          "name": "stdout",
          "text": [
            "[ True False False  True False False]\n"
          ]
        }
      ]
    },
    {
      "cell_type": "code",
      "source": [
        "print(A < 5)"
      ],
      "metadata": {
        "colab": {
          "base_uri": "https://localhost:8080/"
        },
        "id": "8OZy3AWdORTr",
        "outputId": "0c0b1d1f-4ec5-4437-9375-f71b76ced45c"
      },
      "execution_count": null,
      "outputs": [
        {
          "output_type": "stream",
          "name": "stdout",
          "text": [
            "[ True False  True  True  True False]\n"
          ]
        }
      ]
    },
    {
      "cell_type": "code",
      "source": [
        "# 자료값이 10보다 큰 값을 찾음\n",
        "a = np.arange(15)\n",
        "b = a > 10\n",
        "b"
      ],
      "metadata": {
        "colab": {
          "base_uri": "https://localhost:8080/"
        },
        "id": "merd_gVjhH7x",
        "outputId": "1b86e446-9245-4ee3-f146-a95e7b6af8aa"
      },
      "execution_count": null,
      "outputs": [
        {
          "output_type": "execute_result",
          "data": {
            "text/plain": [
              "array([False, False, False, False, False, False, False, False, False,\n",
              "       False, False,  True,  True,  True,  True])"
            ]
          },
          "metadata": {},
          "execution_count": 19
        }
      ]
    },
    {
      "cell_type": "code",
      "source": [
        "B = np.array([[42,56,89,65],\n",
        "              [99,88,42,12],\n",
        "              [55,42,17,18]])\n",
        "\n",
        "print(B>=42)"
      ],
      "metadata": {
        "colab": {
          "base_uri": "https://localhost:8080/"
        },
        "id": "kEtoxn8jOZq-",
        "outputId": "16b568d7-2715-44a0-925b-1c7410e4fc34"
      },
      "execution_count": null,
      "outputs": [
        {
          "output_type": "stream",
          "name": "stdout",
          "text": [
            "[[ True  True  True  True]\n",
            " [ True  True  True False]\n",
            " [ True  True False False]]\n"
          ]
        }
      ]
    },
    {
      "cell_type": "code",
      "source": [
        "import numpy as np\n",
        "\n",
        "A = np.array([\n",
        "[12, 13, 14, 12, 16, 14, 11, 10,  9],\n",
        "[11, 14, 12, 15, 15, 16, 10, 12, 11],\n",
        "[10, 12, 12, 15, 14, 16, 10, 12, 12],\n",
        "[ 9, 11, 16, 15, 14, 16, 15, 12, 10],\n",
        "[12, 11, 16, 14, 10, 12, 16, 12, 13],\n",
        "[10, 15, 16, 14, 14, 14, 16, 15, 12],\n",
        "[13, 17, 14, 10, 14, 11, 14, 15, 10],\n",
        "[10, 16, 12, 14, 11, 12, 14, 18, 11],\n",
        "[10, 19, 12, 14, 11, 12, 14, 18, 10],\n",
        "[14, 22, 17, 19, 16, 17, 18, 17, 13],\n",
        "[10, 16, 12, 14, 11, 12, 14, 18, 11],\n",
        "[10, 16, 12, 14, 11, 12, 14, 18, 11],\n",
        "[10, 19, 12, 14, 11, 12, 14, 18, 10],\n",
        "[14, 22, 12, 14, 11, 12, 14, 17, 13],\n",
        "[10, 16, 12, 14, 11, 12, 14, 18, 11]])\n",
        "\n",
        "B = A < 15\n",
        "B.astype(np.int)"
      ],
      "metadata": {
        "colab": {
          "base_uri": "https://localhost:8080/"
        },
        "id": "_Vt2PrsNOfID",
        "outputId": "8f942cbc-83d3-4695-a7f3-0cc4a287fa17"
      },
      "execution_count": null,
      "outputs": [
        {
          "output_type": "execute_result",
          "data": {
            "text/plain": [
              "array([[1, 1, 1, 1, 0, 1, 1, 1, 1],\n",
              "       [1, 1, 1, 0, 0, 0, 1, 1, 1],\n",
              "       [1, 1, 1, 0, 1, 0, 1, 1, 1],\n",
              "       [1, 1, 0, 0, 1, 0, 0, 1, 1],\n",
              "       [1, 1, 0, 1, 1, 1, 0, 1, 1],\n",
              "       [1, 0, 0, 1, 1, 1, 0, 0, 1],\n",
              "       [1, 0, 1, 1, 1, 1, 1, 0, 1],\n",
              "       [1, 0, 1, 1, 1, 1, 1, 0, 1],\n",
              "       [1, 0, 1, 1, 1, 1, 1, 0, 1],\n",
              "       [1, 0, 0, 0, 0, 0, 0, 0, 1],\n",
              "       [1, 0, 1, 1, 1, 1, 1, 0, 1],\n",
              "       [1, 0, 1, 1, 1, 1, 1, 0, 1],\n",
              "       [1, 0, 1, 1, 1, 1, 1, 0, 1],\n",
              "       [1, 0, 1, 1, 1, 1, 1, 0, 1],\n",
              "       [1, 0, 1, 1, 1, 1, 1, 0, 1]])"
            ]
          },
          "metadata": {},
          "execution_count": 5
        }
      ]
    },
    {
      "cell_type": "code",
      "metadata": {
        "colab": {
          "base_uri": "https://localhost:8080/"
        },
        "id": "QYUg1TCwInul",
        "outputId": "069d7015-999a-47d5-c2c6-eafb889e335f"
      },
      "source": [
        "a = np.arange(24)\n",
        "pprint (a)\n",
        "print (a[a>3])\n",
        "a[a>3]=3\n",
        "print (a)"
      ],
      "execution_count": null,
      "outputs": [
        {
          "output_type": "stream",
          "name": "stdout",
          "text": [
            "type:<class 'numpy.ndarray'>\n",
            "형태: (24,), 차원: 1, 자료형:int64\n",
            "배열 자료:\n",
            " [ 0  1  2  3  4  5  6  7  8  9 10 11 12 13 14 15 16 17 18 19 20 21 22 23]\n",
            "[ 4  5  6  7  8  9 10 11 12 13 14 15 16 17 18 19 20 21 22 23]\n",
            "[0 1 2 3 3 3 3 3 3 3 3 3 3 3 3 3 3 3 3 3 3 3 3 3]\n"
          ]
        }
      ]
    },
    {
      "cell_type": "code",
      "metadata": {
        "colab": {
          "base_uri": "https://localhost:8080/"
        },
        "id": "rDVyy2toN-z0",
        "outputId": "401e8d15-6ad1-4a6b-8228-b4c451f5fa29"
      },
      "source": [
        "# 자료값이 10보다 큰 값을 추출함\n",
        "a = np.arange(15)\n",
        "b = a[a > 10]\n",
        "b"
      ],
      "execution_count": null,
      "outputs": [
        {
          "output_type": "execute_result",
          "data": {
            "text/plain": [
              "array([11, 12, 13, 14])"
            ]
          },
          "metadata": {},
          "execution_count": 15
        }
      ]
    },
    {
      "cell_type": "code",
      "source": [
        "C = np.array([123,188,190,99,77,88,100])\n",
        "A = np.array([4,7,2,8,6,9,5])\n",
        "\n",
        "R = C[A<=5]\n",
        "print(R)"
      ],
      "metadata": {
        "colab": {
          "base_uri": "https://localhost:8080/"
        },
        "id": "ZwHP2GJzOwts",
        "outputId": "6007acdb-cf2a-4a0b-8481-608fa4900ec0"
      },
      "execution_count": null,
      "outputs": [
        {
          "output_type": "stream",
          "name": "stdout",
          "text": [
            "[123 190 100]\n"
          ]
        }
      ]
    },
    {
      "cell_type": "code",
      "source": [
        "import numpy as np\n",
        "\n",
        "a = np.array([[0, 2, 3, 0, 1],\n",
        "              [1, 0, 0, 7, 0],\n",
        "              [5, 0, 0, 1, 0]])\n",
        "\n",
        "print(a.nonzero())"
      ],
      "metadata": {
        "colab": {
          "base_uri": "https://localhost:8080/"
        },
        "id": "MzQf1qE7O5X7",
        "outputId": "aa278bc2-35b3-4907-ac11-9138c01d37b1"
      },
      "execution_count": null,
      "outputs": [
        {
          "output_type": "stream",
          "name": "stdout",
          "text": [
            "(array([0, 0, 0, 1, 1, 2, 2]), array([1, 2, 4, 0, 3, 0, 3]))\n"
          ]
        }
      ]
    },
    {
      "cell_type": "code",
      "source": [
        "np.transpose(a.nonzero())"
      ],
      "metadata": {
        "colab": {
          "base_uri": "https://localhost:8080/"
        },
        "id": "e0BaDaCYPRNw",
        "outputId": "4f2ac5c4-9f8b-4334-ffc9-29b3a795abf0"
      },
      "execution_count": null,
      "outputs": [
        {
          "output_type": "execute_result",
          "data": {
            "text/plain": [
              "array([[0, 1],\n",
              "       [0, 2],\n",
              "       [0, 4],\n",
              "       [1, 0],\n",
              "       [1, 3],\n",
              "       [2, 0],\n",
              "       [2, 3]])"
            ]
          },
          "metadata": {},
          "execution_count": 8
        }
      ]
    },
    {
      "cell_type": "markdown",
      "metadata": {
        "id": "wq9lxS5wSemk"
      },
      "source": [
        "## (실습) 자료 추출"
      ]
    },
    {
      "cell_type": "code",
      "metadata": {
        "id": "ncejM5jISb7z"
      },
      "source": [
        "x = np.array([1, 2, 3, 4, 5, 6, 7, 8, 9, 10,\n",
        "             11, 12, 13, 14, 15, 16, 17, 18, 19, 20])"
      ],
      "execution_count": null,
      "outputs": []
    },
    {
      "cell_type": "markdown",
      "metadata": {
        "id": "GWALVD78Sj1y"
      },
      "source": [
        "* 이 배열에서 3의 배수를 찾아라.\n",
        "\n",
        "* 이 배열에서 4로 나누면 1이 남는 수를 찾아라.\n",
        "\n",
        "* 이 배열에서 3으로 나누면 나누어지고 4로 나누면 1이 남는 수를 찾아라."
      ]
    },
    {
      "cell_type": "code",
      "metadata": {
        "colab": {
          "base_uri": "https://localhost:8080/"
        },
        "id": "B3CYd9yySsOU",
        "outputId": "2af79900-3792-4a11-ff6f-181f4b6c4b45"
      },
      "source": [
        "x[x % 3 == 0]"
      ],
      "execution_count": null,
      "outputs": [
        {
          "output_type": "execute_result",
          "data": {
            "text/plain": [
              "array([ 3,  6,  9, 12, 15, 18])"
            ]
          },
          "metadata": {},
          "execution_count": 74
        }
      ]
    },
    {
      "cell_type": "code",
      "metadata": {
        "colab": {
          "base_uri": "https://localhost:8080/"
        },
        "id": "ZVb-uztdSxWR",
        "outputId": "0b17dafb-4aee-4bd2-919c-14c124d0e619"
      },
      "source": [
        "x [ x % 4 == 1]"
      ],
      "execution_count": null,
      "outputs": [
        {
          "output_type": "execute_result",
          "data": {
            "text/plain": [
              "array([ 1,  5,  9, 13, 17])"
            ]
          },
          "metadata": {},
          "execution_count": 75
        }
      ]
    },
    {
      "cell_type": "code",
      "metadata": {
        "colab": {
          "base_uri": "https://localhost:8080/"
        },
        "id": "4ydIxhtcS9yY",
        "outputId": "9b58ec7b-ae73-418b-c3c2-d7a50e73084a"
      },
      "source": [
        "x [ (x % 3 == 0) & (x % 4 == 1) ]"
      ],
      "execution_count": null,
      "outputs": [
        {
          "output_type": "execute_result",
          "data": {
            "text/plain": [
              "array([9])"
            ]
          },
          "metadata": {},
          "execution_count": 76
        }
      ]
    },
    {
      "cell_type": "code",
      "source": [
        "x = np.array([1, 2, 3, 4, 5, 6, 7, 8, 9, 10,\n",
        "11, 12, 13, 14, 15, 16, 17, 18, 19, 20])\n",
        "\n",
        "y = x[ x % 4 == 0]\n",
        "y"
      ],
      "metadata": {
        "colab": {
          "base_uri": "https://localhost:8080/"
        },
        "id": "d60v0HNUlW2W",
        "outputId": "02e34e06-b158-415b-cfaf-9218967a4950"
      },
      "execution_count": null,
      "outputs": [
        {
          "output_type": "execute_result",
          "data": {
            "text/plain": [
              "array([ 4,  8, 12, 16, 20])"
            ]
          },
          "metadata": {},
          "execution_count": 57
        }
      ]
    },
    {
      "cell_type": "markdown",
      "metadata": {
        "id": "bFOM3X1D-sx7"
      },
      "source": [
        "## **배열 구조 변경**\n",
        "* reshape(), 1차원 배열을 다차원배열로 구조를 변경함\n",
        "* flatten(), 다차원 배열을 1차원배열로 구성함\n",
        "* transpose(), 배열의 축을 변환함\n",
        "* vstack(), 여러개의 1차원 배열을 2차원 배열로 구성함\n",
        "* column_stack(), 열단위의 2차원 배열로 구성함"
      ]
    },
    {
      "cell_type": "code",
      "metadata": {
        "colab": {
          "base_uri": "https://localhost:8080/"
        },
        "id": "yt7KV5Su-bkW",
        "outputId": "d0214aa7-d855-45f2-85b9-4ebd5e2188e9"
      },
      "source": [
        "import numpy as np\n",
        "x = np.arange(24)\n",
        "pprint (x)\n",
        "# 2 x 3 x 4 의 3차원 배열로 구조 변경\n",
        "x = x.reshape(2, 3, 4)\n",
        "pprint(x)"
      ],
      "execution_count": null,
      "outputs": [
        {
          "output_type": "stream",
          "name": "stdout",
          "text": [
            "type:<class 'numpy.ndarray'>\n",
            "형태: (24,), 차원: 1, 자료형:int64\n",
            "배열 자료:\n",
            " [ 0  1  2  3  4  5  6  7  8  9 10 11 12 13 14 15 16 17 18 19 20 21 22 23]\n",
            "type:<class 'numpy.ndarray'>\n",
            "형태: (2, 3, 4), 차원: 3, 자료형:int64\n",
            "배열 자료:\n",
            " [[[ 0  1  2  3]\n",
            "  [ 4  5  6  7]\n",
            "  [ 8  9 10 11]]\n",
            "\n",
            " [[12 13 14 15]\n",
            "  [16 17 18 19]\n",
            "  [20 21 22 23]]]\n"
          ]
        }
      ]
    },
    {
      "cell_type": "code",
      "source": [
        "import numpy as np\n",
        "x = np.arange(10)\n",
        "x = x.reshape(2,5)\n",
        "print (x)\n",
        "y = x.transpose()\n",
        "print (y)\n"
      ],
      "metadata": {
        "colab": {
          "base_uri": "https://localhost:8080/"
        },
        "id": "EOxcpA-CBbji",
        "outputId": "481a349a-4517-49b9-9428-518ebfd89489"
      },
      "execution_count": null,
      "outputs": [
        {
          "output_type": "stream",
          "name": "stdout",
          "text": [
            "[[0 1 2 3 4]\n",
            " [5 6 7 8 9]]\n",
            "[[0 5]\n",
            " [1 6]\n",
            " [2 7]\n",
            " [3 8]\n",
            " [4 9]]\n"
          ]
        }
      ]
    },
    {
      "cell_type": "code",
      "metadata": {
        "colab": {
          "base_uri": "https://localhost:8080/"
        },
        "id": "DM1AT6svJXMa",
        "outputId": "f83a2e37-9ea4-43ac-d1c1-1bd919a84529"
      },
      "source": [
        "# 2차원 자료를 1차원 자료로 변환\n",
        "# 2차원 이상의 고차원 배열을 1차원 배열로 만들어 줌\n",
        "\n",
        "y = np.array([[2,3], [4,5]])\n",
        "print (y)\n",
        "y = y.flatten()\n",
        "print (y)"
      ],
      "execution_count": null,
      "outputs": [
        {
          "output_type": "stream",
          "name": "stdout",
          "text": [
            "[[2 3]\n",
            " [4 5]]\n",
            "[2 3 4 5]\n"
          ]
        }
      ]
    },
    {
      "cell_type": "code",
      "metadata": {
        "colab": {
          "base_uri": "https://localhost:8080/"
        },
        "id": "Spzi5q6OKrgX",
        "outputId": "c89dfbb3-3cce-4c58-9663-f5dd221258e7"
      },
      "source": [
        "# 2개의 1차원 자료를 쌓아서 1개의 2차원 자료로 변환\n",
        "x = np.array([1, 2, 3]) \n",
        "y = np.array([2, 3, 4])\n",
        "#z = np.array([5, 6, 7])\n",
        "xy = np.stack( (x, y) ) \n",
        "print (xy)"
      ],
      "execution_count": null,
      "outputs": [
        {
          "output_type": "stream",
          "name": "stdout",
          "text": [
            "[[1 2 3]\n",
            " [2 3 4]]\n"
          ]
        }
      ]
    },
    {
      "cell_type": "code",
      "metadata": {
        "colab": {
          "base_uri": "https://localhost:8080/"
        },
        "id": "YimZnAZeLS94",
        "outputId": "16273326-f97d-4494-ce33-7014f12fcad8"
      },
      "source": [
        "# 2개의 1차원 자료를 컬럼 방향으로 쌓아서 1개의 2차원 자료로 변환\n",
        "new_array = np.column_stack((x, y)) \n",
        "print (new_array)"
      ],
      "execution_count": null,
      "outputs": [
        {
          "output_type": "stream",
          "name": "stdout",
          "text": [
            "[[1 2]\n",
            " [2 3]\n",
            " [3 4]]\n"
          ]
        }
      ]
    },
    {
      "cell_type": "code",
      "metadata": {
        "colab": {
          "base_uri": "https://localhost:8080/"
        },
        "id": "_GaHroAnMDtx",
        "outputId": "09c77650-3de5-4a62-c0dd-4cd50886ec19"
      },
      "source": [
        "# 1차원 자료를 2차원 자료로 변환\n",
        "a = np.arange(6).reshape((3,2))\n",
        "print (a)\n",
        "\n",
        "# 전치행렬을 구함\n",
        "ta = np.transpose(a)\n",
        "# a.T\n",
        "print (ta)\n"
      ],
      "execution_count": null,
      "outputs": [
        {
          "output_type": "stream",
          "name": "stdout",
          "text": [
            "[[0 1]\n",
            " [2 3]\n",
            " [4 5]]\n",
            "[[0 2 4]\n",
            " [1 3 5]]\n"
          ]
        }
      ]
    },
    {
      "cell_type": "code",
      "source": [
        "# 데이터 개수에 맞춰서 자동으로 배열의 형태를 결정함 \n",
        "y = np.array([[2,3], [4,5]])\n",
        "print (y.reshape(4, -1))\n",
        "print (y.reshape(2, -1))"
      ],
      "metadata": {
        "colab": {
          "base_uri": "https://localhost:8080/"
        },
        "id": "42E3J0IOe3nF",
        "outputId": "e0bfc444-276d-436e-9ecb-f7eb50878657"
      },
      "execution_count": null,
      "outputs": [
        {
          "output_type": "stream",
          "name": "stdout",
          "text": [
            "[[2]\n",
            " [3]\n",
            " [4]\n",
            " [5]]\n",
            "[[2 3]\n",
            " [4 5]]\n"
          ]
        }
      ]
    },
    {
      "cell_type": "code",
      "metadata": {
        "colab": {
          "base_uri": "https://localhost:8080/"
        },
        "id": "FwRR2ffGo2j-",
        "outputId": "e48f2aa3-90ab-4bf6-b426-1ba043b6ccf6"
      },
      "source": [
        "# 배열의 차원(Dimension)을 재구조화, 변경하고자 할 때 reshape() 메소드를 사용\n",
        "x = np.arange(12).reshape(3, 4)\n",
        "# x의 총 원소 12개가 모두 배열될 수 있도록 행(row)의 정수가 정해지면, 이에 따라서 '-1'이 들어있는 열(column)의 개수가 정해짐\n",
        "# 1행으로 재구조화\n",
        "#x= x.reshape(1, -1)\n",
        "pprint (x)\n",
        "# 2행으로 재구조화 \n",
        "y = x.reshape(2, -1)\n",
        "pprint (y)"
      ],
      "execution_count": null,
      "outputs": [
        {
          "output_type": "stream",
          "name": "stdout",
          "text": [
            "type:<class 'numpy.ndarray'>\n",
            "형태: (3, 4), 차원: 2, 자료형:int64\n",
            "배열 자료:\n",
            " [[ 0  1  2  3]\n",
            " [ 4  5  6  7]\n",
            " [ 8  9 10 11]]\n",
            "type:<class 'numpy.ndarray'>\n",
            "형태: (2, 6), 차원: 2, 자료형:int64\n",
            "배열 자료:\n",
            " [[ 0  1  2  3  4  5]\n",
            " [ 6  7  8  9 10 11]]\n"
          ]
        }
      ]
    },
    {
      "cell_type": "markdown",
      "metadata": {
        "id": "6f3f2-OnCV8m"
      },
      "source": [
        "## **numpy 연산**\n",
        "> 리스트와 달리 numpy 배열은 서로 연산을 수행하면 벡터와 행렬처럼 다루어짐\n",
        "* 행방향, 열방향은 각각 axis=0, axis=1로 설정됨\n",
        "\n"
      ]
    },
    {
      "cell_type": "markdown",
      "source": [
        "* 브로드캐스팅(broadcasting)을 통한 벡터화 연산 (vectorized operation)\n",
        "> 브로드캐스팅은 어떤 조건만 만족한다면 모양이 다른 배열끼리의 연산를 가능하도록 함"
      ],
      "metadata": {
        "id": "ZoGe8mTphhbT"
      }
    },
    {
      "cell_type": "code",
      "metadata": {
        "colab": {
          "base_uri": "https://localhost:8080/"
        },
        "id": "26lXKKoV_M32",
        "outputId": "1a61723e-8dda-469e-9d1c-e46737f8a262"
      },
      "source": [
        "a = np.array([10,20,30])\n",
        "b = np.array([1,2,3])\n",
        "print(a+b) # output: [11 22 33]\n",
        "print(a-b) # output: [ 9 18 27]\n",
        "print(a*b) # output: [10 40 90]\n",
        "print(a/b) # output: [10. 10. 10.]"
      ],
      "execution_count": null,
      "outputs": [
        {
          "output_type": "stream",
          "name": "stdout",
          "text": [
            "[11 22 33]\n",
            "[ 9 18 27]\n",
            "[10 40 90]\n",
            "[10. 10. 10.]\n"
          ]
        }
      ]
    },
    {
      "cell_type": "code",
      "metadata": {
        "colab": {
          "base_uri": "https://localhost:8080/"
        },
        "id": "KxcnZidnMwbL",
        "outputId": "7fb86f84-3876-4b7f-9b0f-7c72b6d9526f"
      },
      "source": [
        "#제곱근을 구하는 함수 sqrt()를 사용\n",
        "arr = np.arange(10)\n",
        "sqrt_arr = np.sqrt(arr)\n",
        "print (sqrt_arr)"
      ],
      "execution_count": null,
      "outputs": [
        {
          "output_type": "stream",
          "name": "stdout",
          "text": [
            "[0.         1.         1.41421356 1.73205081 2.         2.23606798\n",
            " 2.44948974 2.64575131 2.82842712 3.        ]\n"
          ]
        }
      ]
    },
    {
      "cell_type": "code",
      "metadata": {
        "colab": {
          "base_uri": "https://localhost:8080/"
        },
        "id": "JVaypDHVNxAs",
        "outputId": "e6f35abd-5e09-4603-80e8-6bdfb50ba76a"
      },
      "source": [
        "np.square(arr)"
      ],
      "execution_count": null,
      "outputs": [
        {
          "output_type": "execute_result",
          "data": {
            "text/plain": [
              "array([ 0,  1,  4,  9, 16, 25, 36, 49, 64, 81])"
            ]
          },
          "metadata": {},
          "execution_count": 99
        }
      ]
    },
    {
      "cell_type": "code",
      "metadata": {
        "colab": {
          "base_uri": "https://localhost:8080/"
        },
        "id": "E9voGkNuCZXz",
        "outputId": "287abc43-dd76-4c4e-aed4-d604a01fc6a6"
      },
      "source": [
        "np.sum(arr)"
      ],
      "execution_count": null,
      "outputs": [
        {
          "output_type": "execute_result",
          "data": {
            "text/plain": [
              "45"
            ]
          },
          "metadata": {},
          "execution_count": 100
        }
      ]
    },
    {
      "cell_type": "code",
      "metadata": {
        "id": "zcVVBpHMN_4K",
        "colab": {
          "base_uri": "https://localhost:8080/"
        },
        "outputId": "7cab0a05-c585-4d70-ffe9-b7bdbda97ec6"
      },
      "source": [
        "arr = np.reshape(arr, (2, 5))\n",
        "arr"
      ],
      "execution_count": null,
      "outputs": [
        {
          "output_type": "execute_result",
          "data": {
            "text/plain": [
              "array([[0, 1, 2, 3, 4],\n",
              "       [5, 6, 7, 8, 9]])"
            ]
          },
          "metadata": {},
          "execution_count": 19
        }
      ]
    },
    {
      "cell_type": "code",
      "metadata": {
        "colab": {
          "base_uri": "https://localhost:8080/"
        },
        "id": "RG51UlbmCxxK",
        "outputId": "59d8a833-3b54-4e2d-c886-653cb5cccf9c"
      },
      "source": [
        "np.sum(arr, axis=1) # 수평으로 합을 구함, 2개의 행에 대해 합을 계산함 "
      ],
      "execution_count": null,
      "outputs": [
        {
          "output_type": "execute_result",
          "data": {
            "text/plain": [
              "array([10, 35])"
            ]
          },
          "metadata": {},
          "execution_count": 20
        }
      ]
    },
    {
      "cell_type": "code",
      "metadata": {
        "colab": {
          "base_uri": "https://localhost:8080/"
        },
        "id": "VWefeY6DC1KB",
        "outputId": "19855e7e-8403-4e85-c616-89c15309745c"
      },
      "source": [
        "np.sum(arr, axis=0) # 수직으로 합을 구함, 5개 열에 대한 합을 계산함"
      ],
      "execution_count": null,
      "outputs": [
        {
          "output_type": "execute_result",
          "data": {
            "text/plain": [
              "array([ 5,  7,  9, 11, 13])"
            ]
          },
          "metadata": {},
          "execution_count": 21
        }
      ]
    },
    {
      "cell_type": "code",
      "metadata": {
        "colab": {
          "base_uri": "https://localhost:8080/"
        },
        "id": "uzg7bAgrRLRL",
        "outputId": "a9abdc6c-188f-4da6-a5a1-a5da2a1cacc8"
      },
      "source": [
        "import numpy as np\n",
        "a = 2\n",
        "b = 4\n",
        "x = np.array([1,2,3])\n",
        "y = a * x + b  # 브로드케스팅을 통해 배열의 차원에 맞추어 계산이 수행됨 \n",
        "print (y)"
      ],
      "execution_count": null,
      "outputs": [
        {
          "output_type": "stream",
          "name": "stdout",
          "text": [
            "[ 6  8 10]\n"
          ]
        }
      ]
    },
    {
      "cell_type": "markdown",
      "metadata": {
        "id": "fBoRPocXPmJ8"
      },
      "source": [
        "* 두개의 배열의 큰성분을 추출하여 새로운 배열을 구성함"
      ]
    },
    {
      "cell_type": "code",
      "metadata": {
        "colab": {
          "base_uri": "https://localhost:8080/"
        },
        "id": "XCHABSGrPUUt",
        "outputId": "1a270dd1-21e5-4d1f-d686-962b2ebdbf21"
      },
      "source": [
        "a = np.array([9,2,3,4])\n",
        "b = np.array([5,6,7,8])\n",
        "np.maximum(a,b)"
      ],
      "execution_count": null,
      "outputs": [
        {
          "output_type": "execute_result",
          "data": {
            "text/plain": [
              "array([9, 6, 7, 8])"
            ]
          },
          "metadata": {},
          "execution_count": 28
        }
      ]
    },
    {
      "cell_type": "markdown",
      "metadata": {
        "id": "w_G3QL_aQBBu"
      },
      "source": [
        "* 오름차순으로 정렬함"
      ]
    },
    {
      "cell_type": "code",
      "metadata": {
        "colab": {
          "base_uri": "https://localhost:8080/"
        },
        "id": "nS_cFncfP3Lu",
        "outputId": "32eaf7ed-3835-4f56-bc2f-b33407d099e7"
      },
      "source": [
        "np.sort(a)"
      ],
      "execution_count": null,
      "outputs": [
        {
          "output_type": "execute_result",
          "data": {
            "text/plain": [
              "array([2, 3, 4, 9])"
            ]
          },
          "metadata": {},
          "execution_count": 29
        }
      ]
    },
    {
      "cell_type": "markdown",
      "metadata": {
        "id": "i07063nVQjth"
      },
      "source": [
        "* $axis$는 사전에서 정의하기로 사물의 축, 중심축\n",
        "* 수직 아래 방향으로 작용하는 axis=0, 수평방향으로 작용하는 axis=1"
      ]
    },
    {
      "cell_type": "code",
      "metadata": {
        "colab": {
          "base_uri": "https://localhost:8080/"
        },
        "id": "BgwbfEraQIRx",
        "outputId": "50dcadd4-e845-46e2-8b0d-82b1c741fd99"
      },
      "source": [
        "import numpy as np\n",
        "a = np.array([[1, 6, 5], [2, 4, 6]])\n",
        "\n",
        "print (a)"
      ],
      "execution_count": null,
      "outputs": [
        {
          "output_type": "stream",
          "name": "stdout",
          "text": [
            "[[1 6 5]\n",
            " [2 4 6]]\n"
          ]
        }
      ]
    },
    {
      "cell_type": "markdown",
      "source": [
        "* 수직방향"
      ],
      "metadata": {
        "id": "pg933pyXeMaG"
      }
    },
    {
      "cell_type": "code",
      "source": [
        "np.sort(a, axis=0)"
      ],
      "metadata": {
        "colab": {
          "base_uri": "https://localhost:8080/"
        },
        "id": "qovaGxaeeH50",
        "outputId": "0df97733-0464-4085-dfe4-7516f9090694"
      },
      "execution_count": null,
      "outputs": [
        {
          "output_type": "execute_result",
          "data": {
            "text/plain": [
              "array([[1, 4, 5],\n",
              "       [2, 6, 6]])"
            ]
          },
          "metadata": {},
          "execution_count": 4
        }
      ]
    },
    {
      "cell_type": "markdown",
      "source": [
        "* 수평방향"
      ],
      "metadata": {
        "id": "F773CF4zgDvZ"
      }
    },
    {
      "cell_type": "code",
      "metadata": {
        "colab": {
          "base_uri": "https://localhost:8080/"
        },
        "id": "1LVFEn3CQT_Q",
        "outputId": "5e46bd8a-5361-4e10-bc26-8e8506f65614"
      },
      "source": [
        "np.sort(a, axis=1)"
      ],
      "execution_count": null,
      "outputs": [
        {
          "output_type": "execute_result",
          "data": {
            "text/plain": [
              "array([[1, 5, 6],\n",
              "       [2, 4, 6]])"
            ]
          },
          "metadata": {},
          "execution_count": 5
        }
      ]
    },
    {
      "cell_type": "markdown",
      "source": [
        "* sum() 에서 $axis$ 적용하기"
      ],
      "metadata": {
        "id": "_D5DvuxLhOJ3"
      }
    },
    {
      "cell_type": "code",
      "source": [
        "a.sum()"
      ],
      "metadata": {
        "colab": {
          "base_uri": "https://localhost:8080/"
        },
        "id": "fnEgzJ3whIMz",
        "outputId": "29c5fbc8-b7ac-42b4-866b-72b6ebf6eb06"
      },
      "execution_count": null,
      "outputs": [
        {
          "output_type": "execute_result",
          "data": {
            "text/plain": [
              "24"
            ]
          },
          "metadata": {},
          "execution_count": 13
        }
      ]
    },
    {
      "cell_type": "code",
      "source": [
        "print(np.sum(a, axis=0)) # 수직방향 합 \n",
        "\n",
        "print(np.sum(a, axis=1)) # 수평방향 합"
      ],
      "metadata": {
        "colab": {
          "base_uri": "https://localhost:8080/"
        },
        "id": "dwxQC6c4fS4a",
        "outputId": "6ff631f6-c65a-4ed2-f271-bd9f4219762c"
      },
      "execution_count": null,
      "outputs": [
        {
          "output_type": "stream",
          "name": "stdout",
          "text": [
            "[ 3 10 11]\n",
            "[12 12]\n"
          ]
        }
      ]
    },
    {
      "cell_type": "code",
      "source": [
        "# np.append(기존 array, 새로운 value를 갖는 array, axis)\n",
        "\n",
        "nums = np.array(\n",
        "    [[0,  1,  2],\n",
        "     [3,  4,  5],\n",
        "     [6,  7,  8],\n",
        "     [9, 10, 11]]\n",
        ")\n",
        "\n",
        "# 수직방향으로 자료 추가\n",
        "nums = np.append(nums, [[12, 13, 14]], axis=0)\n",
        "print(nums)"
      ],
      "metadata": {
        "colab": {
          "base_uri": "https://localhost:8080/"
        },
        "id": "BWriu3eYgU8t",
        "outputId": "d757e8ac-aa33-42d8-8ca3-d9208e28c2fe"
      },
      "execution_count": null,
      "outputs": [
        {
          "output_type": "stream",
          "name": "stdout",
          "text": [
            "[[ 0  1  2]\n",
            " [ 3  4  5]\n",
            " [ 6  7  8]\n",
            " [ 9 10 11]\n",
            " [12 13 14]]\n"
          ]
        }
      ]
    },
    {
      "cell_type": "markdown",
      "metadata": {
        "id": "zI47lqjFsMcA"
      },
      "source": [
        "## 내적 구하기\n",
        "\n",
        "```\n",
        "a의 성분을 (x1, y1, z1)라 하고\n",
        "b의 성분을 (x2, y2, z2)라 하면\n",
        "내적은 a·b = x1*x2 + y1*y2 + z1*z2이다.\n",
        "```"
      ]
    },
    {
      "cell_type": "code",
      "source": [
        "x =np.array([1, 2, 3])\n",
        "y =np.array([2, 3, 4 ])\n",
        "z = np.dot(x, y)\n",
        "z"
      ],
      "metadata": {
        "colab": {
          "base_uri": "https://localhost:8080/"
        },
        "id": "KsklmkfXEJhR",
        "outputId": "fab93c82-4685-4014-edc2-141e767cb1e1"
      },
      "execution_count": null,
      "outputs": [
        {
          "output_type": "execute_result",
          "data": {
            "text/plain": [
              "20"
            ]
          },
          "metadata": {},
          "execution_count": 13
        }
      ]
    },
    {
      "cell_type": "code",
      "metadata": {
        "id": "OMM6X-8Ouzk3",
        "colab": {
          "base_uri": "https://localhost:8080/"
        },
        "outputId": "dc38766c-dd01-4ba6-c8ca-ec2707d95419"
      },
      "source": [
        "# 두 배열의 내적 (Dot product)을 계산\n",
        "x = np.array([1, 2])\n",
        "w = np.array([[1, 3, 5], [2, 4, 6]])\n",
        "\n",
        "# (1 * 1) + (2 * 2), (1 * 3) + (2 * 4), (1 * 5) + (2 * 6)\n",
        "y = np.dot(x, w)\n",
        "print(y)"
      ],
      "execution_count": null,
      "outputs": [
        {
          "output_type": "stream",
          "name": "stdout",
          "text": [
            "[ 5 11 17]\n"
          ]
        }
      ]
    },
    {
      "cell_type": "code",
      "metadata": {
        "id": "LBQiTpI5uzlI",
        "colab": {
          "base_uri": "https://localhost:8080/"
        },
        "outputId": "7c07c78f-39ea-4be7-ea9a-65f33e95210c"
      },
      "source": [
        "a = np.array([[1,2],[3,4]]) \n",
        "b = np.array([[11,12],[13,14]]) \n",
        "np.dot(a,b)"
      ],
      "execution_count": null,
      "outputs": [
        {
          "output_type": "execute_result",
          "data": {
            "text/plain": [
              "array([[37, 40],\n",
              "       [85, 92]])"
            ]
          },
          "metadata": {},
          "execution_count": 122
        }
      ]
    },
    {
      "cell_type": "code",
      "source": [
        "x = np.array([1,2,3])\n",
        "y = np.array([-7,8,9])\n",
        "np.dot(x,y)"
      ],
      "metadata": {
        "id": "vov9ihezhG7X",
        "colab": {
          "base_uri": "https://localhost:8080/"
        },
        "outputId": "21c22705-b899-4382-9ba3-f439e20c884c"
      },
      "execution_count": null,
      "outputs": [
        {
          "output_type": "execute_result",
          "data": {
            "text/plain": [
              "36"
            ]
          },
          "metadata": {},
          "execution_count": 9
        }
      ]
    },
    {
      "cell_type": "code",
      "source": [
        "dot = np.dot(x,y)\n",
        "x_modulus = np.sqrt((x*x).sum())\n",
        "y_modulus = np.sqrt((y*y).sum())\n",
        "cos_angle = dot / x_modulus / y_modulus\n",
        "angle = np.arccos(cos_angle)\n",
        "angle\n",
        "angle = angle * 360 / 2 / np.pi\n",
        "angle"
      ],
      "metadata": {
        "colab": {
          "base_uri": "https://localhost:8080/"
        },
        "id": "_hfTWpJmQNEL",
        "outputId": "c304ec3a-3561-4ce5-dbf4-ea4b89e0ceea"
      },
      "execution_count": null,
      "outputs": [
        {
          "output_type": "execute_result",
          "data": {
            "text/plain": [
              "46.308384970187326"
            ]
          },
          "metadata": {},
          "execution_count": 18
        }
      ]
    },
    {
      "cell_type": "markdown",
      "metadata": {
        "id": "lGdSPDOQun7X"
      },
      "source": [
        "## 활성함수 \n",
        "* softmax 함수"
      ]
    },
    {
      "cell_type": "code",
      "metadata": {
        "id": "mUmmK97quhHw"
      },
      "source": [
        "import numpy as np\n",
        "\n",
        "def softmax(x):\n",
        "    f_x = np.exp(x) / np.sum(np.exp(x))\n",
        "    return f_x"
      ],
      "execution_count": null,
      "outputs": []
    },
    {
      "cell_type": "code",
      "metadata": {
        "colab": {
          "base_uri": "https://localhost:8080/"
        },
        "id": "eE3JwGXXurKs",
        "outputId": "893d6956-053a-40e0-d84f-b4f34688b64c"
      },
      "source": [
        "a = np.array([0.3, 2.9, 4.0])\n",
        "print (softmax(a)) # softmax 결과값 출력\n",
        "print (sum(softmax(a))) # softmax 결과값들의 합은 1이 된다.\n",
        "\n",
        "# overflow 문제점\n",
        "a = np.array([1010, 1000, 990]) \n",
        "print (softmax(a))"
      ],
      "execution_count": null,
      "outputs": [
        {
          "output_type": "stream",
          "name": "stdout",
          "text": [
            "[0.01821127 0.24519181 0.73659691]\n",
            "1.0\n",
            "[nan nan nan]\n"
          ]
        },
        {
          "output_type": "stream",
          "name": "stderr",
          "text": [
            "/usr/local/lib/python3.7/dist-packages/ipykernel_launcher.py:5: RuntimeWarning: overflow encountered in exp\n",
            "  \"\"\"\n",
            "/usr/local/lib/python3.7/dist-packages/ipykernel_launcher.py:5: RuntimeWarning: invalid value encountered in true_divide\n",
            "  \"\"\"\n"
          ]
        }
      ]
    },
    {
      "cell_type": "code",
      "metadata": {
        "id": "LuZ14lWIuikf"
      },
      "source": [
        "import numpy as np\n",
        "\n",
        "def softmax(x):\n",
        "\n",
        "    y = np.exp(x - np.max(x))\n",
        "    f_x = y / np.sum(np.exp(x))\n",
        "    return f_x"
      ],
      "execution_count": null,
      "outputs": []
    },
    {
      "cell_type": "code",
      "metadata": {
        "colab": {
          "base_uri": "https://localhost:8080/"
        },
        "id": "xKjjYSE-vknq",
        "outputId": "c59f3125-19c6-4784-d2f0-acd36edd509b"
      },
      "source": [
        "a = np.array([1010, 1000, 990]) \n",
        "print (softmax(a))"
      ],
      "execution_count": null,
      "outputs": [
        {
          "output_type": "stream",
          "name": "stdout",
          "text": [
            "[0. 0. 0.]\n"
          ]
        },
        {
          "output_type": "stream",
          "name": "stderr",
          "text": [
            "/usr/local/lib/python3.7/dist-packages/ipykernel_launcher.py:6: RuntimeWarning: overflow encountered in exp\n",
            "  \n"
          ]
        }
      ]
    },
    {
      "cell_type": "markdown",
      "metadata": {
        "id": "k9lVykK7x2_F"
      },
      "source": [
        "* sigmod\n",
        "\n",
        "> 실수 입력 값을 0보다 크고 1보다 작은 미분 가능한 수로 변환하는 특징"
      ]
    },
    {
      "cell_type": "code",
      "metadata": {
        "colab": {
          "base_uri": "https://localhost:8080/",
          "height": 282
        },
        "id": "MB_Olygu0fY0",
        "outputId": "caa78621-cb43-4914-cf7f-556cb8b3261d"
      },
      "source": [
        "x = np.arange(10)\n",
        "y = np.exp(-x)\n",
        "\n",
        "plt.plot(x,y)"
      ],
      "execution_count": null,
      "outputs": [
        {
          "output_type": "execute_result",
          "data": {
            "text/plain": [
              "[<matplotlib.lines.Line2D at 0x7fa77f57d490>]"
            ]
          },
          "metadata": {},
          "execution_count": 150
        },
        {
          "output_type": "display_data",
          "data": {
            "image/png": "[encoded data removed]",
            "text/plain": [
              "<Figure size 432x288 with 1 Axes>"
            ]
          },
          "metadata": {
            "needs_background": "light"
          }
        }
      ]
    },
    {
      "cell_type": "code",
      "metadata": {
        "id": "QqJWxBKpxmoG"
      },
      "source": [
        "def sigmoid(x) :\n",
        "    return 1 / (1+np.exp(-x))"
      ],
      "execution_count": null,
      "outputs": []
    },
    {
      "cell_type": "code",
      "metadata": {
        "colab": {
          "base_uri": "https://localhost:8080/",
          "height": 265
        },
        "id": "A4XPoc-sxclO",
        "outputId": "03fd569b-d022-466c-a975-43644476bfa5"
      },
      "source": [
        "x = np.arange(-5.0,5.0,0.1)\n",
        "plt.plot(x, sigmoid(x))\n",
        "plt.ylim(-0.1,1.1)\n",
        "plt.show()"
      ],
      "execution_count": null,
      "outputs": [
        {
          "output_type": "display_data",
          "data": {
            "image/png": "[encoded data removed]",
            "text/plain": [
              "<Figure size 432x288 with 1 Axes>"
            ]
          },
          "metadata": {
            "needs_background": "light"
          }
        }
      ]
    },
    {
      "cell_type": "code",
      "metadata": {
        "id": "FUY8XizNw0gH"
      },
      "source": [
        "def step_function_np(x) : \n",
        "    y = x > 0\n",
        "    # boolean을 int로 변환하면 True = 1, False = 0이 된다.\n",
        "    # numpy 배열의 type을 변경할 때 .astype을 쓴다.\n",
        "    return y.astype(np.int)\n"
      ],
      "execution_count": null,
      "outputs": []
    },
    {
      "cell_type": "code",
      "metadata": {
        "colab": {
          "base_uri": "https://localhost:8080/",
          "height": 265
        },
        "id": "Nj8UM0sfw6vZ",
        "outputId": "002557c2-3da1-45b5-d398-1beb0962f27f"
      },
      "source": [
        "import matplotlib.pyplot as plt\n",
        "\n",
        "x = np.arange(-5.0, 5.0, 0.1) # -5.0부터 5.0까지 0.1 간격의 numpy array 생성\n",
        "y = step_function_np(x)\n",
        "\n",
        "plt.plot(x,y)\n",
        "plt.ylim(-0.1,1.1)\n",
        "plt.show()\n"
      ],
      "execution_count": null,
      "outputs": [
        {
          "output_type": "display_data",
          "data": {
            "image/png": "[encoded data removed]",
            "text/plain": [
              "<Figure size 432x288 with 1 Axes>"
            ]
          },
          "metadata": {
            "needs_background": "light"
          }
        }
      ]
    },
    {
      "cell_type": "markdown",
      "metadata": {
        "id": "AUDIJ3wTswsP"
      },
      "source": [
        "## 전치배열 구하기"
      ]
    },
    {
      "cell_type": "code",
      "metadata": {
        "colab": {
          "base_uri": "https://localhost:8080/"
        },
        "id": "Pyy0tPoCsmUm",
        "outputId": "39a74160-cc66-4b5b-ec46-c34d48b25364"
      },
      "source": [
        "a.T"
      ],
      "execution_count": null,
      "outputs": [
        {
          "output_type": "execute_result",
          "data": {
            "text/plain": [
              "array([[1, 3],\n",
              "       [2, 4]])"
            ]
          },
          "metadata": {},
          "execution_count": 123
        }
      ]
    },
    {
      "cell_type": "markdown",
      "metadata": {
        "id": "R-Om5AxdXwYi"
      },
      "source": [
        "## numpy 통계처리"
      ]
    },
    {
      "cell_type": "code",
      "metadata": {
        "colab": {
          "base_uri": "https://localhost:8080/"
        },
        "id": "LUgw3ZA_DFGA",
        "outputId": "41460736-ac51-441a-98bc-5f84412e1404"
      },
      "source": [
        "import numpy as np\n",
        "\n",
        "arr = [2, 7, 3, 12, 9]\n",
        "# 33 ÷ 5 = 6.6\n",
        "np.mean(arr)"
      ],
      "execution_count": null,
      "outputs": [
        {
          "output_type": "execute_result",
          "data": {
            "text/plain": [
              "6.6"
            ]
          },
          "metadata": {},
          "execution_count": 63
        }
      ]
    },
    {
      "cell_type": "code",
      "metadata": {
        "colab": {
          "base_uri": "https://localhost:8080/"
        },
        "id": "SS_Dsp_PDNN5",
        "outputId": "970438fd-c445-4fe4-944b-50ef679e2ebb"
      },
      "source": [
        "np.mean(arr, axis=0)"
      ],
      "execution_count": null,
      "outputs": [
        {
          "output_type": "execute_result",
          "data": {
            "text/plain": [
              "6.6"
            ]
          },
          "metadata": {},
          "execution_count": 4
        }
      ]
    },
    {
      "cell_type": "markdown",
      "metadata": {
        "id": "jHOaxcav3WfH"
      },
      "source": [
        "* 중앙값(median)은 데이터를 크기대로 정렬하였을 때 가장 가운데에 있는 수"
      ]
    },
    {
      "cell_type": "code",
      "metadata": {
        "id": "0iy60f3z3Rsj",
        "colab": {
          "base_uri": "https://localhost:8080/"
        },
        "outputId": "95eca8fd-f898-448f-8c5d-50785f178b49"
      },
      "source": [
        "np.median(arr)"
      ],
      "execution_count": null,
      "outputs": [
        {
          "output_type": "execute_result",
          "data": {
            "text/plain": [
              "7.0"
            ]
          },
          "metadata": {},
          "execution_count": 64
        }
      ]
    },
    {
      "cell_type": "code",
      "source": [
        "x = np.random.randn(1)\n",
        "x"
      ],
      "metadata": {
        "colab": {
          "base_uri": "https://localhost:8080/"
        },
        "id": "M44DjjQipbDM",
        "outputId": "72c2ac4b-420a-408e-8c04-45981f6a8a9c"
      },
      "execution_count": null,
      "outputs": [
        {
          "output_type": "execute_result",
          "data": {
            "text/plain": [
              "array([0.17790708])"
            ]
          },
          "metadata": {},
          "execution_count": 65
        }
      ]
    },
    {
      "cell_type": "code",
      "source": [
        "# 10000개의 값을 난수로 생성한 후 평균이 180이고 표준편차가 10을 지정하여 heights 를 구성함\n",
        "m = 180\n",
        "sigma = 10\n",
        "heights = m + sigma + np.random.randn(10000)\n",
        "\n",
        "np.median(heights)"
      ],
      "metadata": {
        "colab": {
          "base_uri": "https://localhost:8080/"
        },
        "id": "HDPeDlIwiR4t",
        "outputId": "dfd62ffc-99a8-4b94-b308-995531f59865"
      },
      "execution_count": null,
      "outputs": [
        {
          "output_type": "execute_result",
          "data": {
            "text/plain": [
              "190.00276222817416"
            ]
          },
          "metadata": {},
          "execution_count": 66
        }
      ]
    },
    {
      "cell_type": "code",
      "source": [
        "np.mean(heights)"
      ],
      "metadata": {
        "colab": {
          "base_uri": "https://localhost:8080/"
        },
        "id": "Oo-p326mjAFV",
        "outputId": "d99fb431-82f7-4876-915c-66adff1e3642"
      },
      "execution_count": null,
      "outputs": [
        {
          "output_type": "execute_result",
          "data": {
            "text/plain": [
              "190.00272720755743"
            ]
          },
          "metadata": {},
          "execution_count": 67
        }
      ]
    },
    {
      "cell_type": "markdown",
      "metadata": {
        "id": "rAWv8DDd27Q3"
      },
      "source": [
        "* 분산은 데이터와 표본 평균간의 거리의 제곱의 평균임\n",
        "> 분산이 작으면 데이터가 모여있는 것이고 크면 흩어져 있는 것"
      ]
    },
    {
      "cell_type": "code",
      "metadata": {
        "id": "dHzTeK8N23rW",
        "colab": {
          "base_uri": "https://localhost:8080/"
        },
        "outputId": "4a892395-1e46-4cf8-e392-02e9f2106385"
      },
      "source": [
        "# 자료값에서 평균값을 뺀값의 제곱의 합을 구한후 자료수로 나눔\n",
        "#(2 - 6.6)^2\n",
        "# 21.16 + 0.16 + 12.96 + 29.16 + 5.76 = 69.20\n",
        "# 69.20 ÷5 = 13.84\n",
        "\n",
        "np.var(arr)"
      ],
      "execution_count": null,
      "outputs": [
        {
          "output_type": "execute_result",
          "data": {
            "text/plain": [
              "13.84"
            ]
          },
          "metadata": {},
          "execution_count": 68
        }
      ]
    },
    {
      "cell_type": "markdown",
      "metadata": {
        "id": "j5Sm7JnU2yef"
      },
      "source": [
        "* 표본 표준편차(sample standard variance)는 표본 분산의 양의 제곱근 값\n",
        "> 분산을 제곱근한 것\n",
        "\n"
      ]
    },
    {
      "cell_type": "code",
      "metadata": {
        "colab": {
          "base_uri": "https://localhost:8080/"
        },
        "id": "pOvBaUv4DZUj",
        "outputId": "7d18d065-30e4-47b0-e128-8c64581a76d7"
      },
      "source": [
        "# 분산의 제곱근을 수행하여 구함 3.72\n",
        "np.std(arr)"
      ],
      "execution_count": null,
      "outputs": [
        {
          "output_type": "execute_result",
          "data": {
            "text/plain": [
              "3.7202150475476548"
            ]
          },
          "metadata": {},
          "execution_count": 69
        }
      ]
    },
    {
      "cell_type": "code",
      "metadata": {
        "colab": {
          "base_uri": "https://localhost:8080/"
        },
        "id": "Tl1kQryFUioC",
        "outputId": "20fe5632-112d-45e1-cc3b-6c02ead9096c"
      },
      "source": [
        "a = np.arange(16).reshape(4, 4)\n",
        "print (a)"
      ],
      "execution_count": null,
      "outputs": [
        {
          "output_type": "stream",
          "name": "stdout",
          "text": [
            "[[ 0  1  2  3]\n",
            " [ 4  5  6  7]\n",
            " [ 8  9 10 11]\n",
            " [12 13 14 15]]\n"
          ]
        }
      ]
    },
    {
      "cell_type": "code",
      "metadata": {
        "colab": {
          "base_uri": "https://localhost:8080/"
        },
        "id": "PMG--NYlUzSw",
        "outputId": "2b3a988b-482e-447e-863b-f1719c9c8efc"
      },
      "source": [
        "np.sum(a)"
      ],
      "execution_count": null,
      "outputs": [
        {
          "output_type": "execute_result",
          "data": {
            "text/plain": [
              "120"
            ]
          },
          "metadata": {},
          "execution_count": 25
        }
      ]
    },
    {
      "cell_type": "code",
      "metadata": {
        "colab": {
          "base_uri": "https://localhost:8080/"
        },
        "id": "OtiPJSs3VJwN",
        "outputId": "6a272a8c-2ed1-462a-8468-cc4b873843fe"
      },
      "source": [
        "np.sum(a, axis=0)"
      ],
      "execution_count": null,
      "outputs": [
        {
          "output_type": "execute_result",
          "data": {
            "text/plain": [
              "array([24, 28, 32, 36])"
            ]
          },
          "metadata": {},
          "execution_count": 26
        }
      ]
    },
    {
      "cell_type": "code",
      "metadata": {
        "colab": {
          "base_uri": "https://localhost:8080/"
        },
        "id": "qo1T0E2NVTKL",
        "outputId": "56ddff1a-c0e4-4db6-e010-521701f4ddbc"
      },
      "source": [
        "np.sum(a, axis=1)"
      ],
      "execution_count": null,
      "outputs": [
        {
          "output_type": "execute_result",
          "data": {
            "text/plain": [
              "array([ 6, 22, 38, 54])"
            ]
          },
          "metadata": {},
          "execution_count": 27
        }
      ]
    },
    {
      "cell_type": "code",
      "metadata": {
        "colab": {
          "base_uri": "https://localhost:8080/"
        },
        "id": "A6WMTdbnVoUe",
        "outputId": "e8c1870a-0e51-42d8-d6c4-51620cff8c92"
      },
      "source": [
        "a.mean(axis=0)"
      ],
      "execution_count": null,
      "outputs": [
        {
          "output_type": "execute_result",
          "data": {
            "text/plain": [
              "array([6., 7., 8., 9.])"
            ]
          },
          "metadata": {},
          "execution_count": 28
        }
      ]
    },
    {
      "cell_type": "code",
      "metadata": {
        "colab": {
          "base_uri": "https://localhost:8080/"
        },
        "id": "Jm4p9926VxK5",
        "outputId": "cf2d55bc-b62d-4058-8468-3a04ecfbb45c"
      },
      "source": [
        "a.mean(axis=1)"
      ],
      "execution_count": null,
      "outputs": [
        {
          "output_type": "execute_result",
          "data": {
            "text/plain": [
              "array([ 1.5,  5.5,  9.5, 13.5])"
            ]
          },
          "metadata": {},
          "execution_count": 29
        }
      ]
    },
    {
      "cell_type": "code",
      "metadata": {
        "colab": {
          "base_uri": "https://localhost:8080/"
        },
        "id": "gUq-612WV-0C",
        "outputId": "f2e56b73-3eb1-46e1-e63e-65d279e0dc92"
      },
      "source": [
        "np.std(a.mean(axis=0))"
      ],
      "execution_count": null,
      "outputs": [
        {
          "output_type": "execute_result",
          "data": {
            "text/plain": [
              "1.118033988749895"
            ]
          },
          "metadata": {},
          "execution_count": 30
        }
      ]
    },
    {
      "cell_type": "code",
      "metadata": {
        "colab": {
          "base_uri": "https://localhost:8080/"
        },
        "id": "rgQ3vseuWSP6",
        "outputId": "6ca88bc7-0f19-4a56-9203-0e11a1d21c37"
      },
      "source": [
        "np.std(a.mean(axis=1))"
      ],
      "execution_count": null,
      "outputs": [
        {
          "output_type": "execute_result",
          "data": {
            "text/plain": [
              "4.47213595499958"
            ]
          },
          "metadata": {},
          "execution_count": 31
        }
      ]
    },
    {
      "cell_type": "code",
      "metadata": {
        "colab": {
          "base_uri": "https://localhost:8080/"
        },
        "id": "m5CmkLbYYRXn",
        "outputId": "579e33fc-d78a-45eb-e9b8-8e5b74df550d"
      },
      "source": [
        "a"
      ],
      "execution_count": null,
      "outputs": [
        {
          "output_type": "execute_result",
          "data": {
            "text/plain": [
              "array([[ 0,  1,  2,  3],\n",
              "       [ 4,  5,  6,  7],\n",
              "       [ 8,  9, 10, 11],\n",
              "       [12, 13, 14, 15]])"
            ]
          },
          "metadata": {},
          "execution_count": 32
        }
      ]
    },
    {
      "cell_type": "code",
      "source": [
        "\n",
        "arr = np.array([2, 3, 7, 10, 15, 12, 19, 18])\n",
        "a,b = np.histogram(arr, bins=[0, 5, 10, 15, 20])"
      ],
      "metadata": {
        "id": "wvWKBl7aqm-R"
      },
      "execution_count": null,
      "outputs": []
    },
    {
      "cell_type": "code",
      "source": [
        "a"
      ],
      "metadata": {
        "colab": {
          "base_uri": "https://localhost:8080/"
        },
        "id": "DA5uhGZXrBWT",
        "outputId": "b41a20f0-8b8c-4c1f-8343-039c5435a525"
      },
      "execution_count": null,
      "outputs": [
        {
          "output_type": "execute_result",
          "data": {
            "text/plain": [
              "array([2, 1, 2, 3])"
            ]
          },
          "metadata": {},
          "execution_count": 72
        }
      ]
    },
    {
      "cell_type": "code",
      "source": [
        "b"
      ],
      "metadata": {
        "colab": {
          "base_uri": "https://localhost:8080/"
        },
        "id": "-q3xi4p3rhdO",
        "outputId": "9a22b737-6c93-4189-fe04-77d4fe3c7a41"
      },
      "execution_count": null,
      "outputs": [
        {
          "output_type": "execute_result",
          "data": {
            "text/plain": [
              "array([ 0,  5, 10, 15, 20])"
            ]
          },
          "metadata": {},
          "execution_count": 74
        }
      ]
    },
    {
      "cell_type": "code",
      "source": [
        "import matplotlib.pyplot as plt\n",
        "import numpy as np\n",
        "\n",
        "arr = np.array([2, 3, 7, 10, 15, 30, 25, 18])\n",
        "plt.hist(arr, bins=[0, 5, 10, 15, 20])\n",
        "plt.title(\"frequency of number array\")\n",
        "plt.show()\n",
        "\n",
        "a,b = np.histogram(arr, bins=[0, 5, 10, 15, 20])\n",
        "print (f'a = {a}')\n",
        "print (f'b = {b}')"
      ],
      "metadata": {
        "colab": {
          "base_uri": "https://localhost:8080/",
          "height": 316
        },
        "id": "CctjfNQZFA3H",
        "outputId": "01a17d49-fc2d-42a6-cd02-4b84db3ad6f2"
      },
      "execution_count": null,
      "outputs": [
        {
          "output_type": "display_data",
          "data": {
            "image/png": "[encoded data removed]",
            "text/plain": [
              "<Figure size 432x288 with 1 Axes>"
            ]
          },
          "metadata": {
            "needs_background": "light"
          }
        },
        {
          "output_type": "stream",
          "name": "stdout",
          "text": [
            "a = [2 1 1 2]\n",
            "b = [ 0  5 10 15 20]\n"
          ]
        }
      ]
    },
    {
      "cell_type": "markdown",
      "metadata": {
        "id": "P7C5MkYoXrIx"
      },
      "source": [
        "(심화실습) 자료값 숨기기"
      ]
    },
    {
      "cell_type": "code",
      "metadata": {
        "id": "h9Iw3qWgmdbF",
        "outputId": "725fe97f-f97b-40f5-a651-c6fe3af8e4e5",
        "colab": {
          "base_uri": "https://localhost:8080/"
        }
      },
      "source": [
        "import numpy as np\n",
        "x = [1, 2, 3, 4, 5]\n",
        "y = np.log(x)\n",
        "y"
      ],
      "execution_count": null,
      "outputs": [
        {
          "output_type": "execute_result",
          "data": {
            "text/plain": [
              "array([0.        , 0.69314718, 1.09861229, 1.38629436, 1.60943791])"
            ]
          },
          "metadata": {},
          "execution_count": 108
        }
      ]
    },
    {
      "cell_type": "code",
      "metadata": {
        "colab": {
          "base_uri": "https://localhost:8080/"
        },
        "id": "KCwi2u0JWP0E",
        "outputId": "a7bfb247-3ab2-4147-9356-969251c3de66"
      },
      "source": [
        "a = np.arange(1, 10,1)\n",
        "\n",
        "b = np.log (a)\n",
        "print (b)\n",
        "a = np.exp(b)\n",
        "print (a.astype(np.int64))"
      ],
      "execution_count": null,
      "outputs": [
        {
          "output_type": "stream",
          "name": "stdout",
          "text": [
            "[0.         0.69314718 1.09861229 1.38629436 1.60943791 1.79175947\n",
            " 1.94591015 2.07944154 2.19722458]\n",
            "[1 2 3 4 4 6 6 7 9]\n"
          ]
        }
      ]
    },
    {
      "cell_type": "code",
      "metadata": {
        "colab": {
          "base_uri": "https://localhost:8080/"
        },
        "id": "gpnoSLmrYLBO",
        "outputId": "677dbf1c-5a48-4587-c124-8cd2935018f0"
      },
      "source": [
        "b = np.log(a)\n",
        "b"
      ],
      "execution_count": null,
      "outputs": [
        {
          "output_type": "execute_result",
          "data": {
            "text/plain": [
              "array([0.        , 0.69314718, 1.09861229, 1.38629436, 1.60943791,\n",
              "       1.79175947, 1.94591015, 2.07944154, 2.19722458])"
            ]
          },
          "metadata": {},
          "execution_count": 48
        }
      ]
    },
    {
      "cell_type": "markdown",
      "metadata": {
        "id": "khD4sN8C3xgv"
      },
      "source": [
        "## 난수 발생과 데이터 순서 바꾸기\n",
        "* rand 함수는 0과 1사이의 난수를 발생시키는 함수"
      ]
    },
    {
      "cell_type": "code",
      "metadata": {
        "colab": {
          "base_uri": "https://localhost:8080/"
        },
        "id": "bYO4gZcY305q",
        "outputId": "058d7d04-419a-4592-c645-3cc89a79bc8d"
      },
      "source": [
        "np.random.rand(5)"
      ],
      "execution_count": null,
      "outputs": [
        {
          "output_type": "execute_result",
          "data": {
            "text/plain": [
              "array([0.94567914, 0.05363038, 0.55421181, 0.95627464, 0.43967028])"
            ]
          },
          "metadata": {},
          "execution_count": 84
        }
      ]
    },
    {
      "cell_type": "markdown",
      "metadata": {
        "id": "zCAADFD94Ug3"
      },
      "source": [
        "* numpy.random.randint(low, high=None, size=None)\n",
        "\n",
        "> 만약 high를 입력하지 않으면 0과 low사이의 숫자를, high를 입력하면 low와 high는 사이의 숫자를 출력"
      ]
    },
    {
      "cell_type": "code",
      "metadata": {
        "colab": {
          "base_uri": "https://localhost:8080/"
        },
        "id": "70HIvUrF4S54",
        "outputId": "24d51e97-018e-4e2c-c776-f74621677d7e"
      },
      "source": [
        "np.random.randint(1,7, size=10)"
      ],
      "execution_count": null,
      "outputs": [
        {
          "output_type": "execute_result",
          "data": {
            "text/plain": [
              "array([1, 3, 4, 4, 6, 1, 5, 6, 4, 5])"
            ]
          },
          "metadata": {},
          "execution_count": 99
        }
      ]
    },
    {
      "cell_type": "markdown",
      "metadata": {
        "id": "-ks6uej_4JQM"
      },
      "source": [
        "* 데이터의 순서 바꾸기"
      ]
    },
    {
      "cell_type": "code",
      "metadata": {
        "id": "947kWGzI4CVZ",
        "colab": {
          "base_uri": "https://localhost:8080/"
        },
        "outputId": "ff40497a-86c6-49a4-c81b-0a1cdca5e030"
      },
      "source": [
        "x = np.arange(10)\n",
        "x"
      ],
      "execution_count": null,
      "outputs": [
        {
          "output_type": "execute_result",
          "data": {
            "text/plain": [
              "array([0, 1, 2, 3, 4, 5, 6, 7, 8, 9])"
            ]
          },
          "metadata": {},
          "execution_count": 108
        }
      ]
    },
    {
      "cell_type": "code",
      "metadata": {
        "colab": {
          "base_uri": "https://localhost:8080/"
        },
        "id": "RFBiGGLC4EIh",
        "outputId": "286a9ef5-0b15-473e-fb2d-ed55af860084"
      },
      "source": [
        "np.random.shuffle(x)\n",
        "x"
      ],
      "execution_count": null,
      "outputs": [
        {
          "output_type": "execute_result",
          "data": {
            "text/plain": [
              "array([0, 3, 1, 8, 2, 9, 4, 6, 5, 7])"
            ]
          },
          "metadata": {},
          "execution_count": 109
        }
      ]
    },
    {
      "cell_type": "code",
      "source": [
        "#  it should be very close to 165\n",
        "import numpy as np\n",
        "measurements = np.random.uniform(160, 170, size=10000)\n",
        "mean = measurements.mean()\n",
        "print('Average of measurements is {:.4f}'.format(mean))"
      ],
      "metadata": {
        "colab": {
          "base_uri": "https://localhost:8080/"
        },
        "id": "6JrdNcgciO87",
        "outputId": "b21f1136-ff98-4f92-c503-5ddbdaa0ea02"
      },
      "execution_count": null,
      "outputs": [
        {
          "output_type": "stream",
          "name": "stdout",
          "text": [
            "Average of measurements is 165.0005\n"
          ]
        }
      ]
    },
    {
      "cell_type": "code",
      "source": [
        "# produce more values nearer 165 lbs\n",
        "mean = np.random.normal(165, 5, size=10000).mean()\n",
        "print('Average of measurements is {:.4f}'.format(mean))"
      ],
      "metadata": {
        "colab": {
          "base_uri": "https://localhost:8080/"
        },
        "id": "J9DTNF44iiyG",
        "outputId": "7460fa79-449e-4613-d490-b73801aa038b"
      },
      "execution_count": null,
      "outputs": [
        {
          "output_type": "stream",
          "name": "stdout",
          "text": [
            "Average of measurements is 164.9712\n"
          ]
        }
      ]
    },
    {
      "cell_type": "code",
      "source": [
        ""
      ],
      "metadata": {
        "id": "QKiwdyQZMydh"
      },
      "execution_count": null,
      "outputs": []
    },
    {
      "cell_type": "markdown",
      "source": [
        "10000 번 던져 얻은 주사위 값 $outcomes$ 을 사용하여 3가지 경우의 확률을 구한다\n",
        "* 짝수\n",
        "* 2보다 큰 수\n",
        "* 짝수이고 2보다 큰수 (4 또는 6) "
      ],
      "metadata": {
        "id": "dzDtuHCHMy8a"
      }
    },
    {
      "cell_type": "code",
      "source": [
        "from random import randint\n",
        "\n",
        "outcomes = [ randint(1, 6) for _ in range(10000)]\n",
        "\n",
        "even_pips = [ x for x in outcomes if x % 2 == 0]\n",
        "greater_two = [ x for x in outcomes if x > 2]\n",
        "\n",
        "combined = [ x for x in outcomes if x % 2 == 0 and x > 2]\n",
        "\n",
        "print(len(even_pips) / len(outcomes))\n",
        "print(len(greater_two) / len(outcomes))\n",
        "print(len(combined) / len(outcomes))"
      ],
      "metadata": {
        "colab": {
          "base_uri": "https://localhost:8080/"
        },
        "id": "aVqaFidVMuLL",
        "outputId": "fd6942f1-8158-41b9-ac22-3ebd706a55e2"
      },
      "execution_count": null,
      "outputs": [
        {
          "output_type": "stream",
          "name": "stdout",
          "text": [
            "0.5079\n",
            "0.6664\n",
            "0.3362\n"
          ]
        }
      ]
    },
    {
      "cell_type": "markdown",
      "metadata": {
        "id": "tHXWpsClazbr"
      },
      "source": [
        "## argmax & argmin"
      ]
    },
    {
      "cell_type": "code",
      "metadata": {
        "colab": {
          "base_uri": "https://localhost:8080/"
        },
        "id": "6a7FtSr5X_BC",
        "outputId": "c9c12d53-5e2e-46b0-b784-aaa90e71d2a9"
      },
      "source": [
        "b = x\n",
        "print (b)\n",
        "print (f\"argmax = {b.argmax()}\")\n",
        "print (f\"argmin = {b.argmin()}\")"
      ],
      "execution_count": null,
      "outputs": [
        {
          "output_type": "stream",
          "name": "stdout",
          "text": [
            "[0 3 1 8 2 9 4 6 5 7]\n",
            "argmax = 5\n",
            "argmin = 0\n"
          ]
        }
      ]
    },
    {
      "cell_type": "code",
      "metadata": {
        "colab": {
          "base_uri": "https://localhost:8080/"
        },
        "id": "k7xcCglqZfZj",
        "outputId": "9662a1f9-7830-4d25-e521-4a8968ca20cc"
      },
      "source": [
        "a.argmin(axis=0)"
      ],
      "execution_count": null,
      "outputs": [
        {
          "output_type": "execute_result",
          "data": {
            "text/plain": [
              "array([0, 0, 0, 0])"
            ]
          },
          "metadata": {},
          "execution_count": 38
        }
      ]
    },
    {
      "cell_type": "code",
      "metadata": {
        "colab": {
          "base_uri": "https://localhost:8080/"
        },
        "id": "DLq_yVTjZkSL",
        "outputId": "f713e384-26e3-4a3f-8205-ccb19ea3e3ff"
      },
      "source": [
        "a.argmax(axis=0)"
      ],
      "execution_count": null,
      "outputs": [
        {
          "output_type": "execute_result",
          "data": {
            "text/plain": [
              "array([3, 3, 3, 3])"
            ]
          },
          "metadata": {},
          "execution_count": 40
        }
      ]
    },
    {
      "cell_type": "code",
      "metadata": {
        "colab": {
          "base_uri": "https://localhost:8080/"
        },
        "id": "uA-NvwIbZKJG",
        "outputId": "e14bd03e-0933-48e2-858a-66a41d6f1a39"
      },
      "source": [
        "a.argmin(axis=1)"
      ],
      "execution_count": null,
      "outputs": [
        {
          "output_type": "execute_result",
          "data": {
            "text/plain": [
              "array([0, 0, 0, 0])"
            ]
          },
          "metadata": {},
          "execution_count": 36
        }
      ]
    },
    {
      "cell_type": "code",
      "metadata": {
        "colab": {
          "base_uri": "https://localhost:8080/"
        },
        "id": "r_twUsM8ZOfN",
        "outputId": "863feb9b-96f8-43bc-8524-4b2f95b63f57"
      },
      "source": [
        "a.argmax(axis=1)"
      ],
      "execution_count": null,
      "outputs": [
        {
          "output_type": "execute_result",
          "data": {
            "text/plain": [
              "array([3, 3, 3, 3])"
            ]
          },
          "metadata": {},
          "execution_count": 37
        }
      ]
    },
    {
      "cell_type": "code",
      "metadata": {
        "colab": {
          "base_uri": "https://localhost:8080/"
        },
        "id": "7eEWv6DzZ-Pv",
        "outputId": "b85669de-dbbb-4d6f-bf18-6b3d8aa8ec32"
      },
      "source": [
        "a = np.arange(6)\n",
        "a"
      ],
      "execution_count": null,
      "outputs": [
        {
          "output_type": "execute_result",
          "data": {
            "text/plain": [
              "array([0, 1, 2, 3, 4, 5])"
            ]
          },
          "metadata": {},
          "execution_count": 47
        }
      ]
    },
    {
      "cell_type": "markdown",
      "source": [
        "(심화)상관계수 구하기\n",
        "* 변수들이 함께 변화하는 관계를 상관관계라고 한다\n",
        "```\n",
        " (양의 상관관계) 일평균 기온이 높으면, 아이스크림 판매가 증가한다\n",
        " (음의 상관관계) 일평균 기온이 높으면, 패딩의류 판매가 감소한다\n",
        "```\n",
        "* 상관관계는 한변수가 다른변수의 직접적인 원이이 되는 인관성을 의미하지는 않는다\n",
        "* corrcoef()를 사용하여 피어슨(Pearson) 상관계수를 계산한다\n",
        "* 피어슨 상관계수는 변수들 간의 관련성을 이변량 상관분석에서 이용하는 방법이다 "
      ],
      "metadata": {
        "id": "Fdznyb_pAmja"
      }
    },
    {
      "cell_type": "code",
      "source": [
        "import numpy as np\n",
        "\n",
        "np.random.seed(85)\n",
        "x = np.arange(0, 10)\n",
        "y1 = x * 2\n",
        "\n",
        "np.corrcoef(x, y1)"
      ],
      "metadata": {
        "colab": {
          "base_uri": "https://localhost:8080/"
        },
        "id": "rZHUr7FUA9GK",
        "outputId": "f5680cf3-b112-4024-cccf-45ef6532dbaa"
      },
      "execution_count": null,
      "outputs": [
        {
          "output_type": "execute_result",
          "data": {
            "text/plain": [
              "array([[1., 1.],\n",
              "       [1., 1.]])"
            ]
          },
          "metadata": {},
          "execution_count": 7
        }
      ]
    },
    {
      "cell_type": "markdown",
      "source": [
        "x의 세제곱을 구하여 y를 만들어 x와 y의 상관관계를 구한다"
      ],
      "metadata": {
        "id": "XgMjb7EDBlzV"
      }
    },
    {
      "cell_type": "code",
      "source": [
        "y2 = x ** 3\n",
        "np.corrcoef(x, y2)"
      ],
      "metadata": {
        "colab": {
          "base_uri": "https://localhost:8080/"
        },
        "id": "rzY0aFoRBfwG",
        "outputId": "e709d11e-6dbb-40c4-aaf8-f5d9598da4ec"
      },
      "execution_count": null,
      "outputs": [
        {
          "output_type": "execute_result",
          "data": {
            "text/plain": [
              "array([[1.        , 0.90843373],\n",
              "       [0.90843373, 1.        ]])"
            ]
          },
          "metadata": {},
          "execution_count": 8
        }
      ]
    },
    {
      "cell_type": "markdown",
      "source": [
        "0에서 100 사이의 난수를 10개 생성한 후 y를 만들어 x와 y의 상관관계를 구한다\n",
        "> 난수는 특정한 규칙이 없는 수이므로 상관관계는 0에 가까운 값은 나타낸다"
      ],
      "metadata": {
        "id": "AFMPAAlLB-Dk"
      }
    },
    {
      "cell_type": "code",
      "source": [
        "y3 = np.random.randint(0,100,size=10)\n",
        "\n",
        "np.corrcoef(x, y3)"
      ],
      "metadata": {
        "colab": {
          "base_uri": "https://localhost:8080/"
        },
        "id": "sJ7llYczBsZ2",
        "outputId": "20ace60e-8e3b-4d84-87a9-a8ebc68f8fa2"
      },
      "execution_count": null,
      "outputs": [
        {
          "output_type": "execute_result",
          "data": {
            "text/plain": [
              "array([[ 1.        , -0.06472465],\n",
              "       [-0.06472465,  1.        ]])"
            ]
          },
          "metadata": {},
          "execution_count": 10
        }
      ]
    },
    {
      "cell_type": "code",
      "source": [
        "result = np.corrcoef( (x, y1,y2,y3))\n",
        "result"
      ],
      "metadata": {
        "colab": {
          "base_uri": "https://localhost:8080/"
        },
        "id": "FlDjqYwxCoWH",
        "outputId": "2d9e8828-914c-47cf-8412-ead374f36c0f"
      },
      "execution_count": null,
      "outputs": [
        {
          "output_type": "execute_result",
          "data": {
            "text/plain": [
              "array([[ 1.        ,  1.        ,  0.90843373, -0.06472465],\n",
              "       [ 1.        ,  1.        ,  0.90843373, -0.06472465],\n",
              "       [ 0.90843373,  0.90843373,  1.        , -0.17528014],\n",
              "       [-0.06472465, -0.06472465, -0.17528014,  1.        ]])"
            ]
          },
          "metadata": {},
          "execution_count": 12
        }
      ]
    },
    {
      "cell_type": "markdown",
      "source": [
        "다차원 배열 (x, y1, y2,y3) 를 튜플로 상관관계를 구한 후 상관도 값을 갖는 배열 result를 시각화함"
      ],
      "metadata": {
        "id": "vHgY7O1eDAqm"
      }
    },
    {
      "cell_type": "code",
      "source": [
        "import matplotlib.pyplot as plt\n",
        "plt.imshow(result)\n",
        "plt.colorbar()"
      ],
      "metadata": {
        "colab": {
          "base_uri": "https://localhost:8080/",
          "height": 286
        },
        "id": "WQj1QayCC0SV",
        "outputId": "54c03ebf-9a4e-4495-fb99-1766b5dcc256"
      },
      "execution_count": null,
      "outputs": [
        {
          "output_type": "execute_result",
          "data": {
            "text/plain": [
              "<matplotlib.colorbar.Colorbar at 0x7fb2579afe10>"
            ]
          },
          "metadata": {},
          "execution_count": 14
        },
        {
          "output_type": "display_data",
          "data": {
            "image/png": "[encoded data removed]",
            "text/plain": [
              "<Figure size 432x288 with 2 Axes>"
            ]
          },
          "metadata": {
            "needs_background": "light"
          }
        }
      ]
    },
    {
      "cell_type": "markdown",
      "metadata": {
        "id": "EIeOyG98aYSM"
      },
      "source": [
        "### reduce() 와 accumulate() 이해하기"
      ]
    },
    {
      "cell_type": "code",
      "metadata": {
        "colab": {
          "base_uri": "https://localhost:8080/"
        },
        "id": "HSWnZic0UsII",
        "outputId": "44d7e79d-0106-4901-ce84-b3abffe9352b"
      },
      "source": [
        "np.add.reduce(a)"
      ],
      "execution_count": null,
      "outputs": [
        {
          "output_type": "execute_result",
          "data": {
            "text/plain": [
              "15"
            ]
          },
          "metadata": {},
          "execution_count": 46
        }
      ]
    },
    {
      "cell_type": "code",
      "metadata": {
        "colab": {
          "base_uri": "https://localhost:8080/"
        },
        "id": "sDwmHL0CZ4P4",
        "outputId": "f02a24e8-dc48-48ed-cc9e-096aa14fb1d9"
      },
      "source": [
        "np.add.accumulate(a)"
      ],
      "execution_count": null,
      "outputs": [
        {
          "output_type": "execute_result",
          "data": {
            "text/plain": [
              "array([ 0,  1,  3,  6, 10, 15])"
            ]
          },
          "metadata": {},
          "execution_count": 49
        }
      ]
    },
    {
      "cell_type": "markdown",
      "metadata": {
        "id": "eYz0a0rYcI8T"
      },
      "source": [
        "## openweathermap 자료 처리\n",
        "* numpy 사용 최대값, 최소값, 평균"
      ]
    },
    {
      "cell_type": "code",
      "metadata": {
        "id": "UT55OkJ6cOTn"
      },
      "source": [
        "import requests\n",
        "from bs4 import BeautifulSoup"
      ],
      "execution_count": null,
      "outputs": []
    },
    {
      "cell_type": "code",
      "metadata": {
        "id": "r80tl1Kb_JtM"
      },
      "source": [
        "def search_city_temp(city):\n",
        "\n",
        "    API_KEY = 'a070fcd8fc2db8d5d1f140466a2012b4'  # initialize your key here\n",
        "    # call API and convert response into Python dictionary\n",
        "    \n",
        "    url = f'http://api.openweathermap.org/data/2.5/weather?q={city}&APPID={API_KEY}&mode=xml'\n",
        "    #print (url)\n",
        "    \n",
        "    response = requests.get(url)\n",
        "    # error like unknown city name, inavalid api key\n",
        "    if response.status_code != 200:\n",
        "        message = response.get('message', '')\n",
        "        return f'Error getting temperature for {city.title()}. Error message = {message}'\n",
        "\n",
        "    content = response.content\n",
        "    #print(content)\n",
        "    soup = BeautifulSoup(content, \"xml\")\n",
        "    \n",
        "    # <temperature value=\"278.07\" min=\"273.15\" max=\"282.59\" unit=\"kelvin\" />\n",
        "    current_temperature = soup.find('temperature')['value'] \n",
        "    #print(f'기온 = {current_temperature}')\n",
        "     \n",
        "    if current_temperature:\n",
        "        current_temperature_celsius = round(float(current_temperature) - 273.15, 2)\n",
        "        return f'{current_temperature_celsius}'\n",
        "    else:\n",
        "        return f'-1'"
      ],
      "execution_count": null,
      "outputs": []
    },
    {
      "cell_type": "markdown",
      "source": [
        "* 리스트를 사용하여 최대값 구하기"
      ],
      "metadata": {
        "id": "vl6w4O8Hmle1"
      }
    },
    {
      "cell_type": "code",
      "source": [
        "city_list = ['cheonan', \"london\", \"seoul\", \"jeju\", \"chicago\", \"suwon\", \"hongkong\"]\n",
        "\n",
        "temp_list = []\n",
        "for c in city_list:\n",
        "    result = search_city_temp(c)\n",
        "    temp_list.append(float(result))"
      ],
      "metadata": {
        "id": "VKpGg0GPmZaj"
      },
      "execution_count": null,
      "outputs": []
    },
    {
      "cell_type": "code",
      "source": [
        "tmp = max(temp_list)\n",
        "index = temp_list.index(tmp)\n",
        "print (f'Max temp = {city_list[index]}, {tmp}')"
      ],
      "metadata": {
        "colab": {
          "base_uri": "https://localhost:8080/"
        },
        "id": "-QHLIohUmTvs",
        "outputId": "e0b48f7a-eb42-4fe5-fb77-24f9a73ef5c8"
      },
      "execution_count": null,
      "outputs": [
        {
          "output_type": "stream",
          "name": "stdout",
          "text": [
            "Max temp = hongkong, 20.97\n"
          ]
        }
      ]
    },
    {
      "cell_type": "markdown",
      "source": [
        "* numpy 로 최대값 구하기"
      ],
      "metadata": {
        "id": "l61-erjNmr3x"
      }
    },
    {
      "cell_type": "code",
      "metadata": {
        "id": "noOWI181rwTm"
      },
      "source": [
        "import numpy as np\n",
        "\n",
        "city_list = ['cheonan', \"london\", \"seoul\", \"jeju\", \"chicago\", \"suwon\", \"hongkong\"]\n",
        "\n",
        "temp_list = []\n",
        "for c in city_list:\n",
        "    result = search_city_temp(c)\n",
        "    temp_list.append(float(result))\n",
        "    #print (f\"{c} : {result}\")\n",
        "\n",
        "\n",
        "narr_temp = np.array(temp_list)"
      ],
      "execution_count": null,
      "outputs": []
    },
    {
      "cell_type": "code",
      "source": [
        "# https://namu.wiki/w/%ED%91%9C%EC%A4%80%ED%8E%B8%EC%B0%A8\n",
        "\n",
        "# 분산(variance)은 관측값에서 평균을 뺀 값을 제곱, 그것을 모두 더한 후 전체 갯수로 나눈어 구한값\n",
        "print (np.var(narr_temp) )\n",
        "# 표준 편차(standard deviation)는 분산을 제곱근한 것\n",
        "print ( np.std(narr_temp) )"
      ],
      "metadata": {
        "colab": {
          "base_uri": "https://localhost:8080/"
        },
        "id": "3SEJ1ET6UzWZ",
        "outputId": "f2e12c93-ae93-484e-f4be-dd2a1c9838b6"
      },
      "execution_count": null,
      "outputs": [
        {
          "output_type": "stream",
          "name": "stdout",
          "text": [
            "24.473869387755098\n",
            "4.947107173667769\n"
          ]
        }
      ]
    },
    {
      "cell_type": "code",
      "source": [
        "np.mean(narr_temp)"
      ],
      "metadata": {
        "colab": {
          "base_uri": "https://localhost:8080/"
        },
        "id": "gdw4n6xTsfkO",
        "outputId": "3e3e1c94-c3ab-4435-87e6-d9eb45e8a555"
      },
      "execution_count": null,
      "outputs": [
        {
          "output_type": "execute_result",
          "data": {
            "text/plain": [
              "10.558571428571428"
            ]
          },
          "metadata": {},
          "execution_count": 82
        }
      ]
    },
    {
      "cell_type": "code",
      "source": [
        "narr_temp - np.mean(narr_temp) # 편차(deviation)는 관측값에서 평균을 뺀 것\n"
      ],
      "metadata": {
        "colab": {
          "base_uri": "https://localhost:8080/"
        },
        "id": "V4LvY9lsVLss",
        "outputId": "bc103b6d-45ed-423f-c477-5104b96793bd"
      },
      "execution_count": null,
      "outputs": [
        {
          "output_type": "execute_result",
          "data": {
            "text/plain": [
              "array([-5.00857143,  0.04142857, -3.39857143,  2.40142857,  0.08142857,\n",
              "       -4.52857143, 10.41142857])"
            ]
          },
          "metadata": {},
          "execution_count": 83
        }
      ]
    },
    {
      "cell_type": "markdown",
      "source": [
        "* 시각화하기"
      ],
      "metadata": {
        "id": "eyWXSDsym8ZX"
      }
    },
    {
      "cell_type": "code",
      "metadata": {
        "colab": {
          "base_uri": "https://localhost:8080/",
          "height": 298
        },
        "id": "FeOLsstM_sLn",
        "outputId": "708fa7e3-aead-4f89-a5aa-dce1b196b73a"
      },
      "source": [
        "import matplotlib.pyplot as plt\n",
        "from datetime import datetime\n",
        "\n",
        "now = datetime.now() \n",
        "date_time = now.strftime(\"%m/%d/%Y, %H:%M:%S\")\n",
        "\n",
        "plt.bar(city_list, narr_temp)\n",
        "plt.plot(city_list, narr_temp, \"ro\")\n",
        "plt.title(f\"{date_time}\")"
      ],
      "execution_count": null,
      "outputs": [
        {
          "output_type": "execute_result",
          "data": {
            "text/plain": [
              "Text(0.5, 1.0, '12/14/2021, 23:50:58')"
            ]
          },
          "metadata": {},
          "execution_count": 11
        },
        {
          "output_type": "display_data",
          "data": {
            "image/png": "[encoded data removed]",
            "text/plain": [
              "<Figure size 432x288 with 1 Axes>"
            ]
          },
          "metadata": {
            "needs_background": "light"
          }
        }
      ]
    },
    {
      "cell_type": "code",
      "metadata": {
        "colab": {
          "base_uri": "https://localhost:8080/"
        },
        "id": "oQ1nU2r_A5Ry",
        "outputId": "f8034af7-63ed-40fc-a4cb-ec73b39b0a72"
      },
      "source": [
        "tmp = np.max(narr_temp)\n",
        "index = temp_list.index(tmp) # argmax () 사용하여 index를 구할 수 있음\n",
        "print (f'Max temp = {city_list[index]}, {tmp}')"
      ],
      "execution_count": null,
      "outputs": [
        {
          "output_type": "stream",
          "name": "stdout",
          "text": [
            "Max temp = hongkong, 20.97\n"
          ]
        }
      ]
    },
    {
      "cell_type": "code",
      "metadata": {
        "id": "7DY5p6PzBa2X",
        "colab": {
          "base_uri": "https://localhost:8080/"
        },
        "outputId": "b3b784f4-39e2-4b53-b52b-55b1c01f39cf"
      },
      "source": [
        "tmp = np.min(narr_temp)\n",
        "index = temp_list.index(tmp)\n",
        "print (f'min temp = {city_list[index]}, {tmp}')"
      ],
      "execution_count": null,
      "outputs": [
        {
          "output_type": "stream",
          "name": "stdout",
          "text": [
            "min temp = cheonan, 5.55\n"
          ]
        }
      ]
    },
    {
      "cell_type": "code",
      "metadata": {
        "colab": {
          "base_uri": "https://localhost:8080/"
        },
        "id": "fetWbTCRezBx",
        "outputId": "b979c56c-b049-4a16-e9b2-0658bd0b9533"
      },
      "source": [
        "avg = narr_temp.mean()\n",
        "print (f\"mean = {avg}\")"
      ],
      "execution_count": null,
      "outputs": [
        {
          "output_type": "stream",
          "name": "stdout",
          "text": [
            "mean = 10.558571428571428\n"
          ]
        }
      ]
    },
    {
      "cell_type": "markdown",
      "metadata": {
        "id": "FN-ilfuIdwLx"
      },
      "source": [
        "## CSV 파일 numpy로 처리하기\n",
        "* 자료값은 컴마로 구분이됨 \n",
        "* 자료의 첫번쨰 줄은 자료의 설명으로 구성됨   "
      ]
    },
    {
      "cell_type": "code",
      "metadata": {
        "id": "cUUteFLRiPzS"
      },
      "source": [
        "URL = \"https://raw.githubusercontent.com/iceman67/-Python/master/weather-119-10-large.csv\""
      ],
      "execution_count": null,
      "outputs": []
    },
    {
      "cell_type": "code",
      "metadata": {
        "colab": {
          "base_uri": "https://localhost:8080/"
        },
        "id": "6Hgeqel_WrMd",
        "outputId": "dd34f907-7380-4081-b1b4-39377a4d10c0"
      },
      "source": [
        "import numpy as np\n",
        "\n",
        "data = np.genfromtxt(URL, delimiter=',')\n",
        "data.shape"
      ],
      "execution_count": null,
      "outputs": [
        {
          "output_type": "execute_result",
          "data": {
            "text/plain": [
              "(1613, 10)"
            ]
          },
          "metadata": {},
          "execution_count": 105
        }
      ]
    },
    {
      "cell_type": "code",
      "metadata": {
        "colab": {
          "base_uri": "https://localhost:8080/"
        },
        "id": "EiHNoaULkRq1",
        "outputId": "518ce69a-c5aa-41ad-a907-8d81c9a9c2d8"
      },
      "source": [
        "data[1:5, :]"
      ],
      "execution_count": null,
      "outputs": [
        {
          "output_type": "execute_result",
          "data": {
            "text/plain": [
              "array([[   nan,  119. ,   21.3,    6.4,   14.2,    nan,   10.5,    4. ,\n",
              "          79. , 1016.2],\n",
              "       [   nan,  119. ,   21.4,    4.9,   12.9,    nan,   10.3,    2.8,\n",
              "          79. , 1017.8],\n",
              "       [   nan,  119. ,   22.8,    5.4,   14.1,    nan,   10.1,    2.5,\n",
              "          79. , 1015.4],\n",
              "       [   nan,  119. ,   22.4,    5.8,   14.2,    nan,    9.9,    4.1,\n",
              "          81.8, 1012.6]])"
            ]
          },
          "metadata": {},
          "execution_count": 120
        }
      ]
    },
    {
      "cell_type": "code",
      "metadata": {
        "colab": {
          "base_uri": "https://localhost:8080/"
        },
        "id": "qlY7XFzKg64B",
        "outputId": "d18b7535-0fa7-470e-d9b4-c24a6f4de57d"
      },
      "source": [
        "# CSV 의 첫번째 줄은 설명이므로 해당 자료를 제외하여야 함 \n",
        "# 방법 1\n",
        "# 기온 최고\n",
        "temp = data[1:, 2]\n",
        "# 기온 최저 \n",
        "hum = data[1:, 8]\n",
        "\n",
        "# 방법 2: nan 처리\n",
        "\n",
        "temp = data[:, 2]\n",
        "temp = temp[~np.isnan(temp)] \n",
        "hum = data[:, 8]\n",
        "hum = hum[~np.isnan(hum)] \n",
        "# \n",
        "\n",
        "avgT = np.average(temp)\n",
        "avgH = np.average(hum)\n",
        "\n",
        "print (f\"average temp = {avgT}, average humidity = {avgH}\")"
      ],
      "execution_count": null,
      "outputs": [
        {
          "output_type": "stream",
          "name": "stdout",
          "text": [
            "average temp = 20.148479205462447, average humidity = 72.32388337468983\n"
          ]
        }
      ]
    },
    {
      "cell_type": "code",
      "metadata": {
        "colab": {
          "base_uri": "https://localhost:8080/"
        },
        "id": "6MvXLRNHlHUG",
        "outputId": "7a0fc83d-82c9-418a-a90d-49e5e4307602"
      },
      "source": [
        "x = np.arange(100)\n",
        "y = np.arange(100, 0,-1)\n",
        "\n",
        "cor = np.corrcoef(x,y)\n",
        "cor\n",
        "print (f\"상관관계 x와 y = {cor}\")"
      ],
      "execution_count": null,
      "outputs": [
        {
          "output_type": "stream",
          "name": "stdout",
          "text": [
            "상관관계 x와 y = [[ 1. -1.]\n",
            " [-1.  1.]]\n"
          ]
        }
      ]
    },
    {
      "cell_type": "markdown",
      "metadata": {
        "id": "TzaPGUB3jj9H"
      },
      "source": [
        "## Z-value 표준값 사용한 anomaly detection\n",
        "* 이상치 검출(outlier detection)에 활용할 수 있음 \n",
        "* 데이터를 분석할 때 이상치는 의사결정에 영향을 미칠 수 있음\n",
        "* 이상치는 관측치들이 주로 모여 있는 곳에서 멀리 떨어져 있어 특정 그룹으로 분류되지\n",
        "못하는 값\n",
        "*  이상치는 입력 오류 등 자료 오염으로 인해 발생한 비합리적인 이상치와, 정확하게 측정되었으나 다른 자료들과 전혀 다른 경향이나 특성을 보이는 합리적인 이상치로 구분할 수 있음\n",
        "* 정상군의 상한과 하한의 범위를 벗어난 자료\n",
        ">  이상치는 패턴에서 벗어난 값'으로 정의를 내릴 수 있으며,  '중심에서 좀 많이 떨어져 있는 값'의 특징을 가짐\n",
        "---\n",
        "* 단변량 자료에서 이상치 탐색 방법으로는 표준화 점수(Z-score), 통계적 가설 검정, 사\n",
        "분위수 범위 등이 있음\n",
        "\n",
        "* 표준화 점수 값은 평균에서 얼마나 떨어져 있는지를 표현함\n",
        "* $Z score$ = $(x -mean) / std. deviation$\n",
        "\n",
        "* 음수이면 평균이하, 양수이면 평균이상\n",
        "\n"
      ]
    },
    {
      "cell_type": "markdown",
      "metadata": {
        "id": "caa5VAy5Nu2o"
      },
      "source": [
        "**평균 및 표준편차** 구하기"
      ]
    },
    {
      "cell_type": "code",
      "metadata": {
        "colab": {
          "base_uri": "https://localhost:8080/"
        },
        "id": "8H9a1u19NcE7",
        "outputId": "9102eb1f-e5db-4f2f-f8a7-2a7028bf0aeb"
      },
      "source": [
        "import numpy as np\n",
        "data = [1, 2, 2, 2, 3, 1, 1, 15, 2, 2, 2, 3, 1, 1, 2] \n",
        "mean = np.mean(data) \n",
        "std = np.std(data) \n",
        "print('mean of the dataset is', mean) \n",
        "print('std. deviation is', std) "
      ],
      "execution_count": null,
      "outputs": [
        {
          "output_type": "stream",
          "name": "stdout",
          "text": [
            "mean of the dataset is 2.6666666666666665\n",
            "std. deviation is 3.3598941782277745\n"
          ]
        }
      ]
    },
    {
      "cell_type": "markdown",
      "metadata": {
        "id": "ZHN9ADMjN6nE"
      },
      "source": [
        "  Z score 계산하기  (if Z score>3, print it as an outlier)\n",
        "\n",
        "  > z = (x – μ) / σ"
      ]
    },
    {
      "cell_type": "code",
      "metadata": {
        "colab": {
          "base_uri": "https://localhost:8080/"
        },
        "id": "PIvEXxJ4Oduz",
        "outputId": "17c70241-df61-4c96-d85a-2b27396efd1d"
      },
      "source": [
        "threshold = 3\n",
        "outlier = [] \n",
        "for i in data: \n",
        "\tz = (i-mean)/std  # z 값\n",
        "\tif z > threshold: \n",
        "\t\toutlier.append(i) \n",
        "print('outlier in dataset is', outlier) "
      ],
      "execution_count": null,
      "outputs": [
        {
          "output_type": "stream",
          "name": "stdout",
          "text": [
            "outlier in dataset is [15]\n"
          ]
        }
      ]
    },
    {
      "cell_type": "code",
      "metadata": {
        "id": "c2-XIe-kkBbr"
      },
      "source": [
        "import numpy as np\n",
        "X = np.array([6, 7, 7, 12, 13, 13, 15, 16, 19, 22])"
      ],
      "execution_count": null,
      "outputs": []
    },
    {
      "cell_type": "code",
      "source": [
        "m = X.mean()\n",
        "m"
      ],
      "metadata": {
        "colab": {
          "base_uri": "https://localhost:8080/"
        },
        "id": "4_TZvIrr0lFq",
        "outputId": "368eb874-dd68-4b67-c670-7befd7b0b5f7"
      },
      "execution_count": null,
      "outputs": [
        {
          "output_type": "execute_result",
          "data": {
            "text/plain": [
              "13.0"
            ]
          },
          "metadata": {},
          "execution_count": 119
        }
      ]
    },
    {
      "cell_type": "markdown",
      "metadata": {
        "id": "lLhtc32Imh1Y"
      },
      "source": [
        "샘플 값이 표준 편차에서 얼마만큼 떨어졌지를 구하는 수식으로 샘플값에서 평군을 뺸값을 표준편차로 나누어 구함 \n",
        "> how many standard deviations away a value is from the mean."
      ]
    },
    {
      "cell_type": "code",
      "metadata": {
        "id": "RAsn8NjVji_3",
        "colab": {
          "base_uri": "https://localhost:8080/"
        },
        "outputId": "ee9007f7-4f69-4f10-f5cc-9b508d2bfae0"
      },
      "source": [
        "Z = (X - X.mean(axis=0)) / X.std(axis=0)\n",
        "Z\n"
      ],
      "execution_count": null,
      "outputs": [
        {
          "output_type": "execute_result",
          "data": {
            "text/plain": [
              "array([-1.39443338, -1.19522861, -1.19522861, -0.19920477,  0.        ,\n",
              "        0.        ,  0.39840954,  0.5976143 ,  1.19522861,  1.79284291])"
            ]
          },
          "metadata": {},
          "execution_count": 120
        }
      ]
    },
    {
      "cell_type": "markdown",
      "metadata": {
        "id": "rvLKB6F7mQwF"
      },
      "source": [
        "filter는 iterable 자료에서 True 값만 남기고 False 값을 제거함 "
      ]
    },
    {
      "cell_type": "code",
      "metadata": {
        "colab": {
          "base_uri": "https://localhost:8080/"
        },
        "id": "A8BCR4SSkJw3",
        "outputId": "6617a490-4ade-4247-d1da-2fd9d4568bda"
      },
      "source": [
        "TH = 1.5\n",
        "anomaly_detection = lambda x : abs(x) > TH\n",
        "\n",
        "print (f\"Z-value {Z}\")\n",
        "A = list(filter (anomaly_detection,Z))\n",
        "print (f\"Anomaly {A}\")\n",
        "print (f\"Anomaly rate = {len(A)/len(X)}\")"
      ],
      "execution_count": null,
      "outputs": [
        {
          "output_type": "stream",
          "name": "stdout",
          "text": [
            "Z-value [-1.39443338 -1.19522861 -1.19522861 -0.19920477  0.          0.\n",
            "  0.39840954  0.5976143   1.19522861  1.79284291]\n",
            "Anomaly [1.7928429140015905]\n",
            "Anomaly rate = 0.1\n"
          ]
        }
      ]
    },
    {
      "cell_type": "markdown",
      "metadata": {
        "id": "I6REpk21qO0v"
      },
      "source": [
        "### (실습) $z-value$ 구하기\n",
        "* Openweathermap 을 통해 수집된 10개 지역의 기온값과 기압으로 각각 구한 후 $z-value$ 를 구한다\n",
        "* z-value 범위에 따른 지역의 특징을 찾아봄 (임계값을 변화시켜가면 이상치를 찾아본다)"
      ]
    },
    {
      "cell_type": "code",
      "metadata": {
        "id": "o1OLH7YGqo_e",
        "colab": {
          "base_uri": "https://localhost:8080/"
        },
        "outputId": "cf472fd0-7d58-4eb0-d153-d43e7e70e233"
      },
      "source": [
        "city_list = ['cheonan', \"london\", \"seoul\", \"jeju\", \"chicago\", \"suwon\", \"hongkong\", \"incheon\"]\n",
        "\n",
        "temp_list = []\n",
        "for c in city_list:\n",
        "    result = search_city_temp(c)\n",
        "    temp_list.append(float(result))\n",
        "    #print (f\"{c} : {result}\")\n",
        "\n",
        "\n",
        "X = np.array(temp_list)\n",
        "X"
      ],
      "execution_count": null,
      "outputs": [
        {
          "output_type": "execute_result",
          "data": {
            "text/plain": [
              "array([ 5.04, 10.65,  9.69, 13.83, 10.87,  9.68, 21.85,  9.93])"
            ]
          },
          "metadata": {},
          "execution_count": 126
        }
      ]
    },
    {
      "cell_type": "markdown",
      "source": [
        "* 이상치를 갖는 지역을 찾아본다"
      ],
      "metadata": {
        "id": "Vp2ZI57tpxP1"
      }
    },
    {
      "cell_type": "code",
      "source": [
        "TH = 1\n",
        "anomaly_detection = lambda x : abs(x) > TH\n",
        "Z = (X - X.mean(axis=0)) / X.std(axis=0)\n",
        "\n",
        "print (f\"Z-value {Z}\")\n",
        "A = list(filter (anomaly_detection,Z))\n",
        "print (f\"Anomaly {A}\")\n",
        "print (f\"Anomaly rate = {len(A)/len(Z)}\")"
      ],
      "metadata": {
        "colab": {
          "base_uri": "https://localhost:8080/"
        },
        "id": "kPB8ykgrokAy",
        "outputId": "6b01ee0e-6b14-4acf-ecde-4d95e5ca49ef"
      },
      "execution_count": null,
      "outputs": [
        {
          "output_type": "stream",
          "name": "stdout",
          "text": [
            "Z-value [-1.4122283  -0.1748053  -0.38655683  0.52662164 -0.12627891 -0.38876257\n",
            "  2.29562921 -0.33361895]\n",
            "Anomaly [-1.4122283014736703, 2.295629214773484]\n",
            "Anomaly rate = 0.25\n"
          ]
        }
      ]
    },
    {
      "cell_type": "markdown",
      "source": [
        "## Linear Combinations\n",
        "\n",
        "(3.21, 1.77, 3.65) = 3.21 · (1,0,0) + 1.77 (0,1,0) + 3.65 · (0,0,1)"
      ],
      "metadata": {
        "id": "fUKKlJdzReqt"
      }
    },
    {
      "cell_type": "code",
      "source": [
        "import numpy as np\n",
        "x = np.array([[0, 0, 1],\n",
        "              [0, 1, 0],\n",
        "              [1, 0, 0]])\n",
        "y = ([3.65, 1.55, 3.42])\n",
        "scalars = np.linalg.solve(x, y)\n",
        "scalars"
      ],
      "metadata": {
        "colab": {
          "base_uri": "https://localhost:8080/"
        },
        "id": "7B-OIYyQRdvV",
        "outputId": "e6478a15-a311-4e1c-84da-d7dd5da5d19a"
      },
      "execution_count": null,
      "outputs": [
        {
          "output_type": "execute_result",
          "data": {
            "text/plain": [
              "array([3.42, 1.55, 3.65])"
            ]
          },
          "metadata": {},
          "execution_count": 19
        }
      ]
    },
    {
      "cell_type": "code",
      "source": [
        "import numpy as np\n",
        "x = np.array([[0, 1, 1],\n",
        "              [1, 1, 0],\n",
        "              [1, 0, 1]])\n",
        "y = ([3.65, 1.55, 3.42])\n",
        "scalars = np.linalg.solve(x, y)\n",
        "scalars"
      ],
      "metadata": {
        "colab": {
          "base_uri": "https://localhost:8080/"
        },
        "id": "I4SI4X9VR-bX",
        "outputId": "da073cef-3a87-4907-fbae-ccd79a74a1ac"
      },
      "execution_count": null,
      "outputs": [
        {
          "output_type": "execute_result",
          "data": {
            "text/plain": [
              "array([0.66, 0.89, 2.76])"
            ]
          },
          "metadata": {},
          "execution_count": 20
        }
      ]
    },
    {
      "cell_type": "markdown",
      "source": [
        "## 이미지 처리"
      ],
      "metadata": {
        "id": "kjY1_ki2Yw7x"
      }
    },
    {
      "cell_type": "code",
      "source": [
        "import numpy as np\n",
        "data = np.zeros( (512,512,3), dtype=np.uint8)\n",
        "data[256,256] = [255,0,0]"
      ],
      "metadata": {
        "id": "3Q2Jdpz5owE1"
      },
      "execution_count": null,
      "outputs": []
    },
    {
      "cell_type": "code",
      "source": [
        "from matplotlib import pyplot as plt\n",
        "plt.imshow(data, interpolation='nearest')\n",
        "plt.show()"
      ],
      "metadata": {
        "colab": {
          "base_uri": "https://localhost:8080/",
          "height": 269
        },
        "id": "pSaiWDuQox8x",
        "outputId": "e57f2362-f808-4ea5-e346-df80e1e1feea"
      },
      "execution_count": null,
      "outputs": [
        {
          "output_type": "display_data",
          "data": {
            "image/png": "[encoded data removed]",
            "text/plain": [
              "<Figure size 432x288 with 1 Axes>"
            ]
          },
          "metadata": {
            "needs_background": "light"
          }
        }
      ]
    },
    {
      "cell_type": "code",
      "source": [
        "import numpy as np\n",
        "import matplotlib.pyplot as plt\n",
        "\n",
        "image_path = \"https://blog.kakaocdn.net/dn/cnryjt/btqCbT5bmQT/OhPB805ZcP38FXgtf9J2K1/img.png\"\n",
        "image = plt.imread(image_path) # 이미지파일을 읽어 배열로 구성함  "
      ],
      "metadata": {
        "id": "CvHk5sKFY16h"
      },
      "execution_count": null,
      "outputs": []
    },
    {
      "cell_type": "code",
      "source": [
        "image.shape"
      ],
      "metadata": {
        "colab": {
          "base_uri": "https://localhost:8080/"
        },
        "id": "LeV2Txo_bV0f",
        "outputId": "36952251-30fa-49e5-ecd5-78a46209650c"
      },
      "execution_count": null,
      "outputs": [
        {
          "output_type": "execute_result",
          "data": {
            "text/plain": [
              "(230, 579, 4)"
            ]
          },
          "metadata": {},
          "execution_count": 131
        }
      ]
    },
    {
      "cell_type": "code",
      "source": [
        "plt.imshow(image)\n",
        "plt.show() "
      ],
      "metadata": {
        "colab": {
          "base_uri": "https://localhost:8080/",
          "height": 185
        },
        "id": "RRWtN2shbXtf",
        "outputId": "0ba5da07-df41-4773-b88d-1da79ee49b13"
      },
      "execution_count": null,
      "outputs": [
        {
          "output_type": "display_data",
          "data": {
            "image/png": "[encoded data removed]",
            "text/plain": [
              "<Figure size 432x288 with 1 Axes>"
            ]
          },
          "metadata": {
            "needs_background": "light"
          }
        }
      ]
    },
    {
      "cell_type": "code",
      "source": [
        "import numpy as np\n",
        "\n",
        "def rgb2gray(rgb):\n",
        "\n",
        "    r, g, b = rgb[:,:,0], rgb[:,:,1], rgb[:,:,2]\n",
        "    gray = 0.2989 * r + 0.5870 * g + 0.1140 * b\n",
        "\n",
        "    return gray"
      ],
      "metadata": {
        "id": "3BW__qPgdiXf"
      },
      "execution_count": null,
      "outputs": []
    },
    {
      "cell_type": "code",
      "source": [
        "def rgb2gray(rgb):\n",
        "    return np.dot(rgb[...,:3], [0.2989, 0.5870, 0.1140])"
      ],
      "metadata": {
        "id": "qP7l2lYZe9u5"
      },
      "execution_count": null,
      "outputs": []
    },
    {
      "cell_type": "code",
      "source": [
        "gray = rgb2gray(image)    \n",
        "plt.imshow(gray, cmap=plt.get_cmap('gray'), vmin=0, vmax=1)\n",
        "plt.show()"
      ],
      "metadata": {
        "colab": {
          "base_uri": "https://localhost:8080/",
          "height": 185
        },
        "id": "s2yq7554bcNi",
        "outputId": "1fa2b098-023c-446c-f654-ac31de536cc1"
      },
      "execution_count": null,
      "outputs": [
        {
          "output_type": "display_data",
          "data": {
            "image/png": "[encoded data removed]",
            "text/plain": [
              "<Figure size 432x288 with 1 Axes>"
            ]
          },
          "metadata": {
            "needs_background": "light"
          }
        }
      ]
    },
    {
      "cell_type": "code",
      "source": [
        "gray.shape"
      ],
      "metadata": {
        "colab": {
          "base_uri": "https://localhost:8080/"
        },
        "id": "fyvt2OPF4PgR",
        "outputId": "d72c70da-d2fb-42f2-f4d5-5abd4401fdf9"
      },
      "execution_count": null,
      "outputs": [
        {
          "output_type": "execute_result",
          "data": {
            "text/plain": [
              "(230, 579)"
            ]
          },
          "metadata": {},
          "execution_count": 135
        }
      ]
    },
    {
      "cell_type": "code",
      "source": [
        "trans_image = np.transpose(gray)\n",
        "plt.imshow(trans_image, cmap=plt.get_cmap('gray'), vmin=0, vmax=1)\n",
        "plt.show()"
      ],
      "metadata": {
        "colab": {
          "base_uri": "https://localhost:8080/",
          "height": 269
        },
        "id": "mzi-dplHr3nf",
        "outputId": "18dfbb71-f187-4196-d861-44541d3e86c4"
      },
      "execution_count": null,
      "outputs": [
        {
          "output_type": "display_data",
          "data": {
            "image/png": "[encoded data removed]",
            "text/plain": [
              "<Figure size 432x288 with 1 Axes>"
            ]
          },
          "metadata": {
            "needs_background": "light"
          }
        }
      ]
    },
    {
      "cell_type": "code",
      "source": [
        "trans_image = np.transpose(gray)\n",
        "trans_image = np.transpose(trans_image)\n",
        "plt.imshow(trans_image, cmap=plt.get_cmap('gray'), vmin=0, vmax=1)\n",
        "plt.show()"
      ],
      "metadata": {
        "colab": {
          "base_uri": "https://localhost:8080/",
          "height": 185
        },
        "id": "ig7nUFQgrKFe",
        "outputId": "c8768ad5-9d1e-48e3-91bf-2efa265f94a3"
      },
      "execution_count": null,
      "outputs": [
        {
          "output_type": "display_data",
          "data": {
            "image/png": "[encoded data removed]",
            "text/plain": [
              "<Figure size 432x288 with 1 Axes>"
            ]
          },
          "metadata": {
            "needs_background": "light"
          }
        }
      ]
    },
    {
      "cell_type": "code",
      "source": [
        "trans_image = np.transpose(gray)\n",
        "plt.imshow(trans_image, cmap=plt.get_cmap('gray'), vmin=0, vmax=1)\n",
        "plt.show()"
      ],
      "metadata": {
        "colab": {
          "base_uri": "https://localhost:8080/",
          "height": 269
        },
        "id": "SBQv3u5xpnEp",
        "outputId": "6d4f5295-ffe0-496b-c834-503cdac42a0c"
      },
      "execution_count": null,
      "outputs": [
        {
          "output_type": "display_data",
          "data": {
            "image/png": "[encoded data removed]",
            "text/plain": [
              "<Figure size 432x288 with 1 Axes>"
            ]
          },
          "metadata": {
            "needs_background": "light"
          }
        }
      ]
    },
    {
      "cell_type": "code",
      "source": [
        "import numpy as np\n",
        "import matplotlib.pyplot as plt\n",
        "\n",
        "image_path = \"https://upload.wikimedia.org/wikipedia/ko/thumb/2/24/Lenna.png/440px-Lenna.png\"\n",
        "image = plt.imread(image_path)"
      ],
      "metadata": {
        "id": "7wQ1z63miDQb"
      },
      "execution_count": null,
      "outputs": []
    },
    {
      "cell_type": "code",
      "source": [
        "plt.imshow(image)\n",
        "plt.show() "
      ],
      "metadata": {
        "colab": {
          "base_uri": "https://localhost:8080/",
          "height": 269
        },
        "id": "aJAVNNOAiaHI",
        "outputId": "1e1d9030-7064-4610-d38f-3cbb31d74bf2"
      },
      "execution_count": null,
      "outputs": [
        {
          "output_type": "display_data",
          "data": {
            "image/png": "[encoded data removed]",
            "text/plain": [
              "<Figure size 432x288 with 1 Axes>"
            ]
          },
          "metadata": {
            "needs_background": "light"
          }
        }
      ]
    },
    {
      "cell_type": "markdown",
      "source": [
        "RGB 이미지를 그레이스케일 이미지로 변환하기 \n",
        "> 컬러 채널의 평균을 적용 "
      ],
      "metadata": {
        "id": "NheidzJgurW8"
      }
    },
    {
      "cell_type": "code",
      "source": [
        "gray_img=image.copy()\n",
        "for clr in range(image.shape[2]):\n",
        "    gray_img[:,:,clr]=image.mean(axis=2) #Take mean of all 3 color channels of each pixel and assign it back to that pixel(in copied image)\n"
      ],
      "metadata": {
        "id": "wU91fMUguCnT"
      },
      "execution_count": null,
      "outputs": []
    },
    {
      "cell_type": "code",
      "source": [
        "plt.imshow(gray_img)\n",
        "plt.show()"
      ],
      "metadata": {
        "colab": {
          "base_uri": "https://localhost:8080/",
          "height": 269
        },
        "id": "QLUamY4zuQp1",
        "outputId": "9225547f-feaa-41e3-e6e5-1fa52498e891"
      },
      "execution_count": null,
      "outputs": [
        {
          "output_type": "display_data",
          "data": {
            "image/png": "[encoded data removed]",
            "text/plain": [
              "<Figure size 432x288 with 1 Axes>"
            ]
          },
          "metadata": {
            "needs_background": "light"
          }
        }
      ]
    },
    {
      "cell_type": "code",
      "source": [
        "print(f\"Rows of Pixels: {image.shape[0]} Rows\")\n",
        "print(f\"Columns of Pixels: {image.shape[1]} Columns\")\n",
        "print(f\"Color Channels: {image.shape[2]} Color Channels\")"
      ],
      "metadata": {
        "colab": {
          "base_uri": "https://localhost:8080/"
        },
        "id": "KjHqu8G8hFNg",
        "outputId": "b190b094-5ad8-4e8a-8760-4cb094da8402"
      },
      "execution_count": null,
      "outputs": [
        {
          "output_type": "stream",
          "name": "stdout",
          "text": [
            "Rows of Pixels: 440 Rows\n",
            "Columns of Pixels: 440 Columns\n",
            "Color Channels: 4 Color Channels\n"
          ]
        }
      ]
    },
    {
      "cell_type": "code",
      "source": [
        "gray = rgb2gray(image)    \n",
        "plt.imshow(gray, cmap=plt.get_cmap('gray'), vmin=0, vmax=1)\n",
        "plt.show()"
      ],
      "metadata": {
        "colab": {
          "base_uri": "https://localhost:8080/",
          "height": 269
        },
        "id": "f_hFymaeiej4",
        "outputId": "22a9defc-8648-45a4-c146-6d81523b7910"
      },
      "execution_count": null,
      "outputs": [
        {
          "output_type": "display_data",
          "data": {
            "image/png": "[encoded data removed]",
            "text/plain": [
              "<Figure size 432x288 with 1 Axes>"
            ]
          },
          "metadata": {
            "needs_background": "light"
          }
        }
      ]
    },
    {
      "cell_type": "code",
      "source": [
        "gray.shape"
      ],
      "metadata": {
        "colab": {
          "base_uri": "https://localhost:8080/"
        },
        "id": "4V4hhDNXlP3w",
        "outputId": "aa6c4813-5e47-411e-fc33-d400b6b76c89"
      },
      "execution_count": null,
      "outputs": [
        {
          "output_type": "execute_result",
          "data": {
            "text/plain": [
              "(440, 440)"
            ]
          },
          "metadata": {},
          "execution_count": 144
        }
      ]
    },
    {
      "cell_type": "code",
      "source": [
        "img0 = gray.copy()\n",
        "img0 = np.pad(img0, ((100,100),(100,100)), mode='constant')\n",
        "plt.imshow(img0)"
      ],
      "metadata": {
        "id": "M4ZGTH2Lz-1u",
        "outputId": "35f809b3-a33a-463b-9393-f64d08df0d44",
        "colab": {
          "base_uri": "https://localhost:8080/",
          "height": 286
        }
      },
      "execution_count": null,
      "outputs": [
        {
          "output_type": "execute_result",
          "data": {
            "text/plain": [
              "<matplotlib.image.AxesImage at 0x7ff0c33acc50>"
            ]
          },
          "metadata": {},
          "execution_count": 146
        },
        {
          "output_type": "display_data",
          "data": {
            "image/png": "[encoded data removed]",
            "text/plain": [
              "<Figure size 432x288 with 1 Axes>"
            ]
          },
          "metadata": {
            "needs_background": "light"
          }
        }
      ]
    },
    {
      "cell_type": "markdown",
      "source": [
        "영역지정 후 이미지 값 지정하기"
      ],
      "metadata": {
        "id": "kwGYNz-swG1N"
      }
    },
    {
      "cell_type": "code",
      "source": [
        "mask_img=gray.copy()\n",
        "mask_img[100:120] = 0\n",
        "plt.imshow(mask_img,cmap=plt.get_cmap('gray'), vmin=0, vmax=1)\n",
        "plt.show()"
      ],
      "metadata": {
        "colab": {
          "base_uri": "https://localhost:8080/",
          "height": 269
        },
        "id": "y2Y5mAr2v3hh",
        "outputId": "02918b35-bc72-4bc4-d093-8e3d013d3862"
      },
      "execution_count": null,
      "outputs": [
        {
          "output_type": "display_data",
          "data": {
            "image/png": "[encoded data removed]",
            "text/plain": [
              "<Figure size 432x288 with 1 Axes>"
            ]
          },
          "metadata": {
            "needs_background": "light"
          }
        }
      ]
    },
    {
      "cell_type": "markdown",
      "source": [
        "배열을 앞뒤로 뒤집기"
      ],
      "metadata": {
        "id": "WI0GdRFOxIud"
      }
    },
    {
      "cell_type": "code",
      "source": [
        "flip_gray = np.flipud(gray)\n",
        "plt.imshow(flip_gray,cmap=plt.get_cmap('gray'), vmin=0, vmax=1)\n",
        "plt.show()"
      ],
      "metadata": {
        "colab": {
          "base_uri": "https://localhost:8080/",
          "height": 269
        },
        "id": "R71KHgi9wVF1",
        "outputId": "de2ab454-0f19-4b70-a1bc-15bc645bf070"
      },
      "execution_count": null,
      "outputs": [
        {
          "output_type": "display_data",
          "data": {
            "image/png": "[encoded data removed]",
            "text/plain": [
              "<Figure size 432x288 with 1 Axes>"
            ]
          },
          "metadata": {
            "needs_background": "light"
          }
        }
      ]
    },
    {
      "cell_type": "code",
      "source": [
        "print(f\"Rows of Pixels: {gray.shape[0]} Rows\")\n",
        "print(f\"Columns of Pixels: {gray.shape[1]} Columns\")"
      ],
      "metadata": {
        "colab": {
          "base_uri": "https://localhost:8080/"
        },
        "id": "Jdgw5fPelJRS",
        "outputId": "0e0e79d4-608b-4830-cd22-0e9b903538f7"
      },
      "execution_count": null,
      "outputs": [
        {
          "output_type": "stream",
          "name": "stdout",
          "text": [
            "Rows of Pixels: 440 Rows\n",
            "Columns of Pixels: 440 Columns\n"
          ]
        }
      ]
    },
    {
      "cell_type": "code",
      "source": [
        "gray[gray < 0.5] = 0\n",
        "gray[gray >= 0.5] = 255 \n",
        "plt.imshow(gray)\n",
        "plt.show()"
      ],
      "metadata": {
        "colab": {
          "base_uri": "https://localhost:8080/",
          "height": 269
        },
        "id": "5_MoiKzPhRFu",
        "outputId": "89a8c5ec-230f-46de-8412-1bb7e5854d20"
      },
      "execution_count": null,
      "outputs": [
        {
          "output_type": "display_data",
          "data": {
            "image/png": "[encoded data removed]",
            "text/plain": [
              "<Figure size 432x288 with 1 Axes>"
            ]
          },
          "metadata": {
            "needs_background": "light"
          }
        }
      ]
    },
    {
      "cell_type": "markdown",
      "source": [
        "네가티브 이미지 구성하기"
      ],
      "metadata": {
        "id": "YgzIkV3-ybS0"
      }
    },
    {
      "cell_type": "code",
      "source": [
        "reverse_grey = 255 - gray \n",
        "plt.imshow(reverse_grey,cmap=plt.get_cmap('gray'), vmin=0, vmax=1)\n",
        "plt.show()"
      ],
      "metadata": {
        "colab": {
          "base_uri": "https://localhost:8080/",
          "height": 269
        },
        "id": "DSETKVeMx7cV",
        "outputId": "efa5d504-95e8-4069-b80f-e35ad08356a3"
      },
      "execution_count": null,
      "outputs": [
        {
          "output_type": "display_data",
          "data": {
            "image/png": "[encoded data removed]",
            "text/plain": [
              "<Figure size 432x288 with 1 Axes>"
            ]
          },
          "metadata": {
            "needs_background": "light"
          }
        }
      ]
    },
    {
      "cell_type": "code",
      "source": [
        "np.unique(gray)"
      ],
      "metadata": {
        "colab": {
          "base_uri": "https://localhost:8080/"
        },
        "id": "cq2xRYFsiy3j",
        "outputId": "cbe8c13c-2333-44fa-d245-330cd063af74"
      },
      "execution_count": null,
      "outputs": [
        {
          "output_type": "execute_result",
          "data": {
            "text/plain": [
              "array([  0., 255.], dtype=float32)"
            ]
          },
          "metadata": {},
          "execution_count": 170
        }
      ]
    },
    {
      "cell_type": "code",
      "source": [
        "cropped= gray[30:250, 100:230]\n",
        "plt.imshow(cropped)\n",
        "plt.show()"
      ],
      "metadata": {
        "colab": {
          "base_uri": "https://localhost:8080/",
          "height": 269
        },
        "id": "KQ0jlnc2j7YQ",
        "outputId": "2b49019e-da99-45a5-9551-4c5ce9d17597"
      },
      "execution_count": null,
      "outputs": [
        {
          "output_type": "display_data",
          "data": {
            "image/png": "[encoded data removed]",
            "text/plain": [
              "<Figure size 432x288 with 1 Axes>"
            ]
          },
          "metadata": {
            "needs_background": "light"
          }
        }
      ]
    },
    {
      "cell_type": "code",
      "source": [
        "print(f\"Rows of Pixels: {cropped.shape[0]} Rows\")\n",
        "print(f\"Columns of Pixels: {cropped.shape[1]} Columns\")"
      ],
      "metadata": {
        "colab": {
          "base_uri": "https://localhost:8080/"
        },
        "id": "BxxBnxUtlih4",
        "outputId": "da83564c-f674-46be-e8b7-5a184f2a6707"
      },
      "execution_count": null,
      "outputs": [
        {
          "output_type": "stream",
          "name": "stdout",
          "text": [
            "Rows of Pixels: 220 Rows\n",
            "Columns of Pixels: 130 Columns\n"
          ]
        }
      ]
    }
  ]
}