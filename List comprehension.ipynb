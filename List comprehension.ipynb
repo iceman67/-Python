{
 "cells": [
  {
   "cell_type": "markdown",
   "metadata": {},
   "source": [
    "https://medium.com/@k3no/python-comprehension-885cd3f27f4a"
   ]
  },
  {
   "cell_type": "markdown",
   "metadata": {},
   "source": [
    "List comprehension is a way to write concise ( short and effective) python code."
   ]
  },
  {
   "cell_type": "code",
   "execution_count": 1,
   "metadata": {},
   "outputs": [],
   "source": [
    "boxODonuts = []\n",
    "FLAVORS = ['Glaze', 'Chocolate', 'Vanilla', 'Cinnamon']"
   ]
  },
  {
   "cell_type": "code",
   "execution_count": 2,
   "metadata": {},
   "outputs": [],
   "source": [
    "for flavor in FLAVORS:\n",
    "    boxODonuts.append(flavor + ' donut')"
   ]
  },
  {
   "cell_type": "code",
   "execution_count": 3,
   "metadata": {},
   "outputs": [
    {
     "name": "stdout",
     "output_type": "stream",
     "text": [
      "['Glaze donut', 'Chocolate donut', 'Vanilla donut', 'Cinnamon donut']\n"
     ]
    }
   ],
   "source": [
    "print(boxODonuts)"
   ]
  },
  {
   "cell_type": "code",
   "execution_count": 11,
   "metadata": {},
   "outputs": [],
   "source": [
    "boxODonuts = [flavor + ' donut' for flavor in FLAVORS]"
   ]
  },
  {
   "cell_type": "code",
   "execution_count": 12,
   "metadata": {},
   "outputs": [
    {
     "name": "stdout",
     "output_type": "stream",
     "text": [
      "['Glaze donut', 'Chocolate donut', 'Vanilla donut', 'Cinnamon donut']\n"
     ]
    }
   ],
   "source": [
    "print(boxODonuts)"
   ]
  },
  {
   "cell_type": "code",
   "execution_count": 13,
   "metadata": {},
   "outputs": [
    {
     "data": {
      "text/plain": [
       "['Glaze donut', 'Chocolate donut', 'Vanilla donut']"
      ]
     },
     "execution_count": 13,
     "metadata": {},
     "output_type": "execute_result"
    }
   ],
   "source": [
    "boxODonuts = [flavor + ' donut' for flavor in FLAVORS if flavor != 'Cinnamon']\n",
    "boxODonuts"
   ]
  },
  {
   "cell_type": "code",
   "execution_count": 4,
   "metadata": {},
   "outputs": [],
   "source": [
    "tempBox = []\n",
    "for donut in boxODonuts:\n",
    "    tempBox.append('Bitten ' + donut)\n",
    "boxODonuts = tempBox"
   ]
  },
  {
   "cell_type": "code",
   "execution_count": 5,
   "metadata": {},
   "outputs": [
    {
     "name": "stdout",
     "output_type": "stream",
     "text": [
      "['Bitten Glaze donut', 'Bitten Chocolate donut', 'Bitten Vanilla donut', 'Bitten Cinnamon donut']\n"
     ]
    }
   ],
   "source": [
    "print(boxODonuts)"
   ]
  },
  {
   "cell_type": "code",
   "execution_count": 6,
   "metadata": {},
   "outputs": [],
   "source": [
    "def eathalf(donut):\n",
    "    return 'Half eaten ' + donut"
   ]
  },
  {
   "cell_type": "code",
   "execution_count": 7,
   "metadata": {},
   "outputs": [],
   "source": [
    "tempBox = []\n",
    "for donut in boxODonuts:\n",
    "    tempBox.append(eathalf(donut))\n",
    "boxODonuts = tempBox"
   ]
  },
  {
   "cell_type": "code",
   "execution_count": 8,
   "metadata": {},
   "outputs": [
    {
     "data": {
      "text/plain": [
       "['Half eaten Bitten Glaze donut',\n",
       " 'Half eaten Bitten Chocolate donut',\n",
       " 'Half eaten Bitten Vanilla donut',\n",
       " 'Half eaten Bitten Cinnamon donut']"
      ]
     },
     "execution_count": 8,
     "metadata": {},
     "output_type": "execute_result"
    }
   ],
   "source": [
    "boxODonuts"
   ]
  },
  {
   "cell_type": "code",
   "execution_count": 9,
   "metadata": {},
   "outputs": [],
   "source": [
    "sumTwo = lambda x,y: x + y"
   ]
  },
  {
   "cell_type": "code",
   "execution_count": 10,
   "metadata": {},
   "outputs": [
    {
     "name": "stdout",
     "output_type": "stream",
     "text": [
      "9\n",
      "5\n"
     ]
    }
   ],
   "source": [
    "print(sumTwo(5,4)) #9\n",
    "print(sumTwo(2,3)) #5"
   ]
  },
  {
   "cell_type": "code",
   "execution_count": null,
   "metadata": {},
   "outputs": [],
   "source": []
  }
 ],
 "metadata": {
  "kernelspec": {
   "display_name": "Python 3",
   "language": "python",
   "name": "python3"
  },
  "language_info": {
   "codemirror_mode": {
    "name": "ipython",
    "version": 3
   },
   "file_extension": ".py",
   "mimetype": "text/x-python",
   "name": "python",
   "nbconvert_exporter": "python",
   "pygments_lexer": "ipython3",
   "version": "3.7.4"
  }
 },
 "nbformat": 4,
 "nbformat_minor": 2
}
