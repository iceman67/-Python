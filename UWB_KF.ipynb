{
  "nbformat": 4,
  "nbformat_minor": 0,
  "metadata": {
    "colab": {
      "name": "UWB_KF.ipynb",
      "provenance": [],
      "collapsed_sections": [],
      "mount_file_id": "1t0j8gZvM6RzhmhNvx8cRFcAzW6iNaTHn",
      "authorship_tag": "ABX9TyMCHCujNycnO8fkvelUIsNe",
      "include_colab_link": true
    },
    "kernelspec": {
      "name": "python3",
      "display_name": "Python 3"
    }
  },
  "cells": [
    {
      "cell_type": "markdown",
      "metadata": {
        "id": "view-in-github",
        "colab_type": "text"
      },
      "source": [
        "<a href=\"https://colab.research.google.com/github/iceman67/-Python/blob/master/UWB_KF.ipynb\" target=\"_parent\"><img src=\"https://colab.research.google.com/assets/colab-badge.svg\" alt=\"Open In Colab\"/></a>"
      ]
    },
    {
      "cell_type": "code",
      "source": [
        "%matplotlib inline\n",
        "fw = 10 # figure width"
      ],
      "metadata": {
        "id": "WRJHypMuocKl"
      },
      "execution_count": null,
      "outputs": []
    },
    {
      "cell_type": "code",
      "source": [
        "import scipy.stats\n",
        "from numpy import *\n",
        "\n",
        "def normpdf(x, mu, sigma):\n",
        "    u = (x-mu)/abs(sigma)\n",
        "    y = (1/(sqrt(2*pi)*abs(sigma)))*exp(-u*u/2)\n",
        "    return y"
      ],
      "metadata": {
        "id": "B2111fKPpMwN"
      },
      "execution_count": null,
      "outputs": []
    },
    {
      "cell_type": "code",
      "source": [
        "# https://github.com/sharathsrini/Kalman-Filter-for-Sensor-Fusion/blob/master/Kalman_Filter.ipynb\n",
        "\n",
        "import numpy as np\n",
        "import matplotlib.pyplot as plt\n",
        "\n",
        "x = np.linspace(-100,100,1000)\n",
        "\n",
        "mean0 = 0.0   # e.g. meters or miles\n",
        "var0  = 20.0\n",
        "\n",
        "plt.figure(figsize=(fw,5))\n",
        "plt.plot(x, normpdf(x, mean0, var0), label='Normal Distribution')\n",
        "plt.ylim(0, 0.1);\n",
        "plt.legend(loc='best');\n",
        "plt.xlabel('Position');"
      ],
      "metadata": {
        "colab": {
          "base_uri": "https://localhost:8080/",
          "height": 338
        },
        "id": "VDLfcswUn7Ib",
        "outputId": "e65bca9a-7cd7-46ce-cb70-6d9561f37749"
      },
      "execution_count": null,
      "outputs": [
        {
          "output_type": "display_data",
          "data": {
            "image/png": "[encoded data removed]",
            "text/plain": [
              "<Figure size 720x360 with 1 Axes>"
            ]
          },
          "metadata": {
            "needs_background": "light"
          }
        }
      ]
    },
    {
      "cell_type": "code",
      "source": [
        "meanMove = 25.0\n",
        "varMove  = 10.0 "
      ],
      "metadata": {
        "id": "UJjj5QCRpgtK"
      },
      "execution_count": null,
      "outputs": []
    },
    {
      "cell_type": "code",
      "source": [
        "plt.figure(figsize=(fw,5))\n",
        "plt.plot(x, normpdf(x, meanMove, varMove), label='Normal Distribution')\n",
        "plt.ylim(0, 0.1);\n",
        "plt.legend(loc='best');\n",
        "plt.xlabel('Distance moved');"
      ],
      "metadata": {
        "colab": {
          "base_uri": "https://localhost:8080/",
          "height": 338
        },
        "id": "S01PdUDepljy",
        "outputId": "bf2ae38b-38a6-4b0f-f5f5-b521ed4513ad"
      },
      "execution_count": null,
      "outputs": [
        {
          "output_type": "display_data",
          "data": {
            "image/png": "[encoded data removed]",
            "text/plain": [
              "<Figure size 720x360 with 1 Axes>"
            ]
          },
          "metadata": {
            "needs_background": "light"
          }
        }
      ]
    },
    {
      "cell_type": "code",
      "source": [
        "def predict(var, mean, varMove, meanMove):\n",
        "    new_var = var + varMove\n",
        "    new_mean= mean+ meanMove\n",
        "    return new_var, new_mean\n",
        "    "
      ],
      "metadata": {
        "id": "GJk0oHnkqDHT"
      },
      "execution_count": null,
      "outputs": []
    },
    {
      "cell_type": "code",
      "source": [
        "new_var, new_mean = predict(var0, mean0, varMove, meanMove)"
      ],
      "metadata": {
        "id": "ZbxBFl3kqHQM"
      },
      "execution_count": null,
      "outputs": []
    },
    {
      "cell_type": "code",
      "source": [
        "plt.figure(figsize=(fw,5))\n",
        "plt.plot(x,normpdf(x, mean0, var0), label='Beginning Normal Distribution')\n",
        "plt.plot(x,normpdf(x, meanMove, varMove), label='Movement Normal Distribution')\n",
        "plt.plot(x,normpdf(x, new_mean, new_var), label='Resulting Normal Distribution')\n",
        "plt.ylim(0, 0.1);\n",
        "plt.legend(loc='best');\n",
        "plt.title('Normal Distributions of 1st Kalman Filter Prediction Step');\n",
        "plt.savefig('Kalman-Filter-1D-Step.png', dpi=150)"
      ],
      "metadata": {
        "colab": {
          "base_uri": "https://localhost:8080/",
          "height": 336
        },
        "id": "Br8_ohNDqMkq",
        "outputId": "32152952-6f65-4f32-931f-3e94c85fd4e0"
      },
      "execution_count": null,
      "outputs": [
        {
          "output_type": "display_data",
          "data": {
            "image/png": "[encoded data removed]",
            "text/plain": [
              "<Figure size 720x360 with 1 Axes>"
            ]
          },
          "metadata": {
            "needs_background": "light"
          }
        }
      ]
    },
    {
      "cell_type": "code",
      "source": [
        "meanSensor = 25.0\n",
        "varSensor  = 12.0"
      ],
      "metadata": {
        "id": "6guAIrHWqwXY"
      },
      "execution_count": null,
      "outputs": []
    },
    {
      "cell_type": "code",
      "source": [
        "plt.figure(figsize=(fw,5))\n",
        "plt.plot(x, normpdf(x, meanSensor, varSensor))\n",
        "plt.ylim(0, 0.1);"
      ],
      "metadata": {
        "colab": {
          "base_uri": "https://localhost:8080/",
          "height": 324
        },
        "id": "rNZdfze7q3oO",
        "outputId": "7ee89d5f-9da7-4959-b0b1-a772df997932"
      },
      "execution_count": null,
      "outputs": [
        {
          "output_type": "display_data",
          "data": {
            "image/png": "[encoded data removed]",
            "text/plain": [
              "<Figure size 720x360 with 1 Axes>"
            ]
          },
          "metadata": {
            "needs_background": "light"
          }
        }
      ]
    },
    {
      "cell_type": "code",
      "source": [
        "def correct(var, mean, varSensor, meanSensor):\n",
        "    new_mean=(varSensor*mean + var*meanSensor) / (var+varSensor)\n",
        "    new_var = 1/(1/var +1/varSensor)\n",
        "    return new_var, new_mean"
      ],
      "metadata": {
        "id": "7QtvSN5Dqob0"
      },
      "execution_count": null,
      "outputs": []
    },
    {
      "cell_type": "code",
      "source": [
        "var, mean = correct(new_var, new_mean, varSensor, meanSensor)"
      ],
      "metadata": {
        "id": "Q3Dh3Ej3qqRJ"
      },
      "execution_count": null,
      "outputs": []
    },
    {
      "cell_type": "code",
      "source": [
        "plt.figure(figsize=(fw,5))\n",
        "plt.plot(x, normpdf(x, new_mean, new_var), label='Beginning (after Predict)')\n",
        "plt.plot(x, normpdf(x, meanSensor, varSensor), label='Position Sensor Normal Distribution')\n",
        "plt.plot(x, normpdf(x, mean, var), label='New Position Normal Distribution')\n",
        "plt.ylim(0, 0.1);\n",
        "plt.legend(loc='best');\n",
        "plt.title('Normal Distributions of 1st Kalman Filter Update Step');"
      ],
      "metadata": {
        "colab": {
          "base_uri": "https://localhost:8080/",
          "height": 336
        },
        "id": "MtDA7kPUq_n7",
        "outputId": "c158a3bf-6102-4c12-b09f-bb5050195b90"
      },
      "execution_count": null,
      "outputs": [
        {
          "output_type": "display_data",
          "data": {
            "image/png": "[encoded data removed]",
            "text/plain": [
              "<Figure size 720x360 with 1 Axes>"
            ]
          },
          "metadata": {
            "needs_background": "light"
          }
        }
      ]
    },
    {
      "cell_type": "markdown",
      "metadata": {
        "id": "vzP6npdrS-Se"
      },
      "source": [
        "!pip install *filterpy*"
      ]
    },
    {
      "cell_type": "markdown",
      "source": [
        "preliminary\n",
        "* The mean is usually denoted by a Greek letter $μ$.\n",
        "* The expected value is usually denoted by letter $E$.\n",
        "* An Estimate is about evaluating the hidden state of the system. \n",
        "* Every measured or computed parameter is an estimate.\n",
        "\n",
        "performance index\n",
        "* Accuracy indicates how close the measurement is to the true value\n",
        "* Precision describes how much variability there is in a number of measurements of the same parameter\n",
        "\n"
      ],
      "metadata": {
        "id": "Rya5eOgNfJ3k"
      }
    },
    {
      "cell_type": "code",
      "source": [
        "# python code to calculate expected\n",
        "# value of an array\n",
        "\n",
        "# Function to calculate expectation\n",
        "def calc_Expectation(a, n):\n",
        "\t\n",
        "\t# variable prb is for probability\n",
        "\t# of each element which is same for\n",
        "\t# each element\n",
        "\tprb = 1 / n\n",
        "\t\n",
        "\t# calculating expectation overall\n",
        "\tsum = 0\n",
        "\tfor i in range(0, n):\n",
        "\t\tsum += (a[i] * prb)\n",
        "\t\t\n",
        "\t# returning expectation as sum\n",
        "\treturn float(sum)\n",
        "\n",
        "\n",
        "# Driver program\n",
        "n = 6;\n",
        "a = [ 1.0, 2.0, 3.0,4.0, 5.0, 6.0 ]\n",
        "\n",
        "# Function for calculating expectation\n",
        "expect = calc_Expectation(a, n)\n",
        "\n",
        "# Display expectation of given array\n",
        "print( \"Expectation of array E(X) is : \",\n",
        "\t\t\t\t\t\t\t\texpect )\n",
        "\n",
        "# This code is contributed by Sam007\n"
      ],
      "metadata": {
        "colab": {
          "base_uri": "https://localhost:8080/"
        },
        "id": "_3yXJ5r1e6cV",
        "outputId": "182fe850-1d76-4007-e9d0-4251d87f7bab"
      },
      "execution_count": null,
      "outputs": [
        {
          "output_type": "stream",
          "name": "stdout",
          "text": [
            "Expectation of array E(X) is :  3.5\n"
          ]
        }
      ]
    },
    {
      "cell_type": "markdown",
      "source": [
        "Let's try a randomly chosen number to scale our estimate: $4/10$ \n",
        "The difference between the measurement and prediction is called the $residual$ \n",
        " \n"
      ],
      "metadata": {
        "id": "azvtScNAmyLf"
      }
    },
    {
      "cell_type": "code",
      "source": [
        "import matplotlib.pyplot as plt\n",
        "\n",
        "weights = [158.0, 164.2, 160.3, 159.9, 162.1, 164.6, \n",
        "           169.6, 167.4, 166.4, 171.0, 171.2, 172.6]\n",
        "\n",
        "time_step = 1.0  # day\n",
        "scale_factor = 4.0/10\n",
        "\n",
        "\n",
        "def print_results(estimates, predicted_weight, estimated_weight):\n",
        "    print (f'predicted_weight={predicted_weight:.2f}, estimated_weight={estimated_weight:.2f} ')\n",
        "\n",
        "def predict_using_gain_guess(estimated_weight, gain_rate, do_print=False):     \n",
        "    # storage for the filtered results\n",
        "    estimates, predictions = [estimated_weight], []\n",
        "\n",
        "    # most filter literature uses 'z' for measurements\n",
        "    for z in weights: \n",
        "        # predict new position\n",
        "        predicted_weight = estimated_weight + gain_rate * time_step\n",
        "\n",
        "        # update filter \n",
        "        estimated_weight = predicted_weight + scale_factor * (z - predicted_weight)\n",
        "\n",
        "        # save and log\n",
        "        estimates.append(estimated_weight)\n",
        "        predictions.append(predicted_weight)\n",
        "        if do_print:\n",
        "            print_results(estimates, predicted_weight, estimated_weight)\n",
        "\n",
        "    return estimates, predictions\n",
        "\n",
        "initial_estimate = 160.\n",
        "estimates, predictions = predict_using_gain_guess(\n",
        "    estimated_weight=initial_estimate, gain_rate=1, do_print=True)  \n"
      ],
      "metadata": {
        "colab": {
          "base_uri": "https://localhost:8080/"
        },
        "id": "9wqS99nAkjd-",
        "outputId": "a2cd945a-824e-43b3-f572-d43d39df46d2"
      },
      "execution_count": null,
      "outputs": [
        {
          "output_type": "stream",
          "name": "stdout",
          "text": [
            "predicted_weight=161.00, estimated_weight=159.80 \n",
            "predicted_weight=160.80, estimated_weight=162.16 \n",
            "predicted_weight=163.16, estimated_weight=162.02 \n",
            "predicted_weight=163.02, estimated_weight=161.77 \n",
            "predicted_weight=162.77, estimated_weight=162.50 \n",
            "predicted_weight=163.50, estimated_weight=163.94 \n",
            "predicted_weight=164.94, estimated_weight=166.80 \n",
            "predicted_weight=167.80, estimated_weight=167.64 \n",
            "predicted_weight=168.64, estimated_weight=167.75 \n",
            "predicted_weight=168.75, estimated_weight=169.65 \n",
            "predicted_weight=170.65, estimated_weight=170.87 \n",
            "predicted_weight=171.87, estimated_weight=172.16 \n"
          ]
        }
      ]
    },
    {
      "cell_type": "code",
      "source": [
        "import numpy as np\n",
        "\n",
        "estimates = np.array(estimates)\n",
        "weights = np.array(weights)\n",
        "redidual = np.array (weights- estimates[1:])\n",
        "\n",
        "plt.plot(estimates, label =\"estimates\")\n",
        "plt.plot(weights, label =\"weights\")\n",
        "#plt.plot(redidual, label =\"redidual\")\n",
        "plt.legend(loc=\"upper left\")\n"
      ],
      "metadata": {
        "colab": {
          "base_uri": "https://localhost:8080/",
          "height": 282
        },
        "id": "KJlSCuvTl2fZ",
        "outputId": "cad20bbb-d2bd-4c90-c816-1ad78a2dbb70"
      },
      "execution_count": null,
      "outputs": [
        {
          "output_type": "execute_result",
          "data": {
            "text/plain": [
              "<matplotlib.legend.Legend at 0x7f57c4381e10>"
            ]
          },
          "metadata": {},
          "execution_count": 14
        },
        {
          "output_type": "display_data",
          "data": {
            "image/png": "[encoded data removed]",
            "text/plain": [
              "<Figure size 432x288 with 1 Axes>"
            ]
          },
          "metadata": {
            "needs_background": "light"
          }
        }
      ]
    },
    {
      "cell_type": "code",
      "source": [
        "plt.plot(redidual, label =\"redidual\")\n",
        "plt.legend(loc=\"upper left\")"
      ],
      "metadata": {
        "colab": {
          "base_uri": "https://localhost:8080/",
          "height": 285
        },
        "id": "lfa4LlMLonx1",
        "outputId": "b49b0e13-2e99-4d13-bfa7-99af2be22761"
      },
      "execution_count": null,
      "outputs": [
        {
          "output_type": "execute_result",
          "data": {
            "text/plain": [
              "<matplotlib.legend.Legend at 0x7f57c43a81d0>"
            ]
          },
          "metadata": {},
          "execution_count": 15
        },
        {
          "output_type": "display_data",
          "data": {
            "image/png": "[encoded data removed]",
            "text/plain": [
              "<Figure size 432x288 with 1 Axes>"
            ]
          },
          "metadata": {
            "needs_background": "light"
          }
        }
      ]
    },
    {
      "cell_type": "code",
      "source": [
        "weight = 160.  # initial guess\n",
        "gain_rate = -1.0  # initial guess\n",
        "\n",
        "time_step = 1.\n",
        "weight_scale = 4./10\n",
        "gain_scale = 1./3\n",
        "estimates = [weight]\n",
        "predictions = []\n",
        "\n",
        "for z in weights:\n",
        "    # prediction step\n",
        "    weight = weight + gain_rate*time_step\n",
        "    gain_rate = gain_rate\n",
        "    predictions.append(weight)\n",
        "    \n",
        "    # update step    \n",
        "    residual = z - weight\n",
        "    \n",
        "    gain_rate = gain_rate + gain_scale   * (residual/time_step)\n",
        "    weight    = weight    + weight_scale * residual\n",
        "  \n",
        "    estimates.append(weight)"
      ],
      "metadata": {
        "id": "fln2ahCoproe"
      },
      "execution_count": null,
      "outputs": []
    },
    {
      "cell_type": "code",
      "source": [
        "plt.plot(estimates, label =\"estimates\")\n",
        "plt.plot(weights, label =\"weights\")\n",
        "#plt.plot(redidual, label =\"redidual\")\n",
        "plt.legend(loc=\"upper left\")\n"
      ],
      "metadata": {
        "colab": {
          "base_uri": "https://localhost:8080/",
          "height": 282
        },
        "id": "HYiC8r-Cpwpr",
        "outputId": "d211a6bf-2b14-4508-c2cb-04c8ffb62363"
      },
      "execution_count": null,
      "outputs": [
        {
          "output_type": "execute_result",
          "data": {
            "text/plain": [
              "<matplotlib.legend.Legend at 0x7f57c4273b50>"
            ]
          },
          "metadata": {},
          "execution_count": 20
        },
        {
          "output_type": "display_data",
          "data": {
            "image/png": "[encoded data removed]",
            "text/plain": [
              "<Figure size 432x288 with 1 Axes>"
            ]
          },
          "metadata": {
            "needs_background": "light"
          }
        }
      ]
    },
    {
      "cell_type": "code",
      "source": [
        "plt.plot(redidual, label =\"redidual\")\n",
        "plt.legend(loc=\"upper left\")"
      ],
      "metadata": {
        "colab": {
          "base_uri": "https://localhost:8080/",
          "height": 285
        },
        "id": "EhjNg6cDqBVO",
        "outputId": "f671deab-bf4f-4334-91ba-438b69728888"
      },
      "execution_count": null,
      "outputs": [
        {
          "output_type": "execute_result",
          "data": {
            "text/plain": [
              "<matplotlib.legend.Legend at 0x7f57c41af810>"
            ]
          },
          "metadata": {},
          "execution_count": 21
        },
        {
          "output_type": "display_data",
          "data": {
            "image/png": "[encoded data removed]",
            "text/plain": [
              "<Figure size 432x288 with 1 Axes>"
            ]
          },
          "metadata": {
            "needs_background": "light"
          }
        }
      ]
    },
    {
      "cell_type": "code",
      "source": [
        "def g_h_filter(data, x0, dx, g, h, dt=1.):\n",
        "    x_est = x0\n",
        "    results = []\n",
        "    for z in data:\n",
        "        # prediction step\n",
        "        x_pred = x_est + (dx*dt)\n",
        "        dx = dx\n",
        "\n",
        "        # update step\n",
        "        residual = z - x_pred\n",
        "        dx = dx + h * (residual) / dt\n",
        "        x_est = x_pred + g * residual\n",
        "        results.append(x_est)\n",
        "    return np.array(results)\n",
        "data = g_h_filter(data=weights, x0=160., dx=1., g=6./10, h=2./3, dt=1.)\n",
        " "
      ],
      "metadata": {
        "id": "1rBeYCBcqgbY"
      },
      "execution_count": null,
      "outputs": []
    },
    {
      "cell_type": "code",
      "source": [
        "plt.plot(data, label =\"estimates\")\n",
        "plt.plot(weights)"
      ],
      "metadata": {
        "colab": {
          "base_uri": "https://localhost:8080/",
          "height": 282
        },
        "id": "QlWzzer3qnoe",
        "outputId": "73228add-0230-4225-b200-76bf412a4290"
      },
      "execution_count": null,
      "outputs": [
        {
          "output_type": "execute_result",
          "data": {
            "text/plain": [
              "[<matplotlib.lines.Line2D at 0x7f57c3e9f7d0>]"
            ]
          },
          "metadata": {},
          "execution_count": 31
        },
        {
          "output_type": "display_data",
          "data": {
            "image/png": "[encoded data removed]",
            "text/plain": [
              "<Figure size 432x288 with 1 Axes>"
            ]
          },
          "metadata": {
            "needs_background": "light"
          }
        }
      ]
    },
    {
      "cell_type": "markdown",
      "source": [
        "recall that  is the scale factor for choosing between the measurement and prediction"
      ],
      "metadata": {
        "id": "O-tCbXffsfWV"
      }
    },
    {
      "cell_type": "code",
      "source": [
        "from numpy.random import randn\n",
        "def gen_data(x0, dx, count, noise_factor):\n",
        "    return [x0 + dx*i + randn()*noise_factor for i in range(count)]\n",
        "\n",
        "measurements = gen_data(0, 1, 30, 1)\n",
        "data = g_h_filter(data=measurements, x0=0., dx=1., dt=1., g=.2, h=0.02)"
      ],
      "metadata": {
        "id": "emeEPoSDrJoz"
      },
      "execution_count": null,
      "outputs": []
    },
    {
      "cell_type": "code",
      "source": [
        "plt.plot(data, label =\"estimates\")\n",
        "plt.plot(measurements, \"ro\", label =\"measurements\")\n",
        "plt.legend(loc=\"upper left\")"
      ],
      "metadata": {
        "colab": {
          "base_uri": "https://localhost:8080/",
          "height": 283
        },
        "id": "oHiiZAymrL3i",
        "outputId": "71c8bc26-38c8-4a67-bc64-f71b8fd549d1"
      },
      "execution_count": null,
      "outputs": [
        {
          "output_type": "execute_result",
          "data": {
            "text/plain": [
              "<matplotlib.legend.Legend at 0x7f57c3df8350>"
            ]
          },
          "metadata": {},
          "execution_count": 35
        },
        {
          "output_type": "display_data",
          "data": {
            "image/png": "[encoded data removed]",
            "text/plain": [
              "<Figure size 432x288 with 1 Axes>"
            ]
          },
          "metadata": {
            "needs_background": "light"
          }
        }
      ]
    },
    {
      "cell_type": "code",
      "source": [
        "data = g_h_filter(data=measurements, x0=0., dx=1., dt=1., g=.9, h=0.02)"
      ],
      "metadata": {
        "id": "JD3XLWhOsnsN"
      },
      "execution_count": null,
      "outputs": []
    },
    {
      "cell_type": "code",
      "source": [
        "plt.plot(data, label =\"estimates\")\n",
        "plt.plot(measurements, \"ro\", label =\"measurements\")\n",
        "plt.legend(loc=\"upper left\")"
      ],
      "metadata": {
        "colab": {
          "base_uri": "https://localhost:8080/",
          "height": 283
        },
        "id": "7qRCOvmqsq_D",
        "outputId": "8bd2b43b-2840-494c-bba5-622905bf94d6"
      },
      "execution_count": null,
      "outputs": [
        {
          "output_type": "execute_result",
          "data": {
            "text/plain": [
              "<matplotlib.legend.Legend at 0x7f57c3da8490>"
            ]
          },
          "metadata": {},
          "execution_count": 37
        },
        {
          "output_type": "display_data",
          "data": {
            "image/png": "[encoded data removed]",
            "text/plain": [
              "<Figure size 432x288 with 1 Axes>"
            ]
          },
          "metadata": {
            "needs_background": "light"
          }
        }
      ]
    },
    {
      "cell_type": "markdown",
      "source": [
        "Tracking of mobile in wireless network \n",
        "\n",
        "* $X$ : The mean state estimate of the previous step ( k−1).\n",
        "* $P$  : The state covariance of previous step ( k−1).\n",
        "* $A$ : The transition n $\\times$ n  matrix.\n",
        "* $Q$ : The process noise covariance matrix.\n",
        "* $B$ : The input effect matrix.\n",
        "* $U$ : The control input. \n",
        "\n",
        "\n",
        "* https://towardsdatascience.com/kalman-filter-interview-bdc39f3e6cf3\n"
      ],
      "metadata": {
        "id": "MuTCOQT8VTYU"
      }
    },
    {
      "cell_type": "code",
      "source": [
        "from numpy import dot\n",
        "import numpy as np\n",
        "\n",
        "def kf_predict(X, P, A, Q, B, U):\n",
        "    X = np.dot(A, X) + np.dot(B, U) # predicted mean of the state,\n",
        "    P = np.dot(A, np.dot(P, A.T)) + Q # predicted covariance of the state,\n",
        "    return(X,P)"
      ],
      "metadata": {
        "id": "G8OSl7LCNVS0"
      },
      "execution_count": null,
      "outputs": []
    },
    {
      "cell_type": "code",
      "source": [
        "def kf_update(X, P, Y, H, R):\n",
        "    IM = dot(H, X) # IM : the Mean of predictive distribution of Y\n",
        "    IS = R + dot(H, dot(P, H.T)) # IS : the Covariance or predictive mean of Y\n",
        "    K = dot(P, dot(H.T, inv(IS)))\n",
        "    X = X + dot(K, (Y-IM))\n",
        "    P = P - dot(K, dot(IS, K.T))\n",
        "    LH = gauss_pdf(Y, IM, IS) # LH : the Predictive probability (likelihood) of measurement \n",
        "    return (X,P,K,IM,IS,LH)\n",
        "\n",
        "\n",
        "def gauss_pdf(X, M, S):\n",
        "    if M.shape[1] == 1:\n",
        "        DX = X - tile(M, X.shape[1])\n",
        "        E = 0.5 * sum(DX * (dot(inv(S), DX)), axis=0)\n",
        "        E = E + 0.5 * M.shape[0] * log(2 * pi) + 0.5 * log(np.linalg.det(S))\n",
        "        P = exp(-E)\n",
        "    elif X.shape[1] == 1:\n",
        "        DX = tile(X, M.shape[1])- M\n",
        "        E = 0.5 * sum(DX * (dot(inv(S), DX)), axis=0)\n",
        "        E = E + 0.5 * M.shape[0] * log(2 * pi) + 0.5 * log(np.linalg.det(S))\n",
        "        P = exp(-E)\n",
        "    else:\n",
        "        DX = X-M\n",
        "        E = 0.5 * dot(DX.T, dot(inv(S), DX))\n",
        "        E = E + 0.5 * M.shape[0] * log(2 * pi) + 0.5 * log(np.linalg.det(S))\n",
        "        P = exp(-E)\n",
        "        \n",
        "    return (P[0],E[0]) "
      ],
      "metadata": {
        "id": "Y6PMdgT7Nr4k"
      },
      "execution_count": null,
      "outputs": []
    },
    {
      "cell_type": "code",
      "source": [
        "from numpy import *\n",
        "from numpy.linalg import inv\n",
        "#time step of mobile movement\n",
        "dt = 0.1\n",
        "# Initialization of state matrices\n",
        "X = np.array([[0.0], [0.0], [0.1], [0.1]])\n",
        "P = diag((0.01, 0.01, 0.01, 0.01))\n",
        "A = array([[1, 0, dt , 0], [0, 1, 0, dt], [0, 0, 1, 0], [0, 0, 0, 1]])\n",
        "Q = np.eye(X.shape[0])\n",
        "B = eye(X.shape[0])\n",
        "U = zeros((X.shape[0],1))"
      ],
      "metadata": {
        "id": "fX8os4TJOL46"
      },
      "execution_count": null,
      "outputs": []
    },
    {
      "cell_type": "code",
      "source": [
        "# Measurement matrices\n",
        "import matplotlib.pyplot as plt\n",
        "Y = np.array([[X[0,0] + abs(np.random.randn(1)[0])], [X[1,0] + abs(np.random.randn(1)[0])]])\n",
        "#print (f\"initial Y : {Y}\")\n",
        "H = array([[1, 0, 0, 0], [0, 1, 0, 0]])\n",
        "R = eye(Y.shape[0])\n",
        "# Number of iterations in Kalman Filter\n",
        "N_iter = 50\n",
        "# Applying the Kalman Filter\n",
        "\n",
        "result = []\n",
        "input =[]\n",
        "for i in arange(0, N_iter):\n",
        "    (X, P) = kf_predict(X, P, A, Q, B, U)\n",
        "    #print (f\"X={X}\")\n",
        "    #print (f\"P={P}\")\n",
        "    input.append(Y[0])\n",
        "    (X, P, K, IM, IS, LH) = kf_update(X, P, Y, H, R)\n",
        "    Y = array([[X[0,0] + abs(0.2 * np.random.randn(1)[0])],[X[1, 0] + abs(0.1 * np.random.randn(1)[0])]]) # 0.1 => 0.2\n",
        "    result.append(Y[0])"
      ],
      "metadata": {
        "id": "eA35kka-OhRO"
      },
      "execution_count": null,
      "outputs": []
    },
    {
      "cell_type": "code",
      "source": [
        "import matplotlib.pyplot as plt\n",
        "plt.plot(input, \"ro\")\n",
        "plt.plot(result )"
      ],
      "metadata": {
        "colab": {
          "base_uri": "https://localhost:8080/",
          "height": 282
        },
        "id": "bCJMEJl-QQ5Y",
        "outputId": "1898c297-5955-4911-e211-e27fd22ee2da"
      },
      "execution_count": null,
      "outputs": [
        {
          "output_type": "execute_result",
          "data": {
            "text/plain": [
              "[<matplotlib.lines.Line2D at 0x7f2b12445950>]"
            ]
          },
          "metadata": {},
          "execution_count": 51
        },
        {
          "output_type": "display_data",
          "data": {
            "image/png": "[encoded data removed]",
            "text/plain": [
              "<Figure size 432x288 with 1 Axes>"
            ]
          },
          "metadata": {
            "needs_background": "light"
          }
        }
      ]
    },
    {
      "cell_type": "markdown",
      "source": [
        "$h$ affects how much we favor the measurement of $\\hat{x}$ vs our prediction\n",
        "> a large $h$ will cause us to react to those transient changes rapidly. A smaller $h$ will cause us to react more slowly.\n",
        "\n"
      ],
      "metadata": {
        "id": "oJUmeGFctQ2i"
      }
    },
    {
      "cell_type": "code",
      "source": [
        "from numpy.random import randn\n",
        "def gen_data(x0, dx, count, noise_factor):\n",
        "    return [x0 + dx*i + randn()*noise_factor for i in range(count)]\n",
        "\n",
        "measurements = gen_data(0, 1, 30, 1)\n",
        "data_02 = g_h_filter(data=measurements, x0=0., dx=1., dt=1., g=.2, h=0.02)\n",
        "data_4 = g_h_filter(data=measurements, x0=0., dx=1., dt=1., g=.2, h=0.4)"
      ],
      "metadata": {
        "id": "be66VRQzuITK"
      },
      "execution_count": null,
      "outputs": []
    },
    {
      "cell_type": "code",
      "source": [
        "plt.plot(data_02, label =\"estimates (h=.02)\")\n",
        "plt.plot(data_4, label =\"estimates(h=.4)\")\n",
        "plt.plot(measurements, \"ro\", label =\"measurements\")\n",
        "plt.legend(loc=\"upper left\")"
      ],
      "metadata": {
        "colab": {
          "base_uri": "https://localhost:8080/",
          "height": 282
        },
        "id": "Szd3EL_0uUwT",
        "outputId": "8e0bf59a-0c40-4f82-dd6b-db9a210aba6a"
      },
      "execution_count": null,
      "outputs": [
        {
          "output_type": "execute_result",
          "data": {
            "text/plain": [
              "<matplotlib.legend.Legend at 0x7f57c3bce890>"
            ]
          },
          "metadata": {},
          "execution_count": 41
        },
        {
          "output_type": "display_data",
          "data": {
            "image/png": "[encoded data removed]",
            "text/plain": [
              "<Figure size 432x288 with 1 Axes>"
            ]
          },
          "metadata": {
            "needs_background": "light"
          }
        }
      ]
    },
    {
      "cell_type": "markdown",
      "source": [
        "평균 필터"
      ],
      "metadata": {
        "id": "9lLGPgt_0IHu"
      }
    },
    {
      "cell_type": "code",
      "source": [
        "import numpy as np\n",
        "import matplotlib.pyplot as plt\n",
        "\n",
        "np.random.seed(0)"
      ],
      "metadata": {
        "id": "gNyEfepBznNw"
      },
      "execution_count": null,
      "outputs": []
    },
    {
      "cell_type": "code",
      "source": [
        "def avg_filter(k, x_meas, x_avg):\n",
        "    \"\"\"평균필터 사용하여 전압 평균 계산\"\"\"\n",
        "    alpha = (k - 1) / k\n",
        "    x_avg = alpha * x_avg + (1 - alpha) * x_meas\n",
        "    return x_avg"
      ],
      "metadata": {
        "id": "xOVYs9dpzug1"
      },
      "execution_count": null,
      "outputs": []
    },
    {
      "cell_type": "code",
      "source": [
        "def get_volt():\n",
        "    \"\"\"전압 평균\"\"\"\n",
        "    v = np.random.normal(0, 4)  # v: 잡음 평균(노이즈)\n",
        "    volt_mean = 14.4            # volt_mean: 측정하는 전압의 평균(기준값)\n",
        "    volt_meas = volt_mean + v   # volt_meas: 식별가능한 전압 평균 [V] (기준값 + 잡음)\n",
        "    return volt_meas"
      ],
      "metadata": {
        "id": "zsrC4wSazwPB"
      },
      "execution_count": null,
      "outputs": []
    },
    {
      "cell_type": "code",
      "source": [
        "# Input parameters. (측정시간, 측정간격)\n",
        "time_end = 10\n",
        "dt = 0.2"
      ],
      "metadata": {
        "id": "t1tpUOfxz0mz"
      },
      "execution_count": null,
      "outputs": []
    },
    {
      "cell_type": "code",
      "source": [
        "# 값을 저장할 공간(array) 생성\n",
        "time = np.arange(0, time_end, dt)\n",
        "n_samples = len(time)\n",
        "x_meas_save = np.zeros(n_samples)\n",
        "x_avg_save = np.zeros(n_samples)"
      ],
      "metadata": {
        "id": "3UYc1mQUz50Z"
      },
      "execution_count": null,
      "outputs": []
    },
    {
      "cell_type": "code",
      "source": [
        "x_avg = 0\n",
        "for i in range(n_samples):\n",
        "    k = i + 1\n",
        "    x_meas = get_volt()\n",
        "    x_avg = avg_filter(k, x_meas, x_avg)\n",
        "\n",
        "    x_meas_save[i] = x_meas\n",
        "    x_avg_save[i] = x_avg"
      ],
      "metadata": {
        "id": "vzYgDdiIz-KL"
      },
      "execution_count": null,
      "outputs": []
    },
    {
      "cell_type": "code",
      "source": [
        "plt.plot(time, x_meas_save, 'r*', label='Measured')\n",
        "plt.plot(time, x_avg_save, 'b-', label='Average')\n",
        "plt.legend(loc='upper left')\n",
        "plt.title('Measured Voltages v.s. Average Filter Values')\n",
        "plt.xlabel('Time [sec]')\n",
        "plt.ylabel('Volt [V]')\n",
        "plt.show()"
      ],
      "metadata": {
        "colab": {
          "base_uri": "https://localhost:8080/",
          "height": 295
        },
        "id": "L4RUOobV0CZl",
        "outputId": "9120f8e7-9274-4da3-b86c-22a997fe0f8b"
      },
      "execution_count": null,
      "outputs": [
        {
          "output_type": "display_data",
          "data": {
            "image/png": "[encoded data removed]",
            "text/plain": [
              "<Figure size 432x288 with 1 Axes>"
            ]
          },
          "metadata": {
            "needs_background": "light"
          }
        }
      ]
    },
    {
      "cell_type": "markdown",
      "source": [
        "* 재귀식인 평균필터 사용하면, 직전평균값과 데이터개수만으로 쉽게 평균값 도출 가능\n",
        "* 데이터가 순차적으로 입력될 경우 효과적 (데이터 실시간 처리 등 여러 면에서 유용)\n",
        "* 평균을 취함으로써 잡음이 제거되는 효과 있음"
      ],
      "metadata": {
        "id": "MkOSSgK60VVI"
      }
    },
    {
      "cell_type": "markdown",
      "source": [
        "공 이미지를 추적하는 예제\n",
        "> https://github.com/JeongMinHyeok/Kalman_Filter/blob/masterChapter10_ObjectTrackingKF.ipynb"
      ],
      "metadata": {
        "id": "ghC_J9d-vfn4"
      }
    },
    {
      "cell_type": "code",
      "source": [
        "import numpy as np\n",
        "\n",
        "A = np.array([[90, 80, 40],\n",
        "              [90, 60, 80],\n",
        "              [60, 50, 70],\n",
        "              [30, 40, 70],\n",
        "              [30, 20, 90]])\n",
        "\n",
        "ones = np.ones([5, 5])\n",
        "deviation = A - (ones.dot(A) / len(A))\n",
        "covariance = deviation.T.dot(deviation)"
      ],
      "metadata": {
        "id": "UvaxPvBDFaCs"
      },
      "execution_count": null,
      "outputs": []
    },
    {
      "cell_type": "code",
      "source": [
        "covariance"
      ],
      "metadata": {
        "colab": {
          "base_uri": "https://localhost:8080/"
        },
        "id": "ATs9cpU7Ffp0",
        "outputId": "1a521141-512d-4282-c52b-7ca8cc28602f"
      },
      "execution_count": null,
      "outputs": [
        {
          "output_type": "execute_result",
          "data": {
            "text/plain": [
              "array([[ 3600.,  2400., -1200.],\n",
              "       [ 2400.,  2000., -1400.],\n",
              "       [-1200., -1400.,  1400.]])"
            ]
          },
          "metadata": {},
          "execution_count": 10
        }
      ]
    },
    {
      "cell_type": "code",
      "source": [
        "import numpy as np\n",
        "import matplotlib.pyplot as plt\n",
        "import cv2\n",
        "from numpy.linalg import inv\n",
        "from skimage.metrics import structural_similarity\n",
        " \n",
        "np.random.seed(0)\n",
        "def kalman_filter(z_meas, x_esti, P):\n",
        "    \"\"\"칼만필터 알고리즘 (매개변수 : 측정값, 추정값, 오차공분산)\"\"\"\n",
        "    # (1) Prediction.\n",
        "    x_pred = A @ x_esti\n",
        "    P_pred = A @ P @ A.T + Q\n",
        " \n",
        "    # (2) Kalman Gain.\n",
        "    K = P_pred @ H.T @ inv(H @ P_pred @ H.T + R)\n",
        " \n",
        "    # (3) Estimation.\n",
        "    x_esti = x_pred + K @ (z_meas - H @ x_pred)\n",
        " \n",
        "    # (4) Error Covariance.\n",
        "    P = P_pred - K @ H @ P_pred\n",
        " \n",
        "    return x_esti, P"
      ],
      "metadata": {
        "id": "BQerT-rKveFM"
      },
      "execution_count": null,
      "outputs": []
    },
    {
      "cell_type": "code",
      "source": [
        "def get_ball_pos(iimg=0):\n",
        "    \"\"\"Return measured position of ball by comparing with background image file.\n",
        "        - References:\n",
        "        (1) Data Science School:\n",
        "            https://datascienceschool.net/view-notebook/f9f8983941254a34bf0fee42c66c5539\n",
        "        (2) Image Diff Calculation:\n",
        "            https://www.pyimagesearch.com/2017/06/19/image-difference-with-opencv-and-python\n",
        "    \"\"\"    \n",
        "    # Read images.\n",
        "    imageA = cv2.imread('./data/10.TrackKalman/Img/bg.jpg')\n",
        "    imageB = cv2.imread('./data/10.TrackKalman/Img/{}.jpg'.format(iimg+1))\n",
        " \n",
        "\n",
        "    # Convert the images to grayscale.\n",
        "    grayA = cv2.cvtColor(imageA, cv2.COLOR_BGR2GRAY)\n",
        "    grayB = cv2.cvtColor(imageB, cv2.COLOR_BGR2GRAY)\n",
        " \n",
        "    # 두 이미지 사이의 구조적 유사성 지수(SSIM) 계산, 차이 이미지가 반환되는지 확인.\n",
        "    _, diff = structural_similarity(grayA, grayB, full=True)\n",
        "    diff = (diff * 255).astype('uint8') \n",
        "\n",
        "      # 서로 다른 두 이미지(배경, 공)의 영역을 구하기 위해 이미지 임계값 지정 후 윤곽선 찾기 \n",
        "    thresh = cv2.threshold(diff, 0, 255, cv2.THRESH_BINARY_INV | cv2.THRESH_OTSU)[1]\n",
        "    contours, _ = cv2.findContours(thresh.copy(), cv2.RETR_EXTERNAL, cv2.CHAIN_APPROX_SIMPLE)\n",
        "    M = cv2.moments(contours[0])\n",
        "    xc = int(M['m10'] / M['m00'])  # center of x as true position.\n",
        "    yc = int(M['m01'] / M['m00'])  # center of y as true position.\n",
        " \n",
        "    v = np.random.normal(0, 15)  # v: 위치의 측정잡음\n",
        " \n",
        "    xpos_meas = xc + v  # x_pos_meas: 위치x의 측정값 (observable). \n",
        "    ypos_meas = yc + v  # y_pos_meas: 위치y의 측정값 (observable). \n",
        " \n",
        "    return np.array([xpos_meas, ypos_meas])\n",
        "\n",
        "\n",
        "# Input parameters.\n",
        "n_samples = 24\n",
        "dt = 1\n",
        " \n",
        " \n",
        "# Initialization for system model.\n",
        "# Matrix: A, H, Q, R, P_0\n",
        "# Vector: x_0\n",
        "A = np.array([[ 1, dt,  0,  0],\n",
        "              [ 0,  1,  0,  0],\n",
        "              [ 0,  0,  1, dt],\n",
        "              [ 0,  0,  0,  1]])\n",
        "H = np.array([[ 1,  0,  0,  0],\n",
        "              [ 0,  0,  1,  0]])\n",
        "Q = 1.0 * np.eye(4)\n",
        "R = np.array([[50,  0],\n",
        "              [ 0, 50]])\n",
        " \n",
        "# Initialization for estimation.\n",
        "x_0 = np.array([0, 0, 0, 0])  # (x-pos, x-vel, y-pos, y-vel) by definition in book. / 추정값 초기위치\n",
        "P_0 = 100 * np.eye(4)\n",
        "\n",
        "xpos_meas_save = np.zeros(n_samples)\n",
        "ypos_meas_save = np.zeros(n_samples)\n",
        "xpos_esti_save = np.zeros(n_samples)\n",
        "ypos_esti_save = np.zeros(n_samples)\n",
        "# 칼만필터 실행\n",
        "x_esti, P = None, None\n",
        "for i in range(n_samples):\n",
        "    z_meas = get_ball_pos(i)\n",
        "    if i == 0:\n",
        "        x_esti, P = x_0, P_0\n",
        "    else:\n",
        "        x_esti, P = kalman_filter(z_meas, x_esti, P)\n",
        " \n",
        "    xpos_meas_save[i] = z_meas[0]\n",
        "    ypos_meas_save[i] = z_meas[1]\n",
        "    xpos_esti_save[i] = x_esti[0]\n",
        "    ypos_esti_save[i] = x_esti[2]"
      ],
      "metadata": {
        "id": "Cbmo3NV0voWS"
      },
      "execution_count": null,
      "outputs": []
    },
    {
      "cell_type": "markdown",
      "source": [
        "* Kalman filter gives better estimates of the x- and y-position than if one were to just use the raw measurements\n",
        "\n",
        "\n",
        "> https://towardsdatascience.com/wtf-is-sensor-fusion-part-2-the-good-old-kalman-filter-3642f321440"
      ],
      "metadata": {
        "id": "gppPS0FXBMTd"
      }
    },
    {
      "cell_type": "code",
      "source": [
        "import numpy as np\n",
        "from scipy.stats import multivariate_normal\n",
        "\n",
        "X = np.array([[13.04681517, 14.74115241],[13.40852019, 13.7632696 ],[14.19591481, 15.85318113],[14.91470077, 16.17425987]])\n",
        "\n",
        "def est_gaus_par(X):\n",
        "    mu = np.mean(X,axis=0)\n",
        "    sig = np.std(X,axis=0)\n",
        "    return mu,sig\n",
        "\n",
        "mu,sigma = est_gaus_par(X)\n",
        "\n",
        "def est_mult_gaus(X,mu,sigma):\n",
        "    m = len(mu)\n",
        "    sigma2 = np.diag(sigma)\n",
        "    X = X-mu.T\n",
        "    p = 1/((2*np.pi)**(m/2)*np.linalg.det(sigma2)**(0.5))*np.exp(-0.5*np.sum(X.dot(np.linalg.pinv(sigma2))*X,axis=1))\n",
        "\n",
        "    return p\n",
        "\n",
        "p = est_mult_gaus(X, mu, sigma)\n",
        "\n",
        "print (p)"
      ],
      "metadata": {
        "colab": {
          "base_uri": "https://localhost:8080/"
        },
        "id": "AYk713iyPJjh",
        "outputId": "0ac5a78e-da1c-4b80-b72d-eb4372e5318d"
      },
      "execution_count": null,
      "outputs": [
        {
          "output_type": "stream",
          "name": "stdout",
          "text": [
            "[0.10800608 0.06099948 0.13705282 0.05261222]\n"
          ]
        }
      ]
    },
    {
      "cell_type": "code",
      "source": [
        "# Import packages\n",
        "import numpy as np\n",
        "from scipy.stats import multivariate_normal\n",
        "\n",
        "# Prepare your data\n",
        "x = np.linspace(-10, 10, 500)\n",
        "y = np.linspace(-10, 10, 500)\n",
        "X, Y = np.meshgrid(x,y)\n",
        "\n",
        "# Get the multivariate normal distribution\n",
        "mu_x = np.mean(x)\n",
        "sigma_x = np.std(x)\n",
        "mu_y = np.mean(y)\n",
        "sigma_y = np.std(y)\n",
        "rv = multivariate_normal([mu_x, mu_y], [[sigma_x, 0], [0, sigma_y]])\n",
        "\n",
        "# Get the probability density\n",
        "pos = np.empty(X.shape + (2,))\n",
        "pos[:, :, 0] = X\n",
        "pos[:, :, 1] = Y\n",
        "pd = rv.pdf(pos)\n",
        "pd"
      ],
      "metadata": {
        "colab": {
          "base_uri": "https://localhost:8080/"
        },
        "id": "PbwA6IomPxmU",
        "outputId": "60d4cf51-e5ba-4d62-e5ab-f09b7ae5a1eb"
      },
      "execution_count": null,
      "outputs": [
        {
          "output_type": "execute_result",
          "data": {
            "text/plain": [
              "array([[8.55737326e-10, 9.16999380e-10, 9.82374343e-10, ...,\n",
              "        9.82374343e-10, 9.16999380e-10, 8.55737326e-10],\n",
              "       [9.16999380e-10, 9.82647171e-10, 1.05270231e-09, ...,\n",
              "        1.05270231e-09, 9.82647171e-10, 9.16999380e-10],\n",
              "       [9.82374343e-10, 1.05270231e-09, 1.12775185e-09, ...,\n",
              "        1.12775185e-09, 1.05270231e-09, 9.82374343e-10],\n",
              "       ...,\n",
              "       [9.82374343e-10, 1.05270231e-09, 1.12775185e-09, ...,\n",
              "        1.12775185e-09, 1.05270231e-09, 9.82374343e-10],\n",
              "       [9.16999380e-10, 9.82647171e-10, 1.05270231e-09, ...,\n",
              "        1.05270231e-09, 9.82647171e-10, 9.16999380e-10],\n",
              "       [8.55737326e-10, 9.16999380e-10, 9.82374343e-10, ...,\n",
              "        9.82374343e-10, 9.16999380e-10, 8.55737326e-10]])"
            ]
          },
          "metadata": {},
          "execution_count": 23
        }
      ]
    },
    {
      "cell_type": "code",
      "source": [
        "mean = [0, 0]\n",
        "cov = [[1, 0], [0, 100]]  # diagonal covariance\n",
        "\n",
        "import matplotlib.pyplot as plt\n",
        "\n",
        "x, y = np.random.multivariate_normal(mean, cov, 5000).T\n",
        "plt.plot(x, y, 'x')\n",
        "plt.axis('equal')\n"
      ],
      "metadata": {
        "colab": {
          "base_uri": "https://localhost:8080/",
          "height": 282
        },
        "id": "usZm8rKbL_X-",
        "outputId": "f1cedb7d-4aa3-4390-9b1a-056d3b1cfbd5"
      },
      "execution_count": null,
      "outputs": [
        {
          "output_type": "execute_result",
          "data": {
            "text/plain": [
              "(-4.020958198090635, 4.231905764190144, -42.3957768412569, 42.77042250478631)"
            ]
          },
          "metadata": {},
          "execution_count": 8
        },
        {
          "output_type": "display_data",
          "data": {
            "image/png": "[encoded data removed]",
            "text/plain": [
              "<Figure size 432x288 with 1 Axes>"
            ]
          },
          "metadata": {
            "needs_background": "light"
          }
        }
      ]
    },
    {
      "cell_type": "code",
      "source": [
        "import numpy as np\n",
        "import matplotlib.pyplot as plt\n",
        "\n",
        "\n",
        "class MotionModel():\n",
        "    def __init__(self, A, Q):\n",
        "        self.A = A\n",
        "        self.Q = Q\n",
        "\n",
        "        (m, _) = Q.shape\n",
        "        self.zero_mean = np.zeros(m)\n",
        "\n",
        "    def __call__(self, x):\n",
        "        new_state = self.A @ x + np.random.multivariate_normal(self.zero_mean, self.Q)\n",
        "        return new_state\n",
        "\n",
        "\n",
        "class MeasurementModel():\n",
        "    def __init__(self, H, R):\n",
        "        self.H = H\n",
        "        self.R = R\n",
        "\n",
        "        (n, _) = R.shape\n",
        "        self.zero_mean = np.zeros(n)\n",
        "\n",
        "    def __call__(self, x):\n",
        "        measurement = self.H @ x + np.random.multivariate_normal(self.zero_mean, self.R)\n",
        "        return measurement\n",
        "\n",
        "\n",
        "def create_model_parameters(T=1, s2_x=0.1 ** 2, s2_y=0.1 ** 2, lambda2=0.3 ** 2):\n",
        "    # Motion model parameters\n",
        "    F = np.array([[1, T],\n",
        "                  [0, 1]])\n",
        "    base_sigma = np.array([[T ** 3 / 3, T ** 2 / 2],\n",
        "                           [T ** 2 / 2, T]])\n",
        "\n",
        "    sigma_x = s2_x * base_sigma\n",
        "    sigma_y = s2_y * base_sigma\n",
        "\n",
        "    zeros_2 = np.zeros((2, 2))\n",
        "    A = np.block([[F, zeros_2],\n",
        "                  [zeros_2, F]])\n",
        "    Q = np.block([[sigma_x, zeros_2],\n",
        "                  [zeros_2, sigma_y]])\n",
        "\n",
        "    # Measurement model parameters\n",
        "    H = np.array([[1, 0, 0, 0],\n",
        "                  [0, 0, 1, 0]])\n",
        "    R = lambda2 * np.eye(2)\n",
        "\n",
        "    return A, H, Q, R\n",
        "\n",
        "\n",
        "def simulate_system(K, x0):\n",
        "    (A, H, Q, R) = create_model_parameters()\n",
        "\n",
        "    # Create models\n",
        "    motion_model = MotionModel(A, Q)\n",
        "    meas_model = MeasurementModel(H, R)\n",
        "\n",
        "    (m, _) = Q.shape\n",
        "    (n, _) = R.shape\n",
        "\n",
        "    state = np.zeros((K, m))\n",
        "    meas = np.zeros((K, n))\n",
        "\n",
        "    # initial state\n",
        "    x = x0\n",
        "    for k in range(K):\n",
        "        x = motion_model(x)\n",
        "        z = meas_model(x)\n",
        "\n",
        "        state[k, :] = x\n",
        "        meas[k, :] = z\n",
        "        #print (f'x={x}')\n",
        "        #print (f'z={z}')\n",
        "\n",
        "    return state, meas\n",
        "\n",
        "\n",
        "if __name__ == '__main__':\n",
        "    np.random.seed(21)\n",
        "    (state, meas) = simulate_system(K=20, x0=np.array([0, 0.1, 0, 0.1]))\n",
        "\n",
        "    plt.figure(figsize=(7, 5))\n",
        "    plt.plot(state[:, 0], state[:, 2], '-bo')\n",
        "    plt.plot(meas[:, 0], meas[:, 1], 'rx')\n",
        "    plt.xlabel('x [m]')\n",
        "    plt.ylabel('y [m]')\n",
        "    plt.legend(['true state', 'observed measurement'])\n",
        "    plt.axis('square')\n",
        "    plt.tight_layout(pad=0)\n",
        "    plt.show()"
      ],
      "metadata": {
        "colab": {
          "base_uri": "https://localhost:8080/",
          "height": 738
        },
        "id": "4e0nZfs5Azrx",
        "outputId": "031a07ad-aaee-4879-d773-5c0ada3bd491"
      },
      "execution_count": null,
      "outputs": [
        {
          "output_type": "stream",
          "name": "stdout",
          "text": [
            "(4,)\n",
            "(4,)\n",
            "(4,)\n",
            "(4,)\n",
            "(4,)\n",
            "(4,)\n",
            "(4,)\n",
            "(4,)\n",
            "(4,)\n",
            "(4,)\n",
            "(4,)\n",
            "(4,)\n",
            "(4,)\n",
            "(4,)\n",
            "(4,)\n",
            "(4,)\n",
            "(4,)\n",
            "(4,)\n",
            "(4,)\n",
            "(4,)\n"
          ]
        },
        {
          "output_type": "display_data",
          "data": {
            "image/png": "[encoded data removed]",
            "text/plain": [
              "<Figure size 504x360 with 1 Axes>"
            ]
          },
          "metadata": {
            "needs_background": "light"
          }
        }
      ]
    },
    {
      "cell_type": "code",
      "source": [
        "import numpy as np\n",
        "\n",
        "\n",
        "class KalmanFilter():\n",
        "    def __init__(self, A, H, Q, R, x_0, P_0):\n",
        "        # Model parameters\n",
        "        self.A = A\n",
        "        self.H = H\n",
        "        self.Q = Q\n",
        "        self.R = R\n",
        "\n",
        "        # Initial state\n",
        "        self._x = x_0\n",
        "        self._P = P_0\n",
        "\n",
        "    def predict(self):\n",
        "        self._x = self.A @ self._x\n",
        "        self._P = self.A @ self._P @ self.A.transpose() + self.Q\n",
        "\n",
        "    def update(self, z):\n",
        "        self.S = self.H @ self._P @ self.H.transpose() + self.R\n",
        "        self.V = z - self.H @ self._x\n",
        "        self.K = self._P @ self.H.transpose() @ np.linalg.inv(self.S)\n",
        "\n",
        "        self._x = self._x + self.K @ self.V\n",
        "        self._P = self._P - self.K @ self.S @ self.K.transpose()\n",
        "\n",
        "    def get_state(self):\n",
        "        return self._x, self._P"
      ],
      "metadata": {
        "id": "ZIh7bNl-BXbX"
      },
      "execution_count": null,
      "outputs": []
    },
    {
      "cell_type": "code",
      "source": [
        "import numpy as np\n",
        "import matplotlib.pyplot as plt\n",
        "\n",
        "#from kalman_filter import KalmanFilter\n",
        "#from simulate_model import simulate_system, create_model_parameters\n",
        "\n",
        "np.random.seed(21)\n",
        "(A, H, Q, R) = create_model_parameters()\n",
        "K = 20\n",
        "# initial state\n",
        "x = np.array([0, 0.1, 0, 0.1])\n",
        "P = 0 * np.eye(4)\n",
        "\n",
        "(state, meas) = simulate_system(K, x)\n",
        "kalman_filter = KalmanFilter(A, H, Q, R, x, P)\n",
        "\n",
        "est_state = np.zeros((K, 4))\n",
        "est_cov = np.zeros((K, 4, 4))\n",
        "\n",
        "for k in range(K):\n",
        "    kalman_filter.predict()\n",
        "    kalman_filter.update(meas[k, :])\n",
        "    (x, P) = kalman_filter.get_state()\n",
        "\n",
        "    est_state[k, :] = x\n",
        "    est_cov[k, ...] = P\n",
        "\n",
        "plt.figure(figsize=(7, 5))\n",
        "plt.plot(state[:, 0], state[:, 2], '-bo')\n",
        "plt.plot(est_state[:, 0], est_state[:, 2], '-ko')\n",
        "plt.plot(meas[:, 0], meas[:, 1], ':rx')\n",
        "plt.xlabel('x [m]')\n",
        "plt.ylabel('y [m]')\n",
        "plt.legend(['true state', 'inferred state', 'observed measurement'])\n",
        "plt.axis('square')\n",
        "plt.tight_layout(pad=0)\n",
        "plt.plot()"
      ],
      "metadata": {
        "colab": {
          "base_uri": "https://localhost:8080/",
          "height": 408
        },
        "id": "-h4o1qFSBZT7",
        "outputId": "c70b46c9-e993-42e1-eadf-763144116778"
      },
      "execution_count": null,
      "outputs": [
        {
          "output_type": "execute_result",
          "data": {
            "text/plain": [
              "[]"
            ]
          },
          "metadata": {},
          "execution_count": 4
        },
        {
          "output_type": "display_data",
          "data": {
            "image/png": "[encoded data removed]",
            "text/plain": [
              "<Figure size 504x360 with 1 Axes>"
            ]
          },
          "metadata": {
            "needs_background": "light"
          }
        }
      ]
    },
    {
      "cell_type": "code",
      "metadata": {
        "id": "G65Z-_N4TFXt",
        "colab": {
          "base_uri": "https://localhost:8080/"
        },
        "outputId": "09bbd4f4-82e7-4427-a58b-408362847694"
      },
      "source": [
        "!pip install filterpy"
      ],
      "execution_count": null,
      "outputs": [
        {
          "output_type": "stream",
          "name": "stdout",
          "text": [
            "Collecting filterpy\n",
            "  Downloading filterpy-1.4.5.zip (177 kB)\n",
            "\u001b[?25l\r\u001b[K     |█▉                              | 10 kB 19.8 MB/s eta 0:00:01\r\u001b[K     |███▊                            | 20 kB 29.6 MB/s eta 0:00:01\r\u001b[K     |█████▌                          | 30 kB 24.3 MB/s eta 0:00:01\r\u001b[K     |███████▍                        | 40 kB 19.5 MB/s eta 0:00:01\r\u001b[K     |█████████▏                      | 51 kB 16.5 MB/s eta 0:00:01\r\u001b[K     |███████████                     | 61 kB 13.4 MB/s eta 0:00:01\r\u001b[K     |████████████▉                   | 71 kB 13.9 MB/s eta 0:00:01\r\u001b[K     |██████████████▊                 | 81 kB 15.6 MB/s eta 0:00:01\r\u001b[K     |████████████████▋               | 92 kB 15.2 MB/s eta 0:00:01\r\u001b[K     |██████████████████▍             | 102 kB 14.3 MB/s eta 0:00:01\r\u001b[K     |████████████████████▎           | 112 kB 14.3 MB/s eta 0:00:01\r\u001b[K     |██████████████████████          | 122 kB 14.3 MB/s eta 0:00:01\r\u001b[K     |████████████████████████        | 133 kB 14.3 MB/s eta 0:00:01\r\u001b[K     |█████████████████████████▊      | 143 kB 14.3 MB/s eta 0:00:01\r\u001b[K     |███████████████████████████▋    | 153 kB 14.3 MB/s eta 0:00:01\r\u001b[K     |█████████████████████████████▌  | 163 kB 14.3 MB/s eta 0:00:01\r\u001b[K     |███████████████████████████████▎| 174 kB 14.3 MB/s eta 0:00:01\r\u001b[K     |████████████████████████████████| 177 kB 14.3 MB/s \n",
            "\u001b[?25hRequirement already satisfied: numpy in /usr/local/lib/python3.7/dist-packages (from filterpy) (1.19.5)\n",
            "Requirement already satisfied: scipy in /usr/local/lib/python3.7/dist-packages (from filterpy) (1.4.1)\n",
            "Requirement already satisfied: matplotlib in /usr/local/lib/python3.7/dist-packages (from filterpy) (3.2.2)\n",
            "Requirement already satisfied: pyparsing!=2.0.4,!=2.1.2,!=2.1.6,>=2.0.1 in /usr/local/lib/python3.7/dist-packages (from matplotlib->filterpy) (3.0.6)\n",
            "Requirement already satisfied: cycler>=0.10 in /usr/local/lib/python3.7/dist-packages (from matplotlib->filterpy) (0.11.0)\n",
            "Requirement already satisfied: kiwisolver>=1.0.1 in /usr/local/lib/python3.7/dist-packages (from matplotlib->filterpy) (1.3.2)\n",
            "Requirement already satisfied: python-dateutil>=2.1 in /usr/local/lib/python3.7/dist-packages (from matplotlib->filterpy) (2.8.2)\n",
            "Requirement already satisfied: six>=1.5 in /usr/local/lib/python3.7/dist-packages (from python-dateutil>=2.1->matplotlib->filterpy) (1.15.0)\n",
            "Building wheels for collected packages: filterpy\n",
            "  Building wheel for filterpy (setup.py) ... \u001b[?25l\u001b[?25hdone\n",
            "  Created wheel for filterpy: filename=filterpy-1.4.5-py3-none-any.whl size=110474 sha256=c3d4ec90b8325fcded04d9f9bfb1214412400e738c81b09b6492c86473e921ab\n",
            "  Stored in directory: /root/.cache/pip/wheels/ce/e0/ee/a2b3c5caab3418c1ccd8c4de573d4cbe13315d7e8b0a55fbc2\n",
            "Successfully built filterpy\n",
            "Installing collected packages: filterpy\n",
            "Successfully installed filterpy-1.4.5\n"
          ]
        }
      ]
    },
    {
      "cell_type": "markdown",
      "metadata": {
        "id": "CuZPjtVWTToE"
      },
      "source": [
        "1960년대 초 루돌프 칼만이 개발한 알고리즘,  NASA의 아폴로 프로젝트에서 네비게이션 개발 등 다양하게 사용됨 \n",
        "* 잡음이 포함되어 있는 측정치를 바탕으로 선형 역학계의 상태를 추정\n",
        "* 각 시간에서의 상태 벡터는 이전 시간의 상태 벡터를 통해서 결정된다는 마르코프 연쇄를 가정함\n",
        "\n",
        "Kalman filter는 로봇의 state를 추정하기 위해 가장 흔히 사용되는 방법 (2단계로 이루어짐)\n",
        "*   control input에 의한 prediction 단계\n",
        "*   센서의 observation를 이용한 correction 단계\n",
        "\n",
        "---\n",
        "\n",
        "* Prediction 단계는 직관적으로 t-1의 평균은 motion model을 통해 t의 평균으로 계산됨\n",
        "* Correction 단계에서는 새로운 변수인 K(Kalman gain)이 추가됨\n",
        "\n",
        "> 칼만 필터는 상태 예측(state prediction)과 측정 업데이트(measurement update)를 반복적으로 수행됨\n",
        "\n",
        "* 상태 예측단계는 이전  파라미터(위치, 속도 등)와 측정값을 이용해 현재  파라미터 값을 예측하는 단계\n",
        "* 측정 업데이트는 상태 예측단계에서 예측된 현재 파라미터 값과 현재 위치에서 얻어진 센서 정보를 이용해 현재 파라미터 값을 업데이트\n",
        "\n",
        "\n",
        "$\\hat{x}_{n,n}$ =$\\hat{x}_{n,n-1}$+$α_{n}$ ($z_n$−$\\hat{x}_{n,n-1})$\n",
        "\n",
        "* $\\hat{x}_{n,n-1}$  is the predicted state of $x$ at the time $N$, based on the measurement at time $N−1$\n",
        "* $z_n$−$\\hat{x}_{n,n-1}$  is the \"measurement\" residual\n",
        "\n",
        "* https://www.kalmanfilter.net/alphabeta.html\n"
      ]
    },
    {
      "cell_type": "code",
      "source": [
        "def measurement_update(estimated_mean, estimated_var, measurement_mean, measurement_var):\n",
        "    new_mean = (measurement_var * estimated_mean + estimated_var * measurement_mean) / (estimated_var + measurement_var)\n",
        "    new_var = estimated_var * measurement_var/(estimated_var + measurement_var)\n",
        "    return new_mean, new_var\n",
        "\n",
        "def state_prediction(estimated_mean, estimated_var, motion_control_mean, motion_control_var):\n",
        "    new_mean = estimated_mean + motion_control_mean\n",
        "    new_var  = estimated_var + motion_control_var\n",
        "    return new_mean, new_var\n",
        "\n",
        "if __name__ == \"__main__\":\n",
        "\n",
        "    measurements = [5, 6, 7, 9, 10]\n",
        "    measurement_var = 4;\n",
        "\n",
        "    motion_control = [1, 1, 2, 1, 1]\n",
        "    motion_control_var = 2\n",
        "\n",
        "    mu = 0;\n",
        "    sig = 1000;\n",
        "\n",
        "    for i in range(5):\n",
        "        mu, sig = state_prediction(mu, sig, motion_control[i], motion_control_var)\n",
        "        print(\"predict: [%f %f]\" % (mu, sig))\n",
        "        mu, sig = measurement_update(mu, sig, measurements[i], measurement_var)\n",
        "        print(\"udpate: [%f %f]\" % (mu, sig))"
      ],
      "metadata": {
        "colab": {
          "base_uri": "https://localhost:8080/"
        },
        "id": "-t3MA5hHquUl",
        "outputId": "a56e74d5-c2ab-45f3-8d5f-fb1b2452c091"
      },
      "execution_count": null,
      "outputs": [
        {
          "output_type": "stream",
          "name": "stdout",
          "text": [
            "predict: [1.000000 1002.000000]\n",
            "udpate: [4.984095 3.984095]\n",
            "predict: [5.984095 5.984095]\n",
            "udpate: [5.993628 2.397451]\n",
            "predict: [7.993628 4.397451]\n",
            "udpate: [7.473300 2.094660]\n",
            "predict: [8.473300 4.094660]\n",
            "udpate: [8.739730 2.023388]\n",
            "predict: [9.739730 4.023388]\n",
            "udpate: [9.870244 2.005830]\n"
          ]
        }
      ]
    },
    {
      "cell_type": "code",
      "source": [
        "# Multi dimensional Kalman filter\n",
        "import numpy as np\n",
        "\n",
        "def kalman_filter(mu, sig):\n",
        "    for n, measurement in enumerate(measurements):\n",
        "        # prediction\n",
        "        mu_bar = A * mu + B * u\n",
        "        sig_bar = A * sig * A.transpose()\n",
        "\n",
        "        # measurement update\n",
        "        s = C * sig_bar * C.transpose() + Q\n",
        "        K = sig_bar * C.transpose() * np.linalg.inv(s)\n",
        "\n",
        "        z = np.matrix([[measurement]])\n",
        "        mu = mu_bar + K * (z - C * mu_bar)\n",
        "        sig = (I - K * C) * sig_bar\n",
        "    return mu, sig\n",
        "\n",
        "\n",
        "measurements = [1, 2, 3, 4, 5]\n",
        "\n",
        "mu = np.matrix([[0.], [0.]])  # initial state (location and velocity)\n",
        "sig = np.matrix([[1000., 0.],\n",
        "                 [0., 1000.]])  # initial uncertainty\n",
        "u = np.matrix([[0.], [0.]])  # external motion\n",
        "A = np.matrix([[1., 1.],\n",
        "               [0, 1.]])  # next state function\n",
        "C = np.matrix([[1., 0.]])  # measurement function\n",
        "Q = np.matrix([[1.]])  # measurement uncertainty\n",
        "I = np.eye(2)\n",
        "B = np.eye(2)\n",
        "\n",
        "print(kalman_filter(mu, sig))"
      ],
      "metadata": {
        "id": "fyjK8UrPrXzQ",
        "outputId": "0ba203f6-711f-4079-b86f-d6fc780b084e",
        "colab": {
          "base_uri": "https://localhost:8080/"
        }
      },
      "execution_count": null,
      "outputs": [
        {
          "output_type": "stream",
          "name": "stdout",
          "text": [
            "(matrix([[4.99980014],\n",
            "        [0.9999001 ]]), matrix([[0.59980023, 0.19986016],\n",
            "        [0.19986016, 0.09990012]]))\n"
          ]
        }
      ]
    },
    {
      "cell_type": "code",
      "source": [
        "!pip install filterpy"
      ],
      "metadata": {
        "colab": {
          "base_uri": "https://localhost:8080/"
        },
        "id": "aroBRNbm0G20",
        "outputId": "b126d0fb-2c00-405e-bfb2-cdeeb84e03c4"
      },
      "execution_count": 3,
      "outputs": [
        {
          "output_type": "stream",
          "name": "stdout",
          "text": [
            "Collecting filterpy\n",
            "  Downloading filterpy-1.4.5.zip (177 kB)\n",
            "\u001b[?25l\r\u001b[K     |█▉                              | 10 kB 18.1 MB/s eta 0:00:01\r\u001b[K     |███▊                            | 20 kB 22.8 MB/s eta 0:00:01\r\u001b[K     |█████▌                          | 30 kB 5.5 MB/s eta 0:00:01\r\u001b[K     |███████▍                        | 40 kB 6.9 MB/s eta 0:00:01\r\u001b[K     |█████████▏                      | 51 kB 8.3 MB/s eta 0:00:01\r\u001b[K     |███████████                     | 61 kB 9.6 MB/s eta 0:00:01\r\u001b[K     |████████████▉                   | 71 kB 10.7 MB/s eta 0:00:01\r\u001b[K     |██████████████▊                 | 81 kB 11.9 MB/s eta 0:00:01\r\u001b[K     |████████████████▋               | 92 kB 13.1 MB/s eta 0:00:01\r\u001b[K     |██████████████████▍             | 102 kB 10.4 MB/s eta 0:00:01\r\u001b[K     |████████████████████▎           | 112 kB 10.4 MB/s eta 0:00:01\r\u001b[K     |██████████████████████          | 122 kB 10.4 MB/s eta 0:00:01\r\u001b[K     |████████████████████████        | 133 kB 10.4 MB/s eta 0:00:01\r\u001b[K     |█████████████████████████▊      | 143 kB 10.4 MB/s eta 0:00:01\r\u001b[K     |███████████████████████████▋    | 153 kB 10.4 MB/s eta 0:00:01\r\u001b[K     |█████████████████████████████▌  | 163 kB 10.4 MB/s eta 0:00:01\r\u001b[K     |███████████████████████████████▎| 174 kB 10.4 MB/s eta 0:00:01\r\u001b[K     |████████████████████████████████| 177 kB 10.4 MB/s \n",
            "\u001b[?25hRequirement already satisfied: numpy in /usr/local/lib/python3.7/dist-packages (from filterpy) (1.19.5)\n",
            "Requirement already satisfied: scipy in /usr/local/lib/python3.7/dist-packages (from filterpy) (1.4.1)\n",
            "Requirement already satisfied: matplotlib in /usr/local/lib/python3.7/dist-packages (from filterpy) (3.2.2)\n",
            "Requirement already satisfied: python-dateutil>=2.1 in /usr/local/lib/python3.7/dist-packages (from matplotlib->filterpy) (2.8.2)\n",
            "Requirement already satisfied: kiwisolver>=1.0.1 in /usr/local/lib/python3.7/dist-packages (from matplotlib->filterpy) (1.3.2)\n",
            "Requirement already satisfied: pyparsing!=2.0.4,!=2.1.2,!=2.1.6,>=2.0.1 in /usr/local/lib/python3.7/dist-packages (from matplotlib->filterpy) (3.0.7)\n",
            "Requirement already satisfied: cycler>=0.10 in /usr/local/lib/python3.7/dist-packages (from matplotlib->filterpy) (0.11.0)\n",
            "Requirement already satisfied: six>=1.5 in /usr/local/lib/python3.7/dist-packages (from python-dateutil>=2.1->matplotlib->filterpy) (1.15.0)\n",
            "Building wheels for collected packages: filterpy\n",
            "  Building wheel for filterpy (setup.py) ... \u001b[?25l\u001b[?25hdone\n",
            "  Created wheel for filterpy: filename=filterpy-1.4.5-py3-none-any.whl size=110474 sha256=242a2a8d5028d28b0e6d98ef29a185c45eef41f0cbef0382143b306b6e2c722a\n",
            "  Stored in directory: /root/.cache/pip/wheels/ce/e0/ee/a2b3c5caab3418c1ccd8c4de573d4cbe13315d7e8b0a55fbc2\n",
            "Successfully built filterpy\n",
            "Installing collected packages: filterpy\n",
            "Successfully installed filterpy-1.4.5\n"
          ]
        }
      ]
    },
    {
      "cell_type": "code",
      "metadata": {
        "id": "EeG_kVesSp4p"
      },
      "source": [
        "import time\n",
        "\n",
        "import numpy as np\n",
        "import pandas as pd\n",
        "from filterpy.kalman import KalmanFilter\n",
        "from filterpy.common import Q_discrete_white_noise\n",
        "from numpy import array, asarray\n",
        "import matplotlib.pyplot as plt"
      ],
      "execution_count": 4,
      "outputs": []
    },
    {
      "cell_type": "markdown",
      "source": [
        "> https://www.analyticsvidhya.com/blog/2021/10/an-intuition-about-kalman-filter/\n",
        "\n",
        "* 불확실한 측정값을 이용하여 미지의 값을 예측 하는것\n",
        "* 칼만필터는 전체 측정값이 아니라 현재의 측정값과 이전의 계산된 상태(예측)값만 필요로 한다\n",
        "\n",
        "---\n",
        "\n"
      ],
      "metadata": {
        "id": "D0gUUiEnrzY2"
      }
    },
    {
      "cell_type": "code",
      "metadata": {
        "id": "ApvleBQFSwl_"
      },
      "source": [
        "\n",
        "my_filter = KalmanFilter(dim_x=2, dim_z=1)\n",
        "my_filter.x = np.array([[2.],\n",
        "                [0.]])       # initial state (location and velocity)\n",
        "my_filter.F = np.array([[1.,1.],\n",
        "                [0.,1.]])    # state transition matrix\n",
        "\n",
        "my_filter.H = np.array([[1.,0.]])    # Measurement function\n",
        "my_filter.P *= 1000.                 # covariance matrix\n",
        "my_filter.R = 5                      # state uncertainty\n",
        "dt = 0.1\n",
        "my_filter.Q = Q_discrete_white_noise(2, dt, .1)  # process uncertainty"
      ],
      "execution_count": 5,
      "outputs": []
    },
    {
      "cell_type": "code",
      "metadata": {
        "id": "Vi3CPr6OUtu8",
        "colab": {
          "base_uri": "https://localhost:8080/"
        },
        "outputId": "9ae0beca-0bd5-4e43-da3c-1eee4cd4b66e"
      },
      "source": [
        "from google.colab import  drive\n",
        "drive.mount('/content/data')"
      ],
      "execution_count": 6,
      "outputs": [
        {
          "output_type": "stream",
          "name": "stdout",
          "text": [
            "Mounted at /content/data\n"
          ]
        }
      ]
    },
    {
      "cell_type": "code",
      "metadata": {
        "id": "5CGn8qY9Z1nf"
      },
      "source": [
        "def plot_kf(xs_scaled, xs):\n",
        "    fname = '/content/data/My Drive/Colab Notebooks/data/fig1.png'\n",
        "    plt.subplot(211)\n",
        "    plt.plot(xs_scaled[:], label='measurements')\n",
        "    plt.plot(xs[:, 0], label='estimated by KF')\n",
        "    plt.legend(loc=4)\n",
        "\n",
        "    plt.subplot(212)\n",
        "    plt.plot(xs_scaled[:], label='measurements')\n",
        "    plt.plot(xs[:, 1], label='estimation error')\n",
        "    plt.legend(loc=4)\n",
        "    plt.savefig(fname, dpi=300)\n",
        "    plt.show()"
      ],
      "execution_count": 7,
      "outputs": []
    },
    {
      "cell_type": "markdown",
      "source": [
        "* 연속된 측정값에서 모르는 변수들을 예측(estimates) 할때 사용함\n",
        "* Bayesian inference을 이용하여 변수들의 결합확률분포 예측함\n",
        "* 칼만필터는 변수들을 예측 하기 위해 mean vector 와 co-variance matrix를 유지함"
      ],
      "metadata": {
        "id": "b0ui4kPCseh4"
      }
    },
    {
      "cell_type": "code",
      "metadata": {
        "id": "4oip_Z7NakoV"
      },
      "source": [
        "def write_kf(xOberv, xRef):\n",
        "    df = pd.DataFrame( {'observation' : xOberv, 'reference' : xRef})\n",
        "    df['error'] = df['observation'] - df['reference']\n",
        "    out_file = \"/content/data/My Drive/Colab Notebooks/data/kf_eval.csv\"\n",
        "    df.to_csv(out_file,index=False)"
      ],
      "execution_count": 8,
      "outputs": []
    },
    {
      "cell_type": "code",
      "metadata": {
        "id": "MwabuguCTnN9"
      },
      "source": [
        "def main(df,ct=20): \n",
        "    i = 0\n",
        "    xs_scaled = []\n",
        "    xs = []\n",
        "    while True:\n",
        "       my_filter.predict()\n",
        "       my_filter.update(df['raw'][i])\n",
        "       xs_scaled.append(df['raw'][i])\n",
        "       # do something with the output\n",
        "       x = my_filter.x\n",
        "       # estimatinting value\n",
        "       # print(x)\n",
        "       xs.append(x)\n",
        "       if i < ct:\n",
        "          i = i + 1\n",
        "       else:\n",
        "          break\n",
        "       #print(i)\n",
        "       time.sleep(0.0001)\n",
        "\n",
        "    xs_scaled = asarray(xs_scaled)\n",
        "    xs = asarray(xs)\n",
        "\n",
        "    plot_kf(xs_scaled, xs)\n",
        "   \n",
        "    y, _ = xs[:, 0], xs[:, 1]\n",
        "    # print (y.shape, \", \",  xs_scaled.shape)\n",
        "    write_kf(xs_scaled, y.flatten())\n"
      ],
      "execution_count": 9,
      "outputs": []
    },
    {
      "cell_type": "code",
      "metadata": {
        "id": "38Wd1BtKWOUQ"
      },
      "source": [
        "raw_file = \"/content/data/My Drive/Colab Notebooks/data/UWB-0722.csv\"\n",
        "#df = pd.read_csv(raw_file, index_col = \"no\")\n",
        "df = pd.read_csv(raw_file)"
      ],
      "execution_count": 10,
      "outputs": []
    },
    {
      "cell_type": "code",
      "metadata": {
        "id": "6rtN2MH0YpTs",
        "colab": {
          "base_uri": "https://localhost:8080/",
          "height": 206
        },
        "outputId": "2f8238e7-5ae2-4f32-af8e-6412f643904b"
      },
      "source": [
        "df.head()"
      ],
      "execution_count": 11,
      "outputs": [
        {
          "output_type": "execute_result",
          "data": {
            "text/html": [
              "\n",
              "  <div id=\"df-eb587265-80dc-4e80-b722-a5fcd66f10fe\">\n",
              "    <div class=\"colab-df-container\">\n",
              "      <div>\n",
              "<style scoped>\n",
              "    .dataframe tbody tr th:only-of-type {\n",
              "        vertical-align: middle;\n",
              "    }\n",
              "\n",
              "    .dataframe tbody tr th {\n",
              "        vertical-align: top;\n",
              "    }\n",
              "\n",
              "    .dataframe thead th {\n",
              "        text-align: right;\n",
              "    }\n",
              "</style>\n",
              "<table border=\"1\" class=\"dataframe\">\n",
              "  <thead>\n",
              "    <tr style=\"text-align: right;\">\n",
              "      <th></th>\n",
              "      <th>no</th>\n",
              "      <th>timestamp</th>\n",
              "      <th>node</th>\n",
              "      <th>error</th>\n",
              "      <th>raw</th>\n",
              "      <th>filtered</th>\n",
              "      <th>rssi</th>\n",
              "    </tr>\n",
              "  </thead>\n",
              "  <tbody>\n",
              "    <tr>\n",
              "      <th>0</th>\n",
              "      <td>1</td>\n",
              "      <td>26806</td>\n",
              "      <td>00000000a3c3</td>\n",
              "      <td>2</td>\n",
              "      <td>0.00</td>\n",
              "      <td>NaN</td>\n",
              "      <td>127</td>\n",
              "    </tr>\n",
              "    <tr>\n",
              "      <th>1</th>\n",
              "      <td>2</td>\n",
              "      <td>27318</td>\n",
              "      <td>00000000a3c3</td>\n",
              "      <td>0</td>\n",
              "      <td>23.16</td>\n",
              "      <td>23.1600</td>\n",
              "      <td>-75</td>\n",
              "    </tr>\n",
              "    <tr>\n",
              "      <th>2</th>\n",
              "      <td>3</td>\n",
              "      <td>27813</td>\n",
              "      <td>00000000a3c3</td>\n",
              "      <td>0</td>\n",
              "      <td>21.36</td>\n",
              "      <td>21.7078</td>\n",
              "      <td>-75</td>\n",
              "    </tr>\n",
              "    <tr>\n",
              "      <th>3</th>\n",
              "      <td>4</td>\n",
              "      <td>28309</td>\n",
              "      <td>00000000a3c3</td>\n",
              "      <td>2</td>\n",
              "      <td>0.00</td>\n",
              "      <td>21.7078</td>\n",
              "      <td>127</td>\n",
              "    </tr>\n",
              "    <tr>\n",
              "      <th>4</th>\n",
              "      <td>5</td>\n",
              "      <td>28821</td>\n",
              "      <td>00000000a3c3</td>\n",
              "      <td>0</td>\n",
              "      <td>21.63</td>\n",
              "      <td>20.8940</td>\n",
              "      <td>-77</td>\n",
              "    </tr>\n",
              "  </tbody>\n",
              "</table>\n",
              "</div>\n",
              "      <button class=\"colab-df-convert\" onclick=\"convertToInteractive('df-eb587265-80dc-4e80-b722-a5fcd66f10fe')\"\n",
              "              title=\"Convert this dataframe to an interactive table.\"\n",
              "              style=\"display:none;\">\n",
              "        \n",
              "  <svg xmlns=\"http://www.w3.org/2000/svg\" height=\"24px\"viewBox=\"0 0 24 24\"\n",
              "       width=\"24px\">\n",
              "    <path d=\"M0 0h24v24H0V0z\" fill=\"none\"/>\n",
              "    <path d=\"M18.56 5.44l.94 2.06.94-2.06 2.06-.94-2.06-.94-.94-2.06-.94 2.06-2.06.94zm-11 1L8.5 8.5l.94-2.06 2.06-.94-2.06-.94L8.5 2.5l-.94 2.06-2.06.94zm10 10l.94 2.06.94-2.06 2.06-.94-2.06-.94-.94-2.06-.94 2.06-2.06.94z\"/><path d=\"M17.41 7.96l-1.37-1.37c-.4-.4-.92-.59-1.43-.59-.52 0-1.04.2-1.43.59L10.3 9.45l-7.72 7.72c-.78.78-.78 2.05 0 2.83L4 21.41c.39.39.9.59 1.41.59.51 0 1.02-.2 1.41-.59l7.78-7.78 2.81-2.81c.8-.78.8-2.07 0-2.86zM5.41 20L4 18.59l7.72-7.72 1.47 1.35L5.41 20z\"/>\n",
              "  </svg>\n",
              "      </button>\n",
              "      \n",
              "  <style>\n",
              "    .colab-df-container {\n",
              "      display:flex;\n",
              "      flex-wrap:wrap;\n",
              "      gap: 12px;\n",
              "    }\n",
              "\n",
              "    .colab-df-convert {\n",
              "      background-color: #E8F0FE;\n",
              "      border: none;\n",
              "      border-radius: 50%;\n",
              "      cursor: pointer;\n",
              "      display: none;\n",
              "      fill: #1967D2;\n",
              "      height: 32px;\n",
              "      padding: 0 0 0 0;\n",
              "      width: 32px;\n",
              "    }\n",
              "\n",
              "    .colab-df-convert:hover {\n",
              "      background-color: #E2EBFA;\n",
              "      box-shadow: 0px 1px 2px rgba(60, 64, 67, 0.3), 0px 1px 3px 1px rgba(60, 64, 67, 0.15);\n",
              "      fill: #174EA6;\n",
              "    }\n",
              "\n",
              "    [theme=dark] .colab-df-convert {\n",
              "      background-color: #3B4455;\n",
              "      fill: #D2E3FC;\n",
              "    }\n",
              "\n",
              "    [theme=dark] .colab-df-convert:hover {\n",
              "      background-color: #434B5C;\n",
              "      box-shadow: 0px 1px 3px 1px rgba(0, 0, 0, 0.15);\n",
              "      filter: drop-shadow(0px 1px 2px rgba(0, 0, 0, 0.3));\n",
              "      fill: #FFFFFF;\n",
              "    }\n",
              "  </style>\n",
              "\n",
              "      <script>\n",
              "        const buttonEl =\n",
              "          document.querySelector('#df-eb587265-80dc-4e80-b722-a5fcd66f10fe button.colab-df-convert');\n",
              "        buttonEl.style.display =\n",
              "          google.colab.kernel.accessAllowed ? 'block' : 'none';\n",
              "\n",
              "        async function convertToInteractive(key) {\n",
              "          const element = document.querySelector('#df-eb587265-80dc-4e80-b722-a5fcd66f10fe');\n",
              "          const dataTable =\n",
              "            await google.colab.kernel.invokeFunction('convertToInteractive',\n",
              "                                                     [key], {});\n",
              "          if (!dataTable) return;\n",
              "\n",
              "          const docLinkHtml = 'Like what you see? Visit the ' +\n",
              "            '<a target=\"_blank\" href=https://colab.research.google.com/notebooks/data_table.ipynb>data table notebook</a>'\n",
              "            + ' to learn more about interactive tables.';\n",
              "          element.innerHTML = '';\n",
              "          dataTable['output_type'] = 'display_data';\n",
              "          await google.colab.output.renderOutput(dataTable, element);\n",
              "          const docLink = document.createElement('div');\n",
              "          docLink.innerHTML = docLinkHtml;\n",
              "          element.appendChild(docLink);\n",
              "        }\n",
              "      </script>\n",
              "    </div>\n",
              "  </div>\n",
              "  "
            ],
            "text/plain": [
              "   no  timestamp          node  error    raw  filtered  rssi\n",
              "0   1      26806  00000000a3c3      2   0.00       NaN   127\n",
              "1   2      27318  00000000a3c3      0  23.16   23.1600   -75\n",
              "2   3      27813  00000000a3c3      0  21.36   21.7078   -75\n",
              "3   4      28309  00000000a3c3      2   0.00   21.7078   127\n",
              "4   5      28821  00000000a3c3      0  21.63   20.8940   -77"
            ]
          },
          "metadata": {},
          "execution_count": 11
        }
      ]
    },
    {
      "cell_type": "markdown",
      "source": [
        "RSSI 값의 범위"
      ],
      "metadata": {
        "id": "onn4rWM4WCxG"
      }
    },
    {
      "cell_type": "code",
      "source": [
        "df['rssi'].min()"
      ],
      "metadata": {
        "colab": {
          "base_uri": "https://localhost:8080/"
        },
        "id": "Z28SKFCmQJxr",
        "outputId": "26ad6e0a-7d2d-4e66-81ca-c57fde9ac2a8"
      },
      "execution_count": 12,
      "outputs": [
        {
          "output_type": "execute_result",
          "data": {
            "text/plain": [
              "-95"
            ]
          },
          "metadata": {},
          "execution_count": 12
        }
      ]
    },
    {
      "cell_type": "code",
      "source": [
        "df['rssi'].max()"
      ],
      "metadata": {
        "colab": {
          "base_uri": "https://localhost:8080/"
        },
        "id": "AKUgVDU0QOEf",
        "outputId": "c247a0fe-98f1-4824-ae25-3bf4e1bc6ac5"
      },
      "execution_count": 13,
      "outputs": [
        {
          "output_type": "execute_result",
          "data": {
            "text/plain": [
              "127"
            ]
          },
          "metadata": {},
          "execution_count": 13
        }
      ]
    },
    {
      "cell_type": "code",
      "source": [
        "df['rssi'].mean()"
      ],
      "metadata": {
        "colab": {
          "base_uri": "https://localhost:8080/"
        },
        "id": "zNqDrlqGWGlE",
        "outputId": "7008499a-5060-446b-8d42-40dfe3bc61dc"
      },
      "execution_count": 14,
      "outputs": [
        {
          "output_type": "execute_result",
          "data": {
            "text/plain": [
              "-51.27272727272727"
            ]
          },
          "metadata": {},
          "execution_count": 14
        }
      ]
    },
    {
      "cell_type": "code",
      "metadata": {
        "id": "4SV1vaSlZbar",
        "colab": {
          "base_uri": "https://localhost:8080/",
          "height": 282
        },
        "outputId": "5972cd9e-7db7-47d4-bf4c-9c51641d8566"
      },
      "source": [
        "#ct =100\n",
        "ct = len(df) -1\n",
        "print (ct)\n",
        "main(df,ct)"
      ],
      "execution_count": 15,
      "outputs": [
        {
          "output_type": "stream",
          "name": "stdout",
          "text": [
            "351\n"
          ]
        },
        {
          "output_type": "display_data",
          "data": {
            "image/png": "[encoded data removed]",
            "text/plain": [
              "<Figure size 432x288 with 2 Axes>"
            ]
          },
          "metadata": {
            "needs_background": "light"
          }
        }
      ]
    },
    {
      "cell_type": "markdown",
      "source": [
        "* 실험참여 노드 식별"
      ],
      "metadata": {
        "id": "PhWLYsVymUOL"
      }
    },
    {
      "cell_type": "code",
      "source": [
        "df['node'].unique()"
      ],
      "metadata": {
        "colab": {
          "base_uri": "https://localhost:8080/"
        },
        "id": "K-nxeE8UmZgM",
        "outputId": "4c7509c1-da9e-4dd8-d66f-22b3604697a7"
      },
      "execution_count": null,
      "outputs": [
        {
          "output_type": "execute_result",
          "data": {
            "text/plain": [
              "array(['00000000a3c3'], dtype=object)"
            ]
          },
          "metadata": {},
          "execution_count": 10
        }
      ]
    },
    {
      "cell_type": "markdown",
      "source": [
        "* error 와 RSSI 는 양의 상관관계를 가짐"
      ],
      "metadata": {
        "id": "J7G5kbyVlwt6"
      }
    },
    {
      "cell_type": "code",
      "source": [
        "df.corr()"
      ],
      "metadata": {
        "colab": {
          "base_uri": "https://localhost:8080/",
          "height": 206
        },
        "id": "vG-PIN50lj3H",
        "outputId": "f24dca21-c678-46d7-d72b-6b7ef28bd47b"
      },
      "execution_count": null,
      "outputs": [
        {
          "output_type": "execute_result",
          "data": {
            "text/html": [
              "\n",
              "  <div id=\"df-4705294d-0278-4c38-b4f4-aa4ae162112e\">\n",
              "    <div class=\"colab-df-container\">\n",
              "      <div>\n",
              "<style scoped>\n",
              "    .dataframe tbody tr th:only-of-type {\n",
              "        vertical-align: middle;\n",
              "    }\n",
              "\n",
              "    .dataframe tbody tr th {\n",
              "        vertical-align: top;\n",
              "    }\n",
              "\n",
              "    .dataframe thead th {\n",
              "        text-align: right;\n",
              "    }\n",
              "</style>\n",
              "<table border=\"1\" class=\"dataframe\">\n",
              "  <thead>\n",
              "    <tr style=\"text-align: right;\">\n",
              "      <th></th>\n",
              "      <th>timestamp</th>\n",
              "      <th>error</th>\n",
              "      <th>raw</th>\n",
              "      <th>filtered</th>\n",
              "      <th>rssi</th>\n",
              "    </tr>\n",
              "  </thead>\n",
              "  <tbody>\n",
              "    <tr>\n",
              "      <th>timestamp</th>\n",
              "      <td>1.000000</td>\n",
              "      <td>0.023544</td>\n",
              "      <td>0.345609</td>\n",
              "      <td>0.636034</td>\n",
              "      <td>-0.004962</td>\n",
              "    </tr>\n",
              "    <tr>\n",
              "      <th>error</th>\n",
              "      <td>0.023544</td>\n",
              "      <td>1.000000</td>\n",
              "      <td>-0.778867</td>\n",
              "      <td>0.112657</td>\n",
              "      <td>0.972710</td>\n",
              "    </tr>\n",
              "    <tr>\n",
              "      <th>raw</th>\n",
              "      <td>0.345609</td>\n",
              "      <td>-0.778867</td>\n",
              "      <td>1.000000</td>\n",
              "      <td>0.493565</td>\n",
              "      <td>-0.773787</td>\n",
              "    </tr>\n",
              "    <tr>\n",
              "      <th>filtered</th>\n",
              "      <td>0.636034</td>\n",
              "      <td>0.112657</td>\n",
              "      <td>0.493565</td>\n",
              "      <td>1.000000</td>\n",
              "      <td>0.139451</td>\n",
              "    </tr>\n",
              "    <tr>\n",
              "      <th>rssi</th>\n",
              "      <td>-0.004962</td>\n",
              "      <td>0.972710</td>\n",
              "      <td>-0.773787</td>\n",
              "      <td>0.139451</td>\n",
              "      <td>1.000000</td>\n",
              "    </tr>\n",
              "  </tbody>\n",
              "</table>\n",
              "</div>\n",
              "      <button class=\"colab-df-convert\" onclick=\"convertToInteractive('df-4705294d-0278-4c38-b4f4-aa4ae162112e')\"\n",
              "              title=\"Convert this dataframe to an interactive table.\"\n",
              "              style=\"display:none;\">\n",
              "        \n",
              "  <svg xmlns=\"http://www.w3.org/2000/svg\" height=\"24px\"viewBox=\"0 0 24 24\"\n",
              "       width=\"24px\">\n",
              "    <path d=\"M0 0h24v24H0V0z\" fill=\"none\"/>\n",
              "    <path d=\"M18.56 5.44l.94 2.06.94-2.06 2.06-.94-2.06-.94-.94-2.06-.94 2.06-2.06.94zm-11 1L8.5 8.5l.94-2.06 2.06-.94-2.06-.94L8.5 2.5l-.94 2.06-2.06.94zm10 10l.94 2.06.94-2.06 2.06-.94-2.06-.94-.94-2.06-.94 2.06-2.06.94z\"/><path d=\"M17.41 7.96l-1.37-1.37c-.4-.4-.92-.59-1.43-.59-.52 0-1.04.2-1.43.59L10.3 9.45l-7.72 7.72c-.78.78-.78 2.05 0 2.83L4 21.41c.39.39.9.59 1.41.59.51 0 1.02-.2 1.41-.59l7.78-7.78 2.81-2.81c.8-.78.8-2.07 0-2.86zM5.41 20L4 18.59l7.72-7.72 1.47 1.35L5.41 20z\"/>\n",
              "  </svg>\n",
              "      </button>\n",
              "      \n",
              "  <style>\n",
              "    .colab-df-container {\n",
              "      display:flex;\n",
              "      flex-wrap:wrap;\n",
              "      gap: 12px;\n",
              "    }\n",
              "\n",
              "    .colab-df-convert {\n",
              "      background-color: #E8F0FE;\n",
              "      border: none;\n",
              "      border-radius: 50%;\n",
              "      cursor: pointer;\n",
              "      display: none;\n",
              "      fill: #1967D2;\n",
              "      height: 32px;\n",
              "      padding: 0 0 0 0;\n",
              "      width: 32px;\n",
              "    }\n",
              "\n",
              "    .colab-df-convert:hover {\n",
              "      background-color: #E2EBFA;\n",
              "      box-shadow: 0px 1px 2px rgba(60, 64, 67, 0.3), 0px 1px 3px 1px rgba(60, 64, 67, 0.15);\n",
              "      fill: #174EA6;\n",
              "    }\n",
              "\n",
              "    [theme=dark] .colab-df-convert {\n",
              "      background-color: #3B4455;\n",
              "      fill: #D2E3FC;\n",
              "    }\n",
              "\n",
              "    [theme=dark] .colab-df-convert:hover {\n",
              "      background-color: #434B5C;\n",
              "      box-shadow: 0px 1px 3px 1px rgba(0, 0, 0, 0.15);\n",
              "      filter: drop-shadow(0px 1px 2px rgba(0, 0, 0, 0.3));\n",
              "      fill: #FFFFFF;\n",
              "    }\n",
              "  </style>\n",
              "\n",
              "      <script>\n",
              "        const buttonEl =\n",
              "          document.querySelector('#df-4705294d-0278-4c38-b4f4-aa4ae162112e button.colab-df-convert');\n",
              "        buttonEl.style.display =\n",
              "          google.colab.kernel.accessAllowed ? 'block' : 'none';\n",
              "\n",
              "        async function convertToInteractive(key) {\n",
              "          const element = document.querySelector('#df-4705294d-0278-4c38-b4f4-aa4ae162112e');\n",
              "          const dataTable =\n",
              "            await google.colab.kernel.invokeFunction('convertToInteractive',\n",
              "                                                     [key], {});\n",
              "          if (!dataTable) return;\n",
              "\n",
              "          const docLinkHtml = 'Like what you see? Visit the ' +\n",
              "            '<a target=\"_blank\" href=https://colab.research.google.com/notebooks/data_table.ipynb>data table notebook</a>'\n",
              "            + ' to learn more about interactive tables.';\n",
              "          element.innerHTML = '';\n",
              "          dataTable['output_type'] = 'display_data';\n",
              "          await google.colab.output.renderOutput(dataTable, element);\n",
              "          const docLink = document.createElement('div');\n",
              "          docLink.innerHTML = docLinkHtml;\n",
              "          element.appendChild(docLink);\n",
              "        }\n",
              "      </script>\n",
              "    </div>\n",
              "  </div>\n",
              "  "
            ],
            "text/plain": [
              "           timestamp     error       raw  filtered      rssi\n",
              "timestamp   1.000000  0.023544  0.345609  0.636034 -0.004962\n",
              "error       0.023544  1.000000 -0.778867  0.112657  0.972710\n",
              "raw         0.345609 -0.778867  1.000000  0.493565 -0.773787\n",
              "filtered    0.636034  0.112657  0.493565  1.000000  0.139451\n",
              "rssi       -0.004962  0.972710 -0.773787  0.139451  1.000000"
            ]
          },
          "metadata": {},
          "execution_count": 11
        }
      ]
    },
    {
      "cell_type": "code",
      "source": [
        "gdf = df.groupby(df['node'])"
      ],
      "metadata": {
        "id": "inM8TvwEmDyA"
      },
      "execution_count": null,
      "outputs": []
    },
    {
      "cell_type": "code",
      "source": [
        "gdf.head()"
      ],
      "metadata": {
        "colab": {
          "base_uri": "https://localhost:8080/",
          "height": 206
        },
        "id": "qHmfzbuZmOVk",
        "outputId": "41126ded-7576-482d-e690-7a021b27763a"
      },
      "execution_count": null,
      "outputs": [
        {
          "output_type": "execute_result",
          "data": {
            "text/html": [
              "\n",
              "  <div id=\"df-fc636173-ee2e-465a-b8c7-fe27ed177e72\">\n",
              "    <div class=\"colab-df-container\">\n",
              "      <div>\n",
              "<style scoped>\n",
              "    .dataframe tbody tr th:only-of-type {\n",
              "        vertical-align: middle;\n",
              "    }\n",
              "\n",
              "    .dataframe tbody tr th {\n",
              "        vertical-align: top;\n",
              "    }\n",
              "\n",
              "    .dataframe thead th {\n",
              "        text-align: right;\n",
              "    }\n",
              "</style>\n",
              "<table border=\"1\" class=\"dataframe\">\n",
              "  <thead>\n",
              "    <tr style=\"text-align: right;\">\n",
              "      <th></th>\n",
              "      <th>no</th>\n",
              "      <th>timestamp</th>\n",
              "      <th>node</th>\n",
              "      <th>error</th>\n",
              "      <th>raw</th>\n",
              "      <th>filtered</th>\n",
              "      <th>rssi</th>\n",
              "    </tr>\n",
              "  </thead>\n",
              "  <tbody>\n",
              "    <tr>\n",
              "      <th>0</th>\n",
              "      <td>1</td>\n",
              "      <td>26806</td>\n",
              "      <td>00000000a3c3</td>\n",
              "      <td>2</td>\n",
              "      <td>0.00</td>\n",
              "      <td>NaN</td>\n",
              "      <td>127</td>\n",
              "    </tr>\n",
              "    <tr>\n",
              "      <th>1</th>\n",
              "      <td>2</td>\n",
              "      <td>27318</td>\n",
              "      <td>00000000a3c3</td>\n",
              "      <td>0</td>\n",
              "      <td>23.16</td>\n",
              "      <td>23.1600</td>\n",
              "      <td>-75</td>\n",
              "    </tr>\n",
              "    <tr>\n",
              "      <th>2</th>\n",
              "      <td>3</td>\n",
              "      <td>27813</td>\n",
              "      <td>00000000a3c3</td>\n",
              "      <td>0</td>\n",
              "      <td>21.36</td>\n",
              "      <td>21.7078</td>\n",
              "      <td>-75</td>\n",
              "    </tr>\n",
              "    <tr>\n",
              "      <th>3</th>\n",
              "      <td>4</td>\n",
              "      <td>28309</td>\n",
              "      <td>00000000a3c3</td>\n",
              "      <td>2</td>\n",
              "      <td>0.00</td>\n",
              "      <td>21.7078</td>\n",
              "      <td>127</td>\n",
              "    </tr>\n",
              "    <tr>\n",
              "      <th>4</th>\n",
              "      <td>5</td>\n",
              "      <td>28821</td>\n",
              "      <td>00000000a3c3</td>\n",
              "      <td>0</td>\n",
              "      <td>21.63</td>\n",
              "      <td>20.8940</td>\n",
              "      <td>-77</td>\n",
              "    </tr>\n",
              "  </tbody>\n",
              "</table>\n",
              "</div>\n",
              "      <button class=\"colab-df-convert\" onclick=\"convertToInteractive('df-fc636173-ee2e-465a-b8c7-fe27ed177e72')\"\n",
              "              title=\"Convert this dataframe to an interactive table.\"\n",
              "              style=\"display:none;\">\n",
              "        \n",
              "  <svg xmlns=\"http://www.w3.org/2000/svg\" height=\"24px\"viewBox=\"0 0 24 24\"\n",
              "       width=\"24px\">\n",
              "    <path d=\"M0 0h24v24H0V0z\" fill=\"none\"/>\n",
              "    <path d=\"M18.56 5.44l.94 2.06.94-2.06 2.06-.94-2.06-.94-.94-2.06-.94 2.06-2.06.94zm-11 1L8.5 8.5l.94-2.06 2.06-.94-2.06-.94L8.5 2.5l-.94 2.06-2.06.94zm10 10l.94 2.06.94-2.06 2.06-.94-2.06-.94-.94-2.06-.94 2.06-2.06.94z\"/><path d=\"M17.41 7.96l-1.37-1.37c-.4-.4-.92-.59-1.43-.59-.52 0-1.04.2-1.43.59L10.3 9.45l-7.72 7.72c-.78.78-.78 2.05 0 2.83L4 21.41c.39.39.9.59 1.41.59.51 0 1.02-.2 1.41-.59l7.78-7.78 2.81-2.81c.8-.78.8-2.07 0-2.86zM5.41 20L4 18.59l7.72-7.72 1.47 1.35L5.41 20z\"/>\n",
              "  </svg>\n",
              "      </button>\n",
              "      \n",
              "  <style>\n",
              "    .colab-df-container {\n",
              "      display:flex;\n",
              "      flex-wrap:wrap;\n",
              "      gap: 12px;\n",
              "    }\n",
              "\n",
              "    .colab-df-convert {\n",
              "      background-color: #E8F0FE;\n",
              "      border: none;\n",
              "      border-radius: 50%;\n",
              "      cursor: pointer;\n",
              "      display: none;\n",
              "      fill: #1967D2;\n",
              "      height: 32px;\n",
              "      padding: 0 0 0 0;\n",
              "      width: 32px;\n",
              "    }\n",
              "\n",
              "    .colab-df-convert:hover {\n",
              "      background-color: #E2EBFA;\n",
              "      box-shadow: 0px 1px 2px rgba(60, 64, 67, 0.3), 0px 1px 3px 1px rgba(60, 64, 67, 0.15);\n",
              "      fill: #174EA6;\n",
              "    }\n",
              "\n",
              "    [theme=dark] .colab-df-convert {\n",
              "      background-color: #3B4455;\n",
              "      fill: #D2E3FC;\n",
              "    }\n",
              "\n",
              "    [theme=dark] .colab-df-convert:hover {\n",
              "      background-color: #434B5C;\n",
              "      box-shadow: 0px 1px 3px 1px rgba(0, 0, 0, 0.15);\n",
              "      filter: drop-shadow(0px 1px 2px rgba(0, 0, 0, 0.3));\n",
              "      fill: #FFFFFF;\n",
              "    }\n",
              "  </style>\n",
              "\n",
              "      <script>\n",
              "        const buttonEl =\n",
              "          document.querySelector('#df-fc636173-ee2e-465a-b8c7-fe27ed177e72 button.colab-df-convert');\n",
              "        buttonEl.style.display =\n",
              "          google.colab.kernel.accessAllowed ? 'block' : 'none';\n",
              "\n",
              "        async function convertToInteractive(key) {\n",
              "          const element = document.querySelector('#df-fc636173-ee2e-465a-b8c7-fe27ed177e72');\n",
              "          const dataTable =\n",
              "            await google.colab.kernel.invokeFunction('convertToInteractive',\n",
              "                                                     [key], {});\n",
              "          if (!dataTable) return;\n",
              "\n",
              "          const docLinkHtml = 'Like what you see? Visit the ' +\n",
              "            '<a target=\"_blank\" href=https://colab.research.google.com/notebooks/data_table.ipynb>data table notebook</a>'\n",
              "            + ' to learn more about interactive tables.';\n",
              "          element.innerHTML = '';\n",
              "          dataTable['output_type'] = 'display_data';\n",
              "          await google.colab.output.renderOutput(dataTable, element);\n",
              "          const docLink = document.createElement('div');\n",
              "          docLink.innerHTML = docLinkHtml;\n",
              "          element.appendChild(docLink);\n",
              "        }\n",
              "      </script>\n",
              "    </div>\n",
              "  </div>\n",
              "  "
            ],
            "text/plain": [
              "   no  timestamp          node  error    raw  filtered  rssi\n",
              "0   1      26806  00000000a3c3      2   0.00       NaN   127\n",
              "1   2      27318  00000000a3c3      0  23.16   23.1600   -75\n",
              "2   3      27813  00000000a3c3      0  21.36   21.7078   -75\n",
              "3   4      28309  00000000a3c3      2   0.00   21.7078   127\n",
              "4   5      28821  00000000a3c3      0  21.63   20.8940   -77"
            ]
          },
          "metadata": {},
          "execution_count": 18
        }
      ]
    },
    {
      "cell_type": "markdown",
      "source": [
        "* create moving-averages"
      ],
      "metadata": {
        "id": "RylUKZScrRaR"
      }
    },
    {
      "cell_type": "code",
      "source": [
        "df['MA10'] = df['raw'].rolling(10).mean()\n",
        "df['MA48'] = df['raw'].rolling(48).mean()\n",
        "df['MA336'] = df['raw'].rolling(336).mean()\n"
      ],
      "metadata": {
        "id": "uEMSXjPjqQrD"
      },
      "execution_count": null,
      "outputs": []
    },
    {
      "cell_type": "code",
      "source": [
        "df.size"
      ],
      "metadata": {
        "colab": {
          "base_uri": "https://localhost:8080/"
        },
        "id": "g57tsUKOr7bK",
        "outputId": "26cfebae-7922-4e55-e15f-e5039f0195b1"
      },
      "execution_count": null,
      "outputs": [
        {
          "output_type": "execute_result",
          "data": {
            "text/plain": [
              "3520"
            ]
          },
          "metadata": {},
          "execution_count": 20
        }
      ]
    },
    {
      "cell_type": "code",
      "source": [
        "x = np.arange(df.shape[0])\n",
        "plt.plot(x, df['raw'], color =\"b\")\n",
        "plt.plot(x, df['MA10'], color =\"r\")\n",
        "plt.xlabel(\"filtered\")\n",
        "plt.ylabel(\"raw\")\n",
        "plt.show()\n",
        " \n",
        " "
      ],
      "metadata": {
        "colab": {
          "base_uri": "https://localhost:8080/",
          "height": 279
        },
        "id": "JwmGY0sWraLW",
        "outputId": "906d660e-f65e-40c1-f4f9-aee1191def5e"
      },
      "execution_count": null,
      "outputs": [
        {
          "output_type": "display_data",
          "data": {
            "image/png": "[encoded data removed]",
            "text/plain": [
              "<Figure size 432x288 with 1 Axes>"
            ]
          },
          "metadata": {
            "needs_background": "light"
          }
        }
      ]
    },
    {
      "cell_type": "markdown",
      "source": [
        "* MA10 은 MA48과 상관관계를 가짐\n",
        "* RSSI 와 ERROR 는 양의 상관관계를 가짐"
      ],
      "metadata": {
        "id": "hrldCXe_CQ0u"
      }
    },
    {
      "cell_type": "code",
      "source": [
        "df.corr()"
      ],
      "metadata": {
        "id": "yVmB6F5KtLWC",
        "outputId": "d59b8e68-7d30-4116-a795-56f2a70571c6",
        "colab": {
          "base_uri": "https://localhost:8080/",
          "height": 332
        }
      },
      "execution_count": null,
      "outputs": [
        {
          "output_type": "execute_result",
          "data": {
            "text/html": [
              "\n",
              "  <div id=\"df-5ec8923b-4a90-4f89-85c0-884868892667\">\n",
              "    <div class=\"colab-df-container\">\n",
              "      <div>\n",
              "<style scoped>\n",
              "    .dataframe tbody tr th:only-of-type {\n",
              "        vertical-align: middle;\n",
              "    }\n",
              "\n",
              "    .dataframe tbody tr th {\n",
              "        vertical-align: top;\n",
              "    }\n",
              "\n",
              "    .dataframe thead th {\n",
              "        text-align: right;\n",
              "    }\n",
              "</style>\n",
              "<table border=\"1\" class=\"dataframe\">\n",
              "  <thead>\n",
              "    <tr style=\"text-align: right;\">\n",
              "      <th></th>\n",
              "      <th>no</th>\n",
              "      <th>timestamp</th>\n",
              "      <th>error</th>\n",
              "      <th>raw</th>\n",
              "      <th>filtered</th>\n",
              "      <th>rssi</th>\n",
              "      <th>MA10</th>\n",
              "      <th>MA48</th>\n",
              "      <th>MA336</th>\n",
              "    </tr>\n",
              "  </thead>\n",
              "  <tbody>\n",
              "    <tr>\n",
              "      <th>no</th>\n",
              "      <td>1.000000</td>\n",
              "      <td>0.242197</td>\n",
              "      <td>-0.054538</td>\n",
              "      <td>0.085480</td>\n",
              "      <td>0.065471</td>\n",
              "      <td>-0.061273</td>\n",
              "      <td>0.116951</td>\n",
              "      <td>0.068434</td>\n",
              "      <td>0.935971</td>\n",
              "    </tr>\n",
              "    <tr>\n",
              "      <th>timestamp</th>\n",
              "      <td>0.242197</td>\n",
              "      <td>1.000000</td>\n",
              "      <td>0.023544</td>\n",
              "      <td>0.345609</td>\n",
              "      <td>0.636034</td>\n",
              "      <td>-0.004962</td>\n",
              "      <td>0.528521</td>\n",
              "      <td>0.335697</td>\n",
              "      <td>0.936366</td>\n",
              "    </tr>\n",
              "    <tr>\n",
              "      <th>error</th>\n",
              "      <td>-0.054538</td>\n",
              "      <td>0.023544</td>\n",
              "      <td>1.000000</td>\n",
              "      <td>-0.778867</td>\n",
              "      <td>0.112657</td>\n",
              "      <td>0.972710</td>\n",
              "      <td>-0.058228</td>\n",
              "      <td>0.044769</td>\n",
              "      <td>-0.103392</td>\n",
              "    </tr>\n",
              "    <tr>\n",
              "      <th>raw</th>\n",
              "      <td>0.085480</td>\n",
              "      <td>0.345609</td>\n",
              "      <td>-0.778867</td>\n",
              "      <td>1.000000</td>\n",
              "      <td>0.493565</td>\n",
              "      <td>-0.773787</td>\n",
              "      <td>0.544125</td>\n",
              "      <td>0.396359</td>\n",
              "      <td>-0.025545</td>\n",
              "    </tr>\n",
              "    <tr>\n",
              "      <th>filtered</th>\n",
              "      <td>0.065471</td>\n",
              "      <td>0.636034</td>\n",
              "      <td>0.112657</td>\n",
              "      <td>0.493565</td>\n",
              "      <td>1.000000</td>\n",
              "      <td>0.139451</td>\n",
              "      <td>0.823196</td>\n",
              "      <td>0.790226</td>\n",
              "      <td>0.228181</td>\n",
              "    </tr>\n",
              "    <tr>\n",
              "      <th>rssi</th>\n",
              "      <td>-0.061273</td>\n",
              "      <td>-0.004962</td>\n",
              "      <td>0.972710</td>\n",
              "      <td>-0.773787</td>\n",
              "      <td>0.139451</td>\n",
              "      <td>1.000000</td>\n",
              "      <td>-0.032209</td>\n",
              "      <td>0.068138</td>\n",
              "      <td>0.021907</td>\n",
              "    </tr>\n",
              "    <tr>\n",
              "      <th>MA10</th>\n",
              "      <td>0.116951</td>\n",
              "      <td>0.528521</td>\n",
              "      <td>-0.058228</td>\n",
              "      <td>0.544125</td>\n",
              "      <td>0.823196</td>\n",
              "      <td>-0.032209</td>\n",
              "      <td>1.000000</td>\n",
              "      <td>0.823801</td>\n",
              "      <td>0.589783</td>\n",
              "    </tr>\n",
              "    <tr>\n",
              "      <th>MA48</th>\n",
              "      <td>0.068434</td>\n",
              "      <td>0.335697</td>\n",
              "      <td>0.044769</td>\n",
              "      <td>0.396359</td>\n",
              "      <td>0.790226</td>\n",
              "      <td>0.068138</td>\n",
              "      <td>0.823801</td>\n",
              "      <td>1.000000</td>\n",
              "      <td>0.466612</td>\n",
              "    </tr>\n",
              "    <tr>\n",
              "      <th>MA336</th>\n",
              "      <td>0.935971</td>\n",
              "      <td>0.936366</td>\n",
              "      <td>-0.103392</td>\n",
              "      <td>-0.025545</td>\n",
              "      <td>0.228181</td>\n",
              "      <td>0.021907</td>\n",
              "      <td>0.589783</td>\n",
              "      <td>0.466612</td>\n",
              "      <td>1.000000</td>\n",
              "    </tr>\n",
              "  </tbody>\n",
              "</table>\n",
              "</div>\n",
              "      <button class=\"colab-df-convert\" onclick=\"convertToInteractive('df-5ec8923b-4a90-4f89-85c0-884868892667')\"\n",
              "              title=\"Convert this dataframe to an interactive table.\"\n",
              "              style=\"display:none;\">\n",
              "        \n",
              "  <svg xmlns=\"http://www.w3.org/2000/svg\" height=\"24px\"viewBox=\"0 0 24 24\"\n",
              "       width=\"24px\">\n",
              "    <path d=\"M0 0h24v24H0V0z\" fill=\"none\"/>\n",
              "    <path d=\"M18.56 5.44l.94 2.06.94-2.06 2.06-.94-2.06-.94-.94-2.06-.94 2.06-2.06.94zm-11 1L8.5 8.5l.94-2.06 2.06-.94-2.06-.94L8.5 2.5l-.94 2.06-2.06.94zm10 10l.94 2.06.94-2.06 2.06-.94-2.06-.94-.94-2.06-.94 2.06-2.06.94z\"/><path d=\"M17.41 7.96l-1.37-1.37c-.4-.4-.92-.59-1.43-.59-.52 0-1.04.2-1.43.59L10.3 9.45l-7.72 7.72c-.78.78-.78 2.05 0 2.83L4 21.41c.39.39.9.59 1.41.59.51 0 1.02-.2 1.41-.59l7.78-7.78 2.81-2.81c.8-.78.8-2.07 0-2.86zM5.41 20L4 18.59l7.72-7.72 1.47 1.35L5.41 20z\"/>\n",
              "  </svg>\n",
              "      </button>\n",
              "      \n",
              "  <style>\n",
              "    .colab-df-container {\n",
              "      display:flex;\n",
              "      flex-wrap:wrap;\n",
              "      gap: 12px;\n",
              "    }\n",
              "\n",
              "    .colab-df-convert {\n",
              "      background-color: #E8F0FE;\n",
              "      border: none;\n",
              "      border-radius: 50%;\n",
              "      cursor: pointer;\n",
              "      display: none;\n",
              "      fill: #1967D2;\n",
              "      height: 32px;\n",
              "      padding: 0 0 0 0;\n",
              "      width: 32px;\n",
              "    }\n",
              "\n",
              "    .colab-df-convert:hover {\n",
              "      background-color: #E2EBFA;\n",
              "      box-shadow: 0px 1px 2px rgba(60, 64, 67, 0.3), 0px 1px 3px 1px rgba(60, 64, 67, 0.15);\n",
              "      fill: #174EA6;\n",
              "    }\n",
              "\n",
              "    [theme=dark] .colab-df-convert {\n",
              "      background-color: #3B4455;\n",
              "      fill: #D2E3FC;\n",
              "    }\n",
              "\n",
              "    [theme=dark] .colab-df-convert:hover {\n",
              "      background-color: #434B5C;\n",
              "      box-shadow: 0px 1px 3px 1px rgba(0, 0, 0, 0.15);\n",
              "      filter: drop-shadow(0px 1px 2px rgba(0, 0, 0, 0.3));\n",
              "      fill: #FFFFFF;\n",
              "    }\n",
              "  </style>\n",
              "\n",
              "      <script>\n",
              "        const buttonEl =\n",
              "          document.querySelector('#df-5ec8923b-4a90-4f89-85c0-884868892667 button.colab-df-convert');\n",
              "        buttonEl.style.display =\n",
              "          google.colab.kernel.accessAllowed ? 'block' : 'none';\n",
              "\n",
              "        async function convertToInteractive(key) {\n",
              "          const element = document.querySelector('#df-5ec8923b-4a90-4f89-85c0-884868892667');\n",
              "          const dataTable =\n",
              "            await google.colab.kernel.invokeFunction('convertToInteractive',\n",
              "                                                     [key], {});\n",
              "          if (!dataTable) return;\n",
              "\n",
              "          const docLinkHtml = 'Like what you see? Visit the ' +\n",
              "            '<a target=\"_blank\" href=https://colab.research.google.com/notebooks/data_table.ipynb>data table notebook</a>'\n",
              "            + ' to learn more about interactive tables.';\n",
              "          element.innerHTML = '';\n",
              "          dataTable['output_type'] = 'display_data';\n",
              "          await google.colab.output.renderOutput(dataTable, element);\n",
              "          const docLink = document.createElement('div');\n",
              "          docLink.innerHTML = docLinkHtml;\n",
              "          element.appendChild(docLink);\n",
              "        }\n",
              "      </script>\n",
              "    </div>\n",
              "  </div>\n",
              "  "
            ],
            "text/plain": [
              "                 no  timestamp     error  ...      MA10      MA48     MA336\n",
              "no         1.000000   0.242197 -0.054538  ...  0.116951  0.068434  0.935971\n",
              "timestamp  0.242197   1.000000  0.023544  ...  0.528521  0.335697  0.936366\n",
              "error     -0.054538   0.023544  1.000000  ... -0.058228  0.044769 -0.103392\n",
              "raw        0.085480   0.345609 -0.778867  ...  0.544125  0.396359 -0.025545\n",
              "filtered   0.065471   0.636034  0.112657  ...  0.823196  0.790226  0.228181\n",
              "rssi      -0.061273  -0.004962  0.972710  ... -0.032209  0.068138  0.021907\n",
              "MA10       0.116951   0.528521 -0.058228  ...  1.000000  0.823801  0.589783\n",
              "MA48       0.068434   0.335697  0.044769  ...  0.823801  1.000000  0.466612\n",
              "MA336      0.935971   0.936366 -0.103392  ...  0.589783  0.466612  1.000000\n",
              "\n",
              "[9 rows x 9 columns]"
            ]
          },
          "metadata": {},
          "execution_count": 22
        }
      ]
    },
    {
      "cell_type": "code",
      "source": [
        "df.tail()"
      ],
      "metadata": {
        "colab": {
          "base_uri": "https://localhost:8080/",
          "height": 206
        },
        "id": "fyjQ9USUrH3L",
        "outputId": "501e0aec-0e02-430a-a5cc-cbb0deb93e21"
      },
      "execution_count": null,
      "outputs": [
        {
          "output_type": "execute_result",
          "data": {
            "text/html": [
              "\n",
              "  <div id=\"df-f0b75753-a5a0-4f6a-92fa-8f36148990be\">\n",
              "    <div class=\"colab-df-container\">\n",
              "      <div>\n",
              "<style scoped>\n",
              "    .dataframe tbody tr th:only-of-type {\n",
              "        vertical-align: middle;\n",
              "    }\n",
              "\n",
              "    .dataframe tbody tr th {\n",
              "        vertical-align: top;\n",
              "    }\n",
              "\n",
              "    .dataframe thead th {\n",
              "        text-align: right;\n",
              "    }\n",
              "</style>\n",
              "<table border=\"1\" class=\"dataframe\">\n",
              "  <thead>\n",
              "    <tr style=\"text-align: right;\">\n",
              "      <th></th>\n",
              "      <th>no</th>\n",
              "      <th>timestamp</th>\n",
              "      <th>node</th>\n",
              "      <th>error</th>\n",
              "      <th>raw</th>\n",
              "      <th>filtered</th>\n",
              "      <th>rssi</th>\n",
              "      <th>MA10</th>\n",
              "      <th>MA48</th>\n",
              "      <th>MA336</th>\n",
              "    </tr>\n",
              "  </thead>\n",
              "  <tbody>\n",
              "    <tr>\n",
              "      <th>347</th>\n",
              "      <td>104</td>\n",
              "      <td>70285</td>\n",
              "      <td>00000000a3c3</td>\n",
              "      <td>0</td>\n",
              "      <td>32.83</td>\n",
              "      <td>35.4067</td>\n",
              "      <td>-61</td>\n",
              "      <td>32.982</td>\n",
              "      <td>30.034792</td>\n",
              "      <td>27.996935</td>\n",
              "    </tr>\n",
              "    <tr>\n",
              "      <th>348</th>\n",
              "      <td>105</td>\n",
              "      <td>70797</td>\n",
              "      <td>00000000a3c3</td>\n",
              "      <td>0</td>\n",
              "      <td>33.10</td>\n",
              "      <td>34.6373</td>\n",
              "      <td>-61</td>\n",
              "      <td>32.913</td>\n",
              "      <td>30.724375</td>\n",
              "      <td>28.037500</td>\n",
              "    </tr>\n",
              "    <tr>\n",
              "      <th>349</th>\n",
              "      <td>106</td>\n",
              "      <td>71324</td>\n",
              "      <td>00000000a3c3</td>\n",
              "      <td>0</td>\n",
              "      <td>32.99</td>\n",
              "      <td>34.0225</td>\n",
              "      <td>-61</td>\n",
              "      <td>32.502</td>\n",
              "      <td>30.662917</td>\n",
              "      <td>28.077649</td>\n",
              "    </tr>\n",
              "    <tr>\n",
              "      <th>350</th>\n",
              "      <td>107</td>\n",
              "      <td>71820</td>\n",
              "      <td>00000000a3c3</td>\n",
              "      <td>2</td>\n",
              "      <td>0.00</td>\n",
              "      <td>34.0225</td>\n",
              "      <td>127</td>\n",
              "      <td>28.574</td>\n",
              "      <td>29.958958</td>\n",
              "      <td>28.020238</td>\n",
              "    </tr>\n",
              "    <tr>\n",
              "      <th>351</th>\n",
              "      <td>108</td>\n",
              "      <td>72299</td>\n",
              "      <td>00000000a3c3</td>\n",
              "      <td>2</td>\n",
              "      <td>0.00</td>\n",
              "      <td>34.0225</td>\n",
              "      <td>127</td>\n",
              "      <td>24.457</td>\n",
              "      <td>29.243542</td>\n",
              "      <td>27.953661</td>\n",
              "    </tr>\n",
              "  </tbody>\n",
              "</table>\n",
              "</div>\n",
              "      <button class=\"colab-df-convert\" onclick=\"convertToInteractive('df-f0b75753-a5a0-4f6a-92fa-8f36148990be')\"\n",
              "              title=\"Convert this dataframe to an interactive table.\"\n",
              "              style=\"display:none;\">\n",
              "        \n",
              "  <svg xmlns=\"http://www.w3.org/2000/svg\" height=\"24px\"viewBox=\"0 0 24 24\"\n",
              "       width=\"24px\">\n",
              "    <path d=\"M0 0h24v24H0V0z\" fill=\"none\"/>\n",
              "    <path d=\"M18.56 5.44l.94 2.06.94-2.06 2.06-.94-2.06-.94-.94-2.06-.94 2.06-2.06.94zm-11 1L8.5 8.5l.94-2.06 2.06-.94-2.06-.94L8.5 2.5l-.94 2.06-2.06.94zm10 10l.94 2.06.94-2.06 2.06-.94-2.06-.94-.94-2.06-.94 2.06-2.06.94z\"/><path d=\"M17.41 7.96l-1.37-1.37c-.4-.4-.92-.59-1.43-.59-.52 0-1.04.2-1.43.59L10.3 9.45l-7.72 7.72c-.78.78-.78 2.05 0 2.83L4 21.41c.39.39.9.59 1.41.59.51 0 1.02-.2 1.41-.59l7.78-7.78 2.81-2.81c.8-.78.8-2.07 0-2.86zM5.41 20L4 18.59l7.72-7.72 1.47 1.35L5.41 20z\"/>\n",
              "  </svg>\n",
              "      </button>\n",
              "      \n",
              "  <style>\n",
              "    .colab-df-container {\n",
              "      display:flex;\n",
              "      flex-wrap:wrap;\n",
              "      gap: 12px;\n",
              "    }\n",
              "\n",
              "    .colab-df-convert {\n",
              "      background-color: #E8F0FE;\n",
              "      border: none;\n",
              "      border-radius: 50%;\n",
              "      cursor: pointer;\n",
              "      display: none;\n",
              "      fill: #1967D2;\n",
              "      height: 32px;\n",
              "      padding: 0 0 0 0;\n",
              "      width: 32px;\n",
              "    }\n",
              "\n",
              "    .colab-df-convert:hover {\n",
              "      background-color: #E2EBFA;\n",
              "      box-shadow: 0px 1px 2px rgba(60, 64, 67, 0.3), 0px 1px 3px 1px rgba(60, 64, 67, 0.15);\n",
              "      fill: #174EA6;\n",
              "    }\n",
              "\n",
              "    [theme=dark] .colab-df-convert {\n",
              "      background-color: #3B4455;\n",
              "      fill: #D2E3FC;\n",
              "    }\n",
              "\n",
              "    [theme=dark] .colab-df-convert:hover {\n",
              "      background-color: #434B5C;\n",
              "      box-shadow: 0px 1px 3px 1px rgba(0, 0, 0, 0.15);\n",
              "      filter: drop-shadow(0px 1px 2px rgba(0, 0, 0, 0.3));\n",
              "      fill: #FFFFFF;\n",
              "    }\n",
              "  </style>\n",
              "\n",
              "      <script>\n",
              "        const buttonEl =\n",
              "          document.querySelector('#df-f0b75753-a5a0-4f6a-92fa-8f36148990be button.colab-df-convert');\n",
              "        buttonEl.style.display =\n",
              "          google.colab.kernel.accessAllowed ? 'block' : 'none';\n",
              "\n",
              "        async function convertToInteractive(key) {\n",
              "          const element = document.querySelector('#df-f0b75753-a5a0-4f6a-92fa-8f36148990be');\n",
              "          const dataTable =\n",
              "            await google.colab.kernel.invokeFunction('convertToInteractive',\n",
              "                                                     [key], {});\n",
              "          if (!dataTable) return;\n",
              "\n",
              "          const docLinkHtml = 'Like what you see? Visit the ' +\n",
              "            '<a target=\"_blank\" href=https://colab.research.google.com/notebooks/data_table.ipynb>data table notebook</a>'\n",
              "            + ' to learn more about interactive tables.';\n",
              "          element.innerHTML = '';\n",
              "          dataTable['output_type'] = 'display_data';\n",
              "          await google.colab.output.renderOutput(dataTable, element);\n",
              "          const docLink = document.createElement('div');\n",
              "          docLink.innerHTML = docLinkHtml;\n",
              "          element.appendChild(docLink);\n",
              "        }\n",
              "      </script>\n",
              "    </div>\n",
              "  </div>\n",
              "  "
            ],
            "text/plain": [
              "      no  timestamp          node  error  ...  rssi    MA10       MA48      MA336\n",
              "347  104      70285  00000000a3c3      0  ...   -61  32.982  30.034792  27.996935\n",
              "348  105      70797  00000000a3c3      0  ...   -61  32.913  30.724375  28.037500\n",
              "349  106      71324  00000000a3c3      0  ...   -61  32.502  30.662917  28.077649\n",
              "350  107      71820  00000000a3c3      2  ...   127  28.574  29.958958  28.020238\n",
              "351  108      72299  00000000a3c3      2  ...   127  24.457  29.243542  27.953661\n",
              "\n",
              "[5 rows x 10 columns]"
            ]
          },
          "metadata": {},
          "execution_count": 23
        }
      ]
    },
    {
      "cell_type": "code",
      "source": [
        "df.isnull().sum()"
      ],
      "metadata": {
        "colab": {
          "base_uri": "https://localhost:8080/"
        },
        "id": "qwY9UuXo4Lfy",
        "outputId": "40076586-45a6-4a5b-aaa8-c7224400cca6"
      },
      "execution_count": null,
      "outputs": [
        {
          "output_type": "execute_result",
          "data": {
            "text/plain": [
              "no             0\n",
              "timestamp      0\n",
              "node           0\n",
              "error          0\n",
              "raw            0\n",
              "filtered       1\n",
              "rssi           0\n",
              "MA10           9\n",
              "MA48          47\n",
              "MA336        335\n",
              "dtype: int64"
            ]
          },
          "metadata": {},
          "execution_count": 24
        }
      ]
    },
    {
      "cell_type": "code",
      "source": [
        "df1 = df.fillna(0)"
      ],
      "metadata": {
        "id": "rpzqBUv84PEU"
      },
      "execution_count": null,
      "outputs": []
    },
    {
      "cell_type": "code",
      "source": [
        "df1.isnull().sum()"
      ],
      "metadata": {
        "colab": {
          "base_uri": "https://localhost:8080/"
        },
        "id": "tB32K_mI4qD0",
        "outputId": "56e88be2-6c6a-4f72-bde0-8523a59ff0c0"
      },
      "execution_count": null,
      "outputs": [
        {
          "output_type": "execute_result",
          "data": {
            "text/plain": [
              "no           0\n",
              "timestamp    0\n",
              "node         0\n",
              "error        0\n",
              "raw          0\n",
              "filtered     0\n",
              "rssi         0\n",
              "MA10         0\n",
              "MA48         0\n",
              "MA336        0\n",
              "dtype: int64"
            ]
          },
          "metadata": {},
          "execution_count": 26
        }
      ]
    },
    {
      "cell_type": "markdown",
      "source": [
        "The use of ultra-wideband (UWB) signals to locate objects in\n",
        "indoor complex multipath environments has the advantages\n",
        "of high positioning accuracy, strong anti-interference, and\n",
        "low power consumption. UWB signals are widely used in\n",
        "military, logistics, security, medical, search, rescue, and other\n",
        "applications [1]. \n",
        "\n",
        "\n",
        "* UWB 측위는 BLE 및 Wi-Fi의 RSSI 신호 세기(강도)에 의한 측위와는 달리 Time of Flight(ToF_신호 전달시간)에 의해 결정됨\n",
        "\n",
        "* TWR 방식은 UWB 앵커간의 정확한 시간 동기화가 필요없다는 아이디어에서 출발\n",
        "\n",
        "* 초광대역의 주파수 대역폭을 사용하기 때문에 매우 세밀한 거리측정이 가능함\n",
        "\n",
        "Currently, UWB positioning technology is\n",
        "mainly based on time-of-arrival (TOA) algorithms, such\n",
        "as the maximum likelihood estimation algorithm. \n"
      ],
      "metadata": {
        "id": "c-4D737YLEfL"
      }
    },
    {
      "cell_type": "markdown",
      "source": [
        "시계열 "
      ],
      "metadata": {
        "id": "DbuQmpy7cNJc"
      }
    },
    {
      "cell_type": "markdown",
      "metadata": {
        "id": "Dg6Vtq5YkH6o"
      },
      "source": [
        "* CSV 파일을 읽어 numpy 배열로 구성\n"
      ]
    },
    {
      "cell_type": "code",
      "source": [
        "from google.colab import  drive\n",
        "drive.mount('/content/data')"
      ],
      "metadata": {
        "colab": {
          "base_uri": "https://localhost:8080/"
        },
        "id": "FoJmI_uOLToq",
        "outputId": "6f9efd29-eb3c-450b-a208-dd64796098c9"
      },
      "execution_count": null,
      "outputs": [
        {
          "output_type": "stream",
          "name": "stdout",
          "text": [
            "Mounted at /content/data\n"
          ]
        }
      ]
    },
    {
      "cell_type": "code",
      "source": [
        "raw_file = \"/content/data/My Drive/Colab Notebooks/data/UWB-0722.csv\"\n",
        "#df = pd.read_csv(raw_file, index_col = \"no\")\n",
        "df1 = pd.read_csv(raw_file)"
      ],
      "metadata": {
        "id": "2UoHMKZCLKfq"
      },
      "execution_count": null,
      "outputs": []
    },
    {
      "cell_type": "code",
      "source": [
        "df1.info()"
      ],
      "metadata": {
        "id": "ymsSPMlUWpPz",
        "outputId": "3a61f887-8f6d-4bcc-c7b1-5666fe355403",
        "colab": {
          "base_uri": "https://localhost:8080/"
        }
      },
      "execution_count": null,
      "outputs": [
        {
          "output_type": "stream",
          "name": "stdout",
          "text": [
            "<class 'pandas.core.frame.DataFrame'>\n",
            "RangeIndex: 352 entries, 0 to 351\n",
            "Data columns (total 7 columns):\n",
            " #   Column     Non-Null Count  Dtype  \n",
            "---  ------     --------------  -----  \n",
            " 0   no         352 non-null    int64  \n",
            " 1   timestamp  352 non-null    int64  \n",
            " 2   node       352 non-null    object \n",
            " 3   error      352 non-null    int64  \n",
            " 4   raw        352 non-null    float64\n",
            " 5   filtered   351 non-null    float64\n",
            " 6   rssi       352 non-null    int64  \n",
            "dtypes: float64(2), int64(4), object(1)\n",
            "memory usage: 19.4+ KB\n"
          ]
        }
      ]
    },
    {
      "cell_type": "code",
      "metadata": {
        "id": "nPrcLynskp0C",
        "colab": {
          "base_uri": "https://localhost:8080/",
          "height": 279
        },
        "outputId": "8c51e431-0352-48dd-e5c0-f8b9755868da"
      },
      "source": [
        "plt.figure()\n",
        "plt.scatter(df1['rssi'], df1['filtered'], color=\"g\") # raw\n",
        "plt.scatter(df1['rssi'], df1['raw'], color =\"b\")\n",
        "plt.xlabel(\"rssi\")\n",
        "plt.ylabel(\"distance\")\n",
        "plt.show()"
      ],
      "execution_count": null,
      "outputs": [
        {
          "output_type": "display_data",
          "data": {
            "image/png": "[encoded data removed]",
            "text/plain": [
              "<Figure size 432x288 with 1 Axes>"
            ]
          },
          "metadata": {
            "needs_background": "light"
          }
        }
      ]
    },
    {
      "cell_type": "code",
      "source": [
        "plt.figure()\n",
        " \n",
        "plt.scatter(df1['filtered'], df1['raw'], color =\"b\")\n",
        "plt.xlabel(\"filtered\")\n",
        "plt.ylabel(\"raw\")\n",
        "plt.show()"
      ],
      "metadata": {
        "colab": {
          "base_uri": "https://localhost:8080/",
          "height": 279
        },
        "id": "cb41Z3zyi3eE",
        "outputId": "0bb9f884-b9fd-4a2e-ed90-6f545d8238f9"
      },
      "execution_count": null,
      "outputs": [
        {
          "output_type": "display_data",
          "data": {
            "image/png": "[encoded data removed]",
            "text/plain": [
              "<Figure size 432x288 with 1 Axes>"
            ]
          },
          "metadata": {
            "needs_background": "light"
          }
        }
      ]
    },
    {
      "cell_type": "code",
      "source": [
        " df1['raw'].corr(df1['filtered'])\n",
        " "
      ],
      "metadata": {
        "colab": {
          "base_uri": "https://localhost:8080/"
        },
        "id": "-u_pJXLpg11r",
        "outputId": "ae38086e-560d-4a44-f8a1-7400ce8a815b"
      },
      "execution_count": null,
      "outputs": [
        {
          "output_type": "execute_result",
          "data": {
            "text/plain": [
              "0.49356532731284064"
            ]
          },
          "metadata": {},
          "execution_count": 13
        }
      ]
    },
    {
      "cell_type": "markdown",
      "source": [
        "$Z-Value$"
      ],
      "metadata": {
        "id": "-uc1mxyGUsdm"
      }
    },
    {
      "cell_type": "code",
      "metadata": {
        "id": "RAsn8NjVji_3",
        "colab": {
          "base_uri": "https://localhost:8080/"
        },
        "outputId": "5fbfa5a2-3b07-4c3f-bd68-9d3a83dec0cf"
      },
      "source": [
        "X = df1['raw']\n",
        "Z = (X - X.mean(axis=0)) / X.std(axis=0)\n",
        "Z\n"
      ],
      "execution_count": null,
      "outputs": [
        {
          "output_type": "execute_result",
          "data": {
            "text/plain": [
              "1     -1.000224\n",
              "2     -1.233677\n",
              "4     -1.198659\n",
              "5     -1.116951\n",
              "6     -1.223302\n",
              "         ...   \n",
              "345    0.151480\n",
              "346    0.208547\n",
              "347    0.253941\n",
              "348    0.288959\n",
              "349    0.274692\n",
              "Name: raw, Length: 314, dtype: float64"
            ]
          },
          "metadata": {},
          "execution_count": 75
        }
      ]
    },
    {
      "cell_type": "markdown",
      "metadata": {
        "id": "rvLKB6F7mQwF"
      },
      "source": [
        "filter는 iterable 자료에서 True 값만 남기고 False 값을 제거함 "
      ]
    },
    {
      "cell_type": "code",
      "metadata": {
        "colab": {
          "base_uri": "https://localhost:8080/"
        },
        "id": "A8BCR4SSkJw3",
        "outputId": "3ac9d16e-ff31-4adc-bcbb-07f4c19030ee"
      },
      "source": [
        "TH = 1.5\n",
        "anomaly_detection = lambda x : abs(x) > TH\n",
        "\n",
        "print (f\"Z-value {Z}\")\n",
        "A = list(filter (anomaly_detection,Z))\n",
        "print (f\"Anomaly {A}\")\n",
        "print (f\"Anomaly rate = {len(A)/len(X)}\")"
      ],
      "execution_count": null,
      "outputs": [
        {
          "output_type": "stream",
          "name": "stdout",
          "text": [
            "Z-value 1     -1.000224\n",
            "2     -1.233677\n",
            "4     -1.198659\n",
            "5     -1.116951\n",
            "6     -1.223302\n",
            "         ...   \n",
            "345    0.151480\n",
            "346    0.208547\n",
            "347    0.253941\n",
            "348    0.288959\n",
            "349    0.274692\n",
            "Name: raw, Length: 314, dtype: float64\n",
            "Anomaly [-1.5021489806185762, -1.519009516202131, -1.5475427302666092, -1.517712551926473, -1.541057908888319, -1.5086338019968666, -1.589045587087668, -1.555324515920558, -1.5254943375804217, -1.5462457659909512]\n",
            "Anomaly rate = 0.03184713375796178\n"
          ]
        }
      ]
    },
    {
      "cell_type": "markdown",
      "source": [
        "# 이상값 삭제"
      ],
      "metadata": {
        "id": "YdyiFlXwh-MX"
      }
    },
    {
      "cell_type": "markdown",
      "source": [
        "rssi 값이 100 이상를 이상치로 선택하여 검출함\n",
        "> RSSI(Received Signal Strength Indicator)란 수신된 신호강도지표를 의미한다. RSSI는 보통 –99 dBm에서 35 dBm까지의 세기를 송출하며 숫자가 높을수록 신호의 강도가 강하다는 것을 의미한다"
      ],
      "metadata": {
        "id": "fcyF1h8aBKEw"
      }
    },
    {
      "cell_type": "code",
      "source": [
        "len(df1[ df1['rssi'] > 100])\n",
        "\n",
        "df1[ df1['rssi'] > 100].head()"
      ],
      "metadata": {
        "colab": {
          "base_uri": "https://localhost:8080/",
          "height": 206
        },
        "id": "zLxYCRK_K9Fx",
        "outputId": "6ad25652-b1b9-4853-d155-437ad9ea249e"
      },
      "execution_count": null,
      "outputs": [
        {
          "output_type": "execute_result",
          "data": {
            "text/html": [
              "\n",
              "  <div id=\"df-9a060e2b-1f71-4598-a348-71ab8cc06823\">\n",
              "    <div class=\"colab-df-container\">\n",
              "      <div>\n",
              "<style scoped>\n",
              "    .dataframe tbody tr th:only-of-type {\n",
              "        vertical-align: middle;\n",
              "    }\n",
              "\n",
              "    .dataframe tbody tr th {\n",
              "        vertical-align: top;\n",
              "    }\n",
              "\n",
              "    .dataframe thead th {\n",
              "        text-align: right;\n",
              "    }\n",
              "</style>\n",
              "<table border=\"1\" class=\"dataframe\">\n",
              "  <thead>\n",
              "    <tr style=\"text-align: right;\">\n",
              "      <th></th>\n",
              "      <th>no</th>\n",
              "      <th>timestamp</th>\n",
              "      <th>node</th>\n",
              "      <th>error</th>\n",
              "      <th>raw</th>\n",
              "      <th>filtered</th>\n",
              "      <th>rssi</th>\n",
              "    </tr>\n",
              "  </thead>\n",
              "  <tbody>\n",
              "    <tr>\n",
              "      <th>0</th>\n",
              "      <td>1</td>\n",
              "      <td>26806</td>\n",
              "      <td>00000000a3c3</td>\n",
              "      <td>2</td>\n",
              "      <td>0.0</td>\n",
              "      <td>NaN</td>\n",
              "      <td>127</td>\n",
              "    </tr>\n",
              "    <tr>\n",
              "      <th>3</th>\n",
              "      <td>4</td>\n",
              "      <td>28309</td>\n",
              "      <td>00000000a3c3</td>\n",
              "      <td>2</td>\n",
              "      <td>0.0</td>\n",
              "      <td>21.7078</td>\n",
              "      <td>127</td>\n",
              "    </tr>\n",
              "    <tr>\n",
              "      <th>17</th>\n",
              "      <td>18</td>\n",
              "      <td>35327</td>\n",
              "      <td>00000000a3c3</td>\n",
              "      <td>2</td>\n",
              "      <td>0.0</td>\n",
              "      <td>20.5029</td>\n",
              "      <td>127</td>\n",
              "    </tr>\n",
              "    <tr>\n",
              "      <th>29</th>\n",
              "      <td>30</td>\n",
              "      <td>41338</td>\n",
              "      <td>00000000a3c3</td>\n",
              "      <td>2</td>\n",
              "      <td>0.0</td>\n",
              "      <td>19.5349</td>\n",
              "      <td>127</td>\n",
              "    </tr>\n",
              "    <tr>\n",
              "      <th>43</th>\n",
              "      <td>44</td>\n",
              "      <td>48356</td>\n",
              "      <td>00000000a3c3</td>\n",
              "      <td>3</td>\n",
              "      <td>0.0</td>\n",
              "      <td>19.4317</td>\n",
              "      <td>127</td>\n",
              "    </tr>\n",
              "  </tbody>\n",
              "</table>\n",
              "</div>\n",
              "      <button class=\"colab-df-convert\" onclick=\"convertToInteractive('df-9a060e2b-1f71-4598-a348-71ab8cc06823')\"\n",
              "              title=\"Convert this dataframe to an interactive table.\"\n",
              "              style=\"display:none;\">\n",
              "        \n",
              "  <svg xmlns=\"http://www.w3.org/2000/svg\" height=\"24px\"viewBox=\"0 0 24 24\"\n",
              "       width=\"24px\">\n",
              "    <path d=\"M0 0h24v24H0V0z\" fill=\"none\"/>\n",
              "    <path d=\"M18.56 5.44l.94 2.06.94-2.06 2.06-.94-2.06-.94-.94-2.06-.94 2.06-2.06.94zm-11 1L8.5 8.5l.94-2.06 2.06-.94-2.06-.94L8.5 2.5l-.94 2.06-2.06.94zm10 10l.94 2.06.94-2.06 2.06-.94-2.06-.94-.94-2.06-.94 2.06-2.06.94z\"/><path d=\"M17.41 7.96l-1.37-1.37c-.4-.4-.92-.59-1.43-.59-.52 0-1.04.2-1.43.59L10.3 9.45l-7.72 7.72c-.78.78-.78 2.05 0 2.83L4 21.41c.39.39.9.59 1.41.59.51 0 1.02-.2 1.41-.59l7.78-7.78 2.81-2.81c.8-.78.8-2.07 0-2.86zM5.41 20L4 18.59l7.72-7.72 1.47 1.35L5.41 20z\"/>\n",
              "  </svg>\n",
              "      </button>\n",
              "      \n",
              "  <style>\n",
              "    .colab-df-container {\n",
              "      display:flex;\n",
              "      flex-wrap:wrap;\n",
              "      gap: 12px;\n",
              "    }\n",
              "\n",
              "    .colab-df-convert {\n",
              "      background-color: #E8F0FE;\n",
              "      border: none;\n",
              "      border-radius: 50%;\n",
              "      cursor: pointer;\n",
              "      display: none;\n",
              "      fill: #1967D2;\n",
              "      height: 32px;\n",
              "      padding: 0 0 0 0;\n",
              "      width: 32px;\n",
              "    }\n",
              "\n",
              "    .colab-df-convert:hover {\n",
              "      background-color: #E2EBFA;\n",
              "      box-shadow: 0px 1px 2px rgba(60, 64, 67, 0.3), 0px 1px 3px 1px rgba(60, 64, 67, 0.15);\n",
              "      fill: #174EA6;\n",
              "    }\n",
              "\n",
              "    [theme=dark] .colab-df-convert {\n",
              "      background-color: #3B4455;\n",
              "      fill: #D2E3FC;\n",
              "    }\n",
              "\n",
              "    [theme=dark] .colab-df-convert:hover {\n",
              "      background-color: #434B5C;\n",
              "      box-shadow: 0px 1px 3px 1px rgba(0, 0, 0, 0.15);\n",
              "      filter: drop-shadow(0px 1px 2px rgba(0, 0, 0, 0.3));\n",
              "      fill: #FFFFFF;\n",
              "    }\n",
              "  </style>\n",
              "\n",
              "      <script>\n",
              "        const buttonEl =\n",
              "          document.querySelector('#df-9a060e2b-1f71-4598-a348-71ab8cc06823 button.colab-df-convert');\n",
              "        buttonEl.style.display =\n",
              "          google.colab.kernel.accessAllowed ? 'block' : 'none';\n",
              "\n",
              "        async function convertToInteractive(key) {\n",
              "          const element = document.querySelector('#df-9a060e2b-1f71-4598-a348-71ab8cc06823');\n",
              "          const dataTable =\n",
              "            await google.colab.kernel.invokeFunction('convertToInteractive',\n",
              "                                                     [key], {});\n",
              "          if (!dataTable) return;\n",
              "\n",
              "          const docLinkHtml = 'Like what you see? Visit the ' +\n",
              "            '<a target=\"_blank\" href=https://colab.research.google.com/notebooks/data_table.ipynb>data table notebook</a>'\n",
              "            + ' to learn more about interactive tables.';\n",
              "          element.innerHTML = '';\n",
              "          dataTable['output_type'] = 'display_data';\n",
              "          await google.colab.output.renderOutput(dataTable, element);\n",
              "          const docLink = document.createElement('div');\n",
              "          docLink.innerHTML = docLinkHtml;\n",
              "          element.appendChild(docLink);\n",
              "        }\n",
              "      </script>\n",
              "    </div>\n",
              "  </div>\n",
              "  "
            ],
            "text/plain": [
              "    no  timestamp          node  error  raw  filtered  rssi\n",
              "0    1      26806  00000000a3c3      2  0.0       NaN   127\n",
              "3    4      28309  00000000a3c3      2  0.0   21.7078   127\n",
              "17  18      35327  00000000a3c3      2  0.0   20.5029   127\n",
              "29  30      41338  00000000a3c3      2  0.0   19.5349   127\n",
              "43  44      48356  00000000a3c3      3  0.0   19.4317   127"
            ]
          },
          "metadata": {},
          "execution_count": 24
        }
      ]
    },
    {
      "cell_type": "code",
      "source": [
        "plt.figure()\n",
        "plt.scatter(df1['filtered'], df1['raw'], color =\"b\")\n",
        "plt.xlabel(\"filtered\")\n",
        "plt.ylabel(\"distance\")\n",
        "plt.show()"
      ],
      "metadata": {
        "colab": {
          "base_uri": "https://localhost:8080/",
          "height": 279
        },
        "id": "08gdqgqgL7B5",
        "outputId": "baeccdf2-3853-4859-84e4-e669e56e3984"
      },
      "execution_count": null,
      "outputs": [
        {
          "output_type": "display_data",
          "data": {
            "image/png": "[encoded data removed]",
            "text/plain": [
              "<Figure size 432x288 with 1 Axes>"
            ]
          },
          "metadata": {
            "needs_background": "light"
          }
        }
      ]
    },
    {
      "cell_type": "code",
      "source": [
        "idxName = df1[ df1['rssi'] > 100].index\n",
        "# Delete these row indexes from dataFrame\n",
        "df1.drop(idxName , inplace=True)"
      ],
      "metadata": {
        "id": "mzpe0nuXhVp4"
      },
      "execution_count": null,
      "outputs": []
    },
    {
      "cell_type": "code",
      "source": [
        "plt.figure()\n",
        "plt.scatter(df1['filtered'], df1['raw'], color =\"b\")\n",
        "plt.xlabel(\"filtered\")\n",
        "plt.ylabel(\"distance\")\n",
        "plt.show()"
      ],
      "metadata": {
        "colab": {
          "base_uri": "https://localhost:8080/",
          "height": 279
        },
        "id": "ZVI-8fLnishR",
        "outputId": "58852401-c231-4dda-bdac-399d82a32c08"
      },
      "execution_count": null,
      "outputs": [
        {
          "output_type": "display_data",
          "data": {
            "image/png": "[encoded data removed]",
            "text/plain": [
              "<Figure size 432x288 with 1 Axes>"
            ]
          },
          "metadata": {
            "needs_background": "light"
          }
        }
      ]
    },
    {
      "cell_type": "markdown",
      "source": [
        "음영지역"
      ],
      "metadata": {
        "id": "AhTqVCcAMe-v"
      }
    },
    {
      "cell_type": "code",
      "source": [
        "plt.plot(df1['raw'], color =\"b\")\n",
        "plt.plot(df1['filtered'], color =\"g\")\n"
      ],
      "metadata": {
        "colab": {
          "base_uri": "https://localhost:8080/",
          "height": 282
        },
        "id": "DtiN-q_LMJdi",
        "outputId": "61b9023b-3488-4d98-ba22-516d48b60d6e"
      },
      "execution_count": null,
      "outputs": [
        {
          "output_type": "execute_result",
          "data": {
            "text/plain": [
              "[<matplotlib.lines.Line2D at 0x7f7a0f2ec450>]"
            ]
          },
          "metadata": {},
          "execution_count": 59
        },
        {
          "output_type": "display_data",
          "data": {
            "image/png": "[encoded data removed]",
            "text/plain": [
              "<Figure size 432x288 with 1 Axes>"
            ]
          },
          "metadata": {
            "needs_background": "light"
          }
        }
      ]
    },
    {
      "cell_type": "code",
      "source": [
        "plt.figure()\n",
        "plt.scatter(df1['rssi'], df1['filtered'], color=\"g\") # raw\n",
        "plt.xlabel(\"rssi\")\n",
        "plt.ylabel(\"distance\")\n",
        "plt.show()"
      ],
      "metadata": {
        "colab": {
          "base_uri": "https://localhost:8080/",
          "height": 279
        },
        "id": "h2sgLFADiN0p",
        "outputId": "a0ff393a-df43-45e9-9e6c-7b3738780efa"
      },
      "execution_count": null,
      "outputs": [
        {
          "output_type": "display_data",
          "data": {
            "image/png": "[encoded data removed]",
            "text/plain": [
              "<Figure size 432x288 with 1 Axes>"
            ]
          },
          "metadata": {
            "needs_background": "light"
          }
        }
      ]
    },
    {
      "cell_type": "markdown",
      "source": [
        "* row와 filtered는 양의 상관관계를 갖는다\n"
      ],
      "metadata": {
        "id": "cF0xKvgsiLK1"
      }
    },
    {
      "cell_type": "code",
      "source": [
        " df1['raw'].corr(df1['filtered'])"
      ],
      "metadata": {
        "colab": {
          "base_uri": "https://localhost:8080/"
        },
        "id": "j7lFHT45h6kL",
        "outputId": "cfcd9554-6b43-4640-8ce1-8e04dec1cdf3"
      },
      "execution_count": null,
      "outputs": [
        {
          "output_type": "execute_result",
          "data": {
            "text/plain": [
              "0.9899191220014115"
            ]
          },
          "metadata": {},
          "execution_count": 33
        }
      ]
    },
    {
      "cell_type": "code",
      "metadata": {
        "id": "HmdNYW2zlNPo",
        "colab": {
          "base_uri": "https://localhost:8080/",
          "height": 424
        },
        "outputId": "ec17c125-f365-4b37-c41b-c9bca4a42b2e"
      },
      "source": [
        "df2 = df1 [ [\"rssi\", \"raw\"]] \n",
        "df2\n"
      ],
      "execution_count": null,
      "outputs": [
        {
          "output_type": "execute_result",
          "data": {
            "text/html": [
              "\n",
              "  <div id=\"df-5761b760-d7ed-41c4-bd86-151d2235f9e1\">\n",
              "    <div class=\"colab-df-container\">\n",
              "      <div>\n",
              "<style scoped>\n",
              "    .dataframe tbody tr th:only-of-type {\n",
              "        vertical-align: middle;\n",
              "    }\n",
              "\n",
              "    .dataframe tbody tr th {\n",
              "        vertical-align: top;\n",
              "    }\n",
              "\n",
              "    .dataframe thead th {\n",
              "        text-align: right;\n",
              "    }\n",
              "</style>\n",
              "<table border=\"1\" class=\"dataframe\">\n",
              "  <thead>\n",
              "    <tr style=\"text-align: right;\">\n",
              "      <th></th>\n",
              "      <th>rssi</th>\n",
              "      <th>raw</th>\n",
              "    </tr>\n",
              "  </thead>\n",
              "  <tbody>\n",
              "    <tr>\n",
              "      <th>1</th>\n",
              "      <td>-75</td>\n",
              "      <td>23.16</td>\n",
              "    </tr>\n",
              "    <tr>\n",
              "      <th>2</th>\n",
              "      <td>-75</td>\n",
              "      <td>21.36</td>\n",
              "    </tr>\n",
              "    <tr>\n",
              "      <th>4</th>\n",
              "      <td>-77</td>\n",
              "      <td>21.63</td>\n",
              "    </tr>\n",
              "    <tr>\n",
              "      <th>5</th>\n",
              "      <td>-75</td>\n",
              "      <td>22.26</td>\n",
              "    </tr>\n",
              "    <tr>\n",
              "      <th>6</th>\n",
              "      <td>-79</td>\n",
              "      <td>21.44</td>\n",
              "    </tr>\n",
              "    <tr>\n",
              "      <th>...</th>\n",
              "      <td>...</td>\n",
              "      <td>...</td>\n",
              "    </tr>\n",
              "    <tr>\n",
              "      <th>345</th>\n",
              "      <td>-63</td>\n",
              "      <td>32.04</td>\n",
              "    </tr>\n",
              "    <tr>\n",
              "      <th>346</th>\n",
              "      <td>-63</td>\n",
              "      <td>32.48</td>\n",
              "    </tr>\n",
              "    <tr>\n",
              "      <th>347</th>\n",
              "      <td>-61</td>\n",
              "      <td>32.83</td>\n",
              "    </tr>\n",
              "    <tr>\n",
              "      <th>348</th>\n",
              "      <td>-61</td>\n",
              "      <td>33.10</td>\n",
              "    </tr>\n",
              "    <tr>\n",
              "      <th>349</th>\n",
              "      <td>-61</td>\n",
              "      <td>32.99</td>\n",
              "    </tr>\n",
              "  </tbody>\n",
              "</table>\n",
              "<p>314 rows × 2 columns</p>\n",
              "</div>\n",
              "      <button class=\"colab-df-convert\" onclick=\"convertToInteractive('df-5761b760-d7ed-41c4-bd86-151d2235f9e1')\"\n",
              "              title=\"Convert this dataframe to an interactive table.\"\n",
              "              style=\"display:none;\">\n",
              "        \n",
              "  <svg xmlns=\"http://www.w3.org/2000/svg\" height=\"24px\"viewBox=\"0 0 24 24\"\n",
              "       width=\"24px\">\n",
              "    <path d=\"M0 0h24v24H0V0z\" fill=\"none\"/>\n",
              "    <path d=\"M18.56 5.44l.94 2.06.94-2.06 2.06-.94-2.06-.94-.94-2.06-.94 2.06-2.06.94zm-11 1L8.5 8.5l.94-2.06 2.06-.94-2.06-.94L8.5 2.5l-.94 2.06-2.06.94zm10 10l.94 2.06.94-2.06 2.06-.94-2.06-.94-.94-2.06-.94 2.06-2.06.94z\"/><path d=\"M17.41 7.96l-1.37-1.37c-.4-.4-.92-.59-1.43-.59-.52 0-1.04.2-1.43.59L10.3 9.45l-7.72 7.72c-.78.78-.78 2.05 0 2.83L4 21.41c.39.39.9.59 1.41.59.51 0 1.02-.2 1.41-.59l7.78-7.78 2.81-2.81c.8-.78.8-2.07 0-2.86zM5.41 20L4 18.59l7.72-7.72 1.47 1.35L5.41 20z\"/>\n",
              "  </svg>\n",
              "      </button>\n",
              "      \n",
              "  <style>\n",
              "    .colab-df-container {\n",
              "      display:flex;\n",
              "      flex-wrap:wrap;\n",
              "      gap: 12px;\n",
              "    }\n",
              "\n",
              "    .colab-df-convert {\n",
              "      background-color: #E8F0FE;\n",
              "      border: none;\n",
              "      border-radius: 50%;\n",
              "      cursor: pointer;\n",
              "      display: none;\n",
              "      fill: #1967D2;\n",
              "      height: 32px;\n",
              "      padding: 0 0 0 0;\n",
              "      width: 32px;\n",
              "    }\n",
              "\n",
              "    .colab-df-convert:hover {\n",
              "      background-color: #E2EBFA;\n",
              "      box-shadow: 0px 1px 2px rgba(60, 64, 67, 0.3), 0px 1px 3px 1px rgba(60, 64, 67, 0.15);\n",
              "      fill: #174EA6;\n",
              "    }\n",
              "\n",
              "    [theme=dark] .colab-df-convert {\n",
              "      background-color: #3B4455;\n",
              "      fill: #D2E3FC;\n",
              "    }\n",
              "\n",
              "    [theme=dark] .colab-df-convert:hover {\n",
              "      background-color: #434B5C;\n",
              "      box-shadow: 0px 1px 3px 1px rgba(0, 0, 0, 0.15);\n",
              "      filter: drop-shadow(0px 1px 2px rgba(0, 0, 0, 0.3));\n",
              "      fill: #FFFFFF;\n",
              "    }\n",
              "  </style>\n",
              "\n",
              "      <script>\n",
              "        const buttonEl =\n",
              "          document.querySelector('#df-5761b760-d7ed-41c4-bd86-151d2235f9e1 button.colab-df-convert');\n",
              "        buttonEl.style.display =\n",
              "          google.colab.kernel.accessAllowed ? 'block' : 'none';\n",
              "\n",
              "        async function convertToInteractive(key) {\n",
              "          const element = document.querySelector('#df-5761b760-d7ed-41c4-bd86-151d2235f9e1');\n",
              "          const dataTable =\n",
              "            await google.colab.kernel.invokeFunction('convertToInteractive',\n",
              "                                                     [key], {});\n",
              "          if (!dataTable) return;\n",
              "\n",
              "          const docLinkHtml = 'Like what you see? Visit the ' +\n",
              "            '<a target=\"_blank\" href=https://colab.research.google.com/notebooks/data_table.ipynb>data table notebook</a>'\n",
              "            + ' to learn more about interactive tables.';\n",
              "          element.innerHTML = '';\n",
              "          dataTable['output_type'] = 'display_data';\n",
              "          await google.colab.output.renderOutput(dataTable, element);\n",
              "          const docLink = document.createElement('div');\n",
              "          docLink.innerHTML = docLinkHtml;\n",
              "          element.appendChild(docLink);\n",
              "        }\n",
              "      </script>\n",
              "    </div>\n",
              "  </div>\n",
              "  "
            ],
            "text/plain": [
              "     rssi    raw\n",
              "1     -75  23.16\n",
              "2     -75  21.36\n",
              "4     -77  21.63\n",
              "5     -75  22.26\n",
              "6     -79  21.44\n",
              "..    ...    ...\n",
              "345   -63  32.04\n",
              "346   -63  32.48\n",
              "347   -61  32.83\n",
              "348   -61  33.10\n",
              "349   -61  32.99\n",
              "\n",
              "[314 rows x 2 columns]"
            ]
          },
          "metadata": {},
          "execution_count": 60
        }
      ]
    },
    {
      "cell_type": "code",
      "metadata": {
        "id": "b-X6pm-skp3C",
        "colab": {
          "base_uri": "https://localhost:8080/"
        },
        "outputId": "25efca39-2ad0-405f-b7e8-6372df6f9f9d"
      },
      "source": [
        "m = len(df2)\n",
        "\n",
        "print (m)"
      ],
      "execution_count": null,
      "outputs": [
        {
          "output_type": "stream",
          "name": "stdout",
          "text": [
            "314\n"
          ]
        }
      ]
    },
    {
      "cell_type": "markdown",
      "source": [
        "* variance-covariance matrix"
      ],
      "metadata": {
        "id": "NLcrfRKWOo3R"
      }
    },
    {
      "cell_type": "code",
      "source": [
        "df2.tail()"
      ],
      "metadata": {
        "id": "E3WXLu98fSlL"
      },
      "execution_count": null,
      "outputs": []
    },
    {
      "cell_type": "code",
      "metadata": {
        "id": "Z36erVd6lwr4",
        "colab": {
          "base_uri": "https://localhost:8080/"
        },
        "outputId": "90429136-1fa7-4852-fdbd-eb494d2ab90a"
      },
      "source": [
        "s = np.sum(df2, axis=0)\n",
        "mu = s/m\n",
        "mu\n",
        "vr = np.sum((df2 - mu)**2, axis=0)\n",
        "variance = vr/m\n",
        "variance\n",
        "\n",
        "var_dia = np.diag(variance)\n",
        "var_dia"
      ],
      "execution_count": null,
      "outputs": [
        {
          "output_type": "execute_result",
          "data": {
            "text/plain": [
              "array([[360.59917057,   0.        ],\n",
              "       [  0.        ,  68.25969545]])"
            ]
          },
          "metadata": {},
          "execution_count": 71
        }
      ]
    },
    {
      "cell_type": "code",
      "metadata": {
        "id": "dm6WVr4wl3iE",
        "colab": {
          "base_uri": "https://localhost:8080/"
        },
        "outputId": "ae3ac08e-e8cb-4b86-8691-4901d9ccaa98"
      },
      "source": [
        "k = len(mu)\n",
        "X = df2 - mu\n",
        "p = 1/((2*np.pi)**(k/2)*(np.linalg.det(var_dia)**0.5))* np.exp(-0.5* np.sum(X @ np.linalg.pinv(var_dia) * X,axis=1))\n",
        "p"
      ],
      "execution_count": null,
      "outputs": [
        {
          "output_type": "execute_result",
          "data": {
            "text/plain": [
              " 1      0.001014\n",
              " 2      0.001014\n",
              " 4      0.001014\n",
              " 5      0.001014\n",
              " 6      0.001014\n",
              "          ...   \n",
              " 346    0.001014\n",
              " 347    0.001014\n",
              " 348    0.001014\n",
              " 349    0.001014\n",
              "-1      0.001014\n",
              "Length: 315, dtype: float64"
            ]
          },
          "metadata": {},
          "execution_count": 72
        }
      ]
    },
    {
      "cell_type": "code",
      "metadata": {
        "id": "RrkwOqshl6Lw"
      },
      "source": [
        "def probability(df):\n",
        "    s = np.sum(df, axis=0)\n",
        "    m = len(df)\n",
        "    mu = s/m\n",
        "    vr = np.sum((df - mu)**2, axis=0)\n",
        "    variance = vr/m\n",
        "    var_dia = np.diag(variance)\n",
        "    k = len(mu)\n",
        "    X = df - mu\n",
        "    p = 1/((2*np.pi)**(k/2)*(np.linalg.det(var_dia)**0.5))* np.exp(-0.5* np.sum(X @ np.linalg.pinv(var_dia) * X,axis=1))\n",
        "    return p"
      ],
      "execution_count": null,
      "outputs": []
    },
    {
      "cell_type": "code",
      "metadata": {
        "id": "N_xNXLY4mePp",
        "colab": {
          "base_uri": "https://localhost:8080/"
        },
        "outputId": "8e38c3fc-221e-4d11-a124-3a3077a51709"
      },
      "source": [
        "p1 = probability(df2)\n",
        "p1"
      ],
      "execution_count": null,
      "outputs": [
        {
          "output_type": "execute_result",
          "data": {
            "text/plain": [
              " 1      0.001235\n",
              " 2      0.001235\n",
              " 4      0.001235\n",
              " 5      0.001235\n",
              " 6      0.001235\n",
              "          ...   \n",
              " 346    0.001235\n",
              " 347    0.001235\n",
              " 348    0.001235\n",
              " 349    0.001235\n",
              "-1      0.001235\n",
              "Length: 315, dtype: float64"
            ]
          },
          "metadata": {},
          "execution_count": 69
        }
      ]
    },
    {
      "cell_type": "code",
      "metadata": {
        "id": "vRoQHgKFmpTW",
        "colab": {
          "base_uri": "https://localhost:8080/"
        },
        "outputId": "8ec0affd-77da-442b-c838-8f036aab53df"
      },
      "source": [
        "print (f\"p1 mean ={p1.mean()}\")\n",
        "eps = [i for i in p1 if i <= p1.mean()]\n",
        "print (eps)\n",
        "print (len(p1))\n",
        "print (df2.size)"
      ],
      "execution_count": null,
      "outputs": [
        {
          "output_type": "stream",
          "name": "stdout",
          "text": [
            "p1 mean =0.0031084289113620716\n",
            "[0.0031084289113620595, 0.0031084289113620595, 0.0031084289113620595, 0.0031084289113620595, 0.0031084289113620595, 0.0031084289113620595, 0.0031084289113620595, 0.0031084289113620595, 0.0031084289113620595, 0.0031084289113620595, 0.0031084289113620595, 0.0031084289113620595, 0.0031084289113620595, 0.0031084289113620595, 0.0031084289113620595, 0.0031084289113620595, 0.0031084289113620595, 0.0031084289113620595, 0.0031084289113620595, 0.0031084289113620595, 0.0031084289113620595, 0.0031084289113620595, 0.0031084289113620595, 0.0031084289113620595, 0.0031084289113620595, 0.0031084289113620595, 0.0031084289113620595, 0.0031084289113620595, 0.0031084289113620595, 0.0031084289113620595, 0.0031084289113620595, 0.0031084289113620595, 0.0031084289113620595, 0.0031084289113620595, 0.0031084289113620595, 0.0031084289113620595, 0.0031084289113620595, 0.0031084289113620595, 0.0031084289113620595, 0.0031084289113620595, 0.0031084289113620595, 0.0031084289113620595, 0.0031084289113620595, 0.0031084289113620595, 0.0031084289113620595, 0.0031084289113620595, 0.0031084289113620595, 0.0031084289113620595, 0.0031084289113620595, 0.0031084289113620595, 0.0031084289113620595, 0.0031084289113620595, 0.0031084289113620595, 0.0031084289113620595, 0.0031084289113620595, 0.0031084289113620595, 0.0031084289113620595, 0.0031084289113620595, 0.0031084289113620595, 0.0031084289113620595, 0.0031084289113620595, 0.0031084289113620595, 0.0031084289113620595, 0.0031084289113620595, 0.0031084289113620595, 0.0031084289113620595, 0.0031084289113620595, 0.0031084289113620595, 0.0031084289113620595, 0.0031084289113620595, 0.0031084289113620595, 0.0031084289113620595, 0.0031084289113620595, 0.0031084289113620595, 0.0031084289113620595, 0.0031084289113620595, 0.0031084289113620595, 0.0031084289113620595, 0.0031084289113620595, 0.0031084289113620595, 0.0031084289113620595, 0.0031084289113620595, 0.0031084289113620595, 0.0031084289113620595, 0.0031084289113620595, 0.0031084289113620595, 0.0031084289113620595, 0.0031084289113620595, 0.0031084289113620595, 0.0031084289113620595, 0.0031084289113620595, 0.0031084289113620595, 0.0031084289113620595, 0.0031084289113620595, 0.0031084289113620595, 0.0031084289113620595, 0.0031084289113620595, 0.0031084289113620595, 0.0031084289113620595, 0.0031084289113620595, 0.0031084289113620595, 0.0031084289113620595, 0.0031084289113620595, 0.0031084289113620595, 0.0031084289113620595, 0.0031084289113620595, 0.0031084289113620595, 0.0031084289113620595, 0.0031084289113620595, 0.0031084289113620595, 0.0031084289113620595, 0.0031084289113620595, 0.0031084289113620595, 0.0031084289113620595, 0.0031084289113620595, 0.0031084289113620595, 0.0031084289113620595, 0.0031084289113620595, 0.0031084289113620595, 0.0031084289113620595, 0.0031084289113620595, 0.0031084289113620595, 0.0031084289113620595, 0.0031084289113620595, 0.0031084289113620595, 0.0031084289113620595, 0.0031084289113620595, 0.0031084289113620595, 0.0031084289113620595, 0.0031084289113620595, 0.0031084289113620595, 0.0031084289113620595, 0.0031084289113620595, 0.0031084289113620595, 0.0031084289113620595, 0.0031084289113620595, 0.0031084289113620595, 0.0031084289113620595, 0.0031084289113620595, 0.0031084289113620595, 0.0031084289113620595, 0.0031084289113620595, 0.0031084289113620595, 0.0031084289113620595, 0.0031084289113620595, 0.0031084289113620595, 0.0031084289113620595, 0.0031084289113620595, 0.0031084289113620595, 0.0031084289113620595, 0.0031084289113620595, 0.0031084289113620595, 0.0031084289113620595, 0.0031084289113620595, 0.0031084289113620595, 0.0031084289113620595, 0.0031084289113620595, 0.0031084289113620595, 0.0031084289113620595, 0.0031084289113620595, 0.0031084289113620595, 0.0031084289113620595, 0.0031084289113620595, 0.0031084289113620595, 0.0031084289113620595, 0.0031084289113620595, 0.0031084289113620595, 0.0031084289113620595, 0.0031084289113620595, 0.0031084289113620595, 0.0031084289113620595, 0.0031084289113620595, 0.0031084289113620595, 0.0031084289113620595, 0.0031084289113620595, 0.0031084289113620595, 0.0031084289113620595, 0.0031084289113620595, 0.0031084289113620595, 0.0031084289113620595, 0.0031084289113620595, 0.0031084289113620595, 0.0031084289113620595, 0.0031084289113620595, 0.0031084289113620595, 0.0031084289113620595, 0.0031084289113620595, 0.0031084289113620595, 0.0031084289113620595, 0.0031084289113620595, 0.0031084289113620595, 0.0031084289113620595, 0.0031084289113620595, 0.0031084289113620595, 0.0031084289113620595, 0.0031084289113620595, 0.0031084289113620595, 0.0031084289113620595, 0.0031084289113620595, 0.0031084289113620595, 0.0031084289113620595, 0.0031084289113620595, 0.0031084289113620595, 0.0031084289113620595, 0.0031084289113620595, 0.0031084289113620595, 0.0031084289113620595, 0.0031084289113620595, 0.0031084289113620595, 0.0031084289113620595, 0.0031084289113620595, 0.0031084289113620595, 0.0031084289113620595, 0.0031084289113620595, 0.0031084289113620595, 0.0031084289113620595, 0.0031084289113620595, 0.0031084289113620595, 0.0031084289113620595, 0.0031084289113620595, 0.0031084289113620595, 0.0031084289113620595, 0.0031084289113620595, 0.0031084289113620595, 0.0031084289113620595, 0.0031084289113620595, 0.0031084289113620595, 0.0031084289113620595, 0.0031084289113620595, 0.0031084289113620595, 0.0031084289113620595, 0.0031084289113620595, 0.0031084289113620595, 0.0031084289113620595, 0.0031084289113620595, 0.0031084289113620595, 0.0031084289113620595, 0.0031084289113620595, 0.0031084289113620595, 0.0031084289113620595, 0.0031084289113620595, 0.0031084289113620595, 0.0031084289113620595, 0.0031084289113620595, 0.0031084289113620595, 0.0031084289113620595, 0.0031084289113620595, 0.0031084289113620595, 0.0031084289113620595, 0.0031084289113620595, 0.0031084289113620595, 0.0031084289113620595, 0.0031084289113620595, 0.0031084289113620595, 0.0031084289113620595, 0.0031084289113620595, 0.0031084289113620595, 0.0031084289113620595, 0.0031084289113620595, 0.0031084289113620595, 0.0031084289113620595, 0.0031084289113620595, 0.0031084289113620595, 0.0031084289113620595, 0.0031084289113620595, 0.0031084289113620595, 0.0031084289113620595, 0.0031084289113620595, 0.0031084289113620595, 0.0031084289113620595, 0.0031084289113620595, 0.0031084289113620595, 0.0031084289113620595, 0.0031084289113620595, 0.0031084289113620595, 0.0031084289113620595, 0.0031084289113620595, 0.0031084289113620595, 0.0031084289113620595, 0.0031084289113620595, 0.0031084289113620595, 0.0031084289113620595, 0.0031084289113620595, 0.0031084289113620595, 0.0031084289113620595, 0.0031084289113620595, 0.0031084289113620595, 0.0031084289113620595, 0.0031084289113620595, 0.0031084289113620595, 0.0031084289113620595, 0.0031084289113620595, 0.0031084289113620595, 0.0031084289113620595, 0.0031084289113620595, 0.0031084289113620595, 0.0031084289113620595, 0.0031084289113620595, 0.0031084289113620595, 0.0031084289113620595, 0.0031084289113620595, 0.0031084289113620595, 0.0031084289113620595, 0.0031084289113620595, 0.0031084289113620595, 0.0031084289113620595, 0.0031084289113620595, 0.0031084289113620595, 0.0031084289113620595, 0.0031084289113620595, 0.0031084289113620595, 0.0031084289113620595, 0.0031084289113620595, 0.0031084289113620595]\n",
            "314\n",
            "628\n"
          ]
        }
      ]
    },
    {
      "cell_type": "code",
      "source": [
        "df2 = df1 [ [\"rssi\", \"filtered\"]] \n",
        "p1 = probability(df2)\n",
        "print (f\"p1 mean ={p1.mean()}\")\n",
        "eps = [i for i in p1 if i <= p1.mean()]\n",
        "print (eps)\n",
        "print (len(p1))\n",
        "print (df2.size)"
      ],
      "metadata": {
        "colab": {
          "base_uri": "https://localhost:8080/"
        },
        "id": "iSXnJb17f4P7",
        "outputId": "e48068e1-f7e8-4182-8433-73826dd284d2"
      },
      "execution_count": null,
      "outputs": [
        {
          "output_type": "stream",
          "name": "stdout",
          "text": [
            "p1 mean =0.0031084289113620716\n",
            "[0.0031084289113620595, 0.0031084289113620595, 0.0031084289113620595, 0.0031084289113620595, 0.0031084289113620595, 0.0031084289113620595, 0.0031084289113620595, 0.0031084289113620595, 0.0031084289113620595, 0.0031084289113620595, 0.0031084289113620595, 0.0031084289113620595, 0.0031084289113620595, 0.0031084289113620595, 0.0031084289113620595, 0.0031084289113620595, 0.0031084289113620595, 0.0031084289113620595, 0.0031084289113620595, 0.0031084289113620595, 0.0031084289113620595, 0.0031084289113620595, 0.0031084289113620595, 0.0031084289113620595, 0.0031084289113620595, 0.0031084289113620595, 0.0031084289113620595, 0.0031084289113620595, 0.0031084289113620595, 0.0031084289113620595, 0.0031084289113620595, 0.0031084289113620595, 0.0031084289113620595, 0.0031084289113620595, 0.0031084289113620595, 0.0031084289113620595, 0.0031084289113620595, 0.0031084289113620595, 0.0031084289113620595, 0.0031084289113620595, 0.0031084289113620595, 0.0031084289113620595, 0.0031084289113620595, 0.0031084289113620595, 0.0031084289113620595, 0.0031084289113620595, 0.0031084289113620595, 0.0031084289113620595, 0.0031084289113620595, 0.0031084289113620595, 0.0031084289113620595, 0.0031084289113620595, 0.0031084289113620595, 0.0031084289113620595, 0.0031084289113620595, 0.0031084289113620595, 0.0031084289113620595, 0.0031084289113620595, 0.0031084289113620595, 0.0031084289113620595, 0.0031084289113620595, 0.0031084289113620595, 0.0031084289113620595, 0.0031084289113620595, 0.0031084289113620595, 0.0031084289113620595, 0.0031084289113620595, 0.0031084289113620595, 0.0031084289113620595, 0.0031084289113620595, 0.0031084289113620595, 0.0031084289113620595, 0.0031084289113620595, 0.0031084289113620595, 0.0031084289113620595, 0.0031084289113620595, 0.0031084289113620595, 0.0031084289113620595, 0.0031084289113620595, 0.0031084289113620595, 0.0031084289113620595, 0.0031084289113620595, 0.0031084289113620595, 0.0031084289113620595, 0.0031084289113620595, 0.0031084289113620595, 0.0031084289113620595, 0.0031084289113620595, 0.0031084289113620595, 0.0031084289113620595, 0.0031084289113620595, 0.0031084289113620595, 0.0031084289113620595, 0.0031084289113620595, 0.0031084289113620595, 0.0031084289113620595, 0.0031084289113620595, 0.0031084289113620595, 0.0031084289113620595, 0.0031084289113620595, 0.0031084289113620595, 0.0031084289113620595, 0.0031084289113620595, 0.0031084289113620595, 0.0031084289113620595, 0.0031084289113620595, 0.0031084289113620595, 0.0031084289113620595, 0.0031084289113620595, 0.0031084289113620595, 0.0031084289113620595, 0.0031084289113620595, 0.0031084289113620595, 0.0031084289113620595, 0.0031084289113620595, 0.0031084289113620595, 0.0031084289113620595, 0.0031084289113620595, 0.0031084289113620595, 0.0031084289113620595, 0.0031084289113620595, 0.0031084289113620595, 0.0031084289113620595, 0.0031084289113620595, 0.0031084289113620595, 0.0031084289113620595, 0.0031084289113620595, 0.0031084289113620595, 0.0031084289113620595, 0.0031084289113620595, 0.0031084289113620595, 0.0031084289113620595, 0.0031084289113620595, 0.0031084289113620595, 0.0031084289113620595, 0.0031084289113620595, 0.0031084289113620595, 0.0031084289113620595, 0.0031084289113620595, 0.0031084289113620595, 0.0031084289113620595, 0.0031084289113620595, 0.0031084289113620595, 0.0031084289113620595, 0.0031084289113620595, 0.0031084289113620595, 0.0031084289113620595, 0.0031084289113620595, 0.0031084289113620595, 0.0031084289113620595, 0.0031084289113620595, 0.0031084289113620595, 0.0031084289113620595, 0.0031084289113620595, 0.0031084289113620595, 0.0031084289113620595, 0.0031084289113620595, 0.0031084289113620595, 0.0031084289113620595, 0.0031084289113620595, 0.0031084289113620595, 0.0031084289113620595, 0.0031084289113620595, 0.0031084289113620595, 0.0031084289113620595, 0.0031084289113620595, 0.0031084289113620595, 0.0031084289113620595, 0.0031084289113620595, 0.0031084289113620595, 0.0031084289113620595, 0.0031084289113620595, 0.0031084289113620595, 0.0031084289113620595, 0.0031084289113620595, 0.0031084289113620595, 0.0031084289113620595, 0.0031084289113620595, 0.0031084289113620595, 0.0031084289113620595, 0.0031084289113620595, 0.0031084289113620595, 0.0031084289113620595, 0.0031084289113620595, 0.0031084289113620595, 0.0031084289113620595, 0.0031084289113620595, 0.0031084289113620595, 0.0031084289113620595, 0.0031084289113620595, 0.0031084289113620595, 0.0031084289113620595, 0.0031084289113620595, 0.0031084289113620595, 0.0031084289113620595, 0.0031084289113620595, 0.0031084289113620595, 0.0031084289113620595, 0.0031084289113620595, 0.0031084289113620595, 0.0031084289113620595, 0.0031084289113620595, 0.0031084289113620595, 0.0031084289113620595, 0.0031084289113620595, 0.0031084289113620595, 0.0031084289113620595, 0.0031084289113620595, 0.0031084289113620595, 0.0031084289113620595, 0.0031084289113620595, 0.0031084289113620595, 0.0031084289113620595, 0.0031084289113620595, 0.0031084289113620595, 0.0031084289113620595, 0.0031084289113620595, 0.0031084289113620595, 0.0031084289113620595, 0.0031084289113620595, 0.0031084289113620595, 0.0031084289113620595, 0.0031084289113620595, 0.0031084289113620595, 0.0031084289113620595, 0.0031084289113620595, 0.0031084289113620595, 0.0031084289113620595, 0.0031084289113620595, 0.0031084289113620595, 0.0031084289113620595, 0.0031084289113620595, 0.0031084289113620595, 0.0031084289113620595, 0.0031084289113620595, 0.0031084289113620595, 0.0031084289113620595, 0.0031084289113620595, 0.0031084289113620595, 0.0031084289113620595, 0.0031084289113620595, 0.0031084289113620595, 0.0031084289113620595, 0.0031084289113620595, 0.0031084289113620595, 0.0031084289113620595, 0.0031084289113620595, 0.0031084289113620595, 0.0031084289113620595, 0.0031084289113620595, 0.0031084289113620595, 0.0031084289113620595, 0.0031084289113620595, 0.0031084289113620595, 0.0031084289113620595, 0.0031084289113620595, 0.0031084289113620595, 0.0031084289113620595, 0.0031084289113620595, 0.0031084289113620595, 0.0031084289113620595, 0.0031084289113620595, 0.0031084289113620595, 0.0031084289113620595, 0.0031084289113620595, 0.0031084289113620595, 0.0031084289113620595, 0.0031084289113620595, 0.0031084289113620595, 0.0031084289113620595, 0.0031084289113620595, 0.0031084289113620595, 0.0031084289113620595, 0.0031084289113620595, 0.0031084289113620595, 0.0031084289113620595, 0.0031084289113620595, 0.0031084289113620595, 0.0031084289113620595, 0.0031084289113620595, 0.0031084289113620595, 0.0031084289113620595, 0.0031084289113620595, 0.0031084289113620595, 0.0031084289113620595, 0.0031084289113620595, 0.0031084289113620595, 0.0031084289113620595, 0.0031084289113620595, 0.0031084289113620595, 0.0031084289113620595, 0.0031084289113620595, 0.0031084289113620595, 0.0031084289113620595, 0.0031084289113620595, 0.0031084289113620595, 0.0031084289113620595, 0.0031084289113620595, 0.0031084289113620595, 0.0031084289113620595, 0.0031084289113620595, 0.0031084289113620595, 0.0031084289113620595, 0.0031084289113620595, 0.0031084289113620595, 0.0031084289113620595, 0.0031084289113620595, 0.0031084289113620595, 0.0031084289113620595, 0.0031084289113620595, 0.0031084289113620595, 0.0031084289113620595, 0.0031084289113620595, 0.0031084289113620595]\n",
            "314\n",
            "628\n"
          ]
        }
      ]
    },
    {
      "cell_type": "markdown",
      "source": [
        "* Isolation Forest \n",
        "> an algorithm to detect outliers that returns the anomaly score of each sample using the IsolationForest algorithm\n",
        "\n",
        "---\n",
        "> https://towardsdatascience.com/anomaly-detection-for-dummies-15f148e559c1\n"
      ],
      "metadata": {
        "id": "_p6RjsQGIElf"
      }
    },
    {
      "cell_type": "code",
      "source": [
        "import pandas as pd\n",
        "import numpy as np\n",
        "import matplotlib.pyplot as plt\n",
        "import seaborn as sns\n",
        "import matplotlib\n",
        "from sklearn.ensemble import IsolationForest\n",
        "\n",
        "isolation_forest = IsolationForest(n_estimators=100)\n",
        "isolation_forest.fit(df2['filtered'].values.reshape(-1, 1))\n",
        "xx = np.linspace(df2['filtered'].min(), df2['filtered'].max(), len(df)).reshape(-1,1)\n",
        "anomaly_score = isolation_forest.decision_function(xx)\n",
        "outlier = isolation_forest.predict(xx)\n",
        "plt.figure(figsize=(10,4))\n",
        "plt.plot(xx, anomaly_score, label='anomaly score')\n",
        "plt.fill_between(xx.T[0], np.min(anomaly_score), np.max(anomaly_score), \n",
        "                 where=outlier==-1, color='r', \n",
        "                 alpha=.4, label='outlier region')\n",
        "plt.legend()\n",
        "plt.ylabel('anomaly score')\n",
        "plt.xlabel('distance')\n",
        "plt.show();"
      ],
      "metadata": {
        "colab": {
          "base_uri": "https://localhost:8080/",
          "height": 283
        },
        "id": "gN8MUaLAHju5",
        "outputId": "bd7dbff9-eb28-4a90-9edf-6406d3abb90a"
      },
      "execution_count": null,
      "outputs": [
        {
          "output_type": "display_data",
          "data": {
            "image/png": "[encoded data removed]",
            "text/plain": [
              "<Figure size 720x288 with 1 Axes>"
            ]
          },
          "metadata": {
            "needs_background": "light"
          }
        }
      ]
    },
    {
      "cell_type": "markdown",
      "source": [
        "K-Means"
      ],
      "metadata": {
        "id": "xB0dFJFFcta1"
      }
    },
    {
      "cell_type": "code",
      "metadata": {
        "id": "suRtRu2-m3IB"
      },
      "source": [
        ""
      ],
      "execution_count": null,
      "outputs": []
    },
    {
      "cell_type": "code",
      "source": [
        "import pandas as pd\n",
        "import numpy as np\n",
        "import matplotlib.pyplot as plt\n",
        "from sklearn.cluster import KMeans\n",
        "%matplotlib inline\n",
        "\n",
        "X= -2 * np.random.rand(100,2)\n",
        "X1 = 1 + 2 * np.random.rand(50,2)\n",
        "X[50:100, :] = X1\n",
        "plt.scatter(X[ : , 0], X[ :, 1], s = 50, c = 'b')\n",
        "plt.show()"
      ],
      "metadata": {
        "id": "XBDL-QEYKWEd"
      },
      "execution_count": null,
      "outputs": []
    },
    {
      "cell_type": "code",
      "source": [
        "from sklearn.cluster import KMeans\n",
        "Kmean = KMeans(n_clusters=2)\n",
        "Kmean.fit(X)\n"
      ],
      "metadata": {
        "id": "FqTpwKFNKdDS"
      },
      "execution_count": null,
      "outputs": []
    },
    {
      "cell_type": "code",
      "source": [
        "plt.scatter(X[ : , 0], X[ : , 1], s =50, c='b')\n",
        "plt.scatter(-0.94665068, -0.97138368, s=200, c='g', marker='s')\n",
        "plt.scatter(2.01559419, 2.02597093, s=200, c='r', marker='s')\n",
        "plt.show()"
      ],
      "metadata": {
        "id": "UgEuzT-1KeQ9"
      },
      "execution_count": null,
      "outputs": []
    },
    {
      "cell_type": "code",
      "source": [
        "# Standardize/scale the dataset and apply PCA\n",
        "from sklearn.preprocessing import StandardScaler\n",
        "from sklearn.decomposition import PCA\n",
        "from sklearn.pipeline import make_pipeline\n"
      ],
      "metadata": {
        "id": "ozccOGxbGg1B"
      },
      "execution_count": null,
      "outputs": []
    },
    {
      "cell_type": "code",
      "source": [
        "scaler = StandardScaler()\n",
        "pca = PCA()\n",
        "pipeline = make_pipeline(scaler, pca)\n",
        "X = np.array(df1[[\"filtered\",\"filtered\"]])\n",
        "pipeline.fit(X)\n",
        "# Plot the principal components against their inertia\n",
        "features = range(pca.n_components_)\n",
        "_ = plt.figure(figsize=(15, 5))\n",
        "_ = plt.bar(features, pca.explained_variance_)\n",
        "_ = plt.xlabel('PCA feature')\n",
        "_ = plt.ylabel('Variance')\n",
        "_ = plt.xticks(features)\n",
        "_ = plt.title(\"Importance of the Principal Components based on inertia\")\n",
        "plt.show()"
      ],
      "metadata": {
        "id": "C0bsdw0NGF-g"
      },
      "execution_count": null,
      "outputs": []
    },
    {
      "cell_type": "code",
      "source": [
        "# Calculate PCA with 2 components\n",
        "pca = PCA(n_components=2)\n",
        "principalComponents = pca.fit_transform(X)\n",
        "principalDf = pd.DataFrame(data = principalComponents, columns = ['pc1', 'pc2'])"
      ],
      "metadata": {
        "id": "rbKvuz1rHG4B"
      },
      "execution_count": null,
      "outputs": []
    },
    {
      "cell_type": "code",
      "source": [
        "from statsmodels.tsa.stattools import adfuller\n",
        "# Run Augmented Dickey Fuller Test\n",
        "result = adfuller(principalDf['pc1'])\n",
        "# Print p-value\n",
        "print(result[1])"
      ],
      "metadata": {
        "id": "EHoAOsQNHPHA"
      },
      "execution_count": null,
      "outputs": []
    },
    {
      "cell_type": "code",
      "source": [
        "from sklearn import svm\n",
        "import numpy as np\n",
        "from sklearn.svm import OneClassSVM"
      ],
      "metadata": {
        "id": "9lBkJ0rw5TkW"
      },
      "execution_count": null,
      "outputs": []
    },
    {
      "cell_type": "code",
      "source": [
        "clf = svm.OneClassSVM(nu = 0.1, kernel = \"rbf\", gamma = 0.1)\n",
        "\n",
        "#X = np.array(df1[[\"raw\",\"filtered\"]])\n",
        "X = np.array(df1[[\"raw\",\"raw\"]])\n",
        "#X = np.array(df1[[\"filtered\",\"filtered\"]])\n",
        "\n",
        "#X = arr.reshape(-1, 1)\n",
        "clf.fit(X)"
      ],
      "metadata": {
        "id": "TJh2Y4De5UEl"
      },
      "execution_count": null,
      "outputs": []
    },
    {
      "cell_type": "code",
      "source": [
        "pred = clf.predict(X)\n",
        "#clf.score_samples(X)\n"
      ],
      "metadata": {
        "id": "hdkhIPHo6P01"
      },
      "execution_count": null,
      "outputs": []
    },
    {
      "cell_type": "code",
      "source": [
        "pred"
      ],
      "metadata": {
        "id": "KIZufcPX9jTj"
      },
      "execution_count": null,
      "outputs": []
    },
    {
      "cell_type": "code",
      "source": [
        "xx, yy = np.meshgrid(np.linspace(-1, 50, 100), np.linspace(-1, 50, 100))"
      ],
      "metadata": {
        "id": "N0cyFsu-95ZN"
      },
      "execution_count": null,
      "outputs": []
    },
    {
      "cell_type": "code",
      "source": [
        "# plot the line, the points, and the nearest vectors to the plane\n",
        "import pylab as pl\n",
        "\n",
        "Z = clf.decision_function(np.c_[xx.ravel(), yy.ravel()])\n",
        "Z = Z.reshape(xx.shape)\n",
        "y_pred = clf.predict(X)\n",
        "\n",
        "plt.contourf(xx, yy, Z)\n",
        "plt.scatter(X[y_pred>0,0], X[y_pred>0,1], c='blue', label='inliers', edgecolors=\"k\")\n",
        "plt.scatter(X[y_pred<=0,0], X[y_pred<=0,1], c='red', label='outliers', edgecolors=\"k\")\n",
        "plt.axis('tight')\n",
        "plt.legend(loc=\"upper left\")\n",
        "plt.show()"
      ],
      "metadata": {
        "id": "3BsU7u_o9loO"
      },
      "execution_count": null,
      "outputs": []
    },
    {
      "cell_type": "code",
      "source": [
        "from sklearn.cluster import DBSCAN\n",
        "\n",
        "dbscan = DBSCAN(eps = 0.4, min_samples = 10)\n",
        "print(dbscan) \n",
        "\n",
        "pred = dbscan.fit_predict(X)\n",
        "anom_index = np.where(pred == -1)\n",
        "values = X[anom_index]\n",
        "\n",
        "plt.scatter(X[:,0], X[:,1])\n",
        "plt.scatter(values[:,0], values[:,1], color='r')\n",
        "plt.show()"
      ],
      "metadata": {
        "id": "TgdUJxHzEoLg"
      },
      "execution_count": null,
      "outputs": []
    },
    {
      "cell_type": "markdown",
      "source": [
        "sympy"
      ],
      "metadata": {
        "id": "L5qFs35X_In0"
      }
    },
    {
      "cell_type": "code",
      "source": [
        "import sympy as sp"
      ],
      "metadata": {
        "id": "uxif5NsD98FU"
      },
      "execution_count": null,
      "outputs": []
    },
    {
      "cell_type": "code",
      "source": [
        "sp.init_printing(use_latex=True)"
      ],
      "metadata": {
        "id": "bGbYWdKV-Aep"
      },
      "execution_count": null,
      "outputs": []
    },
    {
      "cell_type": "code",
      "source": [
        "x = sp.symbols('x')\n",
        "f = sp.symbols('f', cls=sp.Function) # 함수임을 나타냄\n",
        "y = f(x)\n",
        "eq = sp.Eq(x * sp.diff(y, x) + y, 2 * x)"
      ],
      "metadata": {
        "id": "rcxI2__v-DnK"
      },
      "execution_count": null,
      "outputs": []
    },
    {
      "cell_type": "code",
      "source": [
        "eq"
      ],
      "metadata": {
        "colab": {
          "base_uri": "https://localhost:8080/",
          "height": 52
        },
        "id": "oLE2hB0P-IJ5",
        "outputId": "e1103364-ae6a-4f61-9390-2302237055f2"
      },
      "execution_count": null,
      "outputs": [
        {
          "output_type": "execute_result",
          "data": {
            "image/png": "[encoded data removed]",
            "text/latex": "$\\displaystyle x \\frac{d}{d x} f{\\left(x \\right)} + f{\\left(x \\right)} = 2 x$",
            "text/plain": [
              "  d                    \n",
              "x⋅──(f(x)) + f(x) = 2⋅x\n",
              "  dx                   "
            ]
          },
          "metadata": {},
          "execution_count": 83
        }
      ]
    },
    {
      "cell_type": "code",
      "source": [
        "sp.dsolve(eq, y)"
      ],
      "metadata": {
        "colab": {
          "base_uri": "https://localhost:8080/",
          "height": 52
        },
        "id": "IiORo5pp-rmC",
        "outputId": "10d9595b-1b12-4e61-f5e4-6b97b139c611"
      },
      "execution_count": null,
      "outputs": [
        {
          "output_type": "execute_result",
          "data": {
            "image/png": "[encoded data removed]",
            "text/latex": "$\\displaystyle f{\\left(x \\right)} = \\frac{C_{1}}{x} + x$",
            "text/plain": [
              "       C₁    \n",
              "f(x) = ── + x\n",
              "       x     "
            ]
          },
          "metadata": {},
          "execution_count": 84
        }
      ]
    }
  ]
}