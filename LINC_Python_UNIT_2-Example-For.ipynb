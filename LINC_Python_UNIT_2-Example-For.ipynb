{
 "cells": [
  {
   "cell_type": "raw",
   "metadata": {},
   "source": [
    "# [UNIT 2] for 문 이해하기  "
   ]
  },
  {
   "cell_type": "code",
   "execution_count": 2,
   "metadata": {},
   "outputs": [
    {
     "name": "stdout",
     "output_type": "stream",
     "text": [
      "2 x 1 = 2\n",
      "2 x 2 = 4\n",
      "2 x 3 = 6\n",
      "2 x 4 = 8\n",
      "\n",
      "3 x 1 = 3\n",
      "3 x 2 = 6\n",
      "3 x 3 = 9\n",
      "3 x 4 = 12\n",
      "\n",
      "4 x 1 = 4\n",
      "4 x 2 = 8\n",
      "4 x 3 = 12\n",
      "4 x 4 = 16\n",
      "\n"
     ]
    }
   ],
   "source": [
    "for i in range(2, 5):\n",
    "    for j in range(1, 5):\n",
    "        print(i, 'x', j, '=', i*j)\n",
    "    print()"
   ]
  },
  {
   "cell_type": "code",
   "execution_count": 3,
   "metadata": {},
   "outputs": [
    {
     "name": "stdout",
     "output_type": "stream",
     "text": [
      "몫 = 15\n",
      "나머지 = 3\n"
     ]
    }
   ],
   "source": [
    "몫 = 63//4\n",
    "나머지 = 63%4\n",
    "\n",
    "print('몫 =', 몫)\n",
    "print('나머지 =', 나머지)"
   ]
  },
  {
   "cell_type": "code",
   "execution_count": 10,
   "metadata": {},
   "outputs": [
    {
     "name": "stdout",
     "output_type": "stream",
     "text": [
      "*****\n",
      "****\n",
      "***\n",
      "**\n",
      "*\n"
     ]
    }
   ],
   "source": [
    "for i in range(5):\n",
    "    for j in range(5-i):\n",
    "        print('*', end='')\n",
    "    print()"
   ]
  },
  {
   "cell_type": "code",
   "execution_count": null,
   "metadata": {},
   "outputs": [],
   "source": [
    "함수정의에서 for 문 사용을 통해 총합과 평균을 구한다"
   ]
  },
  {
   "cell_type": "code",
   "execution_count": 11,
   "metadata": {},
   "outputs": [
    {
     "name": "stdout",
     "output_type": "stream",
     "text": [
      "총합:  500\n",
      "평균:  125.0\n"
     ]
    }
   ],
   "source": [
    "def statistic_info(arr):\n",
    "    total = 0\n",
    "    for each in arr:\n",
    "        total += each\n",
    "    # 평균 구하기\n",
    "    mean = total/len(arr)\n",
    "     \n",
    "    return total, mean \n",
    "\n",
    "arr = [100, 120, 150, 130]\n",
    "total, mean = statistic_info(arr)\n",
    "print('총합: ', total)\n",
    "print('평균: ', mean)"
   ]
  },
  {
   "cell_type": "code",
   "execution_count": null,
   "metadata": {},
   "outputs": [],
   "source": [
    "1부터 15까지 정수값을 요소로 가지는 리스트를 구성하고 출력하세요"
   ]
  },
  {
   "cell_type": "code",
   "execution_count": 14,
   "metadata": {},
   "outputs": [
    {
     "name": "stdout",
     "output_type": "stream",
     "text": [
      "[1, 2, 3, 4, 5, 6, 7, 8, 9, 10, 11, 12, 13, 14, 15]\n",
      "[1, 2, 3, 4, 5, 6, 7, 8, 9, 10, 11, 12, 13, 14, 15]\n"
     ]
    }
   ],
   "source": [
    "arr = []\n",
    "for i in range(1, 16):\n",
    "    arr.append(i)\n",
    "print(arr)\n",
    "\n",
    "arr =[x for x in range(1,16)]\n",
    "print (arr)"
   ]
  },
  {
   "cell_type": "code",
   "execution_count": null,
   "metadata": {},
   "outputs": [],
   "source": [
    "(369 놀이)배열에서 3의 배수의 값을 리스트에서 삭제한 후 출력하시오"
   ]
  },
  {
   "cell_type": "code",
   "execution_count": 15,
   "metadata": {},
   "outputs": [
    {
     "name": "stdout",
     "output_type": "stream",
     "text": [
      "[1, 2, 4, 5, 7, 8, 10, 11, 13, 14]\n"
     ]
    }
   ],
   "source": [
    "for v in arr:\n",
    "    if v%3 ==0:\n",
    "        arr.remove(v)\n",
    "print(arr)"
   ]
  },
  {
   "cell_type": "code",
   "execution_count": null,
   "metadata": {},
   "outputs": [],
   "source": []
  },
  {
   "cell_type": "code",
   "execution_count": 17,
   "metadata": {},
   "outputs": [
    {
     "name": "stdout",
     "output_type": "stream",
     "text": [
      "[5, 4, 14, 2, 10, 13, 7, 1, 8, 11]\n",
      "[1, 2, 4, 5, 7, 8, 10, 11, 13, 14]\n"
     ]
    }
   ],
   "source": [
    "import random\n",
    "\n",
    "random.shuffle(arr)\n",
    "print(arr)\n",
    "\n",
    "arr.sort()\n",
    "print(arr)\n"
   ]
  }
 ],
 "metadata": {
  "kernelspec": {
   "display_name": "Python 3",
   "language": "python",
   "name": "python3"
  },
  "language_info": {
   "codemirror_mode": {
    "name": "ipython",
    "version": 3
   },
   "file_extension": ".py",
   "mimetype": "text/x-python",
   "name": "python",
   "nbconvert_exporter": "python",
   "pygments_lexer": "ipython3",
   "version": "3.7.2"
  }
 },
 "nbformat": 4,
 "nbformat_minor": 2
}
