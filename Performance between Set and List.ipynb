{
 "cells": [
  {
   "cell_type": "code",
   "execution_count": 14,
   "metadata": {},
   "outputs": [],
   "source": [
    "import timeit"
   ]
  },
  {
   "cell_type": "code",
   "execution_count": 21,
   "metadata": {},
   "outputs": [
    {
     "name": "stdout",
     "output_type": "stream",
     "text": [
      "buildList ran: 30.978904340999975 milliseconds\n",
      "findList ran: 1.344825822999951 milliseconds\n"
     ]
    }
   ],
   "source": [
    "def buildList():\n",
    "    bigList = [str(i) for i in range(10000000)]\n",
    "\n",
    "def findList():\n",
    "    \"abc\" in bigList\n",
    "\n",
    "t1 = timeit.Timer(\"buildList()\", \"from __main__ import buildList\")\n",
    "print(\"buildList ran:\", t1.timeit(number=10), \"milliseconds\")\n",
    "\n",
    "t1 = timeit.Timer(\"findList()\", \"from __main__ import findList\")\n",
    "print(\"findList ran:\", t1.timeit(number=10), \"milliseconds\")"
   ]
  },
  {
   "cell_type": "code",
   "execution_count": 22,
   "metadata": {},
   "outputs": [
    {
     "name": "stdout",
     "output_type": "stream",
     "text": [
      "buildSet ran: 13.866673436999918 milliseconds\n",
      "findSet ran: 5.64200001917925e-06 milliseconds\n"
     ]
    }
   ],
   "source": [
    "def buildSet():\n",
    "   bigSet = set(bigList)\n",
    "\n",
    "def findSet():\n",
    "   \"abc\" in bigSet\n",
    "\n",
    "t1 = timeit.Timer(\"buildSet()\", \"from __main__ import buildSet\")\n",
    "print(\"buildSet ran:\", t1.timeit(number=10), \"milliseconds\")   \n",
    "t1 = timeit.Timer(\"findSet()\", \"from __main__ import findSet\")\n",
    "print(\"findSet ran:\", t1.timeit(number=10), \"milliseconds\")"
   ]
  }
 ],
 "metadata": {
  "kernelspec": {
   "display_name": "Python 3",
   "language": "python",
   "name": "python3"
  },
  "language_info": {
   "codemirror_mode": {
    "name": "ipython",
    "version": 3
   },
   "file_extension": ".py",
   "mimetype": "text/x-python",
   "name": "python",
   "nbconvert_exporter": "python",
   "pygments_lexer": "ipython3",
   "version": "3.7.2"
  }
 },
 "nbformat": 4,
 "nbformat_minor": 2
}
