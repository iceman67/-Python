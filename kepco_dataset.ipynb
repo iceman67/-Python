{
  "nbformat": 4,
  "nbformat_minor": 0,
  "metadata": {
    "colab": {
      "name": "kepco_dataset.ipynb",
      "private_outputs": true,
      "provenance": [],
      "authorship_tag": "ABX9TyPu+cB8HEpxQ++glxhwCmhc",
      "include_colab_link": true
    },
    "kernelspec": {
      "name": "python3",
      "display_name": "Python 3"
    },
    "language_info": {
      "name": "python"
    }
  },
  "cells": [
    {
      "cell_type": "markdown",
      "metadata": {
        "id": "view-in-github",
        "colab_type": "text"
      },
      "source": [
        "<a href=\"https://colab.research.google.com/github/iceman67/-Python/blob/master/kepco_dataset.ipynb\" target=\"_parent\"><img src=\"https://colab.research.google.com/assets/colab-badge.svg\" alt=\"Open In Colab\"/></a>"
      ]
    },
    {
      "cell_type": "markdown",
      "source": [
        "전력 사용 데이터셋 사용하기\n",
        "\n"
      ],
      "metadata": {
        "id": "RVY2U62skYU2"
      }
    },
    {
      "cell_type": "code",
      "execution_count": null,
      "metadata": {
        "id": "oxctcOeKc61m"
      },
      "outputs": [],
      "source": [
        "import numpy as np\n",
        "import pandas as pd\n",
        "import matplotlib.pyplot as plt\n",
        "import seaborn as sns\n",
        "from sklearn.metrics import mean_absolute_error # 정확도 평가\n",
        "import lightgbm as lgb\n",
        "import math\n",
        "\n",
        "pd.set_option('display.max_columns', 15)"
      ]
    },
    {
      "cell_type": "code",
      "source": [
        "def data_read(name): # 입력 데이터 읽기\n",
        "    df = pd.read_csv(f'{name}.csv', encoding='cp949')\n",
        "    df = df.set_index('date_time')\n",
        "    df.columns = ['num', 'pcon', 'temp', 'wind', 'humidity', 'rain', 'sunshine', 'non-elec', 'pv']\n",
        "\n",
        "    df['dt'] = df.index # index 복사\n",
        "    df['dt'] = pd.to_datetime(df['dt'], format='%Y-%m-%d %H') # datetime 변환, 복사\n",
        "\n",
        "    df['dayofweek'] = df['dt'].dt.dayofweek # 요일 추가\n",
        "    df['month'] = df['dt'].dt.month # 월 추가\n",
        "    df['hour'] = df['dt'].dt.hour # 시간\n",
        "\n",
        "    df = df.drop(['dt'], axis=1)\n",
        "    dfc = df.copy() # 메모리를 달리해서 dataframe 복사\n",
        "\n",
        "    dfc['non-elec'] = dfc['non-elec'].fillna(0) # nan을 0으로 채움\n",
        "    dfc['pv'] = dfc['pv'].fillna(0)  # nan을 0으로 채움\n",
        "    dfc.fillna(0, inplace=True) # 남아있는 Nan을 0으로 입력\n",
        "    return dfc"
      ],
      "metadata": {
        "id": "S9FbMnyUc9fi"
      },
      "execution_count": null,
      "outputs": []
    },
    {
      "cell_type": "code",
      "source": [
        "# 데이터 읽기 & 데이터 보간\n",
        "train = data_read('train-KEPCO') # 학습데이터 읽기\n",
        "train"
      ],
      "metadata": {
        "id": "XHhsUKECdV4l"
      },
      "execution_count": null,
      "outputs": []
    },
    {
      "cell_type": "code",
      "source": [
        "train_pcon_max = train['pcon'].max() # 전력소비량의 최대값\n",
        "train_pcon_min = train['pcon'].min() # 전력소비량의 최소값\n",
        "train['pcon'] = (train['pcon'] - train_pcon_min)/(train_pcon_max-train_pcon_min) # 정규화"
      ],
      "metadata": {
        "id": "9s2_1kYad-E1"
      },
      "execution_count": null,
      "outputs": []
    },
    {
      "cell_type": "code",
      "source": [
        "train.head()"
      ],
      "metadata": {
        "id": "eYvkgRd5eNUK"
      },
      "execution_count": null,
      "outputs": []
    },
    {
      "cell_type": "code",
      "source": [
        "plt.plot(train['pcon'])"
      ],
      "metadata": {
        "id": "ppKzSYEMeshi"
      },
      "execution_count": null,
      "outputs": []
    },
    {
      "cell_type": "code",
      "source": [
        "train.groupby(train['month']).mean()"
      ],
      "metadata": {
        "id": "IPODfGLUg5SM"
      },
      "execution_count": null,
      "outputs": []
    },
    {
      "cell_type": "code",
      "source": [
        "sub_train = train[ ['dayofweek', 'pcon']]\n",
        "sub_train.groupby(sub_train['dayofweek']).sum()"
      ],
      "metadata": {
        "id": "yW-pgTXXhNd0"
      },
      "execution_count": null,
      "outputs": []
    },
    {
      "cell_type": "code",
      "source": [
        "sub_train = train[ ['hour', 'pcon']]\n",
        "sub_group = sub_train.groupby(sub_train['hour']).sum()"
      ],
      "metadata": {
        "id": "_htpKoy4iAZT"
      },
      "execution_count": null,
      "outputs": []
    },
    {
      "cell_type": "code",
      "source": [
        "plt.plot(sub_train['pcon'])"
      ],
      "metadata": {
        "id": "6HSoWzzviLsu"
      },
      "execution_count": null,
      "outputs": []
    },
    {
      "cell_type": "code",
      "source": [
        "sub_group"
      ],
      "metadata": {
        "id": "p7_w24I2iviD"
      },
      "execution_count": null,
      "outputs": []
    },
    {
      "cell_type": "code",
      "source": [
        "plt.bar(sub_group.index, sub_group['pcon'])"
      ],
      "metadata": {
        "id": "TjGui0YvjpSH"
      },
      "execution_count": null,
      "outputs": []
    },
    {
      "cell_type": "code",
      "source": [
        "train_sample = train[ ['pcon', 'temp']]"
      ],
      "metadata": {
        "id": "cNrCEkGCeQYn"
      },
      "execution_count": null,
      "outputs": []
    },
    {
      "cell_type": "code",
      "source": [
        "train_sample.corr()"
      ],
      "metadata": {
        "id": "HdKJ7ImFeh9Z"
      },
      "execution_count": null,
      "outputs": []
    },
    {
      "cell_type": "code",
      "source": [
        ""
      ],
      "metadata": {
        "id": "1PzXIwfskRV0"
      },
      "execution_count": null,
      "outputs": []
    }
  ]
}