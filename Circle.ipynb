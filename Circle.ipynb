{
  "nbformat": 4,
  "nbformat_minor": 0,
  "metadata": {
    "colab": {
      "name": "Circle.ipynb",
      "provenance": [],
      "include_colab_link": true
    },
    "kernelspec": {
      "name": "python3",
      "display_name": "Python 3"
    },
    "language_info": {
      "name": "python"
    }
  },
  "cells": [
    {
      "cell_type": "markdown",
      "metadata": {
        "id": "view-in-github",
        "colab_type": "text"
      },
      "source": [
        "<a href=\"https://colab.research.google.com/github/iceman67/-Python/blob/master/Circle.ipynb\" target=\"_parent\"><img src=\"https://colab.research.google.com/assets/colab-badge.svg\" alt=\"Open In Colab\"/></a>"
      ]
    },
    {
      "cell_type": "code",
      "metadata": {
        "colab": {
          "base_uri": "https://localhost:8080/"
        },
        "id": "afgjGtchvTRo",
        "outputId": "35eec2c0-f333-4993-8b77-d1bc8092bf7f"
      },
      "source": [
        "class Circle:\n",
        "    PI = 3.14\n",
        "    def __init__(self, name, radius):\n",
        "        self.__name = name\n",
        "        self.__radius = radius\n",
        "    def __str__(self):\n",
        "        return (f'(Circle) name = {self.__name}, radius = {self.__radius}')\n",
        "    def set_name(self, name):\n",
        "        self.__name = name\n",
        "    def get_name(self):\n",
        "        return self.__name\n",
        "    def set_radius(self, radius):\n",
        "        self.__radius = radius\n",
        "    def get_radius(self):\n",
        "        return self.__radius\n",
        "    def area(self):\n",
        "        return Circle.PI * (self.__radius**2)\n",
        "\n",
        "c1 = Circle('pizza', 5)\n",
        "print(c1)\n",
        "print(f'current area is {c1.area()}')\n",
        "\n",
        "c1.set_name('ball')\n",
        "print(c1.get_name())\n",
        "\n",
        "c1.set_radius(10)\n",
        "print(c1.get_radius())\n",
        "\n",
        "print(c1)\n",
        "print(f'current area is {c1.area()}')"
      ],
      "execution_count": null,
      "outputs": [
        {
          "output_type": "stream",
          "name": "stdout",
          "text": [
            "(Circle) name = pizza, radius = 5\n",
            "current area is 78.5\n",
            "ball\n",
            "10\n",
            "(Circle) name = ball, radius = 10\n",
            "current area is 314.0\n"
          ]
        }
      ]
    }
  ]
}