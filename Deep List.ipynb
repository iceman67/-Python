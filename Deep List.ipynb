{
 "cells": [
  {
   "cell_type": "markdown",
   "source": [
    "\n",
    "### 리스트 내포(list comprehension) \n",
    "* 컬렉션을 리스트로로 변환하는 표현식을 사용한다.\n",
    "* 컬렉션을 순회하고, 컬렉션 안의 아이템을 조회한다."
   ],
   "metadata": {}
  },
  {
   "cell_type": "code",
   "execution_count": 1,
   "source": [
    "L = [1,2,3,4]\n",
    "[x for x in L]"
   ],
   "outputs": [
    {
     "output_type": "execute_result",
     "data": {
      "text/plain": [
       "[1, 2, 3, 4]"
      ]
     },
     "metadata": {},
     "execution_count": 1
    }
   ],
   "metadata": {}
  },
  {
   "cell_type": "code",
   "execution_count": 3,
   "source": [
    "[x for x in L if x >= 2]"
   ],
   "outputs": [
    {
     "output_type": "execute_result",
     "data": {
      "text/plain": [
       "[2, 3, 4]"
      ]
     },
     "metadata": {},
     "execution_count": 3
    }
   ],
   "metadata": {}
  },
  {
   "cell_type": "code",
   "execution_count": 4,
   "source": [
    "[x**2 for x in L]"
   ],
   "outputs": [
    {
     "output_type": "execute_result",
     "data": {
      "text/plain": [
       "[1, 4, 9, 16]"
      ]
     },
     "metadata": {},
     "execution_count": 4
    }
   ],
   "metadata": {}
  },
  {
   "cell_type": "markdown",
   "source": [
    "#### (실습) 리스트 컴프리핸션  \n",
    "* 등차수열의 합을 계산하기 위해 리스트를 사용할 수 있다. \n",
    "* 리스트 안에 for문을 실해해 수열 안 숫자를 요소로 저장한 후 리스트 요소의 합을 계산하는 sum 함수를 사용한다 "
   ],
   "metadata": {}
  },
  {
   "cell_type": "code",
   "execution_count": 13,
   "source": [
    "a = [i for i in range(1,101,3)]\n",
    "sum_of_a = sum(a)\n",
    "print (sum_of_a)"
   ],
   "outputs": [
    {
     "output_type": "stream",
     "name": "stdout",
     "text": [
      "1717\n"
     ]
    }
   ],
   "metadata": {}
  }
 ],
 "metadata": {
  "kernelspec": {
   "name": "python3",
   "display_name": "Python 3.8.8 64-bit ('3.8.8': pyenv)"
  },
  "language_info": {
   "codemirror_mode": {
    "name": "ipython",
    "version": 3
   },
   "file_extension": ".py",
   "mimetype": "text/x-python",
   "name": "python",
   "nbconvert_exporter": "python",
   "pygments_lexer": "ipython3",
   "version": "3.8.8"
  },
  "interpreter": {
   "hash": "8c4814d74912ecfd9e2179b28f9464fe075bcbafa71f909188684bfde9111880"
  }
 },
 "nbformat": 4,
 "nbformat_minor": 2
}